{
 "cells": [
  {
   "cell_type": "code",
   "execution_count": 3,
   "id": "d216c3a4",
   "metadata": {},
   "outputs": [
    {
     "name": "stdout",
     "output_type": "stream",
     "text": [
      "Expr\n",
      "  head: Symbol call\n",
      "  args: Array{Any}((3,))\n",
      "    1: Symbol |>\n",
      "    2: Symbol x\n",
      "    3: Symbol f\n"
     ]
    }
   ],
   "source": [
    "Meta.parse(\"x |> f\") |> Meta.dump"
   ]
  },
  {
   "cell_type": "code",
   "execution_count": null,
   "id": "1505dfc9",
   "metadata": {},
   "outputs": [],
   "source": []
  }
 ],
 "metadata": {
  "kernelspec": {
   "display_name": "pct 1.10.0",
   "language": "julia",
   "name": "pct-1.10"
  },
  "language_info": {
   "file_extension": ".jl",
   "mimetype": "application/julia",
   "name": "julia",
   "version": "1.10.0"
  }
 },
 "nbformat": 4,
 "nbformat_minor": 5
}
