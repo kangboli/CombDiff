{
 "cells": [
  {
   "cell_type": "code",
   "execution_count": 1,
   "id": "cc498dc8",
   "metadata": {
    "tags": []
   },
   "outputs": [],
   "source": [
    "using PCT\n",
    "using REPL"
   ]
  },
  {
   "cell_type": "code",
   "execution_count": 2,
   "id": "faebc5f6-0ef3-4ff0-91f1-dbaca0fbe420",
   "metadata": {
    "tags": []
   },
   "outputs": [
    {
     "data": {
      "text/plain": [
       "1-element Vector{Any}:\n",
       " pct_ast_transform (generic function with 2 methods)"
      ]
     },
     "execution_count": 2,
     "metadata": {},
     "output_type": "execute_result"
    }
   ],
   "source": [
    "activate_interactive_mode!()"
   ]
  },
  {
   "cell_type": "code",
   "execution_count": 3,
   "id": "3d43c25f",
   "metadata": {
    "tags": []
   },
   "outputs": [
    {
     "data": {
      "text/plain": [
       "#1 (generic function with 1 method)"
      ]
     },
     "execution_count": 3,
     "metadata": {},
     "output_type": "execute_result"
    }
   ],
   "source": [
    "x::R -> x + 1"
   ]
  },
  {
   "cell_type": "code",
   "execution_count": null,
   "id": "6e13f027-87e5-4547-8b0c-d04ddd1fff10",
   "metadata": {},
   "outputs": [],
   "source": [
    "let (f, PCT.interactive_context) = @pct(x::R)\n",
    "    #= /Users/likangbo/kaer_morhen/projects/QLD/PCT/src/syntax.jl:79 =#\n",
    "    process_directive(f)\n",
    "end"
   ]
  },
  {
   "cell_type": "code",
   "execution_count": 5,
   "id": "a5f9bd5f",
   "metadata": {
    "tags": []
   },
   "outputs": [
    {
     "ename": "LoadError",
     "evalue": "UndefVarError: `x` not defined",
     "output_type": "error",
     "traceback": [
      "UndefVarError: `x` not defined",
      "",
      "Stacktrace:",
      " [1] top-level scope",
      "   @ In[5]:1"
     ]
    }
   ],
   "source": []
  },
  {
   "cell_type": "code",
   "execution_count": 11,
   "id": "98190e34",
   "metadata": {},
   "outputs": [
    {
     "data": {
      "text/plain": [
       "2-element Vector{Map}:\n",
       " Map(MapType(VecType(AbstractPCTType[R(), R()]), R(), Dict{Any, Any}()), PCTVector(VecType(AbstractPCTType[R(), R()]), Var{R}[Var{R}(R(), :_z_0), Var{R}(R(), :_k_0)]), Var{R}(R(), :_k_0))\n",
       " Map(MapType(VecType(AbstractPCTType[R(), R()]), I(), Dict{Any, Any}()), PCTVector(VecType(AbstractPCTType[R(), R()]), Var{R}[Var{R}(R(), :_z_0), Var{R}(R(), :_k_0)]), Constant(I(), 0))"
      ]
     },
     "execution_count": 11,
     "metadata": {},
     "output_type": "execute_result"
    }
   ],
   "source": [
    "pp.(g)"
   ]
  },
  {
   "cell_type": "code",
   "execution_count": null,
   "id": "b1d20e9a",
   "metadata": {},
   "outputs": [],
   "source": []
  }
 ],
 "metadata": {
  "kernelspec": {
   "display_name": "pct 1.10.0",
   "language": "julia",
   "name": "pct-1.10"
  },
  "language_info": {
   "file_extension": ".jl",
   "mimetype": "application/julia",
   "name": "julia",
   "version": "1.10.0"
  }
 },
 "nbformat": 4,
 "nbformat_minor": 5
}
