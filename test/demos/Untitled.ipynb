{
 "cells": [
  {
   "cell_type": "code",
   "execution_count": 1,
   "id": "cc498dc8",
   "metadata": {},
   "outputs": [],
   "source": [
    "using PCT"
   ]
  },
  {
   "cell_type": "code",
   "execution_count": 9,
   "id": "3d43c25f",
   "metadata": {},
   "outputs": [
    {
     "data": {
      "text/plain": [
       "(Map(MapType(VecType(AbstractPCTType[R(), R()]), R(), Dict{Any, Any}()), PCTVector(VecType(AbstractPCTType[R(), R()]), Var{R}[Var{R}(R(), :x), Var{R}(R(), :y)]), Var{R}(R(), :x)), TypeContext(Dict{Symbol, Vector{<:AbstractPCTType}}(:RM => MapType[MapType(VecType(AbstractPCTType[I(), I()]), R(), Dict{Any, Any}())], :CV => MapType[MapType(VecType(AbstractPCTType[I()]), C(), Dict{Any, Any}())], :Sym => MapType[MapType(VecType(AbstractPCTType[I(), I()]), C(), Dict(:symmetries => ((1, 2), :id)))], :_ => AbstractPCTType[UndeterminedPCTType(), UndeterminedPCTType(), UndeterminedPCTType(), UndeterminedPCTType(), UndeterminedPCTType(), UndeterminedPCTType()], :RV => MapType[MapType(VecType(AbstractPCTType[I()]), R(), Dict{Any, Any}())], :CM => MapType[MapType(VecType(AbstractPCTType[I(), I()]), C(), Dict{Any, Any}())], :Her => MapType[MapType(VecType(AbstractPCTType[I(), I()]), C(), Dict(:symmetries => ((1, 2), :conj)))], :y => AbstractPCTType[], :x => AbstractPCTType[])))"
      ]
     },
     "execution_count": 9,
     "metadata": {},
     "output_type": "execute_result"
    }
   ],
   "source": [
    "f, _ = @pct (x::R, y::R) -> x"
   ]
  },
  {
   "cell_type": "code",
   "execution_count": 10,
   "id": "a5f9bd5f",
   "metadata": {},
   "outputs": [
    {
     "data": {
      "text/plain": [
       "2-element Vector{PComp}:\n",
       " x: \n",
       "\n",
       " y: ->x\n"
      ]
     },
     "execution_count": 10,
     "metadata": {},
     "output_type": "execute_result"
    }
   ],
   "source": [
    "g = decompose(f)"
   ]
  },
  {
   "cell_type": "code",
   "execution_count": 11,
   "id": "98190e34",
   "metadata": {},
   "outputs": [
    {
     "data": {
      "text/plain": [
       "2-element Vector{Map}:\n",
       " Map(MapType(VecType(AbstractPCTType[R(), R()]), R(), Dict{Any, Any}()), PCTVector(VecType(AbstractPCTType[R(), R()]), Var{R}[Var{R}(R(), :_z_0), Var{R}(R(), :_k_0)]), Var{R}(R(), :_k_0))\n",
       " Map(MapType(VecType(AbstractPCTType[R(), R()]), I(), Dict{Any, Any}()), PCTVector(VecType(AbstractPCTType[R(), R()]), Var{R}[Var{R}(R(), :_z_0), Var{R}(R(), :_k_0)]), Constant(I(), 0))"
      ]
     },
     "execution_count": 11,
     "metadata": {},
     "output_type": "execute_result"
    }
   ],
   "source": [
    "pp.(g)"
   ]
  },
  {
   "cell_type": "code",
   "execution_count": null,
   "id": "b1d20e9a",
   "metadata": {},
   "outputs": [],
   "source": []
  }
 ],
 "metadata": {
  "kernelspec": {
   "display_name": "PCT 1.9.3",
   "language": "julia",
   "name": "pct-1.9"
  },
  "language_info": {
   "file_extension": ".jl",
   "mimetype": "application/julia",
   "name": "julia",
   "version": "1.9.3"
  }
 },
 "nbformat": 4,
 "nbformat_minor": 5
}
