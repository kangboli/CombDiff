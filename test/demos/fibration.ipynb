{
 "cells": [
  {
   "cell_type": "code",
   "execution_count": 1,
   "id": "022f3687-c685-4e40-9e1d-27ac3ccc4913",
   "metadata": {},
   "outputs": [
    {
     "name": "stderr",
     "output_type": "stream",
     "text": [
      "\u001b[36m\u001b[1m[ \u001b[22m\u001b[39m\u001b[36m\u001b[1mInfo: \u001b[22m\u001b[39mPrecompiling PCT [ef708a43-c8a3-43f4-8f65-1f04ee4c5bb0]\n"
     ]
    }
   ],
   "source": [
    "using PCT"
   ]
  },
  {
   "cell_type": "code",
   "execution_count": 2,
   "id": "313626c9-ed39-4a13-8e51-c273c3dfdb7b",
   "metadata": {},
   "outputs": [
    {
     "data": {
      "text/plain": [
       "(Map(MapType(VecType(AbstractPCTType[MapType(VecType(AbstractPCTType[I(), I()]), C(), Dict(:name => :H))]), UndeterminedPCTType(), Dict{Any, Any}()), PCTVector(VecType(AbstractPCTType[MapType(VecType(AbstractPCTType[I(), I()]), C(), Dict(:name => :H))]), Var{MapType}[Var{MapType}(MapType(VecType(AbstractPCTType[I(), I()]), C(), Dict(:name => :H)), :A)]), Var{UndeterminedPCTType}(UndeterminedPCTType(), :_)), TypeContext(Dict{Symbol, Vector{<:AbstractPCTType}}(:_ => AbstractPCTType[UndeterminedPCTType()], :H => AbstractPCTType[MapType(VecType(AbstractPCTType[I(), I()]), C(), Dict(:name => :H))], :V => AbstractPCTType[MapType(VecType(AbstractPCTType[I()]), C(), Dict(:name => :V))])))"
      ]
     },
     "execution_count": 2,
     "metadata": {},
     "output_type": "execute_result"
    }
   ],
   "source": [
    "f, ctx = @pct begin\n",
    "    @space V begin\n",
    "        type=(I,)->C\n",
    "    end\n",
    "\n",
    "    @space H begin\n",
    "        type=(I,I)->C\n",
    "    end\n",
    "    (A::H) -> _\n",
    "end"
   ]
  },
  {
   "cell_type": "code",
   "execution_count": 3,
   "id": "24c6c9e3-a85b-4f53-9262-e9bc139a9399",
   "metadata": {},
   "outputs": [
    {
     "data": {
      "text/latex": [
       "$x \\to x$"
      ],
      "text/plain": [
       "(x) -> \n",
       "    x"
      ]
     },
     "execution_count": 3,
     "metadata": {},
     "output_type": "execute_result"
    }
   ],
   "source": [
    "g = fc(@pct f ctx (x::R) -> x)"
   ]
  },
  {
   "cell_type": "code",
   "execution_count": 4,
   "id": "ba55463d-571a-44b1-a040-e9c1b4091286",
   "metadata": {},
   "outputs": [
    {
     "data": {
      "text/plain": [
       "x: \n"
      ]
     },
     "execution_count": 4,
     "metadata": {},
     "output_type": "execute_result"
    }
   ],
   "source": [
    "cg = decompose(g)"
   ]
  },
  {
   "cell_type": "code",
   "execution_count": 5,
   "id": "56110626-6511-4880-88cb-9ef5528bdc33",
   "metadata": {},
   "outputs": [
    {
     "data": {
      "text/latex": [
       "$x \\to x$"
      ],
      "text/plain": [
       "(x) -> \n",
       "    x"
      ]
     },
     "execution_count": 5,
     "metadata": {},
     "output_type": "execute_result"
    }
   ],
   "source": [
    "as_map(cg)"
   ]
  },
  {
   "cell_type": "code",
   "execution_count": 6,
   "id": "687120c0-0b46-44fd-8051-cbbdfe6a4039",
   "metadata": {},
   "outputs": [
    {
     "data": {
      "text/latex": [
       "$\\left(\\_z_0, \\_k_0\\right) \\to \\_k_0$"
      ],
      "text/plain": [
       "(_z_0, _k_0) -> \n",
       "    _k_0"
      ]
     },
     "execution_count": 6,
     "metadata": {},
     "output_type": "execute_result"
    }
   ],
   "source": [
    "eval_all(pp(cg))"
   ]
  },
  {
   "cell_type": "code",
   "execution_count": 7,
   "id": "a46afb6d-478b-4812-bdb2-5feba35efc1f",
   "metadata": {},
   "outputs": [
    {
     "data": {
      "text/latex": [
       "$x \\to \\left(1+(x\\cdot x)\\right)$"
      ],
      "text/plain": [
       "(x) -> \n",
       "    (1+(x⋅x))"
      ]
     },
     "execution_count": 7,
     "metadata": {},
     "output_type": "execute_result"
    }
   ],
   "source": [
    "g = fc(@pct f ctx (x::R) -> 1 +  x*x)"
   ]
  },
  {
   "cell_type": "code",
   "execution_count": 8,
   "id": "9dc37c19-e87a-42cf-acee-6d9acd38bd9d",
   "metadata": {},
   "outputs": [
    {
     "data": {
      "text/plain": [
       "x: +1 ◀ *x\n"
      ]
     },
     "execution_count": 8,
     "metadata": {},
     "output_type": "execute_result"
    }
   ],
   "source": [
    "cg = decompose(g)"
   ]
  },
  {
   "cell_type": "code",
   "execution_count": 9,
   "id": "994378c6-e333-4d20-90c1-6f49182ab47e",
   "metadata": {},
   "outputs": [
    {
     "data": {
      "text/latex": [
       "$x \\to \\left(1+(x\\cdot x)\\right)$"
      ],
      "text/plain": [
       "(x) -> \n",
       "    (1+(x⋅x))"
      ]
     },
     "execution_count": 9,
     "metadata": {},
     "output_type": "execute_result"
    }
   ],
   "source": [
    "as_map(cg)"
   ]
  },
  {
   "cell_type": "code",
   "execution_count": 10,
   "id": "8205587a-dc38-4f77-8f33-499745a1bea3",
   "metadata": {
    "scrolled": true
   },
   "outputs": [
    {
     "data": {
      "text/latex": [
       "$\\left(\\_z_0, \\_k_0\\right) \\to \\left(\\sum_{\\_i_0}\\left[(\\_i_0\\cdot \\delta_{\\_i_0}^{x}\\_k_0)\\right]+(x\\cdot \\_k_0)\\right)$"
      ],
      "text/plain": [
       "(_z_0, _k_0) -> \n",
       "    (∑((_i_0), (_i_0⋅δ(x, _i_0, _k_0)))+(x⋅_k_0))"
      ]
     },
     "execution_count": 10,
     "metadata": {},
     "output_type": "execute_result"
    }
   ],
   "source": [
    "pp(cg)"
   ]
  },
  {
   "cell_type": "code",
   "execution_count": 11,
   "id": "9ae9563a-6bc4-447c-b043-869d6c3153a2",
   "metadata": {},
   "outputs": [
    {
     "data": {
      "text/latex": [
       "$\\left(\\_z_0, \\_k_0\\right) \\to \\left(\\sum_{\\_i_0}\\left[(\\_i_0\\cdot \\delta_{\\_i_0}^{x}\\_k_0)\\right]+(x\\cdot \\_k_0)\\right)$"
      ],
      "text/plain": [
       "(_z_0, _k_0) -> \n",
       "    (∑((_i_0), (_i_0⋅δ(x, _i_0, _k_0)))+(x⋅_k_0))"
      ]
     },
     "execution_count": 11,
     "metadata": {},
     "output_type": "execute_result"
    }
   ],
   "source": [
    "eval_all(pp(cg))"
   ]
  },
  {
   "cell_type": "code",
   "execution_count": 12,
   "id": "09148091-83ab-4f73-b960-d481d7b599c9",
   "metadata": {
    "scrolled": true
   },
   "outputs": [
    {
     "name": "stdout",
     "output_type": "stream",
     "text": [
      "  0.120741 seconds (121.96 k allocations: 8.185 MiB, 99.64% compilation time)\n",
      "1 swallow\n",
      "(∑((_i_0), (_i_0⋅δ(x, _i_0, _k_0)))+(x⋅_k_0))\n",
      "(∑((_i_0), δ(_i_0, x, (_i_0⋅_k_0)))+(x⋅_k_0))\n",
      "-->\n",
      "\n",
      "  0.016106 seconds (23.99 k allocations: 1.571 MiB, 99.70% compilation time)\n",
      "2 contract_delta\n",
      "(∑((_i_0), δ(_i_0, x, (_i_0⋅_k_0)))+(x⋅_k_0))\n",
      "(2.0⋅x⋅_k_0)\n",
      "-->\n",
      "\n",
      "  0.000001 seconds\n"
     ]
    },
    {
     "data": {
      "text/latex": [
       "$\\left(\\_z_0, \\_k_0\\right) \\to (2.0\\cdot x\\cdot \\_k_0)$"
      ],
      "text/plain": [
       "(_z_0, _k_0) -> \n",
       "    (2.0⋅x⋅_k_0)"
      ]
     },
     "execution_count": 12,
     "metadata": {},
     "output_type": "execute_result"
    }
   ],
   "source": [
    "simplify(eval_all(pp(cg))) |> first"
   ]
  },
  {
   "cell_type": "code",
   "execution_count": 13,
   "id": "b6046c46-507f-4c5d-bd7b-16c2bb1d4185",
   "metadata": {},
   "outputs": [
    {
     "data": {
      "text/latex": [
       "$x \\to \\sum_{i}\\left[x_{i}\\right]$"
      ],
      "text/plain": [
       "(x) -> \n",
       "    ∑((i), x(i))"
      ]
     },
     "execution_count": 13,
     "metadata": {},
     "output_type": "execute_result"
    }
   ],
   "source": [
    "g = fc(@pct f ctx (x::V) -> sum(i, x(i)))"
   ]
  },
  {
   "cell_type": "code",
   "execution_count": 14,
   "id": "15591f88-ccb3-4485-b9b6-f23ff1d7ee47",
   "metadata": {},
   "outputs": [
    {
     "data": {
      "text/plain": [
       "x: ∑i ◀ {i ⇥ x: ℳ x ◀ ->i}\n"
      ]
     },
     "execution_count": 14,
     "metadata": {},
     "output_type": "execute_result"
    }
   ],
   "source": [
    "cg = decompose(g)"
   ]
  },
  {
   "cell_type": "code",
   "execution_count": 15,
   "id": "0d141846-6b1e-426f-a7b2-2af121fa063b",
   "metadata": {},
   "outputs": [
    {
     "data": {
      "text/latex": [
       "$x \\to \\sum_{i}\\left[x_{i}\\right]$"
      ],
      "text/plain": [
       "(x) -> \n",
       "    ∑((i), x(i))"
      ]
     },
     "execution_count": 15,
     "metadata": {},
     "output_type": "execute_result"
    }
   ],
   "source": [
    "eval_all(as_map(cg))"
   ]
  },
  {
   "cell_type": "code",
   "execution_count": 16,
   "id": "ac3affd0-0eeb-4580-97e6-d693f220e115",
   "metadata": {},
   "outputs": [
    {
     "data": {
      "text/latex": [
       "$\\left(\\_z_0, \\_k_0\\right) \\to \\_i_0 \\to \\sum_{i}\\left[\\delta_{\\_i_0}^{i}\\_k_0\\right]$"
      ],
      "text/plain": [
       "(_z_0, _k_0) -> \n",
       "    (_i_0) -> \n",
       "        ∑((i), δ(i, _i_0, _k_0))"
      ]
     },
     "execution_count": 16,
     "metadata": {},
     "output_type": "execute_result"
    }
   ],
   "source": [
    "pp(cg)"
   ]
  },
  {
   "cell_type": "code",
   "execution_count": 17,
   "id": "3aa5145a-ce7c-4ea1-8b43-fb99955e190e",
   "metadata": {},
   "outputs": [
    {
     "name": "stdout",
     "output_type": "stream",
     "text": [
      "  0.012805 seconds (28.82 k allocations: 1.904 MiB, 99.64% compilation time)\n",
      "1 contract_delta\n",
      "∑((i), δ(i, _i_0, _k_0))\n",
      "_k_0\n",
      "-->\n",
      "\n",
      "  0.000000 seconds\n"
     ]
    },
    {
     "data": {
      "text/latex": [
       "$\\left(\\_z_0, \\_k_0\\right) \\to \\_i_0 \\to \\_k_0$"
      ],
      "text/plain": [
       "(_z_0, _k_0) -> \n",
       "    (_i_0) -> \n",
       "        _k_0"
      ]
     },
     "execution_count": 17,
     "metadata": {},
     "output_type": "execute_result"
    }
   ],
   "source": [
    "simplify(pp(cg)) |> first"
   ]
  },
  {
   "cell_type": "code",
   "execution_count": 18,
   "id": "4fa2dbf5-2b1a-43cb-a713-ce5970ca072b",
   "metadata": {},
   "outputs": [
    {
     "data": {
      "text/latex": [
       "$x \\to \\sum_{i}\\left[(x_{i}^*\\cdot x_{i})\\right]$"
      ],
      "text/plain": [
       "(x) -> \n",
       "    ∑((i), (x(i)'⋅x(i)))"
      ]
     },
     "execution_count": 18,
     "metadata": {},
     "output_type": "execute_result"
    }
   ],
   "source": [
    "g = fc(@pct f ctx (x::V) -> sum(i, x(i)' * x(i)))"
   ]
  },
  {
   "cell_type": "code",
   "execution_count": 19,
   "id": "bd0ea87d-ba42-445f-b717-3e6d9a977c44",
   "metadata": {},
   "outputs": [
    {
     "data": {
      "text/plain": [
       "x: ∑i ◀ {i ⇥ x: *x(i) ◀ † ◀ ℳ x ◀ ->i}\n"
      ]
     },
     "execution_count": 19,
     "metadata": {},
     "output_type": "execute_result"
    }
   ],
   "source": [
    "cg = decompose(g)"
   ]
  },
  {
   "cell_type": "code",
   "execution_count": 20,
   "id": "9c38ec0d-be45-43e2-a8b9-4221bebec2b3",
   "metadata": {},
   "outputs": [
    {
     "data": {
      "text/latex": [
       "$x \\to \\sum_{i}\\left[(x_{i}^*\\cdot x_{i})\\right]$"
      ],
      "text/plain": [
       "(x) -> \n",
       "    ∑((i), (x(i)'⋅x(i)))"
      ]
     },
     "execution_count": 20,
     "metadata": {},
     "output_type": "execute_result"
    }
   ],
   "source": [
    "eval_all(as_map(cg))"
   ]
  },
  {
   "cell_type": "code",
   "execution_count": 21,
   "id": "e2c57b03-0a1f-43b4-8484-710ca5663c75",
   "metadata": {
    "scrolled": true
   },
   "outputs": [
    {
     "data": {
      "text/latex": [
       "$\\left(\\_z_0, \\_k_0\\right) \\to \\_i_1 \\to \\sum_{i}\\left[\\left(\\delta_{\\_i_1}^{i}(\\_k_0^*\\cdot x_{i})+\\sum_{\\_i_3}\\left[\\delta_{\\_i_1}^{i}(\\_i_3^*\\cdot \\delta_{\\_i_3}^{x_{i}^*}\\_k_0)\\right]\\right)\\right]$"
      ],
      "text/plain": [
       "(_z_0, _k_0) -> \n",
       "    (_i_1) -> \n",
       "        ∑((i), (δ(i, _i_1, (_k_0'⋅x(i)))+∑((_i_3), δ(i, _i_1, (_i_3'⋅δ(x(i)', _i_3, _k_0))))))"
      ]
     },
     "execution_count": 21,
     "metadata": {},
     "output_type": "execute_result"
    }
   ],
   "source": [
    "pp(cg)"
   ]
  },
  {
   "cell_type": "code",
   "execution_count": 22,
   "id": "43562b23-21af-4325-8041-70009be64fc8",
   "metadata": {
    "scrolled": true
   },
   "outputs": [
    {
     "name": "stdout",
     "output_type": "stream",
     "text": [
      "  0.111643 seconds (263.92 k allocations: 17.913 MiB, 6.57% gc time, 98.92% compilation time)\n",
      "1 sum_dist\n",
      "∑((i), (δ(i, _i_1, (_k_0'⋅x(i)))+∑((_i_3), δ(i, _i_1, (_i_3'⋅δ(x(i)', _i_3, _k_0))))))\n",
      "(∑((i), δ(i, _i_1, (_k_0'⋅x(i))))+∑((i, _i_3), δ(i, _i_1, (_i_3'⋅δ(x(i)', _i_3, _k_0)))))\n",
      "-->\n",
      "\n",
      "  0.018354 seconds (79.01 k allocations: 5.265 MiB, 97.23% compilation time)\n",
      "2 contract_delta\n",
      "(∑((i), δ(i, _i_1, (_k_0'⋅x(i))))+∑((i, _i_3), δ(i, _i_1, (_i_3'⋅δ(x(i)', _i_3, _k_0)))))\n",
      "(∑((i, _i_3), δ(i, _i_1, (_i_3'⋅δ(x(i)', _i_3, _k_0))))+(_k_0'⋅x(_i_1)))\n",
      "-->\n",
      "\n",
      "  0.000316 seconds (3.60 k allocations: 114.375 KiB)\n",
      "3 contract_delta\n",
      "(∑((i, _i_3), δ(i, _i_1, (_i_3'⋅δ(x(i)', _i_3, _k_0))))+(_k_0'⋅x(_i_1)))\n",
      "(∑((_i_3), (_i_3'⋅δ(x(_i_1)', _i_3, _k_0)))+(_k_0'⋅x(_i_1)))\n",
      "-->\n",
      "\n",
      "  0.000198 seconds (2.20 k allocations: 69.156 KiB)\n",
      "4 swallow\n",
      "(∑((_i_3), (_i_3'⋅δ(x(_i_1)', _i_3, _k_0)))+(_k_0'⋅x(_i_1)))\n",
      "(∑((_i_3), δ(_i_3, x(_i_1)', (_i_3'⋅_k_0)))+(_k_0'⋅x(_i_1)))\n",
      "-->\n",
      "\n",
      "  0.010656 seconds (35.78 k allocations: 2.446 MiB, 99.29% compilation time)\n",
      "5 contract_delta\n",
      "(∑((_i_3), δ(_i_3, x(_i_1)', (_i_3'⋅_k_0)))+(_k_0'⋅x(_i_1)))\n",
      "((_k_0'⋅x(_i_1))+(_k_0⋅x(_i_1)))\n",
      "-->\n",
      "\n",
      "  0.000098 seconds (462 allocations: 31.156 KiB, 72.03% compilation time)\n",
      "6 gcd\n",
      "((_k_0'⋅x(_i_1))+(_k_0⋅x(_i_1)))\n",
      "((_k_0'+_k_0)⋅x(_i_1))\n",
      "-->\n",
      "\n",
      "  0.000001 seconds\n"
     ]
    },
    {
     "data": {
      "text/latex": [
       "$\\left(\\_z_0, \\_k_0\\right) \\to \\_i_1 \\to (\\left(\\_k_0^*+\\_k_0\\right)\\cdot x_{\\_i_1})$"
      ],
      "text/plain": [
       "(_z_0, _k_0) -> \n",
       "    (_i_1) -> \n",
       "        ((_k_0'+_k_0)⋅x(_i_1))"
      ]
     },
     "execution_count": 22,
     "metadata": {},
     "output_type": "execute_result"
    }
   ],
   "source": [
    "simplify(eval_all(pp(cg))) |> first"
   ]
  },
  {
   "cell_type": "code",
   "execution_count": 23,
   "id": "b50fe80a-de56-4b02-8617-4c1cecdaa036",
   "metadata": {},
   "outputs": [
    {
     "data": {
      "text/latex": [
       "$x \\to (x^*\\cdot x)$"
      ],
      "text/plain": [
       "(x) -> \n",
       "    (x'⋅x)"
      ]
     },
     "execution_count": 23,
     "metadata": {},
     "output_type": "execute_result"
    }
   ],
   "source": [
    "g = fc(@pct f ctx (x::C) -> x' * x)"
   ]
  },
  {
   "cell_type": "code",
   "execution_count": 24,
   "id": "d0ac56f8-cde6-4dab-87f9-55c3d51d1050",
   "metadata": {},
   "outputs": [
    {
     "data": {
      "text/plain": [
       "x: *x ◀ †\n"
      ]
     },
     "execution_count": 24,
     "metadata": {},
     "output_type": "execute_result"
    }
   ],
   "source": [
    "cg = decompose(g)"
   ]
  },
  {
   "cell_type": "code",
   "execution_count": 25,
   "id": "b9a94ddd-4602-48aa-a289-010047d6277c",
   "metadata": {},
   "outputs": [
    {
     "data": {
      "text/latex": [
       "$\\left(\\_z_0, \\_k_0\\right) \\to \\left(\\sum_{\\_i_0}\\left[(\\_i_0^*\\cdot \\delta_{\\_i_0}^{x^*}\\_k_0)\\right]+(\\_k_0^*\\cdot x)\\right)$"
      ],
      "text/plain": [
       "(_z_0, _k_0) -> \n",
       "    (∑((_i_0), (_i_0'⋅δ(x', _i_0, _k_0)))+(_k_0'⋅x))"
      ]
     },
     "execution_count": 25,
     "metadata": {},
     "output_type": "execute_result"
    }
   ],
   "source": [
    "pp(cg)"
   ]
  },
  {
   "cell_type": "code",
   "execution_count": 28,
   "id": "92708cd0-2f8a-41bd-8413-5da27eb0c653",
   "metadata": {
    "scrolled": true
   },
   "outputs": [
    {
     "name": "stdout",
     "output_type": "stream",
     "text": [
      "  0.000120 seconds (950 allocations: 30.109 KiB)\n",
      "1 swallow\n",
      "(∑((_i_0), (_i_0'⋅δ(x', _i_0, _k_0)))+(_k_0'⋅x))\n",
      "(∑((_i_0), δ(_i_0, x', (_i_0'⋅_k_0)))+(_k_0'⋅x))\n",
      "-->\n",
      "\n",
      "  0.000014 seconds (8 allocations: 320 bytes)\n",
      "2 contract_delta\n",
      "(∑((_i_0), δ(_i_0, x', (_i_0'⋅_k_0)))+(_k_0'⋅x))\n",
      "((_k_0'⋅x)+(x⋅_k_0))\n",
      "-->\n",
      "\n",
      "  0.000007 seconds (6 allocations: 256 bytes)\n",
      "3 gcd\n",
      "((_k_0'⋅x)+(x⋅_k_0))\n",
      "(x⋅(_k_0'+_k_0))\n",
      "-->\n",
      "\n",
      "  0.000000 seconds\n"
     ]
    },
    {
     "data": {
      "text/latex": [
       "$\\left(\\_z_0, \\_k_0\\right) \\to (x\\cdot \\left(\\_k_0^*+\\_k_0\\right))$"
      ],
      "text/plain": [
       "(_z_0, _k_0) -> \n",
       "    (x⋅(_k_0'+_k_0))"
      ]
     },
     "execution_count": 28,
     "metadata": {},
     "output_type": "execute_result"
    }
   ],
   "source": [
    "simplify(pp(cg); settings=symmetry_settings) |> first"
   ]
  },
  {
   "cell_type": "code",
   "execution_count": null,
   "id": "0e526fb4-3d40-4fcd-99ed-f940ed07581c",
   "metadata": {},
   "outputs": [],
   "source": []
  }
 ],
 "metadata": {
  "kernelspec": {
   "display_name": "PCT 1.9.3",
   "language": "julia",
   "name": "pct-1.9"
  },
  "language_info": {
   "file_extension": ".jl",
   "mimetype": "application/julia",
   "name": "julia",
   "version": "1.9.3"
  }
 },
 "nbformat": 4,
 "nbformat_minor": 5
}
