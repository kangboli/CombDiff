{
 "cells": [
  {
   "cell_type": "code",
   "execution_count": 1,
   "id": "022f3687-c685-4e40-9e1d-27ac3ccc4913",
   "metadata": {},
   "outputs": [
    {
     "name": "stderr",
     "output_type": "stream",
     "text": [
      "\u001b[36m\u001b[1m[ \u001b[22m\u001b[39m\u001b[36m\u001b[1mInfo: \u001b[22m\u001b[39mPrecompiling PCT [ef708a43-c8a3-43f4-8f65-1f04ee4c5bb0]\n"
     ]
    }
   ],
   "source": [
    "using PCT"
   ]
  },
  {
   "cell_type": "markdown",
   "id": "9df936c3-fbed-4c15-96ec-32e75cff1428",
   "metadata": {},
   "source": [
    "Define the function in a functional DSL."
   ]
  },
  {
   "cell_type": "code",
   "execution_count": 2,
   "id": "d1d5493e-860d-47ef-bed7-a690bb3dbca8",
   "metadata": {},
   "outputs": [
    {
     "data": {
      "text/latex": [
       "$x \\to \\sum_{i}\\left[x_{i}\\right]$"
      ],
      "text/plain": [
       "(x) -> \n",
       "    ∑((i), x(i))"
      ]
     },
     "execution_count": 2,
     "metadata": {},
     "output_type": "execute_result"
    }
   ],
   "source": [
    "f, _ = @pct (x::RV) -> ∑(i, x(i))\n",
    "f"
   ]
  },
  {
   "cell_type": "markdown",
   "id": "7f607af8-9093-4134-b78b-26dd2ab04a3b",
   "metadata": {},
   "source": [
    "Decompose into primitives through *fibration*."
   ]
  },
  {
   "cell_type": "code",
   "execution_count": 3,
   "id": "ba55463d-571a-44b1-a040-e9c1b4091286",
   "metadata": {},
   "outputs": [
    {
     "data": {
      "text/plain": [
       "x: ∑i ◀ {i ⇥ x: ℳ x ◀ ->i}\n"
      ]
     },
     "execution_count": 3,
     "metadata": {},
     "output_type": "execute_result"
    }
   ],
   "source": [
    "cf = decompose(f)"
   ]
  },
  {
   "cell_type": "markdown",
   "id": "6ea52971-1015-4820-bc91-8696c484586e",
   "metadata": {},
   "source": [
    "Get the (code for the) pullback through *partial chain*."
   ]
  },
  {
   "cell_type": "code",
   "execution_count": 4,
   "id": "687120c0-0b46-44fd-8051-cbbdfe6a4039",
   "metadata": {},
   "outputs": [
    {
     "data": {
      "text/latex": [
       "$\\left(\\_z_0, \\_k_0\\right) \\to \\_i_0 \\to \\sum_{i}\\left[\\delta_{\\_i_0}^{i}\\_k_0\\right]$"
      ],
      "text/plain": [
       "(_z_0, _k_0) -> \n",
       "    (_i_0) -> \n",
       "        ∑((i), δ(i, _i_0, _k_0))"
      ]
     },
     "execution_count": 4,
     "metadata": {},
     "output_type": "execute_result"
    }
   ],
   "source": [
    "df = pp(cf)"
   ]
  },
  {
   "cell_type": "markdown",
   "id": "4d98e3fe-6d7f-4842-ab56-7132da19ef58",
   "metadata": {},
   "source": [
    "Get the gradient by setting $k_0 = 1$."
   ]
  },
  {
   "cell_type": "code",
   "execution_count": 5,
   "id": "19ba9128-7b64-42cb-b5d2-5a6fd9da2a88",
   "metadata": {
    "tags": []
   },
   "outputs": [
    {
     "data": {
      "text/latex": [
       "$\\_i_0 \\to \\sum_{i}\\left[\\delta_{\\_i_0}^{i}1\\right]$"
      ],
      "text/plain": [
       "(_i_0) -> \n",
       "    ∑((i), δ(i, _i_0, 1))"
      ]
     },
     "execution_count": 5,
     "metadata": {},
     "output_type": "execute_result"
    }
   ],
   "source": [
    "df = df |> eval_all |> propagate_k"
   ]
  },
  {
   "cell_type": "markdown",
   "id": "b609a234-e4ee-473b-aadf-faeeafecee93",
   "metadata": {},
   "source": [
    "Simplify using compiler optimization (equivalence graph)."
   ]
  },
  {
   "cell_type": "code",
   "execution_count": 6,
   "id": "044392ff-5ea0-4a9e-8a5a-ed8b5ea36354",
   "metadata": {
    "tags": []
   },
   "outputs": [
    {
     "name": "stdout",
     "output_type": "stream",
     "text": [
      "  0.013353 seconds (25.59 k allocations: 1.682 MiB, 99.66% compilation time)\n",
      "1 contract_delta\n",
      "∑((i), δ(i, _i_0, 1))\n",
      "1\n",
      "-->\n",
      "\n",
      "  0.000000 seconds\n"
     ]
    },
    {
     "data": {
      "text/latex": [
       "$\\_i_0 \\to 1$"
      ],
      "text/plain": [
       "(_i_0) -> \n",
       "    1"
      ]
     },
     "execution_count": 6,
     "metadata": {},
     "output_type": "execute_result"
    }
   ],
   "source": [
    "simplify(df) |> first"
   ]
  },
  {
   "cell_type": "markdown",
   "id": "7af2006e-1c1e-4b7e-873d-f492693dd282",
   "metadata": {},
   "source": [
    "## Example: Hartree Fock"
   ]
  },
  {
   "cell_type": "markdown",
   "id": "8bbc0e3b-eb90-4ac7-b3bb-0604bb288699",
   "metadata": {},
   "source": [
    "Variables have types that encodes the *dimension* and the *symmetries* of the tensor.\n",
    "\n",
    "Constants are introduced as variables in the outer scope."
   ]
  },
  {
   "cell_type": "code",
   "execution_count": 7,
   "id": "fcc90266-979b-44d3-89a8-9b212800dc7e",
   "metadata": {
    "tags": []
   },
   "outputs": [
    {
     "data": {
      "text/latex": [
       "$J \\to \\_$"
      ],
      "text/plain": [
       "(J) -> \n",
       "    _"
      ]
     },
     "execution_count": 7,
     "metadata": {},
     "output_type": "execute_result"
    }
   ],
   "source": [
    "f, ctx = @pct begin    \n",
    "    @space T begin\n",
    "        type = (I, I, I, I) -> C\n",
    "        symmetries = (((2, 1, 4, 3), :conj), ((3, 4, 1, 2), :id))\n",
    "    end\n",
    "    (J::T) -> _\n",
    "end\n",
    "f"
   ]
  },
  {
   "cell_type": "markdown",
   "id": "ba2fc793-8f9f-41d2-8cd3-9f96cf79c57b",
   "metadata": {},
   "source": [
    "The ERI contraction."
   ]
  },
  {
   "cell_type": "code",
   "execution_count": 8,
   "id": "a46afb6d-478b-4812-bdb2-5feba35efc1f",
   "metadata": {},
   "outputs": [
    {
     "data": {
      "text/latex": [
       "$C \\to \\sum_{i, j, p, q, r, s}\\left[(J_{p, q, r, s}\\cdot C_{s, j}\\cdot C_{q, i}\\cdot C_{p, i}^*\\cdot C_{r, j}^*)\\right]$"
      ],
      "text/plain": [
       "(C) -> \n",
       "    ∑((i, j, p, q, r, s), (J(p, q, r, s)⋅C(s, j)⋅C(q, i)⋅C(p, i)'⋅C(r, j)'))"
      ]
     },
     "execution_count": 8,
     "metadata": {},
     "output_type": "execute_result"
    }
   ],
   "source": [
    "g = fc(@pct f ctx (C::CM) -> sum((i, j, p, q, r, s),\n",
    "    C(p, i)' * C(q, i) * C(r, j)' * C(s, j) * J(p, q, r, s))) "
   ]
  },
  {
   "cell_type": "markdown",
   "id": "0e776469-8574-4b99-a26c-f4abbbc5c3ce",
   "metadata": {},
   "source": [
    "Decompose into the fibers.  "
   ]
  },
  {
   "cell_type": "code",
   "execution_count": 9,
   "id": "9dc37c19-e87a-42cf-acee-6d9acd38bd9d",
   "metadata": {},
   "outputs": [
    {
     "data": {
      "text/plain": [
       "C: ∑ijpqrs ◀ {i, j, p, q, r, s ⇥ C: *(J(p, q, r, s)⋅C(q, i)⋅C(p, i)'⋅C(r, j)') ◀ ℳ C ◀ C: ->s|C: ->j}\n"
      ]
     },
     "execution_count": 9,
     "metadata": {},
     "output_type": "execute_result"
    }
   ],
   "source": [
    "cg = decompose(g)"
   ]
  },
  {
   "cell_type": "code",
   "execution_count": 10,
   "id": "4d64ffba-ba3b-4b21-85e2-ec2adc064fe6",
   "metadata": {
    "tags": []
   },
   "outputs": [
    {
     "data": {
      "text/latex": [
       "$\\left(\\_z_0, \\_k_0\\right) \\to \\left(\\_i_2, \\_i_7\\right) \\to \\sum_{i, j, p, q, r, s}\\left[\\left(\\delta_{\\_i_7}^{j}\\delta_{\\_i_2}^{s}(C_{p, i}\\cdot C_{r, j}\\cdot J_{p, q, r, s}^*\\cdot C_{q, i}^*\\cdot \\_k_0)+\\sum_{\\_i_3}\\left[\\left(\\delta_{\\_i_7}^{i}\\delta_{\\_i_2}^{q}(\\delta_{\\_i_3}^{C_{s, j}}\\_k_0\\cdot C_{p, i}\\cdot C_{r, j}\\cdot J_{p, q, r, s}^*\\cdot \\_i_3^*)+\\sum_{\\_i_0}\\left[\\left(\\delta_{\\_i_7}^{i}\\delta_{\\_i_2}^{p}(\\delta_{C_{q, i}}^{\\_i_0}\\delta_{C_{s, j}}^{\\_i_3}\\_k_0^*\\cdot J_{p, q, r, s}\\cdot C_{r, j}^*\\cdot \\_i_0\\cdot \\_i_3)+\\sum_{\\_i_4}\\left[\\delta_{\\_i_7}^{j}\\delta_{\\_i_2}^{r}(\\delta_{C_{p, i}^*}^{\\_i_4}\\delta_{C_{q, i}}^{\\_i_0}\\delta_{C_{s, j}}^{\\_i_3}\\_k_0^*\\cdot J_{p, q, r, s}\\cdot \\_i_0\\cdot \\_i_3\\cdot \\_i_4)\\right]\\right)\\right]\\right)\\right]\\right)\\right]$"
      ],
      "text/plain": [
       "(_z_0, _k_0) -> \n",
       "    (_i_2, _i_7) -> \n",
       "        ∑((i, j, p, q, r, s), (δ(j, _i_7, δ(s, _i_2, (C(p, i)⋅C(r, j)⋅J(p, q, r, s)'⋅C(q, i)'⋅_k_0)))+∑((_i_3), (δ(i, _i_7, δ(q, _i_2, (δ(C(s, j), _i_3, _k_0)⋅C(p, i)⋅C(r, j)⋅J(p, q, r, s)'⋅_i_3')))+∑((_i_0), (δ(i, _i_7, δ(p, _i_2, (δ(_i_0, C(q, i), δ(_i_3, C(s, j), _k_0'))⋅J(p, q, r, s)⋅C(r, j)'⋅_i_0⋅_i_3)))+∑((_i_4), δ(j, _i_7, δ(r, _i_2, (δ(_i_4, C(p, i)', δ(_i_0, C(q, i), δ(_i_3, C(s, j), _k_0')))⋅J(p, q, r, s)⋅_i_0⋅_i_3⋅_i_4))))))))))"
      ]
     },
     "execution_count": 10,
     "metadata": {},
     "output_type": "execute_result"
    }
   ],
   "source": [
    "dg = pp(cg)"
   ]
  },
  {
   "cell_type": "markdown",
   "id": "58916456-5d1a-4114-b4b3-fccc66ecb0b6",
   "metadata": {},
   "source": [
    "Take the pullback. This really needs simplification"
   ]
  },
  {
   "cell_type": "markdown",
   "id": "079f4055-c892-4264-a4c0-a5cf3da9a54c",
   "metadata": {},
   "source": [
    "Get the gradient by setting $k = 1$."
   ]
  },
  {
   "cell_type": "code",
   "execution_count": 11,
   "id": "9ae9563a-6bc4-447c-b043-869d6c3153a2",
   "metadata": {},
   "outputs": [
    {
     "data": {
      "text/latex": [
       "$\\left(\\_i_2, \\_i_7\\right) \\to \\sum_{i, j, p, q, r, s}\\left[\\left(\\delta_{\\_i_7}^{j}\\delta_{\\_i_2}^{s}(C_{p, i}\\cdot C_{r, j}\\cdot J_{p, q, r, s}^*\\cdot C_{q, i}^*)+\\sum_{\\_i_3}\\left[\\left(\\delta_{\\_i_7}^{i}\\delta_{\\_i_2}^{q}(\\delta_{\\_i_3}^{C_{s, j}}1\\cdot C_{p, i}\\cdot C_{r, j}\\cdot J_{p, q, r, s}^*\\cdot \\_i_3^*)+\\sum_{\\_i_0}\\left[\\left(\\delta_{\\_i_7}^{i}\\delta_{\\_i_2}^{p}(\\delta_{C_{q, i}}^{\\_i_0}\\delta_{C_{s, j}}^{\\_i_3}1\\cdot J_{p, q, r, s}\\cdot C_{r, j}^*\\cdot \\_i_0\\cdot \\_i_3)+\\sum_{\\_i_4}\\left[\\delta_{\\_i_7}^{j}\\delta_{\\_i_2}^{r}(\\delta_{C_{p, i}^*}^{\\_i_4}\\delta_{C_{q, i}}^{\\_i_0}\\delta_{C_{s, j}}^{\\_i_3}1\\cdot J_{p, q, r, s}\\cdot \\_i_0\\cdot \\_i_3\\cdot \\_i_4)\\right]\\right)\\right]\\right)\\right]\\right)\\right]$"
      ],
      "text/plain": [
       "(_i_2, _i_7) -> \n",
       "    ∑((i, j, p, q, r, s), (δ(j, _i_7, δ(s, _i_2, (C(p, i)⋅C(r, j)⋅J(p, q, r, s)'⋅C(q, i)')))+∑((_i_3), (δ(i, _i_7, δ(q, _i_2, (δ(C(s, j), _i_3, 1)⋅C(p, i)⋅C(r, j)⋅J(p, q, r, s)'⋅_i_3')))+∑((_i_0), (δ(i, _i_7, δ(p, _i_2, (δ(_i_0, C(q, i), δ(_i_3, C(s, j), 1))⋅J(p, q, r, s)⋅C(r, j)'⋅_i_0⋅_i_3)))+∑((_i_4), δ(j, _i_7, δ(r, _i_2, (δ(_i_4, C(p, i)', δ(_i_0, C(q, i), δ(_i_3, C(s, j), 1)))⋅J(p, q, r, s)⋅_i_0⋅_i_3⋅_i_4))))))))))"
      ]
     },
     "execution_count": 11,
     "metadata": {},
     "output_type": "execute_result"
    }
   ],
   "source": [
    "dg = dg |> eval_all |> propagate_k"
   ]
  },
  {
   "cell_type": "code",
   "execution_count": 12,
   "id": "09148091-83ab-4f73-b960-d481d7b599c9",
   "metadata": {
    "scrolled": true,
    "tags": []
   },
   "outputs": [
    {
     "name": "stdout",
     "output_type": "stream",
     "text": [
      "  0.334155 seconds (736.09 k allocations: 39.812 MiB, 77.02% compilation time)\n",
      "1 sum_dist\n",
      "∑((i, j, p, q, r, s), (δ(j, _i_7, δ(s, _i_2, (C(p, i)⋅C(r, j)⋅J(p, q, r, s)'⋅C(q, i)')))+∑((_i_3), (δ(i, _i_7, δ(q, _i_2, (δ(C(s, j), _i_3, 1)⋅C(p, i)⋅C(r, j)⋅J(p, q, r, s)'⋅_i_3')))+∑((_i_0), (δ(i, _i_7, δ(p, _i_2, (δ(_i_0, C(q, i), δ(_i_3, C(s, j), 1))⋅J(p, q, r, s)⋅C(r, j)'⋅_i_0⋅_i_3)))+∑((_i_4), δ(j, _i_7, δ(r, _i_2, (δ(_i_4, C(p, i)', δ(_i_0, C(q, i), δ(_i_3, C(s, j), 1)))⋅J(p, q, r, s)⋅_i_0⋅_i_3⋅_i_4))))))))))\n",
      "(∑((i, j, p, q, r, s), δ(j, _i_7, δ(s, _i_2, (C(p, i)⋅C(r, j)⋅J(p, q, r, s)'⋅C(q, i)'))))+∑((i, j, p, q, r, s, _i_3), (δ(i, _i_7, δ(q, _i_2, (δ(C(s, j), _i_3, 1)⋅C(p, i)⋅C(r, j)⋅J(p, q, r, s)'⋅_i_3')))+∑((_i_0), (δ(i, _i_7, δ(p, _i_2, (δ(_i_0, C(q, i), δ(_i_3, C(s, j), 1))⋅J(p, q, r, s)⋅C(r, j)'⋅_i_0⋅_i_3)))+∑((_i_4), δ(j, _i_7, δ(r, _i_2, (δ(_i_4, C(p, i)', δ(_i_0, C(q, i), δ(_i_3, C(s, j), 1)))⋅J(p, q, r, s)⋅_i_0⋅_i_3⋅_i_4)))))))))\n",
      "-->\n",
      "\n",
      "  0.034677 seconds (195.48 k allocations: 8.229 MiB, 34.35% compilation time)\n",
      "2 contract_delta\n",
      "(∑((i, j, p, q, r, s), δ(j, _i_7, δ(s, _i_2, (C(p, i)⋅C(r, j)⋅J(p, q, r, s)'⋅C(q, i)'))))+∑((i, j, p, q, r, s, _i_3), (δ(i, _i_7, δ(q, _i_2, (δ(C(s, j), _i_3, 1)⋅C(p, i)⋅C(r, j)⋅J(p, q, r, s)'⋅_i_3')))+∑((_i_0), (δ(i, _i_7, δ(p, _i_2, (δ(_i_0, C(q, i), δ(_i_3, C(s, j), 1))⋅J(p, q, r, s)⋅C(r, j)'⋅_i_0⋅_i_3)))+∑((_i_4), δ(j, _i_7, δ(r, _i_2, (δ(_i_4, C(p, i)', δ(_i_0, C(q, i), δ(_i_3, C(s, j), 1)))⋅J(p, q, r, s)⋅_i_0⋅_i_3⋅_i_4)))))))))\n",
      "(∑((i, p, q, r, s), δ(s, _i_2, (C(p, i)⋅C(r, _i_7)⋅J(p, q, r, s)'⋅C(q, i)')))+∑((i, j, p, q, r, s, _i_3), (δ(i, _i_7, δ(q, _i_2, (δ(C(s, j), _i_3, 1)⋅C(p, i)⋅C(r, j)⋅J(p, q, r, s)'⋅_i_3')))+∑((_i_0), (δ(i, _i_7, δ(p, _i_2, (δ(_i_0, C(q, i), δ(_i_3, C(s, j), 1))⋅J(p, q, r, s)⋅C(r, j)'⋅_i_0⋅_i_3)))+∑((_i_4), δ(j, _i_7, δ(r, _i_2, (δ(_i_4, C(p, i)', δ(_i_0, C(q, i), δ(_i_3, C(s, j), 1)))⋅J(p, q, r, s)⋅_i_0⋅_i_3⋅_i_4)))))))))\n",
      "-->\n",
      "\n",
      "  0.022028 seconds (155.43 k allocations: 5.618 MiB)\n",
      "3 contract_delta\n",
      "(∑((i, p, q, r, s), δ(s, _i_2, (C(p, i)⋅C(r, _i_7)⋅J(p, q, r, s)'⋅C(q, i)')))+∑((i, j, p, q, r, s, _i_3), (δ(i, _i_7, δ(q, _i_2, (δ(C(s, j), _i_3, 1)⋅C(p, i)⋅C(r, j)⋅J(p, q, r, s)'⋅_i_3')))+∑((_i_0), (δ(i, _i_7, δ(p, _i_2, (δ(_i_0, C(q, i), δ(_i_3, C(s, j), 1))⋅J(p, q, r, s)⋅C(r, j)'⋅_i_0⋅_i_3)))+∑((_i_4), δ(j, _i_7, δ(r, _i_2, (δ(_i_4, C(p, i)', δ(_i_0, C(q, i), δ(_i_3, C(s, j), 1)))⋅J(p, q, r, s)⋅_i_0⋅_i_3⋅_i_4)))))))))\n",
      "(∑((i, p, q, r), (C(p, i)⋅C(r, _i_7)⋅J(p, q, r, _i_2)'⋅C(q, i)'))+∑((i, j, p, q, r, s, _i_3), (δ(i, _i_7, δ(q, _i_2, (δ(C(s, j), _i_3, 1)⋅C(p, i)⋅C(r, j)⋅J(p, q, r, s)'⋅_i_3')))+∑((_i_0), (δ(i, _i_7, δ(p, _i_2, (δ(_i_0, C(q, i), δ(_i_3, C(s, j), 1))⋅J(p, q, r, s)⋅C(r, j)'⋅_i_0⋅_i_3)))+∑((_i_4), δ(j, _i_7, δ(r, _i_2, (δ(_i_4, C(p, i)', δ(_i_0, C(q, i), δ(_i_3, C(s, j), 1)))⋅J(p, q, r, s)⋅_i_0⋅_i_3⋅_i_4)))))))))\n",
      "-->\n",
      "\n",
      "  0.023391 seconds (155.52 k allocations: 5.621 MiB)\n",
      "4 sum_dist\n",
      "(∑((i, p, q, r), (C(p, i)⋅C(r, _i_7)⋅J(p, q, r, _i_2)'⋅C(q, i)'))+∑((i, j, p, q, r, s, _i_3), (δ(i, _i_7, δ(q, _i_2, (δ(C(s, j), _i_3, 1)⋅C(p, i)⋅C(r, j)⋅J(p, q, r, s)'⋅_i_3')))+∑((_i_0), (δ(i, _i_7, δ(p, _i_2, (δ(_i_0, C(q, i), δ(_i_3, C(s, j), 1))⋅J(p, q, r, s)⋅C(r, j)'⋅_i_0⋅_i_3)))+∑((_i_4), δ(j, _i_7, δ(r, _i_2, (δ(_i_4, C(p, i)', δ(_i_0, C(q, i), δ(_i_3, C(s, j), 1)))⋅J(p, q, r, s)⋅_i_0⋅_i_3⋅_i_4)))))))))\n",
      "(∑((i, p, q, r), (C(p, i)⋅C(r, _i_7)⋅J(p, q, r, _i_2)'⋅C(q, i)'))+∑((i, j, p, q, r, s, _i_3), δ(i, _i_7, δ(q, _i_2, (δ(C(s, j), _i_3, 1)⋅C(p, i)⋅C(r, j)⋅J(p, q, r, s)'⋅_i_3'))))+∑((i, j, p, q, r, s, _i_3, _i_0), (δ(i, _i_7, δ(p, _i_2, (δ(_i_0, C(q, i), δ(_i_3, C(s, j), 1))⋅J(p, q, r, s)⋅C(r, j)'⋅_i_0⋅_i_3)))+∑((_i_4), δ(j, _i_7, δ(r, _i_2, (δ(_i_4, C(p, i)', δ(_i_0, C(q, i), δ(_i_3, C(s, j), 1)))⋅J(p, q, r, s)⋅_i_0⋅_i_3⋅_i_4)))))))\n",
      "-->\n",
      "\n",
      "  0.008659 seconds (81.15 k allocations: 2.512 MiB)\n",
      "5 contract_delta\n",
      "(∑((i, p, q, r), (C(p, i)⋅C(r, _i_7)⋅J(p, q, r, _i_2)'⋅C(q, i)'))+∑((i, j, p, q, r, s, _i_3), δ(i, _i_7, δ(q, _i_2, (δ(C(s, j), _i_3, 1)⋅C(p, i)⋅C(r, j)⋅J(p, q, r, s)'⋅_i_3'))))+∑((i, j, p, q, r, s, _i_3, _i_0), (δ(i, _i_7, δ(p, _i_2, (δ(_i_0, C(q, i), δ(_i_3, C(s, j), 1))⋅J(p, q, r, s)⋅C(r, j)'⋅_i_0⋅_i_3)))+∑((_i_4), δ(j, _i_7, δ(r, _i_2, (δ(_i_4, C(p, i)', δ(_i_0, C(q, i), δ(_i_3, C(s, j), 1)))⋅J(p, q, r, s)⋅_i_0⋅_i_3⋅_i_4)))))))\n",
      "(∑((i, p, q, r), (C(p, i)⋅C(r, _i_7)⋅J(p, q, r, _i_2)'⋅C(q, i)'))+∑((j, p, q, r, s, _i_3), δ(q, _i_2, (δ(C(s, j), _i_3, 1)⋅C(p, _i_7)⋅C(r, j)⋅J(p, q, r, s)'⋅_i_3')))+∑((i, j, p, q, r, s, _i_3, _i_0), (δ(i, _i_7, δ(p, _i_2, (δ(_i_0, C(q, i), δ(_i_3, C(s, j), 1))⋅J(p, q, r, s)⋅C(r, j)'⋅_i_0⋅_i_3)))+∑((_i_4), δ(j, _i_7, δ(r, _i_2, (δ(_i_4, C(p, i)', δ(_i_0, C(q, i), δ(_i_3, C(s, j), 1)))⋅J(p, q, r, s)⋅_i_0⋅_i_3⋅_i_4)))))))\n",
      "-->\n",
      "\n",
      "  0.008490 seconds (78.39 k allocations: 2.438 MiB)\n",
      "6 contract_delta\n",
      "(∑((i, p, q, r), (C(p, i)⋅C(r, _i_7)⋅J(p, q, r, _i_2)'⋅C(q, i)'))+∑((j, p, q, r, s, _i_3), δ(q, _i_2, (δ(C(s, j), _i_3, 1)⋅C(p, _i_7)⋅C(r, j)⋅J(p, q, r, s)'⋅_i_3')))+∑((i, j, p, q, r, s, _i_3, _i_0), (δ(i, _i_7, δ(p, _i_2, (δ(_i_0, C(q, i), δ(_i_3, C(s, j), 1))⋅J(p, q, r, s)⋅C(r, j)'⋅_i_0⋅_i_3)))+∑((_i_4), δ(j, _i_7, δ(r, _i_2, (δ(_i_4, C(p, i)', δ(_i_0, C(q, i), δ(_i_3, C(s, j), 1)))⋅J(p, q, r, s)⋅_i_0⋅_i_3⋅_i_4)))))))\n",
      "(∑((i, p, q, r), (C(p, i)⋅C(r, _i_7)⋅J(p, q, r, _i_2)'⋅C(q, i)'))+∑((j, p, r, s, _i_3), (δ(C(s, j), _i_3, 1)⋅C(p, _i_7)⋅C(r, j)⋅J(p, _i_2, r, s)'⋅_i_3'))+∑((i, j, p, q, r, s, _i_3, _i_0), (δ(i, _i_7, δ(p, _i_2, (δ(_i_0, C(q, i), δ(_i_3, C(s, j), 1))⋅J(p, q, r, s)⋅C(r, j)'⋅_i_0⋅_i_3)))+∑((_i_4), δ(j, _i_7, δ(r, _i_2, (δ(_i_4, C(p, i)', δ(_i_0, C(q, i), δ(_i_3, C(s, j), 1)))⋅J(p, q, r, s)⋅_i_0⋅_i_3⋅_i_4)))))))\n",
      "-->\n",
      "\n",
      "  0.008537 seconds (78.56 k allocations: 2.439 MiB)\n",
      "7 swallow\n",
      "(∑((i, p, q, r), (C(p, i)⋅C(r, _i_7)⋅J(p, q, r, _i_2)'⋅C(q, i)'))+∑((j, p, r, s, _i_3), (δ(C(s, j), _i_3, 1)⋅C(p, _i_7)⋅C(r, j)⋅J(p, _i_2, r, s)'⋅_i_3'))+∑((i, j, p, q, r, s, _i_3, _i_0), (δ(i, _i_7, δ(p, _i_2, (δ(_i_0, C(q, i), δ(_i_3, C(s, j), 1))⋅J(p, q, r, s)⋅C(r, j)'⋅_i_0⋅_i_3)))+∑((_i_4), δ(j, _i_7, δ(r, _i_2, (δ(_i_4, C(p, i)', δ(_i_0, C(q, i), δ(_i_3, C(s, j), 1)))⋅J(p, q, r, s)⋅_i_0⋅_i_3⋅_i_4)))))))\n",
      "(∑((i, p, q, r), (C(p, i)⋅C(r, _i_7)⋅J(p, q, r, _i_2)'⋅C(q, i)'))+∑((j, p, r, s, _i_3), δ(_i_3, C(s, j), (C(p, _i_7)⋅C(r, j)⋅J(p, _i_2, r, s)'⋅_i_3')))+∑((i, j, p, q, r, s, _i_3, _i_0), (δ(i, _i_7, δ(p, _i_2, (δ(_i_0, C(q, i), δ(_i_3, C(s, j), 1))⋅J(p, q, r, s)⋅C(r, j)'⋅_i_0⋅_i_3)))+∑((_i_4), δ(j, _i_7, δ(r, _i_2, (δ(_i_4, C(p, i)', δ(_i_0, C(q, i), δ(_i_3, C(s, j), 1)))⋅J(p, q, r, s)⋅_i_0⋅_i_3⋅_i_4)))))))\n",
      "-->\n",
      "\n",
      "  0.011276 seconds (120.02 k allocations: 3.626 MiB)\n",
      "8 contract_delta\n",
      "(∑((i, p, q, r), (C(p, i)⋅C(r, _i_7)⋅J(p, q, r, _i_2)'⋅C(q, i)'))+∑((j, p, r, s, _i_3), δ(_i_3, C(s, j), (C(p, _i_7)⋅C(r, j)⋅J(p, _i_2, r, s)'⋅_i_3')))+∑((i, j, p, q, r, s, _i_3, _i_0), (δ(i, _i_7, δ(p, _i_2, (δ(_i_0, C(q, i), δ(_i_3, C(s, j), 1))⋅J(p, q, r, s)⋅C(r, j)'⋅_i_0⋅_i_3)))+∑((_i_4), δ(j, _i_7, δ(r, _i_2, (δ(_i_4, C(p, i)', δ(_i_0, C(q, i), δ(_i_3, C(s, j), 1)))⋅J(p, q, r, s)⋅_i_0⋅_i_3⋅_i_4)))))))\n",
      "(∑((i, p, q, r), (C(p, i)⋅C(r, _i_7)⋅J(p, q, r, _i_2)'⋅C(q, i)'))+∑((j, p, r, s), (C(p, _i_7)⋅C(r, j)⋅J(p, _i_2, r, s)'⋅C(s, j)'))+∑((i, j, p, q, r, s, _i_3, _i_0), (δ(i, _i_7, δ(p, _i_2, (δ(_i_0, C(q, i), δ(_i_3, C(s, j), 1))⋅J(p, q, r, s)⋅C(r, j)'⋅_i_0⋅_i_3)))+∑((_i_4), δ(j, _i_7, δ(r, _i_2, (δ(_i_4, C(p, i)', δ(_i_0, C(q, i), δ(_i_3, C(s, j), 1)))⋅J(p, q, r, s)⋅_i_0⋅_i_3⋅_i_4)))))))\n",
      "-->\n",
      "\n",
      "  0.008154 seconds (72.44 k allocations: 2.261 MiB)\n",
      "9 sum_dist\n",
      "(∑((i, p, q, r), (C(p, i)⋅C(r, _i_7)⋅J(p, q, r, _i_2)'⋅C(q, i)'))+∑((j, p, r, s), (C(p, _i_7)⋅C(r, j)⋅J(p, _i_2, r, s)'⋅C(s, j)'))+∑((i, j, p, q, r, s, _i_3, _i_0), (δ(i, _i_7, δ(p, _i_2, (δ(_i_0, C(q, i), δ(_i_3, C(s, j), 1))⋅J(p, q, r, s)⋅C(r, j)'⋅_i_0⋅_i_3)))+∑((_i_4), δ(j, _i_7, δ(r, _i_2, (δ(_i_4, C(p, i)', δ(_i_0, C(q, i), δ(_i_3, C(s, j), 1)))⋅J(p, q, r, s)⋅_i_0⋅_i_3⋅_i_4)))))))\n",
      "(∑((i, p, q, r), (C(p, i)⋅C(r, _i_7)⋅J(p, q, r, _i_2)'⋅C(q, i)'))+∑((j, p, r, s), (C(p, _i_7)⋅C(r, j)⋅J(p, _i_2, r, s)'⋅C(s, j)'))+∑((i, j, p, q, r, s, _i_3, _i_0), δ(i, _i_7, δ(p, _i_2, (δ(_i_0, C(q, i), δ(_i_3, C(s, j), 1))⋅J(p, q, r, s)⋅C(r, j)'⋅_i_0⋅_i_3))))+∑((i, j, p, q, r, s, _i_3, _i_0, _i_4), δ(j, _i_7, δ(r, _i_2, (δ(_i_4, C(p, i)', δ(_i_0, C(q, i), δ(_i_3, C(s, j), 1)))⋅J(p, q, r, s)⋅_i_0⋅_i_3⋅_i_4)))))\n",
      "-->\n",
      "\n",
      "  0.004633 seconds (56.36 k allocations: 1.661 MiB)\n",
      "10 contract_delta\n",
      "(∑((i, p, q, r), (C(p, i)⋅C(r, _i_7)⋅J(p, q, r, _i_2)'⋅C(q, i)'))+∑((j, p, r, s), (C(p, _i_7)⋅C(r, j)⋅J(p, _i_2, r, s)'⋅C(s, j)'))+∑((i, j, p, q, r, s, _i_3, _i_0), δ(i, _i_7, δ(p, _i_2, (δ(_i_0, C(q, i), δ(_i_3, C(s, j), 1))⋅J(p, q, r, s)⋅C(r, j)'⋅_i_0⋅_i_3))))+∑((i, j, p, q, r, s, _i_3, _i_0, _i_4), δ(j, _i_7, δ(r, _i_2, (δ(_i_4, C(p, i)', δ(_i_0, C(q, i), δ(_i_3, C(s, j), 1)))⋅J(p, q, r, s)⋅_i_0⋅_i_3⋅_i_4)))))\n",
      "(∑((i, p, q, r), (C(p, i)⋅C(r, _i_7)⋅J(p, q, r, _i_2)'⋅C(q, i)'))+∑((j, p, r, s), (C(p, _i_7)⋅C(r, j)⋅J(p, _i_2, r, s)'⋅C(s, j)'))+∑((j, p, q, r, s, _i_3, _i_0), δ(p, _i_2, (δ(_i_0, C(q, _i_7), δ(_i_3, C(s, j), 1))⋅J(p, q, r, s)⋅C(r, j)'⋅_i_0⋅_i_3)))+∑((i, j, p, q, r, s, _i_3, _i_0, _i_4), δ(j, _i_7, δ(r, _i_2, (δ(_i_4, C(p, i)', δ(_i_0, C(q, i), δ(_i_3, C(s, j), 1)))⋅J(p, q, r, s)⋅_i_0⋅_i_3⋅_i_4)))))\n",
      "-->\n",
      "\n",
      "  0.003187 seconds (36.79 k allocations: 1.100 MiB)\n",
      "11 contract_delta\n",
      "(∑((i, p, q, r), (C(p, i)⋅C(r, _i_7)⋅J(p, q, r, _i_2)'⋅C(q, i)'))+∑((j, p, r, s), (C(p, _i_7)⋅C(r, j)⋅J(p, _i_2, r, s)'⋅C(s, j)'))+∑((j, p, q, r, s, _i_3, _i_0), δ(p, _i_2, (δ(_i_0, C(q, _i_7), δ(_i_3, C(s, j), 1))⋅J(p, q, r, s)⋅C(r, j)'⋅_i_0⋅_i_3)))+∑((i, j, p, q, r, s, _i_3, _i_0, _i_4), δ(j, _i_7, δ(r, _i_2, (δ(_i_4, C(p, i)', δ(_i_0, C(q, i), δ(_i_3, C(s, j), 1)))⋅J(p, q, r, s)⋅_i_0⋅_i_3⋅_i_4)))))\n",
      "(∑((i, p, q, r), (C(p, i)⋅C(r, _i_7)⋅J(p, q, r, _i_2)'⋅C(q, i)'))+∑((j, p, r, s), (C(p, _i_7)⋅C(r, j)⋅J(p, _i_2, r, s)'⋅C(s, j)'))+∑((j, q, r, s, _i_3, _i_0), (δ(_i_0, C(q, _i_7), δ(_i_3, C(s, j), 1))⋅J(_i_2, q, r, s)⋅C(r, j)'⋅_i_0⋅_i_3))+∑((i, j, p, q, r, s, _i_3, _i_0, _i_4), δ(j, _i_7, δ(r, _i_2, (δ(_i_4, C(p, i)', δ(_i_0, C(q, i), δ(_i_3, C(s, j), 1)))⋅J(p, q, r, s)⋅_i_0⋅_i_3⋅_i_4)))))\n",
      "-->\n",
      "\n",
      "  0.003514 seconds (40.56 k allocations: 1.217 MiB)\n",
      "12 swallow\n",
      "(∑((i, p, q, r), (C(p, i)⋅C(r, _i_7)⋅J(p, q, r, _i_2)'⋅C(q, i)'))+∑((j, p, r, s), (C(p, _i_7)⋅C(r, j)⋅J(p, _i_2, r, s)'⋅C(s, j)'))+∑((j, q, r, s, _i_3, _i_0), (δ(_i_0, C(q, _i_7), δ(_i_3, C(s, j), 1))⋅J(_i_2, q, r, s)⋅C(r, j)'⋅_i_0⋅_i_3))+∑((i, j, p, q, r, s, _i_3, _i_0, _i_4), δ(j, _i_7, δ(r, _i_2, (δ(_i_4, C(p, i)', δ(_i_0, C(q, i), δ(_i_3, C(s, j), 1)))⋅J(p, q, r, s)⋅_i_0⋅_i_3⋅_i_4)))))\n",
      "(∑((i, p, q, r), (C(p, i)⋅C(r, _i_7)⋅J(p, q, r, _i_2)'⋅C(q, i)'))+∑((j, p, r, s), (C(p, _i_7)⋅C(r, j)⋅J(p, _i_2, r, s)'⋅C(s, j)'))+∑((j, q, r, s, _i_3, _i_0), δ(C(q, _i_7), _i_0, (δ(_i_3, C(s, j), 1)⋅J(_i_2, q, r, s)⋅C(r, j)'⋅_i_0⋅_i_3)))+∑((i, j, p, q, r, s, _i_3, _i_0, _i_4), δ(j, _i_7, δ(r, _i_2, (δ(_i_4, C(p, i)', δ(_i_0, C(q, i), δ(_i_3, C(s, j), 1)))⋅J(p, q, r, s)⋅_i_0⋅_i_3⋅_i_4)))))\n",
      "-->\n",
      "\n",
      "  0.009086 seconds (130.23 k allocations: 3.800 MiB)\n",
      "13 contract_delta\n",
      "(∑((i, p, q, r), (C(p, i)⋅C(r, _i_7)⋅J(p, q, r, _i_2)'⋅C(q, i)'))+∑((j, p, r, s), (C(p, _i_7)⋅C(r, j)⋅J(p, _i_2, r, s)'⋅C(s, j)'))+∑((j, q, r, s, _i_3, _i_0), δ(C(q, _i_7), _i_0, (δ(_i_3, C(s, j), 1)⋅J(_i_2, q, r, s)⋅C(r, j)'⋅_i_0⋅_i_3)))+∑((i, j, p, q, r, s, _i_3, _i_0, _i_4), δ(j, _i_7, δ(r, _i_2, (δ(_i_4, C(p, i)', δ(_i_0, C(q, i), δ(_i_3, C(s, j), 1)))⋅J(p, q, r, s)⋅_i_0⋅_i_3⋅_i_4)))))\n",
      "(∑((i, p, q, r), (C(p, i)⋅C(r, _i_7)⋅J(p, q, r, _i_2)'⋅C(q, i)'))+∑((j, p, r, s), (C(p, _i_7)⋅C(r, j)⋅J(p, _i_2, r, s)'⋅C(s, j)'))+∑((j, q, r, s, _i_3), (δ(_i_3, C(s, j), 1)⋅J(_i_2, q, r, s)⋅C(q, _i_7)⋅C(r, j)'⋅_i_3))+∑((i, j, p, q, r, s, _i_3, _i_0, _i_4), δ(j, _i_7, δ(r, _i_2, (δ(_i_4, C(p, i)', δ(_i_0, C(q, i), δ(_i_3, C(s, j), 1)))⋅J(p, q, r, s)⋅_i_0⋅_i_3⋅_i_4)))))\n",
      "-->\n",
      "\n",
      "  0.002663 seconds (31.68 k allocations: 980.016 KiB)\n",
      "14 swallow\n",
      "(∑((i, p, q, r), (C(p, i)⋅C(r, _i_7)⋅J(p, q, r, _i_2)'⋅C(q, i)'))+∑((j, p, r, s), (C(p, _i_7)⋅C(r, j)⋅J(p, _i_2, r, s)'⋅C(s, j)'))+∑((j, q, r, s, _i_3), (δ(_i_3, C(s, j), 1)⋅J(_i_2, q, r, s)⋅C(q, _i_7)⋅C(r, j)'⋅_i_3))+∑((i, j, p, q, r, s, _i_3, _i_0, _i_4), δ(j, _i_7, δ(r, _i_2, (δ(_i_4, C(p, i)', δ(_i_0, C(q, i), δ(_i_3, C(s, j), 1)))⋅J(p, q, r, s)⋅_i_0⋅_i_3⋅_i_4)))))\n",
      "(∑((i, p, q, r), (C(p, i)⋅C(r, _i_7)⋅J(p, q, r, _i_2)'⋅C(q, i)'))+∑((j, p, r, s), (C(p, _i_7)⋅C(r, j)⋅J(p, _i_2, r, s)'⋅C(s, j)'))+∑((j, q, r, s, _i_3), δ(C(s, j), _i_3, (J(_i_2, q, r, s)⋅C(q, _i_7)⋅C(r, j)'⋅_i_3)))+∑((i, j, p, q, r, s, _i_3, _i_0, _i_4), δ(j, _i_7, δ(r, _i_2, (δ(_i_4, C(p, i)', δ(_i_0, C(q, i), δ(_i_3, C(s, j), 1)))⋅J(p, q, r, s)⋅_i_0⋅_i_3⋅_i_4)))))\n",
      "-->\n",
      "\n",
      "  0.007948 seconds (125.87 k allocations: 3.628 MiB)\n",
      "15 contract_delta\n",
      "(∑((i, p, q, r), (C(p, i)⋅C(r, _i_7)⋅J(p, q, r, _i_2)'⋅C(q, i)'))+∑((j, p, r, s), (C(p, _i_7)⋅C(r, j)⋅J(p, _i_2, r, s)'⋅C(s, j)'))+∑((j, q, r, s, _i_3), δ(C(s, j), _i_3, (J(_i_2, q, r, s)⋅C(q, _i_7)⋅C(r, j)'⋅_i_3)))+∑((i, j, p, q, r, s, _i_3, _i_0, _i_4), δ(j, _i_7, δ(r, _i_2, (δ(_i_4, C(p, i)', δ(_i_0, C(q, i), δ(_i_3, C(s, j), 1)))⋅J(p, q, r, s)⋅_i_0⋅_i_3⋅_i_4)))))\n",
      "(∑((i, p, q, r), (C(p, i)⋅C(r, _i_7)⋅J(p, q, r, _i_2)'⋅C(q, i)'))+∑((j, q, r, s), (J(_i_2, q, r, s)⋅C(s, j)⋅C(q, _i_7)⋅C(r, j)'))+∑((j, p, r, s), (C(p, _i_7)⋅C(r, j)⋅J(p, _i_2, r, s)'⋅C(s, j)'))+∑((i, j, p, q, r, s, _i_3, _i_0, _i_4), δ(j, _i_7, δ(r, _i_2, (δ(_i_4, C(p, i)', δ(_i_0, C(q, i), δ(_i_3, C(s, j), 1)))⋅J(p, q, r, s)⋅_i_0⋅_i_3⋅_i_4)))))\n",
      "-->\n",
      "\n",
      "  0.011978 seconds (207.28 k allocations: 5.920 MiB)\n",
      "16 contract_delta\n",
      "(∑((i, p, q, r), (C(p, i)⋅C(r, _i_7)⋅J(p, q, r, _i_2)'⋅C(q, i)'))+∑((j, q, r, s), (J(_i_2, q, r, s)⋅C(s, j)⋅C(q, _i_7)⋅C(r, j)'))+∑((j, p, r, s), (C(p, _i_7)⋅C(r, j)⋅J(p, _i_2, r, s)'⋅C(s, j)'))+∑((i, j, p, q, r, s, _i_3, _i_0, _i_4), δ(j, _i_7, δ(r, _i_2, (δ(_i_4, C(p, i)', δ(_i_0, C(q, i), δ(_i_3, C(s, j), 1)))⋅J(p, q, r, s)⋅_i_0⋅_i_3⋅_i_4)))))\n",
      "(∑((i, p, q, r), (C(p, i)⋅C(r, _i_7)⋅J(p, q, r, _i_2)'⋅C(q, i)'))+∑((j, q, r, s), (J(_i_2, q, r, s)⋅C(s, j)⋅C(q, _i_7)⋅C(r, j)'))+∑((j, p, r, s), (C(p, _i_7)⋅C(r, j)⋅J(p, _i_2, r, s)'⋅C(s, j)'))+∑((i, p, q, r, s, _i_3, _i_0, _i_4), δ(r, _i_2, (δ(_i_4, C(p, i)', δ(_i_0, C(q, i), δ(_i_3, C(s, _i_7), 1)))⋅J(p, q, r, s)⋅_i_0⋅_i_3⋅_i_4))))\n",
      "-->\n",
      "\n",
      "  0.006990 seconds (121.19 k allocations: 3.462 MiB)\n",
      "17 contract_delta\n",
      "(∑((i, p, q, r), (C(p, i)⋅C(r, _i_7)⋅J(p, q, r, _i_2)'⋅C(q, i)'))+∑((j, q, r, s), (J(_i_2, q, r, s)⋅C(s, j)⋅C(q, _i_7)⋅C(r, j)'))+∑((j, p, r, s), (C(p, _i_7)⋅C(r, j)⋅J(p, _i_2, r, s)'⋅C(s, j)'))+∑((i, p, q, r, s, _i_3, _i_0, _i_4), δ(r, _i_2, (δ(_i_4, C(p, i)', δ(_i_0, C(q, i), δ(_i_3, C(s, _i_7), 1)))⋅J(p, q, r, s)⋅_i_0⋅_i_3⋅_i_4))))\n",
      "(∑((i, p, q, r), (C(p, i)⋅C(r, _i_7)⋅J(p, q, r, _i_2)'⋅C(q, i)'))+∑((j, q, r, s), (J(_i_2, q, r, s)⋅C(s, j)⋅C(q, _i_7)⋅C(r, j)'))+∑((j, p, r, s), (C(p, _i_7)⋅C(r, j)⋅J(p, _i_2, r, s)'⋅C(s, j)'))+∑((i, p, q, s, _i_3, _i_0, _i_4), (δ(_i_4, C(p, i)', δ(_i_0, C(q, i), δ(_i_3, C(s, _i_7), 1)))⋅J(p, q, _i_2, s)⋅_i_0⋅_i_3⋅_i_4)))\n",
      "-->\n",
      "\n",
      "  0.002004 seconds (32.76 k allocations: 952.812 KiB)\n",
      "18 swallow\n",
      "(∑((i, p, q, r), (C(p, i)⋅C(r, _i_7)⋅J(p, q, r, _i_2)'⋅C(q, i)'))+∑((j, q, r, s), (J(_i_2, q, r, s)⋅C(s, j)⋅C(q, _i_7)⋅C(r, j)'))+∑((j, p, r, s), (C(p, _i_7)⋅C(r, j)⋅J(p, _i_2, r, s)'⋅C(s, j)'))+∑((i, p, q, s, _i_3, _i_0, _i_4), (δ(_i_4, C(p, i)', δ(_i_0, C(q, i), δ(_i_3, C(s, _i_7), 1)))⋅J(p, q, _i_2, s)⋅_i_0⋅_i_3⋅_i_4)))\n",
      "(∑((i, p, q, r), (C(p, i)⋅C(r, _i_7)⋅J(p, q, r, _i_2)'⋅C(q, i)'))+∑((j, q, r, s), (J(_i_2, q, r, s)⋅C(s, j)⋅C(q, _i_7)⋅C(r, j)'))+∑((j, p, r, s), (C(p, _i_7)⋅C(r, j)⋅J(p, _i_2, r, s)'⋅C(s, j)'))+∑((i, p, q, s, _i_3, _i_0, _i_4), δ(C(p, i)', _i_4, (δ(_i_0, C(q, i), δ(_i_3, C(s, _i_7), 1))⋅J(p, q, _i_2, s)⋅_i_0⋅_i_3⋅_i_4))))\n",
      "-->\n",
      "\n",
      "  0.003380 seconds (59.03 k allocations: 1.676 MiB)\n",
      "19 contract_delta\n",
      "(∑((i, p, q, r), (C(p, i)⋅C(r, _i_7)⋅J(p, q, r, _i_2)'⋅C(q, i)'))+∑((j, q, r, s), (J(_i_2, q, r, s)⋅C(s, j)⋅C(q, _i_7)⋅C(r, j)'))+∑((j, p, r, s), (C(p, _i_7)⋅C(r, j)⋅J(p, _i_2, r, s)'⋅C(s, j)'))+∑((i, p, q, s, _i_3, _i_0, _i_4), δ(C(p, i)', _i_4, (δ(_i_0, C(q, i), δ(_i_3, C(s, _i_7), 1))⋅J(p, q, _i_2, s)⋅_i_0⋅_i_3⋅_i_4))))\n",
      "(∑((i, p, q, r), (C(p, i)⋅C(r, _i_7)⋅J(p, q, r, _i_2)'⋅C(q, i)'))+∑((j, q, r, s), (J(_i_2, q, r, s)⋅C(s, j)⋅C(q, _i_7)⋅C(r, j)'))+∑((j, p, r, s), (C(p, _i_7)⋅C(r, j)⋅J(p, _i_2, r, s)'⋅C(s, j)'))+∑((i, p, q, s, _i_3, _i_0), (δ(_i_0, C(q, i), δ(_i_3, C(s, _i_7), 1))⋅J(p, q, _i_2, s)⋅C(p, i)'⋅_i_0⋅_i_3)))\n",
      "-->\n",
      "\n",
      "  0.001097 seconds (14.87 k allocations: 445.734 KiB)\n",
      "20 swallow\n",
      "(∑((i, p, q, r), (C(p, i)⋅C(r, _i_7)⋅J(p, q, r, _i_2)'⋅C(q, i)'))+∑((j, q, r, s), (J(_i_2, q, r, s)⋅C(s, j)⋅C(q, _i_7)⋅C(r, j)'))+∑((j, p, r, s), (C(p, _i_7)⋅C(r, j)⋅J(p, _i_2, r, s)'⋅C(s, j)'))+∑((i, p, q, s, _i_3, _i_0), (δ(_i_0, C(q, i), δ(_i_3, C(s, _i_7), 1))⋅J(p, q, _i_2, s)⋅C(p, i)'⋅_i_0⋅_i_3)))\n",
      "(∑((i, p, q, r), (C(p, i)⋅C(r, _i_7)⋅J(p, q, r, _i_2)'⋅C(q, i)'))+∑((j, q, r, s), (J(_i_2, q, r, s)⋅C(s, j)⋅C(q, _i_7)⋅C(r, j)'))+∑((j, p, r, s), (C(p, _i_7)⋅C(r, j)⋅J(p, _i_2, r, s)'⋅C(s, j)'))+∑((i, p, q, s, _i_3, _i_0), δ(C(q, i), _i_0, (δ(_i_3, C(s, _i_7), 1)⋅J(p, q, _i_2, s)⋅C(p, i)'⋅_i_0⋅_i_3))))\n",
      "-->\n",
      "\n",
      "  0.001044 seconds (13.37 k allocations: 408.125 KiB)\n",
      "21 contract_delta\n",
      "(∑((i, p, q, r), (C(p, i)⋅C(r, _i_7)⋅J(p, q, r, _i_2)'⋅C(q, i)'))+∑((j, q, r, s), (J(_i_2, q, r, s)⋅C(s, j)⋅C(q, _i_7)⋅C(r, j)'))+∑((j, p, r, s), (C(p, _i_7)⋅C(r, j)⋅J(p, _i_2, r, s)'⋅C(s, j)'))+∑((i, p, q, s, _i_3, _i_0), δ(C(q, i), _i_0, (δ(_i_3, C(s, _i_7), 1)⋅J(p, q, _i_2, s)⋅C(p, i)'⋅_i_0⋅_i_3))))\n",
      "(∑((i, p, q, r), (C(p, i)⋅C(r, _i_7)⋅J(p, q, r, _i_2)'⋅C(q, i)'))+∑((j, q, r, s), (J(_i_2, q, r, s)⋅C(s, j)⋅C(q, _i_7)⋅C(r, j)'))+∑((j, p, r, s), (C(p, _i_7)⋅C(r, j)⋅J(p, _i_2, r, s)'⋅C(s, j)'))+∑((i, p, q, s, _i_3), (δ(_i_3, C(s, _i_7), 1)⋅J(p, q, _i_2, s)⋅C(q, i)⋅C(p, i)'⋅_i_3)))\n",
      "-->\n",
      "\n",
      "  0.000401 seconds (6.11 k allocations: 181.719 KiB)\n",
      "22 swallow\n",
      "(∑((i, p, q, r), (C(p, i)⋅C(r, _i_7)⋅J(p, q, r, _i_2)'⋅C(q, i)'))+∑((j, q, r, s), (J(_i_2, q, r, s)⋅C(s, j)⋅C(q, _i_7)⋅C(r, j)'))+∑((j, p, r, s), (C(p, _i_7)⋅C(r, j)⋅J(p, _i_2, r, s)'⋅C(s, j)'))+∑((i, p, q, s, _i_3), (δ(_i_3, C(s, _i_7), 1)⋅J(p, q, _i_2, s)⋅C(q, i)⋅C(p, i)'⋅_i_3)))\n",
      "(∑((i, p, q, r), (C(p, i)⋅C(r, _i_7)⋅J(p, q, r, _i_2)'⋅C(q, i)'))+∑((j, q, r, s), (J(_i_2, q, r, s)⋅C(s, j)⋅C(q, _i_7)⋅C(r, j)'))+∑((j, p, r, s), (C(p, _i_7)⋅C(r, j)⋅J(p, _i_2, r, s)'⋅C(s, j)'))+∑((i, p, q, s, _i_3), δ(C(s, _i_7), _i_3, (J(p, q, _i_2, s)⋅C(q, i)⋅C(p, i)'⋅_i_3))))\n",
      "-->\n",
      "\n",
      "  0.002790 seconds (49.67 k allocations: 1.416 MiB)\n",
      "23 contract_delta\n",
      "(∑((i, p, q, r), (C(p, i)⋅C(r, _i_7)⋅J(p, q, r, _i_2)'⋅C(q, i)'))+∑((j, q, r, s), (J(_i_2, q, r, s)⋅C(s, j)⋅C(q, _i_7)⋅C(r, j)'))+∑((j, p, r, s), (C(p, _i_7)⋅C(r, j)⋅J(p, _i_2, r, s)'⋅C(s, j)'))+∑((i, p, q, s, _i_3), δ(C(s, _i_7), _i_3, (J(p, q, _i_2, s)⋅C(q, i)⋅C(p, i)'⋅_i_3))))\n",
      "(∑((i, p, q, s), (J(p, q, _i_2, s)⋅C(s, _i_7)⋅C(q, i)⋅C(p, i)'))+∑((i, p, q, r), (C(p, i)⋅C(r, _i_7)⋅J(p, q, r, _i_2)'⋅C(q, i)'))+∑((j, q, r, s), (J(_i_2, q, r, s)⋅C(s, j)⋅C(q, _i_7)⋅C(r, j)'))+∑((j, p, r, s), (C(p, _i_7)⋅C(r, j)⋅J(p, _i_2, r, s)'⋅C(s, j)')))\n",
      "-->\n",
      "\n",
      "  0.000000 seconds\n"
     ]
    },
    {
     "data": {
      "text/latex": [
       "$\\left(\\_i_2, \\_i_7\\right) \\to \\left(\\sum_{i, p, q, s}\\left[(J_{p, q, \\_i_2, s}\\cdot C_{s, \\_i_7}\\cdot C_{q, i}\\cdot C_{p, i}^*)\\right]+\\sum_{i, p, q, r}\\left[(C_{p, i}\\cdot C_{r, \\_i_7}\\cdot J_{p, q, r, \\_i_2}^*\\cdot C_{q, i}^*)\\right]+\\sum_{j, q, r, s}\\left[(J_{\\_i_2, q, r, s}\\cdot C_{s, j}\\cdot C_{q, \\_i_7}\\cdot C_{r, j}^*)\\right]+\\sum_{j, p, r, s}\\left[(C_{p, \\_i_7}\\cdot C_{r, j}\\cdot J_{p, \\_i_2, r, s}^*\\cdot C_{s, j}^*)\\right]\\right)$"
      ],
      "text/plain": [
       "(_i_2, _i_7) -> \n",
       "    (∑((i, p, q, s), (J(p, q, _i_2, s)⋅C(s, _i_7)⋅C(q, i)⋅C(p, i)'))+∑((i, p, q, r), (C(p, i)⋅C(r, _i_7)⋅J(p, q, r, _i_2)'⋅C(q, i)'))+∑((j, q, r, s), (J(_i_2, q, r, s)⋅C(s, j)⋅C(q, _i_7)⋅C(r, j)'))+∑((j, p, r, s), (C(p, _i_7)⋅C(r, j)⋅J(p, _i_2, r, s)'⋅C(s, j)')))"
      ]
     },
     "execution_count": 12,
     "metadata": {},
     "output_type": "execute_result"
    }
   ],
   "source": [
    "dg = simplify(dg) |> first\n",
    "dg"
   ]
  },
  {
   "cell_type": "code",
   "execution_count": 13,
   "id": "b6046c46-507f-4c5d-bd7b-16c2bb1d4185",
   "metadata": {
    "collapsed": true,
    "jupyter": {
     "outputs_hidden": true
    },
    "tags": []
   },
   "outputs": [
    {
     "name": "stdout",
     "output_type": "stream",
     "text": [
      "  0.000009 seconds (25 allocations: 976 bytes)\n",
      "1 symmetry\n",
      "(∑((i, p, q, s), (J(p, q, _i_2, s)⋅C(s, _i_7)⋅C(q, i)⋅C(p, i)'))+∑((i, p, q, r), (C(p, i)⋅C(r, _i_7)⋅J(p, q, r, _i_2)'⋅C(q, i)'))+∑((j, q, r, s), (J(_i_2, q, r, s)⋅C(s, j)⋅C(q, _i_7)⋅C(r, j)'))+∑((j, p, r, s), (C(p, _i_7)⋅C(r, j)⋅J(p, _i_2, r, s)'⋅C(s, j)')))\n",
      "((2.0⋅∑((i, p, q, r), (C(p, i)⋅C(r, _i_7)⋅J(p, q, r, _i_2)'⋅C(q, i)')))+∑((j, q, r, s), (J(_i_2, q, r, s)⋅C(s, j)⋅C(q, _i_7)⋅C(r, j)'))+∑((j, p, r, s), (C(p, _i_7)⋅C(r, j)⋅J(p, _i_2, r, s)'⋅C(s, j)')))\n",
      "<->\n",
      "\n",
      "  0.011593 seconds (66.60 k allocations: 3.409 MiB, 76.81% compilation time)\n",
      "2 sum_in\n",
      "((2.0⋅∑((i, p, q, r), (C(p, i)⋅C(r, _i_7)⋅J(p, q, r, _i_2)'⋅C(q, i)')))+∑((j, q, r, s), (J(_i_2, q, r, s)⋅C(s, j)⋅C(q, _i_7)⋅C(r, j)'))+∑((j, p, r, s), (C(p, _i_7)⋅C(r, j)⋅J(p, _i_2, r, s)'⋅C(s, j)')))\n",
      "(∑((i, p, q, r), (C(p, i)⋅C(r, _i_7)⋅J(p, q, r, _i_2)'⋅C(q, i)'⋅2.0))+∑((j, q, r, s), (J(_i_2, q, r, s)⋅C(s, j)⋅C(q, _i_7)⋅C(r, j)'))+∑((j, p, r, s), (C(p, _i_7)⋅C(r, j)⋅J(p, _i_2, r, s)'⋅C(s, j)')))\n",
      "-->\n",
      "\n",
      "  0.003462 seconds (22.50 k allocations: 680.343 KiB, 56.47% compilation time)\n",
      "3 symmetry\n",
      "(∑((i, p, q, r), (C(p, i)⋅C(r, _i_7)⋅J(p, q, r, _i_2)'⋅C(q, i)'⋅2.0))+∑((j, q, r, s), (J(_i_2, q, r, s)⋅C(s, j)⋅C(q, _i_7)⋅C(r, j)'))+∑((j, p, r, s), (C(p, _i_7)⋅C(r, j)⋅J(p, _i_2, r, s)'⋅C(s, j)')))\n",
      "(∑((i, p, q, r), (J(q, p, _i_2, r)⋅C(p, i)⋅C(r, _i_7)⋅C(q, i)'⋅2.0))+∑((j, q, r, s), (J(_i_2, q, r, s)⋅C(s, j)⋅C(q, _i_7)⋅C(r, j)'))+∑((j, p, r, s), (C(p, _i_7)⋅C(r, j)⋅J(p, _i_2, r, s)'⋅C(s, j)')))\n",
      "<->\n",
      "\n",
      "  0.003397 seconds (44.73 k allocations: 1.339 MiB)\n",
      "4 symmetry\n",
      "(∑((i, p, q, r), (J(q, p, _i_2, r)⋅C(p, i)⋅C(r, _i_7)⋅C(q, i)'⋅2.0))+∑((j, q, r, s), (J(_i_2, q, r, s)⋅C(s, j)⋅C(q, _i_7)⋅C(r, j)'))+∑((j, p, r, s), (C(p, _i_7)⋅C(r, j)⋅J(p, _i_2, r, s)'⋅C(s, j)')))\n",
      "(∑((i, p, q, r), (J(_i_2, r, q, p)⋅C(p, i)⋅C(r, _i_7)⋅C(q, i)'⋅2.0))+∑((j, q, r, s), (J(_i_2, q, r, s)⋅C(s, j)⋅C(q, _i_7)⋅C(r, j)'))+∑((j, p, r, s), (C(p, _i_7)⋅C(r, j)⋅J(p, _i_2, r, s)'⋅C(s, j)')))\n",
      "<->\n",
      "\n",
      "  0.004325 seconds (55.88 k allocations: 1.673 MiB)\n",
      "5 symmetry\n",
      "(∑((i, p, q, r), (J(_i_2, r, q, p)⋅C(p, i)⋅C(r, _i_7)⋅C(q, i)'⋅2.0))+∑((j, q, r, s), (J(_i_2, q, r, s)⋅C(s, j)⋅C(q, _i_7)⋅C(r, j)'))+∑((j, p, r, s), (C(p, _i_7)⋅C(r, j)⋅J(p, _i_2, r, s)'⋅C(s, j)')))\n",
      "(∑((i, p, q, r), (C(p, i)⋅C(r, _i_7)⋅J(r, _i_2, p, q)'⋅C(q, i)'⋅2.0))+∑((j, q, r, s), (J(_i_2, q, r, s)⋅C(s, j)⋅C(q, _i_7)⋅C(r, j)'))+∑((j, p, r, s), (C(p, _i_7)⋅C(r, j)⋅J(p, _i_2, r, s)'⋅C(s, j)')))\n",
      "<->\n",
      "\n",
      "  0.004792 seconds (58.52 k allocations: 1.783 MiB)\n",
      "6 symmetry\n",
      "(∑((i, p, q, r), (C(p, i)⋅C(r, _i_7)⋅J(r, _i_2, p, q)'⋅C(q, i)'⋅2.0))+∑((j, q, r, s), (J(_i_2, q, r, s)⋅C(s, j)⋅C(q, _i_7)⋅C(r, j)'))+∑((j, p, r, s), (C(p, _i_7)⋅C(r, j)⋅J(p, _i_2, r, s)'⋅C(s, j)')))\n",
      "((2.0⋅∑((j, p, r, s), (C(p, _i_7)⋅C(r, j)⋅J(p, _i_2, r, s)'⋅C(s, j)')))+∑((i, p, q, r), (C(p, i)⋅C(r, _i_7)⋅J(r, _i_2, p, q)'⋅C(q, i)'⋅2.0)))\n",
      "<->\n",
      "\n",
      "  0.027348 seconds (90.32 k allocations: 3.737 MiB, 81.56% compilation time)\n",
      "7 sum_in\n",
      "((2.0⋅∑((j, p, r, s), (C(p, _i_7)⋅C(r, j)⋅J(p, _i_2, r, s)'⋅C(s, j)')))+∑((i, p, q, r), (C(p, i)⋅C(r, _i_7)⋅J(r, _i_2, p, q)'⋅C(q, i)'⋅2.0)))\n",
      "(2.0⋅∑((i, p, q, r), (C(p, i)⋅C(r, _i_7)⋅J(r, _i_2, p, q)'⋅C(q, i)'⋅2.0)))\n",
      "-->\n",
      "\n",
      "  0.003938 seconds (17.23 k allocations: 723.435 KiB, 73.18% compilation time)\n",
      "8 sum_in\n",
      "(2.0⋅∑((i, p, q, r), (C(p, i)⋅C(r, _i_7)⋅J(r, _i_2, p, q)'⋅C(q, i)'⋅2.0)))\n",
      "∑((i, p, q, r), (C(p, i)⋅C(r, _i_7)⋅J(r, _i_2, p, q)'⋅C(q, i)'⋅4.0))\n",
      "-->\n",
      "\n",
      "  0.000513 seconds (5.45 k allocations: 200.984 KiB)\n",
      "9 symmetry\n",
      "∑((i, p, q, r), (C(p, i)⋅C(r, _i_7)⋅J(r, _i_2, p, q)'⋅C(q, i)'⋅4.0))\n",
      "∑((i, p, q, r), (J(_i_2, r, q, p)⋅C(p, i)⋅C(r, _i_7)⋅C(q, i)'⋅4.0))\n",
      "<->\n",
      "\n",
      "  0.001732 seconds (17.43 k allocations: 584.469 KiB)\n",
      "10 symmetry\n",
      "∑((i, p, q, r), (J(_i_2, r, q, p)⋅C(p, i)⋅C(r, _i_7)⋅C(q, i)'⋅4.0))\n",
      "∑((i, p, q, r), (J(q, p, _i_2, r)⋅C(p, i)⋅C(r, _i_7)⋅C(q, i)'⋅4.0))\n",
      "<->\n",
      "\n",
      "  0.001601 seconds (17.20 k allocations: 584.906 KiB)\n",
      "11 symmetry\n",
      "∑((i, p, q, r), (J(q, p, _i_2, r)⋅C(p, i)⋅C(r, _i_7)⋅C(q, i)'⋅4.0))\n",
      "∑((i, p, q, r), (C(p, i)⋅C(r, _i_7)⋅J(p, q, r, _i_2)'⋅C(q, i)'⋅4.0))\n",
      "<->\n",
      "\n",
      "  0.003067 seconds (29.79 k allocations: 999.797 KiB)\n",
      "12 symmetry\n",
      "∑((i, p, q, r), (C(p, i)⋅C(r, _i_7)⋅J(r, _i_2, p, q)'⋅C(q, i)'⋅4.0))\n",
      "∑((i, p, q, r), (C(p, i)⋅C(r, _i_7)⋅J(p, q, r, _i_2)'⋅C(q, i)'⋅4.0))\n",
      "<->\n",
      "\n",
      "  0.002769 seconds (29.79 k allocations: 999.797 KiB)\n"
     ]
    },
    {
     "data": {
      "text/latex": [
       "$\\left(\\_i_2, \\_i_7\\right) \\to \\sum_{i, p, q, r}\\left[(J_{\\_i_2, r, q, p}\\cdot C_{p, i}\\cdot C_{r, \\_i_7}\\cdot C_{q, i}^*\\cdot 4.0)\\right]$"
      ],
      "text/plain": [
       "(_i_2, _i_7) -> \n",
       "    ∑((i, p, q, r), (J(_i_2, r, q, p)⋅C(p, i)⋅C(r, _i_7)⋅C(q, i)'⋅4.0))"
      ]
     },
     "execution_count": 13,
     "metadata": {},
     "output_type": "execute_result"
    }
   ],
   "source": [
    "dg = simplify(dg; settings=symmetry_settings) |> first\n",
    "dg"
   ]
  },
  {
   "cell_type": "markdown",
   "id": "979307c1-b2b6-448e-9419-46e93d1d034e",
   "metadata": {},
   "source": [
    "## Example: Maximally Localized Wannier Functions"
   ]
  },
  {
   "cell_type": "markdown",
   "id": "73fc31f3-5cca-4bd2-9bed-cd7c1aec435e",
   "metadata": {},
   "source": [
    "A number of assumptions are needed for simplification.\n",
    "\n",
    "- Periodic domain for the $k$ points.\n",
    "- Symmetric domain for the $b$ vectors, which also should not be contracted.\n",
    "- $M_{mn}$ matrices have symmetries.\n",
    "- the weights $w$ are symmetric."
   ]
  },
  {
   "cell_type": "code",
   "execution_count": 187,
   "id": "ec67334c-fae0-49a7-993e-ac33aae6635f",
   "metadata": {
    "tags": []
   },
   "outputs": [
    {
     "data": {
      "text/latex": [
       "$\\left(S, w\\right) \\to \\_$"
      ],
      "text/plain": [
       "(S, w) -> \n",
       "    _"
      ]
     },
     "execution_count": 187,
     "metadata": {},
     "output_type": "execute_result"
    }
   ],
   "source": [
    "f, ctx = @pct begin\n",
    "\n",
    "    @domain P begin\n",
    "        base = I\n",
    "        lower = -N\n",
    "        upper = N - 1\n",
    "        periodic = true\n",
    "    end\n",
    "\n",
    "    @domain Q begin\n",
    "        base = I\n",
    "        lower = -N\n",
    "        upper = N\n",
    "        contractable = false\n",
    "    end\n",
    "\n",
    "    @space Mmn begin\n",
    "        type = (I, I, I, I) -> C\n",
    "        symmetries = (((2, 1, 4, 3), :conj),)\n",
    "    end\n",
    "\n",
    "    @space Sym begin\n",
    "        type = (I,) -> C\n",
    "        symmetries = (((1,), :ineg),)\n",
    "    end\n",
    "\n",
    "    @space Gauge begin\n",
    "        type = (I, I, I) -> C\n",
    "    end\n",
    "\n",
    "    @space Density begin\n",
    "        type = (I, I) -> C\n",
    "    end\n",
    "\n",
    "    (S::Mmn, w::Sym) -> _\n",
    "end\n",
    "f"
   ]
  },
  {
   "cell_type": "markdown",
   "id": "c714e74e-49ff-4559-83c3-14f309eafcc8",
   "metadata": {},
   "source": [
    "Maximize $\\sum_{nb}|\\hat{\\rho}_n(\\mathrm{b})|^2$ \n",
    "\n",
    "Known as $|X_n|^2 + |Y_n|^2 + |Z_n|^2$ in Gamma point calculation.\n",
    "\n",
    "$U$ is the gauge and $S$ is Resta's polarization matrix."
   ]
  },
  {
   "cell_type": "code",
   "execution_count": 188,
   "id": "83a65064-fce3-4a76-a90a-5df3cf0b3de9",
   "metadata": {
    "tags": []
   },
   "outputs": [
    {
     "data": {
      "text/latex": [
       "$U \\to \\left(ρ \\to \\sum_{n, b}\\left[(ρ_{n, b}^*\\cdot ρ_{n, b})\\right]\\right)\\left(\\left(n, b\\right) \\to \\sum_{k, p, q}\\left[(U_{p, n, k}^*\\cdot U_{q, n, \\left(b+k\\right)}\\cdot S_{p, q, k, \\left(b+k\\right)})\\right]\\right)$"
      ],
      "text/plain": [
       "(U) -> \n",
       "    ((ρ) -> \n",
       "        ∑((n, b), (ρ(n, b)'⋅ρ(n, b))))((n, b) -> \n",
       "        ∑((k, p, q), (U(p, n, k)'⋅U(q, n, (b+k))⋅S(p, q, k, (b+k)))))"
      ]
     },
     "execution_count": 188,
     "metadata": {},
     "output_type": "execute_result"
    }
   ],
   "source": [
    "g = fc(@pct f ctx (U::Gauge) -> ((ρ::Density) -> sum((n::I, b::Q), ρ(n, b)' * ρ(n, b)))(\n",
    "    (n::I, b::Q) -> sum((k::P, p, q), U(p, n, k)' * S(p, q, k, k + b) * U(q, n, k + b))))"
   ]
  },
  {
   "cell_type": "markdown",
   "id": "127b10d7-2656-4891-9cf3-5b0e09996dab",
   "metadata": {},
   "source": [
    "Decompose into the primitives."
   ]
  },
  {
   "cell_type": "code",
   "execution_count": 189,
   "id": "7586400b-935c-4586-8329-b26ec98aa3a6",
   "metadata": {
    "tags": []
   },
   "outputs": [
    {
     "data": {
      "text/plain": [
       "U: ∑nb ◀ {n, b ⇥ U: *∑((k, p, q), (U(p, n, k)⋅U(q, n, (b+k))'⋅S(p, q, k, (b+k))')) ◀ ∑kpq ◀ {k, p, q ⇥ U: *(U(q, n, (b+k))⋅S(p, q, k, (b+k))) ◀ † ◀ ℳ U ◀ U: ->p|U: ->n|U: ->k}}\n"
      ]
     },
     "execution_count": 189,
     "metadata": {},
     "output_type": "execute_result"
    }
   ],
   "source": [
    "cg = decompose(eval_all(g))"
   ]
  },
  {
   "cell_type": "markdown",
   "id": "252016c5-9b26-4b7c-abf3-fcf7f5f06ad4",
   "metadata": {},
   "source": [
    "Calculate the pullback."
   ]
  },
  {
   "cell_type": "code",
   "execution_count": 190,
   "id": "0d3e65e2-74b5-41f6-a269-b43f7d2058bf",
   "metadata": {
    "tags": []
   },
   "outputs": [
    {
     "data": {
      "text/latex": [
       "$\\left(\\_z_0, \\_k_0\\right) \\to \\left(\\_i_1, \\_i_2, \\_i_7\\right) \\to \\sum_{n, b}\\left[\\left(\\sum_{k, p, q}\\left[\\left(\\delta_{\\_i_7}^{k}\\delta_{\\_i_2}^{n}\\delta_{\\_i_1}^{p}(\\_k_0^*\\cdot \\sum_{k, p, q}\\left[(U_{q, n, \\left(b+k\\right)}^*\\cdot S_{p, q, k, \\left(b+k\\right)}^*\\cdot U_{p, n, k})\\right]\\cdot U_{q, n, \\left(b+k\\right)}\\cdot S_{p, q, k, \\left(b+k\\right)})+\\sum_{\\_i_5}\\left[\\delta_{\\_i_7}^{\\left(b+k\\right)}\\delta_{\\_i_2}^{n}\\delta_{\\_i_1}^{q}(\\delta_{\\_i_5}^{U_{p, n, k}^*}(\\_k_0\\cdot \\sum_{k, p, q}\\left[(U_{p, n, k}^*\\cdot U_{q, n, \\left(b+k\\right)}\\cdot S_{p, q, k, \\left(b+k\\right)})\\right])\\cdot \\_i_5^*\\cdot S_{p, q, k, \\left(b+k\\right)}^*)\\right]\\right)\\right]+\\sum_{\\_i_0, k, p, q}\\left[\\left(\\delta_{\\_i_7}^{k}\\delta_{\\_i_2}^{n}\\delta_{\\_i_1}^{p}(\\delta_{\\_i_0}^{\\sum_{k, p, q}\\left[(U_{p, n, k}^*\\cdot U_{q, n, \\left(b+k\\right)}\\cdot S_{p, q, k, \\left(b+k\\right)})\\right]}\\_k_0\\cdot \\_i_0^*\\cdot U_{q, n, \\left(b+k\\right)}\\cdot S_{p, q, k, \\left(b+k\\right)})+\\sum_{\\_i_5}\\left[\\delta_{\\_i_7}^{\\left(b+k\\right)}\\delta_{\\_i_2}^{n}\\delta_{\\_i_1}^{q}(\\_i_5\\cdot \\delta_{U_{p, n, k}}^{\\_i_5}(\\_i_0\\cdot \\delta_{\\sum_{k, p, q}\\left[(U_{p, n, k}^*\\cdot U_{q, n, \\left(b+k\\right)}\\cdot S_{p, q, k, \\left(b+k\\right)})\\right]}^{\\_i_0}\\_k_0^*)\\cdot S_{p, q, k, \\left(b+k\\right)}^*)\\right]\\right)\\right]\\right)\\right]$"
      ],
      "text/plain": [
       "(_z_0, _k_0) -> \n",
       "    (_i_1, _i_2, _i_7) -> \n",
       "        ∑((n, b), (∑((k, p, q), (δ(k, _i_7, δ(n, _i_2, δ(p, _i_1, (_k_0'⋅∑((k, p, q), (U(q, n, (b+k))'⋅S(p, q, k, (b+k))'⋅U(p, n, k)))⋅U(q, n, (b+k))⋅S(p, q, k, (b+k))))))+∑((_i_5), δ((b+k), _i_7, δ(n, _i_2, δ(q, _i_1, (δ(U(p, n, k)', _i_5, (_k_0⋅∑((k, p, q), (U(p, n, k)'⋅U(q, n, (b+k))⋅S(p, q, k, (b+k))))))⋅_i_5'⋅S(p, q, k, (b+k))')))))))+∑((_i_0, k, p, q), (δ(k, _i_7, δ(n, _i_2, δ(p, _i_1, (δ(∑((k, p, q), (U(p, n, k)'⋅U(q, n, (b+k))⋅S(p, q, k, (b+k)))), _i_0, _k_0)⋅_i_0'⋅U(q, n, (b+k))⋅S(p, q, k, (b+k))))))+∑((_i_5), δ((b+k), _i_7, δ(n, _i_2, δ(q, _i_1, (_i_5⋅δ(_i_5, U(p, n, k), (_i_0⋅δ(_i_0, ∑((k, p, q), (U(p, n, k)'⋅U(q, n, (b+k))⋅S(p, q, k, (b+k)))), _k_0')))⋅S(p, q, k, (b+k))')))))))))"
      ]
     },
     "execution_count": 190,
     "metadata": {},
     "output_type": "execute_result"
    }
   ],
   "source": [
    "dg = pp(cg)"
   ]
  },
  {
   "cell_type": "markdown",
   "id": "2a6fc812-952a-4783-a8db-81551cf6e904",
   "metadata": {},
   "source": [
    "Get the gradient."
   ]
  },
  {
   "cell_type": "code",
   "execution_count": 191,
   "id": "cfde83eb-994c-4fb0-92c8-38b124a7bf10",
   "metadata": {
    "tags": []
   },
   "outputs": [
    {
     "data": {
      "text/latex": [
       "$\\left(\\_i_1, \\_i_2, \\_i_7\\right) \\to \\sum_{n, b}\\left[\\left(\\sum_{k, p, q}\\left[\\left(\\delta_{\\_i_7}^{k}\\delta_{\\_i_2}^{n}\\delta_{\\_i_1}^{p}(\\sum_{k, p, q}\\left[(U_{q, n, \\left(b+k\\right)}^*\\cdot S_{p, q, k, \\left(b+k\\right)}^*\\cdot U_{p, n, k})\\right]\\cdot U_{q, n, \\left(b+k\\right)}\\cdot S_{p, q, k, \\left(b+k\\right)})+\\sum_{\\_i_5}\\left[\\delta_{\\_i_7}^{\\left(b+k\\right)}\\delta_{\\_i_2}^{n}\\delta_{\\_i_1}^{q}(\\delta_{\\_i_5}^{U_{p, n, k}^*}\\sum_{k, p, q}\\left[(U_{p, n, k}^*\\cdot U_{q, n, \\left(b+k\\right)}\\cdot S_{p, q, k, \\left(b+k\\right)})\\right]\\cdot \\_i_5^*\\cdot S_{p, q, k, \\left(b+k\\right)}^*)\\right]\\right)\\right]+\\sum_{\\_i_0, k, p, q}\\left[\\left(\\delta_{\\_i_7}^{k}\\delta_{\\_i_2}^{n}\\delta_{\\_i_1}^{p}(\\delta_{\\_i_0}^{\\sum_{k, p, q}\\left[(U_{p, n, k}^*\\cdot U_{q, n, \\left(b+k\\right)}\\cdot S_{p, q, k, \\left(b+k\\right)})\\right]}1\\cdot \\_i_0^*\\cdot U_{q, n, \\left(b+k\\right)}\\cdot S_{p, q, k, \\left(b+k\\right)})+\\sum_{\\_i_5}\\left[\\delta_{\\_i_7}^{\\left(b+k\\right)}\\delta_{\\_i_2}^{n}\\delta_{\\_i_1}^{q}(\\_i_5\\cdot \\delta_{U_{p, n, k}}^{\\_i_5}(\\_i_0\\cdot \\delta_{\\sum_{k, p, q}\\left[(U_{p, n, k}^*\\cdot U_{q, n, \\left(b+k\\right)}\\cdot S_{p, q, k, \\left(b+k\\right)})\\right]}^{\\_i_0}1)\\cdot S_{p, q, k, \\left(b+k\\right)}^*)\\right]\\right)\\right]\\right)\\right]$"
      ],
      "text/plain": [
       "(_i_1, _i_2, _i_7) -> \n",
       "    ∑((n, b), (∑((k, p, q), (δ(k, _i_7, δ(n, _i_2, δ(p, _i_1, (∑((k, p, q), (U(q, n, (b+k))'⋅S(p, q, k, (b+k))'⋅U(p, n, k)))⋅U(q, n, (b+k))⋅S(p, q, k, (b+k))))))+∑((_i_5), δ((b+k), _i_7, δ(n, _i_2, δ(q, _i_1, (δ(U(p, n, k)', _i_5, ∑((k, p, q), (U(p, n, k)'⋅U(q, n, (b+k))⋅S(p, q, k, (b+k)))))⋅_i_5'⋅S(p, q, k, (b+k))')))))))+∑((_i_0, k, p, q), (δ(k, _i_7, δ(n, _i_2, δ(p, _i_1, (δ(∑((k, p, q), (U(p, n, k)'⋅U(q, n, (b+k))⋅S(p, q, k, (b+k)))), _i_0, 1)⋅_i_0'⋅U(q, n, (b+k))⋅S(p, q, k, (b+k))))))+∑((_i_5), δ((b+k), _i_7, δ(n, _i_2, δ(q, _i_1, (_i_5⋅δ(_i_5, U(p, n, k), (_i_0⋅δ(_i_0, ∑((k, p, q), (U(p, n, k)'⋅U(q, n, (b+k))⋅S(p, q, k, (b+k)))), 1)))⋅S(p, q, k, (b+k))')))))))))"
      ]
     },
     "execution_count": 191,
     "metadata": {},
     "output_type": "execute_result"
    }
   ],
   "source": [
    "dg = dg |> propagate_k"
   ]
  },
  {
   "cell_type": "code",
   "execution_count": 192,
   "id": "f3a2edc0-3f20-4049-8041-a74b385fe20f",
   "metadata": {
    "tags": []
   },
   "outputs": [
    {
     "name": "stdout",
     "output_type": "stream",
     "text": [
      "  0.042001 seconds (225.52 k allocations: 8.873 MiB, 21.33% gc time)\n",
      "1 sum_dist\n",
      "∑((n, b), (∑((k, p, q), (δ(k, _i_7, δ(n, _i_2, δ(p, _i_1, (∑((k, p, q), (U(q, n, (b+k))'⋅S(p, q, k, (b+k))'⋅U(p, n, k)))⋅U(q, n, (b+k))⋅S(p, q, k, (b+k))))))+∑((_i_5), δ((b+k), _i_7, δ(n, _i_2, δ(q, _i_1, (δ(U(p, n, k)', _i_5, ∑((k, p, q), (U(p, n, k)'⋅U(q, n, (b+k))⋅S(p, q, k, (b+k)))))⋅_i_5'⋅S(p, q, k, (b+k))')))))))+∑((_i_0, k, p, q), (δ(k, _i_7, δ(n, _i_2, δ(p, _i_1, (δ(∑((k, p, q), (U(p, n, k)'⋅U(q, n, (b+k))⋅S(p, q, k, (b+k)))), _i_0, 1)⋅_i_0'⋅U(q, n, (b+k))⋅S(p, q, k, (b+k))))))+∑((_i_5), δ((b+k), _i_7, δ(n, _i_2, δ(q, _i_1, (_i_5⋅δ(_i_5, U(p, n, k), (_i_0⋅δ(_i_0, ∑((k, p, q), (U(p, n, k)'⋅U(q, n, (b+k))⋅S(p, q, k, (b+k)))), 1)))⋅S(p, q, k, (b+k))')))))))))\n",
      "(∑((n, b, k, p, q), (δ(k, _i_7, δ(n, _i_2, δ(p, _i_1, (∑((k, p, q), (U(q, n, (b+k))'⋅S(p, q, k, (b+k))'⋅U(p, n, k)))⋅U(q, n, (b+k))⋅S(p, q, k, (b+k))))))+∑((_i_5), δ((b+k), _i_7, δ(n, _i_2, δ(q, _i_1, (δ(U(p, n, k)', _i_5, ∑((k, p, q), (U(p, n, k)'⋅U(q, n, (b+k))⋅S(p, q, k, (b+k)))))⋅_i_5'⋅S(p, q, k, (b+k))')))))))+∑((n, b, _i_0, k, p, q), (δ(k, _i_7, δ(n, _i_2, δ(p, _i_1, (δ(∑((k, p, q), (U(p, n, k)'⋅U(q, n, (b+k))⋅S(p, q, k, (b+k)))), _i_0, 1)⋅_i_0'⋅U(q, n, (b+k))⋅S(p, q, k, (b+k))))))+∑((_i_5), δ((b+k), _i_7, δ(n, _i_2, δ(q, _i_1, (_i_5⋅δ(_i_5, U(p, n, k), (_i_0⋅δ(_i_0, ∑((k, p, q), (U(p, n, k)'⋅U(q, n, (b+k))⋅S(p, q, k, (b+k)))), 1)))⋅S(p, q, k, (b+k))'))))))))\n",
      "-->\n",
      "\n",
      "  0.013570 seconds (125.06 k allocations: 4.135 MiB)\n",
      "2 sum_dist\n",
      "(∑((n, b, k, p, q), (δ(k, _i_7, δ(n, _i_2, δ(p, _i_1, (∑((k, p, q), (U(q, n, (b+k))'⋅S(p, q, k, (b+k))'⋅U(p, n, k)))⋅U(q, n, (b+k))⋅S(p, q, k, (b+k))))))+∑((_i_5), δ((b+k), _i_7, δ(n, _i_2, δ(q, _i_1, (δ(U(p, n, k)', _i_5, ∑((k, p, q), (U(p, n, k)'⋅U(q, n, (b+k))⋅S(p, q, k, (b+k)))))⋅_i_5'⋅S(p, q, k, (b+k))')))))))+∑((n, b, _i_0, k, p, q), (δ(k, _i_7, δ(n, _i_2, δ(p, _i_1, (δ(∑((k, p, q), (U(p, n, k)'⋅U(q, n, (b+k))⋅S(p, q, k, (b+k)))), _i_0, 1)⋅_i_0'⋅U(q, n, (b+k))⋅S(p, q, k, (b+k))))))+∑((_i_5), δ((b+k), _i_7, δ(n, _i_2, δ(q, _i_1, (_i_5⋅δ(_i_5, U(p, n, k), (_i_0⋅δ(_i_0, ∑((k, p, q), (U(p, n, k)'⋅U(q, n, (b+k))⋅S(p, q, k, (b+k)))), 1)))⋅S(p, q, k, (b+k))'))))))))\n",
      "(∑((n, b, k, p, q), δ(k, _i_7, δ(n, _i_2, δ(p, _i_1, (∑((k, p, q), (U(q, n, (b+k))'⋅S(p, q, k, (b+k))'⋅U(p, n, k)))⋅U(q, n, (b+k))⋅S(p, q, k, (b+k)))))))+∑((n, b, _i_0, k, p, q), (δ(k, _i_7, δ(n, _i_2, δ(p, _i_1, (δ(∑((k, p, q), (U(p, n, k)'⋅U(q, n, (b+k))⋅S(p, q, k, (b+k)))), _i_0, 1)⋅_i_0'⋅U(q, n, (b+k))⋅S(p, q, k, (b+k))))))+∑((_i_5), δ((b+k), _i_7, δ(n, _i_2, δ(q, _i_1, (_i_5⋅δ(_i_5, U(p, n, k), (_i_0⋅δ(_i_0, ∑((k, p, q), (U(p, n, k)'⋅U(q, n, (b+k))⋅S(p, q, k, (b+k)))), 1)))⋅S(p, q, k, (b+k))')))))))+∑((n, b, k, p, q, _i_5), δ((b+k), _i_7, δ(n, _i_2, δ(q, _i_1, (δ(U(p, n, k)', _i_5, ∑((k, p, q), (U(p, n, k)'⋅U(q, n, (b+k))⋅S(p, q, k, (b+k)))))⋅_i_5'⋅S(p, q, k, (b+k))'))))))\n",
      "-->\n",
      "\n",
      "  0.010523 seconds (106.32 k allocations: 3.427 MiB)\n",
      "3 contract_delta\n",
      "(∑((n, b, k, p, q), δ(k, _i_7, δ(n, _i_2, δ(p, _i_1, (∑((k, p, q), (U(q, n, (b+k))'⋅S(p, q, k, (b+k))'⋅U(p, n, k)))⋅U(q, n, (b+k))⋅S(p, q, k, (b+k)))))))+∑((n, b, _i_0, k, p, q), (δ(k, _i_7, δ(n, _i_2, δ(p, _i_1, (δ(∑((k, p, q), (U(p, n, k)'⋅U(q, n, (b+k))⋅S(p, q, k, (b+k)))), _i_0, 1)⋅_i_0'⋅U(q, n, (b+k))⋅S(p, q, k, (b+k))))))+∑((_i_5), δ((b+k), _i_7, δ(n, _i_2, δ(q, _i_1, (_i_5⋅δ(_i_5, U(p, n, k), (_i_0⋅δ(_i_0, ∑((k, p, q), (U(p, n, k)'⋅U(q, n, (b+k))⋅S(p, q, k, (b+k)))), 1)))⋅S(p, q, k, (b+k))')))))))+∑((n, b, k, p, q, _i_5), δ((b+k), _i_7, δ(n, _i_2, δ(q, _i_1, (δ(U(p, n, k)', _i_5, ∑((k, p, q), (U(p, n, k)'⋅U(q, n, (b+k))⋅S(p, q, k, (b+k)))))⋅_i_5'⋅S(p, q, k, (b+k))'))))))\n",
      "(∑((n, b, p, q), δ(n, _i_2, δ(p, _i_1, (∑((k, p, q), (U(q, n, (b+k))'⋅S(p, q, k, (b+k))'⋅U(p, n, k)))⋅U(q, n, (_i_7+b))⋅S(p, q, _i_7, (_i_7+b))))))+∑((n, b, _i_0, k, p, q), (δ(k, _i_7, δ(n, _i_2, δ(p, _i_1, (δ(∑((k, p, q), (U(p, n, k)'⋅U(q, n, (b+k))⋅S(p, q, k, (b+k)))), _i_0, 1)⋅_i_0'⋅U(q, n, (b+k))⋅S(p, q, k, (b+k))))))+∑((_i_5), δ((b+k), _i_7, δ(n, _i_2, δ(q, _i_1, (_i_5⋅δ(_i_5, U(p, n, k), (_i_0⋅δ(_i_0, ∑((k, p, q), (U(p, n, k)'⋅U(q, n, (b+k))⋅S(p, q, k, (b+k)))), 1)))⋅S(p, q, k, (b+k))')))))))+∑((n, b, k, p, q, _i_5), δ((b+k), _i_7, δ(n, _i_2, δ(q, _i_1, (δ(U(p, n, k)', _i_5, ∑((k, p, q), (U(p, n, k)'⋅U(q, n, (b+k))⋅S(p, q, k, (b+k)))))⋅_i_5'⋅S(p, q, k, (b+k))'))))))\n",
      "-->\n",
      "\n",
      "  0.010155 seconds (97.31 k allocations: 3.191 MiB)\n",
      "4 contract_delta\n",
      "(∑((n, b, p, q), δ(n, _i_2, δ(p, _i_1, (∑((k, p, q), (U(q, n, (b+k))'⋅S(p, q, k, (b+k))'⋅U(p, n, k)))⋅U(q, n, (_i_7+b))⋅S(p, q, _i_7, (_i_7+b))))))+∑((n, b, _i_0, k, p, q), (δ(k, _i_7, δ(n, _i_2, δ(p, _i_1, (δ(∑((k, p, q), (U(p, n, k)'⋅U(q, n, (b+k))⋅S(p, q, k, (b+k)))), _i_0, 1)⋅_i_0'⋅U(q, n, (b+k))⋅S(p, q, k, (b+k))))))+∑((_i_5), δ((b+k), _i_7, δ(n, _i_2, δ(q, _i_1, (_i_5⋅δ(_i_5, U(p, n, k), (_i_0⋅δ(_i_0, ∑((k, p, q), (U(p, n, k)'⋅U(q, n, (b+k))⋅S(p, q, k, (b+k)))), 1)))⋅S(p, q, k, (b+k))')))))))+∑((n, b, k, p, q, _i_5), δ((b+k), _i_7, δ(n, _i_2, δ(q, _i_1, (δ(U(p, n, k)', _i_5, ∑((k, p, q), (U(p, n, k)'⋅U(q, n, (b+k))⋅S(p, q, k, (b+k)))))⋅_i_5'⋅S(p, q, k, (b+k))'))))))\n",
      "(∑((b, p, q), δ(p, _i_1, (∑((k, p, q), (U(q, _i_2, (b+k))'⋅S(p, q, k, (b+k))'⋅U(p, _i_2, k)))⋅U(q, _i_2, (_i_7+b))⋅S(p, q, _i_7, (_i_7+b)))))+∑((n, b, _i_0, k, p, q), (δ(k, _i_7, δ(n, _i_2, δ(p, _i_1, (δ(∑((k, p, q), (U(p, n, k)'⋅U(q, n, (b+k))⋅S(p, q, k, (b+k)))), _i_0, 1)⋅_i_0'⋅U(q, n, (b+k))⋅S(p, q, k, (b+k))))))+∑((_i_5), δ((b+k), _i_7, δ(n, _i_2, δ(q, _i_1, (_i_5⋅δ(_i_5, U(p, n, k), (_i_0⋅δ(_i_0, ∑((k, p, q), (U(p, n, k)'⋅U(q, n, (b+k))⋅S(p, q, k, (b+k)))), 1)))⋅S(p, q, k, (b+k))')))))))+∑((n, b, k, p, q, _i_5), δ((b+k), _i_7, δ(n, _i_2, δ(q, _i_1, (δ(U(p, n, k)', _i_5, ∑((k, p, q), (U(p, n, k)'⋅U(q, n, (b+k))⋅S(p, q, k, (b+k)))))⋅_i_5'⋅S(p, q, k, (b+k))'))))))\n",
      "-->\n",
      "\n",
      "  0.010110 seconds (94.80 k allocations: 3.116 MiB)\n",
      "5 contract_delta\n",
      "(∑((b, p, q), δ(p, _i_1, (∑((k, p, q), (U(q, _i_2, (b+k))'⋅S(p, q, k, (b+k))'⋅U(p, _i_2, k)))⋅U(q, _i_2, (_i_7+b))⋅S(p, q, _i_7, (_i_7+b)))))+∑((n, b, _i_0, k, p, q), (δ(k, _i_7, δ(n, _i_2, δ(p, _i_1, (δ(∑((k, p, q), (U(p, n, k)'⋅U(q, n, (b+k))⋅S(p, q, k, (b+k)))), _i_0, 1)⋅_i_0'⋅U(q, n, (b+k))⋅S(p, q, k, (b+k))))))+∑((_i_5), δ((b+k), _i_7, δ(n, _i_2, δ(q, _i_1, (_i_5⋅δ(_i_5, U(p, n, k), (_i_0⋅δ(_i_0, ∑((k, p, q), (U(p, n, k)'⋅U(q, n, (b+k))⋅S(p, q, k, (b+k)))), 1)))⋅S(p, q, k, (b+k))')))))))+∑((n, b, k, p, q, _i_5), δ((b+k), _i_7, δ(n, _i_2, δ(q, _i_1, (δ(U(p, n, k)', _i_5, ∑((k, p, q), (U(p, n, k)'⋅U(q, n, (b+k))⋅S(p, q, k, (b+k)))))⋅_i_5'⋅S(p, q, k, (b+k))'))))))\n",
      "(∑((b, q), (∑((k, p, q), (U(q, _i_2, (b+k))'⋅S(p, q, k, (b+k))'⋅U(p, _i_2, k)))⋅U(q, _i_2, (_i_7+b))⋅S(_i_1, q, _i_7, (_i_7+b))))+∑((n, b, _i_0, k, p, q), (δ(k, _i_7, δ(n, _i_2, δ(p, _i_1, (δ(∑((k, p, q), (U(p, n, k)'⋅U(q, n, (b+k))⋅S(p, q, k, (b+k)))), _i_0, 1)⋅_i_0'⋅U(q, n, (b+k))⋅S(p, q, k, (b+k))))))+∑((_i_5), δ((b+k), _i_7, δ(n, _i_2, δ(q, _i_1, (_i_5⋅δ(_i_5, U(p, n, k), (_i_0⋅δ(_i_0, ∑((k, p, q), (U(p, n, k)'⋅U(q, n, (b+k))⋅S(p, q, k, (b+k)))), 1)))⋅S(p, q, k, (b+k))')))))))+∑((n, b, k, p, q, _i_5), δ((b+k), _i_7, δ(n, _i_2, δ(q, _i_1, (δ(U(p, n, k)', _i_5, ∑((k, p, q), (U(p, n, k)'⋅U(q, n, (b+k))⋅S(p, q, k, (b+k)))))⋅_i_5'⋅S(p, q, k, (b+k))'))))))\n",
      "-->\n",
      "\n",
      "  0.010260 seconds (99.11 k allocations: 3.238 MiB)\n",
      "6 sum_in\n",
      "(∑((b, q), (∑((k, p, q), (U(q, _i_2, (b+k))'⋅S(p, q, k, (b+k))'⋅U(p, _i_2, k)))⋅U(q, _i_2, (_i_7+b))⋅S(_i_1, q, _i_7, (_i_7+b))))+∑((n, b, _i_0, k, p, q), (δ(k, _i_7, δ(n, _i_2, δ(p, _i_1, (δ(∑((k, p, q), (U(p, n, k)'⋅U(q, n, (b+k))⋅S(p, q, k, (b+k)))), _i_0, 1)⋅_i_0'⋅U(q, n, (b+k))⋅S(p, q, k, (b+k))))))+∑((_i_5), δ((b+k), _i_7, δ(n, _i_2, δ(q, _i_1, (_i_5⋅δ(_i_5, U(p, n, k), (_i_0⋅δ(_i_0, ∑((k, p, q), (U(p, n, k)'⋅U(q, n, (b+k))⋅S(p, q, k, (b+k)))), 1)))⋅S(p, q, k, (b+k))')))))))+∑((n, b, k, p, q, _i_5), δ((b+k), _i_7, δ(n, _i_2, δ(q, _i_1, (δ(U(p, n, k)', _i_5, ∑((k, p, q), (U(p, n, k)'⋅U(q, n, (b+k))⋅S(p, q, k, (b+k)))))⋅_i_5'⋅S(p, q, k, (b+k))'))))))\n",
      "(∑((b, q, k, p, _i_0), (U(_i_0, _i_2, (b+k))'⋅S(p, _i_0, k, (b+k))'⋅U(q, _i_2, (_i_7+b))⋅U(p, _i_2, k)⋅S(_i_1, q, _i_7, (_i_7+b))))+∑((n, b, _i_0, k, p, q), (δ(k, _i_7, δ(n, _i_2, δ(p, _i_1, (δ(∑((k, p, q), (U(p, n, k)'⋅U(q, n, (b+k))⋅S(p, q, k, (b+k)))), _i_0, 1)⋅_i_0'⋅U(q, n, (b+k))⋅S(p, q, k, (b+k))))))+∑((_i_5), δ((b+k), _i_7, δ(n, _i_2, δ(q, _i_1, (_i_5⋅δ(_i_5, U(p, n, k), (_i_0⋅δ(_i_0, ∑((k, p, q), (U(p, n, k)'⋅U(q, n, (b+k))⋅S(p, q, k, (b+k)))), 1)))⋅S(p, q, k, (b+k))')))))))+∑((n, b, k, p, q, _i_5), δ((b+k), _i_7, δ(n, _i_2, δ(q, _i_1, (δ(U(p, n, k)', _i_5, ∑((k, p, q), (U(p, n, k)'⋅U(q, n, (b+k))⋅S(p, q, k, (b+k)))))⋅_i_5'⋅S(p, q, k, (b+k))'))))))\n",
      "-->\n",
      "\n",
      "  0.015390 seconds (195.60 k allocations: 5.946 MiB)\n",
      "7 sum_dist\n",
      "(∑((b, q, k, p, _i_0), (U(_i_0, _i_2, (b+k))'⋅S(p, _i_0, k, (b+k))'⋅U(q, _i_2, (_i_7+b))⋅U(p, _i_2, k)⋅S(_i_1, q, _i_7, (_i_7+b))))+∑((n, b, _i_0, k, p, q), (δ(k, _i_7, δ(n, _i_2, δ(p, _i_1, (δ(∑((k, p, q), (U(p, n, k)'⋅U(q, n, (b+k))⋅S(p, q, k, (b+k)))), _i_0, 1)⋅_i_0'⋅U(q, n, (b+k))⋅S(p, q, k, (b+k))))))+∑((_i_5), δ((b+k), _i_7, δ(n, _i_2, δ(q, _i_1, (_i_5⋅δ(_i_5, U(p, n, k), (_i_0⋅δ(_i_0, ∑((k, p, q), (U(p, n, k)'⋅U(q, n, (b+k))⋅S(p, q, k, (b+k)))), 1)))⋅S(p, q, k, (b+k))')))))))+∑((n, b, k, p, q, _i_5), δ((b+k), _i_7, δ(n, _i_2, δ(q, _i_1, (δ(U(p, n, k)', _i_5, ∑((k, p, q), (U(p, n, k)'⋅U(q, n, (b+k))⋅S(p, q, k, (b+k)))))⋅_i_5'⋅S(p, q, k, (b+k))'))))))\n",
      "(∑((b, q, k, p, _i_0), (U(_i_0, _i_2, (b+k))'⋅S(p, _i_0, k, (b+k))'⋅U(q, _i_2, (_i_7+b))⋅U(p, _i_2, k)⋅S(_i_1, q, _i_7, (_i_7+b))))+∑((n, b, _i_0, k, p, q), δ(k, _i_7, δ(n, _i_2, δ(p, _i_1, (δ(∑((k, p, q), (U(p, n, k)'⋅U(q, n, (b+k))⋅S(p, q, k, (b+k)))), _i_0, 1)⋅_i_0'⋅U(q, n, (b+k))⋅S(p, q, k, (b+k)))))))+∑((n, b, k, p, q, _i_5), δ((b+k), _i_7, δ(n, _i_2, δ(q, _i_1, (δ(U(p, n, k)', _i_5, ∑((k, p, q), (U(p, n, k)'⋅U(q, n, (b+k))⋅S(p, q, k, (b+k)))))⋅_i_5'⋅S(p, q, k, (b+k))')))))+∑((n, b, _i_0, k, p, q, _i_5), δ((b+k), _i_7, δ(n, _i_2, δ(q, _i_1, (_i_5⋅δ(_i_5, U(p, n, k), (_i_0⋅δ(_i_0, ∑((k, p, q), (U(p, n, k)'⋅U(q, n, (b+k))⋅S(p, q, k, (b+k)))), 1)))⋅S(p, q, k, (b+k))'))))))\n",
      "-->\n",
      "\n",
      "  0.007785 seconds (119.94 k allocations: 3.489 MiB)\n",
      "8 contract_delta\n",
      "(∑((b, q, k, p, _i_0), (U(_i_0, _i_2, (b+k))'⋅S(p, _i_0, k, (b+k))'⋅U(q, _i_2, (_i_7+b))⋅U(p, _i_2, k)⋅S(_i_1, q, _i_7, (_i_7+b))))+∑((n, b, _i_0, k, p, q), δ(k, _i_7, δ(n, _i_2, δ(p, _i_1, (δ(∑((k, p, q), (U(p, n, k)'⋅U(q, n, (b+k))⋅S(p, q, k, (b+k)))), _i_0, 1)⋅_i_0'⋅U(q, n, (b+k))⋅S(p, q, k, (b+k)))))))+∑((n, b, k, p, q, _i_5), δ((b+k), _i_7, δ(n, _i_2, δ(q, _i_1, (δ(U(p, n, k)', _i_5, ∑((k, p, q), (U(p, n, k)'⋅U(q, n, (b+k))⋅S(p, q, k, (b+k)))))⋅_i_5'⋅S(p, q, k, (b+k))')))))+∑((n, b, _i_0, k, p, q, _i_5), δ((b+k), _i_7, δ(n, _i_2, δ(q, _i_1, (_i_5⋅δ(_i_5, U(p, n, k), (_i_0⋅δ(_i_0, ∑((k, p, q), (U(p, n, k)'⋅U(q, n, (b+k))⋅S(p, q, k, (b+k)))), 1)))⋅S(p, q, k, (b+k))'))))))\n",
      "(∑((n, b, _i_0, p, q), δ(n, _i_2, δ(p, _i_1, (δ(∑((k, p, q), (U(p, n, k)'⋅U(q, n, (b+k))⋅S(p, q, k, (b+k)))), _i_0, 1)⋅_i_0'⋅U(q, n, (_i_7+b))⋅S(p, q, _i_7, (_i_7+b))))))+∑((b, q, k, p, _i_0), (U(_i_0, _i_2, (b+k))'⋅S(p, _i_0, k, (b+k))'⋅U(q, _i_2, (_i_7+b))⋅U(p, _i_2, k)⋅S(_i_1, q, _i_7, (_i_7+b))))+∑((n, b, k, p, q, _i_5), δ((b+k), _i_7, δ(n, _i_2, δ(q, _i_1, (δ(U(p, n, k)', _i_5, ∑((k, p, q), (U(p, n, k)'⋅U(q, n, (b+k))⋅S(p, q, k, (b+k)))))⋅_i_5'⋅S(p, q, k, (b+k))')))))+∑((n, b, _i_0, k, p, q, _i_5), δ((b+k), _i_7, δ(n, _i_2, δ(q, _i_1, (_i_5⋅δ(_i_5, U(p, n, k), (_i_0⋅δ(_i_0, ∑((k, p, q), (U(p, n, k)'⋅U(q, n, (b+k))⋅S(p, q, k, (b+k)))), 1)))⋅S(p, q, k, (b+k))'))))))\n",
      "-->\n",
      "\n",
      "  0.013460 seconds (211.06 k allocations: 6.155 MiB)\n",
      "9 contract_delta\n",
      "(∑((n, b, _i_0, p, q), δ(n, _i_2, δ(p, _i_1, (δ(∑((k, p, q), (U(p, n, k)'⋅U(q, n, (b+k))⋅S(p, q, k, (b+k)))), _i_0, 1)⋅_i_0'⋅U(q, n, (_i_7+b))⋅S(p, q, _i_7, (_i_7+b))))))+∑((b, q, k, p, _i_0), (U(_i_0, _i_2, (b+k))'⋅S(p, _i_0, k, (b+k))'⋅U(q, _i_2, (_i_7+b))⋅U(p, _i_2, k)⋅S(_i_1, q, _i_7, (_i_7+b))))+∑((n, b, k, p, q, _i_5), δ((b+k), _i_7, δ(n, _i_2, δ(q, _i_1, (δ(U(p, n, k)', _i_5, ∑((k, p, q), (U(p, n, k)'⋅U(q, n, (b+k))⋅S(p, q, k, (b+k)))))⋅_i_5'⋅S(p, q, k, (b+k))')))))+∑((n, b, _i_0, k, p, q, _i_5), δ((b+k), _i_7, δ(n, _i_2, δ(q, _i_1, (_i_5⋅δ(_i_5, U(p, n, k), (_i_0⋅δ(_i_0, ∑((k, p, q), (U(p, n, k)'⋅U(q, n, (b+k))⋅S(p, q, k, (b+k)))), 1)))⋅S(p, q, k, (b+k))'))))))\n",
      "(∑((b, _i_0, p, q), δ(p, _i_1, (δ(∑((k, p, q), (U(p, _i_2, k)'⋅U(q, _i_2, (b+k))⋅S(p, q, k, (b+k)))), _i_0, 1)⋅_i_0'⋅U(q, _i_2, (_i_7+b))⋅S(p, q, _i_7, (_i_7+b)))))+∑((b, q, k, p, _i_0), (U(_i_0, _i_2, (b+k))'⋅S(p, _i_0, k, (b+k))'⋅U(q, _i_2, (_i_7+b))⋅U(p, _i_2, k)⋅S(_i_1, q, _i_7, (_i_7+b))))+∑((n, b, k, p, q, _i_5), δ((b+k), _i_7, δ(n, _i_2, δ(q, _i_1, (δ(U(p, n, k)', _i_5, ∑((k, p, q), (U(p, n, k)'⋅U(q, n, (b+k))⋅S(p, q, k, (b+k)))))⋅_i_5'⋅S(p, q, k, (b+k))')))))+∑((n, b, _i_0, k, p, q, _i_5), δ((b+k), _i_7, δ(n, _i_2, δ(q, _i_1, (_i_5⋅δ(_i_5, U(p, n, k), (_i_0⋅δ(_i_0, ∑((k, p, q), (U(p, n, k)'⋅U(q, n, (b+k))⋅S(p, q, k, (b+k)))), 1)))⋅S(p, q, k, (b+k))'))))))\n",
      "-->\n",
      "\n",
      "  0.006297 seconds (85.11 k allocations: 2.519 MiB)\n",
      "10 contract_delta\n",
      "(∑((b, _i_0, p, q), δ(p, _i_1, (δ(∑((k, p, q), (U(p, _i_2, k)'⋅U(q, _i_2, (b+k))⋅S(p, q, k, (b+k)))), _i_0, 1)⋅_i_0'⋅U(q, _i_2, (_i_7+b))⋅S(p, q, _i_7, (_i_7+b)))))+∑((b, q, k, p, _i_0), (U(_i_0, _i_2, (b+k))'⋅S(p, _i_0, k, (b+k))'⋅U(q, _i_2, (_i_7+b))⋅U(p, _i_2, k)⋅S(_i_1, q, _i_7, (_i_7+b))))+∑((n, b, k, p, q, _i_5), δ((b+k), _i_7, δ(n, _i_2, δ(q, _i_1, (δ(U(p, n, k)', _i_5, ∑((k, p, q), (U(p, n, k)'⋅U(q, n, (b+k))⋅S(p, q, k, (b+k)))))⋅_i_5'⋅S(p, q, k, (b+k))')))))+∑((n, b, _i_0, k, p, q, _i_5), δ((b+k), _i_7, δ(n, _i_2, δ(q, _i_1, (_i_5⋅δ(_i_5, U(p, n, k), (_i_0⋅δ(_i_0, ∑((k, p, q), (U(p, n, k)'⋅U(q, n, (b+k))⋅S(p, q, k, (b+k)))), 1)))⋅S(p, q, k, (b+k))'))))))\n",
      "(∑((b, _i_0, q), (δ(∑((k, p, q), (U(p, _i_2, k)'⋅U(q, _i_2, (b+k))⋅S(p, q, k, (b+k)))), _i_0, 1)⋅_i_0'⋅U(q, _i_2, (_i_7+b))⋅S(_i_1, q, _i_7, (_i_7+b))))+∑((b, q, k, p, _i_0), (U(_i_0, _i_2, (b+k))'⋅S(p, _i_0, k, (b+k))'⋅U(q, _i_2, (_i_7+b))⋅U(p, _i_2, k)⋅S(_i_1, q, _i_7, (_i_7+b))))+∑((n, b, k, p, q, _i_5), δ((b+k), _i_7, δ(n, _i_2, δ(q, _i_1, (δ(U(p, n, k)', _i_5, ∑((k, p, q), (U(p, n, k)'⋅U(q, n, (b+k))⋅S(p, q, k, (b+k)))))⋅_i_5'⋅S(p, q, k, (b+k))')))))+∑((n, b, _i_0, k, p, q, _i_5), δ((b+k), _i_7, δ(n, _i_2, δ(q, _i_1, (_i_5⋅δ(_i_5, U(p, n, k), (_i_0⋅δ(_i_0, ∑((k, p, q), (U(p, n, k)'⋅U(q, n, (b+k))⋅S(p, q, k, (b+k)))), 1)))⋅S(p, q, k, (b+k))'))))))\n",
      "-->\n",
      "\n",
      "  0.006193 seconds (86.09 k allocations: 2.551 MiB)\n",
      "11 swallow\n",
      "(∑((b, _i_0, q), (δ(∑((k, p, q), (U(p, _i_2, k)'⋅U(q, _i_2, (b+k))⋅S(p, q, k, (b+k)))), _i_0, 1)⋅_i_0'⋅U(q, _i_2, (_i_7+b))⋅S(_i_1, q, _i_7, (_i_7+b))))+∑((b, q, k, p, _i_0), (U(_i_0, _i_2, (b+k))'⋅S(p, _i_0, k, (b+k))'⋅U(q, _i_2, (_i_7+b))⋅U(p, _i_2, k)⋅S(_i_1, q, _i_7, (_i_7+b))))+∑((n, b, k, p, q, _i_5), δ((b+k), _i_7, δ(n, _i_2, δ(q, _i_1, (δ(U(p, n, k)', _i_5, ∑((k, p, q), (U(p, n, k)'⋅U(q, n, (b+k))⋅S(p, q, k, (b+k)))))⋅_i_5'⋅S(p, q, k, (b+k))')))))+∑((n, b, _i_0, k, p, q, _i_5), δ((b+k), _i_7, δ(n, _i_2, δ(q, _i_1, (_i_5⋅δ(_i_5, U(p, n, k), (_i_0⋅δ(_i_0, ∑((k, p, q), (U(p, n, k)'⋅U(q, n, (b+k))⋅S(p, q, k, (b+k)))), 1)))⋅S(p, q, k, (b+k))'))))))\n",
      "(∑((b, _i_0, q), δ(_i_0, ∑((k, p, q), (U(p, _i_2, k)'⋅U(q, _i_2, (b+k))⋅S(p, q, k, (b+k)))), (_i_0'⋅U(q, _i_2, (_i_7+b))⋅S(_i_1, q, _i_7, (_i_7+b)))))+∑((b, q, k, p, _i_0), (U(_i_0, _i_2, (b+k))'⋅S(p, _i_0, k, (b+k))'⋅U(q, _i_2, (_i_7+b))⋅U(p, _i_2, k)⋅S(_i_1, q, _i_7, (_i_7+b))))+∑((n, b, k, p, q, _i_5), δ((b+k), _i_7, δ(n, _i_2, δ(q, _i_1, (δ(U(p, n, k)', _i_5, ∑((k, p, q), (U(p, n, k)'⋅U(q, n, (b+k))⋅S(p, q, k, (b+k)))))⋅_i_5'⋅S(p, q, k, (b+k))')))))+∑((n, b, _i_0, k, p, q, _i_5), δ((b+k), _i_7, δ(n, _i_2, δ(q, _i_1, (_i_5⋅δ(_i_5, U(p, n, k), (_i_0⋅δ(_i_0, ∑((k, p, q), (U(p, n, k)'⋅U(q, n, (b+k))⋅S(p, q, k, (b+k)))), 1)))⋅S(p, q, k, (b+k))'))))))\n",
      "-->\n",
      "\n",
      "  0.010662 seconds (158.67 k allocations: 4.639 MiB)\n",
      "12 contract_delta\n",
      "(∑((b, _i_0, q), δ(_i_0, ∑((k, p, q), (U(p, _i_2, k)'⋅U(q, _i_2, (b+k))⋅S(p, q, k, (b+k)))), (_i_0'⋅U(q, _i_2, (_i_7+b))⋅S(_i_1, q, _i_7, (_i_7+b)))))+∑((b, q, k, p, _i_0), (U(_i_0, _i_2, (b+k))'⋅S(p, _i_0, k, (b+k))'⋅U(q, _i_2, (_i_7+b))⋅U(p, _i_2, k)⋅S(_i_1, q, _i_7, (_i_7+b))))+∑((n, b, k, p, q, _i_5), δ((b+k), _i_7, δ(n, _i_2, δ(q, _i_1, (δ(U(p, n, k)', _i_5, ∑((k, p, q), (U(p, n, k)'⋅U(q, n, (b+k))⋅S(p, q, k, (b+k)))))⋅_i_5'⋅S(p, q, k, (b+k))')))))+∑((n, b, _i_0, k, p, q, _i_5), δ((b+k), _i_7, δ(n, _i_2, δ(q, _i_1, (_i_5⋅δ(_i_5, U(p, n, k), (_i_0⋅δ(_i_0, ∑((k, p, q), (U(p, n, k)'⋅U(q, n, (b+k))⋅S(p, q, k, (b+k)))), 1)))⋅S(p, q, k, (b+k))'))))))\n",
      "(∑((b, q), (∑((k, p, q), (U(p, _i_2, k)⋅U(q, _i_2, (b+k))'⋅S(p, q, k, (b+k))'))⋅U(q, _i_2, (_i_7+b))⋅S(_i_1, q, _i_7, (_i_7+b))))+∑((b, q, k, p, _i_0), (U(_i_0, _i_2, (b+k))'⋅S(p, _i_0, k, (b+k))'⋅U(q, _i_2, (_i_7+b))⋅U(p, _i_2, k)⋅S(_i_1, q, _i_7, (_i_7+b))))+∑((n, b, k, p, q, _i_5), δ((b+k), _i_7, δ(n, _i_2, δ(q, _i_1, (δ(U(p, n, k)', _i_5, ∑((k, p, q), (U(p, n, k)'⋅U(q, n, (b+k))⋅S(p, q, k, (b+k)))))⋅_i_5'⋅S(p, q, k, (b+k))')))))+∑((n, b, _i_0, k, p, q, _i_5), δ((b+k), _i_7, δ(n, _i_2, δ(q, _i_1, (_i_5⋅δ(_i_5, U(p, n, k), (_i_0⋅δ(_i_0, ∑((k, p, q), (U(p, n, k)'⋅U(q, n, (b+k))⋅S(p, q, k, (b+k)))), 1)))⋅S(p, q, k, (b+k))'))))))\n",
      "-->\n",
      "\n",
      "  0.005815 seconds (81.64 k allocations: 2.421 MiB)\n",
      "13 sum_in\n",
      "(∑((b, q), (∑((k, p, q), (U(p, _i_2, k)⋅U(q, _i_2, (b+k))'⋅S(p, q, k, (b+k))'))⋅U(q, _i_2, (_i_7+b))⋅S(_i_1, q, _i_7, (_i_7+b))))+∑((b, q, k, p, _i_0), (U(_i_0, _i_2, (b+k))'⋅S(p, _i_0, k, (b+k))'⋅U(q, _i_2, (_i_7+b))⋅U(p, _i_2, k)⋅S(_i_1, q, _i_7, (_i_7+b))))+∑((n, b, k, p, q, _i_5), δ((b+k), _i_7, δ(n, _i_2, δ(q, _i_1, (δ(U(p, n, k)', _i_5, ∑((k, p, q), (U(p, n, k)'⋅U(q, n, (b+k))⋅S(p, q, k, (b+k)))))⋅_i_5'⋅S(p, q, k, (b+k))')))))+∑((n, b, _i_0, k, p, q, _i_5), δ((b+k), _i_7, δ(n, _i_2, δ(q, _i_1, (_i_5⋅δ(_i_5, U(p, n, k), (_i_0⋅δ(_i_0, ∑((k, p, q), (U(p, n, k)'⋅U(q, n, (b+k))⋅S(p, q, k, (b+k)))), 1)))⋅S(p, q, k, (b+k))'))))))\n",
      "((∑((b, q, k, p, _i_0), (U(_i_0, _i_2, (b+k))'⋅S(p, _i_0, k, (b+k))'⋅U(q, _i_2, (_i_7+b))⋅U(p, _i_2, k)⋅S(_i_1, q, _i_7, (_i_7+b))))⋅2.0)+∑((n, b, k, p, q, _i_5), δ((b+k), _i_7, δ(n, _i_2, δ(q, _i_1, (δ(U(p, n, k)', _i_5, ∑((k, p, q), (U(p, n, k)'⋅U(q, n, (b+k))⋅S(p, q, k, (b+k)))))⋅_i_5'⋅S(p, q, k, (b+k))')))))+∑((n, b, _i_0, k, p, q, _i_5), δ((b+k), _i_7, δ(n, _i_2, δ(q, _i_1, (_i_5⋅δ(_i_5, U(p, n, k), (_i_0⋅δ(_i_0, ∑((k, p, q), (U(p, n, k)'⋅U(q, n, (b+k))⋅S(p, q, k, (b+k)))), 1)))⋅S(p, q, k, (b+k))'))))))\n",
      "-->\n",
      "\n",
      "  0.075040 seconds (674.13 k allocations: 21.066 MiB, 15.20% gc time)\n",
      "14 sum_in\n",
      "((∑((b, q, k, p, _i_0), (U(_i_0, _i_2, (b+k))'⋅S(p, _i_0, k, (b+k))'⋅U(q, _i_2, (_i_7+b))⋅U(p, _i_2, k)⋅S(_i_1, q, _i_7, (_i_7+b))))⋅2.0)+∑((n, b, k, p, q, _i_5), δ((b+k), _i_7, δ(n, _i_2, δ(q, _i_1, (δ(U(p, n, k)', _i_5, ∑((k, p, q), (U(p, n, k)'⋅U(q, n, (b+k))⋅S(p, q, k, (b+k)))))⋅_i_5'⋅S(p, q, k, (b+k))')))))+∑((n, b, _i_0, k, p, q, _i_5), δ((b+k), _i_7, δ(n, _i_2, δ(q, _i_1, (_i_5⋅δ(_i_5, U(p, n, k), (_i_0⋅δ(_i_0, ∑((k, p, q), (U(p, n, k)'⋅U(q, n, (b+k))⋅S(p, q, k, (b+k)))), 1)))⋅S(p, q, k, (b+k))'))))))\n",
      "(∑((b, q, k, p, _i_0), (U(_i_0, _i_2, (b+k))'⋅S(p, _i_0, k, (b+k))'⋅2.0⋅U(q, _i_2, (_i_7+b))⋅U(p, _i_2, k)⋅S(_i_1, q, _i_7, (_i_7+b))))+∑((n, b, k, p, q, _i_5), δ((b+k), _i_7, δ(n, _i_2, δ(q, _i_1, (δ(U(p, n, k)', _i_5, ∑((k, p, q), (U(p, n, k)'⋅U(q, n, (b+k))⋅S(p, q, k, (b+k)))))⋅_i_5'⋅S(p, q, k, (b+k))')))))+∑((n, b, _i_0, k, p, q, _i_5), δ((b+k), _i_7, δ(n, _i_2, δ(q, _i_1, (_i_5⋅δ(_i_5, U(p, n, k), (_i_0⋅δ(_i_0, ∑((k, p, q), (U(p, n, k)'⋅U(q, n, (b+k))⋅S(p, q, k, (b+k)))), 1)))⋅S(p, q, k, (b+k))'))))))\n",
      "-->\n",
      "\n",
      "  0.031035 seconds (282.11 k allocations: 8.139 MiB, 38.05% gc time)\n",
      "15 contract_delta\n",
      "(∑((b, q, k, p, _i_0), (U(_i_0, _i_2, (b+k))'⋅S(p, _i_0, k, (b+k))'⋅2.0⋅U(q, _i_2, (_i_7+b))⋅U(p, _i_2, k)⋅S(_i_1, q, _i_7, (_i_7+b))))+∑((n, b, k, p, q, _i_5), δ((b+k), _i_7, δ(n, _i_2, δ(q, _i_1, (δ(U(p, n, k)', _i_5, ∑((k, p, q), (U(p, n, k)'⋅U(q, n, (b+k))⋅S(p, q, k, (b+k)))))⋅_i_5'⋅S(p, q, k, (b+k))')))))+∑((n, b, _i_0, k, p, q, _i_5), δ((b+k), _i_7, δ(n, _i_2, δ(q, _i_1, (_i_5⋅δ(_i_5, U(p, n, k), (_i_0⋅δ(_i_0, ∑((k, p, q), (U(p, n, k)'⋅U(q, n, (b+k))⋅S(p, q, k, (b+k)))), 1)))⋅S(p, q, k, (b+k))'))))))\n",
      "(∑((n, b, p, q, _i_5), δ(n, _i_2, δ(q, _i_1, (δ(U(p, n, ((b⋅-1.0)+_i_7))', _i_5, ∑((k, p, q), (U(p, n, k)'⋅U(q, n, (b+k))⋅S(p, q, k, (b+k)))))⋅_i_5'⋅S(p, q, ((b⋅-1.0)+_i_7), _i_7)'))))+∑((b, q, k, p, _i_0), (U(_i_0, _i_2, (b+k))'⋅S(p, _i_0, k, (b+k))'⋅2.0⋅U(q, _i_2, (_i_7+b))⋅U(p, _i_2, k)⋅S(_i_1, q, _i_7, (_i_7+b))))+∑((n, b, _i_0, k, p, q, _i_5), δ((b+k), _i_7, δ(n, _i_2, δ(q, _i_1, (_i_5⋅δ(_i_5, U(p, n, k), (_i_0⋅δ(_i_0, ∑((k, p, q), (U(p, n, k)'⋅U(q, n, (b+k))⋅S(p, q, k, (b+k)))), 1)))⋅S(p, q, k, (b+k))'))))))\n",
      "-->\n",
      "\n",
      "  0.006874 seconds (88.91 k allocations: 2.698 MiB)\n",
      "16 contract_delta\n",
      "(∑((n, b, p, q, _i_5), δ(n, _i_2, δ(q, _i_1, (δ(U(p, n, ((b⋅-1.0)+_i_7))', _i_5, ∑((k, p, q), (U(p, n, k)'⋅U(q, n, (b+k))⋅S(p, q, k, (b+k)))))⋅_i_5'⋅S(p, q, ((b⋅-1.0)+_i_7), _i_7)'))))+∑((b, q, k, p, _i_0), (U(_i_0, _i_2, (b+k))'⋅S(p, _i_0, k, (b+k))'⋅2.0⋅U(q, _i_2, (_i_7+b))⋅U(p, _i_2, k)⋅S(_i_1, q, _i_7, (_i_7+b))))+∑((n, b, _i_0, k, p, q, _i_5), δ((b+k), _i_7, δ(n, _i_2, δ(q, _i_1, (_i_5⋅δ(_i_5, U(p, n, k), (_i_0⋅δ(_i_0, ∑((k, p, q), (U(p, n, k)'⋅U(q, n, (b+k))⋅S(p, q, k, (b+k)))), 1)))⋅S(p, q, k, (b+k))'))))))\n",
      "(∑((b, p, q, _i_5), δ(q, _i_1, (δ(U(p, _i_2, ((b⋅-1.0)+_i_7))', _i_5, ∑((k, p, q), (U(p, _i_2, k)'⋅U(q, _i_2, (b+k))⋅S(p, q, k, (b+k)))))⋅_i_5'⋅S(p, q, ((b⋅-1.0)+_i_7), _i_7)')))+∑((b, q, k, p, _i_0), (U(_i_0, _i_2, (b+k))'⋅S(p, _i_0, k, (b+k))'⋅2.0⋅U(q, _i_2, (_i_7+b))⋅U(p, _i_2, k)⋅S(_i_1, q, _i_7, (_i_7+b))))+∑((n, b, _i_0, k, p, q, _i_5), δ((b+k), _i_7, δ(n, _i_2, δ(q, _i_1, (_i_5⋅δ(_i_5, U(p, n, k), (_i_0⋅δ(_i_0, ∑((k, p, q), (U(p, n, k)'⋅U(q, n, (b+k))⋅S(p, q, k, (b+k)))), 1)))⋅S(p, q, k, (b+k))'))))))\n",
      "-->\n",
      "\n",
      "  0.016999 seconds (60.35 k allocations: 1.816 MiB, 68.37% gc time)\n",
      "17 contract_delta\n",
      "(∑((b, p, q, _i_5), δ(q, _i_1, (δ(U(p, _i_2, ((b⋅-1.0)+_i_7))', _i_5, ∑((k, p, q), (U(p, _i_2, k)'⋅U(q, _i_2, (b+k))⋅S(p, q, k, (b+k)))))⋅_i_5'⋅S(p, q, ((b⋅-1.0)+_i_7), _i_7)')))+∑((b, q, k, p, _i_0), (U(_i_0, _i_2, (b+k))'⋅S(p, _i_0, k, (b+k))'⋅2.0⋅U(q, _i_2, (_i_7+b))⋅U(p, _i_2, k)⋅S(_i_1, q, _i_7, (_i_7+b))))+∑((n, b, _i_0, k, p, q, _i_5), δ((b+k), _i_7, δ(n, _i_2, δ(q, _i_1, (_i_5⋅δ(_i_5, U(p, n, k), (_i_0⋅δ(_i_0, ∑((k, p, q), (U(p, n, k)'⋅U(q, n, (b+k))⋅S(p, q, k, (b+k)))), 1)))⋅S(p, q, k, (b+k))'))))))\n",
      "(∑((b, p, _i_5), (δ(U(p, _i_2, ((b⋅-1.0)+_i_7))', _i_5, ∑((k, p, q), (U(p, _i_2, k)'⋅U(q, _i_2, (b+k))⋅S(p, q, k, (b+k)))))⋅_i_5'⋅S(p, _i_1, ((b⋅-1.0)+_i_7), _i_7)'))+∑((b, q, k, p, _i_0), (U(_i_0, _i_2, (b+k))'⋅S(p, _i_0, k, (b+k))'⋅2.0⋅U(q, _i_2, (_i_7+b))⋅U(p, _i_2, k)⋅S(_i_1, q, _i_7, (_i_7+b))))+∑((n, b, _i_0, k, p, q, _i_5), δ((b+k), _i_7, δ(n, _i_2, δ(q, _i_1, (_i_5⋅δ(_i_5, U(p, n, k), (_i_0⋅δ(_i_0, ∑((k, p, q), (U(p, n, k)'⋅U(q, n, (b+k))⋅S(p, q, k, (b+k)))), 1)))⋅S(p, q, k, (b+k))'))))))\n",
      "-->\n",
      "\n",
      "  0.004546 seconds (63.87 k allocations: 1.856 MiB)\n",
      "18 swallow\n",
      "(∑((b, p, _i_5), (δ(U(p, _i_2, ((b⋅-1.0)+_i_7))', _i_5, ∑((k, p, q), (U(p, _i_2, k)'⋅U(q, _i_2, (b+k))⋅S(p, q, k, (b+k)))))⋅_i_5'⋅S(p, _i_1, ((b⋅-1.0)+_i_7), _i_7)'))+∑((b, q, k, p, _i_0), (U(_i_0, _i_2, (b+k))'⋅S(p, _i_0, k, (b+k))'⋅2.0⋅U(q, _i_2, (_i_7+b))⋅U(p, _i_2, k)⋅S(_i_1, q, _i_7, (_i_7+b))))+∑((n, b, _i_0, k, p, q, _i_5), δ((b+k), _i_7, δ(n, _i_2, δ(q, _i_1, (_i_5⋅δ(_i_5, U(p, n, k), (_i_0⋅δ(_i_0, ∑((k, p, q), (U(p, n, k)'⋅U(q, n, (b+k))⋅S(p, q, k, (b+k)))), 1)))⋅S(p, q, k, (b+k))'))))))\n",
      "(∑((b, p, _i_5), δ(_i_5, U(p, _i_2, ((b⋅-1.0)+_i_7))', (_i_5'⋅S(p, _i_1, ((b⋅-1.0)+_i_7), _i_7)'⋅∑((k, p, q), (U(p, _i_2, k)'⋅U(q, _i_2, (b+k))⋅S(p, q, k, (b+k)))))))+∑((b, q, k, p, _i_0), (U(_i_0, _i_2, (b+k))'⋅S(p, _i_0, k, (b+k))'⋅2.0⋅U(q, _i_2, (_i_7+b))⋅U(p, _i_2, k)⋅S(_i_1, q, _i_7, (_i_7+b))))+∑((n, b, _i_0, k, p, q, _i_5), δ((b+k), _i_7, δ(n, _i_2, δ(q, _i_1, (_i_5⋅δ(_i_5, U(p, n, k), (_i_0⋅δ(_i_0, ∑((k, p, q), (U(p, n, k)'⋅U(q, n, (b+k))⋅S(p, q, k, (b+k)))), 1)))⋅S(p, q, k, (b+k))'))))))\n",
      "-->\n",
      "\n",
      "  0.005733 seconds (87.33 k allocations: 2.510 MiB)\n",
      "19 contract_delta\n",
      "(∑((b, p, _i_5), δ(_i_5, U(p, _i_2, ((b⋅-1.0)+_i_7))', (_i_5'⋅S(p, _i_1, ((b⋅-1.0)+_i_7), _i_7)'⋅∑((k, p, q), (U(p, _i_2, k)'⋅U(q, _i_2, (b+k))⋅S(p, q, k, (b+k)))))))+∑((b, q, k, p, _i_0), (U(_i_0, _i_2, (b+k))'⋅S(p, _i_0, k, (b+k))'⋅2.0⋅U(q, _i_2, (_i_7+b))⋅U(p, _i_2, k)⋅S(_i_1, q, _i_7, (_i_7+b))))+∑((n, b, _i_0, k, p, q, _i_5), δ((b+k), _i_7, δ(n, _i_2, δ(q, _i_1, (_i_5⋅δ(_i_5, U(p, n, k), (_i_0⋅δ(_i_0, ∑((k, p, q), (U(p, n, k)'⋅U(q, n, (b+k))⋅S(p, q, k, (b+k)))), 1)))⋅S(p, q, k, (b+k))'))))))\n",
      "(∑((b, p), (S(p, _i_1, ((b⋅-1.0)+_i_7), _i_7)'⋅∑((k, _i_0, q), (U(_i_0, _i_2, k)'⋅U(q, _i_2, (b+k))⋅S(_i_0, q, k, (b+k))))⋅U(p, _i_2, ((b⋅-1.0)+_i_7))))+∑((b, q, k, p, _i_0), (U(_i_0, _i_2, (b+k))'⋅S(p, _i_0, k, (b+k))'⋅2.0⋅U(q, _i_2, (_i_7+b))⋅U(p, _i_2, k)⋅S(_i_1, q, _i_7, (_i_7+b))))+∑((n, b, _i_0, k, p, q, _i_5), δ((b+k), _i_7, δ(n, _i_2, δ(q, _i_1, (_i_5⋅δ(_i_5, U(p, n, k), (_i_0⋅δ(_i_0, ∑((k, p, q), (U(p, n, k)'⋅U(q, n, (b+k))⋅S(p, q, k, (b+k)))), 1)))⋅S(p, q, k, (b+k))'))))))\n",
      "-->\n",
      "\n",
      "  0.005138 seconds (71.08 k allocations: 2.097 MiB)\n",
      "20 sum_in\n",
      "(∑((b, p), (S(p, _i_1, ((b⋅-1.0)+_i_7), _i_7)'⋅∑((k, _i_0, q), (U(_i_0, _i_2, k)'⋅U(q, _i_2, (b+k))⋅S(_i_0, q, k, (b+k))))⋅U(p, _i_2, ((b⋅-1.0)+_i_7))))+∑((b, q, k, p, _i_0), (U(_i_0, _i_2, (b+k))'⋅S(p, _i_0, k, (b+k))'⋅2.0⋅U(q, _i_2, (_i_7+b))⋅U(p, _i_2, k)⋅S(_i_1, q, _i_7, (_i_7+b))))+∑((n, b, _i_0, k, p, q, _i_5), δ((b+k), _i_7, δ(n, _i_2, δ(q, _i_1, (_i_5⋅δ(_i_5, U(p, n, k), (_i_0⋅δ(_i_0, ∑((k, p, q), (U(p, n, k)'⋅U(q, n, (b+k))⋅S(p, q, k, (b+k)))), 1)))⋅S(p, q, k, (b+k))'))))))\n",
      "(∑((b, q, k, p, _i_0), (U(_i_0, _i_2, (b+k))'⋅S(p, _i_0, k, (b+k))'⋅2.0⋅U(q, _i_2, (_i_7+b))⋅U(p, _i_2, k)⋅S(_i_1, q, _i_7, (_i_7+b))))+∑((b, p, k, _i_0, q), (U(_i_0, _i_2, k)'⋅S(p, _i_1, ((b⋅-1.0)+_i_7), _i_7)'⋅U(q, _i_2, (b+k))⋅U(p, _i_2, ((b⋅-1.0)+_i_7))⋅S(_i_0, q, k, (b+k))))+∑((n, b, _i_0, k, p, q, _i_5), δ((b+k), _i_7, δ(n, _i_2, δ(q, _i_1, (_i_5⋅δ(_i_5, U(p, n, k), (_i_0⋅δ(_i_0, ∑((k, p, q), (U(p, n, k)'⋅U(q, n, (b+k))⋅S(p, q, k, (b+k)))), 1)))⋅S(p, q, k, (b+k))'))))))\n",
      "-->\n",
      "\n",
      "  0.011872 seconds (194.48 k allocations: 5.601 MiB)\n",
      "21 contract_delta\n",
      "(∑((b, q, k, p, _i_0), (U(_i_0, _i_2, (b+k))'⋅S(p, _i_0, k, (b+k))'⋅2.0⋅U(q, _i_2, (_i_7+b))⋅U(p, _i_2, k)⋅S(_i_1, q, _i_7, (_i_7+b))))+∑((b, p, k, _i_0, q), (U(_i_0, _i_2, k)'⋅S(p, _i_1, ((b⋅-1.0)+_i_7), _i_7)'⋅U(q, _i_2, (b+k))⋅U(p, _i_2, ((b⋅-1.0)+_i_7))⋅S(_i_0, q, k, (b+k))))+∑((n, b, _i_0, k, p, q, _i_5), δ((b+k), _i_7, δ(n, _i_2, δ(q, _i_1, (_i_5⋅δ(_i_5, U(p, n, k), (_i_0⋅δ(_i_0, ∑((k, p, q), (U(p, n, k)'⋅U(q, n, (b+k))⋅S(p, q, k, (b+k)))), 1)))⋅S(p, q, k, (b+k))'))))))\n",
      "(∑((b, q, k, p, _i_0), (U(_i_0, _i_2, (b+k))'⋅S(p, _i_0, k, (b+k))'⋅2.0⋅U(q, _i_2, (_i_7+b))⋅U(p, _i_2, k)⋅S(_i_1, q, _i_7, (_i_7+b))))+∑((b, p, k, _i_0, q), (U(_i_0, _i_2, k)'⋅S(p, _i_1, ((b⋅-1.0)+_i_7), _i_7)'⋅U(q, _i_2, (b+k))⋅U(p, _i_2, ((b⋅-1.0)+_i_7))⋅S(_i_0, q, k, (b+k))))+∑((n, b, _i_0, p, q, _i_5), δ(n, _i_2, δ(q, _i_1, (_i_5⋅δ(_i_5, U(p, n, ((b⋅-1.0)+_i_7)), (_i_0⋅δ(_i_0, ∑((k, p, q), (U(p, n, k)'⋅U(q, n, (b+k))⋅S(p, q, k, (b+k)))), 1)))⋅S(p, q, ((b⋅-1.0)+_i_7), _i_7)')))))\n",
      "-->\n",
      "\n",
      "  0.007061 seconds (90.31 k allocations: 2.714 MiB)\n",
      "22 contract_delta\n",
      "(∑((b, q, k, p, _i_0), (U(_i_0, _i_2, (b+k))'⋅S(p, _i_0, k, (b+k))'⋅2.0⋅U(q, _i_2, (_i_7+b))⋅U(p, _i_2, k)⋅S(_i_1, q, _i_7, (_i_7+b))))+∑((b, p, k, _i_0, q), (U(_i_0, _i_2, k)'⋅S(p, _i_1, ((b⋅-1.0)+_i_7), _i_7)'⋅U(q, _i_2, (b+k))⋅U(p, _i_2, ((b⋅-1.0)+_i_7))⋅S(_i_0, q, k, (b+k))))+∑((n, b, _i_0, p, q, _i_5), δ(n, _i_2, δ(q, _i_1, (_i_5⋅δ(_i_5, U(p, n, ((b⋅-1.0)+_i_7)), (_i_0⋅δ(_i_0, ∑((k, p, q), (U(p, n, k)'⋅U(q, n, (b+k))⋅S(p, q, k, (b+k)))), 1)))⋅S(p, q, ((b⋅-1.0)+_i_7), _i_7)')))))\n",
      "(∑((b, q, k, p, _i_0), (U(_i_0, _i_2, (b+k))'⋅S(p, _i_0, k, (b+k))'⋅2.0⋅U(q, _i_2, (_i_7+b))⋅U(p, _i_2, k)⋅S(_i_1, q, _i_7, (_i_7+b))))+∑((b, p, k, _i_0, q), (U(_i_0, _i_2, k)'⋅S(p, _i_1, ((b⋅-1.0)+_i_7), _i_7)'⋅U(q, _i_2, (b+k))⋅U(p, _i_2, ((b⋅-1.0)+_i_7))⋅S(_i_0, q, k, (b+k))))+∑((b, _i_0, p, q, _i_5), δ(q, _i_1, (_i_5⋅δ(_i_5, U(p, _i_2, ((b⋅-1.0)+_i_7)), (_i_0⋅δ(_i_0, ∑((k, p, q), (U(p, _i_2, k)'⋅U(q, _i_2, (b+k))⋅S(p, q, k, (b+k)))), 1)))⋅S(p, q, ((b⋅-1.0)+_i_7), _i_7)'))))\n",
      "-->\n",
      "\n",
      "  0.004698 seconds (63.44 k allocations: 1.881 MiB)\n",
      "23 contract_delta\n",
      "(∑((b, q, k, p, _i_0), (U(_i_0, _i_2, (b+k))'⋅S(p, _i_0, k, (b+k))'⋅2.0⋅U(q, _i_2, (_i_7+b))⋅U(p, _i_2, k)⋅S(_i_1, q, _i_7, (_i_7+b))))+∑((b, p, k, _i_0, q), (U(_i_0, _i_2, k)'⋅S(p, _i_1, ((b⋅-1.0)+_i_7), _i_7)'⋅U(q, _i_2, (b+k))⋅U(p, _i_2, ((b⋅-1.0)+_i_7))⋅S(_i_0, q, k, (b+k))))+∑((b, _i_0, p, q, _i_5), δ(q, _i_1, (_i_5⋅δ(_i_5, U(p, _i_2, ((b⋅-1.0)+_i_7)), (_i_0⋅δ(_i_0, ∑((k, p, q), (U(p, _i_2, k)'⋅U(q, _i_2, (b+k))⋅S(p, q, k, (b+k)))), 1)))⋅S(p, q, ((b⋅-1.0)+_i_7), _i_7)'))))\n",
      "(∑((b, _i_0, p, _i_5), (_i_5⋅δ(_i_5, U(p, _i_2, ((b⋅-1.0)+_i_7)), (_i_0⋅δ(_i_0, ∑((k, p, q), (U(p, _i_2, k)'⋅U(q, _i_2, (b+k))⋅S(p, q, k, (b+k)))), 1)))⋅S(p, _i_1, ((b⋅-1.0)+_i_7), _i_7)'))+∑((b, q, k, p, _i_0), (U(_i_0, _i_2, (b+k))'⋅S(p, _i_0, k, (b+k))'⋅2.0⋅U(q, _i_2, (_i_7+b))⋅U(p, _i_2, k)⋅S(_i_1, q, _i_7, (_i_7+b))))+∑((b, p, k, _i_0, q), (U(_i_0, _i_2, k)'⋅S(p, _i_1, ((b⋅-1.0)+_i_7), _i_7)'⋅U(q, _i_2, (b+k))⋅U(p, _i_2, ((b⋅-1.0)+_i_7))⋅S(_i_0, q, k, (b+k)))))\n",
      "-->\n",
      "\n",
      "  0.001194 seconds (17.27 k allocations: 508.750 KiB)\n",
      "24 swallow\n",
      "(∑((b, _i_0, p, _i_5), (_i_5⋅δ(_i_5, U(p, _i_2, ((b⋅-1.0)+_i_7)), (_i_0⋅δ(_i_0, ∑((k, p, q), (U(p, _i_2, k)'⋅U(q, _i_2, (b+k))⋅S(p, q, k, (b+k)))), 1)))⋅S(p, _i_1, ((b⋅-1.0)+_i_7), _i_7)'))+∑((b, q, k, p, _i_0), (U(_i_0, _i_2, (b+k))'⋅S(p, _i_0, k, (b+k))'⋅2.0⋅U(q, _i_2, (_i_7+b))⋅U(p, _i_2, k)⋅S(_i_1, q, _i_7, (_i_7+b))))+∑((b, p, k, _i_0, q), (U(_i_0, _i_2, k)'⋅S(p, _i_1, ((b⋅-1.0)+_i_7), _i_7)'⋅U(q, _i_2, (b+k))⋅U(p, _i_2, ((b⋅-1.0)+_i_7))⋅S(_i_0, q, k, (b+k)))))\n",
      "(∑((b, _i_0, p, _i_5), δ(U(p, _i_2, ((b⋅-1.0)+_i_7)), _i_5, (_i_0⋅_i_5⋅δ(_i_0, ∑((k, p, q), (U(p, _i_2, k)'⋅U(q, _i_2, (b+k))⋅S(p, q, k, (b+k)))), 1)⋅S(p, _i_1, ((b⋅-1.0)+_i_7), _i_7)')))+∑((b, q, k, p, _i_0), (U(_i_0, _i_2, (b+k))'⋅S(p, _i_0, k, (b+k))'⋅2.0⋅U(q, _i_2, (_i_7+b))⋅U(p, _i_2, k)⋅S(_i_1, q, _i_7, (_i_7+b))))+∑((b, p, k, _i_0, q), (U(_i_0, _i_2, k)'⋅S(p, _i_1, ((b⋅-1.0)+_i_7), _i_7)'⋅U(q, _i_2, (b+k))⋅U(p, _i_2, ((b⋅-1.0)+_i_7))⋅S(_i_0, q, k, (b+k)))))\n",
      "-->\n",
      "\n",
      "  0.001573 seconds (22.85 k allocations: 679.859 KiB)\n",
      "25 contract_delta\n",
      "(∑((b, _i_0, p, _i_5), δ(U(p, _i_2, ((b⋅-1.0)+_i_7)), _i_5, (_i_0⋅_i_5⋅δ(_i_0, ∑((k, p, q), (U(p, _i_2, k)'⋅U(q, _i_2, (b+k))⋅S(p, q, k, (b+k)))), 1)⋅S(p, _i_1, ((b⋅-1.0)+_i_7), _i_7)')))+∑((b, q, k, p, _i_0), (U(_i_0, _i_2, (b+k))'⋅S(p, _i_0, k, (b+k))'⋅2.0⋅U(q, _i_2, (_i_7+b))⋅U(p, _i_2, k)⋅S(_i_1, q, _i_7, (_i_7+b))))+∑((b, p, k, _i_0, q), (U(_i_0, _i_2, k)'⋅S(p, _i_1, ((b⋅-1.0)+_i_7), _i_7)'⋅U(q, _i_2, (b+k))⋅U(p, _i_2, ((b⋅-1.0)+_i_7))⋅S(_i_0, q, k, (b+k)))))\n",
      "(∑((b, _i_0, p), (_i_0⋅δ(_i_0, ∑((k, _i_1, q), (U(_i_1, _i_2, k)'⋅U(q, _i_2, (b+k))⋅S(_i_1, q, k, (b+k)))), 1)⋅S(p, _i_1, ((b⋅-1.0)+_i_7), _i_7)'⋅U(p, _i_2, ((b⋅-1.0)+_i_7))))+∑((b, q, k, p, _i_0), (U(_i_0, _i_2, (b+k))'⋅S(p, _i_0, k, (b+k))'⋅2.0⋅U(q, _i_2, (_i_7+b))⋅U(p, _i_2, k)⋅S(_i_1, q, _i_7, (_i_7+b))))+∑((b, p, k, _i_0, q), (U(_i_0, _i_2, k)'⋅S(p, _i_1, ((b⋅-1.0)+_i_7), _i_7)'⋅U(q, _i_2, (b+k))⋅U(p, _i_2, ((b⋅-1.0)+_i_7))⋅S(_i_0, q, k, (b+k)))))\n",
      "-->\n",
      "\n",
      "  0.000640 seconds (10.26 k allocations: 301.000 KiB)\n",
      "26 swallow\n",
      "(∑((b, _i_0, p), (_i_0⋅δ(_i_0, ∑((k, _i_1, q), (U(_i_1, _i_2, k)'⋅U(q, _i_2, (b+k))⋅S(_i_1, q, k, (b+k)))), 1)⋅S(p, _i_1, ((b⋅-1.0)+_i_7), _i_7)'⋅U(p, _i_2, ((b⋅-1.0)+_i_7))))+∑((b, q, k, p, _i_0), (U(_i_0, _i_2, (b+k))'⋅S(p, _i_0, k, (b+k))'⋅2.0⋅U(q, _i_2, (_i_7+b))⋅U(p, _i_2, k)⋅S(_i_1, q, _i_7, (_i_7+b))))+∑((b, p, k, _i_0, q), (U(_i_0, _i_2, k)'⋅S(p, _i_1, ((b⋅-1.0)+_i_7), _i_7)'⋅U(q, _i_2, (b+k))⋅U(p, _i_2, ((b⋅-1.0)+_i_7))⋅S(_i_0, q, k, (b+k)))))\n",
      "(∑((b, _i_0, p), δ(∑((k, _i_1, q), (U(_i_1, _i_2, k)'⋅U(q, _i_2, (b+k))⋅S(_i_1, q, k, (b+k)))), _i_0, (_i_0⋅S(p, _i_1, ((b⋅-1.0)+_i_7), _i_7)'⋅U(p, _i_2, ((b⋅-1.0)+_i_7)))))+∑((b, q, k, p, _i_0), (U(_i_0, _i_2, (b+k))'⋅S(p, _i_0, k, (b+k))'⋅2.0⋅U(q, _i_2, (_i_7+b))⋅U(p, _i_2, k)⋅S(_i_1, q, _i_7, (_i_7+b))))+∑((b, p, k, _i_0, q), (U(_i_0, _i_2, k)'⋅S(p, _i_1, ((b⋅-1.0)+_i_7), _i_7)'⋅U(q, _i_2, (b+k))⋅U(p, _i_2, ((b⋅-1.0)+_i_7))⋅S(_i_0, q, k, (b+k)))))\n",
      "-->\n",
      "\n",
      "  0.005026 seconds (39.61 k allocations: 1.381 MiB)\n",
      "27 contract_delta\n",
      "(∑((b, _i_0, p), δ(∑((k, _i_1, q), (U(_i_1, _i_2, k)'⋅U(q, _i_2, (b+k))⋅S(_i_1, q, k, (b+k)))), _i_0, (_i_0⋅S(p, _i_1, ((b⋅-1.0)+_i_7), _i_7)'⋅U(p, _i_2, ((b⋅-1.0)+_i_7)))))+∑((b, q, k, p, _i_0), (U(_i_0, _i_2, (b+k))'⋅S(p, _i_0, k, (b+k))'⋅2.0⋅U(q, _i_2, (_i_7+b))⋅U(p, _i_2, k)⋅S(_i_1, q, _i_7, (_i_7+b))))+∑((b, p, k, _i_0, q), (U(_i_0, _i_2, k)'⋅S(p, _i_1, ((b⋅-1.0)+_i_7), _i_7)'⋅U(q, _i_2, (b+k))⋅U(p, _i_2, ((b⋅-1.0)+_i_7))⋅S(_i_0, q, k, (b+k)))))\n",
      "(∑((b, p), (S(p, _i_1, ((b⋅-1.0)+_i_7), _i_7)'⋅∑((k, _i_1, q), (U(_i_1, _i_2, k)'⋅U(q, _i_2, (b+k))⋅S(_i_1, q, k, (b+k))))⋅U(p, _i_2, ((b⋅-1.0)+_i_7))))+∑((b, q, k, p, _i_0), (U(_i_0, _i_2, (b+k))'⋅S(p, _i_0, k, (b+k))'⋅2.0⋅U(q, _i_2, (_i_7+b))⋅U(p, _i_2, k)⋅S(_i_1, q, _i_7, (_i_7+b))))+∑((b, p, k, _i_0, q), (U(_i_0, _i_2, k)'⋅S(p, _i_1, ((b⋅-1.0)+_i_7), _i_7)'⋅U(q, _i_2, (b+k))⋅U(p, _i_2, ((b⋅-1.0)+_i_7))⋅S(_i_0, q, k, (b+k)))))\n",
      "-->\n",
      "\n",
      "  0.000011 seconds (10 allocations: 384 bytes)\n",
      "28 sum_in\n",
      "(∑((b, p), (S(p, _i_1, ((b⋅-1.0)+_i_7), _i_7)'⋅∑((k, _i_1, q), (U(_i_1, _i_2, k)'⋅U(q, _i_2, (b+k))⋅S(_i_1, q, k, (b+k))))⋅U(p, _i_2, ((b⋅-1.0)+_i_7))))+∑((b, q, k, p, _i_0), (U(_i_0, _i_2, (b+k))'⋅S(p, _i_0, k, (b+k))'⋅2.0⋅U(q, _i_2, (_i_7+b))⋅U(p, _i_2, k)⋅S(_i_1, q, _i_7, (_i_7+b))))+∑((b, p, k, _i_0, q), (U(_i_0, _i_2, k)'⋅S(p, _i_1, ((b⋅-1.0)+_i_7), _i_7)'⋅U(q, _i_2, (b+k))⋅U(p, _i_2, ((b⋅-1.0)+_i_7))⋅S(_i_0, q, k, (b+k)))))\n",
      "((∑((b, p, k, _i_0, q), (U(_i_0, _i_2, k)'⋅S(p, _i_1, ((b⋅-1.0)+_i_7), _i_7)'⋅U(q, _i_2, (b+k))⋅U(p, _i_2, ((b⋅-1.0)+_i_7))⋅S(_i_0, q, k, (b+k))))⋅2.0)+∑((b, q, k, p, _i_0), (U(_i_0, _i_2, (b+k))'⋅S(p, _i_0, k, (b+k))'⋅2.0⋅U(q, _i_2, (_i_7+b))⋅U(p, _i_2, k)⋅S(_i_1, q, _i_7, (_i_7+b)))))\n",
      "-->\n",
      "\n",
      "  0.000585 seconds (8.17 k allocations: 246.516 KiB)\n",
      "29 sum_in\n",
      "((∑((b, p, k, _i_0, q), (U(_i_0, _i_2, k)'⋅S(p, _i_1, ((b⋅-1.0)+_i_7), _i_7)'⋅U(q, _i_2, (b+k))⋅U(p, _i_2, ((b⋅-1.0)+_i_7))⋅S(_i_0, q, k, (b+k))))⋅2.0)+∑((b, q, k, p, _i_0), (U(_i_0, _i_2, (b+k))'⋅S(p, _i_0, k, (b+k))'⋅2.0⋅U(q, _i_2, (_i_7+b))⋅U(p, _i_2, k)⋅S(_i_1, q, _i_7, (_i_7+b)))))\n",
      "(∑((b, q, k, p, _i_0), (U(_i_0, _i_2, (b+k))'⋅S(p, _i_0, k, (b+k))'⋅2.0⋅U(q, _i_2, (_i_7+b))⋅U(p, _i_2, k)⋅S(_i_1, q, _i_7, (_i_7+b))))+∑((b, p, k, _i_0, q), (U(_i_0, _i_2, k)'⋅S(p, _i_1, ((b⋅-1.0)+_i_7), _i_7)'⋅2.0⋅U(q, _i_2, (b+k))⋅U(p, _i_2, ((b⋅-1.0)+_i_7))⋅S(_i_0, q, k, (b+k)))))\n",
      "-->\n",
      "\n",
      "  0.000000 seconds\n"
     ]
    },
    {
     "data": {
      "text/latex": [
       "$\\left(\\_i_1, \\_i_2, \\_i_7\\right) \\to \\left(\\sum_{b, q, k, p, \\_i_0}\\left[(U_{\\_i_0, \\_i_2, \\left(b+k\\right)}^*\\cdot S_{p, \\_i_0, k, \\left(b+k\\right)}^*\\cdot 2.0\\cdot U_{q, \\_i_2, \\left(\\_i_7+b\\right)}\\cdot U_{p, \\_i_2, k}\\cdot S_{\\_i_1, q, \\_i_7, \\left(\\_i_7+b\\right)})\\right]+\\sum_{b, p, k, \\_i_0, q}\\left[(U_{\\_i_0, \\_i_2, k}^*\\cdot S_{p, \\_i_1, \\left((b\\cdot -1.0)+\\_i_7\\right), \\_i_7}^*\\cdot 2.0\\cdot U_{q, \\_i_2, \\left(b+k\\right)}\\cdot U_{p, \\_i_2, \\left((b\\cdot -1.0)+\\_i_7\\right)}\\cdot S_{\\_i_0, q, k, \\left(b+k\\right)})\\right]\\right)$"
      ],
      "text/plain": [
       "(_i_1, _i_2, _i_7) -> \n",
       "    (∑((b, q, k, p, _i_0), (U(_i_0, _i_2, (b+k))'⋅S(p, _i_0, k, (b+k))'⋅2.0⋅U(q, _i_2, (_i_7+b))⋅U(p, _i_2, k)⋅S(_i_1, q, _i_7, (_i_7+b))))+∑((b, p, k, _i_0, q), (U(_i_0, _i_2, k)'⋅S(p, _i_1, ((b⋅-1.0)+_i_7), _i_7)'⋅2.0⋅U(q, _i_2, (b+k))⋅U(p, _i_2, ((b⋅-1.0)+_i_7))⋅S(_i_0, q, k, (b+k)))))"
      ]
     },
     "execution_count": 192,
     "metadata": {},
     "output_type": "execute_result"
    }
   ],
   "source": [
    "dg = simplify(dg) |> first"
   ]
  },
  {
   "cell_type": "code",
   "execution_count": 193,
   "id": "98309d79-05c0-49b8-bb30-1638c28bb20e",
   "metadata": {
    "tags": []
   },
   "outputs": [
    {
     "name": "stdout",
     "output_type": "stream",
     "text": [
      "  0.005332 seconds (83.50 k allocations: 2.405 MiB)\n",
      "1 shift\n",
      "(∑((b, q, k, p, _i_0), (U(_i_0, _i_2, (b+k))'⋅S(p, _i_0, k, (b+k))'⋅2.0⋅U(q, _i_2, (_i_7+b))⋅U(p, _i_2, k)⋅S(_i_1, q, _i_7, (_i_7+b))))+∑((b, p, k, _i_0, q), (U(_i_0, _i_2, k)'⋅S(p, _i_1, ((b⋅-1.0)+_i_7), _i_7)'⋅2.0⋅U(q, _i_2, (b+k))⋅U(p, _i_2, ((b⋅-1.0)+_i_7))⋅S(_i_0, q, k, (b+k)))))\n",
      "(∑((b, q, k, p, _i_0), (U(_i_0, _i_2, k)'⋅S(p, _i_0, ((b⋅-1.0)+k), k)'⋅2.0⋅U(q, _i_2, (_i_7+b))⋅U(p, _i_2, ((b⋅-1.0)+k))⋅S(_i_1, q, _i_7, (_i_7+b))))+∑((b, p, k, _i_0, q), (U(_i_0, _i_2, k)'⋅S(p, _i_1, ((b⋅-1.0)+_i_7), _i_7)'⋅2.0⋅U(q, _i_2, (b+k))⋅U(p, _i_2, ((b⋅-1.0)+_i_7))⋅S(_i_0, q, k, (b+k)))))\n",
      "<->\n",
      "\n",
      "  0.012391 seconds (172.37 k allocations: 5.046 MiB)\n",
      "2 sum_sym\n",
      "(∑((b, q, k, p, _i_0), (U(_i_0, _i_2, k)'⋅S(p, _i_0, ((b⋅-1.0)+k), k)'⋅2.0⋅U(q, _i_2, (_i_7+b))⋅U(p, _i_2, ((b⋅-1.0)+k))⋅S(_i_1, q, _i_7, (_i_7+b))))+∑((b, p, k, _i_0, q), (U(_i_0, _i_2, k)'⋅S(p, _i_1, ((b⋅-1.0)+_i_7), _i_7)'⋅2.0⋅U(q, _i_2, (b+k))⋅U(p, _i_2, ((b⋅-1.0)+_i_7))⋅S(_i_0, q, k, (b+k)))))\n",
      "(∑((b, q, k, p, _i_0), (U(_i_0, _i_2, k)'⋅S(p, _i_0, (b+k), k)'⋅2.0⋅U(q, _i_2, ((b⋅-1.0)+_i_7))⋅U(p, _i_2, (b+k))⋅S(_i_1, q, _i_7, ((b⋅-1.0)+_i_7))))+∑((b, p, k, _i_0, q), (U(_i_0, _i_2, k)'⋅S(p, _i_1, ((b⋅-1.0)+_i_7), _i_7)'⋅2.0⋅U(q, _i_2, (b+k))⋅U(p, _i_2, ((b⋅-1.0)+_i_7))⋅S(_i_0, q, k, (b+k)))))\n",
      "<->\n",
      "\n",
      "  0.012871 seconds (185.52 k allocations: 5.449 MiB)\n",
      "3 shift\n",
      "(∑((b, q, k, p, _i_0), (U(_i_0, _i_2, k)'⋅S(p, _i_0, (b+k), k)'⋅2.0⋅U(q, _i_2, ((b⋅-1.0)+_i_7))⋅U(p, _i_2, (b+k))⋅S(_i_1, q, _i_7, ((b⋅-1.0)+_i_7))))+∑((b, p, k, _i_0, q), (U(_i_0, _i_2, k)'⋅S(p, _i_1, ((b⋅-1.0)+_i_7), _i_7)'⋅2.0⋅U(q, _i_2, (b+k))⋅U(p, _i_2, ((b⋅-1.0)+_i_7))⋅S(_i_0, q, k, (b+k)))))\n",
      "(∑((b, q, k, p, _i_0), (U(_i_0, _i_2, ((b⋅-1.0)+k))'⋅S(p, _i_0, k, ((b⋅-1.0)+k))'⋅2.0⋅U(q, _i_2, ((b⋅-1.0)+_i_7))⋅U(p, _i_2, k)⋅S(_i_1, q, _i_7, ((b⋅-1.0)+_i_7))))+∑((b, p, k, _i_0, q), (U(_i_0, _i_2, k)'⋅S(p, _i_1, ((b⋅-1.0)+_i_7), _i_7)'⋅2.0⋅U(q, _i_2, (b+k))⋅U(p, _i_2, ((b⋅-1.0)+_i_7))⋅S(_i_0, q, k, (b+k)))))\n",
      "<->\n",
      "\n",
      "  0.030152 seconds (252.07 k allocations: 7.445 MiB, 35.91% gc time)\n",
      "4 symmetry\n",
      "(∑((b, q, k, p, _i_0), (U(_i_0, _i_2, ((b⋅-1.0)+k))'⋅S(p, _i_0, k, ((b⋅-1.0)+k))'⋅2.0⋅U(q, _i_2, ((b⋅-1.0)+_i_7))⋅U(p, _i_2, k)⋅S(_i_1, q, _i_7, ((b⋅-1.0)+_i_7))))+∑((b, p, k, _i_0, q), (U(_i_0, _i_2, k)'⋅S(p, _i_1, ((b⋅-1.0)+_i_7), _i_7)'⋅2.0⋅U(q, _i_2, (b+k))⋅U(p, _i_2, ((b⋅-1.0)+_i_7))⋅S(_i_0, q, k, (b+k)))))\n",
      "(∑((b, q, k, p, _i_0), (U(_i_0, _i_2, ((b⋅-1.0)+k))'⋅2.0⋅U(q, _i_2, ((b⋅-1.0)+_i_7))⋅U(p, _i_2, k)⋅S(_i_0, p, ((b⋅-1.0)+k), k)⋅S(_i_1, q, _i_7, ((b⋅-1.0)+_i_7))))+∑((b, p, k, _i_0, q), (U(_i_0, _i_2, k)'⋅S(p, _i_1, ((b⋅-1.0)+_i_7), _i_7)'⋅2.0⋅U(q, _i_2, (b+k))⋅U(p, _i_2, ((b⋅-1.0)+_i_7))⋅S(_i_0, q, k, (b+k)))))\n",
      "<->\n",
      "\n",
      "  0.018140 seconds (273.22 k allocations: 8.034 MiB)\n",
      "5 shift\n",
      "(∑((b, q, k, p, _i_0), (U(_i_0, _i_2, ((b⋅-1.0)+k))'⋅2.0⋅U(q, _i_2, ((b⋅-1.0)+_i_7))⋅U(p, _i_2, k)⋅S(_i_0, p, ((b⋅-1.0)+k), k)⋅S(_i_1, q, _i_7, ((b⋅-1.0)+_i_7))))+∑((b, p, k, _i_0, q), (U(_i_0, _i_2, k)'⋅S(p, _i_1, ((b⋅-1.0)+_i_7), _i_7)'⋅2.0⋅U(q, _i_2, (b+k))⋅U(p, _i_2, ((b⋅-1.0)+_i_7))⋅S(_i_0, q, k, (b+k)))))\n",
      "(∑((b, q, k, p, _i_0), (U(_i_0, _i_2, k)'⋅2.0⋅U(q, _i_2, ((b⋅-1.0)+_i_7))⋅U(p, _i_2, (b+k))⋅S(_i_0, p, k, (b+k))⋅S(_i_1, q, _i_7, ((b⋅-1.0)+_i_7))))+∑((b, p, k, _i_0, q), (U(_i_0, _i_2, k)'⋅S(p, _i_1, ((b⋅-1.0)+_i_7), _i_7)'⋅2.0⋅U(q, _i_2, (b+k))⋅U(p, _i_2, ((b⋅-1.0)+_i_7))⋅S(_i_0, q, k, (b+k)))))\n",
      "<->\n",
      "\n",
      "  0.028221 seconds (238.22 k allocations: 7.142 MiB, 36.99% gc time)\n",
      "6 sum_sym\n",
      "(∑((b, q, k, p, _i_0), (U(_i_0, _i_2, k)'⋅2.0⋅U(q, _i_2, ((b⋅-1.0)+_i_7))⋅U(p, _i_2, (b+k))⋅S(_i_0, p, k, (b+k))⋅S(_i_1, q, _i_7, ((b⋅-1.0)+_i_7))))+∑((b, p, k, _i_0, q), (U(_i_0, _i_2, k)'⋅S(p, _i_1, ((b⋅-1.0)+_i_7), _i_7)'⋅2.0⋅U(q, _i_2, (b+k))⋅U(p, _i_2, ((b⋅-1.0)+_i_7))⋅S(_i_0, q, k, (b+k)))))\n",
      "(∑((b, q, k, p, _i_0), (U(_i_0, _i_2, k)'⋅2.0⋅U(q, _i_2, (_i_7+b))⋅U(p, _i_2, ((b⋅-1.0)+k))⋅S(_i_0, p, k, ((b⋅-1.0)+k))⋅S(_i_1, q, _i_7, (_i_7+b))))+∑((b, p, k, _i_0, q), (U(_i_0, _i_2, k)'⋅S(p, _i_1, ((b⋅-1.0)+_i_7), _i_7)'⋅2.0⋅U(q, _i_2, (b+k))⋅U(p, _i_2, ((b⋅-1.0)+_i_7))⋅S(_i_0, q, k, (b+k)))))\n",
      "<->\n",
      "\n",
      "  0.022636 seconds (323.50 k allocations: 9.618 MiB)\n",
      "7 shift\n",
      "(∑((b, q, k, p, _i_0), (U(_i_0, _i_2, k)'⋅2.0⋅U(q, _i_2, (_i_7+b))⋅U(p, _i_2, ((b⋅-1.0)+k))⋅S(_i_0, p, k, ((b⋅-1.0)+k))⋅S(_i_1, q, _i_7, (_i_7+b))))+∑((b, p, k, _i_0, q), (U(_i_0, _i_2, k)'⋅S(p, _i_1, ((b⋅-1.0)+_i_7), _i_7)'⋅2.0⋅U(q, _i_2, (b+k))⋅U(p, _i_2, ((b⋅-1.0)+_i_7))⋅S(_i_0, q, k, (b+k)))))\n",
      "(∑((b, q, k, p, _i_0), (U(_i_0, _i_2, (b+k))'⋅2.0⋅U(q, _i_2, (_i_7+b))⋅U(p, _i_2, k)⋅S(_i_0, p, (b+k), k)⋅S(_i_1, q, _i_7, (_i_7+b))))+∑((b, p, k, _i_0, q), (U(_i_0, _i_2, k)'⋅S(p, _i_1, ((b⋅-1.0)+_i_7), _i_7)'⋅2.0⋅U(q, _i_2, (b+k))⋅U(p, _i_2, ((b⋅-1.0)+_i_7))⋅S(_i_0, q, k, (b+k)))))\n",
      "<->\n",
      "\n",
      "  0.023775 seconds (332.24 k allocations: 9.927 MiB)\n",
      "8 symmetry\n",
      "(∑((b, q, k, p, _i_0), (U(_i_0, _i_2, (b+k))'⋅2.0⋅U(q, _i_2, (_i_7+b))⋅U(p, _i_2, k)⋅S(_i_0, p, (b+k), k)⋅S(_i_1, q, _i_7, (_i_7+b))))+∑((b, p, k, _i_0, q), (U(_i_0, _i_2, k)'⋅S(p, _i_1, ((b⋅-1.0)+_i_7), _i_7)'⋅2.0⋅U(q, _i_2, (b+k))⋅U(p, _i_2, ((b⋅-1.0)+_i_7))⋅S(_i_0, q, k, (b+k)))))\n",
      "(∑((b, q, k, p, _i_0), (U(_i_0, _i_2, (b+k))'⋅S(q, _i_1, (_i_7+b), _i_7)'⋅2.0⋅U(q, _i_2, (_i_7+b))⋅U(p, _i_2, k)⋅S(_i_0, p, (b+k), k)))+∑((b, p, k, _i_0, q), (U(_i_0, _i_2, k)'⋅S(p, _i_1, ((b⋅-1.0)+_i_7), _i_7)'⋅2.0⋅U(q, _i_2, (b+k))⋅U(p, _i_2, ((b⋅-1.0)+_i_7))⋅S(_i_0, q, k, (b+k)))))\n",
      "<->\n",
      "\n",
      "  0.021564 seconds (326.42 k allocations: 9.506 MiB)\n",
      "9 shift\n",
      "(∑((b, q, k, p, _i_0), (U(_i_0, _i_2, (b+k))'⋅S(q, _i_1, (_i_7+b), _i_7)'⋅2.0⋅U(q, _i_2, (_i_7+b))⋅U(p, _i_2, k)⋅S(_i_0, p, (b+k), k)))+∑((b, p, k, _i_0, q), (U(_i_0, _i_2, k)'⋅S(p, _i_1, ((b⋅-1.0)+_i_7), _i_7)'⋅2.0⋅U(q, _i_2, (b+k))⋅U(p, _i_2, ((b⋅-1.0)+_i_7))⋅S(_i_0, q, k, (b+k)))))\n",
      "(∑((b, q, k, p, _i_0), (U(_i_0, _i_2, k)'⋅S(q, _i_1, (_i_7+b), _i_7)'⋅2.0⋅U(q, _i_2, (_i_7+b))⋅U(p, _i_2, ((b⋅-1.0)+k))⋅S(_i_0, p, k, ((b⋅-1.0)+k))))+∑((b, p, k, _i_0, q), (U(_i_0, _i_2, k)'⋅S(p, _i_1, ((b⋅-1.0)+_i_7), _i_7)'⋅2.0⋅U(q, _i_2, (b+k))⋅U(p, _i_2, ((b⋅-1.0)+_i_7))⋅S(_i_0, q, k, (b+k)))))\n",
      "<->\n",
      "\n",
      "  0.016222 seconds (230.23 k allocations: 6.820 MiB)\n",
      "10 sum_sym\n",
      "(∑((b, q, k, p, _i_0), (U(_i_0, _i_2, k)'⋅S(q, _i_1, (_i_7+b), _i_7)'⋅2.0⋅U(q, _i_2, (_i_7+b))⋅U(p, _i_2, ((b⋅-1.0)+k))⋅S(_i_0, p, k, ((b⋅-1.0)+k))))+∑((b, p, k, _i_0, q), (U(_i_0, _i_2, k)'⋅S(p, _i_1, ((b⋅-1.0)+_i_7), _i_7)'⋅2.0⋅U(q, _i_2, (b+k))⋅U(p, _i_2, ((b⋅-1.0)+_i_7))⋅S(_i_0, q, k, (b+k)))))\n",
      "(∑((b, p, k, _i_0, q), (U(_i_0, _i_2, k)'⋅S(p, _i_1, ((b⋅-1.0)+_i_7), _i_7)'⋅2.0⋅U(q, _i_2, (b+k))⋅U(p, _i_2, ((b⋅-1.0)+_i_7))⋅S(_i_0, q, k, (b+k))))⋅2.0)\n",
      "<->\n",
      "\n",
      "  0.003698 seconds (48.31 k allocations: 1.544 MiB)\n",
      "11 sum_in\n",
      "(∑((b, p, k, _i_0, q), (U(_i_0, _i_2, k)'⋅S(p, _i_1, ((b⋅-1.0)+_i_7), _i_7)'⋅2.0⋅U(q, _i_2, (b+k))⋅U(p, _i_2, ((b⋅-1.0)+_i_7))⋅S(_i_0, q, k, (b+k))))⋅2.0)\n",
      "∑((b, p, k, _i_0, q), (U(_i_0, _i_2, k)'⋅S(p, _i_1, ((b⋅-1.0)+_i_7), _i_7)'⋅4.0⋅U(q, _i_2, (b+k))⋅U(p, _i_2, ((b⋅-1.0)+_i_7))⋅S(_i_0, q, k, (b+k))))\n",
      "-->\n",
      "\n",
      "  0.002236 seconds (22.10 k allocations: 845.969 KiB)\n",
      "12 shift\n",
      "∑((b, p, k, _i_0, q), (U(_i_0, _i_2, k)'⋅S(p, _i_1, ((b⋅-1.0)+_i_7), _i_7)'⋅4.0⋅U(q, _i_2, (b+k))⋅U(p, _i_2, ((b⋅-1.0)+_i_7))⋅S(_i_0, q, k, (b+k))))\n",
      "∑((b, p, k, _i_0, q), (U(_i_0, _i_2, ((b⋅-1.0)+k))'⋅S(p, _i_1, ((b⋅-1.0)+_i_7), _i_7)'⋅4.0⋅U(q, _i_2, k)⋅U(p, _i_2, ((b⋅-1.0)+_i_7))⋅S(_i_0, q, ((b⋅-1.0)+k), k)))\n",
      "<->\n",
      "\n",
      "  0.005366 seconds (52.77 k allocations: 1.767 MiB)\n",
      "13 sum_sym\n",
      "∑((b, p, k, _i_0, q), (U(_i_0, _i_2, ((b⋅-1.0)+k))'⋅S(p, _i_1, ((b⋅-1.0)+_i_7), _i_7)'⋅4.0⋅U(q, _i_2, k)⋅U(p, _i_2, ((b⋅-1.0)+_i_7))⋅S(_i_0, q, ((b⋅-1.0)+k), k)))\n",
      "∑((b, p, k, _i_0, q), (U(_i_0, _i_2, (b+k))'⋅S(p, _i_1, (_i_7+b), _i_7)'⋅4.0⋅U(q, _i_2, k)⋅U(p, _i_2, (_i_7+b))⋅S(_i_0, q, (b+k), k)))\n",
      "<->\n",
      "\n",
      "  0.005845 seconds (63.30 k allocations: 2.070 MiB)\n",
      "14 shift\n",
      "∑((b, p, k, _i_0, q), (U(_i_0, _i_2, (b+k))'⋅S(p, _i_1, (_i_7+b), _i_7)'⋅4.0⋅U(q, _i_2, k)⋅U(p, _i_2, (_i_7+b))⋅S(_i_0, q, (b+k), k)))\n",
      "∑((b, p, k, _i_0, q), (U(_i_0, _i_2, k)'⋅S(p, _i_1, (_i_7+b), _i_7)'⋅4.0⋅U(q, _i_2, ((b⋅-1.0)+k))⋅U(p, _i_2, (_i_7+b))⋅S(_i_0, q, k, ((b⋅-1.0)+k))))\n",
      "<->\n",
      "\n",
      "  0.007446 seconds (76.12 k allocations: 2.520 MiB)\n",
      "15 symmetry\n",
      "∑((b, p, k, _i_0, q), (U(_i_0, _i_2, k)'⋅S(p, _i_1, (_i_7+b), _i_7)'⋅4.0⋅U(q, _i_2, ((b⋅-1.0)+k))⋅U(p, _i_2, (_i_7+b))⋅S(_i_0, q, k, ((b⋅-1.0)+k))))\n",
      "∑((b, p, k, _i_0, q), (U(_i_0, _i_2, k)'⋅4.0⋅U(q, _i_2, ((b⋅-1.0)+k))⋅U(p, _i_2, (_i_7+b))⋅S(_i_0, q, k, ((b⋅-1.0)+k))⋅S(_i_1, p, _i_7, (_i_7+b))))\n",
      "<->\n",
      "\n",
      "  0.005891 seconds (67.04 k allocations: 2.174 MiB)\n",
      "16 shift\n",
      "∑((b, p, k, _i_0, q), (U(_i_0, _i_2, k)'⋅4.0⋅U(q, _i_2, ((b⋅-1.0)+k))⋅U(p, _i_2, (_i_7+b))⋅S(_i_0, q, k, ((b⋅-1.0)+k))⋅S(_i_1, p, _i_7, (_i_7+b))))\n",
      "∑((b, p, k, _i_0, q), (U(_i_0, _i_2, (b+k))'⋅4.0⋅U(q, _i_2, k)⋅U(p, _i_2, (_i_7+b))⋅S(_i_0, q, (b+k), k)⋅S(_i_1, p, _i_7, (_i_7+b))))\n",
      "<->\n",
      "\n",
      "  0.008600 seconds (94.59 k allocations: 3.062 MiB)\n",
      "17 sum_sym\n",
      "∑((b, p, k, _i_0, q), (U(_i_0, _i_2, (b+k))'⋅4.0⋅U(q, _i_2, k)⋅U(p, _i_2, (_i_7+b))⋅S(_i_0, q, (b+k), k)⋅S(_i_1, p, _i_7, (_i_7+b))))\n",
      "∑((b, p, k, _i_0, q), (U(_i_0, _i_2, ((b⋅-1.0)+k))'⋅4.0⋅U(q, _i_2, k)⋅U(p, _i_2, ((b⋅-1.0)+_i_7))⋅S(_i_0, q, ((b⋅-1.0)+k), k)⋅S(_i_1, p, _i_7, ((b⋅-1.0)+_i_7))))\n",
      "<->\n",
      "\n",
      "  0.009272 seconds (99.07 k allocations: 3.211 MiB)\n",
      "18 shift\n",
      "∑((b, p, k, _i_0, q), (U(_i_0, _i_2, ((b⋅-1.0)+k))'⋅4.0⋅U(q, _i_2, k)⋅U(p, _i_2, ((b⋅-1.0)+_i_7))⋅S(_i_0, q, ((b⋅-1.0)+k), k)⋅S(_i_1, p, _i_7, ((b⋅-1.0)+_i_7))))\n",
      "∑((b, p, k, _i_0, q), (U(_i_0, _i_2, k)'⋅4.0⋅U(q, _i_2, (b+k))⋅U(p, _i_2, ((b⋅-1.0)+_i_7))⋅S(_i_0, q, k, (b+k))⋅S(_i_1, p, _i_7, ((b⋅-1.0)+_i_7))))\n",
      "<->\n",
      "\n",
      "  0.010750 seconds (106.95 k allocations: 3.554 MiB)\n",
      "19 symmetry\n",
      "∑((b, p, k, _i_0, q), (U(_i_0, _i_2, k)'⋅4.0⋅U(q, _i_2, (b+k))⋅U(p, _i_2, ((b⋅-1.0)+_i_7))⋅S(_i_0, q, k, (b+k))⋅S(_i_1, p, _i_7, ((b⋅-1.0)+_i_7))))\n",
      "∑((b, p, k, _i_0, q), (U(_i_0, _i_2, k)'⋅S(q, _i_0, (b+k), k)'⋅4.0⋅U(q, _i_2, (b+k))⋅U(p, _i_2, ((b⋅-1.0)+_i_7))⋅S(_i_1, p, _i_7, ((b⋅-1.0)+_i_7))))\n",
      "<->\n",
      "\n",
      "  0.006757 seconds (72.19 k allocations: 2.340 MiB)\n",
      "20 shift\n",
      "∑((b, p, k, _i_0, q), (U(_i_0, _i_2, k)'⋅S(q, _i_0, (b+k), k)'⋅4.0⋅U(q, _i_2, (b+k))⋅U(p, _i_2, ((b⋅-1.0)+_i_7))⋅S(_i_1, p, _i_7, ((b⋅-1.0)+_i_7))))\n",
      "∑((b, p, k, _i_0, q), (U(_i_0, _i_2, ((b⋅-1.0)+k))'⋅S(q, _i_0, k, ((b⋅-1.0)+k))'⋅4.0⋅U(q, _i_2, k)⋅U(p, _i_2, ((b⋅-1.0)+_i_7))⋅S(_i_1, p, _i_7, ((b⋅-1.0)+_i_7))))\n",
      "<->\n",
      "\n",
      "  0.023188 seconds (105.67 k allocations: 3.407 MiB, 49.99% gc time)\n",
      "21 sum_sym\n",
      "∑((b, p, k, _i_0, q), (U(_i_0, _i_2, ((b⋅-1.0)+k))'⋅S(q, _i_0, k, ((b⋅-1.0)+k))'⋅4.0⋅U(q, _i_2, k)⋅U(p, _i_2, ((b⋅-1.0)+_i_7))⋅S(_i_1, p, _i_7, ((b⋅-1.0)+_i_7))))\n",
      "∑((b, p, k, _i_0, q), (U(_i_0, _i_2, (b+k))'⋅S(q, _i_0, k, (b+k))'⋅4.0⋅U(q, _i_2, k)⋅U(p, _i_2, (_i_7+b))⋅S(_i_1, p, _i_7, (_i_7+b))))\n",
      "<->\n",
      "\n",
      "  0.009803 seconds (105.73 k allocations: 3.385 MiB)\n",
      "22 shift\n",
      "∑((b, p, k, _i_0, q), (U(_i_0, _i_2, (b+k))'⋅S(q, _i_0, k, (b+k))'⋅4.0⋅U(q, _i_2, k)⋅U(p, _i_2, (_i_7+b))⋅S(_i_1, p, _i_7, (_i_7+b))))\n",
      "∑((b, p, k, _i_0, q), (U(_i_0, _i_2, k)'⋅S(q, _i_0, ((b⋅-1.0)+k), k)'⋅4.0⋅U(q, _i_2, ((b⋅-1.0)+k))⋅U(p, _i_2, (_i_7+b))⋅S(_i_1, p, _i_7, (_i_7+b))))\n",
      "<->\n",
      "\n",
      "  0.011372 seconds (118.43 k allocations: 3.833 MiB)\n",
      "23 symmetry\n",
      "∑((b, p, k, _i_0, q), (U(_i_0, _i_2, k)'⋅S(q, _i_0, ((b⋅-1.0)+k), k)'⋅4.0⋅U(q, _i_2, ((b⋅-1.0)+k))⋅U(p, _i_2, (_i_7+b))⋅S(_i_1, p, _i_7, (_i_7+b))))\n",
      "∑((b, p, k, _i_0, q), (U(_i_0, _i_2, k)'⋅S(q, _i_0, ((b⋅-1.0)+k), k)'⋅S(p, _i_1, (_i_7+b), _i_7)'⋅4.0⋅U(q, _i_2, ((b⋅-1.0)+k))⋅U(p, _i_2, (_i_7+b))))\n",
      "<->\n",
      "\n",
      "  0.008953 seconds (99.96 k allocations: 3.212 MiB)\n",
      "24 shift\n",
      "∑((b, p, k, _i_0, q), (U(_i_0, _i_2, k)'⋅S(q, _i_0, ((b⋅-1.0)+k), k)'⋅S(p, _i_1, (_i_7+b), _i_7)'⋅4.0⋅U(q, _i_2, ((b⋅-1.0)+k))⋅U(p, _i_2, (_i_7+b))))\n",
      "∑((b, p, k, _i_0, q), (U(_i_0, _i_2, (b+k))'⋅S(q, _i_0, k, (b+k))'⋅S(p, _i_1, (_i_7+b), _i_7)'⋅4.0⋅U(q, _i_2, k)⋅U(p, _i_2, (_i_7+b))))\n",
      "<->\n",
      "\n",
      "  0.011615 seconds (124.70 k allocations: 3.973 MiB)\n",
      "25 sum_sym\n",
      "∑((b, p, k, _i_0, q), (U(_i_0, _i_2, (b+k))'⋅S(q, _i_0, k, (b+k))'⋅S(p, _i_1, (_i_7+b), _i_7)'⋅4.0⋅U(q, _i_2, k)⋅U(p, _i_2, (_i_7+b))))\n",
      "∑((b, p, k, _i_0, q), (U(_i_0, _i_2, ((b⋅-1.0)+k))'⋅S(q, _i_0, k, ((b⋅-1.0)+k))'⋅S(p, _i_1, ((b⋅-1.0)+_i_7), _i_7)'⋅4.0⋅U(q, _i_2, k)⋅U(p, _i_2, ((b⋅-1.0)+_i_7))))\n",
      "<->\n",
      "\n",
      "  0.014747 seconds (121.38 k allocations: 3.928 MiB)\n",
      "26 shift\n",
      "∑((b, p, k, _i_0, q), (U(_i_0, _i_2, ((b⋅-1.0)+k))'⋅S(q, _i_0, k, ((b⋅-1.0)+k))'⋅S(p, _i_1, ((b⋅-1.0)+_i_7), _i_7)'⋅4.0⋅U(q, _i_2, k)⋅U(p, _i_2, ((b⋅-1.0)+_i_7))))\n",
      "∑((b, p, k, _i_0, q), (U(_i_0, _i_2, k)'⋅S(q, _i_0, (b+k), k)'⋅S(p, _i_1, ((b⋅-1.0)+_i_7), _i_7)'⋅4.0⋅U(q, _i_2, (b+k))⋅U(p, _i_2, ((b⋅-1.0)+_i_7))))\n",
      "<->\n",
      "\n",
      "  0.014541 seconds (134.65 k allocations: 4.401 MiB)\n",
      "27 sum_sym\n",
      "∑((b, p, k, _i_0, q), (U(_i_0, _i_2, k)'⋅S(q, _i_0, ((b⋅-1.0)+k), k)'⋅S(p, _i_1, (_i_7+b), _i_7)'⋅4.0⋅U(q, _i_2, ((b⋅-1.0)+k))⋅U(p, _i_2, (_i_7+b))))\n",
      "∑((b, p, k, _i_0, q), (U(_i_0, _i_2, k)'⋅S(q, _i_0, (b+k), k)'⋅S(p, _i_1, ((b⋅-1.0)+_i_7), _i_7)'⋅4.0⋅U(q, _i_2, (b+k))⋅U(p, _i_2, ((b⋅-1.0)+_i_7))))\n",
      "<->\n",
      "\n",
      "  0.025458 seconds (134.81 k allocations: 4.404 MiB, 43.47% gc time)\n",
      "28 symmetry\n",
      "∑((b, p, k, _i_0, q), (U(_i_0, _i_2, (b+k))'⋅S(q, _i_0, k, (b+k))'⋅4.0⋅U(q, _i_2, k)⋅U(p, _i_2, (_i_7+b))⋅S(_i_1, p, _i_7, (_i_7+b))))\n",
      "∑((b, p, k, _i_0, q), (U(_i_0, _i_2, (b+k))'⋅S(q, _i_0, k, (b+k))'⋅S(p, _i_1, (_i_7+b), _i_7)'⋅4.0⋅U(q, _i_2, k)⋅U(p, _i_2, (_i_7+b))))\n",
      "<->\n",
      "\n",
      "  0.013724 seconds (143.90 k allocations: 4.626 MiB)\n",
      "29 symmetry\n",
      "∑((b, p, k, _i_0, q), (U(_i_0, _i_2, ((b⋅-1.0)+k))'⋅S(q, _i_0, k, ((b⋅-1.0)+k))'⋅4.0⋅U(q, _i_2, k)⋅U(p, _i_2, ((b⋅-1.0)+_i_7))⋅S(_i_1, p, _i_7, ((b⋅-1.0)+_i_7))))\n",
      "∑((b, p, k, _i_0, q), (U(_i_0, _i_2, ((b⋅-1.0)+k))'⋅S(q, _i_0, k, ((b⋅-1.0)+k))'⋅S(p, _i_1, ((b⋅-1.0)+_i_7), _i_7)'⋅4.0⋅U(q, _i_2, k)⋅U(p, _i_2, ((b⋅-1.0)+_i_7))))\n",
      "<->\n",
      "\n",
      "  0.013755 seconds (146.51 k allocations: 4.734 MiB)\n",
      "30 sum_sym\n",
      "∑((b, p, k, _i_0, q), (U(_i_0, _i_2, k)'⋅S(q, _i_0, (b+k), k)'⋅4.0⋅U(q, _i_2, (b+k))⋅U(p, _i_2, ((b⋅-1.0)+_i_7))⋅S(_i_1, p, _i_7, ((b⋅-1.0)+_i_7))))\n",
      "∑((b, p, k, _i_0, q), (U(_i_0, _i_2, k)'⋅S(q, _i_0, ((b⋅-1.0)+k), k)'⋅4.0⋅U(q, _i_2, ((b⋅-1.0)+k))⋅U(p, _i_2, (_i_7+b))⋅S(_i_1, p, _i_7, (_i_7+b))))\n",
      "<->\n",
      "\n",
      "  0.014084 seconds (144.07 k allocations: 4.660 MiB)\n",
      "31 symmetry\n",
      "∑((b, p, k, _i_0, q), (U(_i_0, _i_2, k)'⋅S(q, _i_0, (b+k), k)'⋅4.0⋅U(q, _i_2, (b+k))⋅U(p, _i_2, ((b⋅-1.0)+_i_7))⋅S(_i_1, p, _i_7, ((b⋅-1.0)+_i_7))))\n",
      "∑((b, p, k, _i_0, q), (U(_i_0, _i_2, k)'⋅S(q, _i_0, (b+k), k)'⋅S(p, _i_1, ((b⋅-1.0)+_i_7), _i_7)'⋅4.0⋅U(q, _i_2, (b+k))⋅U(p, _i_2, ((b⋅-1.0)+_i_7))))\n",
      "<->\n",
      "\n",
      "  0.013118 seconds (134.64 k allocations: 4.393 MiB)\n",
      "32 symmetry\n",
      "∑((b, p, k, _i_0, q), (U(_i_0, _i_2, ((b⋅-1.0)+k))'⋅4.0⋅U(q, _i_2, k)⋅U(p, _i_2, ((b⋅-1.0)+_i_7))⋅S(_i_0, q, ((b⋅-1.0)+k), k)⋅S(_i_1, p, _i_7, ((b⋅-1.0)+_i_7))))\n",
      "∑((b, p, k, _i_0, q), (U(_i_0, _i_2, ((b⋅-1.0)+k))'⋅S(q, _i_0, k, ((b⋅-1.0)+k))'⋅4.0⋅U(q, _i_2, k)⋅U(p, _i_2, ((b⋅-1.0)+_i_7))⋅S(_i_1, p, _i_7, ((b⋅-1.0)+_i_7))))\n",
      "<->\n",
      "\n",
      "  0.014625 seconds (156.05 k allocations: 5.037 MiB)\n",
      "33 symmetry\n",
      "∑((b, p, k, _i_0, q), (U(_i_0, _i_2, (b+k))'⋅4.0⋅U(q, _i_2, k)⋅U(p, _i_2, (_i_7+b))⋅S(_i_0, q, (b+k), k)⋅S(_i_1, p, _i_7, (_i_7+b))))\n",
      "∑((b, p, k, _i_0, q), (U(_i_0, _i_2, (b+k))'⋅S(q, _i_0, k, (b+k))'⋅4.0⋅U(q, _i_2, k)⋅U(p, _i_2, (_i_7+b))⋅S(_i_1, p, _i_7, (_i_7+b))))\n",
      "<->\n",
      "\n",
      "  0.025356 seconds (144.47 k allocations: 4.663 MiB, 41.08% gc time)\n",
      "34 sum_sym\n",
      "∑((b, p, k, _i_0, q), (U(_i_0, _i_2, k)'⋅4.0⋅U(q, _i_2, ((b⋅-1.0)+k))⋅U(p, _i_2, (_i_7+b))⋅S(_i_0, q, k, ((b⋅-1.0)+k))⋅S(_i_1, p, _i_7, (_i_7+b))))\n",
      "∑((b, p, k, _i_0, q), (U(_i_0, _i_2, k)'⋅4.0⋅U(q, _i_2, (b+k))⋅U(p, _i_2, ((b⋅-1.0)+_i_7))⋅S(_i_0, q, k, (b+k))⋅S(_i_1, p, _i_7, ((b⋅-1.0)+_i_7))))\n",
      "<->\n",
      "\n",
      "  0.013736 seconds (140.44 k allocations: 4.619 MiB)\n",
      "35 symmetry\n",
      "∑((b, p, k, _i_0, q), (U(_i_0, _i_2, k)'⋅4.0⋅U(q, _i_2, ((b⋅-1.0)+k))⋅U(p, _i_2, (_i_7+b))⋅S(_i_0, q, k, ((b⋅-1.0)+k))⋅S(_i_1, p, _i_7, (_i_7+b))))\n",
      "∑((b, p, k, _i_0, q), (U(_i_0, _i_2, k)'⋅S(q, _i_0, ((b⋅-1.0)+k), k)'⋅4.0⋅U(q, _i_2, ((b⋅-1.0)+k))⋅U(p, _i_2, (_i_7+b))⋅S(_i_1, p, _i_7, (_i_7+b))))\n",
      "<->\n",
      "\n",
      "  0.014333 seconds (143.85 k allocations: 4.651 MiB)\n",
      "36 symmetry\n",
      "∑((b, p, k, _i_0, q), (U(_i_0, _i_2, k)'⋅S(p, _i_1, (_i_7+b), _i_7)'⋅4.0⋅U(q, _i_2, ((b⋅-1.0)+k))⋅U(p, _i_2, (_i_7+b))⋅S(_i_0, q, k, ((b⋅-1.0)+k))))\n",
      "∑((b, p, k, _i_0, q), (U(_i_0, _i_2, k)'⋅S(q, _i_0, ((b⋅-1.0)+k), k)'⋅S(p, _i_1, (_i_7+b), _i_7)'⋅4.0⋅U(q, _i_2, ((b⋅-1.0)+k))⋅U(p, _i_2, (_i_7+b))))\n",
      "<->\n",
      "\n",
      "  0.013433 seconds (142.00 k allocations: 4.571 MiB)\n",
      "37 symmetry\n",
      "∑((b, p, k, _i_0, q), (U(_i_0, _i_2, (b+k))'⋅S(p, _i_1, (_i_7+b), _i_7)'⋅4.0⋅U(q, _i_2, k)⋅U(p, _i_2, (_i_7+b))⋅S(_i_0, q, (b+k), k)))\n",
      "∑((b, p, k, _i_0, q), (U(_i_0, _i_2, (b+k))'⋅4.0⋅U(q, _i_2, k)⋅U(p, _i_2, (_i_7+b))⋅S(_i_0, q, (b+k), k)⋅S(_i_1, p, _i_7, (_i_7+b))))\n",
      "<->\n",
      "\n",
      "  0.014112 seconds (149.50 k allocations: 4.844 MiB)\n",
      "38 symmetry\n",
      "∑((b, p, k, _i_0, q), (U(_i_0, _i_2, (b+k))'⋅S(p, _i_1, (_i_7+b), _i_7)'⋅4.0⋅U(q, _i_2, k)⋅U(p, _i_2, (_i_7+b))⋅S(_i_0, q, (b+k), k)))\n",
      "∑((b, p, k, _i_0, q), (U(_i_0, _i_2, (b+k))'⋅S(q, _i_0, k, (b+k))'⋅S(p, _i_1, (_i_7+b), _i_7)'⋅4.0⋅U(q, _i_2, k)⋅U(p, _i_2, (_i_7+b))))\n",
      "<->\n",
      "\n",
      "  0.013638 seconds (143.99 k allocations: 4.638 MiB)\n",
      "39 symmetry\n",
      "∑((b, p, k, _i_0, q), (U(_i_0, _i_2, ((b⋅-1.0)+k))'⋅S(p, _i_1, ((b⋅-1.0)+_i_7), _i_7)'⋅4.0⋅U(q, _i_2, k)⋅U(p, _i_2, ((b⋅-1.0)+_i_7))⋅S(_i_0, q, ((b⋅-1.0)+k), k)))\n",
      "∑((b, p, k, _i_0, q), (U(_i_0, _i_2, ((b⋅-1.0)+k))'⋅4.0⋅U(q, _i_2, k)⋅U(p, _i_2, ((b⋅-1.0)+_i_7))⋅S(_i_0, q, ((b⋅-1.0)+k), k)⋅S(_i_1, p, _i_7, ((b⋅-1.0)+_i_7))))\n",
      "<->\n",
      "\n",
      "  0.015112 seconds (151.60 k allocations: 4.926 MiB)\n",
      "40 symmetry\n",
      "∑((b, p, k, _i_0, q), (U(_i_0, _i_2, ((b⋅-1.0)+k))'⋅S(p, _i_1, ((b⋅-1.0)+_i_7), _i_7)'⋅4.0⋅U(q, _i_2, k)⋅U(p, _i_2, ((b⋅-1.0)+_i_7))⋅S(_i_0, q, ((b⋅-1.0)+k), k)))\n",
      "∑((b, p, k, _i_0, q), (U(_i_0, _i_2, ((b⋅-1.0)+k))'⋅S(q, _i_0, k, ((b⋅-1.0)+k))'⋅S(p, _i_1, ((b⋅-1.0)+_i_7), _i_7)'⋅4.0⋅U(q, _i_2, k)⋅U(p, _i_2, ((b⋅-1.0)+_i_7))))\n",
      "<->\n",
      "\n",
      "  0.014581 seconds (146.60 k allocations: 4.730 MiB)\n",
      "41 sum_sym\n",
      "∑((b, p, k, _i_0, q), (U(_i_0, _i_2, k)'⋅S(p, _i_1, ((b⋅-1.0)+_i_7), _i_7)'⋅4.0⋅U(q, _i_2, (b+k))⋅U(p, _i_2, ((b⋅-1.0)+_i_7))⋅S(_i_0, q, k, (b+k))))\n",
      "∑((b, p, k, _i_0, q), (U(_i_0, _i_2, k)'⋅S(p, _i_1, (_i_7+b), _i_7)'⋅4.0⋅U(q, _i_2, ((b⋅-1.0)+k))⋅U(p, _i_2, (_i_7+b))⋅S(_i_0, q, k, ((b⋅-1.0)+k))))\n",
      "<->\n",
      "\n",
      "  0.012756 seconds (128.56 k allocations: 4.223 MiB)\n",
      "42 symmetry\n",
      "∑((b, p, k, _i_0, q), (U(_i_0, _i_2, k)'⋅S(p, _i_1, ((b⋅-1.0)+_i_7), _i_7)'⋅4.0⋅U(q, _i_2, (b+k))⋅U(p, _i_2, ((b⋅-1.0)+_i_7))⋅S(_i_0, q, k, (b+k))))\n",
      "∑((b, p, k, _i_0, q), (U(_i_0, _i_2, k)'⋅4.0⋅U(q, _i_2, (b+k))⋅U(p, _i_2, ((b⋅-1.0)+_i_7))⋅S(_i_0, q, k, (b+k))⋅S(_i_1, p, _i_7, ((b⋅-1.0)+_i_7))))\n",
      "<->\n",
      "\n",
      "  0.013555 seconds (140.49 k allocations: 4.622 MiB)\n",
      "43 symmetry\n",
      "∑((b, p, k, _i_0, q), (U(_i_0, _i_2, k)'⋅S(p, _i_1, ((b⋅-1.0)+_i_7), _i_7)'⋅4.0⋅U(q, _i_2, (b+k))⋅U(p, _i_2, ((b⋅-1.0)+_i_7))⋅S(_i_0, q, k, (b+k))))\n",
      "∑((b, p, k, _i_0, q), (U(_i_0, _i_2, k)'⋅S(q, _i_0, (b+k), k)'⋅S(p, _i_1, ((b⋅-1.0)+_i_7), _i_7)'⋅4.0⋅U(q, _i_2, (b+k))⋅U(p, _i_2, ((b⋅-1.0)+_i_7))))\n",
      "<->\n",
      "\n",
      "  0.013555 seconds (134.98 k allocations: 4.419 MiB)\n"
     ]
    },
    {
     "data": {
      "text/latex": [
       "$\\left(\\_i_1, \\_i_2, \\_i_7\\right) \\to \\sum_{b, p, k, \\_i_0, q}\\left[(U_{\\_i_0, \\_i_2, \\left(b+k\\right)}^*\\cdot 4.0\\cdot U_{q, \\_i_2, k}\\cdot U_{p, \\_i_2, \\left(\\_i_7+b\\right)}\\cdot S_{\\_i_0, q, \\left(b+k\\right), k}\\cdot S_{\\_i_1, p, \\_i_7, \\left(\\_i_7+b\\right)})\\right]$"
      ],
      "text/plain": [
       "(_i_1, _i_2, _i_7) -> \n",
       "    ∑((b, p, k, _i_0, q), (U(_i_0, _i_2, (b+k))'⋅4.0⋅U(q, _i_2, k)⋅U(p, _i_2, (_i_7+b))⋅S(_i_0, q, (b+k), k)⋅S(_i_1, p, _i_7, (_i_7+b))))"
      ]
     },
     "execution_count": 193,
     "metadata": {},
     "output_type": "execute_result"
    }
   ],
   "source": [
    "dg = simplify(dg; settings=symmetry_settings) |> first"
   ]
  },
  {
   "cell_type": "code",
   "execution_count": null,
   "id": "fcff010a-4bd4-4866-bdf4-5ffd32224134",
   "metadata": {},
   "outputs": [],
   "source": []
  }
 ],
 "metadata": {
  "kernelspec": {
   "display_name": "PCT 1.9.3",
   "language": "julia",
   "name": "pct-1.9"
  },
  "language_info": {
   "file_extension": ".jl",
   "mimetype": "application/julia",
   "name": "julia",
   "version": "1.9.3"
  }
 },
 "nbformat": 4,
 "nbformat_minor": 5
}
