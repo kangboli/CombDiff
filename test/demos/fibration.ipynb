{
 "cells": [
  {
   "cell_type": "code",
   "execution_count": 1,
   "id": "022f3687-c685-4e40-9e1d-27ac3ccc4913",
   "metadata": {},
   "outputs": [
    {
     "name": "stderr",
     "output_type": "stream",
     "text": [
      "\u001b[36m\u001b[1m[ \u001b[22m\u001b[39m\u001b[36m\u001b[1mInfo: \u001b[22m\u001b[39mPrecompiling PCT [ef708a43-c8a3-43f4-8f65-1f04ee4c5bb0]\n"
     ]
    }
   ],
   "source": [
    "using PCT"
   ]
  },
  {
   "cell_type": "code",
   "execution_count": 2,
   "id": "313626c9-ed39-4a13-8e51-c273c3dfdb7b",
   "metadata": {},
   "outputs": [
    {
     "data": {
      "text/plain": [
       "(Map(MapType(VecType(AbstractPCTType[MapType(VecType(AbstractPCTType[I(), I()]), C(), Dict(:name => :H))]), UndeterminedPCTType(), Dict{Any, Any}()), PCTVector(VecType(AbstractPCTType[MapType(VecType(AbstractPCTType[I(), I()]), C(), Dict(:name => :H))]), Var{MapType}[Var{MapType}(MapType(VecType(AbstractPCTType[I(), I()]), C(), Dict(:name => :H)), :A)]), Var{UndeterminedPCTType}(UndeterminedPCTType(), :_)), TypeContext(Dict{Symbol, Vector{<:AbstractPCTType}}(:_ => AbstractPCTType[UndeterminedPCTType()], :H => AbstractPCTType[MapType(VecType(AbstractPCTType[I(), I()]), C(), Dict(:name => :H))], :V => AbstractPCTType[MapType(VecType(AbstractPCTType[I()]), C(), Dict(:name => :V))])))"
      ]
     },
     "execution_count": 2,
     "metadata": {},
     "output_type": "execute_result"
    }
   ],
   "source": [
    "f, ctx = @pct begin\n",
    "    @space V begin\n",
    "        type=(I,)->C\n",
    "    end\n",
    "\n",
    "    @space H begin\n",
    "        type=(I,I)->C\n",
    "    end\n",
    "    (A::H) -> _\n",
    "end"
   ]
  },
  {
   "cell_type": "code",
   "execution_count": 4,
   "id": "24c6c9e3-a85b-4f53-9262-e9bc139a9399",
   "metadata": {},
   "outputs": [
    {
     "data": {
      "text/latex": [
       "$x \\to x$"
      ],
      "text/plain": [
       "(x) -> \n",
       "    x"
      ]
     },
     "execution_count": 4,
     "metadata": {},
     "output_type": "execute_result"
    }
   ],
   "source": [
    "g = fc(@pct f ctx (x::R) -> x)"
   ]
  },
  {
   "cell_type": "code",
   "execution_count": 5,
   "id": "ba55463d-571a-44b1-a040-e9c1b4091286",
   "metadata": {},
   "outputs": [
    {
     "data": {
      "text/plain": [
       "x: \n"
      ]
     },
     "execution_count": 5,
     "metadata": {},
     "output_type": "execute_result"
    }
   ],
   "source": [
    "cg = decompose(g)"
   ]
  },
  {
   "cell_type": "code",
   "execution_count": 6,
   "id": "56110626-6511-4880-88cb-9ef5528bdc33",
   "metadata": {},
   "outputs": [
    {
     "data": {
      "text/latex": [
       "$x \\to x$"
      ],
      "text/plain": [
       "(x) -> \n",
       "    x"
      ]
     },
     "execution_count": 6,
     "metadata": {},
     "output_type": "execute_result"
    }
   ],
   "source": [
    "as_map(cg)"
   ]
  },
  {
   "cell_type": "code",
   "execution_count": 7,
   "id": "687120c0-0b46-44fd-8051-cbbdfe6a4039",
   "metadata": {},
   "outputs": [
    {
     "data": {
      "text/latex": [
       "$\\left(x, \\_k_0\\right) \\to \\_k_0$"
      ],
      "text/plain": [
       "(x, _k_0) -> \n",
       "    _k_0"
      ]
     },
     "execution_count": 7,
     "metadata": {},
     "output_type": "execute_result"
    }
   ],
   "source": [
    "eval_all(pp(cg))"
   ]
  },
  {
   "cell_type": "code",
   "execution_count": 62,
   "id": "a46afb6d-478b-4812-bdb2-5feba35efc1f",
   "metadata": {},
   "outputs": [
    {
     "data": {
      "text/latex": [
       "$x \\to \\left((x\\cdot x)+1\\right)$"
      ],
      "text/plain": [
       "(x) -> \n",
       "    ((x⋅x)+1)"
      ]
     },
     "execution_count": 62,
     "metadata": {},
     "output_type": "execute_result"
    }
   ],
   "source": [
    "g = fc(@pct f ctx (x::R) -> 1 +  x*x)"
   ]
  },
  {
   "cell_type": "code",
   "execution_count": 63,
   "id": "9dc37c19-e87a-42cf-acee-6d9acd38bd9d",
   "metadata": {},
   "outputs": [
    {
     "data": {
      "text/plain": [
       "x: +1 ▷ *x\n"
      ]
     },
     "execution_count": 63,
     "metadata": {},
     "output_type": "execute_result"
    }
   ],
   "source": [
    "cg = decompose(g)"
   ]
  },
  {
   "cell_type": "code",
   "execution_count": 64,
   "id": "994378c6-e333-4d20-90c1-6f49182ab47e",
   "metadata": {},
   "outputs": [
    {
     "data": {
      "text/latex": [
       "$x \\to \\left((x\\cdot x)+1\\right)$"
      ],
      "text/plain": [
       "(x) -> \n",
       "    ((x⋅x)+1)"
      ]
     },
     "execution_count": 64,
     "metadata": {},
     "output_type": "execute_result"
    }
   ],
   "source": [
    "as_map(cg)"
   ]
  },
  {
   "cell_type": "code",
   "execution_count": 65,
   "id": "8205587a-dc38-4f77-8f33-499745a1bea3",
   "metadata": {
    "scrolled": true
   },
   "outputs": [
    {
     "name": "stdout",
     "output_type": "stream",
     "text": [
      "----------------\n",
      "+1\n",
      "(_z_0, _k_0) -> \n",
      "    _k_0\n",
      "----------------\n",
      "*x\n",
      "(_z_0, _k_0) -> \n",
      "    (x⋅_k_0)\n",
      "----------------\n",
      "*_z_0\n",
      "(_z_1, _k_0) -> \n",
      "    (_z_0⋅_k_0)\n",
      "----------------\n",
      "{_z_0 ⇥ x: *_z_0}\n",
      "(_z_1, _k_0) -> \n",
      "    ∑((_z_0), (_z_0⋅_k_0(_z_0)))\n",
      "----------------\n",
      "*_z_0\n",
      "(_z_1, _k_0) -> \n",
      "    (_z_0⋅_k_0)\n"
     ]
    },
    {
     "data": {
      "text/latex": [
       "$\\left(x, \\_k_0\\right) \\to \\left((x\\cdot \\_k_0)+\\sum_{\\_z_0}\\left[(\\delta_{\\_z_0}^{x}\\_k_0\\cdot \\_z_0)\\right]\\right)$"
      ],
      "text/plain": [
       "(x, _k_0) -> \n",
       "    ((x⋅_k_0)+∑((_z_0), (δ(x, _z_0, _k_0)⋅_z_0)))"
      ]
     },
     "execution_count": 65,
     "metadata": {},
     "output_type": "execute_result"
    }
   ],
   "source": [
    "pp(cg)"
   ]
  },
  {
   "cell_type": "code",
   "execution_count": 66,
   "id": "9ae9563a-6bc4-447c-b043-869d6c3153a2",
   "metadata": {},
   "outputs": [
    {
     "name": "stdout",
     "output_type": "stream",
     "text": [
      "----------------\n",
      "+1\n",
      "(_z_0, _k_0) -> \n",
      "    _k_0\n",
      "----------------\n",
      "*x\n",
      "(_z_0, _k_0) -> \n",
      "    (x⋅_k_0)\n",
      "----------------\n",
      "*_z_0\n",
      "(_z_1, _k_0) -> \n",
      "    (_z_0⋅_k_0)\n",
      "----------------\n",
      "{_z_0 ⇥ x: *_z_0}\n",
      "(_z_1, _k_0) -> \n",
      "    ∑((_z_0), (_z_0⋅_k_0(_z_0)))\n",
      "----------------\n",
      "*_z_0\n",
      "(_z_1, _k_0) -> \n",
      "    (_z_0⋅_k_0)\n"
     ]
    },
    {
     "data": {
      "text/latex": [
       "$\\left(x, \\_k_0\\right) \\to \\left((x\\cdot \\_k_0)+\\sum_{\\_z_0}\\left[(\\delta_{\\_z_0}^{x}\\_k_0\\cdot \\_z_0)\\right]\\right)$"
      ],
      "text/plain": [
       "(x, _k_0) -> \n",
       "    ((x⋅_k_0)+∑((_z_0), (δ(x, _z_0, _k_0)⋅_z_0)))"
      ]
     },
     "execution_count": 66,
     "metadata": {},
     "output_type": "execute_result"
    }
   ],
   "source": [
    "eval_all(pp(cg))"
   ]
  },
  {
   "cell_type": "code",
   "execution_count": 67,
   "id": "09148091-83ab-4f73-b960-d481d7b599c9",
   "metadata": {},
   "outputs": [
    {
     "name": "stdout",
     "output_type": "stream",
     "text": [
      "----------------\n",
      "+1\n",
      "(_z_0, _k_0) -> \n",
      "    _k_0\n",
      "----------------\n",
      "*x\n",
      "(_z_0, _k_0) -> \n",
      "    (x⋅_k_0)\n",
      "----------------\n",
      "*_z_0\n",
      "(_z_1, _k_0) -> \n",
      "    (_z_0⋅_k_0)\n",
      "----------------\n",
      "{_z_0 ⇥ x: *_z_0}\n",
      "(_z_1, _k_0) -> \n",
      "    ∑((_z_0), (_z_0⋅_k_0(_z_0)))\n",
      "----------------\n",
      "*_z_0\n",
      "(_z_1, _k_0) -> \n",
      "    (_z_0⋅_k_0)\n",
      "  0.000001 seconds\n",
      "  0.000100 seconds (345 allocations: 13.000 KiB)\n",
      "1 swallow\n",
      "∑((_z_0), (δ(x, _z_0, _k_0)⋅_z_0))\n",
      "∑((_z_0), δ(_z_0, x, (_z_0⋅_k_0)))\n",
      "-->\n",
      "\n",
      "  0.000005 seconds (4 allocations: 192 bytes)\n",
      "2 contract_delta\n",
      "∑((_z_0), δ(_z_0, x, (_z_0⋅_k_0)))\n",
      "(x⋅_k_0)\n",
      "-->\n",
      "\n",
      "  0.000000 seconds\n",
      "  0.000000 seconds\n"
     ]
    },
    {
     "data": {
      "text/latex": [
       "$\\left(x, \\_k_0\\right) \\to (2.0\\cdot x\\cdot \\_k_0)$"
      ],
      "text/plain": [
       "(x, _k_0) -> \n",
       "    (2.0⋅x⋅_k_0)"
      ]
     },
     "execution_count": 67,
     "metadata": {},
     "output_type": "execute_result"
    }
   ],
   "source": [
    "simplify(eval_all(pp(cg))) |> first"
   ]
  },
  {
   "cell_type": "code",
   "execution_count": 20,
   "id": "b6046c46-507f-4c5d-bd7b-16c2bb1d4185",
   "metadata": {},
   "outputs": [
    {
     "data": {
      "text/latex": [
       "$x \\to \\sum_{i}\\left[x_{i}\\right]$"
      ],
      "text/plain": [
       "(x) -> \n",
       "    ∑((i), x(i))"
      ]
     },
     "execution_count": 20,
     "metadata": {},
     "output_type": "execute_result"
    }
   ],
   "source": [
    "g = fc(@pct f ctx (x::V) -> sum(i, x(i)))"
   ]
  },
  {
   "cell_type": "code",
   "execution_count": 21,
   "id": "15591f88-ccb3-4485-b9b6-f23ff1d7ee47",
   "metadata": {},
   "outputs": [
    {
     "data": {
      "text/plain": [
       "x: ∑i ▷ {i ⇥ x: ℳ x ▷ ->i}\n"
      ]
     },
     "execution_count": 21,
     "metadata": {},
     "output_type": "execute_result"
    }
   ],
   "source": [
    "cg = decompose(g)"
   ]
  },
  {
   "cell_type": "code",
   "execution_count": 22,
   "id": "0d141846-6b1e-426f-a7b2-2af121fa063b",
   "metadata": {},
   "outputs": [
    {
     "data": {
      "text/latex": [
       "$x \\to i \\to i$"
      ],
      "text/plain": [
       "(x) -> \n",
       "    (i) -> \n",
       "        i"
      ]
     },
     "execution_count": 22,
     "metadata": {},
     "output_type": "execute_result"
    }
   ],
   "source": [
    "eval_all(as_map(cg))"
   ]
  },
  {
   "cell_type": "code",
   "execution_count": 26,
   "id": "ac3affd0-0eeb-4580-97e6-d693f220e115",
   "metadata": {},
   "outputs": [
    {
     "data": {
      "text/latex": [
       "$\\left(x, \\_k_0\\right) \\to \\_i_0 \\to \\sum_{i}\\left[\\delta_{\\_i_0}^{i}\\_k_0\\right]$"
      ],
      "text/plain": [
       "(x, _k_0) -> \n",
       "    (_i_0) -> \n",
       "        ∑((i), δ(i, _i_0, _k_0))"
      ]
     },
     "execution_count": 26,
     "metadata": {},
     "output_type": "execute_result"
    }
   ],
   "source": [
    "pp(cg)"
   ]
  },
  {
   "cell_type": "code",
   "execution_count": 27,
   "id": "3aa5145a-ce7c-4ea1-8b43-fb99955e190e",
   "metadata": {},
   "outputs": [
    {
     "name": "stdout",
     "output_type": "stream",
     "text": [
      "  0.000020 seconds (2 allocations: 112 bytes)\n",
      "1 contract_delta\n",
      "∑((i), δ(i, _i_0, _k_0))\n",
      "_k_0\n",
      "yesdirected!\n",
      "\n",
      "  0.000000 seconds\n"
     ]
    },
    {
     "data": {
      "text/latex": [
       "$\\left(x, \\_k_0\\right) \\to \\_i_0 \\to \\_k_0$"
      ],
      "text/plain": [
       "(x, _k_0) -> \n",
       "    (_i_0) -> \n",
       "        _k_0"
      ]
     },
     "execution_count": 27,
     "metadata": {},
     "output_type": "execute_result"
    }
   ],
   "source": [
    "simplify(pp(cg)) |> first"
   ]
  },
  {
   "cell_type": "code",
   "execution_count": 28,
   "id": "4fa2dbf5-2b1a-43cb-a713-ce5970ca072b",
   "metadata": {},
   "outputs": [
    {
     "data": {
      "text/latex": [
       "$x \\to \\sum_{i}\\left[(x_{i}^*\\cdot x_{i})\\right]$"
      ],
      "text/plain": [
       "(x) -> \n",
       "    ∑((i), (x(i)'⋅x(i)))"
      ]
     },
     "execution_count": 28,
     "metadata": {},
     "output_type": "execute_result"
    }
   ],
   "source": [
    "g = fc(@pct f ctx (x::V) -> sum(i, x(i)' * x(i)))"
   ]
  },
  {
   "cell_type": "code",
   "execution_count": 29,
   "id": "bd0ea87d-ba42-445f-b717-3e6d9a977c44",
   "metadata": {},
   "outputs": [
    {
     "data": {
      "text/plain": [
       "x: ∑i ▷ {i ⇥ x: *x(i) ▷ † ▷ ℳ x ▷ ->i}\n"
      ]
     },
     "execution_count": 29,
     "metadata": {},
     "output_type": "execute_result"
    }
   ],
   "source": [
    "cg = decompose(g)"
   ]
  },
  {
   "cell_type": "code",
   "execution_count": 34,
   "id": "9c38ec0d-be45-43e2-a8b9-4221bebec2b3",
   "metadata": {},
   "outputs": [
    {
     "data": {
      "text/latex": [
       "$x \\to \\sum_{i}\\left[(x_{i}^*\\cdot x_{i})\\right]$"
      ],
      "text/plain": [
       "(x) -> \n",
       "    ∑((i), (x(i)'⋅x(i)))"
      ]
     },
     "execution_count": 34,
     "metadata": {},
     "output_type": "execute_result"
    }
   ],
   "source": [
    "eval_all(as_map(cg))"
   ]
  },
  {
   "cell_type": "code",
   "execution_count": 82,
   "id": "e2c57b03-0a1f-43b4-8484-710ca5663c75",
   "metadata": {
    "scrolled": true
   },
   "outputs": [
    {
     "data": {
      "text/latex": [
       "$\\left(\\_z_0, \\_k_0\\right) \\to \\_i_1 \\to \\sum_{i}\\left[\\left(\\sum_{\\_i_3}\\left[\\delta_{\\_i_1}^{i}(\\_i_3^*\\cdot \\delta_{\\_i_3}^{x_{i}^*}\\_k_0)\\right]+\\delta_{\\_i_1}^{i}(\\_k_0^*\\cdot x_{i})\\right)\\right]$"
      ],
      "text/plain": [
       "(_z_0, _k_0) -> \n",
       "    (_i_1) -> \n",
       "        ∑((i), (∑((_i_3), δ(i, _i_1, (_i_3'⋅δ(x(i)', _i_3, _k_0))))+δ(i, _i_1, (_k_0'⋅x(i)))))"
      ]
     },
     "execution_count": 82,
     "metadata": {},
     "output_type": "execute_result"
    }
   ],
   "source": [
    "pp(cg)"
   ]
  },
  {
   "cell_type": "code",
   "execution_count": 83,
   "id": "43562b23-21af-4325-8041-70009be64fc8",
   "metadata": {
    "scrolled": true
   },
   "outputs": [
    {
     "name": "stdout",
     "output_type": "stream",
     "text": [
      "  0.000398 seconds (2.81 k allocations: 103.969 KiB)\n",
      "1 sum_dist\n",
      "∑((i), (∑((_i_3), δ(i, _i_1, (_i_3'⋅δ(x(i)', _i_3, _k_0))))+δ(i, _i_1, (_k_0'⋅x(i)))))\n",
      "(∑((i), δ(i, _i_1, (_k_0'⋅x(i))))+∑((i, _i_3), δ(i, _i_1, (_i_3'⋅δ(x(i)', _i_3, _k_0)))))\n",
      "-->\n",
      "\n",
      "  0.000256 seconds (2.57 k allocations: 80.125 KiB)\n",
      "2 contract_delta\n",
      "(∑((i), δ(i, _i_1, (_k_0'⋅x(i))))+∑((i, _i_3), δ(i, _i_1, (_i_3'⋅δ(x(i)', _i_3, _k_0)))))\n",
      "((_k_0'⋅x(_i_1))+∑((i, _i_3), δ(i, _i_1, (_i_3'⋅δ(x(i)', _i_3, _k_0)))))\n",
      "-->\n",
      "\n",
      "  0.000185 seconds (1.71 k allocations: 53.656 KiB)\n",
      "3 contract_delta\n",
      "((_k_0'⋅x(_i_1))+∑((i, _i_3), δ(i, _i_1, (_i_3'⋅δ(x(i)', _i_3, _k_0)))))\n",
      "((_k_0'⋅x(_i_1))+∑((_i_3), (_i_3'⋅δ(x(_i_1)', _i_3, _k_0))))\n",
      "-->\n",
      "\n",
      "  0.000120 seconds (1.15 k allocations: 36.547 KiB)\n",
      "4 swallow\n",
      "((_k_0'⋅x(_i_1))+∑((_i_3), (_i_3'⋅δ(x(_i_1)', _i_3, _k_0))))\n",
      "((_k_0'⋅x(_i_1))+∑((_i_3), δ(_i_3, x(_i_1)', (_k_0⋅_i_3'))))\n",
      "-->\n",
      "\n",
      "  0.000012 seconds (14 allocations: 512 bytes)\n",
      "5 contract_delta\n",
      "((_k_0'⋅x(_i_1))+∑((_i_3), δ(_i_3, x(_i_1)', (_k_0⋅_i_3'))))\n",
      "((_k_0⋅x(_i_1))+(_k_0'⋅x(_i_1)))\n",
      "-->\n",
      "\n",
      "  0.000007 seconds (8 allocations: 320 bytes)\n",
      "6 gcd\n",
      "((_k_0⋅x(_i_1))+(_k_0'⋅x(_i_1)))\n",
      "(x(_i_1)⋅(_k_0+_k_0'))\n",
      "-->\n",
      "\n",
      "  0.000000 seconds\n"
     ]
    },
    {
     "data": {
      "text/latex": [
       "$\\left(\\_z_0, \\_k_0\\right) \\to \\_i_1 \\to (x_{\\_i_1}\\cdot \\left(\\_k_0+\\_k_0^*\\right))$"
      ],
      "text/plain": [
       "(_z_0, _k_0) -> \n",
       "    (_i_1) -> \n",
       "        (x(_i_1)⋅(_k_0+_k_0'))"
      ]
     },
     "execution_count": 83,
     "metadata": {},
     "output_type": "execute_result"
    }
   ],
   "source": [
    "simplify(eval_all(pp(cg))) |> first"
   ]
  },
  {
   "cell_type": "code",
   "execution_count": 84,
   "id": "b50fe80a-de56-4b02-8617-4c1cecdaa036",
   "metadata": {},
   "outputs": [
    {
     "data": {
      "text/latex": [
       "$x \\to (x\\cdot x^*)$"
      ],
      "text/plain": [
       "(x) -> \n",
       "    (x⋅x')"
      ]
     },
     "execution_count": 84,
     "metadata": {},
     "output_type": "execute_result"
    }
   ],
   "source": [
    "g = fc(@pct f ctx (x::C) -> x' * x)"
   ]
  },
  {
   "cell_type": "code",
   "execution_count": 85,
   "id": "d0ac56f8-cde6-4dab-87f9-55c3d51d1050",
   "metadata": {},
   "outputs": [
    {
     "data": {
      "text/plain": [
       "x: *x'\n"
      ]
     },
     "execution_count": 85,
     "metadata": {},
     "output_type": "execute_result"
    }
   ],
   "source": [
    "cg = decompose(g)"
   ]
  },
  {
   "cell_type": "code",
   "execution_count": 86,
   "id": "b9a94ddd-4602-48aa-a289-010047d6277c",
   "metadata": {},
   "outputs": [
    {
     "data": {
      "text/latex": [
       "$\\left(\\_z_0, \\_k_0\\right) \\to \\left((x\\cdot \\_k_0)+\\sum_{\\_i_0}\\left[(\\_i_0\\cdot \\delta_{x}^{\\_i_0}\\_k_0^*)\\right]\\right)$"
      ],
      "text/plain": [
       "(_z_0, _k_0) -> \n",
       "    ((x⋅_k_0)+∑((_i_0), (_i_0⋅δ(_i_0, x, _k_0'))))"
      ]
     },
     "execution_count": 86,
     "metadata": {},
     "output_type": "execute_result"
    }
   ],
   "source": [
    "pp(cg)"
   ]
  },
  {
   "cell_type": "code",
   "execution_count": 87,
   "id": "92708cd0-2f8a-41bd-8413-5da27eb0c653",
   "metadata": {
    "scrolled": true
   },
   "outputs": [
    {
     "name": "stdout",
     "output_type": "stream",
     "text": [
      "  0.000122 seconds (824 allocations: 26.594 KiB)\n",
      "1 swallow\n",
      "((x⋅_k_0)+∑((_i_0), (_i_0⋅δ(_i_0, x, _k_0'))))\n",
      "((x⋅_k_0)+∑((_i_0), δ(x, _i_0, (_i_0⋅_k_0'))))\n",
      "-->\n",
      "\n",
      "  0.000012 seconds (10 allocations: 384 bytes)\n",
      "2 contract_delta\n",
      "((x⋅_k_0)+∑((_i_0), δ(x, _i_0, (_i_0⋅_k_0'))))\n",
      "((x⋅_k_0)+(x⋅_k_0'))\n",
      "-->\n",
      "\n",
      "  0.000003 seconds (6 allocations: 256 bytes)\n",
      "3 gcd\n",
      "((x⋅_k_0)+(x⋅_k_0'))\n",
      "(x⋅(_k_0+_k_0'))\n",
      "-->\n",
      "\n",
      "  0.000000 seconds\n"
     ]
    },
    {
     "data": {
      "text/latex": [
       "$\\left(\\_z_0, \\_k_0\\right) \\to (x\\cdot \\left(\\_k_0+\\_k_0^*\\right))$"
      ],
      "text/plain": [
       "(_z_0, _k_0) -> \n",
       "    (x⋅(_k_0+_k_0'))"
      ]
     },
     "execution_count": 87,
     "metadata": {},
     "output_type": "execute_result"
    }
   ],
   "source": [
    "simplify(pp(cg); settings=Dict(:clench_sum=>true)) |> first"
   ]
  },
  {
   "cell_type": "code",
   "execution_count": 80,
   "id": "06e77755-657d-4679-a4c4-a91fe9a2acc2",
   "metadata": {},
   "outputs": [
    {
     "data": {
      "text/plain": [
       "Any[]"
      ]
     },
     "execution_count": 80,
     "metadata": {},
     "output_type": "execute_result"
    }
   ],
   "source": [
    "sort([], by=e->-e[2])"
   ]
  },
  {
   "cell_type": "code",
   "execution_count": null,
   "id": "0e526fb4-3d40-4fcd-99ed-f940ed07581c",
   "metadata": {},
   "outputs": [],
   "source": []
  }
 ],
 "metadata": {
  "kernelspec": {
   "display_name": "PCT 1.9.3",
   "language": "julia",
   "name": "pct-1.9"
  },
  "language_info": {
   "file_extension": ".jl",
   "mimetype": "application/julia",
   "name": "julia",
   "version": "1.9.3"
  }
 },
 "nbformat": 4,
 "nbformat_minor": 5
}
