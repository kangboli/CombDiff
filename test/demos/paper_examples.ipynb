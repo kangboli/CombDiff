{
 "cells": [
  {
   "cell_type": "code",
   "execution_count": 1,
   "id": "1e61d825-5b7e-4a67-92ee-391fbedd7f8f",
   "metadata": {
    "tags": []
   },
   "outputs": [
    {
     "name": "stderr",
     "output_type": "stream",
     "text": [
      "\u001b[32m\u001b[1mPrecompiling\u001b[22m\u001b[39m PCT\n",
      "\u001b[32m  ✓ \u001b[39mPCT\n",
      "  1 dependency successfully precompiled in 1 seconds. 7 already precompiled.\n"
     ]
    }
   ],
   "source": [
    "using PCT"
   ]
  },
  {
   "cell_type": "markdown",
   "id": "96386563-2233-4e53-9844-f90cd25d4399",
   "metadata": {},
   "source": [
    "## $x^{\\dagger} A x$"
   ]
  },
  {
   "cell_type": "code",
   "execution_count": 2,
   "id": "30ae0e8b-9f7d-4a5d-9d22-4961bd5c317c",
   "metadata": {
    "tags": []
   },
   "outputs": [
    {
     "data": {
      "text/latex": [
       "$A \\to \\mathcal{P}\\left(x \\to \\sum_{i, j}\\left(x_{j}\\cdot A_{i, j}\\cdot x_{i}^{*}\\right)\\right)$"
      ],
      "text/plain": [
       "(A) -> \n",
       "    𝒫((x) -> \n",
       "        ∑((i, j), (x(j)⋅A(i, j)⋅x(i)')))"
      ]
     },
     "execution_count": 2,
     "metadata": {},
     "output_type": "execute_result"
    }
   ],
   "source": [
    "f, _ = @pct (A::Her) -> pullback((x::CV) -> sum((i, j), x(i)' * A(i, j) * x(j))); f"
   ]
  },
  {
   "cell_type": "code",
   "execution_count": 3,
   "id": "64a31ea5-7771-4e77-8b43-585c61fca2a2",
   "metadata": {
    "tags": []
   },
   "outputs": [
    {
     "data": {
      "text/latex": [
       "$A \\to x \\to \\mathbb{d} \\to \\sum_{j}\\left(x_{j}\\cdot A_{\\mathbb{d}, j}\\cdot 2.0\\right)$"
      ],
      "text/plain": [
       "(A) -> \n",
       "    (x) -> \n",
       "        (_d) -> \n",
       "            ∑((j), (x(j)⋅A(_d, j)⋅2.0))"
      ]
     },
     "execution_count": 3,
     "metadata": {},
     "output_type": "execute_result"
    }
   ],
   "source": [
    "df = redux(vdiff(f), settings=symmetry_settings)"
   ]
  },
  {
   "cell_type": "markdown",
   "id": "e0554443-9d11-4e9e-92ea-d02d46340f46",
   "metadata": {},
   "source": [
    "## Trace of Product"
   ]
  },
  {
   "cell_type": "code",
   "execution_count": 4,
   "id": "7434d5d2-0937-4cdc-b675-c2b8ef92b152",
   "metadata": {
    "tags": []
   },
   "outputs": [
    {
     "data": {
      "text/latex": [
       "$\\mathrm{let}\\\\ \\quad tr = X \\to \\sum_{i}\\left(X_{i, i}\\right)\\\\\\quad matmul = \\left(A, B\\right) \\to \\left(i, j\\right) \\to \\sum_{n}\\left(A_{i, n}\\cdot B_{n, j}\\right)\\\\\\quad \\mathcal{P}\\left(\\left(A, B\\right) \\to tr\\left(\\left(matmul\\left(A, B\\right)+matmul\\left(B, A\\right)\\right)\\right)\\right)\\\\ \\mathrm{end}$"
      ],
      "text/plain": [
       "let \n",
       "    tr = (X) -> \n",
       "        ∑((i), X(i, i))\n",
       "    matmul = (A, B) -> \n",
       "        (i, j) -> \n",
       "            ∑((n), (A(i, n)⋅B(n, j)))\n",
       "    𝒫((A, B) -> \n",
       "        tr((matmul(A, B)+matmul(B, A))))\n",
       "end"
      ]
     },
     "execution_count": 4,
     "metadata": {},
     "output_type": "execute_result"
    }
   ],
   "source": [
    "f, _ = @pct begin\n",
    "    tr = (X::CM) -> sum(i, X(i, i))\n",
    "    matmul = (A::CM, B::CM) -> (i::N, j::N) -> sum(n, A(i, n) * B(n, j))\n",
    "    pullback((A::CM, B::CM) -> tr(matmul(A, B) + matmul(B, A)))\n",
    "end; f"
   ]
  },
  {
   "cell_type": "code",
   "execution_count": 5,
   "id": "1ff8278f-15eb-4336-87ce-8687cf74568a",
   "metadata": {
    "tags": []
   },
   "outputs": [
    {
     "data": {
      "text/latex": [
       "$\\left(A, B\\right) \\to \\left(\\mathbb{d}, \\mathbb{d_1}\\right) \\to B_{\\mathbb{d_1}, \\mathbb{d}}^{*}\\cdot 2.0, \\left(\\mathbb{d}, \\mathbb{d_1}\\right) \\to A_{\\mathbb{d_1}, \\mathbb{d}}^{*}\\cdot 2.0$"
      ],
      "text/plain": [
       "(A, B) -> \n",
       "    (_d, _d_1) -> \n",
       "        (B(_d_1, _d)'⋅2.0), (_d, _d_1) -> \n",
       "        (A(_d_1, _d)'⋅2.0)"
      ]
     },
     "execution_count": 5,
     "metadata": {},
     "output_type": "execute_result"
    }
   ],
   "source": [
    "redux(vdiff(eval_all(f)); settings=symmetry_settings)"
   ]
  },
  {
   "cell_type": "markdown",
   "id": "4924b3d0-edba-44c5-b4e8-05308fc0c9e2",
   "metadata": {},
   "source": [
    "## Conjugate Gradient"
   ]
  },
  {
   "cell_type": "code",
   "execution_count": 6,
   "id": "f7acc1d0-666e-413e-bfb8-e21843334035",
   "metadata": {
    "tags": []
   },
   "outputs": [
    {
     "data": {
      "text/latex": [
       "$\\left(A, r, p, b, x\\right) \\to \\mathrm{let}\\\\ \\quad E = x \\to \\left(\\sum_{i}\\left(x_{i}\\cdot b_{i}\\right)+\\sum_{i, j}\\left(x_{i}\\cdot x_{j}\\cdot A_{i, j}\\cdot 0.5\\right)\\right)\\\\\\quad \\mathcal{P}\\left(\\left(α, β\\right) \\to E\\left(i \\to \\left(x_{i}+α\\cdot \\left(r_{i}+p_{i}\\cdot β\\right)\\right)\\right)\\right)\\\\ \\mathrm{end}$"
      ],
      "text/plain": [
       "(A, r, p, b, x) -> \n",
       "    let \n",
       "        E = (x) -> \n",
       "            (∑((i), (x(i)⋅b(i)))+∑((i, j), (x(i)⋅x(j)⋅A(i, j)⋅0.5)))\n",
       "        𝒫((α, β) -> \n",
       "            E((i) -> \n",
       "                (x(i)+(α⋅(r(i)+(p(i)⋅β))))))\n",
       "    end"
      ]
     },
     "execution_count": 6,
     "metadata": {},
     "output_type": "execute_result"
    }
   ],
   "source": [
    "f, _ = @pct (A::Sym, r::RV, p::RV, b::RV, x::RV) -> begin\n",
    "    E = (x::RV) -> sum((i, j), 0.5 * x(i) * A(i, j) * x(j)) + sum(i, x(i) * b(i))\n",
    "    pullback((α::R, β::R) -> E((i::N) -> x(i) + α * (r(i) + β * p(i))))\n",
    "end; f"
   ]
  },
  {
   "cell_type": "code",
   "execution_count": 7,
   "id": "c2c03494-aabf-4443-b52e-8102d9ed7ec3",
   "metadata": {
    "tags": []
   },
   "outputs": [
    {
     "data": {
      "text/latex": [
       "$\\left(A, r, p, b, x\\right) \\to \\mathrm{let}\\\\ \\quad E = x \\to \\left(\\sum_{i}\\left(x_{i}\\cdot b_{i}\\right)+\\sum_{i, j}\\left(x_{i}\\cdot x_{j}\\cdot A_{i, j}\\cdot 0.5\\right)\\right)\\\\\\quad \\left(α, β\\right) \\to \\sum_{i}\\left(\\nabla \\left(E\\right)\\left(i \\to \\left(x_{i}+α\\cdot \\left(r_{i}+p_{i}\\cdot β\\right)\\right)\\right)_{i}\\cdot \\left(r_{i}+p_{i}\\cdot β\\right)\\right), \\sum_{i}\\left(\\nabla \\left(E\\right)\\left(i \\to \\left(x_{i}+α\\cdot \\left(r_{i}+p_{i}\\cdot β\\right)\\right)\\right)_{i}\\cdot p_{i}\\cdot α\\right)\\\\ \\mathrm{end}$"
      ],
      "text/plain": [
       "(A, r, p, b, x) -> \n",
       "    let \n",
       "        E = (x) -> \n",
       "            (∑((i), (x(i)⋅b(i)))+∑((i, j), (x(i)⋅x(j)⋅A(i, j)⋅0.5)))\n",
       "        (α, β) -> \n",
       "            ∑((i), (𝒫(E)((i) -> \n",
       "                (x(i)+(α⋅(r(i)+(p(i)⋅β)))), 1)(i)⋅(r(i)+(p(i)⋅β)))), ∑((i), (𝒫(E)((i) -> \n",
       "                (x(i)+(α⋅(r(i)+(p(i)⋅β)))), 1)(i)⋅p(i)⋅α))\n",
       "    end"
      ]
     },
     "execution_count": 7,
     "metadata": {},
     "output_type": "execute_result"
    }
   ],
   "source": [
    "df = vdiff(f)"
   ]
  },
  {
   "cell_type": "code",
   "execution_count": 8,
   "id": "386a1099-a035-4d75-811c-cef4726d9055",
   "metadata": {
    "tags": []
   },
   "outputs": [
    {
     "data": {
      "text/latex": [
       "$\\left(A, r, p, b, x\\right) \\to \\left(α, β\\right) \\to \\left(\\sum_{i}\\left(b_{i}\\cdot \\left(r_{i}+p_{i}\\cdot β\\right)\\right)+\\sum_{i, j}\\left(A_{i, j}\\cdot \\left(x_{j}+α\\cdot \\left(r_{j}+p_{j}\\cdot β\\right)\\right)\\cdot \\left(r_{i}+p_{i}\\cdot β\\right)\\right)\\right), \\left(\\sum_{i}\\left(b_{i}\\cdot p_{i}\\cdot α\\right)+\\sum_{i, j}\\left(p_{j}\\cdot A_{i, j}\\cdot α\\cdot \\left(x_{i}+α\\cdot \\left(r_{i}+p_{i}\\cdot β\\right)\\right)\\right)\\right)$"
      ],
      "text/plain": [
       "(A, r, p, b, x) -> \n",
       "    (α, β) -> \n",
       "        (∑((i), (b(i)⋅(r(i)+(p(i)⋅β))))+∑((i, j), (A(i, j)⋅(x(j)+(α⋅(r(j)+(p(j)⋅β))))⋅(r(i)+(p(i)⋅β))))), (∑((i), (b(i)⋅p(i)⋅α))+∑((i, j), (p(j)⋅A(i, j)⋅α⋅(x(i)+(α⋅(r(i)+(p(i)⋅β)))))))"
      ]
     },
     "execution_count": 8,
     "metadata": {},
     "output_type": "execute_result"
    }
   ],
   "source": [
    "df = redux(vdiff(eval_all(f)); settings=symmetry_settings)"
   ]
  },
  {
   "cell_type": "markdown",
   "id": "bf99e505-948f-4ded-819c-36721b79662d",
   "metadata": {},
   "source": [
    "## Lagrangian Mechanics"
   ]
  },
  {
   "cell_type": "code",
   "execution_count": 9,
   "id": "1edae315-c93e-403f-a389-3a17a1339ac3",
   "metadata": {
    "tags": []
   },
   "outputs": [],
   "source": [
    "_, ctx = @pct begin\n",
    "    @space X begin\n",
    "        type = (RF, ) -> RF\n",
    "        linear = true\n",
    "    end\n",
    "end; "
   ]
  },
  {
   "cell_type": "code",
   "execution_count": 10,
   "id": "748b151d-a0cc-474b-926c-c9b77dee82da",
   "metadata": {
    "tags": []
   },
   "outputs": [
    {
     "data": {
      "text/latex": [
       "$\\left(L, D\\right) \\to \\mathcal{P}\\left(r \\to \\sum_{t}\\left(L\\left(r\\left(t\\right), D\\left(r\\right)\\left(t\\right)\\right)\\right)\\right)$"
      ],
      "text/plain": [
       "(L, D) -> \n",
       "    𝒫((r) -> \n",
       "        ∑((t), L(r(t), D(r)(t))))"
      ]
     },
     "execution_count": 10,
     "metadata": {},
     "output_type": "execute_result"
    }
   ],
   "source": [
    "f, _ = @pct _ ctx (L::RO, D::X) -> pullback((r::RF) -> sum((t::R), L(r(t), D(r)(t)))); f"
   ]
  },
  {
   "cell_type": "code",
   "execution_count": 12,
   "id": "39b5d1c0-7010-41d5-aa28-0f3c1e5020fb",
   "metadata": {
    "tags": []
   },
   "outputs": [
    {
     "data": {
      "text/latex": [
       "$\\left(L, D\\right) \\to r \\to \\left(D^{\\dagger}\\left(\\mathbb{d} \\to \\nabla \\left(\\mathbb{z_1} \\to L\\left(r\\left(\\mathbb{d}\\right), \\mathbb{z_1}\\right)\\right)\\left(D\\left(r\\right)\\left(\\mathbb{d}\\right)\\right)\\right)+\\mathbb{d} \\to \\nabla \\left(\\mathbb{z_2} \\to L\\left(\\mathbb{z_2}, D\\left(r\\right)\\left(\\mathbb{d}\\right)\\right)\\right)\\left(r\\left(\\mathbb{d}\\right)\\right)\\right)$"
      ],
      "text/plain": [
       "(L, D) -> \n",
       "    (r) -> \n",
       "        (D'((_d) -> \n",
       "            𝒫((_z_1) -> \n",
       "                L(r(_d), _z_1))(D(r)(_d), 1))+(_d) -> \n",
       "            𝒫((_z_2) -> \n",
       "                L(_z_2, D(r)(_d)))(r(_d), 1))"
      ]
     },
     "execution_count": 12,
     "metadata": {},
     "output_type": "execute_result"
    }
   ],
   "source": [
    "redux(vdiff(f); settings=custom_settings(:clench_sum=>true))"
   ]
  },
  {
   "cell_type": "markdown",
   "id": "54d4a70d-7c95-4020-9641-b72a66f0f20e",
   "metadata": {},
   "source": [
    "## Hartree Fock Gradient and Hessian Vector Product"
   ]
  },
  {
   "cell_type": "code",
   "execution_count": 13,
   "id": "1c91f52d-f0dd-4ca9-b685-d3f3c3fe6ace",
   "metadata": {
    "tags": []
   },
   "outputs": [],
   "source": [
    "_, ctx = @pct begin    \n",
    "    @space T begin\n",
    "        type = (I, I, I, I) -> C\n",
    "        symmetries = (((2, 1, 4, 3), :conj), ((3, 4, 1, 2), :id))\n",
    "    end\n",
    "end;"
   ]
  },
  {
   "cell_type": "code",
   "execution_count": 20,
   "id": "723e6157-9ae8-4f02-a016-7e0335267912",
   "metadata": {
    "tags": []
   },
   "outputs": [
    {
     "data": {
      "text/latex": [
       "$J \\to \\mathcal{P}\\left(C \\to \\sum_{i, j, p, q, r, s}\\left(J\\left(p, q, r, s\\right)\\cdot C_{s, j}\\cdot C_{q, i}\\cdot C_{p, i}^{*}\\cdot C_{r, j}^{*}\\right)\\right)$"
      ],
      "text/plain": [
       "(J) -> \n",
       "    𝒫((C) -> \n",
       "        ∑((i, j, p, q, r, s), (J(p, q, r, s)⋅C(s, j)⋅C(q, i)⋅C(p, i)'⋅C(r, j)')))"
      ]
     },
     "execution_count": 20,
     "metadata": {},
     "output_type": "execute_result"
    }
   ],
   "source": [
    "f, _ = @pct _ ctx (J::T) -> pullback((C::CM) -> sum((i, j, p, q, r, s),\n",
    "    C(p, i)' * C(q, i) * C(r, j)' * C(s, j) * J(p, q, r, s))); f"
   ]
  },
  {
   "cell_type": "code",
   "execution_count": 37,
   "id": "63f8d0a8-09ce-4558-8f32-1b3696940f19",
   "metadata": {
    "tags": []
   },
   "outputs": [
    {
     "data": {
      "text/latex": [
       "$J \\to C \\to \\left(\\mathbb{d}, \\mathbb{d_1}\\right) \\to \\sum_{j, p, r, s}\\left(J\\left(\\mathbb{d}, p, s, r\\right)\\cdot C_{p, \\mathbb{d_1}}\\cdot C_{r, j}\\cdot C_{s, j}^{*}\\cdot 4.0\\right)$"
      ],
      "text/plain": [
       "(J) -> \n",
       "    (C) -> \n",
       "        (_d, _d_1) -> \n",
       "            ∑((j, p, r, s), (J(_d, p, s, r)⋅C(p, _d_1)⋅C(r, j)⋅C(s, j)'⋅4.0))"
      ]
     },
     "execution_count": 37,
     "metadata": {},
     "output_type": "execute_result"
    }
   ],
   "source": [
    "df = redux(vdiff(f); settings=symmetry_settings)"
   ]
  },
  {
   "cell_type": "code",
   "execution_count": 38,
   "id": "f9d37237-fd34-4ab1-b294-7da760489e0c",
   "metadata": {
    "tags": []
   },
   "outputs": [
    {
     "data": {
      "text/latex": [
       "$\\left(C, \\mathbb{k}\\right) \\to \\left(\\mathbb{a}, \\mathbb{a_1}\\right) \\to \\left(\\sum_{\\mathbb{d}, \\mathbb{d_1}, p, s}\\left(\\mathbb{k}_{\\mathbb{d}, \\mathbb{d_1}}\\cdot C_{s, \\mathbb{a_1}}\\cdot J\\left(\\mathbb{d}, p, s, \\mathbb{a}\\right)^{*}\\cdot C_{p, \\mathbb{d_1}}^{*}\\cdot 4.0\\right)+\\sum_{\\mathbb{d}, \\mathbb{d_1}, p, r}\\left(J\\left(\\mathbb{d}, p, \\mathbb{a}, r\\right)\\cdot C_{p, \\mathbb{d_1}}\\cdot C_{r, \\mathbb{a_1}}\\cdot \\mathbb{k}_{\\mathbb{d}, \\mathbb{d_1}}^{*}\\cdot 4.0\\right)+\\sum_{\\mathbb{d}, j, r, s}\\left(\\mathbb{k}_{\\mathbb{d}, \\mathbb{a_1}}\\cdot C_{s, j}\\cdot J\\left(\\mathbb{d}, \\mathbb{a}, s, r\\right)^{*}\\cdot C_{r, j}^{*}\\cdot 4.0\\right)\\right)$"
      ],
      "text/plain": [
       "(C, _k) -> \n",
       "    (_a, _a_1) -> \n",
       "        (∑((_d, _d_1, p, s), (_k(_d, _d_1)⋅C(s, _a_1)⋅J(_d, p, s, _a)'⋅C(p, _d_1)'⋅4.0))+∑((_d, _d_1, p, r), (J(_d, p, _a, r)⋅C(p, _d_1)⋅C(r, _a_1)⋅_k(_d, _d_1)'⋅4.0))+∑((_d, j, r, s), (_k(_d, _a_1)⋅C(s, j)⋅J(_d, _a, s, r)'⋅C(r, j)'⋅4.0)))"
      ]
     },
     "execution_count": 38,
     "metadata": {},
     "output_type": "execute_result"
    }
   ],
   "source": [
    "df |> get_body |> decompose |> pp |> simplify |> first"
   ]
  },
  {
   "cell_type": "markdown",
   "id": "b2138b6e-d9ed-46e7-8999-a0827403215e",
   "metadata": {},
   "source": [
    "## Foster Boys"
   ]
  },
  {
   "cell_type": "code",
   "execution_count": 45,
   "id": "35d317f9-4893-464d-beb8-c1b267a8e0cc",
   "metadata": {
    "tags": []
   },
   "outputs": [
    {
     "data": {
      "text/latex": [
       "$\\left(R, R2\\right) \\to \\mathcal{P}\\left(C \\to \\mathrm{let}\\\\ \\quad r = i \\to \\sum_{p, q}\\left(R_{p, q}\\cdot C_{i, q}\\cdot C_{i, p}^{*}\\right)\\\\\\quad \\sum_{i}\\left(\\left(\\sum_{p, q}\\left(R2_{p, q}\\cdot C_{i, q}\\cdot C_{i, p}^{*}\\right)-1.0\\cdot r_{i}\\cdot r_{i}^{*}\\right)\\right)\\\\ \\mathrm{end}\\right)$"
      ],
      "text/plain": [
       "(R, R2) -> \n",
       "    𝒫((C) -> \n",
       "        let \n",
       "            r = (i) -> \n",
       "                ∑((p, q), (R(p, q)⋅C(i, q)⋅C(i, p)'))\n",
       "            ∑((i), (∑((p, q), (R2(p, q)⋅C(i, q)⋅C(i, p)'))+(r(i)⋅r(i)'⋅-1.0)))\n",
       "        end)"
      ]
     },
     "execution_count": 45,
     "metadata": {},
     "output_type": "execute_result"
    }
   ],
   "source": [
    "f, _ = @pct (R::Her, R2::Her) -> pullback((C::CM) -> begin \n",
    "        r = (i::N) -> sum((p, q), R(p, q) * C(i, p)' * C(i, q))\n",
    "        sum(i, sum((p, q), R2(p, q) * C(i, p)' * C(i, q)) - r(i)' * r(i))\n",
    "    end); f"
   ]
  },
  {
   "cell_type": "code",
   "execution_count": 46,
   "id": "5db5695f-c0b5-4c4f-ae81-8e0cda041c9c",
   "metadata": {
    "tags": []
   },
   "outputs": [
    {
     "data": {
      "text/latex": [
       "$\\left(R, R2\\right) \\to C \\to \\left(\\mathbb{d}, \\mathbb{d_1}\\right) \\to 2.0\\cdot \\left(\\sum_{p}\\left(R2_{\\mathbb{d_1}, p}\\cdot C_{\\mathbb{d}, p}\\right)+\\sum_{\\mathbb{i}, p, q}\\left(-2.0\\cdot R_{\\mathbb{d_1}, p}\\cdot R_{\\mathbb{i}, q}\\cdot C_{\\mathbb{d}, q}\\cdot C_{\\mathbb{d}, p}\\cdot C_{\\mathbb{d}, \\mathbb{i}}^{*}\\right)\\right)$"
      ],
      "text/plain": [
       "(R, R2) -> \n",
       "    (C) -> \n",
       "        (_d, _d_1) -> \n",
       "            (2.0⋅(∑((p), (R2(_d_1, p)⋅C(_d, p)))+∑((_i, p, q), (R(_d_1, p)⋅R(_i, q)⋅C(_d, q)⋅C(_d, p)⋅C(_d, _i)'⋅-2.0))))"
      ]
     },
     "execution_count": 46,
     "metadata": {},
     "output_type": "execute_result"
    }
   ],
   "source": [
    "df = redux(vdiff(eval_all(f)); settings=symmetry_settings)"
   ]
  },
  {
   "cell_type": "markdown",
   "id": "b53f6b93-055f-45b5-bf1f-b4dec0aff424",
   "metadata": {},
   "source": [
    "## Localized Wannier Functions"
   ]
  },
  {
   "cell_type": "code",
   "execution_count": 40,
   "id": "9b81aaa2-4818-4b5e-9d88-e85872adf25c",
   "metadata": {
    "tags": []
   },
   "outputs": [],
   "source": [
    "_, ctx = @pct begin\n",
    "    @domain BZ begin\n",
    "        base = I\n",
    "        periodic = true\n",
    "    end\n",
    "    \n",
    "    @domain X begin\n",
    "        symmetric = true\n",
    "        contractable = false\n",
    "    end\n",
    "    \n",
    "    @space Mmn begin\n",
    "        type = (N, N, BZ, BZ) -> C\n",
    "        symmetries = (((2, 1, 4, 3), :conj),)\n",
    "    end\n",
    "\n",
    "    @space SV begin\n",
    "        type = (I,) -> C\n",
    "        symmetries = (((1,), :ineg),)\n",
    "    end\n",
    "    \n",
    "    @space Gauge begin\n",
    "        type = (N, N, BZ) -> C\n",
    "    end\n",
    "end;"
   ]
  },
  {
   "cell_type": "code",
   "execution_count": 42,
   "id": "48a4f93c-12a1-4bcb-a5f4-515dbc9ad429",
   "metadata": {
    "tags": []
   },
   "outputs": [
    {
     "data": {
      "text/latex": [
       "$\\left(S, w\\right) \\to \\mathcal{P}\\left(U \\to \\mathrm{let}\\\\ \\quad ρ = \\left(n, b\\right) \\to \\sum_{k, p, q}\\left(U\\left(q, n, \\left(b+k\\right)\\right)\\cdot S\\left(p, q, k, \\left(b+k\\right)\\right)\\cdot U\\left(p, n, k\\right)^{*}\\right)\\\\\\quad \\sum_{n, b}\\left(ρ\\left(n, b\\right)\\cdot ρ\\left(n, b\\right)^{*}\\right)\\\\ \\mathrm{end}\\right)$"
      ],
      "text/plain": [
       "(S, w) -> \n",
       "    𝒫((U) -> \n",
       "        let \n",
       "            ρ = (n, b) -> \n",
       "                ∑((k, p, q), (U(q, n, (b+k))⋅S(p, q, k, (b+k))⋅U(p, n, k)'))\n",
       "            ∑((n, b), (ρ(n, b)⋅ρ(n, b)'))\n",
       "        end)"
      ]
     },
     "execution_count": 42,
     "metadata": {},
     "output_type": "execute_result"
    }
   ],
   "source": [
    "f, _ = @pct _ ctx (S::Mmn, w::SV) -> pullback((U::Gauge) -> \n",
    "    begin\n",
    "        ρ = (n::N, b::X) -> sum((k::BZ, p, q), U(p, n, k)' * S(p, q, k, k + b) * U(q, n, k + b))\n",
    "        sum((n, b::X), ρ(n, b)' * ρ(n, b))\n",
    "    end); f"
   ]
  },
  {
   "cell_type": "code",
   "execution_count": 43,
   "id": "df1a9d34-fceb-440a-8bad-28436f332653",
   "metadata": {
    "tags": []
   },
   "outputs": [
    {
     "data": {
      "text/latex": [
       "$\\left(S, w\\right) \\to U \\to \\left(\\mathbb{d}, \\mathbb{d_1}, \\mathbb{d_2}\\right) \\to \\sum_{b, p, k, \\mathbb{i}, q}\\left(U\\left(q, \\mathbb{d_1}, k\\right)\\cdot U\\left(p, \\mathbb{d_1}, \\left(\\mathbb{d_2}+b\\right)\\right)\\cdot S\\left(\\mathbb{d}, p, \\mathbb{d_2}, \\left(\\mathbb{d_2}+b\\right)\\right)\\cdot S\\left(\\mathbb{i}, q, \\left(b+k\\right), k\\right)\\cdot U\\left(\\mathbb{i}, \\mathbb{d_1}, \\left(b+k\\right)\\right)^{*}\\cdot 4.0\\right)$"
      ],
      "text/plain": [
       "(S, w) -> \n",
       "    (U) -> \n",
       "        (_d, _d_1, _d_2) -> \n",
       "            ∑((b, p, k, _i, q), (U(q, _d_1, k)⋅U(p, _d_1, (_d_2+b))⋅S(_d, p, _d_2, (_d_2+b))⋅S(_i, q, (b+k), k)⋅U(_i, _d_1, (b+k))'⋅4.0))"
      ]
     },
     "execution_count": 43,
     "metadata": {},
     "output_type": "execute_result"
    }
   ],
   "source": [
    "# df = vdiff(eval_all(f); settings=custom_settings(:logging=>true; preset = symmetry_settings))\n",
    "df = redux(vdiff(eval_all(f)); settings=symmetry_settings)"
   ]
  },
  {
   "cell_type": "code",
   "execution_count": 18,
   "id": "15001476-186a-49bc-910d-31c32d0b7579",
   "metadata": {
    "tags": []
   },
   "outputs": [],
   "source": [
    "_, ctx = @pct begin\n",
    "    @space Tau begin\n",
    "        type=(R, RV) -> RM\n",
    "    end\n",
    "    \n",
    "    @space Nu begin\n",
    "        type=(RV, ) -> R\n",
    "    end\n",
    "        \n",
    "    @space S begin\n",
    "        type=(RV, )->RV\n",
    "    end\n",
    "end;"
   ]
  },
  {
   "cell_type": "code",
   "execution_count": 14,
   "id": "b2d38359-5108-48ea-8a02-fe3820bd3fcd",
   "metadata": {
    "tags": []
   },
   "outputs": [
    {
     "data": {
      "text/latex": [
       "$\\left(τ, ν, p\\right) \\to \\mathrm{vdiff}\\left(\\mathcal{P}\\left(x \\to τ\\left(ν\\left(x\\right), p\\left(x\\right)\\right)\\right)\\right)$"
      ],
      "text/plain": [
       "(τ, ν, p) -> \n",
       "    __vdiff(𝒫((x) -> \n",
       "        τ(ν(x), p(x))))"
      ]
     },
     "execution_count": 14,
     "metadata": {},
     "output_type": "execute_result"
    }
   ],
   "source": [
    "f, _ = @pct _ ctx (τ::Tau, ν::Nu, p::S) -> :vdiff(pullback((x::RV) -> τ(ν(x), p(x)))); f"
   ]
  },
  {
   "cell_type": "code",
   "execution_count": 15,
   "id": "09fb7c6e-ddbe-4e1f-9816-28a87be974b7",
   "metadata": {
    "tags": []
   },
   "outputs": [
    {
     "data": {
      "text/latex": [
       "$\\left(τ, ν, p\\right) \\to x \\to \\left(\\mathcal{P}\\left(ν\\right)\\left(x, \\nabla \\left(\\mathbb{z} \\to τ\\left(\\mathbb{z}, p\\left(x\\right)\\right)\\right)\\left(ν\\left(x\\right)\\right)\\right)+\\mathcal{P}\\left(p\\right)\\left(x, \\nabla \\left(\\mathbb{z_1} \\to τ\\left(ν\\left(x\\right), \\mathbb{z_1}\\right)\\right)\\left(p\\left(x\\right)\\right)\\right)\\right)$"
      ],
      "text/plain": [
       "(τ, ν, p) -> \n",
       "    (x) -> \n",
       "        (𝒫(ν)(x, 𝒫((_z) -> \n",
       "            τ(_z, p(x)))(ν(x), 1))+𝒫(p)(x, 𝒫((_z_1) -> \n",
       "            τ(ν(x), _z_1))(p(x), 1)))"
      ]
     },
     "execution_count": 15,
     "metadata": {},
     "output_type": "execute_result"
    }
   ],
   "source": [
    "df = process_directive(f)"
   ]
  }
 ],
 "metadata": {
  "kernelspec": {
   "display_name": "pct 1.10.0",
   "language": "julia",
   "name": "pct-1.10"
  },
  "language_info": {
   "file_extension": ".jl",
   "mimetype": "application/julia",
   "name": "julia",
   "version": "1.10.0"
  }
 },
 "nbformat": 4,
 "nbformat_minor": 5
}
