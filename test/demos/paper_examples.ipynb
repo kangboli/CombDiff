{
 "cells": [
  {
   "cell_type": "code",
   "execution_count": 1,
   "id": "1e61d825-5b7e-4a67-92ee-391fbedd7f8f",
   "metadata": {
    "tags": []
   },
   "outputs": [
    {
     "name": "stderr",
     "output_type": "stream",
     "text": [
      "\u001b[32m\u001b[1mPrecompiling\u001b[22m\u001b[39m PCT\n",
      "\u001b[32m  ✓ \u001b[39mPCT\n",
      "  1 dependency successfully precompiled in 2 seconds. 7 already precompiled.\n"
     ]
    }
   ],
   "source": [
    "using PCT"
   ]
  },
  {
   "cell_type": "markdown",
   "id": "96386563-2233-4e53-9844-f90cd25d4399",
   "metadata": {},
   "source": [
    "## $x^{\\dagger} A x$"
   ]
  },
  {
   "cell_type": "code",
   "execution_count": 2,
   "id": "30ae0e8b-9f7d-4a5d-9d22-4961bd5c317c",
   "metadata": {
    "tags": []
   },
   "outputs": [
    {
     "name": "stdout",
     "output_type": "stream",
     "text": [
      "A \\to \\mathcal{P}\\left(x \\to x^{\\dagger}\\cdot A\\cdot x\\right)\n"
     ]
    }
   ],
   "source": [
    "f, _ = @pct (A::Her) -> pullback((x::CV) -> sum((i, j), x(i)' * A(i, j) * x(j)))\n",
    "blaserize(f) |> latex |> println"
   ]
  },
  {
   "cell_type": "code",
   "execution_count": 3,
   "id": "64a31ea5-7771-4e77-8b43-585c61fca2a2",
   "metadata": {
    "tags": []
   },
   "outputs": [
    {
     "name": "stdout",
     "output_type": "stream",
     "text": [
      "A \\to x \\to 2.0 \\cdot A\\cdot x\n"
     ]
    }
   ],
   "source": [
    "df = redux(vdiff(f), settings=symmetry_settings) |> blaserize |> latex |> println"
   ]
  },
  {
   "cell_type": "markdown",
   "id": "e0554443-9d11-4e9e-92ea-d02d46340f46",
   "metadata": {},
   "source": [
    "## Trace of Product"
   ]
  },
  {
   "cell_type": "code",
   "execution_count": 39,
   "id": "7434d5d2-0937-4cdc-b675-c2b8ef92b152",
   "metadata": {
    "tags": []
   },
   "outputs": [
    {
     "data": {
      "text/latex": [
       "$\\mathrm{let}\\\\ \\quad tr = X \\to \\sum_{i}X_{i, i}\\\\\\quad matmul = \\left(A, B\\right) \\to \\left(i, j\\right) \\to \\sum_{n}A_{i, n}\\cdot B_{n, j}\\\\\\quad \\mathcal{P}\\left(\\left(A, B\\right) \\to tr\\left(\\left(matmul\\left(A, B\\right)+matmul\\left(B, A\\right)\\right)\\right)\\right)\\\\ \\mathrm{end}$"
      ],
      "text/plain": [
       "let \n",
       "    tr = (X) -> \n",
       "        ∑((i), X(i, i))\n",
       "    matmul = (A, B) -> \n",
       "        (i, j) -> \n",
       "            ∑((n), (A(i, n)⋅B(n, j)))\n",
       "    𝒫((A, B) -> \n",
       "        tr((matmul(A, B)+matmul(B, A))))\n",
       "end"
      ]
     },
     "execution_count": 39,
     "metadata": {},
     "output_type": "execute_result"
    }
   ],
   "source": [
    "f, _ = @pct begin\n",
    "    tr = (X::CM) -> sum(i, X(i, i))\n",
    "    matmul = (A::CM, B::CM) -> (i::N, j::N) -> sum(n, A(i, n) * B(n, j))\n",
    "    pullback((A::CM, B::CM) -> tr(matmul(A, B) + matmul(B, A)))\n",
    "end; f"
   ]
  },
  {
   "cell_type": "code",
   "execution_count": 40,
   "id": "2152bc09",
   "metadata": {},
   "outputs": [
    {
     "data": {
      "text/latex": [
       "$\\mathcal{P}\\left(\\left(A, B\\right) \\to \\sum_{i}\\left(\\sum_{n}A_{n, i}\\cdot B_{i, n}+\\sum_{n}A_{i, n}\\cdot B_{n, i}\\right)\\right)$"
      ],
      "text/plain": [
       "𝒫((A, B) -> \n",
       "    ∑((i), (∑((n), (A(n, i)⋅B(i, n)))+∑((n), (A(i, n)⋅B(n, i))))))"
      ]
     },
     "execution_count": 40,
     "metadata": {},
     "output_type": "execute_result"
    }
   ],
   "source": [
    "eval_all(f)"
   ]
  },
  {
   "cell_type": "code",
   "execution_count": 42,
   "id": "1ff8278f-15eb-4336-87ce-8687cf74568a",
   "metadata": {
    "tags": []
   },
   "outputs": [
    {
     "data": {
      "text/latex": [
       "$\\left(A, B\\right) \\to \\left(2.0 \\cdot B^{\\dagger}, 2.0 \\cdot A^{\\dagger}\\right)$"
      ],
      "text/plain": [
       "(A, B) -> \n",
       "    2.0⋅B⁺, 2.0⋅A⁺"
      ]
     },
     "execution_count": 42,
     "metadata": {},
     "output_type": "execute_result"
    }
   ],
   "source": [
    "df = redux(vdiff(eval_all(f)); settings=symmetry_settings)  |> blaserize"
   ]
  },
  {
   "cell_type": "code",
   "execution_count": 43,
   "id": "fab83a0e",
   "metadata": {},
   "outputs": [
    {
     "data": {
      "text/plain": [
       ":((A, B)->begin\n",
       "          \u001b[90m#= /Users/likangbo/kaer_morhen/projects/QLD/PCT/src/codegen.jl:58 =#\u001b[39m\n",
       "          \u001b[90m#= /Users/likangbo/kaer_morhen/projects/QLD/PCT/src/codegen.jl:60 =#\u001b[39m\n",
       "          [Expr[:(2.0 .* transpose(conj(B))), :(2.0 .* transpose(conj(A)))]...]\n",
       "      end)"
      ]
     },
     "execution_count": 43,
     "metadata": {},
     "output_type": "execute_result"
    }
   ],
   "source": [
    "codegen(df)"
   ]
  },
  {
   "cell_type": "markdown",
   "id": "4924b3d0-edba-44c5-b4e8-05308fc0c9e2",
   "metadata": {},
   "source": [
    "## Conjugate Gradient"
   ]
  },
  {
   "cell_type": "code",
   "execution_count": 100,
   "id": "f7acc1d0-666e-413e-bfb8-e21843334035",
   "metadata": {
    "tags": []
   },
   "outputs": [
    {
     "data": {
      "text/latex": [
       "$\\left(A, r, p, b, x\\right) \\to \\mathrm{let}\\\\ \\quad E = x \\to \\left(x^{T}\\cdot b+0.5\\cdot x^{T}\\cdot A\\cdot x\\right)\\\\\\quad \\mathcal{P}\\left(\\left(α, β\\right) \\to E\\left(i \\to \\left(x_{i}+\\left(r_{i}+p_{i}\\cdot β\\right)\\cdot α\\right)\\right)\\right)\\\\ \\mathrm{end}$"
      ],
      "text/plain": [
       "(A, r, p, b, x) -> \n",
       "    let \n",
       "        E = (x) -> \n",
       "            (xᵀ⋅b+0.5⋅xᵀ⋅A⋅x)\n",
       "        𝒫((α, β) -> \n",
       "            E((i) -> \n",
       "                (x(i)+(r(i)+p(i)⋅β)⋅α)))\n",
       "    end"
      ]
     },
     "execution_count": 100,
     "metadata": {},
     "output_type": "execute_result"
    }
   ],
   "source": [
    "f, _ = @pct (A::Sym, r::RV, p::RV, b::RV, x::RV) -> begin\n",
    "    E = (x::RV) -> sum((i, j), 0.5 * x(i) * A(i, j) * x(j)) + sum(i, x(i) * b(i))\n",
    "    pullback((α::R, β::R) -> E((i::N) -> x(i) + α * (r(i) + β * p(i))))\n",
    "end; blaserize(f)"
   ]
  },
  {
   "cell_type": "code",
   "execution_count": 101,
   "id": "c2c03494-aabf-4443-b52e-8102d9ed7ec3",
   "metadata": {
    "tags": []
   },
   "outputs": [
    {
     "data": {
      "text/latex": [
       "$\\left(A, r, p, b, x\\right) \\to \\mathrm{let}\\\\ \\quad E = x \\to \\left(x^{T}\\cdot b+0.5\\cdot x^{T}\\cdot A\\cdot x\\right)\\\\\\quad \\left(α, β\\right) \\to \\left(\\nabla \\left(E\\right)\\left(i \\to \\left(x_{i}+\\left(r_{i}+p_{i}\\cdot β\\right)\\cdot α\\right)\\right)^{T}\\cdot \\left(β \\cdot p+r\\right), α\\cdot \\nabla \\left(E\\right)\\left(i \\to \\left(x_{i}+\\left(r_{i}+p_{i}\\cdot β\\right)\\cdot α\\right)\\right)^{T}\\cdot p\\right)\\\\ \\mathrm{end}$"
      ],
      "text/plain": [
       "(A, r, p, b, x) -> \n",
       "    let \n",
       "        E = (x) -> \n",
       "            (xᵀ⋅b+0.5⋅xᵀ⋅A⋅x)\n",
       "        (α, β) -> \n",
       "            𝒫(E)((i) -> \n",
       "                (x(i)+(r(i)+p(i)⋅β)⋅α), 1)ᵀ⋅(β⋅p+r), α⋅𝒫(E)((i) -> \n",
       "                (x(i)+(r(i)+p(i)⋅β)⋅α), 1)ᵀ⋅p\n",
       "    end"
      ]
     },
     "execution_count": 101,
     "metadata": {},
     "output_type": "execute_result"
    }
   ],
   "source": [
    "df = vdiff(f) |> blaserize "
   ]
  },
  {
   "cell_type": "code",
   "execution_count": 12,
   "id": "386a1099-a035-4d75-811c-cef4726d9055",
   "metadata": {
    "tags": []
   },
   "outputs": [
    {
     "name": "stdout",
     "output_type": "stream",
     "text": [
      "\\left(A, r, p, b, x\\right) \\to \\left(α, β\\right) \\to \\left(\\left(\\left(r+β \\cdot p\\right)^{T}\\cdot b+\\left(x+α \\cdot \\left(r+β \\cdot p\\right)\\right)^{T}\\cdot A\\cdot \\left(r+β \\cdot p\\right)\\right), α\\cdot \\left(b^{T}\\cdot p+\\left(x+α \\cdot \\left(r+β \\cdot p\\right)\\right)^{T}\\cdot A\\cdot p\\right)\\right)\n"
     ]
    }
   ],
   "source": [
    "df = redux(vdiff(eval_all(f)); settings=symmetry_settings) |> blaserize |> latex |> println"
   ]
  },
  {
   "cell_type": "markdown",
   "id": "bf99e505-948f-4ded-819c-36721b79662d",
   "metadata": {},
   "source": [
    "## Lagrangian Mechanics"
   ]
  },
  {
   "cell_type": "code",
   "execution_count": 53,
   "id": "1edae315-c93e-403f-a389-3a17a1339ac3",
   "metadata": {
    "tags": []
   },
   "outputs": [],
   "source": [
    "_, ctx = @pct begin\n",
    "    @space X begin\n",
    "        type = (RF, ) -> RF\n",
    "        linear = true\n",
    "    end\n",
    "end; "
   ]
  },
  {
   "cell_type": "code",
   "execution_count": 54,
   "id": "748b151d-a0cc-474b-926c-c9b77dee82da",
   "metadata": {
    "tags": []
   },
   "outputs": [
    {
     "data": {
      "text/latex": [
       "$\\left(L, D\\right) \\to \\mathcal{P}\\left(r \\to \\sum_{t}L\\left(r\\left(t\\right), D\\left(r\\right)\\left(t\\right)\\right)\\right)$"
      ],
      "text/plain": [
       "(L, D) -> \n",
       "    𝒫((r) -> \n",
       "        ∑((t), L(r(t), D(r)(t))))"
      ]
     },
     "execution_count": 54,
     "metadata": {},
     "output_type": "execute_result"
    }
   ],
   "source": [
    "f, _ = @pct _ ctx (L::RO, D::X) -> pullback((r::RF) -> sum((t::R), L(r(t), D(r)(t)))); f"
   ]
  },
  {
   "cell_type": "code",
   "execution_count": 55,
   "id": "39b5d1c0-7010-41d5-aa28-0f3c1e5020fb",
   "metadata": {
    "tags": []
   },
   "outputs": [
    {
     "data": {
      "text/latex": [
       "$\\left(L, D\\right) \\to r \\to \\left(\\mathbb{d} \\to \\nabla \\left(\\mathbb{z}_{2} \\to L\\left(\\mathbb{z}_{2}, D\\left(r\\right)\\left(\\mathbb{d}\\right)\\right)\\right)\\left(r\\left(\\mathbb{d}\\right)\\right)+D^{\\dagger}\\left(\\mathbb{d} \\to \\nabla \\left(\\mathbb{z}_{1} \\to L\\left(r\\left(\\mathbb{d}\\right), \\mathbb{z}_{1}\\right)\\right)\\left(D\\left(r\\right)\\left(\\mathbb{d}\\right)\\right)\\right)\\right)$"
      ],
      "text/plain": [
       "(L, D) -> \n",
       "    (r) -> \n",
       "        ((_d) -> \n",
       "            𝒫((_z_2) -> \n",
       "                L(_z_2, D(r)(_d)))(r(_d), 1)+D'((_d) -> \n",
       "            𝒫((_z_1) -> \n",
       "                L(r(_d), _z_1))(D(r)(_d), 1)))"
      ]
     },
     "execution_count": 55,
     "metadata": {},
     "output_type": "execute_result"
    }
   ],
   "source": [
    "redux(vdiff(f); settings=custom_settings(:clench_sum=>true))"
   ]
  },
  {
   "cell_type": "markdown",
   "id": "54d4a70d-7c95-4020-9641-b72a66f0f20e",
   "metadata": {},
   "source": [
    "## Hartree Fock Gradient and Hessian Vector Product"
   ]
  },
  {
   "cell_type": "code",
   "execution_count": 14,
   "id": "1c91f52d-f0dd-4ca9-b685-d3f3c3fe6ace",
   "metadata": {
    "tags": []
   },
   "outputs": [],
   "source": [
    "_, ctx = @pct begin    \n",
    "    @space T begin\n",
    "        type = (I, I, I, I) -> C\n",
    "        symmetries = (((2, 1, 4, 3), :conj), ((3, 4, 1, 2), :id))\n",
    "    end\n",
    "end;"
   ]
  },
  {
   "cell_type": "code",
   "execution_count": 15,
   "id": "723e6157-9ae8-4f02-a016-7e0335267912",
   "metadata": {
    "tags": []
   },
   "outputs": [
    {
     "data": {
      "text/latex": [
       "$J \\to \\mathcal{P}\\left(C \\to \\sum_{i, j, p, q, r, s}C_{p, i}^{*}\\cdot C_{r, j}^{*}\\cdot J\\left(p, q, r, s\\right)\\cdot C_{s, j}\\cdot C_{q, i}\\right)$"
      ],
      "text/plain": [
       "(J) -> \n",
       "    𝒫((C) -> \n",
       "        ∑((i, j, p, q, r, s), (C(p, i)'⋅C(r, j)'⋅J(p, q, r, s)⋅C(s, j)⋅C(q, i))))"
      ]
     },
     "execution_count": 15,
     "metadata": {},
     "output_type": "execute_result"
    }
   ],
   "source": [
    "f, _ = @pct _ ctx (J::T) -> pullback((C::CM) -> sum((i, j, p, q, r, s),\n",
    "    C(p, i)' * C(q, i) * C(r, j)' * C(s, j) * J(p, q, r, s))); f"
   ]
  },
  {
   "cell_type": "code",
   "execution_count": 16,
   "id": "63f8d0a8-09ce-4558-8f32-1b3696940f19",
   "metadata": {
    "tags": []
   },
   "outputs": [
    {
     "data": {
      "text/latex": [
       "$J \\to C \\to \\left(\\mathbb{d}, \\mathbb{d}_{1}\\right) \\to 4.0\\cdot \\left(\\sum_{i, p, q, r}C_{q, i}^{*}\\cdot J\\left(\\mathbb{d}, r, q, p\\right)\\cdot C_{p, i}\\cdot C_{r, \\mathbb{d}_{1}}\\right)$"
      ],
      "text/plain": [
       "(J) -> \n",
       "    (C) -> \n",
       "        (_d, _d_1) -> \n",
       "            (4.0⋅∑((i, p, q, r), (C(q, i)'⋅J(_d, r, q, p)⋅C(p, i)⋅C(r, _d_1))))"
      ]
     },
     "execution_count": 16,
     "metadata": {},
     "output_type": "execute_result"
    }
   ],
   "source": [
    "df = redux(vdiff(f); settings=symmetry_settings)"
   ]
  },
  {
   "cell_type": "code",
   "execution_count": 17,
   "id": "f9d37237-fd34-4ab1-b294-7da760489e0c",
   "metadata": {
    "tags": []
   },
   "outputs": [
    {
     "data": {
      "text/latex": [
       "$\\left(C, \\mathbb{k}\\right) \\to \\left(\\mathbb{a}, \\mathbb{a}_{1}\\right) \\to \\left(\\sum_{\\mathbb{d}, i, p, q}J\\left(\\mathbb{d}, \\mathbb{a}, q, p\\right)^{*}\\cdot C_{p, i}^{*}\\cdot 4.0\\cdot \\mathbb{k}_{\\mathbb{d}, \\mathbb{a}_{1}}\\cdot C_{q, i}+\\sum_{\\mathbb{d}, \\mathbb{d}_{1}, q, r}J\\left(\\mathbb{d}, r, q, \\mathbb{a}\\right)^{*}\\cdot C_{r, \\mathbb{d}_{1}}^{*}\\cdot 4.0\\cdot \\mathbb{k}_{\\mathbb{d}, \\mathbb{d}_{1}}\\cdot C_{q, \\mathbb{a}_{1}}+\\sum_{\\mathbb{d}, \\mathbb{d}_{1}, p, r}4.0\\cdot J\\left(\\mathbb{d}, r, \\mathbb{a}, p\\right)\\cdot \\mathbb{k}_{\\mathbb{d}, \\mathbb{d}_{1}}\\cdot C_{p, \\mathbb{a}_{1}}\\cdot C_{r, \\mathbb{d}_{1}}\\right)$"
      ],
      "text/plain": [
       "(C, _k) -> \n",
       "    (_a, _a_1) -> \n",
       "        (∑((_d, i, p, q), (J(_d, _a, q, p)'⋅C(p, i)'⋅4.0⋅_k(_d, _a_1)⋅C(q, i)))+∑((_d, _d_1, q, r), (J(_d, r, q, _a)'⋅C(r, _d_1)'⋅4.0⋅_k(_d, _d_1)⋅C(q, _a_1)))+∑((_d, _d_1, p, r), (4.0⋅J(_d, r, _a, p)⋅_k(_d, _d_1)⋅C(p, _a_1)⋅C(r, _d_1))))"
      ]
     },
     "execution_count": 17,
     "metadata": {},
     "output_type": "execute_result"
    }
   ],
   "source": [
    "df |> get_body |> decompose |> pp |> simplify |> first"
   ]
  },
  {
   "cell_type": "markdown",
   "id": "b2138b6e-d9ed-46e7-8999-a0827403215e",
   "metadata": {},
   "source": [
    "## Foster Boys"
   ]
  },
  {
   "cell_type": "code",
   "execution_count": 25,
   "id": "35d317f9-4893-464d-beb8-c1b267a8e0cc",
   "metadata": {
    "tags": []
   },
   "outputs": [
    {
     "data": {
      "text/latex": [
       "$\\left(R, R2\\right) \\to \\mathcal{P}\\left(C \\to \\mathrm{let}\\\\ \\quad r = i \\to (C^{\\dagger}\\cdot R\\cdot C)_{i, i}\\\\\\quad \\left(\\mathrm{tr}(C\\cdot C^{\\dagger}\\cdot R2)-1.0\\cdot r^{\\dagger}\\cdot r\\right)\\\\ \\mathrm{end}\\right)$"
      ],
      "text/plain": [
       "(R, R2) -> \n",
       "    𝒫((C) -> \n",
       "        let \n",
       "            r = (i) -> \n",
       "                (C⁺⋅R⋅C)(i, i)\n",
       "            (tr(C⋅C⁺⋅R2)(-1.0⋅r⁺⋅r))\n",
       "        end)"
      ]
     },
     "execution_count": 25,
     "metadata": {},
     "output_type": "execute_result"
    }
   ],
   "source": [
    "f, _ = @pct (R::Her, R2::Her) -> pullback((C::CM) -> begin \n",
    "        r = (i::N) -> sum((p, q), R(p, q) * C(p, i)' * C(q, i))\n",
    "        sum(i, sum((p, q), R2(p, q) * C(p, i)' * C(q, i))) - sum(i, r(i)' * r(i))\n",
    "    end); blaserize(f)"
   ]
  },
  {
   "cell_type": "code",
   "execution_count": 27,
   "id": "5db5695f-c0b5-4c4f-ae81-8e0cda041c9c",
   "metadata": {
    "tags": []
   },
   "outputs": [
    {
     "data": {
      "text/latex": [
       "$\\left(R, R2\\right) \\to C \\to \\left(-4.0 \\cdot (\\left(\\mathbb{d}, \\mathbb{d}_{1}\\right) \\to (R\\cdot C)_{\\mathbb{d}, \\mathbb{d}_{1}}\\cdot (C^{\\dagger}\\cdot R\\cdot C)_{\\mathbb{d}_{1}, \\mathbb{d}_{1}})+2.0 \\cdot R2\\cdot C\\right)$"
      ],
      "text/plain": [
       "(R, R2) -> \n",
       "    (C) -> \n",
       "        (-4.0⋅((_d, _d_1) -> \n",
       "            ((R⋅C)(_d, _d_1)⋅(C⁺⋅R⋅C)(_d_1, _d_1)))+2.0⋅R2⋅C)"
      ]
     },
     "execution_count": 27,
     "metadata": {},
     "output_type": "execute_result"
    }
   ],
   "source": [
    "df = redux(vdiff(eval_all(f)); settings=symmetry_settings) |> blaserize"
   ]
  },
  {
   "cell_type": "markdown",
   "id": "b53f6b93-055f-45b5-bf1f-b4dec0aff424",
   "metadata": {},
   "source": [
    "## Localized Wannier Functions"
   ]
  },
  {
   "cell_type": "code",
   "execution_count": 8,
   "id": "9b81aaa2-4818-4b5e-9d88-e85872adf25c",
   "metadata": {
    "tags": []
   },
   "outputs": [],
   "source": [
    "_, ctx = @pct begin\n",
    "    @domain BZ begin\n",
    "        base = I\n",
    "        periodic = true\n",
    "    end\n",
    "    \n",
    "    @domain X begin\n",
    "        symmetric = true\n",
    "        contractable = false\n",
    "    end\n",
    "    \n",
    "    @space Mmn begin\n",
    "        type = (N, N, BZ, BZ) -> C\n",
    "        symmetries = (((2, 1, 4, 3), :conj),)\n",
    "    end\n",
    "\n",
    "    @space SV begin\n",
    "        type = (I,) -> R\n",
    "        symmetries = (((1,), :ineg),)\n",
    "    end\n",
    "    \n",
    "    @space Gauge begin\n",
    "        type = (N, N, BZ) -> C\n",
    "    end\n",
    "end;"
   ]
  },
  {
   "cell_type": "code",
   "execution_count": 9,
   "id": "48a4f93c-12a1-4bcb-a5f4-515dbc9ad429",
   "metadata": {
    "tags": []
   },
   "outputs": [
    {
     "data": {
      "text/latex": [
       "$\\left(S, w\\right) \\to \\mathcal{P}\\left(U \\to \\mathrm{let}\\\\ \\quad ρ = \\left(n, b\\right) \\to \\sum_{k, p, q}U\\left(q, n, \\left(b+k\\right)\\right)\\cdot S\\left(p, q, k, \\left(b+k\\right)\\right)\\cdot U\\left(p, n, k\\right)^{*}\\\\\\quad \\sum_{n, b}w\\left(b\\right)\\cdot ρ\\left(n, b\\right)\\cdot ρ\\left(n, b\\right)^{*}\\\\ \\mathrm{end}\\right)$"
      ],
      "text/plain": [
       "(S, w) -> \n",
       "    𝒫((U) -> \n",
       "        let \n",
       "            ρ = (n, b) -> \n",
       "                ∑((k, p, q), U(q, n, (b+k))⋅S(p, q, k, (b+k))⋅U(p, n, k)')\n",
       "            ∑((n, b), w(b)⋅ρ(n, b)⋅ρ(n, b)')\n",
       "        end)"
      ]
     },
     "execution_count": 9,
     "metadata": {},
     "output_type": "execute_result"
    }
   ],
   "source": [
    "f, _ = @pct _ ctx (S::Mmn, w::SV) -> pullback((U::Gauge) -> \n",
    "    begin\n",
    "        ρ = (n::N, b::X) -> sum((k::BZ, p, q), U(p, n, k)' * S(p, q, k, k + b) * U(q, n, k + b))\n",
    "        sum((n, b::X), w(b) * ρ(n, b)' * ρ(n, b))\n",
    "    end); f"
   ]
  },
  {
   "cell_type": "code",
   "execution_count": 11,
   "id": "df1a9d34-fceb-440a-8bad-28436f332653",
   "metadata": {
    "tags": []
   },
   "outputs": [
    {
     "name": "stdout",
     "output_type": "stream",
     "text": [
      "1 sum_dist\n",
      "∑((n, b), (∑((k, p, q), ((_d, _d_1, _d_2) -> \n",
      "    δ((b+k), _d_2, δ(n, _d_1, δ(q, _d, ∑((k, p, q), U(q, n, (b+k))⋅S(p, q, k, (b+k))⋅U(p, n, k)')⋅w(b)⋅U(p, n, k)⋅S(p, q, k, (b+k))')))+(_d, _d_1, _d_2) -> \n",
      "    ∑((_z_1), δ(k, _d_2, δ(n, _d_1, δ(p, _d, _z_1⋅S(p, q, k, (b+k))⋅δ(_z_1, U(q, n, (b+k)), ∑((k, p, q), U(p, n, k)⋅U(q, n, (b+k))'⋅S(p, q, k, (b+k))')⋅w(b))))))))+∑((_z_3, k, p, q), ((_d, _d_1, _d_2) -> \n",
      "    δ((b+k), _d_2, δ(n, _d_1, δ(q, _d, _z_3⋅w(b)⋅U(p, n, k)⋅S(p, q, k, (b+k))'⋅δ(_z_3, ∑((k, p, q), U(q, n, (b+k))⋅S(p, q, k, (b+k))⋅U(p, n, k)'), 1))))+(_d, _d_1, _d_2) -> \n",
      "    ∑((_z_2), δ(k, _d_2, δ(n, _d_1, δ(p, _d, S(p, q, k, (b+k))⋅_z_2'⋅δ(U(q, n, (b+k))', _z_2, w(b)⋅_z_3'⋅δ(∑((k, p, q), U(q, n, (b+k))⋅S(p, q, k, (b+k))⋅U(p, n, k)'), _z_3, 1))))))))))\n",
      "Add\n",
      "(∑((n, b, k, p, q), ((_d, _d_1, _d_2) -> \n",
      "    δ((b+k), _d_2, δ(n, _d_1, δ(q, _d, ∑((k, p, q), U(q, n, (b+k))⋅S(p, q, k, (b+k))⋅U(p, n, k)')⋅w(b)⋅U(p, n, k)⋅S(p, q, k, (b+k))')))+(_d, _d_1, _d_2) -> \n",
      "    ∑((_z_1), δ(k, _d_2, δ(n, _d_1, δ(p, _d, _z_1⋅S(p, q, k, (b+k))⋅δ(_z_1, U(q, n, (b+k)), ∑((k, p, q), U(p, n, k)⋅U(q, n, (b+k))'⋅S(p, q, k, (b+k))')⋅w(b))))))))+∑((n, b, _z_3, k, p, q), ((_d, _d_1, _d_2) -> \n",
      "    δ((b+k), _d_2, δ(n, _d_1, δ(q, _d, _z_3⋅w(b)⋅U(p, n, k)⋅S(p, q, k, (b+k))'⋅δ(_z_3, ∑((k, p, q), U(q, n, (b+k))⋅S(p, q, k, (b+k))⋅U(p, n, k)'), 1))))+(_d, _d_1, _d_2) -> \n",
      "    ∑((_z_2), δ(k, _d_2, δ(n, _d_1, δ(p, _d, S(p, q, k, (b+k))⋅_z_2'⋅δ(U(q, n, (b+k))', _z_2, w(b)⋅_z_3'⋅δ(∑((k, p, q), U(q, n, (b+k))⋅S(p, q, k, (b+k))⋅U(p, n, k)'), _z_3, 1)))))))))\n",
      "-->\n",
      "\n",
      "2 sum_dist\n",
      "(∑((n, b, k, p, q), ((_d, _d_1, _d_2) -> \n",
      "    δ((b+k), _d_2, δ(n, _d_1, δ(q, _d, ∑((k, p, q), U(q, n, (b+k))⋅S(p, q, k, (b+k))⋅U(p, n, k)')⋅w(b)⋅U(p, n, k)⋅S(p, q, k, (b+k))')))+(_d, _d_1, _d_2) -> \n",
      "    ∑((_z_1), δ(k, _d_2, δ(n, _d_1, δ(p, _d, _z_1⋅S(p, q, k, (b+k))⋅δ(_z_1, U(q, n, (b+k)), ∑((k, p, q), U(p, n, k)⋅U(q, n, (b+k))'⋅S(p, q, k, (b+k))')⋅w(b))))))))+∑((n, b, _z_3, k, p, q), ((_d, _d_1, _d_2) -> \n",
      "    δ((b+k), _d_2, δ(n, _d_1, δ(q, _d, _z_3⋅w(b)⋅U(p, n, k)⋅S(p, q, k, (b+k))'⋅δ(_z_3, ∑((k, p, q), U(q, n, (b+k))⋅S(p, q, k, (b+k))⋅U(p, n, k)'), 1))))+(_d, _d_1, _d_2) -> \n",
      "    ∑((_z_2), δ(k, _d_2, δ(n, _d_1, δ(p, _d, S(p, q, k, (b+k))⋅_z_2'⋅δ(U(q, n, (b+k))', _z_2, w(b)⋅_z_3'⋅δ(∑((k, p, q), U(q, n, (b+k))⋅S(p, q, k, (b+k))⋅U(p, n, k)'), _z_3, 1)))))))))\n",
      "Add\n",
      "(∑((n, b, _z_3, k, p, q), ((_d, _d_1, _d_2) -> \n",
      "    δ((b+k), _d_2, δ(n, _d_1, δ(q, _d, _z_3⋅w(b)⋅U(p, n, k)⋅S(p, q, k, (b+k))'⋅δ(_z_3, ∑((k, p, q), U(q, n, (b+k))⋅S(p, q, k, (b+k))⋅U(p, n, k)'), 1))))+(_d, _d_1, _d_2) -> \n",
      "    ∑((_z_2), δ(k, _d_2, δ(n, _d_1, δ(p, _d, S(p, q, k, (b+k))⋅_z_2'⋅δ(U(q, n, (b+k))', _z_2, w(b)⋅_z_3'⋅δ(∑((k, p, q), U(q, n, (b+k))⋅S(p, q, k, (b+k))⋅U(p, n, k)'), _z_3, 1))))))))+(_d, _d_1, _d_2) -> \n",
      "    ∑((n, b, k, p, q), δ((b+k), _d_2, δ(n, _d_1, δ(q, _d, ∑((k, p, q), U(q, n, (b+k))⋅S(p, q, k, (b+k))⋅U(p, n, k)')⋅w(b)⋅U(p, n, k)⋅S(p, q, k, (b+k))'))))+(_d, _d_1, _d_2) -> \n",
      "    ∑((n, b, k, p, q, _z_1), δ(k, _d_2, δ(n, _d_1, δ(p, _d, _z_1⋅S(p, q, k, (b+k))⋅δ(_z_1, U(q, n, (b+k)), ∑((k, p, q), U(p, n, k)⋅U(q, n, (b+k))'⋅S(p, q, k, (b+k))')⋅w(b)))))))\n",
      "-->\n",
      "\n",
      "3 combine map\n",
      "(∑((n, b, _z_3, k, p, q), ((_d, _d_1, _d_2) -> \n",
      "    δ((b+k), _d_2, δ(n, _d_1, δ(q, _d, _z_3⋅w(b)⋅U(p, n, k)⋅S(p, q, k, (b+k))'⋅δ(_z_3, ∑((k, p, q), U(q, n, (b+k))⋅S(p, q, k, (b+k))⋅U(p, n, k)'), 1))))+(_d, _d_1, _d_2) -> \n",
      "    ∑((_z_2), δ(k, _d_2, δ(n, _d_1, δ(p, _d, S(p, q, k, (b+k))⋅_z_2'⋅δ(U(q, n, (b+k))', _z_2, w(b)⋅_z_3'⋅δ(∑((k, p, q), U(q, n, (b+k))⋅S(p, q, k, (b+k))⋅U(p, n, k)'), _z_3, 1))))))))+(_d, _d_1, _d_2) -> \n",
      "    ∑((n, b, k, p, q), δ((b+k), _d_2, δ(n, _d_1, δ(q, _d, ∑((k, p, q), U(q, n, (b+k))⋅S(p, q, k, (b+k))⋅U(p, n, k)')⋅w(b)⋅U(p, n, k)⋅S(p, q, k, (b+k))'))))+(_d, _d_1, _d_2) -> \n",
      "    ∑((n, b, k, p, q, _z_1), δ(k, _d_2, δ(n, _d_1, δ(p, _d, _z_1⋅S(p, q, k, (b+k))⋅δ(_z_1, U(q, n, (b+k)), ∑((k, p, q), U(p, n, k)⋅U(q, n, (b+k))'⋅S(p, q, k, (b+k))')⋅w(b)))))))\n",
      "Add\n",
      "(∑((n, b, _z_3, k, p, q), ((_d, _d_1, _d_2) -> \n",
      "    δ((b+k), _d_2, δ(n, _d_1, δ(q, _d, _z_3⋅w(b)⋅U(p, n, k)⋅S(p, q, k, (b+k))'⋅δ(_z_3, ∑((k, p, q), U(q, n, (b+k))⋅S(p, q, k, (b+k))⋅U(p, n, k)'), 1))))+(_d, _d_1, _d_2) -> \n",
      "    ∑((_z_2), δ(k, _d_2, δ(n, _d_1, δ(p, _d, S(p, q, k, (b+k))⋅_z_2'⋅δ(U(q, n, (b+k))', _z_2, w(b)⋅_z_3'⋅δ(∑((k, p, q), U(q, n, (b+k))⋅S(p, q, k, (b+k))⋅U(p, n, k)'), _z_3, 1))))))))+(_d, _d_1, _d_2) -> \n",
      "    (∑((n, b, k, p, q), δ((b+k), _d_2, δ(n, _d_1, δ(q, _d, ∑((k, p, q), U(q, n, (b+k))⋅S(p, q, k, (b+k))⋅U(p, n, k)')⋅w(b)⋅U(p, n, k)⋅S(p, q, k, (b+k))'))))+∑((n, b, k, p, q, _z_1), δ(k, _d_2, δ(n, _d_1, δ(p, _d, _z_1⋅S(p, q, k, (b+k))⋅δ(_z_1, U(q, n, (b+k)), ∑((k, p, q), U(p, n, k)⋅U(q, n, (b+k))'⋅S(p, q, k, (b+k))')⋅w(b))))))))\n",
      "-->\n",
      "\n",
      "4 sum_dist\n",
      "(∑((n, b, _z_3, k, p, q), ((_d, _d_1, _d_2) -> \n",
      "    δ((b+k), _d_2, δ(n, _d_1, δ(q, _d, _z_3⋅w(b)⋅U(p, n, k)⋅S(p, q, k, (b+k))'⋅δ(_z_3, ∑((k, p, q), U(q, n, (b+k))⋅S(p, q, k, (b+k))⋅U(p, n, k)'), 1))))+(_d, _d_1, _d_2) -> \n",
      "    ∑((_z_2), δ(k, _d_2, δ(n, _d_1, δ(p, _d, S(p, q, k, (b+k))⋅_z_2'⋅δ(U(q, n, (b+k))', _z_2, w(b)⋅_z_3'⋅δ(∑((k, p, q), U(q, n, (b+k))⋅S(p, q, k, (b+k))⋅U(p, n, k)'), _z_3, 1))))))))+(_d, _d_1, _d_2) -> \n",
      "    (∑((n, b, k, p, q), δ((b+k), _d_2, δ(n, _d_1, δ(q, _d, ∑((k, p, q), U(q, n, (b+k))⋅S(p, q, k, (b+k))⋅U(p, n, k)')⋅w(b)⋅U(p, n, k)⋅S(p, q, k, (b+k))'))))+∑((n, b, k, p, q, _z_1), δ(k, _d_2, δ(n, _d_1, δ(p, _d, _z_1⋅S(p, q, k, (b+k))⋅δ(_z_1, U(q, n, (b+k)), ∑((k, p, q), U(p, n, k)⋅U(q, n, (b+k))'⋅S(p, q, k, (b+k))')⋅w(b))))))))\n",
      "Add\n",
      "((_d, _d_1, _d_2) -> \n",
      "    ∑((n, b, _z_3, k, p, q), δ((b+k), _d_2, δ(n, _d_1, δ(q, _d, _z_3⋅w(b)⋅U(p, n, k)⋅S(p, q, k, (b+k))'⋅δ(_z_3, ∑((k, p, q), U(q, n, (b+k))⋅S(p, q, k, (b+k))⋅U(p, n, k)'), 1)))))+(_d, _d_1, _d_2) -> \n",
      "    (∑((n, b, k, p, q), δ((b+k), _d_2, δ(n, _d_1, δ(q, _d, ∑((k, p, q), U(q, n, (b+k))⋅S(p, q, k, (b+k))⋅U(p, n, k)')⋅w(b)⋅U(p, n, k)⋅S(p, q, k, (b+k))'))))+∑((n, b, k, p, q, _z_1), δ(k, _d_2, δ(n, _d_1, δ(p, _d, _z_1⋅S(p, q, k, (b+k))⋅δ(_z_1, U(q, n, (b+k)), ∑((k, p, q), U(p, n, k)⋅U(q, n, (b+k))'⋅S(p, q, k, (b+k))')⋅w(b)))))))+(_d, _d_1, _d_2) -> \n",
      "    ∑((n, b, _z_3, k, p, q, _z_2), δ(k, _d_2, δ(n, _d_1, δ(p, _d, S(p, q, k, (b+k))⋅_z_2'⋅δ(U(q, n, (b+k))', _z_2, w(b)⋅_z_3'⋅δ(∑((k, p, q), U(q, n, (b+k))⋅S(p, q, k, (b+k))⋅U(p, n, k)'), _z_3, 1)))))))\n",
      "-->\n",
      "\n",
      "5 combine map\n",
      "((_d, _d_1, _d_2) -> \n",
      "    ∑((n, b, _z_3, k, p, q), δ((b+k), _d_2, δ(n, _d_1, δ(q, _d, _z_3⋅w(b)⋅U(p, n, k)⋅S(p, q, k, (b+k))'⋅δ(_z_3, ∑((k, p, q), U(q, n, (b+k))⋅S(p, q, k, (b+k))⋅U(p, n, k)'), 1)))))+(_d, _d_1, _d_2) -> \n",
      "    (∑((n, b, k, p, q), δ((b+k), _d_2, δ(n, _d_1, δ(q, _d, ∑((k, p, q), U(q, n, (b+k))⋅S(p, q, k, (b+k))⋅U(p, n, k)')⋅w(b)⋅U(p, n, k)⋅S(p, q, k, (b+k))'))))+∑((n, b, k, p, q, _z_1), δ(k, _d_2, δ(n, _d_1, δ(p, _d, _z_1⋅S(p, q, k, (b+k))⋅δ(_z_1, U(q, n, (b+k)), ∑((k, p, q), U(p, n, k)⋅U(q, n, (b+k))'⋅S(p, q, k, (b+k))')⋅w(b)))))))+(_d, _d_1, _d_2) -> \n",
      "    ∑((n, b, _z_3, k, p, q, _z_2), δ(k, _d_2, δ(n, _d_1, δ(p, _d, S(p, q, k, (b+k))⋅_z_2'⋅δ(U(q, n, (b+k))', _z_2, w(b)⋅_z_3'⋅δ(∑((k, p, q), U(q, n, (b+k))⋅S(p, q, k, (b+k))⋅U(p, n, k)'), _z_3, 1)))))))\n",
      "Map\n",
      "(_d, _d_1, _d_2) -> \n",
      "    (∑((n, b, k, p, q), δ((b+k), _d_2, δ(n, _d_1, δ(q, _d, ∑((k, p, q), U(q, n, (b+k))⋅S(p, q, k, (b+k))⋅U(p, n, k)')⋅w(b)⋅U(p, n, k)⋅S(p, q, k, (b+k))'))))+∑((n, b, _z_3, k, p, q), δ((b+k), _d_2, δ(n, _d_1, δ(q, _d, _z_3⋅w(b)⋅U(p, n, k)⋅S(p, q, k, (b+k))'⋅δ(_z_3, ∑((k, p, q), U(q, n, (b+k))⋅S(p, q, k, (b+k))⋅U(p, n, k)'), 1)))))+∑((n, b, k, p, q, _z_1), δ(k, _d_2, δ(n, _d_1, δ(p, _d, _z_1⋅S(p, q, k, (b+k))⋅δ(_z_1, U(q, n, (b+k)), ∑((k, p, q), U(p, n, k)⋅U(q, n, (b+k))'⋅S(p, q, k, (b+k))')⋅w(b))))))+∑((n, b, _z_3, k, p, q, _z_2), δ(k, _d_2, δ(n, _d_1, δ(p, _d, S(p, q, k, (b+k))⋅_z_2'⋅δ(U(q, n, (b+k))', _z_2, w(b)⋅_z_3'⋅δ(∑((k, p, q), U(q, n, (b+k))⋅S(p, q, k, (b+k))⋅U(p, n, k)'), _z_3, 1)))))))\n",
      "-->\n",
      "\n",
      "6 contract_delta\n",
      "(_d, _d_1, _d_2) -> \n",
      "    (∑((n, b, k, p, q), δ((b+k), _d_2, δ(n, _d_1, δ(q, _d, ∑((k, p, q), U(q, n, (b+k))⋅S(p, q, k, (b+k))⋅U(p, n, k)')⋅w(b)⋅U(p, n, k)⋅S(p, q, k, (b+k))'))))+∑((n, b, _z_3, k, p, q), δ((b+k), _d_2, δ(n, _d_1, δ(q, _d, _z_3⋅w(b)⋅U(p, n, k)⋅S(p, q, k, (b+k))'⋅δ(_z_3, ∑((k, p, q), U(q, n, (b+k))⋅S(p, q, k, (b+k))⋅U(p, n, k)'), 1)))))+∑((n, b, k, p, q, _z_1), δ(k, _d_2, δ(n, _d_1, δ(p, _d, _z_1⋅S(p, q, k, (b+k))⋅δ(_z_1, U(q, n, (b+k)), ∑((k, p, q), U(p, n, k)⋅U(q, n, (b+k))'⋅S(p, q, k, (b+k))')⋅w(b))))))+∑((n, b, _z_3, k, p, q, _z_2), δ(k, _d_2, δ(n, _d_1, δ(p, _d, S(p, q, k, (b+k))⋅_z_2'⋅δ(U(q, n, (b+k))', _z_2, w(b)⋅_z_3'⋅δ(∑((k, p, q), U(q, n, (b+k))⋅S(p, q, k, (b+k))⋅U(p, n, k)'), _z_3, 1)))))))\n",
      "Map\n",
      "(_d, _d_1, _d_2) -> \n",
      "    (∑((n, b, p, q), δ(n, _d_1, δ(q, _d, ∑((k, p, q), U(q, n, (b+k))⋅S(p, q, k, (b+k))⋅U(p, n, k)')⋅w(b)⋅U(p, n, (-1.0⋅b+_d_2))⋅S(p, q, (-1.0⋅b+_d_2), _d_2)')))+∑((n, b, _z_3, k, p, q), δ((b+k), _d_2, δ(n, _d_1, δ(q, _d, _z_3⋅w(b)⋅U(p, n, k)⋅S(p, q, k, (b+k))'⋅δ(_z_3, ∑((k, p, q), U(q, n, (b+k))⋅S(p, q, k, (b+k))⋅U(p, n, k)'), 1)))))+∑((n, b, k, p, q, _z_1), δ(k, _d_2, δ(n, _d_1, δ(p, _d, _z_1⋅S(p, q, k, (b+k))⋅δ(_z_1, U(q, n, (b+k)), ∑((k, p, q), U(p, n, k)⋅U(q, n, (b+k))'⋅S(p, q, k, (b+k))')⋅w(b))))))+∑((n, b, _z_3, k, p, q, _z_2), δ(k, _d_2, δ(n, _d_1, δ(p, _d, S(p, q, k, (b+k))⋅_z_2'⋅δ(U(q, n, (b+k))', _z_2, w(b)⋅_z_3'⋅δ(∑((k, p, q), U(q, n, (b+k))⋅S(p, q, k, (b+k))⋅U(p, n, k)'), _z_3, 1)))))))\n",
      "-->\n",
      "\n"
     ]
    },
    {
     "name": "stdout",
     "output_type": "stream",
     "text": [
      "7 contract_delta\n",
      "(_d, _d_1, _d_2) -> \n",
      "    (∑((n, b, p, q), δ(n, _d_1, δ(q, _d, ∑((k, p, q), U(q, n, (b+k))⋅S(p, q, k, (b+k))⋅U(p, n, k)')⋅w(b)⋅U(p, n, (-1.0⋅b+_d_2))⋅S(p, q, (-1.0⋅b+_d_2), _d_2)')))+∑((n, b, _z_3, k, p, q), δ((b+k), _d_2, δ(n, _d_1, δ(q, _d, _z_3⋅w(b)⋅U(p, n, k)⋅S(p, q, k, (b+k))'⋅δ(_z_3, ∑((k, p, q), U(q, n, (b+k))⋅S(p, q, k, (b+k))⋅U(p, n, k)'), 1)))))+∑((n, b, k, p, q, _z_1), δ(k, _d_2, δ(n, _d_1, δ(p, _d, _z_1⋅S(p, q, k, (b+k))⋅δ(_z_1, U(q, n, (b+k)), ∑((k, p, q), U(p, n, k)⋅U(q, n, (b+k))'⋅S(p, q, k, (b+k))')⋅w(b))))))+∑((n, b, _z_3, k, p, q, _z_2), δ(k, _d_2, δ(n, _d_1, δ(p, _d, S(p, q, k, (b+k))⋅_z_2'⋅δ(U(q, n, (b+k))', _z_2, w(b)⋅_z_3'⋅δ(∑((k, p, q), U(q, n, (b+k))⋅S(p, q, k, (b+k))⋅U(p, n, k)'), _z_3, 1)))))))\n",
      "Map\n",
      "(_d, _d_1, _d_2) -> \n",
      "    (∑((b, p, q), δ(q, _d, ∑((k, p, q), U(q, _d_1, (b+k))⋅S(p, q, k, (b+k))⋅U(p, _d_1, k)')⋅w(b)⋅U(p, _d_1, (-1.0⋅b+_d_2))⋅S(p, q, (-1.0⋅b+_d_2), _d_2)'))+∑((n, b, _z_3, k, p, q), δ((b+k), _d_2, δ(n, _d_1, δ(q, _d, _z_3⋅w(b)⋅U(p, n, k)⋅S(p, q, k, (b+k))'⋅δ(_z_3, ∑((k, p, q), U(q, n, (b+k))⋅S(p, q, k, (b+k))⋅U(p, n, k)'), 1)))))+∑((n, b, k, p, q, _z_1), δ(k, _d_2, δ(n, _d_1, δ(p, _d, _z_1⋅S(p, q, k, (b+k))⋅δ(_z_1, U(q, n, (b+k)), ∑((k, p, q), U(p, n, k)⋅U(q, n, (b+k))'⋅S(p, q, k, (b+k))')⋅w(b))))))+∑((n, b, _z_3, k, p, q, _z_2), δ(k, _d_2, δ(n, _d_1, δ(p, _d, S(p, q, k, (b+k))⋅_z_2'⋅δ(U(q, n, (b+k))', _z_2, w(b)⋅_z_3'⋅δ(∑((k, p, q), U(q, n, (b+k))⋅S(p, q, k, (b+k))⋅U(p, n, k)'), _z_3, 1)))))))\n",
      "-->\n",
      "\n",
      "8 contract_delta\n",
      "(_d, _d_1, _d_2) -> \n",
      "    (∑((b, p, q), δ(q, _d, ∑((k, p, q), U(q, _d_1, (b+k))⋅S(p, q, k, (b+k))⋅U(p, _d_1, k)')⋅w(b)⋅U(p, _d_1, (-1.0⋅b+_d_2))⋅S(p, q, (-1.0⋅b+_d_2), _d_2)'))+∑((n, b, _z_3, k, p, q), δ((b+k), _d_2, δ(n, _d_1, δ(q, _d, _z_3⋅w(b)⋅U(p, n, k)⋅S(p, q, k, (b+k))'⋅δ(_z_3, ∑((k, p, q), U(q, n, (b+k))⋅S(p, q, k, (b+k))⋅U(p, n, k)'), 1)))))+∑((n, b, k, p, q, _z_1), δ(k, _d_2, δ(n, _d_1, δ(p, _d, _z_1⋅S(p, q, k, (b+k))⋅δ(_z_1, U(q, n, (b+k)), ∑((k, p, q), U(p, n, k)⋅U(q, n, (b+k))'⋅S(p, q, k, (b+k))')⋅w(b))))))+∑((n, b, _z_3, k, p, q, _z_2), δ(k, _d_2, δ(n, _d_1, δ(p, _d, S(p, q, k, (b+k))⋅_z_2'⋅δ(U(q, n, (b+k))', _z_2, w(b)⋅_z_3'⋅δ(∑((k, p, q), U(q, n, (b+k))⋅S(p, q, k, (b+k))⋅U(p, n, k)'), _z_3, 1)))))))\n",
      "Map\n",
      "(_d, _d_1, _d_2) -> \n",
      "    (∑((b, p), ∑((k, p, q), U(q, _d_1, (b+k))⋅S(p, q, k, (b+k))⋅U(p, _d_1, k)')⋅w(b)⋅U(p, _d_1, (-1.0⋅b+_d_2))⋅S(p, _d, (-1.0⋅b+_d_2), _d_2)')+∑((n, b, _z_3, k, p, q), δ((b+k), _d_2, δ(n, _d_1, δ(q, _d, _z_3⋅w(b)⋅U(p, n, k)⋅S(p, q, k, (b+k))'⋅δ(_z_3, ∑((k, p, q), U(q, n, (b+k))⋅S(p, q, k, (b+k))⋅U(p, n, k)'), 1)))))+∑((n, b, k, p, q, _z_1), δ(k, _d_2, δ(n, _d_1, δ(p, _d, _z_1⋅S(p, q, k, (b+k))⋅δ(_z_1, U(q, n, (b+k)), ∑((k, p, q), U(p, n, k)⋅U(q, n, (b+k))'⋅S(p, q, k, (b+k))')⋅w(b))))))+∑((n, b, _z_3, k, p, q, _z_2), δ(k, _d_2, δ(n, _d_1, δ(p, _d, S(p, q, k, (b+k))⋅_z_2'⋅δ(U(q, n, (b+k))', _z_2, w(b)⋅_z_3'⋅δ(∑((k, p, q), U(q, n, (b+k))⋅S(p, q, k, (b+k))⋅U(p, n, k)'), _z_3, 1)))))))\n",
      "-->\n",
      "\n",
      "9 sum_in\n",
      "(_d, _d_1, _d_2) -> \n",
      "    (∑((b, p), ∑((k, p, q), U(q, _d_1, (b+k))⋅S(p, q, k, (b+k))⋅U(p, _d_1, k)')⋅w(b)⋅U(p, _d_1, (-1.0⋅b+_d_2))⋅S(p, _d, (-1.0⋅b+_d_2), _d_2)')+∑((n, b, _z_3, k, p, q), δ((b+k), _d_2, δ(n, _d_1, δ(q, _d, _z_3⋅w(b)⋅U(p, n, k)⋅S(p, q, k, (b+k))'⋅δ(_z_3, ∑((k, p, q), U(q, n, (b+k))⋅S(p, q, k, (b+k))⋅U(p, n, k)'), 1)))))+∑((n, b, k, p, q, _z_1), δ(k, _d_2, δ(n, _d_1, δ(p, _d, _z_1⋅S(p, q, k, (b+k))⋅δ(_z_1, U(q, n, (b+k)), ∑((k, p, q), U(p, n, k)⋅U(q, n, (b+k))'⋅S(p, q, k, (b+k))')⋅w(b))))))+∑((n, b, _z_3, k, p, q, _z_2), δ(k, _d_2, δ(n, _d_1, δ(p, _d, S(p, q, k, (b+k))⋅_z_2'⋅δ(U(q, n, (b+k))', _z_2, w(b)⋅_z_3'⋅δ(∑((k, p, q), U(q, n, (b+k))⋅S(p, q, k, (b+k))⋅U(p, n, k)'), _z_3, 1)))))))\n",
      "Map\n",
      "(_d, _d_1, _d_2) -> \n",
      "    (∑((b, p, k, _i, q), w(b)⋅U(q, _d_1, (b+k))⋅U(p, _d_1, (-1.0⋅b+_d_2))⋅S(_i, q, k, (b+k))⋅U(_i, _d_1, k)'⋅S(p, _d, (-1.0⋅b+_d_2), _d_2)')+∑((n, b, _z_3, k, p, q), δ((b+k), _d_2, δ(n, _d_1, δ(q, _d, _z_3⋅w(b)⋅U(p, n, k)⋅S(p, q, k, (b+k))'⋅δ(_z_3, ∑((k, p, q), U(q, n, (b+k))⋅S(p, q, k, (b+k))⋅U(p, n, k)'), 1)))))+∑((n, b, k, p, q, _z_1), δ(k, _d_2, δ(n, _d_1, δ(p, _d, _z_1⋅S(p, q, k, (b+k))⋅δ(_z_1, U(q, n, (b+k)), ∑((k, p, q), U(p, n, k)⋅U(q, n, (b+k))'⋅S(p, q, k, (b+k))')⋅w(b))))))+∑((n, b, _z_3, k, p, q, _z_2), δ(k, _d_2, δ(n, _d_1, δ(p, _d, S(p, q, k, (b+k))⋅_z_2'⋅δ(U(q, n, (b+k))', _z_2, w(b)⋅_z_3'⋅δ(∑((k, p, q), U(q, n, (b+k))⋅S(p, q, k, (b+k))⋅U(p, n, k)'), _z_3, 1)))))))\n",
      "-->\n",
      "\n",
      "10 contract_delta\n",
      "(_d, _d_1, _d_2) -> \n",
      "    (∑((b, p, k, _i, q), w(b)⋅U(q, _d_1, (b+k))⋅U(p, _d_1, (-1.0⋅b+_d_2))⋅S(_i, q, k, (b+k))⋅U(_i, _d_1, k)'⋅S(p, _d, (-1.0⋅b+_d_2), _d_2)')+∑((n, b, _z_3, k, p, q), δ((b+k), _d_2, δ(n, _d_1, δ(q, _d, _z_3⋅w(b)⋅U(p, n, k)⋅S(p, q, k, (b+k))'⋅δ(_z_3, ∑((k, p, q), U(q, n, (b+k))⋅S(p, q, k, (b+k))⋅U(p, n, k)'), 1)))))+∑((n, b, k, p, q, _z_1), δ(k, _d_2, δ(n, _d_1, δ(p, _d, _z_1⋅S(p, q, k, (b+k))⋅δ(_z_1, U(q, n, (b+k)), ∑((k, p, q), U(p, n, k)⋅U(q, n, (b+k))'⋅S(p, q, k, (b+k))')⋅w(b))))))+∑((n, b, _z_3, k, p, q, _z_2), δ(k, _d_2, δ(n, _d_1, δ(p, _d, S(p, q, k, (b+k))⋅_z_2'⋅δ(U(q, n, (b+k))', _z_2, w(b)⋅_z_3'⋅δ(∑((k, p, q), U(q, n, (b+k))⋅S(p, q, k, (b+k))⋅U(p, n, k)'), _z_3, 1)))))))\n",
      "Map\n",
      "(_d, _d_1, _d_2) -> \n",
      "    (∑((_z_3, n, b, p, q), δ(n, _d_1, δ(q, _d, _z_3⋅w(b)⋅U(p, n, (-1.0⋅b+_d_2))⋅S(p, q, (-1.0⋅b+_d_2), _d_2)'⋅δ(_z_3, ∑((k, p, q), U(q, n, (b+k))⋅S(p, q, k, (b+k))⋅U(p, n, k)'), 1))))+∑((b, p, k, _i, q), w(b)⋅U(q, _d_1, (b+k))⋅U(p, _d_1, (-1.0⋅b+_d_2))⋅S(_i, q, k, (b+k))⋅U(_i, _d_1, k)'⋅S(p, _d, (-1.0⋅b+_d_2), _d_2)')+∑((n, b, k, p, q, _z_1), δ(k, _d_2, δ(n, _d_1, δ(p, _d, _z_1⋅S(p, q, k, (b+k))⋅δ(_z_1, U(q, n, (b+k)), ∑((k, p, q), U(p, n, k)⋅U(q, n, (b+k))'⋅S(p, q, k, (b+k))')⋅w(b))))))+∑((n, b, _z_3, k, p, q, _z_2), δ(k, _d_2, δ(n, _d_1, δ(p, _d, S(p, q, k, (b+k))⋅_z_2'⋅δ(U(q, n, (b+k))', _z_2, w(b)⋅_z_3'⋅δ(∑((k, p, q), U(q, n, (b+k))⋅S(p, q, k, (b+k))⋅U(p, n, k)'), _z_3, 1)))))))\n",
      "-->\n",
      "\n",
      "11 contract_delta\n",
      "(_d, _d_1, _d_2) -> \n",
      "    (∑((_z_3, n, b, p, q), δ(n, _d_1, δ(q, _d, _z_3⋅w(b)⋅U(p, n, (-1.0⋅b+_d_2))⋅S(p, q, (-1.0⋅b+_d_2), _d_2)'⋅δ(_z_3, ∑((k, p, q), U(q, n, (b+k))⋅S(p, q, k, (b+k))⋅U(p, n, k)'), 1))))+∑((b, p, k, _i, q), w(b)⋅U(q, _d_1, (b+k))⋅U(p, _d_1, (-1.0⋅b+_d_2))⋅S(_i, q, k, (b+k))⋅U(_i, _d_1, k)'⋅S(p, _d, (-1.0⋅b+_d_2), _d_2)')+∑((n, b, k, p, q, _z_1), δ(k, _d_2, δ(n, _d_1, δ(p, _d, _z_1⋅S(p, q, k, (b+k))⋅δ(_z_1, U(q, n, (b+k)), ∑((k, p, q), U(p, n, k)⋅U(q, n, (b+k))'⋅S(p, q, k, (b+k))')⋅w(b))))))+∑((n, b, _z_3, k, p, q, _z_2), δ(k, _d_2, δ(n, _d_1, δ(p, _d, S(p, q, k, (b+k))⋅_z_2'⋅δ(U(q, n, (b+k))', _z_2, w(b)⋅_z_3'⋅δ(∑((k, p, q), U(q, n, (b+k))⋅S(p, q, k, (b+k))⋅U(p, n, k)'), _z_3, 1)))))))\n",
      "Map\n",
      "(_d, _d_1, _d_2) -> \n",
      "    (∑((_z_3, b, p, q), δ(q, _d, _z_3⋅w(b)⋅U(p, _d_1, (-1.0⋅b+_d_2))⋅S(p, q, (-1.0⋅b+_d_2), _d_2)'⋅δ(_z_3, ∑((k, p, q), U(q, _d_1, (b+k))⋅S(p, q, k, (b+k))⋅U(p, _d_1, k)'), 1)))+∑((b, p, k, _i, q), w(b)⋅U(q, _d_1, (b+k))⋅U(p, _d_1, (-1.0⋅b+_d_2))⋅S(_i, q, k, (b+k))⋅U(_i, _d_1, k)'⋅S(p, _d, (-1.0⋅b+_d_2), _d_2)')+∑((n, b, k, p, q, _z_1), δ(k, _d_2, δ(n, _d_1, δ(p, _d, _z_1⋅S(p, q, k, (b+k))⋅δ(_z_1, U(q, n, (b+k)), ∑((k, p, q), U(p, n, k)⋅U(q, n, (b+k))'⋅S(p, q, k, (b+k))')⋅w(b))))))+∑((n, b, _z_3, k, p, q, _z_2), δ(k, _d_2, δ(n, _d_1, δ(p, _d, S(p, q, k, (b+k))⋅_z_2'⋅δ(U(q, n, (b+k))', _z_2, w(b)⋅_z_3'⋅δ(∑((k, p, q), U(q, n, (b+k))⋅S(p, q, k, (b+k))⋅U(p, n, k)'), _z_3, 1)))))))\n",
      "-->\n",
      "\n",
      "12 contract_delta\n",
      "(_d, _d_1, _d_2) -> \n",
      "    (∑((_z_3, b, p, q), δ(q, _d, _z_3⋅w(b)⋅U(p, _d_1, (-1.0⋅b+_d_2))⋅S(p, q, (-1.0⋅b+_d_2), _d_2)'⋅δ(_z_3, ∑((k, p, q), U(q, _d_1, (b+k))⋅S(p, q, k, (b+k))⋅U(p, _d_1, k)'), 1)))+∑((b, p, k, _i, q), w(b)⋅U(q, _d_1, (b+k))⋅U(p, _d_1, (-1.0⋅b+_d_2))⋅S(_i, q, k, (b+k))⋅U(_i, _d_1, k)'⋅S(p, _d, (-1.0⋅b+_d_2), _d_2)')+∑((n, b, k, p, q, _z_1), δ(k, _d_2, δ(n, _d_1, δ(p, _d, _z_1⋅S(p, q, k, (b+k))⋅δ(_z_1, U(q, n, (b+k)), ∑((k, p, q), U(p, n, k)⋅U(q, n, (b+k))'⋅S(p, q, k, (b+k))')⋅w(b))))))+∑((n, b, _z_3, k, p, q, _z_2), δ(k, _d_2, δ(n, _d_1, δ(p, _d, S(p, q, k, (b+k))⋅_z_2'⋅δ(U(q, n, (b+k))', _z_2, w(b)⋅_z_3'⋅δ(∑((k, p, q), U(q, n, (b+k))⋅S(p, q, k, (b+k))⋅U(p, n, k)'), _z_3, 1)))))))\n",
      "Map\n",
      "(_d, _d_1, _d_2) -> \n",
      "    (∑((_z_3, b, p), _z_3⋅w(b)⋅U(p, _d_1, (-1.0⋅b+_d_2))⋅S(p, _d, (-1.0⋅b+_d_2), _d_2)'⋅δ(_z_3, ∑((k, p, q), U(q, _d_1, (b+k))⋅S(p, q, k, (b+k))⋅U(p, _d_1, k)'), 1))+∑((b, p, k, _i, q), w(b)⋅U(q, _d_1, (b+k))⋅U(p, _d_1, (-1.0⋅b+_d_2))⋅S(_i, q, k, (b+k))⋅U(_i, _d_1, k)'⋅S(p, _d, (-1.0⋅b+_d_2), _d_2)')+∑((n, b, k, p, q, _z_1), δ(k, _d_2, δ(n, _d_1, δ(p, _d, _z_1⋅S(p, q, k, (b+k))⋅δ(_z_1, U(q, n, (b+k)), ∑((k, p, q), U(p, n, k)⋅U(q, n, (b+k))'⋅S(p, q, k, (b+k))')⋅w(b))))))+∑((n, b, _z_3, k, p, q, _z_2), δ(k, _d_2, δ(n, _d_1, δ(p, _d, S(p, q, k, (b+k))⋅_z_2'⋅δ(U(q, n, (b+k))', _z_2, w(b)⋅_z_3'⋅δ(∑((k, p, q), U(q, n, (b+k))⋅S(p, q, k, (b+k))⋅U(p, n, k)'), _z_3, 1)))))))\n",
      "-->\n",
      "\n"
     ]
    },
    {
     "name": "stdout",
     "output_type": "stream",
     "text": [
      "13 swallow\n",
      "(_d, _d_1, _d_2) -> \n",
      "    (∑((_z_3, b, p), _z_3⋅w(b)⋅U(p, _d_1, (-1.0⋅b+_d_2))⋅S(p, _d, (-1.0⋅b+_d_2), _d_2)'⋅δ(_z_3, ∑((k, p, q), U(q, _d_1, (b+k))⋅S(p, q, k, (b+k))⋅U(p, _d_1, k)'), 1))+∑((b, p, k, _i, q), w(b)⋅U(q, _d_1, (b+k))⋅U(p, _d_1, (-1.0⋅b+_d_2))⋅S(_i, q, k, (b+k))⋅U(_i, _d_1, k)'⋅S(p, _d, (-1.0⋅b+_d_2), _d_2)')+∑((n, b, k, p, q, _z_1), δ(k, _d_2, δ(n, _d_1, δ(p, _d, _z_1⋅S(p, q, k, (b+k))⋅δ(_z_1, U(q, n, (b+k)), ∑((k, p, q), U(p, n, k)⋅U(q, n, (b+k))'⋅S(p, q, k, (b+k))')⋅w(b))))))+∑((n, b, _z_3, k, p, q, _z_2), δ(k, _d_2, δ(n, _d_1, δ(p, _d, S(p, q, k, (b+k))⋅_z_2'⋅δ(U(q, n, (b+k))', _z_2, w(b)⋅_z_3'⋅δ(∑((k, p, q), U(q, n, (b+k))⋅S(p, q, k, (b+k))⋅U(p, n, k)'), _z_3, 1)))))))\n",
      "Map\n",
      "(_d, _d_1, _d_2) -> \n",
      "    (∑((_z_3, b, p), δ(∑((k, p, q), U(q, _d_1, (b+k))⋅S(p, q, k, (b+k))⋅U(p, _d_1, k)'), _z_3, _z_3⋅w(b)⋅U(p, _d_1, (-1.0⋅b+_d_2))⋅S(p, _d, (-1.0⋅b+_d_2), _d_2)'))+∑((b, p, k, _i, q), w(b)⋅U(q, _d_1, (b+k))⋅U(p, _d_1, (-1.0⋅b+_d_2))⋅S(_i, q, k, (b+k))⋅U(_i, _d_1, k)'⋅S(p, _d, (-1.0⋅b+_d_2), _d_2)')+∑((n, b, k, p, q, _z_1), δ(k, _d_2, δ(n, _d_1, δ(p, _d, _z_1⋅S(p, q, k, (b+k))⋅δ(_z_1, U(q, n, (b+k)), ∑((k, p, q), U(p, n, k)⋅U(q, n, (b+k))'⋅S(p, q, k, (b+k))')⋅w(b))))))+∑((n, b, _z_3, k, p, q, _z_2), δ(k, _d_2, δ(n, _d_1, δ(p, _d, S(p, q, k, (b+k))⋅_z_2'⋅δ(U(q, n, (b+k))', _z_2, w(b)⋅_z_3'⋅δ(∑((k, p, q), U(q, n, (b+k))⋅S(p, q, k, (b+k))⋅U(p, n, k)'), _z_3, 1)))))))\n",
      "-->\n",
      "\n",
      "14 contract_delta\n",
      "(_d, _d_1, _d_2) -> \n",
      "    (∑((_z_3, b, p), δ(∑((k, p, q), U(q, _d_1, (b+k))⋅S(p, q, k, (b+k))⋅U(p, _d_1, k)'), _z_3, _z_3⋅w(b)⋅U(p, _d_1, (-1.0⋅b+_d_2))⋅S(p, _d, (-1.0⋅b+_d_2), _d_2)'))+∑((b, p, k, _i, q), w(b)⋅U(q, _d_1, (b+k))⋅U(p, _d_1, (-1.0⋅b+_d_2))⋅S(_i, q, k, (b+k))⋅U(_i, _d_1, k)'⋅S(p, _d, (-1.0⋅b+_d_2), _d_2)')+∑((n, b, k, p, q, _z_1), δ(k, _d_2, δ(n, _d_1, δ(p, _d, _z_1⋅S(p, q, k, (b+k))⋅δ(_z_1, U(q, n, (b+k)), ∑((k, p, q), U(p, n, k)⋅U(q, n, (b+k))'⋅S(p, q, k, (b+k))')⋅w(b))))))+∑((n, b, _z_3, k, p, q, _z_2), δ(k, _d_2, δ(n, _d_1, δ(p, _d, S(p, q, k, (b+k))⋅_z_2'⋅δ(U(q, n, (b+k))', _z_2, w(b)⋅_z_3'⋅δ(∑((k, p, q), U(q, n, (b+k))⋅S(p, q, k, (b+k))⋅U(p, n, k)'), _z_3, 1)))))))\n",
      "Map\n",
      "(_d, _d_1, _d_2) -> \n",
      "    (∑((b, p), ∑((k, p, q), U(q, _d_1, (b+k))⋅S(p, q, k, (b+k))⋅U(p, _d_1, k)')⋅w(b)⋅U(p, _d_1, (-1.0⋅b+_d_2))⋅S(p, _d, (-1.0⋅b+_d_2), _d_2)')+∑((b, p, k, _i, q), w(b)⋅U(q, _d_1, (b+k))⋅U(p, _d_1, (-1.0⋅b+_d_2))⋅S(_i, q, k, (b+k))⋅U(_i, _d_1, k)'⋅S(p, _d, (-1.0⋅b+_d_2), _d_2)')+∑((n, b, k, p, q, _z_1), δ(k, _d_2, δ(n, _d_1, δ(p, _d, _z_1⋅S(p, q, k, (b+k))⋅δ(_z_1, U(q, n, (b+k)), ∑((k, p, q), U(p, n, k)⋅U(q, n, (b+k))'⋅S(p, q, k, (b+k))')⋅w(b))))))+∑((n, b, _z_3, k, p, q, _z_2), δ(k, _d_2, δ(n, _d_1, δ(p, _d, S(p, q, k, (b+k))⋅_z_2'⋅δ(U(q, n, (b+k))', _z_2, w(b)⋅_z_3'⋅δ(∑((k, p, q), U(q, n, (b+k))⋅S(p, q, k, (b+k))⋅U(p, n, k)'), _z_3, 1)))))))\n",
      "-->\n",
      "\n",
      "15 sum_in\n",
      "(_d, _d_1, _d_2) -> \n",
      "    (∑((b, p), ∑((k, p, q), U(q, _d_1, (b+k))⋅S(p, q, k, (b+k))⋅U(p, _d_1, k)')⋅w(b)⋅U(p, _d_1, (-1.0⋅b+_d_2))⋅S(p, _d, (-1.0⋅b+_d_2), _d_2)')+∑((b, p, k, _i, q), w(b)⋅U(q, _d_1, (b+k))⋅U(p, _d_1, (-1.0⋅b+_d_2))⋅S(_i, q, k, (b+k))⋅U(_i, _d_1, k)'⋅S(p, _d, (-1.0⋅b+_d_2), _d_2)')+∑((n, b, k, p, q, _z_1), δ(k, _d_2, δ(n, _d_1, δ(p, _d, _z_1⋅S(p, q, k, (b+k))⋅δ(_z_1, U(q, n, (b+k)), ∑((k, p, q), U(p, n, k)⋅U(q, n, (b+k))'⋅S(p, q, k, (b+k))')⋅w(b))))))+∑((n, b, _z_3, k, p, q, _z_2), δ(k, _d_2, δ(n, _d_1, δ(p, _d, S(p, q, k, (b+k))⋅_z_2'⋅δ(U(q, n, (b+k))', _z_2, w(b)⋅_z_3'⋅δ(∑((k, p, q), U(q, n, (b+k))⋅S(p, q, k, (b+k))⋅U(p, n, k)'), _z_3, 1)))))))\n",
      "Map\n",
      "(_d, _d_1, _d_2) -> \n",
      "    (∑((n, b, k, p, q, _z_1), δ(k, _d_2, δ(n, _d_1, δ(p, _d, _z_1⋅S(p, q, k, (b+k))⋅δ(_z_1, U(q, n, (b+k)), ∑((k, p, q), U(p, n, k)⋅U(q, n, (b+k))'⋅S(p, q, k, (b+k))')⋅w(b))))))+∑((n, b, _z_3, k, p, q, _z_2), δ(k, _d_2, δ(n, _d_1, δ(p, _d, S(p, q, k, (b+k))⋅_z_2'⋅δ(U(q, n, (b+k))', _z_2, w(b)⋅_z_3'⋅δ(∑((k, p, q), U(q, n, (b+k))⋅S(p, q, k, (b+k))⋅U(p, n, k)'), _z_3, 1))))))+∑((b, p, k, _i, q), w(b)⋅U(q, _d_1, (b+k))⋅U(p, _d_1, (-1.0⋅b+_d_2))⋅S(_i, q, k, (b+k))⋅U(_i, _d_1, k)'⋅S(p, _d, (-1.0⋅b+_d_2), _d_2)')⋅2.0)\n",
      "-->\n",
      "\n",
      "16 contract_delta\n",
      "(_d, _d_1, _d_2) -> \n",
      "    (∑((n, b, k, p, q, _z_1), δ(k, _d_2, δ(n, _d_1, δ(p, _d, _z_1⋅S(p, q, k, (b+k))⋅δ(_z_1, U(q, n, (b+k)), ∑((k, p, q), U(p, n, k)⋅U(q, n, (b+k))'⋅S(p, q, k, (b+k))')⋅w(b))))))+∑((n, b, _z_3, k, p, q, _z_2), δ(k, _d_2, δ(n, _d_1, δ(p, _d, S(p, q, k, (b+k))⋅_z_2'⋅δ(U(q, n, (b+k))', _z_2, w(b)⋅_z_3'⋅δ(∑((k, p, q), U(q, n, (b+k))⋅S(p, q, k, (b+k))⋅U(p, n, k)'), _z_3, 1))))))+∑((b, p, k, _i, q), w(b)⋅U(q, _d_1, (b+k))⋅U(p, _d_1, (-1.0⋅b+_d_2))⋅S(_i, q, k, (b+k))⋅U(_i, _d_1, k)'⋅S(p, _d, (-1.0⋅b+_d_2), _d_2)')⋅2.0)\n",
      "Map\n",
      "(_d, _d_1, _d_2) -> \n",
      "    (∑((_z_1, n, b, p, q), δ(n, _d_1, δ(p, _d, _z_1⋅S(p, q, _d_2, (_d_2+b))⋅δ(_z_1, U(q, n, (_d_2+b)), ∑((k, p, q), U(p, n, k)⋅U(q, n, (b+k))'⋅S(p, q, k, (b+k))')⋅w(b)))))+∑((n, b, _z_3, k, p, q, _z_2), δ(k, _d_2, δ(n, _d_1, δ(p, _d, S(p, q, k, (b+k))⋅_z_2'⋅δ(U(q, n, (b+k))', _z_2, w(b)⋅_z_3'⋅δ(∑((k, p, q), U(q, n, (b+k))⋅S(p, q, k, (b+k))⋅U(p, n, k)'), _z_3, 1))))))+∑((b, p, k, _i, q), w(b)⋅U(q, _d_1, (b+k))⋅U(p, _d_1, (-1.0⋅b+_d_2))⋅S(_i, q, k, (b+k))⋅U(_i, _d_1, k)'⋅S(p, _d, (-1.0⋅b+_d_2), _d_2)')⋅2.0)\n",
      "-->\n",
      "\n",
      "17 contract_delta\n",
      "(_d, _d_1, _d_2) -> \n",
      "    (∑((_z_1, n, b, p, q), δ(n, _d_1, δ(p, _d, _z_1⋅S(p, q, _d_2, (_d_2+b))⋅δ(_z_1, U(q, n, (_d_2+b)), ∑((k, p, q), U(p, n, k)⋅U(q, n, (b+k))'⋅S(p, q, k, (b+k))')⋅w(b)))))+∑((n, b, _z_3, k, p, q, _z_2), δ(k, _d_2, δ(n, _d_1, δ(p, _d, S(p, q, k, (b+k))⋅_z_2'⋅δ(U(q, n, (b+k))', _z_2, w(b)⋅_z_3'⋅δ(∑((k, p, q), U(q, n, (b+k))⋅S(p, q, k, (b+k))⋅U(p, n, k)'), _z_3, 1))))))+∑((b, p, k, _i, q), w(b)⋅U(q, _d_1, (b+k))⋅U(p, _d_1, (-1.0⋅b+_d_2))⋅S(_i, q, k, (b+k))⋅U(_i, _d_1, k)'⋅S(p, _d, (-1.0⋅b+_d_2), _d_2)')⋅2.0)\n",
      "Map\n",
      "(_d, _d_1, _d_2) -> \n",
      "    (∑((_z_1, b, p, q), δ(p, _d, _z_1⋅S(p, q, _d_2, (_d_2+b))⋅δ(_z_1, U(q, _d_1, (_d_2+b)), ∑((k, p, q), U(p, _d_1, k)⋅U(q, _d_1, (b+k))'⋅S(p, q, k, (b+k))')⋅w(b))))+∑((n, b, _z_3, k, p, q, _z_2), δ(k, _d_2, δ(n, _d_1, δ(p, _d, S(p, q, k, (b+k))⋅_z_2'⋅δ(U(q, n, (b+k))', _z_2, w(b)⋅_z_3'⋅δ(∑((k, p, q), U(q, n, (b+k))⋅S(p, q, k, (b+k))⋅U(p, n, k)'), _z_3, 1))))))+∑((b, p, k, _i, q), w(b)⋅U(q, _d_1, (b+k))⋅U(p, _d_1, (-1.0⋅b+_d_2))⋅S(_i, q, k, (b+k))⋅U(_i, _d_1, k)'⋅S(p, _d, (-1.0⋅b+_d_2), _d_2)')⋅2.0)\n",
      "-->\n",
      "\n",
      "18 contract_delta\n",
      "(_d, _d_1, _d_2) -> \n",
      "    (∑((_z_1, b, p, q), δ(p, _d, _z_1⋅S(p, q, _d_2, (_d_2+b))⋅δ(_z_1, U(q, _d_1, (_d_2+b)), ∑((k, p, q), U(p, _d_1, k)⋅U(q, _d_1, (b+k))'⋅S(p, q, k, (b+k))')⋅w(b))))+∑((n, b, _z_3, k, p, q, _z_2), δ(k, _d_2, δ(n, _d_1, δ(p, _d, S(p, q, k, (b+k))⋅_z_2'⋅δ(U(q, n, (b+k))', _z_2, w(b)⋅_z_3'⋅δ(∑((k, p, q), U(q, n, (b+k))⋅S(p, q, k, (b+k))⋅U(p, n, k)'), _z_3, 1))))))+∑((b, p, k, _i, q), w(b)⋅U(q, _d_1, (b+k))⋅U(p, _d_1, (-1.0⋅b+_d_2))⋅S(_i, q, k, (b+k))⋅U(_i, _d_1, k)'⋅S(p, _d, (-1.0⋅b+_d_2), _d_2)')⋅2.0)\n",
      "Map\n",
      "(_d, _d_1, _d_2) -> \n",
      "    (∑((_z_1, b, q), _z_1⋅S(_d, q, _d_2, (_d_2+b))⋅δ(_z_1, U(q, _d_1, (_d_2+b)), ∑((k, p, q), U(p, _d_1, k)⋅U(q, _d_1, (b+k))'⋅S(p, q, k, (b+k))')⋅w(b)))+∑((n, b, _z_3, k, p, q, _z_2), δ(k, _d_2, δ(n, _d_1, δ(p, _d, S(p, q, k, (b+k))⋅_z_2'⋅δ(U(q, n, (b+k))', _z_2, w(b)⋅_z_3'⋅δ(∑((k, p, q), U(q, n, (b+k))⋅S(p, q, k, (b+k))⋅U(p, n, k)'), _z_3, 1))))))+∑((b, p, k, _i, q), w(b)⋅U(q, _d_1, (b+k))⋅U(p, _d_1, (-1.0⋅b+_d_2))⋅S(_i, q, k, (b+k))⋅U(_i, _d_1, k)'⋅S(p, _d, (-1.0⋅b+_d_2), _d_2)')⋅2.0)\n",
      "-->\n",
      "\n",
      "19 swallow\n",
      "(_d, _d_1, _d_2) -> \n",
      "    (∑((_z_1, b, q), _z_1⋅S(_d, q, _d_2, (_d_2+b))⋅δ(_z_1, U(q, _d_1, (_d_2+b)), ∑((k, p, q), U(p, _d_1, k)⋅U(q, _d_1, (b+k))'⋅S(p, q, k, (b+k))')⋅w(b)))+∑((n, b, _z_3, k, p, q, _z_2), δ(k, _d_2, δ(n, _d_1, δ(p, _d, S(p, q, k, (b+k))⋅_z_2'⋅δ(U(q, n, (b+k))', _z_2, w(b)⋅_z_3'⋅δ(∑((k, p, q), U(q, n, (b+k))⋅S(p, q, k, (b+k))⋅U(p, n, k)'), _z_3, 1))))))+∑((b, p, k, _i, q), w(b)⋅U(q, _d_1, (b+k))⋅U(p, _d_1, (-1.0⋅b+_d_2))⋅S(_i, q, k, (b+k))⋅U(_i, _d_1, k)'⋅S(p, _d, (-1.0⋅b+_d_2), _d_2)')⋅2.0)\n",
      "Map\n",
      "(_d, _d_1, _d_2) -> \n",
      "    (∑((_z_1, b, q), δ(U(q, _d_1, (_d_2+b)), _z_1, _z_1⋅∑((k, p, q), U(p, _d_1, k)⋅U(q, _d_1, (b+k))'⋅S(p, q, k, (b+k))')⋅w(b)⋅S(_d, q, _d_2, (_d_2+b))))+∑((n, b, _z_3, k, p, q, _z_2), δ(k, _d_2, δ(n, _d_1, δ(p, _d, S(p, q, k, (b+k))⋅_z_2'⋅δ(U(q, n, (b+k))', _z_2, w(b)⋅_z_3'⋅δ(∑((k, p, q), U(q, n, (b+k))⋅S(p, q, k, (b+k))⋅U(p, n, k)'), _z_3, 1))))))+∑((b, p, k, _i, q), w(b)⋅U(q, _d_1, (b+k))⋅U(p, _d_1, (-1.0⋅b+_d_2))⋅S(_i, q, k, (b+k))⋅U(_i, _d_1, k)'⋅S(p, _d, (-1.0⋅b+_d_2), _d_2)')⋅2.0)\n",
      "-->\n",
      "\n",
      "20 contract_delta\n",
      "(_d, _d_1, _d_2) -> \n",
      "    (∑((_z_1, b, q), δ(U(q, _d_1, (_d_2+b)), _z_1, _z_1⋅∑((k, p, q), U(p, _d_1, k)⋅U(q, _d_1, (b+k))'⋅S(p, q, k, (b+k))')⋅w(b)⋅S(_d, q, _d_2, (_d_2+b))))+∑((n, b, _z_3, k, p, q, _z_2), δ(k, _d_2, δ(n, _d_1, δ(p, _d, S(p, q, k, (b+k))⋅_z_2'⋅δ(U(q, n, (b+k))', _z_2, w(b)⋅_z_3'⋅δ(∑((k, p, q), U(q, n, (b+k))⋅S(p, q, k, (b+k))⋅U(p, n, k)'), _z_3, 1))))))+∑((b, p, k, _i, q), w(b)⋅U(q, _d_1, (b+k))⋅U(p, _d_1, (-1.0⋅b+_d_2))⋅S(_i, q, k, (b+k))⋅U(_i, _d_1, k)'⋅S(p, _d, (-1.0⋅b+_d_2), _d_2)')⋅2.0)\n",
      "Map\n",
      "(_d, _d_1, _d_2) -> \n",
      "    (∑((b, q), ∑((k, p, _q), U(p, _d_1, k)⋅U(_q, _d_1, (b+k))'⋅S(p, _q, k, (b+k))')⋅w(b)⋅U(q, _d_1, (_d_2+b))⋅S(_d, q, _d_2, (_d_2+b)))+∑((n, b, _z_3, k, p, q, _z_2), δ(k, _d_2, δ(n, _d_1, δ(p, _d, S(p, q, k, (b+k))⋅_z_2'⋅δ(U(q, n, (b+k))', _z_2, w(b)⋅_z_3'⋅δ(∑((k, p, q), U(q, n, (b+k))⋅S(p, q, k, (b+k))⋅U(p, n, k)'), _z_3, 1))))))+∑((b, p, k, _i, q), w(b)⋅U(q, _d_1, (b+k))⋅U(p, _d_1, (-1.0⋅b+_d_2))⋅S(_i, q, k, (b+k))⋅U(_i, _d_1, k)'⋅S(p, _d, (-1.0⋅b+_d_2), _d_2)')⋅2.0)\n",
      "-->\n",
      "\n"
     ]
    },
    {
     "name": "stdout",
     "output_type": "stream",
     "text": [
      "21 sum_in\n",
      "(_d, _d_1, _d_2) -> \n",
      "    (∑((b, q), ∑((k, p, _q), U(p, _d_1, k)⋅U(_q, _d_1, (b+k))'⋅S(p, _q, k, (b+k))')⋅w(b)⋅U(q, _d_1, (_d_2+b))⋅S(_d, q, _d_2, (_d_2+b)))+∑((n, b, _z_3, k, p, q, _z_2), δ(k, _d_2, δ(n, _d_1, δ(p, _d, S(p, q, k, (b+k))⋅_z_2'⋅δ(U(q, n, (b+k))', _z_2, w(b)⋅_z_3'⋅δ(∑((k, p, q), U(q, n, (b+k))⋅S(p, q, k, (b+k))⋅U(p, n, k)'), _z_3, 1))))))+∑((b, p, k, _i, q), w(b)⋅U(q, _d_1, (b+k))⋅U(p, _d_1, (-1.0⋅b+_d_2))⋅S(_i, q, k, (b+k))⋅U(_i, _d_1, k)'⋅S(p, _d, (-1.0⋅b+_d_2), _d_2)')⋅2.0)\n",
      "Map\n",
      "(_d, _d_1, _d_2) -> \n",
      "    (∑((b, q, k, p, _q), w(b)⋅U(q, _d_1, (_d_2+b))⋅U(p, _d_1, k)⋅S(_d, q, _d_2, (_d_2+b))⋅U(_q, _d_1, (b+k))'⋅S(p, _q, k, (b+k))')+∑((n, b, _z_3, k, p, q, _z_2), δ(k, _d_2, δ(n, _d_1, δ(p, _d, S(p, q, k, (b+k))⋅_z_2'⋅δ(U(q, n, (b+k))', _z_2, w(b)⋅_z_3'⋅δ(∑((k, p, q), U(q, n, (b+k))⋅S(p, q, k, (b+k))⋅U(p, n, k)'), _z_3, 1))))))+∑((b, p, k, _i, q), w(b)⋅U(q, _d_1, (b+k))⋅U(p, _d_1, (-1.0⋅b+_d_2))⋅S(_i, q, k, (b+k))⋅U(_i, _d_1, k)'⋅S(p, _d, (-1.0⋅b+_d_2), _d_2)')⋅2.0)\n",
      "-->\n",
      "\n",
      "22 contract_delta\n",
      "(_d, _d_1, _d_2) -> \n",
      "    (∑((b, q, k, p, _q), w(b)⋅U(q, _d_1, (_d_2+b))⋅U(p, _d_1, k)⋅S(_d, q, _d_2, (_d_2+b))⋅U(_q, _d_1, (b+k))'⋅S(p, _q, k, (b+k))')+∑((n, b, _z_3, k, p, q, _z_2), δ(k, _d_2, δ(n, _d_1, δ(p, _d, S(p, q, k, (b+k))⋅_z_2'⋅δ(U(q, n, (b+k))', _z_2, w(b)⋅_z_3'⋅δ(∑((k, p, q), U(q, n, (b+k))⋅S(p, q, k, (b+k))⋅U(p, n, k)'), _z_3, 1))))))+∑((b, p, k, _i, q), w(b)⋅U(q, _d_1, (b+k))⋅U(p, _d_1, (-1.0⋅b+_d_2))⋅S(_i, q, k, (b+k))⋅U(_i, _d_1, k)'⋅S(p, _d, (-1.0⋅b+_d_2), _d_2)')⋅2.0)\n",
      "Map\n",
      "(_d, _d_1, _d_2) -> \n",
      "    (∑((b, q, k, p, _q), w(b)⋅U(q, _d_1, (_d_2+b))⋅U(p, _d_1, k)⋅S(_d, q, _d_2, (_d_2+b))⋅U(_q, _d_1, (b+k))'⋅S(p, _q, k, (b+k))')+∑((_z_3, _z_2, n, b, p, q), δ(n, _d_1, δ(p, _d, S(p, q, _d_2, (_d_2+b))⋅_z_2'⋅δ(U(q, n, (_d_2+b))', _z_2, w(b)⋅_z_3'⋅δ(∑((k, p, q), U(q, n, (b+k))⋅S(p, q, k, (b+k))⋅U(p, n, k)'), _z_3, 1)))))+∑((b, p, k, _i, q), w(b)⋅U(q, _d_1, (b+k))⋅U(p, _d_1, (-1.0⋅b+_d_2))⋅S(_i, q, k, (b+k))⋅U(_i, _d_1, k)'⋅S(p, _d, (-1.0⋅b+_d_2), _d_2)')⋅2.0)\n",
      "-->\n",
      "\n",
      "23 contract_delta\n",
      "(_d, _d_1, _d_2) -> \n",
      "    (∑((b, q, k, p, _q), w(b)⋅U(q, _d_1, (_d_2+b))⋅U(p, _d_1, k)⋅S(_d, q, _d_2, (_d_2+b))⋅U(_q, _d_1, (b+k))'⋅S(p, _q, k, (b+k))')+∑((_z_3, _z_2, n, b, p, q), δ(n, _d_1, δ(p, _d, S(p, q, _d_2, (_d_2+b))⋅_z_2'⋅δ(U(q, n, (_d_2+b))', _z_2, w(b)⋅_z_3'⋅δ(∑((k, p, q), U(q, n, (b+k))⋅S(p, q, k, (b+k))⋅U(p, n, k)'), _z_3, 1)))))+∑((b, p, k, _i, q), w(b)⋅U(q, _d_1, (b+k))⋅U(p, _d_1, (-1.0⋅b+_d_2))⋅S(_i, q, k, (b+k))⋅U(_i, _d_1, k)'⋅S(p, _d, (-1.0⋅b+_d_2), _d_2)')⋅2.0)\n",
      "Map\n",
      "(_d, _d_1, _d_2) -> \n",
      "    (∑((_z_3, _z_2, b, p, q), δ(p, _d, S(p, q, _d_2, (_d_2+b))⋅_z_2'⋅δ(U(q, _d_1, (_d_2+b))', _z_2, w(b)⋅_z_3'⋅δ(∑((k, p, q), U(q, _d_1, (b+k))⋅S(p, q, k, (b+k))⋅U(p, _d_1, k)'), _z_3, 1))))+∑((b, q, k, p, _q), w(b)⋅U(q, _d_1, (_d_2+b))⋅U(p, _d_1, k)⋅S(_d, q, _d_2, (_d_2+b))⋅U(_q, _d_1, (b+k))'⋅S(p, _q, k, (b+k))')+∑((b, p, k, _i, q), w(b)⋅U(q, _d_1, (b+k))⋅U(p, _d_1, (-1.0⋅b+_d_2))⋅S(_i, q, k, (b+k))⋅U(_i, _d_1, k)'⋅S(p, _d, (-1.0⋅b+_d_2), _d_2)')⋅2.0)\n",
      "-->\n",
      "\n",
      "24 contract_delta\n",
      "(_d, _d_1, _d_2) -> \n",
      "    (∑((_z_3, _z_2, b, p, q), δ(p, _d, S(p, q, _d_2, (_d_2+b))⋅_z_2'⋅δ(U(q, _d_1, (_d_2+b))', _z_2, w(b)⋅_z_3'⋅δ(∑((k, p, q), U(q, _d_1, (b+k))⋅S(p, q, k, (b+k))⋅U(p, _d_1, k)'), _z_3, 1))))+∑((b, q, k, p, _q), w(b)⋅U(q, _d_1, (_d_2+b))⋅U(p, _d_1, k)⋅S(_d, q, _d_2, (_d_2+b))⋅U(_q, _d_1, (b+k))'⋅S(p, _q, k, (b+k))')+∑((b, p, k, _i, q), w(b)⋅U(q, _d_1, (b+k))⋅U(p, _d_1, (-1.0⋅b+_d_2))⋅S(_i, q, k, (b+k))⋅U(_i, _d_1, k)'⋅S(p, _d, (-1.0⋅b+_d_2), _d_2)')⋅2.0)\n",
      "Map\n",
      "(_d, _d_1, _d_2) -> \n",
      "    (∑((_z_3, _z_2, b, q), S(_d, q, _d_2, (_d_2+b))⋅_z_2'⋅δ(U(q, _d_1, (_d_2+b))', _z_2, w(b)⋅_z_3'⋅δ(∑((k, p, q), U(q, _d_1, (b+k))⋅S(p, q, k, (b+k))⋅U(p, _d_1, k)'), _z_3, 1)))+∑((b, q, k, p, _q), w(b)⋅U(q, _d_1, (_d_2+b))⋅U(p, _d_1, k)⋅S(_d, q, _d_2, (_d_2+b))⋅U(_q, _d_1, (b+k))'⋅S(p, _q, k, (b+k))')+∑((b, p, k, _i, q), w(b)⋅U(q, _d_1, (b+k))⋅U(p, _d_1, (-1.0⋅b+_d_2))⋅S(_i, q, k, (b+k))⋅U(_i, _d_1, k)'⋅S(p, _d, (-1.0⋅b+_d_2), _d_2)')⋅2.0)\n",
      "-->\n",
      "\n",
      "25 swallow\n",
      "(_d, _d_1, _d_2) -> \n",
      "    (∑((_z_3, _z_2, b, q), S(_d, q, _d_2, (_d_2+b))⋅_z_2'⋅δ(U(q, _d_1, (_d_2+b))', _z_2, w(b)⋅_z_3'⋅δ(∑((k, p, q), U(q, _d_1, (b+k))⋅S(p, q, k, (b+k))⋅U(p, _d_1, k)'), _z_3, 1)))+∑((b, q, k, p, _q), w(b)⋅U(q, _d_1, (_d_2+b))⋅U(p, _d_1, k)⋅S(_d, q, _d_2, (_d_2+b))⋅U(_q, _d_1, (b+k))'⋅S(p, _q, k, (b+k))')+∑((b, p, k, _i, q), w(b)⋅U(q, _d_1, (b+k))⋅U(p, _d_1, (-1.0⋅b+_d_2))⋅S(_i, q, k, (b+k))⋅U(_i, _d_1, k)'⋅S(p, _d, (-1.0⋅b+_d_2), _d_2)')⋅2.0)\n",
      "Map\n",
      "(_d, _d_1, _d_2) -> \n",
      "    (∑((_z_3, _z_2, b, q), δ(_z_2, U(q, _d_1, (_d_2+b))', w(b)⋅S(_d, q, _d_2, (_d_2+b))⋅_z_2'⋅_z_3'⋅δ(∑((k, p, q), U(q, _d_1, (b+k))⋅S(p, q, k, (b+k))⋅U(p, _d_1, k)'), _z_3, 1)))+∑((b, q, k, p, _q), w(b)⋅U(q, _d_1, (_d_2+b))⋅U(p, _d_1, k)⋅S(_d, q, _d_2, (_d_2+b))⋅U(_q, _d_1, (b+k))'⋅S(p, _q, k, (b+k))')+∑((b, p, k, _i, q), w(b)⋅U(q, _d_1, (b+k))⋅U(p, _d_1, (-1.0⋅b+_d_2))⋅S(_i, q, k, (b+k))⋅U(_i, _d_1, k)'⋅S(p, _d, (-1.0⋅b+_d_2), _d_2)')⋅2.0)\n",
      "-->\n",
      "\n",
      "26 contract_delta\n",
      "(_d, _d_1, _d_2) -> \n",
      "    (∑((_z_3, _z_2, b, q), δ(_z_2, U(q, _d_1, (_d_2+b))', w(b)⋅S(_d, q, _d_2, (_d_2+b))⋅_z_2'⋅_z_3'⋅δ(∑((k, p, q), U(q, _d_1, (b+k))⋅S(p, q, k, (b+k))⋅U(p, _d_1, k)'), _z_3, 1)))+∑((b, q, k, p, _q), w(b)⋅U(q, _d_1, (_d_2+b))⋅U(p, _d_1, k)⋅S(_d, q, _d_2, (_d_2+b))⋅U(_q, _d_1, (b+k))'⋅S(p, _q, k, (b+k))')+∑((b, p, k, _i, q), w(b)⋅U(q, _d_1, (b+k))⋅U(p, _d_1, (-1.0⋅b+_d_2))⋅S(_i, q, k, (b+k))⋅U(_i, _d_1, k)'⋅S(p, _d, (-1.0⋅b+_d_2), _d_2)')⋅2.0)\n",
      "Map\n",
      "(_d, _d_1, _d_2) -> \n",
      "    (∑((_z_3, b, q), w(b)⋅U(q, _d_1, (_d_2+b))⋅S(_d, q, _d_2, (_d_2+b))⋅_z_3'⋅δ(∑((k, p, _q), U(_q, _d_1, (b+k))⋅S(p, _q, k, (b+k))⋅U(p, _d_1, k)'), _z_3, 1))+∑((b, q, k, p, _q), w(b)⋅U(q, _d_1, (_d_2+b))⋅U(p, _d_1, k)⋅S(_d, q, _d_2, (_d_2+b))⋅U(_q, _d_1, (b+k))'⋅S(p, _q, k, (b+k))')+∑((b, p, k, _i, q), w(b)⋅U(q, _d_1, (b+k))⋅U(p, _d_1, (-1.0⋅b+_d_2))⋅S(_i, q, k, (b+k))⋅U(_i, _d_1, k)'⋅S(p, _d, (-1.0⋅b+_d_2), _d_2)')⋅2.0)\n",
      "-->\n",
      "\n",
      "27 swallow\n",
      "(_d, _d_1, _d_2) -> \n",
      "    (∑((_z_3, b, q), w(b)⋅U(q, _d_1, (_d_2+b))⋅S(_d, q, _d_2, (_d_2+b))⋅_z_3'⋅δ(∑((k, p, _q), U(_q, _d_1, (b+k))⋅S(p, _q, k, (b+k))⋅U(p, _d_1, k)'), _z_3, 1))+∑((b, q, k, p, _q), w(b)⋅U(q, _d_1, (_d_2+b))⋅U(p, _d_1, k)⋅S(_d, q, _d_2, (_d_2+b))⋅U(_q, _d_1, (b+k))'⋅S(p, _q, k, (b+k))')+∑((b, p, k, _i, q), w(b)⋅U(q, _d_1, (b+k))⋅U(p, _d_1, (-1.0⋅b+_d_2))⋅S(_i, q, k, (b+k))⋅U(_i, _d_1, k)'⋅S(p, _d, (-1.0⋅b+_d_2), _d_2)')⋅2.0)\n",
      "Map\n",
      "(_d, _d_1, _d_2) -> \n",
      "    (∑((_z_3, b, q), δ(_z_3, ∑((k, p, _q), U(_q, _d_1, (b+k))⋅S(p, _q, k, (b+k))⋅U(p, _d_1, k)'), w(b)⋅U(q, _d_1, (_d_2+b))⋅S(_d, q, _d_2, (_d_2+b))⋅_z_3'))+∑((b, q, k, p, _q), w(b)⋅U(q, _d_1, (_d_2+b))⋅U(p, _d_1, k)⋅S(_d, q, _d_2, (_d_2+b))⋅U(_q, _d_1, (b+k))'⋅S(p, _q, k, (b+k))')+∑((b, p, k, _i, q), w(b)⋅U(q, _d_1, (b+k))⋅U(p, _d_1, (-1.0⋅b+_d_2))⋅S(_i, q, k, (b+k))⋅U(_i, _d_1, k)'⋅S(p, _d, (-1.0⋅b+_d_2), _d_2)')⋅2.0)\n",
      "-->\n",
      "\n",
      "28 contract_delta\n",
      "(_d, _d_1, _d_2) -> \n",
      "    (∑((_z_3, b, q), δ(_z_3, ∑((k, p, _q), U(_q, _d_1, (b+k))⋅S(p, _q, k, (b+k))⋅U(p, _d_1, k)'), w(b)⋅U(q, _d_1, (_d_2+b))⋅S(_d, q, _d_2, (_d_2+b))⋅_z_3'))+∑((b, q, k, p, _q), w(b)⋅U(q, _d_1, (_d_2+b))⋅U(p, _d_1, k)⋅S(_d, q, _d_2, (_d_2+b))⋅U(_q, _d_1, (b+k))'⋅S(p, _q, k, (b+k))')+∑((b, p, k, _i, q), w(b)⋅U(q, _d_1, (b+k))⋅U(p, _d_1, (-1.0⋅b+_d_2))⋅S(_i, q, k, (b+k))⋅U(_i, _d_1, k)'⋅S(p, _d, (-1.0⋅b+_d_2), _d_2)')⋅2.0)\n",
      "Map\n",
      "(_d, _d_1, _d_2) -> \n",
      "    (∑((b, q), ∑((k, p, _q), U(_q, _d_1, (b+k))'⋅S(p, _q, k, (b+k))'⋅U(p, _d_1, k))⋅w(b)⋅U(q, _d_1, (_d_2+b))⋅S(_d, q, _d_2, (_d_2+b)))+∑((b, q, k, p, _q), w(b)⋅U(q, _d_1, (_d_2+b))⋅U(p, _d_1, k)⋅S(_d, q, _d_2, (_d_2+b))⋅U(_q, _d_1, (b+k))'⋅S(p, _q, k, (b+k))')+∑((b, p, k, _i, q), w(b)⋅U(q, _d_1, (b+k))⋅U(p, _d_1, (-1.0⋅b+_d_2))⋅S(_i, q, k, (b+k))⋅U(_i, _d_1, k)'⋅S(p, _d, (-1.0⋅b+_d_2), _d_2)')⋅2.0)\n",
      "-->\n",
      "\n",
      "29 sum_in\n",
      "(_d, _d_1, _d_2) -> \n",
      "    (∑((b, q), ∑((k, p, _q), U(_q, _d_1, (b+k))'⋅S(p, _q, k, (b+k))'⋅U(p, _d_1, k))⋅w(b)⋅U(q, _d_1, (_d_2+b))⋅S(_d, q, _d_2, (_d_2+b)))+∑((b, q, k, p, _q), w(b)⋅U(q, _d_1, (_d_2+b))⋅U(p, _d_1, k)⋅S(_d, q, _d_2, (_d_2+b))⋅U(_q, _d_1, (b+k))'⋅S(p, _q, k, (b+k))')+∑((b, p, k, _i, q), w(b)⋅U(q, _d_1, (b+k))⋅U(p, _d_1, (-1.0⋅b+_d_2))⋅S(_i, q, k, (b+k))⋅U(_i, _d_1, k)'⋅S(p, _d, (-1.0⋅b+_d_2), _d_2)')⋅2.0)\n",
      "Map\n",
      "(_d, _d_1, _d_2) -> \n",
      "    (∑((b, q, k, p, _q), w(b)⋅U(q, _d_1, (_d_2+b))⋅U(p, _d_1, k)⋅S(_d, q, _d_2, (_d_2+b))⋅U(_q, _d_1, (b+k))'⋅S(p, _q, k, (b+k))')⋅2.0+∑((b, p, k, _i, q), w(b)⋅U(q, _d_1, (b+k))⋅U(p, _d_1, (-1.0⋅b+_d_2))⋅S(_i, q, k, (b+k))⋅U(_i, _d_1, k)'⋅S(p, _d, (-1.0⋅b+_d_2), _d_2)')⋅2.0)\n",
      "-->\n",
      "\n",
      "30 gcd\n",
      "(_d, _d_1, _d_2) -> \n",
      "    (∑((b, q, k, p, _q), w(b)⋅U(q, _d_1, (_d_2+b))⋅U(p, _d_1, k)⋅S(_d, q, _d_2, (_d_2+b))⋅U(_q, _d_1, (b+k))'⋅S(p, _q, k, (b+k))')⋅2.0+∑((b, p, k, _i, q), w(b)⋅U(q, _d_1, (b+k))⋅U(p, _d_1, (-1.0⋅b+_d_2))⋅S(_i, q, k, (b+k))⋅U(_i, _d_1, k)'⋅S(p, _d, (-1.0⋅b+_d_2), _d_2)')⋅2.0)\n",
      "Map\n",
      "(_d, _d_1, _d_2) -> \n",
      "    (∑((b, q, k, p, _q), w(b)⋅U(q, _d_1, (_d_2+b))⋅U(p, _d_1, k)⋅S(_d, q, _d_2, (_d_2+b))⋅U(_q, _d_1, (b+k))'⋅S(p, _q, k, (b+k))')+∑((b, p, k, _i, q), w(b)⋅U(q, _d_1, (b+k))⋅U(p, _d_1, (-1.0⋅b+_d_2))⋅S(_i, q, k, (b+k))⋅U(_i, _d_1, k)'⋅S(p, _d, (-1.0⋅b+_d_2), _d_2)'))⋅2.0\n",
      "-->\n",
      "\n"
     ]
    },
    {
     "name": "stdout",
     "output_type": "stream",
     "text": [
      "1 shift\n",
      "(∑((b, q, k, p, _q), w(b)⋅U(q, _d_1, (_d_2+b))⋅U(p, _d_1, k)⋅S(_d, q, _d_2, (_d_2+b))⋅U(_q, _d_1, (b+k))'⋅S(p, _q, k, (b+k))')+∑((b, p, k, _i, q), w(b)⋅U(q, _d_1, (b+k))⋅U(p, _d_1, (-1.0⋅b+_d_2))⋅S(_i, q, k, (b+k))⋅U(_i, _d_1, k)'⋅S(p, _d, (-1.0⋅b+_d_2), _d_2)'))⋅2.0\n",
      "Mul\n",
      "(∑((b, q, k, p, _q), w(b)⋅U(q, _d_1, (_d_2+b))⋅U(p, _d_1, (k-1.0⋅b))⋅S(_d, q, _d_2, (_d_2+b))⋅U(_q, _d_1, k)'⋅S(p, _q, (k-1.0⋅b), k)')+∑((b, p, k, _i, q), w(b)⋅U(q, _d_1, (b+k))⋅U(p, _d_1, (-1.0⋅b+_d_2))⋅S(_i, q, k, (b+k))⋅U(_i, _d_1, k)'⋅S(p, _d, (-1.0⋅b+_d_2), _d_2)'))⋅2.0\n",
      "<->\n",
      "\n",
      "2 sum_sym\n",
      "(∑((b, q, k, p, _q), w(b)⋅U(q, _d_1, (_d_2+b))⋅U(p, _d_1, (k-1.0⋅b))⋅S(_d, q, _d_2, (_d_2+b))⋅U(_q, _d_1, k)'⋅S(p, _q, (k-1.0⋅b), k)')+∑((b, p, k, _i, q), w(b)⋅U(q, _d_1, (b+k))⋅U(p, _d_1, (-1.0⋅b+_d_2))⋅S(_i, q, k, (b+k))⋅U(_i, _d_1, k)'⋅S(p, _d, (-1.0⋅b+_d_2), _d_2)'))⋅2.0\n",
      "Mul\n",
      "(∑((b, q, k, p, _q), w(-1.0⋅b)⋅U(q, _d_1, (-1.0⋅b+_d_2))⋅U(p, _d_1, (b+k))⋅S(_d, q, _d_2, (-1.0⋅b+_d_2))⋅U(_q, _d_1, k)'⋅S(p, _q, (b+k), k)')+∑((b, p, k, _i, q), w(b)⋅U(q, _d_1, (b+k))⋅U(p, _d_1, (-1.0⋅b+_d_2))⋅S(_i, q, k, (b+k))⋅U(_i, _d_1, k)'⋅S(p, _d, (-1.0⋅b+_d_2), _d_2)'))⋅2.0\n",
      "<->\n",
      "\n",
      "3 shift\n",
      "(∑((b, q, k, p, _q), w(-1.0⋅b)⋅U(q, _d_1, (-1.0⋅b+_d_2))⋅U(p, _d_1, (b+k))⋅S(_d, q, _d_2, (-1.0⋅b+_d_2))⋅U(_q, _d_1, k)'⋅S(p, _q, (b+k), k)')+∑((b, p, k, _i, q), w(b)⋅U(q, _d_1, (b+k))⋅U(p, _d_1, (-1.0⋅b+_d_2))⋅S(_i, q, k, (b+k))⋅U(_i, _d_1, k)'⋅S(p, _d, (-1.0⋅b+_d_2), _d_2)'))⋅2.0\n",
      "Mul\n",
      "(∑((b, q, k, p, _q), w(-1.0⋅b)⋅U(q, _d_1, (-1.0⋅b+_d_2))⋅U(p, _d_1, k)⋅S(_d, q, _d_2, (-1.0⋅b+_d_2))⋅U(_q, _d_1, (k-1.0⋅b))'⋅S(p, _q, k, (k-1.0⋅b))')+∑((b, p, k, _i, q), w(b)⋅U(q, _d_1, (b+k))⋅U(p, _d_1, (-1.0⋅b+_d_2))⋅S(_i, q, k, (b+k))⋅U(_i, _d_1, k)'⋅S(p, _d, (-1.0⋅b+_d_2), _d_2)'))⋅2.0\n",
      "<->\n",
      "\n",
      "4 symmetry\n",
      "(∑((b, q, k, p, _q), w(-1.0⋅b)⋅U(q, _d_1, (-1.0⋅b+_d_2))⋅U(p, _d_1, k)⋅S(_d, q, _d_2, (-1.0⋅b+_d_2))⋅U(_q, _d_1, (k-1.0⋅b))'⋅S(p, _q, k, (k-1.0⋅b))')+∑((b, p, k, _i, q), w(b)⋅U(q, _d_1, (b+k))⋅U(p, _d_1, (-1.0⋅b+_d_2))⋅S(_i, q, k, (b+k))⋅U(_i, _d_1, k)'⋅S(p, _d, (-1.0⋅b+_d_2), _d_2)'))⋅2.0\n",
      "Mul\n",
      "(∑((b, q, k, p, _q), w(b)⋅U(q, _d_1, (-1.0⋅b+_d_2))⋅U(p, _d_1, k)⋅S(_d, q, _d_2, (-1.0⋅b+_d_2))⋅U(_q, _d_1, (k-1.0⋅b))'⋅S(p, _q, k, (k-1.0⋅b))')+∑((b, p, k, _i, q), w(b)⋅U(q, _d_1, (b+k))⋅U(p, _d_1, (-1.0⋅b+_d_2))⋅S(_i, q, k, (b+k))⋅U(_i, _d_1, k)'⋅S(p, _d, (-1.0⋅b+_d_2), _d_2)'))⋅2.0\n",
      "<->\n",
      "\n",
      "5 shift\n",
      "(∑((b, q, k, p, _q), w(b)⋅U(q, _d_1, (-1.0⋅b+_d_2))⋅U(p, _d_1, k)⋅S(_d, q, _d_2, (-1.0⋅b+_d_2))⋅U(_q, _d_1, (k-1.0⋅b))'⋅S(p, _q, k, (k-1.0⋅b))')+∑((b, p, k, _i, q), w(b)⋅U(q, _d_1, (b+k))⋅U(p, _d_1, (-1.0⋅b+_d_2))⋅S(_i, q, k, (b+k))⋅U(_i, _d_1, k)'⋅S(p, _d, (-1.0⋅b+_d_2), _d_2)'))⋅2.0\n",
      "Mul\n",
      "(∑((b, q, k, p, _q), w(b)⋅U(q, _d_1, (-1.0⋅b+_d_2))⋅U(p, _d_1, (b+k))⋅S(_d, q, _d_2, (-1.0⋅b+_d_2))⋅U(_q, _d_1, k)'⋅S(p, _q, (b+k), k)')+∑((b, p, k, _i, q), w(b)⋅U(q, _d_1, (b+k))⋅U(p, _d_1, (-1.0⋅b+_d_2))⋅S(_i, q, k, (b+k))⋅U(_i, _d_1, k)'⋅S(p, _d, (-1.0⋅b+_d_2), _d_2)'))⋅2.0\n",
      "<->\n",
      "\n",
      "6 sum_sym\n",
      "(∑((b, q, k, p, _q), w(b)⋅U(q, _d_1, (-1.0⋅b+_d_2))⋅U(p, _d_1, (b+k))⋅S(_d, q, _d_2, (-1.0⋅b+_d_2))⋅U(_q, _d_1, k)'⋅S(p, _q, (b+k), k)')+∑((b, p, k, _i, q), w(b)⋅U(q, _d_1, (b+k))⋅U(p, _d_1, (-1.0⋅b+_d_2))⋅S(_i, q, k, (b+k))⋅U(_i, _d_1, k)'⋅S(p, _d, (-1.0⋅b+_d_2), _d_2)'))⋅2.0\n",
      "Mul\n",
      "(∑((b, q, k, p, _q), w(-1.0⋅b)⋅U(q, _d_1, (_d_2+b))⋅U(p, _d_1, (k-1.0⋅b))⋅S(_d, q, _d_2, (_d_2+b))⋅U(_q, _d_1, k)'⋅S(p, _q, (k-1.0⋅b), k)')+∑((b, p, k, _i, q), w(b)⋅U(q, _d_1, (b+k))⋅U(p, _d_1, (-1.0⋅b+_d_2))⋅S(_i, q, k, (b+k))⋅U(_i, _d_1, k)'⋅S(p, _d, (-1.0⋅b+_d_2), _d_2)'))⋅2.0\n",
      "<->\n",
      "\n",
      "7 shift\n",
      "(∑((b, q, k, p, _q), w(-1.0⋅b)⋅U(q, _d_1, (_d_2+b))⋅U(p, _d_1, (k-1.0⋅b))⋅S(_d, q, _d_2, (_d_2+b))⋅U(_q, _d_1, k)'⋅S(p, _q, (k-1.0⋅b), k)')+∑((b, p, k, _i, q), w(b)⋅U(q, _d_1, (b+k))⋅U(p, _d_1, (-1.0⋅b+_d_2))⋅S(_i, q, k, (b+k))⋅U(_i, _d_1, k)'⋅S(p, _d, (-1.0⋅b+_d_2), _d_2)'))⋅2.0\n",
      "Mul\n",
      "(∑((b, q, k, p, _q), w(-1.0⋅b)⋅U(q, _d_1, (_d_2+b))⋅U(p, _d_1, k)⋅S(_d, q, _d_2, (_d_2+b))⋅U(_q, _d_1, (b+k))'⋅S(p, _q, k, (b+k))')+∑((b, p, k, _i, q), w(b)⋅U(q, _d_1, (b+k))⋅U(p, _d_1, (-1.0⋅b+_d_2))⋅S(_i, q, k, (b+k))⋅U(_i, _d_1, k)'⋅S(p, _d, (-1.0⋅b+_d_2), _d_2)'))⋅2.0\n",
      "<->\n",
      "\n",
      "8 symmetry\n",
      "(∑((b, q, k, p, _q), w(-1.0⋅b)⋅U(q, _d_1, (_d_2+b))⋅U(p, _d_1, k)⋅S(_d, q, _d_2, (_d_2+b))⋅U(_q, _d_1, (b+k))'⋅S(p, _q, k, (b+k))')+∑((b, p, k, _i, q), w(b)⋅U(q, _d_1, (b+k))⋅U(p, _d_1, (-1.0⋅b+_d_2))⋅S(_i, q, k, (b+k))⋅U(_i, _d_1, k)'⋅S(p, _d, (-1.0⋅b+_d_2), _d_2)'))⋅2.0\n",
      "Mul\n",
      "(∑((b, q, k, p, _q), w(-1.0⋅b)⋅U(q, _d_1, (_d_2+b))⋅U(p, _d_1, k)⋅U(_q, _d_1, (b+k))'⋅S(q, _d, (_d_2+b), _d_2)'⋅S(p, _q, k, (b+k))')+∑((b, p, k, _i, q), w(b)⋅U(q, _d_1, (b+k))⋅U(p, _d_1, (-1.0⋅b+_d_2))⋅S(_i, q, k, (b+k))⋅U(_i, _d_1, k)'⋅S(p, _d, (-1.0⋅b+_d_2), _d_2)'))⋅2.0\n",
      "<->\n",
      "\n",
      "9 shift\n",
      "(∑((b, q, k, p, _q), w(-1.0⋅b)⋅U(q, _d_1, (_d_2+b))⋅U(p, _d_1, k)⋅U(_q, _d_1, (b+k))'⋅S(q, _d, (_d_2+b), _d_2)'⋅S(p, _q, k, (b+k))')+∑((b, p, k, _i, q), w(b)⋅U(q, _d_1, (b+k))⋅U(p, _d_1, (-1.0⋅b+_d_2))⋅S(_i, q, k, (b+k))⋅U(_i, _d_1, k)'⋅S(p, _d, (-1.0⋅b+_d_2), _d_2)'))⋅2.0\n",
      "Mul\n",
      "(∑((b, q, k, p, _q), w(-1.0⋅b)⋅U(q, _d_1, (_d_2+b))⋅U(p, _d_1, (k-1.0⋅b))⋅U(_q, _d_1, k)'⋅S(q, _d, (_d_2+b), _d_2)'⋅S(p, _q, (k-1.0⋅b), k)')+∑((b, p, k, _i, q), w(b)⋅U(q, _d_1, (b+k))⋅U(p, _d_1, (-1.0⋅b+_d_2))⋅S(_i, q, k, (b+k))⋅U(_i, _d_1, k)'⋅S(p, _d, (-1.0⋅b+_d_2), _d_2)'))⋅2.0\n",
      "<->\n",
      "\n",
      "10 sum_sym\n",
      "(∑((b, q, k, p, _q), w(-1.0⋅b)⋅U(q, _d_1, (_d_2+b))⋅U(p, _d_1, (k-1.0⋅b))⋅U(_q, _d_1, k)'⋅S(q, _d, (_d_2+b), _d_2)'⋅S(p, _q, (k-1.0⋅b), k)')+∑((b, p, k, _i, q), w(b)⋅U(q, _d_1, (b+k))⋅U(p, _d_1, (-1.0⋅b+_d_2))⋅S(_i, q, k, (b+k))⋅U(_i, _d_1, k)'⋅S(p, _d, (-1.0⋅b+_d_2), _d_2)'))⋅2.0\n",
      "Mul\n",
      "(∑((b, q, k, p, _q), w(b)⋅U(q, _d_1, (-1.0⋅b+_d_2))⋅U(p, _d_1, (b+k))⋅U(_q, _d_1, k)'⋅S(q, _d, (-1.0⋅b+_d_2), _d_2)'⋅S(p, _q, (b+k), k)')+∑((b, p, k, _i, q), w(b)⋅U(q, _d_1, (b+k))⋅U(p, _d_1, (-1.0⋅b+_d_2))⋅S(_i, q, k, (b+k))⋅U(_i, _d_1, k)'⋅S(p, _d, (-1.0⋅b+_d_2), _d_2)'))⋅2.0\n",
      "<->\n",
      "\n",
      "11 shift\n",
      "(∑((b, q, k, p, _q), w(b)⋅U(q, _d_1, (-1.0⋅b+_d_2))⋅U(p, _d_1, (b+k))⋅U(_q, _d_1, k)'⋅S(q, _d, (-1.0⋅b+_d_2), _d_2)'⋅S(p, _q, (b+k), k)')+∑((b, p, k, _i, q), w(b)⋅U(q, _d_1, (b+k))⋅U(p, _d_1, (-1.0⋅b+_d_2))⋅S(_i, q, k, (b+k))⋅U(_i, _d_1, k)'⋅S(p, _d, (-1.0⋅b+_d_2), _d_2)'))⋅2.0\n",
      "Mul\n",
      "(∑((b, q, k, p, _q), w(b)⋅U(q, _d_1, (-1.0⋅b+_d_2))⋅U(p, _d_1, k)⋅U(_q, _d_1, (k-1.0⋅b))'⋅S(q, _d, (-1.0⋅b+_d_2), _d_2)'⋅S(p, _q, k, (k-1.0⋅b))')+∑((b, p, k, _i, q), w(b)⋅U(q, _d_1, (b+k))⋅U(p, _d_1, (-1.0⋅b+_d_2))⋅S(_i, q, k, (b+k))⋅U(_i, _d_1, k)'⋅S(p, _d, (-1.0⋅b+_d_2), _d_2)'))⋅2.0\n",
      "<->\n",
      "\n",
      "12 symmetry\n",
      "(∑((b, q, k, p, _q), w(b)⋅U(q, _d_1, (-1.0⋅b+_d_2))⋅U(p, _d_1, k)⋅U(_q, _d_1, (k-1.0⋅b))'⋅S(q, _d, (-1.0⋅b+_d_2), _d_2)'⋅S(p, _q, k, (k-1.0⋅b))')+∑((b, p, k, _i, q), w(b)⋅U(q, _d_1, (b+k))⋅U(p, _d_1, (-1.0⋅b+_d_2))⋅S(_i, q, k, (b+k))⋅U(_i, _d_1, k)'⋅S(p, _d, (-1.0⋅b+_d_2), _d_2)'))⋅2.0\n",
      "Mul\n",
      "(∑((b, q, k, p, _q), w(-1.0⋅b)⋅U(q, _d_1, (-1.0⋅b+_d_2))⋅U(p, _d_1, k)⋅U(_q, _d_1, (k-1.0⋅b))'⋅S(q, _d, (-1.0⋅b+_d_2), _d_2)'⋅S(p, _q, k, (k-1.0⋅b))')+∑((b, p, k, _i, q), w(b)⋅U(q, _d_1, (b+k))⋅U(p, _d_1, (-1.0⋅b+_d_2))⋅S(_i, q, k, (b+k))⋅U(_i, _d_1, k)'⋅S(p, _d, (-1.0⋅b+_d_2), _d_2)'))⋅2.0\n",
      "<->\n",
      "\n",
      "13 shift\n",
      "(∑((b, q, k, p, _q), w(-1.0⋅b)⋅U(q, _d_1, (-1.0⋅b+_d_2))⋅U(p, _d_1, k)⋅U(_q, _d_1, (k-1.0⋅b))'⋅S(q, _d, (-1.0⋅b+_d_2), _d_2)'⋅S(p, _q, k, (k-1.0⋅b))')+∑((b, p, k, _i, q), w(b)⋅U(q, _d_1, (b+k))⋅U(p, _d_1, (-1.0⋅b+_d_2))⋅S(_i, q, k, (b+k))⋅U(_i, _d_1, k)'⋅S(p, _d, (-1.0⋅b+_d_2), _d_2)'))⋅2.0\n",
      "Mul\n",
      "(∑((b, q, k, p, _q), w(-1.0⋅b)⋅U(q, _d_1, (-1.0⋅b+_d_2))⋅U(p, _d_1, (b+k))⋅U(_q, _d_1, k)'⋅S(q, _d, (-1.0⋅b+_d_2), _d_2)'⋅S(p, _q, (b+k), k)')+∑((b, p, k, _i, q), w(b)⋅U(q, _d_1, (b+k))⋅U(p, _d_1, (-1.0⋅b+_d_2))⋅S(_i, q, k, (b+k))⋅U(_i, _d_1, k)'⋅S(p, _d, (-1.0⋅b+_d_2), _d_2)'))⋅2.0\n",
      "<->\n",
      "\n",
      "14 sum_sym\n",
      "(∑((b, q, k, p, _q), w(-1.0⋅b)⋅U(q, _d_1, (-1.0⋅b+_d_2))⋅U(p, _d_1, (b+k))⋅U(_q, _d_1, k)'⋅S(q, _d, (-1.0⋅b+_d_2), _d_2)'⋅S(p, _q, (b+k), k)')+∑((b, p, k, _i, q), w(b)⋅U(q, _d_1, (b+k))⋅U(p, _d_1, (-1.0⋅b+_d_2))⋅S(_i, q, k, (b+k))⋅U(_i, _d_1, k)'⋅S(p, _d, (-1.0⋅b+_d_2), _d_2)'))⋅2.0\n",
      "Mul\n",
      "(∑((b, q, k, p, _q), w(b)⋅U(q, _d_1, (_d_2+b))⋅U(p, _d_1, (k-1.0⋅b))⋅U(_q, _d_1, k)'⋅S(q, _d, (_d_2+b), _d_2)'⋅S(p, _q, (k-1.0⋅b), k)')+∑((b, p, k, _i, q), w(b)⋅U(q, _d_1, (b+k))⋅U(p, _d_1, (-1.0⋅b+_d_2))⋅S(_i, q, k, (b+k))⋅U(_i, _d_1, k)'⋅S(p, _d, (-1.0⋅b+_d_2), _d_2)'))⋅2.0\n",
      "<->\n",
      "\n",
      "15 shift\n",
      "(∑((b, q, k, p, _q), w(b)⋅U(q, _d_1, (_d_2+b))⋅U(p, _d_1, (k-1.0⋅b))⋅U(_q, _d_1, k)'⋅S(q, _d, (_d_2+b), _d_2)'⋅S(p, _q, (k-1.0⋅b), k)')+∑((b, p, k, _i, q), w(b)⋅U(q, _d_1, (b+k))⋅U(p, _d_1, (-1.0⋅b+_d_2))⋅S(_i, q, k, (b+k))⋅U(_i, _d_1, k)'⋅S(p, _d, (-1.0⋅b+_d_2), _d_2)'))⋅2.0\n",
      "Mul\n",
      "(∑((b, q, k, p, _q), w(b)⋅U(q, _d_1, (_d_2+b))⋅U(p, _d_1, k)⋅U(_q, _d_1, (b+k))'⋅S(q, _d, (_d_2+b), _d_2)'⋅S(p, _q, k, (b+k))')+∑((b, p, k, _i, q), w(b)⋅U(q, _d_1, (b+k))⋅U(p, _d_1, (-1.0⋅b+_d_2))⋅S(_i, q, k, (b+k))⋅U(_i, _d_1, k)'⋅S(p, _d, (-1.0⋅b+_d_2), _d_2)'))⋅2.0\n",
      "<->\n",
      "\n"
     ]
    },
    {
     "name": "stdout",
     "output_type": "stream",
     "text": [
      "16 symmetry\n",
      "(∑((b, q, k, p, _q), w(b)⋅U(q, _d_1, (_d_2+b))⋅U(p, _d_1, k)⋅U(_q, _d_1, (b+k))'⋅S(q, _d, (_d_2+b), _d_2)'⋅S(p, _q, k, (b+k))')+∑((b, p, k, _i, q), w(b)⋅U(q, _d_1, (b+k))⋅U(p, _d_1, (-1.0⋅b+_d_2))⋅S(_i, q, k, (b+k))⋅U(_i, _d_1, k)'⋅S(p, _d, (-1.0⋅b+_d_2), _d_2)'))⋅2.0\n",
      "Mul\n",
      "(∑((b, q, k, p, _q), w(b)⋅U(q, _d_1, (_d_2+b))⋅U(p, _d_1, k)⋅S(_q, p, (b+k), k)⋅U(_q, _d_1, (b+k))'⋅S(q, _d, (_d_2+b), _d_2)')+∑((b, p, k, _i, q), w(b)⋅U(q, _d_1, (b+k))⋅U(p, _d_1, (-1.0⋅b+_d_2))⋅S(_i, q, k, (b+k))⋅U(_i, _d_1, k)'⋅S(p, _d, (-1.0⋅b+_d_2), _d_2)'))⋅2.0\n",
      "<->\n",
      "\n",
      "17 shift\n",
      "(∑((b, q, k, p, _q), w(b)⋅U(q, _d_1, (_d_2+b))⋅U(p, _d_1, k)⋅S(_q, p, (b+k), k)⋅U(_q, _d_1, (b+k))'⋅S(q, _d, (_d_2+b), _d_2)')+∑((b, p, k, _i, q), w(b)⋅U(q, _d_1, (b+k))⋅U(p, _d_1, (-1.0⋅b+_d_2))⋅S(_i, q, k, (b+k))⋅U(_i, _d_1, k)'⋅S(p, _d, (-1.0⋅b+_d_2), _d_2)'))⋅2.0\n",
      "Mul\n",
      "(∑((b, q, k, p, _q), w(b)⋅U(q, _d_1, (_d_2+b))⋅U(p, _d_1, (k-1.0⋅b))⋅S(_q, p, k, (k-1.0⋅b))⋅U(_q, _d_1, k)'⋅S(q, _d, (_d_2+b), _d_2)')+∑((b, p, k, _i, q), w(b)⋅U(q, _d_1, (b+k))⋅U(p, _d_1, (-1.0⋅b+_d_2))⋅S(_i, q, k, (b+k))⋅U(_i, _d_1, k)'⋅S(p, _d, (-1.0⋅b+_d_2), _d_2)'))⋅2.0\n",
      "<->\n",
      "\n",
      "18 sum_sym\n",
      "(∑((b, q, k, p, _q), w(b)⋅U(q, _d_1, (_d_2+b))⋅U(p, _d_1, (k-1.0⋅b))⋅S(_q, p, k, (k-1.0⋅b))⋅U(_q, _d_1, k)'⋅S(q, _d, (_d_2+b), _d_2)')+∑((b, p, k, _i, q), w(b)⋅U(q, _d_1, (b+k))⋅U(p, _d_1, (-1.0⋅b+_d_2))⋅S(_i, q, k, (b+k))⋅U(_i, _d_1, k)'⋅S(p, _d, (-1.0⋅b+_d_2), _d_2)'))⋅2.0\n",
      "Mul\n",
      "(∑((b, q, k, p, _q), w(-1.0⋅b)⋅U(q, _d_1, (-1.0⋅b+_d_2))⋅U(p, _d_1, (b+k))⋅S(_q, p, k, (b+k))⋅U(_q, _d_1, k)'⋅S(q, _d, (-1.0⋅b+_d_2), _d_2)')+∑((b, p, k, _i, q), w(b)⋅U(q, _d_1, (b+k))⋅U(p, _d_1, (-1.0⋅b+_d_2))⋅S(_i, q, k, (b+k))⋅U(_i, _d_1, k)'⋅S(p, _d, (-1.0⋅b+_d_2), _d_2)'))⋅2.0\n",
      "<->\n",
      "\n",
      "19 shift\n",
      "(∑((b, q, k, p, _q), w(-1.0⋅b)⋅U(q, _d_1, (-1.0⋅b+_d_2))⋅U(p, _d_1, (b+k))⋅S(_q, p, k, (b+k))⋅U(_q, _d_1, k)'⋅S(q, _d, (-1.0⋅b+_d_2), _d_2)')+∑((b, p, k, _i, q), w(b)⋅U(q, _d_1, (b+k))⋅U(p, _d_1, (-1.0⋅b+_d_2))⋅S(_i, q, k, (b+k))⋅U(_i, _d_1, k)'⋅S(p, _d, (-1.0⋅b+_d_2), _d_2)'))⋅2.0\n",
      "Mul\n",
      "(∑((b, q, k, p, _q), w(-1.0⋅b)⋅U(q, _d_1, (-1.0⋅b+_d_2))⋅U(p, _d_1, k)⋅S(_q, p, (k-1.0⋅b), k)⋅U(_q, _d_1, (k-1.0⋅b))'⋅S(q, _d, (-1.0⋅b+_d_2), _d_2)')+∑((b, p, k, _i, q), w(b)⋅U(q, _d_1, (b+k))⋅U(p, _d_1, (-1.0⋅b+_d_2))⋅S(_i, q, k, (b+k))⋅U(_i, _d_1, k)'⋅S(p, _d, (-1.0⋅b+_d_2), _d_2)'))⋅2.0\n",
      "<->\n",
      "\n",
      "20 symmetry\n",
      "(∑((b, q, k, p, _q), w(-1.0⋅b)⋅U(q, _d_1, (-1.0⋅b+_d_2))⋅U(p, _d_1, k)⋅S(_q, p, (k-1.0⋅b), k)⋅U(_q, _d_1, (k-1.0⋅b))'⋅S(q, _d, (-1.0⋅b+_d_2), _d_2)')+∑((b, p, k, _i, q), w(b)⋅U(q, _d_1, (b+k))⋅U(p, _d_1, (-1.0⋅b+_d_2))⋅S(_i, q, k, (b+k))⋅U(_i, _d_1, k)'⋅S(p, _d, (-1.0⋅b+_d_2), _d_2)'))⋅2.0\n",
      "Mul\n",
      "(∑((b, q, k, p, _q), w(b)⋅U(q, _d_1, (-1.0⋅b+_d_2))⋅U(p, _d_1, k)⋅S(_q, p, (k-1.0⋅b), k)⋅U(_q, _d_1, (k-1.0⋅b))'⋅S(q, _d, (-1.0⋅b+_d_2), _d_2)')+∑((b, p, k, _i, q), w(b)⋅U(q, _d_1, (b+k))⋅U(p, _d_1, (-1.0⋅b+_d_2))⋅S(_i, q, k, (b+k))⋅U(_i, _d_1, k)'⋅S(p, _d, (-1.0⋅b+_d_2), _d_2)'))⋅2.0\n",
      "<->\n",
      "\n",
      "21 shift\n",
      "(∑((b, q, k, p, _q), w(b)⋅U(q, _d_1, (-1.0⋅b+_d_2))⋅U(p, _d_1, k)⋅S(_q, p, (k-1.0⋅b), k)⋅U(_q, _d_1, (k-1.0⋅b))'⋅S(q, _d, (-1.0⋅b+_d_2), _d_2)')+∑((b, p, k, _i, q), w(b)⋅U(q, _d_1, (b+k))⋅U(p, _d_1, (-1.0⋅b+_d_2))⋅S(_i, q, k, (b+k))⋅U(_i, _d_1, k)'⋅S(p, _d, (-1.0⋅b+_d_2), _d_2)'))⋅2.0\n",
      "Mul\n",
      "∑((b, p, k, _i, q), w(b)⋅U(q, _d_1, (b+k))⋅U(p, _d_1, (-1.0⋅b+_d_2))⋅S(_i, q, k, (b+k))⋅U(_i, _d_1, k)'⋅S(p, _d, (-1.0⋅b+_d_2), _d_2)')⋅4.0\n",
      "<->\n",
      "\n",
      "22 sum_in\n",
      "∑((b, p, k, _i, q), w(b)⋅U(q, _d_1, (b+k))⋅U(p, _d_1, (-1.0⋅b+_d_2))⋅S(_i, q, k, (b+k))⋅U(_i, _d_1, k)'⋅S(p, _d, (-1.0⋅b+_d_2), _d_2)')⋅4.0\n",
      "Sum\n",
      "∑((b, p, k, _i, q), 4.0⋅w(b)⋅U(q, _d_1, (b+k))⋅U(p, _d_1, (-1.0⋅b+_d_2))⋅S(_i, q, k, (b+k))⋅U(_i, _d_1, k)'⋅S(p, _d, (-1.0⋅b+_d_2), _d_2)')\n",
      "-->\n",
      "\n",
      "23 shift\n",
      "∑((b, p, k, _i, q), 4.0⋅w(b)⋅U(q, _d_1, (b+k))⋅U(p, _d_1, (-1.0⋅b+_d_2))⋅S(_i, q, k, (b+k))⋅U(_i, _d_1, k)'⋅S(p, _d, (-1.0⋅b+_d_2), _d_2)')\n",
      "Sum\n",
      "∑((b, p, k, _i, q), 4.0⋅w(b)⋅U(q, _d_1, k)⋅U(p, _d_1, (-1.0⋅b+_d_2))⋅S(_i, q, (k-1.0⋅b), k)⋅U(_i, _d_1, (k-1.0⋅b))'⋅S(p, _d, (-1.0⋅b+_d_2), _d_2)')\n",
      "<->\n",
      "\n",
      "24 sum_sym\n",
      "∑((b, p, k, _i, q), 4.0⋅w(b)⋅U(q, _d_1, k)⋅U(p, _d_1, (-1.0⋅b+_d_2))⋅S(_i, q, (k-1.0⋅b), k)⋅U(_i, _d_1, (k-1.0⋅b))'⋅S(p, _d, (-1.0⋅b+_d_2), _d_2)')\n",
      "Sum\n",
      "∑((b, p, k, _i, q), 4.0⋅w(-1.0⋅b)⋅U(q, _d_1, k)⋅U(p, _d_1, (_d_2+b))⋅S(_i, q, (b+k), k)⋅U(_i, _d_1, (b+k))'⋅S(p, _d, (_d_2+b), _d_2)')\n",
      "<->\n",
      "\n",
      "25 shift\n",
      "∑((b, p, k, _i, q), 4.0⋅w(-1.0⋅b)⋅U(q, _d_1, k)⋅U(p, _d_1, (_d_2+b))⋅S(_i, q, (b+k), k)⋅U(_i, _d_1, (b+k))'⋅S(p, _d, (_d_2+b), _d_2)')\n",
      "Sum\n",
      "∑((b, p, k, _i, q), 4.0⋅w(-1.0⋅b)⋅U(q, _d_1, (k-1.0⋅b))⋅U(p, _d_1, (_d_2+b))⋅S(_i, q, k, (k-1.0⋅b))⋅U(_i, _d_1, k)'⋅S(p, _d, (_d_2+b), _d_2)')\n",
      "<->\n",
      "\n",
      "26 symmetry\n",
      "∑((b, p, k, _i, q), 4.0⋅w(-1.0⋅b)⋅U(q, _d_1, (k-1.0⋅b))⋅U(p, _d_1, (_d_2+b))⋅S(_i, q, k, (k-1.0⋅b))⋅U(_i, _d_1, k)'⋅S(p, _d, (_d_2+b), _d_2)')\n",
      "Sum\n",
      "∑((b, p, k, _i, q), 4.0⋅w(b)⋅U(q, _d_1, (k-1.0⋅b))⋅U(p, _d_1, (_d_2+b))⋅S(_i, q, k, (k-1.0⋅b))⋅U(_i, _d_1, k)'⋅S(p, _d, (_d_2+b), _d_2)')\n",
      "<->\n",
      "\n",
      "27 shift\n",
      "∑((b, p, k, _i, q), 4.0⋅w(b)⋅U(q, _d_1, (k-1.0⋅b))⋅U(p, _d_1, (_d_2+b))⋅S(_i, q, k, (k-1.0⋅b))⋅U(_i, _d_1, k)'⋅S(p, _d, (_d_2+b), _d_2)')\n",
      "Sum\n",
      "∑((b, p, k, _i, q), 4.0⋅w(b)⋅U(q, _d_1, k)⋅U(p, _d_1, (_d_2+b))⋅S(_i, q, (b+k), k)⋅U(_i, _d_1, (b+k))'⋅S(p, _d, (_d_2+b), _d_2)')\n",
      "<->\n",
      "\n",
      "28 sum_sym\n",
      "∑((b, p, k, _i, q), 4.0⋅w(b)⋅U(q, _d_1, k)⋅U(p, _d_1, (_d_2+b))⋅S(_i, q, (b+k), k)⋅U(_i, _d_1, (b+k))'⋅S(p, _d, (_d_2+b), _d_2)')\n",
      "Sum\n",
      "∑((b, p, k, _i, q), 4.0⋅w(-1.0⋅b)⋅U(q, _d_1, k)⋅U(p, _d_1, (-1.0⋅b+_d_2))⋅S(_i, q, (k-1.0⋅b), k)⋅U(_i, _d_1, (k-1.0⋅b))'⋅S(p, _d, (-1.0⋅b+_d_2), _d_2)')\n",
      "<->\n",
      "\n",
      "29 shift\n",
      "∑((b, p, k, _i, q), 4.0⋅w(-1.0⋅b)⋅U(q, _d_1, k)⋅U(p, _d_1, (-1.0⋅b+_d_2))⋅S(_i, q, (k-1.0⋅b), k)⋅U(_i, _d_1, (k-1.0⋅b))'⋅S(p, _d, (-1.0⋅b+_d_2), _d_2)')\n",
      "Sum\n",
      "∑((b, p, k, _i, q), 4.0⋅w(-1.0⋅b)⋅U(q, _d_1, (b+k))⋅U(p, _d_1, (-1.0⋅b+_d_2))⋅S(_i, q, k, (b+k))⋅U(_i, _d_1, k)'⋅S(p, _d, (-1.0⋅b+_d_2), _d_2)')\n",
      "<->\n",
      "\n",
      "30 symmetry\n",
      "∑((b, p, k, _i, q), 4.0⋅w(-1.0⋅b)⋅U(q, _d_1, (b+k))⋅U(p, _d_1, (-1.0⋅b+_d_2))⋅S(_i, q, k, (b+k))⋅U(_i, _d_1, k)'⋅S(p, _d, (-1.0⋅b+_d_2), _d_2)')\n",
      "Sum\n",
      "∑((b, p, k, _i, q), 4.0⋅w(-1.0⋅b)⋅U(q, _d_1, (b+k))⋅U(p, _d_1, (-1.0⋅b+_d_2))⋅U(_i, _d_1, k)'⋅S(q, _i, (b+k), k)'⋅S(p, _d, (-1.0⋅b+_d_2), _d_2)')\n",
      "<->\n",
      "\n",
      "31 shift\n",
      "∑((b, p, k, _i, q), 4.0⋅w(-1.0⋅b)⋅U(q, _d_1, (b+k))⋅U(p, _d_1, (-1.0⋅b+_d_2))⋅U(_i, _d_1, k)'⋅S(q, _i, (b+k), k)'⋅S(p, _d, (-1.0⋅b+_d_2), _d_2)')\n",
      "Sum\n",
      "∑((b, p, k, _i, q), 4.0⋅w(-1.0⋅b)⋅U(q, _d_1, k)⋅U(p, _d_1, (-1.0⋅b+_d_2))⋅U(_i, _d_1, (k-1.0⋅b))'⋅S(q, _i, k, (k-1.0⋅b))'⋅S(p, _d, (-1.0⋅b+_d_2), _d_2)')\n",
      "<->\n",
      "\n",
      "32 sum_sym\n",
      "∑((b, p, k, _i, q), 4.0⋅w(-1.0⋅b)⋅U(q, _d_1, k)⋅U(p, _d_1, (-1.0⋅b+_d_2))⋅U(_i, _d_1, (k-1.0⋅b))'⋅S(q, _i, k, (k-1.0⋅b))'⋅S(p, _d, (-1.0⋅b+_d_2), _d_2)')\n",
      "Sum\n",
      "∑((b, p, k, _i, q), 4.0⋅w(b)⋅U(q, _d_1, k)⋅U(p, _d_1, (_d_2+b))⋅U(_i, _d_1, (b+k))'⋅S(q, _i, k, (b+k))'⋅S(p, _d, (_d_2+b), _d_2)')\n",
      "<->\n",
      "\n",
      "33 shift\n",
      "∑((b, p, k, _i, q), 4.0⋅w(b)⋅U(q, _d_1, k)⋅U(p, _d_1, (_d_2+b))⋅U(_i, _d_1, (b+k))'⋅S(q, _i, k, (b+k))'⋅S(p, _d, (_d_2+b), _d_2)')\n",
      "Sum\n",
      "∑((b, p, k, _i, q), 4.0⋅w(b)⋅U(q, _d_1, (k-1.0⋅b))⋅U(p, _d_1, (_d_2+b))⋅U(_i, _d_1, k)'⋅S(q, _i, (k-1.0⋅b), k)'⋅S(p, _d, (_d_2+b), _d_2)')\n",
      "<->\n",
      "\n",
      "34 symmetry\n",
      "∑((b, p, k, _i, q), 4.0⋅w(b)⋅U(q, _d_1, (k-1.0⋅b))⋅U(p, _d_1, (_d_2+b))⋅U(_i, _d_1, k)'⋅S(q, _i, (k-1.0⋅b), k)'⋅S(p, _d, (_d_2+b), _d_2)')\n",
      "Sum\n",
      "∑((b, p, k, _i, q), 4.0⋅w(-1.0⋅b)⋅U(q, _d_1, (k-1.0⋅b))⋅U(p, _d_1, (_d_2+b))⋅U(_i, _d_1, k)'⋅S(q, _i, (k-1.0⋅b), k)'⋅S(p, _d, (_d_2+b), _d_2)')\n",
      "<->\n",
      "\n",
      "35 shift\n",
      "∑((b, p, k, _i, q), 4.0⋅w(-1.0⋅b)⋅U(q, _d_1, (k-1.0⋅b))⋅U(p, _d_1, (_d_2+b))⋅U(_i, _d_1, k)'⋅S(q, _i, (k-1.0⋅b), k)'⋅S(p, _d, (_d_2+b), _d_2)')\n",
      "Sum\n",
      "∑((b, p, k, _i, q), 4.0⋅w(-1.0⋅b)⋅U(q, _d_1, k)⋅U(p, _d_1, (_d_2+b))⋅U(_i, _d_1, (b+k))'⋅S(q, _i, k, (b+k))'⋅S(p, _d, (_d_2+b), _d_2)')\n",
      "<->\n",
      "\n",
      "36 sum_sym\n",
      "∑((b, p, k, _i, q), 4.0⋅w(-1.0⋅b)⋅U(q, _d_1, k)⋅U(p, _d_1, (_d_2+b))⋅U(_i, _d_1, (b+k))'⋅S(q, _i, k, (b+k))'⋅S(p, _d, (_d_2+b), _d_2)')\n",
      "Sum\n",
      "∑((b, p, k, _i, q), 4.0⋅w(b)⋅U(q, _d_1, k)⋅U(p, _d_1, (-1.0⋅b+_d_2))⋅U(_i, _d_1, (k-1.0⋅b))'⋅S(q, _i, k, (k-1.0⋅b))'⋅S(p, _d, (-1.0⋅b+_d_2), _d_2)')\n",
      "<->\n",
      "\n",
      "37 shift\n",
      "∑((b, p, k, _i, q), 4.0⋅w(b)⋅U(q, _d_1, k)⋅U(p, _d_1, (-1.0⋅b+_d_2))⋅U(_i, _d_1, (k-1.0⋅b))'⋅S(q, _i, k, (k-1.0⋅b))'⋅S(p, _d, (-1.0⋅b+_d_2), _d_2)')\n",
      "Sum\n",
      "∑((b, p, k, _i, q), 4.0⋅w(b)⋅U(q, _d_1, (b+k))⋅U(p, _d_1, (-1.0⋅b+_d_2))⋅U(_i, _d_1, k)'⋅S(q, _i, (b+k), k)'⋅S(p, _d, (-1.0⋅b+_d_2), _d_2)')\n",
      "<->\n",
      "\n",
      "38 symmetry\n",
      "∑((b, p, k, _i, q), 4.0⋅w(b)⋅U(q, _d_1, (b+k))⋅U(p, _d_1, (-1.0⋅b+_d_2))⋅U(_i, _d_1, k)'⋅S(q, _i, (b+k), k)'⋅S(p, _d, (-1.0⋅b+_d_2), _d_2)')\n",
      "Sum\n",
      "∑((b, p, k, _i, q), 4.0⋅w(b)⋅U(q, _d_1, (b+k))⋅U(p, _d_1, (-1.0⋅b+_d_2))⋅S(_d, p, _d_2, (-1.0⋅b+_d_2))⋅U(_i, _d_1, k)'⋅S(q, _i, (b+k), k)')\n",
      "<->\n",
      "\n"
     ]
    },
    {
     "name": "stdout",
     "output_type": "stream",
     "text": [
      "39 shift\n",
      "∑((b, p, k, _i, q), 4.0⋅w(b)⋅U(q, _d_1, (b+k))⋅U(p, _d_1, (-1.0⋅b+_d_2))⋅S(_d, p, _d_2, (-1.0⋅b+_d_2))⋅U(_i, _d_1, k)'⋅S(q, _i, (b+k), k)')\n",
      "Sum\n",
      "∑((b, p, k, _i, q), 4.0⋅w(b)⋅U(q, _d_1, k)⋅U(p, _d_1, (-1.0⋅b+_d_2))⋅S(_d, p, _d_2, (-1.0⋅b+_d_2))⋅U(_i, _d_1, (k-1.0⋅b))'⋅S(q, _i, k, (k-1.0⋅b))')\n",
      "<->\n",
      "\n",
      "40 sum_sym\n",
      "∑((b, p, k, _i, q), 4.0⋅w(b)⋅U(q, _d_1, k)⋅U(p, _d_1, (-1.0⋅b+_d_2))⋅S(_d, p, _d_2, (-1.0⋅b+_d_2))⋅U(_i, _d_1, (k-1.0⋅b))'⋅S(q, _i, k, (k-1.0⋅b))')\n",
      "Sum\n",
      "∑((b, p, k, _i, q), 4.0⋅w(-1.0⋅b)⋅U(q, _d_1, k)⋅U(p, _d_1, (_d_2+b))⋅S(_d, p, _d_2, (_d_2+b))⋅U(_i, _d_1, (b+k))'⋅S(q, _i, k, (b+k))')\n",
      "<->\n",
      "\n",
      "41 shift\n",
      "∑((b, p, k, _i, q), 4.0⋅w(-1.0⋅b)⋅U(q, _d_1, k)⋅U(p, _d_1, (_d_2+b))⋅S(_d, p, _d_2, (_d_2+b))⋅U(_i, _d_1, (b+k))'⋅S(q, _i, k, (b+k))')\n",
      "Sum\n",
      "∑((b, p, k, _i, q), 4.0⋅w(-1.0⋅b)⋅U(q, _d_1, (k-1.0⋅b))⋅U(p, _d_1, (_d_2+b))⋅S(_d, p, _d_2, (_d_2+b))⋅U(_i, _d_1, k)'⋅S(q, _i, (k-1.0⋅b), k)')\n",
      "<->\n",
      "\n",
      "42 symmetry\n",
      "∑((b, p, k, _i, q), 4.0⋅w(-1.0⋅b)⋅U(q, _d_1, (k-1.0⋅b))⋅U(p, _d_1, (_d_2+b))⋅S(_d, p, _d_2, (_d_2+b))⋅U(_i, _d_1, k)'⋅S(q, _i, (k-1.0⋅b), k)')\n",
      "Sum\n",
      "∑((b, p, k, _i, q), 4.0⋅w(b)⋅U(q, _d_1, (k-1.0⋅b))⋅U(p, _d_1, (_d_2+b))⋅S(_d, p, _d_2, (_d_2+b))⋅U(_i, _d_1, k)'⋅S(q, _i, (k-1.0⋅b), k)')\n",
      "<->\n",
      "\n",
      "43 shift\n",
      "∑((b, p, k, _i, q), 4.0⋅w(b)⋅U(q, _d_1, (k-1.0⋅b))⋅U(p, _d_1, (_d_2+b))⋅S(_d, p, _d_2, (_d_2+b))⋅U(_i, _d_1, k)'⋅S(q, _i, (k-1.0⋅b), k)')\n",
      "Sum\n",
      "∑((b, p, k, _i, q), 4.0⋅w(b)⋅U(q, _d_1, k)⋅U(p, _d_1, (_d_2+b))⋅S(_d, p, _d_2, (_d_2+b))⋅U(_i, _d_1, (b+k))'⋅S(q, _i, k, (b+k))')\n",
      "<->\n",
      "\n",
      "44 sum_sym\n",
      "∑((b, p, k, _i, q), 4.0⋅w(b)⋅U(q, _d_1, k)⋅U(p, _d_1, (_d_2+b))⋅S(_d, p, _d_2, (_d_2+b))⋅U(_i, _d_1, (b+k))'⋅S(q, _i, k, (b+k))')\n",
      "Sum\n",
      "∑((b, p, k, _i, q), 4.0⋅w(-1.0⋅b)⋅U(q, _d_1, k)⋅U(p, _d_1, (-1.0⋅b+_d_2))⋅S(_d, p, _d_2, (-1.0⋅b+_d_2))⋅U(_i, _d_1, (k-1.0⋅b))'⋅S(q, _i, k, (k-1.0⋅b))')\n",
      "<->\n",
      "\n",
      "45 shift\n",
      "∑((b, p, k, _i, q), 4.0⋅w(-1.0⋅b)⋅U(q, _d_1, k)⋅U(p, _d_1, (-1.0⋅b+_d_2))⋅S(_d, p, _d_2, (-1.0⋅b+_d_2))⋅U(_i, _d_1, (k-1.0⋅b))'⋅S(q, _i, k, (k-1.0⋅b))')\n",
      "Sum\n",
      "∑((b, p, k, _i, q), 4.0⋅w(-1.0⋅b)⋅U(q, _d_1, (b+k))⋅U(p, _d_1, (-1.0⋅b+_d_2))⋅S(_d, p, _d_2, (-1.0⋅b+_d_2))⋅U(_i, _d_1, k)'⋅S(q, _i, (b+k), k)')\n",
      "<->\n",
      "\n",
      "46 symmetry\n",
      "∑((b, p, k, _i, q), 4.0⋅w(-1.0⋅b)⋅U(q, _d_1, (b+k))⋅U(p, _d_1, (-1.0⋅b+_d_2))⋅S(_d, p, _d_2, (-1.0⋅b+_d_2))⋅U(_i, _d_1, k)'⋅S(q, _i, (b+k), k)')\n",
      "Sum\n",
      "∑((b, p, k, _i, q), 4.0⋅w(-1.0⋅b)⋅U(q, _d_1, (b+k))⋅U(p, _d_1, (-1.0⋅b+_d_2))⋅S(_d, p, _d_2, (-1.0⋅b+_d_2))⋅S(_i, q, k, (b+k))⋅U(_i, _d_1, k)')\n",
      "<->\n",
      "\n",
      "47 shift\n",
      "∑((b, p, k, _i, q), 4.0⋅w(-1.0⋅b)⋅U(q, _d_1, (b+k))⋅U(p, _d_1, (-1.0⋅b+_d_2))⋅S(_d, p, _d_2, (-1.0⋅b+_d_2))⋅S(_i, q, k, (b+k))⋅U(_i, _d_1, k)')\n",
      "Sum\n",
      "∑((b, p, k, _i, q), 4.0⋅w(-1.0⋅b)⋅U(q, _d_1, k)⋅U(p, _d_1, (-1.0⋅b+_d_2))⋅S(_d, p, _d_2, (-1.0⋅b+_d_2))⋅S(_i, q, (k-1.0⋅b), k)⋅U(_i, _d_1, (k-1.0⋅b))')\n",
      "<->\n",
      "\n",
      "48 sum_sym\n",
      "∑((b, p, k, _i, q), 4.0⋅w(-1.0⋅b)⋅U(q, _d_1, k)⋅U(p, _d_1, (-1.0⋅b+_d_2))⋅S(_d, p, _d_2, (-1.0⋅b+_d_2))⋅S(_i, q, (k-1.0⋅b), k)⋅U(_i, _d_1, (k-1.0⋅b))')\n",
      "Sum\n",
      "∑((b, p, k, _i, q), 4.0⋅w(b)⋅U(q, _d_1, k)⋅U(p, _d_1, (_d_2+b))⋅S(_d, p, _d_2, (_d_2+b))⋅S(_i, q, (b+k), k)⋅U(_i, _d_1, (b+k))')\n",
      "<->\n",
      "\n",
      "49 shift\n",
      "∑((b, p, k, _i, q), 4.0⋅w(b)⋅U(q, _d_1, k)⋅U(p, _d_1, (_d_2+b))⋅S(_d, p, _d_2, (_d_2+b))⋅S(_i, q, (b+k), k)⋅U(_i, _d_1, (b+k))')\n",
      "Sum\n",
      "∑((b, p, k, _i, q), 4.0⋅w(b)⋅U(q, _d_1, (k-1.0⋅b))⋅U(p, _d_1, (_d_2+b))⋅S(_d, p, _d_2, (_d_2+b))⋅S(_i, q, k, (k-1.0⋅b))⋅U(_i, _d_1, k)')\n",
      "<->\n",
      "\n",
      "50 symmetry\n",
      "∑((b, p, k, _i, q), 4.0⋅w(b)⋅U(q, _d_1, (k-1.0⋅b))⋅U(p, _d_1, (_d_2+b))⋅S(_d, p, _d_2, (_d_2+b))⋅S(_i, q, k, (k-1.0⋅b))⋅U(_i, _d_1, k)')\n",
      "Sum\n",
      "∑((b, p, k, _i, q), 4.0⋅w(-1.0⋅b)⋅U(q, _d_1, (k-1.0⋅b))⋅U(p, _d_1, (_d_2+b))⋅S(_d, p, _d_2, (_d_2+b))⋅S(_i, q, k, (k-1.0⋅b))⋅U(_i, _d_1, k)')\n",
      "<->\n",
      "\n",
      "51 shift\n",
      "∑((b, p, k, _i, q), 4.0⋅w(-1.0⋅b)⋅U(q, _d_1, (k-1.0⋅b))⋅U(p, _d_1, (_d_2+b))⋅S(_d, p, _d_2, (_d_2+b))⋅S(_i, q, k, (k-1.0⋅b))⋅U(_i, _d_1, k)')\n",
      "Sum\n",
      "∑((b, p, k, _i, q), 4.0⋅w(-1.0⋅b)⋅U(q, _d_1, k)⋅U(p, _d_1, (_d_2+b))⋅S(_d, p, _d_2, (_d_2+b))⋅S(_i, q, (b+k), k)⋅U(_i, _d_1, (b+k))')\n",
      "<->\n",
      "\n",
      "52 sum_sym\n",
      "∑((b, p, k, _i, q), 4.0⋅w(-1.0⋅b)⋅U(q, _d_1, k)⋅U(p, _d_1, (_d_2+b))⋅S(_d, p, _d_2, (_d_2+b))⋅S(_i, q, (b+k), k)⋅U(_i, _d_1, (b+k))')\n",
      "Sum\n",
      "∑((b, p, k, _i, q), 4.0⋅w(b)⋅U(q, _d_1, k)⋅U(p, _d_1, (-1.0⋅b+_d_2))⋅S(_d, p, _d_2, (-1.0⋅b+_d_2))⋅S(_i, q, (k-1.0⋅b), k)⋅U(_i, _d_1, (k-1.0⋅b))')\n",
      "<->\n",
      "\n",
      "53 shift\n",
      "∑((b, p, k, _i, q), 4.0⋅w(b)⋅U(q, _d_1, k)⋅U(p, _d_1, (-1.0⋅b+_d_2))⋅S(_d, p, _d_2, (-1.0⋅b+_d_2))⋅S(_i, q, (k-1.0⋅b), k)⋅U(_i, _d_1, (k-1.0⋅b))')\n",
      "Sum\n",
      "∑((b, p, k, _i, q), 4.0⋅w(b)⋅U(q, _d_1, (b+k))⋅U(p, _d_1, (-1.0⋅b+_d_2))⋅S(_d, p, _d_2, (-1.0⋅b+_d_2))⋅S(_i, q, k, (b+k))⋅U(_i, _d_1, k)')\n",
      "<->\n",
      "\n",
      "54 sum_sym\n",
      "∑((b, p, k, _i, q), 4.0⋅w(-1.0⋅b)⋅U(q, _d_1, (k-1.0⋅b))⋅U(p, _d_1, (_d_2+b))⋅S(_d, p, _d_2, (_d_2+b))⋅S(_i, q, k, (k-1.0⋅b))⋅U(_i, _d_1, k)')\n",
      "Sum\n",
      "∑((b, p, k, _i, q), 4.0⋅w(b)⋅U(q, _d_1, (b+k))⋅U(p, _d_1, (-1.0⋅b+_d_2))⋅S(_d, p, _d_2, (-1.0⋅b+_d_2))⋅S(_i, q, k, (b+k))⋅U(_i, _d_1, k)')\n",
      "<->\n",
      "\n",
      "55 symmetry\n",
      "∑((b, p, k, _i, q), 4.0⋅w(b)⋅U(q, _d_1, k)⋅U(p, _d_1, (_d_2+b))⋅S(_d, p, _d_2, (_d_2+b))⋅S(_i, q, (b+k), k)⋅U(_i, _d_1, (b+k))')\n",
      "Sum\n",
      "∑((b, p, k, _i, q), 4.0⋅w(-1.0⋅b)⋅U(q, _d_1, k)⋅U(p, _d_1, (_d_2+b))⋅S(_d, p, _d_2, (_d_2+b))⋅S(_i, q, (b+k), k)⋅U(_i, _d_1, (b+k))')\n",
      "<->\n",
      "\n",
      "56 symmetry\n",
      "∑((b, p, k, _i, q), 4.0⋅w(-1.0⋅b)⋅U(q, _d_1, k)⋅U(p, _d_1, (-1.0⋅b+_d_2))⋅S(_d, p, _d_2, (-1.0⋅b+_d_2))⋅S(_i, q, (k-1.0⋅b), k)⋅U(_i, _d_1, (k-1.0⋅b))')\n",
      "Sum\n",
      "∑((b, p, k, _i, q), 4.0⋅w(b)⋅U(q, _d_1, k)⋅U(p, _d_1, (-1.0⋅b+_d_2))⋅S(_d, p, _d_2, (-1.0⋅b+_d_2))⋅S(_i, q, (k-1.0⋅b), k)⋅U(_i, _d_1, (k-1.0⋅b))')\n",
      "<->\n",
      "\n",
      "57 sum_sym\n",
      "∑((b, p, k, _i, q), 4.0⋅w(-1.0⋅b)⋅U(q, _d_1, (b+k))⋅U(p, _d_1, (-1.0⋅b+_d_2))⋅S(_d, p, _d_2, (-1.0⋅b+_d_2))⋅S(_i, q, k, (b+k))⋅U(_i, _d_1, k)')\n",
      "Sum\n",
      "∑((b, p, k, _i, q), 4.0⋅w(b)⋅U(q, _d_1, (k-1.0⋅b))⋅U(p, _d_1, (_d_2+b))⋅S(_d, p, _d_2, (_d_2+b))⋅S(_i, q, k, (k-1.0⋅b))⋅U(_i, _d_1, k)')\n",
      "<->\n",
      "\n",
      "58 symmetry\n",
      "∑((b, p, k, _i, q), 4.0⋅w(-1.0⋅b)⋅U(q, _d_1, (b+k))⋅U(p, _d_1, (-1.0⋅b+_d_2))⋅S(_d, p, _d_2, (-1.0⋅b+_d_2))⋅S(_i, q, k, (b+k))⋅U(_i, _d_1, k)')\n",
      "Sum\n",
      "∑((b, p, k, _i, q), 4.0⋅w(b)⋅U(q, _d_1, (b+k))⋅U(p, _d_1, (-1.0⋅b+_d_2))⋅S(_d, p, _d_2, (-1.0⋅b+_d_2))⋅S(_i, q, k, (b+k))⋅U(_i, _d_1, k)')\n",
      "<->\n",
      "\n",
      "59 symmetry\n",
      "∑((b, p, k, _i, q), 4.0⋅w(-1.0⋅b)⋅U(q, _d_1, k)⋅U(p, _d_1, (-1.0⋅b+_d_2))⋅S(_d, p, _d_2, (-1.0⋅b+_d_2))⋅U(_i, _d_1, (k-1.0⋅b))'⋅S(q, _i, k, (k-1.0⋅b))')\n",
      "Sum\n",
      "∑((b, p, k, _i, q), 4.0⋅w(-1.0⋅b)⋅U(q, _d_1, k)⋅U(p, _d_1, (-1.0⋅b+_d_2))⋅S(_d, p, _d_2, (-1.0⋅b+_d_2))⋅S(_i, q, (k-1.0⋅b), k)⋅U(_i, _d_1, (k-1.0⋅b))')\n",
      "<->\n",
      "\n",
      "60 symmetry\n",
      "∑((b, p, k, _i, q), 4.0⋅w(b)⋅U(q, _d_1, k)⋅U(p, _d_1, (_d_2+b))⋅S(_d, p, _d_2, (_d_2+b))⋅U(_i, _d_1, (b+k))'⋅S(q, _i, k, (b+k))')\n",
      "Sum\n",
      "∑((b, p, k, _i, q), 4.0⋅w(b)⋅U(q, _d_1, k)⋅U(p, _d_1, (_d_2+b))⋅S(_d, p, _d_2, (_d_2+b))⋅S(_i, q, (b+k), k)⋅U(_i, _d_1, (b+k))')\n",
      "<->\n",
      "\n",
      "61 sum_sym\n",
      "∑((b, p, k, _i, q), 4.0⋅w(b)⋅U(q, _d_1, (k-1.0⋅b))⋅U(p, _d_1, (_d_2+b))⋅S(_d, p, _d_2, (_d_2+b))⋅U(_i, _d_1, k)'⋅S(q, _i, (k-1.0⋅b), k)')\n",
      "Sum\n",
      "∑((b, p, k, _i, q), 4.0⋅w(-1.0⋅b)⋅U(q, _d_1, (b+k))⋅U(p, _d_1, (-1.0⋅b+_d_2))⋅S(_d, p, _d_2, (-1.0⋅b+_d_2))⋅U(_i, _d_1, k)'⋅S(q, _i, (b+k), k)')\n",
      "<->\n",
      "\n",
      "62 symmetry\n",
      "∑((b, p, k, _i, q), 4.0⋅w(b)⋅U(q, _d_1, (k-1.0⋅b))⋅U(p, _d_1, (_d_2+b))⋅S(_d, p, _d_2, (_d_2+b))⋅U(_i, _d_1, k)'⋅S(q, _i, (k-1.0⋅b), k)')\n",
      "Sum\n",
      "∑((b, p, k, _i, q), 4.0⋅w(b)⋅U(q, _d_1, (k-1.0⋅b))⋅U(p, _d_1, (_d_2+b))⋅S(_d, p, _d_2, (_d_2+b))⋅S(_i, q, k, (k-1.0⋅b))⋅U(_i, _d_1, k)')\n",
      "<->\n",
      "\n",
      "63 symmetry\n",
      "∑((b, p, k, _i, q), 4.0⋅w(-1.0⋅b)⋅U(q, _d_1, (k-1.0⋅b))⋅U(p, _d_1, (_d_2+b))⋅S(_d, p, _d_2, (_d_2+b))⋅U(_i, _d_1, k)'⋅S(q, _i, (k-1.0⋅b), k)')\n",
      "Sum\n",
      "∑((b, p, k, _i, q), 4.0⋅w(-1.0⋅b)⋅U(q, _d_1, (k-1.0⋅b))⋅U(p, _d_1, (_d_2+b))⋅S(_d, p, _d_2, (_d_2+b))⋅S(_i, q, k, (k-1.0⋅b))⋅U(_i, _d_1, k)')\n",
      "<->\n",
      "\n",
      "64 symmetry\n",
      "∑((b, p, k, _i, q), 4.0⋅w(-1.0⋅b)⋅U(q, _d_1, k)⋅U(p, _d_1, (_d_2+b))⋅S(_d, p, _d_2, (_d_2+b))⋅U(_i, _d_1, (b+k))'⋅S(q, _i, k, (b+k))')\n",
      "Sum\n",
      "∑((b, p, k, _i, q), 4.0⋅w(b)⋅U(q, _d_1, k)⋅U(p, _d_1, (_d_2+b))⋅S(_d, p, _d_2, (_d_2+b))⋅U(_i, _d_1, (b+k))'⋅S(q, _i, k, (b+k))')\n",
      "<->\n",
      "\n",
      "65 symmetry\n",
      "∑((b, p, k, _i, q), 4.0⋅w(-1.0⋅b)⋅U(q, _d_1, k)⋅U(p, _d_1, (_d_2+b))⋅S(_d, p, _d_2, (_d_2+b))⋅U(_i, _d_1, (b+k))'⋅S(q, _i, k, (b+k))')\n",
      "Sum\n",
      "∑((b, p, k, _i, q), 4.0⋅w(-1.0⋅b)⋅U(q, _d_1, k)⋅U(p, _d_1, (_d_2+b))⋅S(_d, p, _d_2, (_d_2+b))⋅S(_i, q, (b+k), k)⋅U(_i, _d_1, (b+k))')\n",
      "<->\n",
      "\n",
      "66 symmetry\n",
      "∑((b, p, k, _i, q), 4.0⋅w(b)⋅U(q, _d_1, k)⋅U(p, _d_1, (-1.0⋅b+_d_2))⋅S(_d, p, _d_2, (-1.0⋅b+_d_2))⋅U(_i, _d_1, (k-1.0⋅b))'⋅S(q, _i, k, (k-1.0⋅b))')\n",
      "Sum\n",
      "∑((b, p, k, _i, q), 4.0⋅w(-1.0⋅b)⋅U(q, _d_1, k)⋅U(p, _d_1, (-1.0⋅b+_d_2))⋅S(_d, p, _d_2, (-1.0⋅b+_d_2))⋅U(_i, _d_1, (k-1.0⋅b))'⋅S(q, _i, k, (k-1.0⋅b))')\n",
      "<->\n",
      "\n",
      "67 symmetry\n",
      "∑((b, p, k, _i, q), 4.0⋅w(b)⋅U(q, _d_1, k)⋅U(p, _d_1, (-1.0⋅b+_d_2))⋅S(_d, p, _d_2, (-1.0⋅b+_d_2))⋅U(_i, _d_1, (k-1.0⋅b))'⋅S(q, _i, k, (k-1.0⋅b))')\n",
      "Sum\n",
      "∑((b, p, k, _i, q), 4.0⋅w(b)⋅U(q, _d_1, k)⋅U(p, _d_1, (-1.0⋅b+_d_2))⋅S(_d, p, _d_2, (-1.0⋅b+_d_2))⋅S(_i, q, (k-1.0⋅b), k)⋅U(_i, _d_1, (k-1.0⋅b))')\n",
      "<->\n",
      "\n",
      "68 sum_sym\n",
      "∑((b, p, k, _i, q), 4.0⋅w(b)⋅U(q, _d_1, (b+k))⋅U(p, _d_1, (-1.0⋅b+_d_2))⋅S(_d, p, _d_2, (-1.0⋅b+_d_2))⋅U(_i, _d_1, k)'⋅S(q, _i, (b+k), k)')\n",
      "Sum\n",
      "∑((b, p, k, _i, q), 4.0⋅w(-1.0⋅b)⋅U(q, _d_1, (k-1.0⋅b))⋅U(p, _d_1, (_d_2+b))⋅S(_d, p, _d_2, (_d_2+b))⋅U(_i, _d_1, k)'⋅S(q, _i, (k-1.0⋅b), k)')\n",
      "<->\n",
      "\n"
     ]
    },
    {
     "name": "stdout",
     "output_type": "stream",
     "text": [
      "69 symmetry\n",
      "∑((b, p, k, _i, q), 4.0⋅w(b)⋅U(q, _d_1, (b+k))⋅U(p, _d_1, (-1.0⋅b+_d_2))⋅S(_d, p, _d_2, (-1.0⋅b+_d_2))⋅U(_i, _d_1, k)'⋅S(q, _i, (b+k), k)')\n",
      "Sum\n",
      "∑((b, p, k, _i, q), 4.0⋅w(-1.0⋅b)⋅U(q, _d_1, (b+k))⋅U(p, _d_1, (-1.0⋅b+_d_2))⋅S(_d, p, _d_2, (-1.0⋅b+_d_2))⋅U(_i, _d_1, k)'⋅S(q, _i, (b+k), k)')\n",
      "<->\n",
      "\n",
      "70 symmetry\n",
      "∑((b, p, k, _i, q), 4.0⋅w(b)⋅U(q, _d_1, (b+k))⋅U(p, _d_1, (-1.0⋅b+_d_2))⋅S(_d, p, _d_2, (-1.0⋅b+_d_2))⋅U(_i, _d_1, k)'⋅S(q, _i, (b+k), k)')\n",
      "Sum\n",
      "∑((b, p, k, _i, q), 4.0⋅w(b)⋅U(q, _d_1, (b+k))⋅U(p, _d_1, (-1.0⋅b+_d_2))⋅S(_d, p, _d_2, (-1.0⋅b+_d_2))⋅S(_i, q, k, (b+k))⋅U(_i, _d_1, k)')\n",
      "<->\n",
      "\n",
      "71 symmetry\n",
      "∑((b, p, k, _i, q), 4.0⋅w(b)⋅U(q, _d_1, k)⋅U(p, _d_1, (-1.0⋅b+_d_2))⋅U(_i, _d_1, (k-1.0⋅b))'⋅S(q, _i, k, (k-1.0⋅b))'⋅S(p, _d, (-1.0⋅b+_d_2), _d_2)')\n",
      "Sum\n",
      "∑((b, p, k, _i, q), 4.0⋅w(b)⋅U(q, _d_1, k)⋅U(p, _d_1, (-1.0⋅b+_d_2))⋅S(_d, p, _d_2, (-1.0⋅b+_d_2))⋅U(_i, _d_1, (k-1.0⋅b))'⋅S(q, _i, k, (k-1.0⋅b))')\n",
      "<->\n",
      "\n",
      "72 symmetry\n",
      "∑((b, p, k, _i, q), 4.0⋅w(-1.0⋅b)⋅U(q, _d_1, k)⋅U(p, _d_1, (_d_2+b))⋅U(_i, _d_1, (b+k))'⋅S(q, _i, k, (b+k))'⋅S(p, _d, (_d_2+b), _d_2)')\n",
      "Sum\n",
      "∑((b, p, k, _i, q), 4.0⋅w(-1.0⋅b)⋅U(q, _d_1, k)⋅U(p, _d_1, (_d_2+b))⋅S(_d, p, _d_2, (_d_2+b))⋅U(_i, _d_1, (b+k))'⋅S(q, _i, k, (b+k))')\n",
      "<->\n",
      "\n",
      "73 sum_sym\n",
      "∑((b, p, k, _i, q), 4.0⋅w(-1.0⋅b)⋅U(q, _d_1, (k-1.0⋅b))⋅U(p, _d_1, (_d_2+b))⋅U(_i, _d_1, k)'⋅S(q, _i, (k-1.0⋅b), k)'⋅S(p, _d, (_d_2+b), _d_2)')\n",
      "Sum\n",
      "∑((b, p, k, _i, q), 4.0⋅w(b)⋅U(q, _d_1, (b+k))⋅U(p, _d_1, (-1.0⋅b+_d_2))⋅U(_i, _d_1, k)'⋅S(q, _i, (b+k), k)'⋅S(p, _d, (-1.0⋅b+_d_2), _d_2)')\n",
      "<->\n",
      "\n",
      "74 symmetry\n",
      "∑((b, p, k, _i, q), 4.0⋅w(-1.0⋅b)⋅U(q, _d_1, (k-1.0⋅b))⋅U(p, _d_1, (_d_2+b))⋅U(_i, _d_1, k)'⋅S(q, _i, (k-1.0⋅b), k)'⋅S(p, _d, (_d_2+b), _d_2)')\n",
      "Sum\n",
      "∑((b, p, k, _i, q), 4.0⋅w(-1.0⋅b)⋅U(q, _d_1, (k-1.0⋅b))⋅U(p, _d_1, (_d_2+b))⋅S(_d, p, _d_2, (_d_2+b))⋅U(_i, _d_1, k)'⋅S(q, _i, (k-1.0⋅b), k)')\n",
      "<->\n",
      "\n",
      "75 symmetry\n",
      "∑((b, p, k, _i, q), 4.0⋅w(b)⋅U(q, _d_1, (k-1.0⋅b))⋅U(p, _d_1, (_d_2+b))⋅U(_i, _d_1, k)'⋅S(q, _i, (k-1.0⋅b), k)'⋅S(p, _d, (_d_2+b), _d_2)')\n",
      "Sum\n",
      "∑((b, p, k, _i, q), 4.0⋅w(b)⋅U(q, _d_1, (k-1.0⋅b))⋅U(p, _d_1, (_d_2+b))⋅S(_d, p, _d_2, (_d_2+b))⋅U(_i, _d_1, k)'⋅S(q, _i, (k-1.0⋅b), k)')\n",
      "<->\n",
      "\n",
      "76 symmetry\n",
      "∑((b, p, k, _i, q), 4.0⋅w(b)⋅U(q, _d_1, k)⋅U(p, _d_1, (_d_2+b))⋅U(_i, _d_1, (b+k))'⋅S(q, _i, k, (b+k))'⋅S(p, _d, (_d_2+b), _d_2)')\n",
      "Sum\n",
      "∑((b, p, k, _i, q), 4.0⋅w(-1.0⋅b)⋅U(q, _d_1, k)⋅U(p, _d_1, (_d_2+b))⋅U(_i, _d_1, (b+k))'⋅S(q, _i, k, (b+k))'⋅S(p, _d, (_d_2+b), _d_2)')\n",
      "<->\n",
      "\n",
      "77 symmetry\n",
      "∑((b, p, k, _i, q), 4.0⋅w(b)⋅U(q, _d_1, k)⋅U(p, _d_1, (_d_2+b))⋅U(_i, _d_1, (b+k))'⋅S(q, _i, k, (b+k))'⋅S(p, _d, (_d_2+b), _d_2)')\n",
      "Sum\n",
      "∑((b, p, k, _i, q), 4.0⋅w(b)⋅U(q, _d_1, k)⋅U(p, _d_1, (_d_2+b))⋅S(_d, p, _d_2, (_d_2+b))⋅U(_i, _d_1, (b+k))'⋅S(q, _i, k, (b+k))')\n",
      "<->\n",
      "\n",
      "78 symmetry\n",
      "∑((b, p, k, _i, q), 4.0⋅w(-1.0⋅b)⋅U(q, _d_1, k)⋅U(p, _d_1, (-1.0⋅b+_d_2))⋅U(_i, _d_1, (k-1.0⋅b))'⋅S(q, _i, k, (k-1.0⋅b))'⋅S(p, _d, (-1.0⋅b+_d_2), _d_2)')\n",
      "Sum\n",
      "∑((b, p, k, _i, q), 4.0⋅w(b)⋅U(q, _d_1, k)⋅U(p, _d_1, (-1.0⋅b+_d_2))⋅U(_i, _d_1, (k-1.0⋅b))'⋅S(q, _i, k, (k-1.0⋅b))'⋅S(p, _d, (-1.0⋅b+_d_2), _d_2)')\n",
      "<->\n",
      "\n",
      "79 symmetry\n",
      "∑((b, p, k, _i, q), 4.0⋅w(-1.0⋅b)⋅U(q, _d_1, k)⋅U(p, _d_1, (-1.0⋅b+_d_2))⋅U(_i, _d_1, (k-1.0⋅b))'⋅S(q, _i, k, (k-1.0⋅b))'⋅S(p, _d, (-1.0⋅b+_d_2), _d_2)')\n",
      "Sum\n",
      "∑((b, p, k, _i, q), 4.0⋅w(-1.0⋅b)⋅U(q, _d_1, k)⋅U(p, _d_1, (-1.0⋅b+_d_2))⋅S(_d, p, _d_2, (-1.0⋅b+_d_2))⋅U(_i, _d_1, (k-1.0⋅b))'⋅S(q, _i, k, (k-1.0⋅b))')\n",
      "<->\n",
      "\n",
      "80 sum_sym\n",
      "∑((b, p, k, _i, q), 4.0⋅w(-1.0⋅b)⋅U(q, _d_1, (b+k))⋅U(p, _d_1, (-1.0⋅b+_d_2))⋅U(_i, _d_1, k)'⋅S(q, _i, (b+k), k)'⋅S(p, _d, (-1.0⋅b+_d_2), _d_2)')\n",
      "Sum\n",
      "∑((b, p, k, _i, q), 4.0⋅w(b)⋅U(q, _d_1, (k-1.0⋅b))⋅U(p, _d_1, (_d_2+b))⋅U(_i, _d_1, k)'⋅S(q, _i, (k-1.0⋅b), k)'⋅S(p, _d, (_d_2+b), _d_2)')\n",
      "<->\n",
      "\n",
      "81 symmetry\n",
      "∑((b, p, k, _i, q), 4.0⋅w(-1.0⋅b)⋅U(q, _d_1, (b+k))⋅U(p, _d_1, (-1.0⋅b+_d_2))⋅U(_i, _d_1, k)'⋅S(q, _i, (b+k), k)'⋅S(p, _d, (-1.0⋅b+_d_2), _d_2)')\n",
      "Sum\n",
      "∑((b, p, k, _i, q), 4.0⋅w(b)⋅U(q, _d_1, (b+k))⋅U(p, _d_1, (-1.0⋅b+_d_2))⋅U(_i, _d_1, k)'⋅S(q, _i, (b+k), k)'⋅S(p, _d, (-1.0⋅b+_d_2), _d_2)')\n",
      "<->\n",
      "\n",
      "82 symmetry\n",
      "∑((b, p, k, _i, q), 4.0⋅w(-1.0⋅b)⋅U(q, _d_1, (b+k))⋅U(p, _d_1, (-1.0⋅b+_d_2))⋅U(_i, _d_1, k)'⋅S(q, _i, (b+k), k)'⋅S(p, _d, (-1.0⋅b+_d_2), _d_2)')\n",
      "Sum\n",
      "∑((b, p, k, _i, q), 4.0⋅w(-1.0⋅b)⋅U(q, _d_1, (b+k))⋅U(p, _d_1, (-1.0⋅b+_d_2))⋅S(_d, p, _d_2, (-1.0⋅b+_d_2))⋅U(_i, _d_1, k)'⋅S(q, _i, (b+k), k)')\n",
      "<->\n",
      "\n",
      "83 symmetry\n",
      "∑((b, p, k, _i, q), 4.0⋅w(-1.0⋅b)⋅U(q, _d_1, (b+k))⋅U(p, _d_1, (-1.0⋅b+_d_2))⋅S(_i, q, k, (b+k))⋅U(_i, _d_1, k)'⋅S(p, _d, (-1.0⋅b+_d_2), _d_2)')\n",
      "Sum\n",
      "∑((b, p, k, _i, q), 4.0⋅w(-1.0⋅b)⋅U(q, _d_1, (b+k))⋅U(p, _d_1, (-1.0⋅b+_d_2))⋅S(_d, p, _d_2, (-1.0⋅b+_d_2))⋅S(_i, q, k, (b+k))⋅U(_i, _d_1, k)')\n",
      "<->\n",
      "\n",
      "84 symmetry\n",
      "∑((b, p, k, _i, q), 4.0⋅w(-1.0⋅b)⋅U(q, _d_1, k)⋅U(p, _d_1, (-1.0⋅b+_d_2))⋅S(_i, q, (k-1.0⋅b), k)⋅U(_i, _d_1, (k-1.0⋅b))'⋅S(p, _d, (-1.0⋅b+_d_2), _d_2)')\n",
      "Sum\n",
      "∑((b, p, k, _i, q), 4.0⋅w(-1.0⋅b)⋅U(q, _d_1, k)⋅U(p, _d_1, (-1.0⋅b+_d_2))⋅U(_i, _d_1, (k-1.0⋅b))'⋅S(q, _i, k, (k-1.0⋅b))'⋅S(p, _d, (-1.0⋅b+_d_2), _d_2)')\n",
      "<->\n",
      "\n",
      "85 symmetry\n",
      "∑((b, p, k, _i, q), 4.0⋅w(-1.0⋅b)⋅U(q, _d_1, k)⋅U(p, _d_1, (-1.0⋅b+_d_2))⋅S(_i, q, (k-1.0⋅b), k)⋅U(_i, _d_1, (k-1.0⋅b))'⋅S(p, _d, (-1.0⋅b+_d_2), _d_2)')\n",
      "Sum\n",
      "∑((b, p, k, _i, q), 4.0⋅w(-1.0⋅b)⋅U(q, _d_1, k)⋅U(p, _d_1, (-1.0⋅b+_d_2))⋅S(_d, p, _d_2, (-1.0⋅b+_d_2))⋅S(_i, q, (k-1.0⋅b), k)⋅U(_i, _d_1, (k-1.0⋅b))')\n",
      "<->\n",
      "\n",
      "86 symmetry\n",
      "∑((b, p, k, _i, q), 4.0⋅w(b)⋅U(q, _d_1, k)⋅U(p, _d_1, (_d_2+b))⋅S(_i, q, (b+k), k)⋅U(_i, _d_1, (b+k))'⋅S(p, _d, (_d_2+b), _d_2)')\n",
      "Sum\n",
      "∑((b, p, k, _i, q), 4.0⋅w(b)⋅U(q, _d_1, k)⋅U(p, _d_1, (_d_2+b))⋅U(_i, _d_1, (b+k))'⋅S(q, _i, k, (b+k))'⋅S(p, _d, (_d_2+b), _d_2)')\n",
      "<->\n",
      "\n",
      "87 symmetry\n",
      "∑((b, p, k, _i, q), 4.0⋅w(b)⋅U(q, _d_1, k)⋅U(p, _d_1, (_d_2+b))⋅S(_i, q, (b+k), k)⋅U(_i, _d_1, (b+k))'⋅S(p, _d, (_d_2+b), _d_2)')\n",
      "Sum\n",
      "∑((b, p, k, _i, q), 4.0⋅w(b)⋅U(q, _d_1, k)⋅U(p, _d_1, (_d_2+b))⋅S(_d, p, _d_2, (_d_2+b))⋅S(_i, q, (b+k), k)⋅U(_i, _d_1, (b+k))')\n",
      "<->\n",
      "\n",
      "88 sum_sym\n",
      "∑((b, p, k, _i, q), 4.0⋅w(b)⋅U(q, _d_1, (k-1.0⋅b))⋅U(p, _d_1, (_d_2+b))⋅S(_i, q, k, (k-1.0⋅b))⋅U(_i, _d_1, k)'⋅S(p, _d, (_d_2+b), _d_2)')\n",
      "Sum\n",
      "∑((b, p, k, _i, q), 4.0⋅w(-1.0⋅b)⋅U(q, _d_1, (b+k))⋅U(p, _d_1, (-1.0⋅b+_d_2))⋅S(_i, q, k, (b+k))⋅U(_i, _d_1, k)'⋅S(p, _d, (-1.0⋅b+_d_2), _d_2)')\n",
      "<->\n",
      "\n",
      "89 symmetry\n",
      "∑((b, p, k, _i, q), 4.0⋅w(b)⋅U(q, _d_1, (k-1.0⋅b))⋅U(p, _d_1, (_d_2+b))⋅S(_i, q, k, (k-1.0⋅b))⋅U(_i, _d_1, k)'⋅S(p, _d, (_d_2+b), _d_2)')\n",
      "Sum\n",
      "∑((b, p, k, _i, q), 4.0⋅w(b)⋅U(q, _d_1, (k-1.0⋅b))⋅U(p, _d_1, (_d_2+b))⋅U(_i, _d_1, k)'⋅S(q, _i, (k-1.0⋅b), k)'⋅S(p, _d, (_d_2+b), _d_2)')\n",
      "<->\n",
      "\n",
      "90 symmetry\n",
      "∑((b, p, k, _i, q), 4.0⋅w(b)⋅U(q, _d_1, (k-1.0⋅b))⋅U(p, _d_1, (_d_2+b))⋅S(_i, q, k, (k-1.0⋅b))⋅U(_i, _d_1, k)'⋅S(p, _d, (_d_2+b), _d_2)')\n",
      "Sum\n",
      "∑((b, p, k, _i, q), 4.0⋅w(b)⋅U(q, _d_1, (k-1.0⋅b))⋅U(p, _d_1, (_d_2+b))⋅S(_d, p, _d_2, (_d_2+b))⋅S(_i, q, k, (k-1.0⋅b))⋅U(_i, _d_1, k)')\n",
      "<->\n",
      "\n",
      "91 symmetry\n",
      "∑((b, p, k, _i, q), 4.0⋅w(-1.0⋅b)⋅U(q, _d_1, (k-1.0⋅b))⋅U(p, _d_1, (_d_2+b))⋅S(_i, q, k, (k-1.0⋅b))⋅U(_i, _d_1, k)'⋅S(p, _d, (_d_2+b), _d_2)')\n",
      "Sum\n",
      "∑((b, p, k, _i, q), 4.0⋅w(-1.0⋅b)⋅U(q, _d_1, (k-1.0⋅b))⋅U(p, _d_1, (_d_2+b))⋅U(_i, _d_1, k)'⋅S(q, _i, (k-1.0⋅b), k)'⋅S(p, _d, (_d_2+b), _d_2)')\n",
      "<->\n",
      "\n",
      "92 symmetry\n",
      "∑((b, p, k, _i, q), 4.0⋅w(-1.0⋅b)⋅U(q, _d_1, (k-1.0⋅b))⋅U(p, _d_1, (_d_2+b))⋅S(_i, q, k, (k-1.0⋅b))⋅U(_i, _d_1, k)'⋅S(p, _d, (_d_2+b), _d_2)')\n",
      "Sum\n",
      "∑((b, p, k, _i, q), 4.0⋅w(-1.0⋅b)⋅U(q, _d_1, (k-1.0⋅b))⋅U(p, _d_1, (_d_2+b))⋅S(_d, p, _d_2, (_d_2+b))⋅S(_i, q, k, (k-1.0⋅b))⋅U(_i, _d_1, k)')\n",
      "<->\n",
      "\n",
      "93 symmetry\n",
      "∑((b, p, k, _i, q), 4.0⋅w(-1.0⋅b)⋅U(q, _d_1, k)⋅U(p, _d_1, (_d_2+b))⋅S(_i, q, (b+k), k)⋅U(_i, _d_1, (b+k))'⋅S(p, _d, (_d_2+b), _d_2)')\n",
      "Sum\n",
      "∑((b, p, k, _i, q), 4.0⋅w(b)⋅U(q, _d_1, k)⋅U(p, _d_1, (_d_2+b))⋅S(_i, q, (b+k), k)⋅U(_i, _d_1, (b+k))'⋅S(p, _d, (_d_2+b), _d_2)')\n",
      "<->\n",
      "\n",
      "94 symmetry\n",
      "∑((b, p, k, _i, q), 4.0⋅w(-1.0⋅b)⋅U(q, _d_1, k)⋅U(p, _d_1, (_d_2+b))⋅S(_i, q, (b+k), k)⋅U(_i, _d_1, (b+k))'⋅S(p, _d, (_d_2+b), _d_2)')\n",
      "Sum\n",
      "∑((b, p, k, _i, q), 4.0⋅w(-1.0⋅b)⋅U(q, _d_1, k)⋅U(p, _d_1, (_d_2+b))⋅U(_i, _d_1, (b+k))'⋅S(q, _i, k, (b+k))'⋅S(p, _d, (_d_2+b), _d_2)')\n",
      "<->\n",
      "\n",
      "95 symmetry\n",
      "∑((b, p, k, _i, q), 4.0⋅w(-1.0⋅b)⋅U(q, _d_1, k)⋅U(p, _d_1, (_d_2+b))⋅S(_i, q, (b+k), k)⋅U(_i, _d_1, (b+k))'⋅S(p, _d, (_d_2+b), _d_2)')\n",
      "Sum\n",
      "∑((b, p, k, _i, q), 4.0⋅w(-1.0⋅b)⋅U(q, _d_1, k)⋅U(p, _d_1, (_d_2+b))⋅S(_d, p, _d_2, (_d_2+b))⋅S(_i, q, (b+k), k)⋅U(_i, _d_1, (b+k))')\n",
      "<->\n",
      "\n",
      "96 symmetry\n",
      "∑((b, p, k, _i, q), 4.0⋅w(b)⋅U(q, _d_1, k)⋅U(p, _d_1, (-1.0⋅b+_d_2))⋅S(_i, q, (k-1.0⋅b), k)⋅U(_i, _d_1, (k-1.0⋅b))'⋅S(p, _d, (-1.0⋅b+_d_2), _d_2)')\n",
      "Sum\n",
      "∑((b, p, k, _i, q), 4.0⋅w(-1.0⋅b)⋅U(q, _d_1, k)⋅U(p, _d_1, (-1.0⋅b+_d_2))⋅S(_i, q, (k-1.0⋅b), k)⋅U(_i, _d_1, (k-1.0⋅b))'⋅S(p, _d, (-1.0⋅b+_d_2), _d_2)')\n",
      "<->\n",
      "\n",
      "97 symmetry\n",
      "∑((b, p, k, _i, q), 4.0⋅w(b)⋅U(q, _d_1, k)⋅U(p, _d_1, (-1.0⋅b+_d_2))⋅S(_i, q, (k-1.0⋅b), k)⋅U(_i, _d_1, (k-1.0⋅b))'⋅S(p, _d, (-1.0⋅b+_d_2), _d_2)')\n",
      "Sum\n",
      "∑((b, p, k, _i, q), 4.0⋅w(b)⋅U(q, _d_1, k)⋅U(p, _d_1, (-1.0⋅b+_d_2))⋅U(_i, _d_1, (k-1.0⋅b))'⋅S(q, _i, k, (k-1.0⋅b))'⋅S(p, _d, (-1.0⋅b+_d_2), _d_2)')\n",
      "<->\n",
      "\n"
     ]
    },
    {
     "name": "stdout",
     "output_type": "stream",
     "text": [
      "98 symmetry\n",
      "∑((b, p, k, _i, q), 4.0⋅w(b)⋅U(q, _d_1, k)⋅U(p, _d_1, (-1.0⋅b+_d_2))⋅S(_i, q, (k-1.0⋅b), k)⋅U(_i, _d_1, (k-1.0⋅b))'⋅S(p, _d, (-1.0⋅b+_d_2), _d_2)')\n",
      "Sum\n",
      "∑((b, p, k, _i, q), 4.0⋅w(b)⋅U(q, _d_1, k)⋅U(p, _d_1, (-1.0⋅b+_d_2))⋅S(_d, p, _d_2, (-1.0⋅b+_d_2))⋅S(_i, q, (k-1.0⋅b), k)⋅U(_i, _d_1, (k-1.0⋅b))')\n",
      "<->\n",
      "\n",
      "99 sum_sym\n",
      "∑((b, p, k, _i, q), 4.0⋅w(b)⋅U(q, _d_1, (b+k))⋅U(p, _d_1, (-1.0⋅b+_d_2))⋅S(_i, q, k, (b+k))⋅U(_i, _d_1, k)'⋅S(p, _d, (-1.0⋅b+_d_2), _d_2)')\n",
      "Sum\n",
      "∑((b, p, k, _i, q), 4.0⋅w(-1.0⋅b)⋅U(q, _d_1, (k-1.0⋅b))⋅U(p, _d_1, (_d_2+b))⋅S(_i, q, k, (k-1.0⋅b))⋅U(_i, _d_1, k)'⋅S(p, _d, (_d_2+b), _d_2)')\n",
      "<->\n",
      "\n",
      "100 symmetry\n",
      "∑((b, p, k, _i, q), 4.0⋅w(b)⋅U(q, _d_1, (b+k))⋅U(p, _d_1, (-1.0⋅b+_d_2))⋅S(_i, q, k, (b+k))⋅U(_i, _d_1, k)'⋅S(p, _d, (-1.0⋅b+_d_2), _d_2)')\n",
      "Sum\n",
      "∑((b, p, k, _i, q), 4.0⋅w(-1.0⋅b)⋅U(q, _d_1, (b+k))⋅U(p, _d_1, (-1.0⋅b+_d_2))⋅S(_i, q, k, (b+k))⋅U(_i, _d_1, k)'⋅S(p, _d, (-1.0⋅b+_d_2), _d_2)')\n",
      "<->\n",
      "\n",
      "101 symmetry\n",
      "∑((b, p, k, _i, q), 4.0⋅w(b)⋅U(q, _d_1, (b+k))⋅U(p, _d_1, (-1.0⋅b+_d_2))⋅S(_i, q, k, (b+k))⋅U(_i, _d_1, k)'⋅S(p, _d, (-1.0⋅b+_d_2), _d_2)')\n",
      "Sum\n",
      "∑((b, p, k, _i, q), 4.0⋅w(b)⋅U(q, _d_1, (b+k))⋅U(p, _d_1, (-1.0⋅b+_d_2))⋅U(_i, _d_1, k)'⋅S(q, _i, (b+k), k)'⋅S(p, _d, (-1.0⋅b+_d_2), _d_2)')\n",
      "<->\n",
      "\n",
      "102 symmetry\n",
      "∑((b, p, k, _i, q), 4.0⋅w(b)⋅U(q, _d_1, (b+k))⋅U(p, _d_1, (-1.0⋅b+_d_2))⋅S(_i, q, k, (b+k))⋅U(_i, _d_1, k)'⋅S(p, _d, (-1.0⋅b+_d_2), _d_2)')\n",
      "Sum\n",
      "∑((b, p, k, _i, q), 4.0⋅w(b)⋅U(q, _d_1, (b+k))⋅U(p, _d_1, (-1.0⋅b+_d_2))⋅S(_d, p, _d_2, (-1.0⋅b+_d_2))⋅S(_i, q, k, (b+k))⋅U(_i, _d_1, k)')\n",
      "<->\n",
      "\n",
      "1 sum_out\n",
      "∑((b, p, k, _i, q), 4.0⋅w(b)⋅U(q, _d_1, k)⋅U(p, _d_1, (_d_2+b))⋅S(_d, p, _d_2, (_d_2+b))⋅S(_i, q, (b+k), k)⋅U(_i, _d_1, (b+k))')\n",
      "Mul\n",
      "∑((b, p, k, _i, q), w(b)⋅U(q, _d_1, k)⋅U(p, _d_1, (_d_2+b))⋅S(_d, p, _d_2, (_d_2+b))⋅S(_i, q, (b+k), k)⋅U(_i, _d_1, (b+k))')⋅4.0\n",
      "-->\n",
      "\n"
     ]
    },
    {
     "data": {
      "text/latex": [
       "$\\left(S, w\\right) \\to U \\to \\left(\\mathbb{d}, \\mathbb{d}_{1}, \\mathbb{d}_{2}\\right) \\to \\left(\\sum_{b, p, k, \\mathbb{i}, q}w\\left(b\\right)\\cdot U\\left(q, \\mathbb{d}_{1}, k\\right)\\cdot U\\left(p, \\mathbb{d}_{1}, \\left(\\mathbb{d}_{2}+b\\right)\\right)\\cdot S\\left(\\mathbb{d}, p, \\mathbb{d}_{2}, \\left(\\mathbb{d}_{2}+b\\right)\\right)\\cdot S\\left(\\mathbb{i}, q, \\left(b+k\\right), k\\right)\\cdot U\\left(\\mathbb{i}, \\mathbb{d}_{1}, \\left(b+k\\right)\\right)^{*}\\right)\\cdot 4.0$"
      ],
      "text/plain": [
       "(S, w) -> \n",
       "    (U) -> \n",
       "        (_d, _d_1, _d_2) -> \n",
       "            ∑((b, p, k, _i, q), w(b)⋅U(q, _d_1, k)⋅U(p, _d_1, (_d_2+b))⋅S(_d, p, _d_2, (_d_2+b))⋅S(_i, q, (b+k), k)⋅U(_i, _d_1, (b+k))')⋅4.0"
      ]
     },
     "execution_count": 11,
     "metadata": {},
     "output_type": "execute_result"
    }
   ],
   "source": [
    "# df = vdiff(eval_all(f); settings=custom_settings(:logging=>true; preset = symmetry_settings))\n",
    "\n",
    "df = redux(vdiff(eval_all(f)); settings=symmetry_settings)"
   ]
  },
  {
   "cell_type": "code",
   "execution_count": 23,
   "id": "15001476-186a-49bc-910d-31c32d0b7579",
   "metadata": {
    "tags": []
   },
   "outputs": [],
   "source": [
    "_, ctx = @pct begin\n",
    "    @space Tau begin\n",
    "        type=(R, RV) -> RM\n",
    "    end\n",
    "    \n",
    "    @space Nu begin\n",
    "        type=(RV, ) -> R\n",
    "    end\n",
    "        \n",
    "    @space S begin\n",
    "        type=(RV, )->RV\n",
    "    end\n",
    "end;"
   ]
  },
  {
   "cell_type": "code",
   "execution_count": 66,
   "id": "b2d38359-5108-48ea-8a02-fe3820bd3fcd",
   "metadata": {
    "tags": []
   },
   "outputs": [
    {
     "data": {
      "text/latex": [
       "$\\left(τ, ν, p\\right) \\to \\hat{vdiff}_{\\mathcal{P}\\left(x \\to τ\\left(ν\\left(x\\right), p\\left(x\\right)\\right)\\right)}$"
      ],
      "text/plain": [
       "(τ, ν, p) -> \n",
       "    vdiff̂(𝒫((x) -> \n",
       "        τ(ν(x), p(x))))"
      ]
     },
     "execution_count": 66,
     "metadata": {},
     "output_type": "execute_result"
    }
   ],
   "source": [
    "f, _ = @pct _ ctx (τ::Tau, ν::Nu, p::S) -> :vdiff(pullback((x::RV) -> τ(ν(x), p(x)))); f"
   ]
  },
  {
   "cell_type": "code",
   "execution_count": 15,
   "id": "09fb7c6e-ddbe-4e1f-9816-28a87be974b7",
   "metadata": {
    "tags": []
   },
   "outputs": [
    {
     "data": {
      "text/latex": [
       "$\\left(τ, ν, p\\right) \\to x \\to \\left(\\mathcal{P}\\left(ν\\right)\\left(x, \\nabla \\left(\\mathbb{z} \\to τ\\left(\\mathbb{z}, p\\left(x\\right)\\right)\\right)\\left(ν\\left(x\\right)\\right)\\right)+\\mathcal{P}\\left(p\\right)\\left(x, \\nabla \\left(\\mathbb{z_1} \\to τ\\left(ν\\left(x\\right), \\mathbb{z_1}\\right)\\right)\\left(p\\left(x\\right)\\right)\\right)\\right)$"
      ],
      "text/plain": [
       "(τ, ν, p) -> \n",
       "    (x) -> \n",
       "        (𝒫(ν)(x, 𝒫((_z) -> \n",
       "            τ(_z, p(x)))(ν(x), 1))+𝒫(p)(x, 𝒫((_z_1) -> \n",
       "            τ(ν(x), _z_1))(p(x), 1)))"
      ]
     },
     "execution_count": 15,
     "metadata": {},
     "output_type": "execute_result"
    }
   ],
   "source": [
    "df = process_directive(f)"
   ]
  },
  {
   "cell_type": "code",
   "execution_count": 2,
   "id": "dd75e5a1",
   "metadata": {},
   "outputs": [],
   "source": [
    "_, ctx = @pct begin\n",
    "    @space G begin\n",
    "        type=(RV,)->R\n",
    "    end\n",
    "    end;"
   ]
  },
  {
   "cell_type": "code",
   "execution_count": 3,
   "id": "56e8abf0",
   "metadata": {
    "scrolled": true
   },
   "outputs": [
    {
     "data": {
      "text/latex": [
       "$wstar \\to g \\to \\mathcal{P}\\left(w \\to \\left(\\left(-1.0\\cdot g\\left(wstar\\right)+g\\left(w\\right)\\right)\\right)^{2}\\right)$"
      ],
      "text/plain": [
       "(wstar) -> \n",
       "    (g) -> \n",
       "        𝒫((w) -> \n",
       "            ((-1.0⋅g(wstar)+g(w)))^(2))"
      ]
     },
     "execution_count": 3,
     "metadata": {},
     "output_type": "execute_result"
    }
   ],
   "source": [
    "f, _ = @pct _ ctx (wstar::RV) -> (g::G) -> pullback((w::RV)  -> (g(w) - g(wstar))^2)\n",
    "f"
   ]
  },
  {
   "cell_type": "code",
   "execution_count": 4,
   "id": "92860a62",
   "metadata": {},
   "outputs": [
    {
     "data": {
      "text/latex": [
       "$wstar \\to g \\to w \\to \\mathcal{P}\\left(g\\right)\\left(w, 2.0\\cdot \\left(-1.0\\cdot g\\left(wstar\\right)+g\\left(w\\right)\\right)\\right)$"
      ],
      "text/plain": [
       "(wstar) -> \n",
       "    (g) -> \n",
       "        (w) -> \n",
       "            𝒫(g)(w, 2.0⋅(-1.0⋅g(wstar)+g(w)))"
      ]
     },
     "execution_count": 4,
     "metadata": {},
     "output_type": "execute_result"
    }
   ],
   "source": [
    "df = vdiff(f)"
   ]
  },
  {
   "cell_type": "code",
   "execution_count": 18,
   "id": "778025bf",
   "metadata": {},
   "outputs": [
    {
     "data": {
      "text/latex": [
       "$\\left(w, \\mathbb{k}\\right) \\to \\left(\\sum_{\\mathbb{z}}\\mathcal{P}\\left(\\mathbb{z}_{2} \\to \\mathcal{P}\\left(g\\right)\\left(\\mathbb{z}_{2}, \\mathbb{z}\\right)\\right)\\left(w, \\delta_{\\mathbb{z}}^{2.0\\cdot \\left(-1.0\\cdot g\\left(wstar\\right)+g\\left(w\\right)\\right)}\\mathbb{k}\\right)+\\mathcal{P}\\left(g\\right)\\left(w, 2.0\\cdot \\left(\\mathbb{z} \\to \\mathcal{P}\\left(g\\right)\\left(w, \\mathbb{z}\\right)^{\\dagger}\\right)\\left(\\mathbb{k}\\right)\\right)\\right)$"
      ],
      "text/plain": [
       "(w, _k) -> \n",
       "    (∑((_z), 𝒫((_z_2) -> \n",
       "        𝒫(g)(_z_2, _z))(w, δ(2.0⋅(-1.0⋅g(wstar)+g(w)), _z, _k)))+𝒫(g)(w, 2.0⋅(_z) -> \n",
       "        𝒫(g)(w, _z)⁺(_k)))"
      ]
     },
     "execution_count": 18,
     "metadata": {},
     "output_type": "execute_result"
    }
   ],
   "source": [
    "hf = df |> get_body |> get_body |> decompose |> pp"
   ]
  },
  {
   "cell_type": "code",
   "execution_count": 29,
   "id": "ae3b1b9e",
   "metadata": {},
   "outputs": [
    {
     "data": {
      "text/latex": [
       "$\\left(w, \\mathbb{k}\\right) \\to \\left(\\mathcal{P}\\left(g\\right)\\left(w, 2.0\\cdot \\left(\\mathbb{z} \\to \\mathcal{P}\\left(g\\right)\\left(w, \\mathbb{z}\\right)\\right)^{T}\\left(\\mathbb{k}\\right)\\right)+\\mathcal{P}\\left(\\mathbb{z}_{2} \\to \\mathcal{P}\\left(g\\right)\\left(\\mathbb{z}_{2}, 2.0\\cdot \\left(-1.0\\cdot g\\left(wstar\\right)+g\\left(w\\right)\\right)\\right)\\right)\\left(w, \\mathbb{k}\\right)\\right)$"
      ],
      "text/plain": [
       "(w, _k) -> \n",
       "    (𝒫(g)(w, 2.0⋅(_z) -> \n",
       "        𝒫(g)(w, _z)ᵀ(_k))+𝒫((_z_2) -> \n",
       "        𝒫(g)(_z_2, 2.0⋅(-1.0⋅g(wstar)+g(w))))(w, _k))"
      ]
     },
     "execution_count": 29,
     "metadata": {},
     "output_type": "execute_result"
    }
   ],
   "source": [
    "hf |> simplify |> first"
   ]
  },
  {
   "cell_type": "code",
   "execution_count": null,
   "id": "5184bd7d",
   "metadata": {},
   "outputs": [],
   "source": []
  }
 ],
 "metadata": {
  "kernelspec": {
   "display_name": "pct 1.10.0",
   "language": "julia",
   "name": "pct-1.10"
  },
  "language_info": {
   "file_extension": ".jl",
   "mimetype": "application/julia",
   "name": "julia",
   "version": "1.10.1"
  }
 },
 "nbformat": 4,
 "nbformat_minor": 5
}
