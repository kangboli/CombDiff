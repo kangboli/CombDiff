{
 "cells": [
  {
   "cell_type": "code",
   "execution_count": 1,
   "id": "1e61d825-5b7e-4a67-92ee-391fbedd7f8f",
   "metadata": {
    "tags": []
   },
   "outputs": [],
   "source": [
    "using PCT"
   ]
  },
  {
   "cell_type": "markdown",
   "id": "96386563-2233-4e53-9844-f90cd25d4399",
   "metadata": {},
   "source": [
    "## $x^{\\dagger} A x$"
   ]
  },
  {
   "cell_type": "code",
   "execution_count": 2,
   "id": "30ae0e8b-9f7d-4a5d-9d22-4961bd5c317c",
   "metadata": {
    "tags": []
   },
   "outputs": [
    {
     "data": {
      "text/latex": [
       "$A \\to \\mathcal{P}\\left(x \\to \\sum_{i, j}\\left(x_{i}^{*}\\cdot x_{j}\\cdot A_{i, j}\\right)\\right)$"
      ],
      "text/plain": [
       "(A) -> \n",
       "    𝒫((x) -> \n",
       "        ∑((i, j), (x(i)'⋅x(j)⋅A(i, j))))"
      ]
     },
     "execution_count": 2,
     "metadata": {},
     "output_type": "execute_result"
    }
   ],
   "source": [
    "f, _ = @pct (A::Her) -> pullback((x::CV) -> sum((i, j), x(i)' * A(i, j) * x(j))); f"
   ]
  },
  {
   "cell_type": "code",
   "execution_count": 3,
   "id": "64a31ea5-7771-4e77-8b43-585c61fca2a2",
   "metadata": {
    "tags": []
   },
   "outputs": [
    {
     "data": {
      "text/latex": [
       "$A \\to x \\to \\mathbb{d} \\to \\sum_{j}\\left(2.0\\cdot x_{j}\\cdot A_{\\mathbb{d}, j}\\right)$"
      ],
      "text/plain": [
       "(A) -> \n",
       "    (x) -> \n",
       "        (_d) -> \n",
       "            ∑((j), (2.0⋅x(j)⋅A(_d, j)))"
      ]
     },
     "execution_count": 3,
     "metadata": {},
     "output_type": "execute_result"
    }
   ],
   "source": [
    "df = vdiff(f; settings=symmetry_settings)"
   ]
  },
  {
   "cell_type": "markdown",
   "id": "e0554443-9d11-4e9e-92ea-d02d46340f46",
   "metadata": {},
   "source": [
    "## Trace of Product"
   ]
  },
  {
   "cell_type": "code",
   "execution_count": 4,
   "id": "7434d5d2-0937-4cdc-b675-c2b8ef92b152",
   "metadata": {
    "tags": []
   },
   "outputs": [
    {
     "data": {
      "text/latex": [
       "$\\mathrm{let}\\\\ \\quad tr = X \\to \\sum_{i}\\left(X_{i, i}\\right)\\\\\\quad matmul = \\left(A, B\\right) \\to \\left(i, j\\right) \\to \\sum_{n}\\left(A_{i, n}\\cdot B_{n, j}\\right)\\\\\\quad \\mathcal{P}\\left(\\left(A, B\\right) \\to tr\\left(\\left(matmul\\left(A, B\\right)+matmul\\left(B, A\\right)\\right)\\right)\\right)\\\\ \\mathrm{end}$"
      ],
      "text/plain": [
       "let \n",
       "    tr = (X) -> \n",
       "        ∑((i), X(i, i))\n",
       "    matmul = (A, B) -> \n",
       "        (i, j) -> \n",
       "            ∑((n), (A(i, n)⋅B(n, j)))\n",
       "    𝒫((A, B) -> \n",
       "        tr((matmul(A, B)+matmul(B, A))))\n",
       "end"
      ]
     },
     "execution_count": 4,
     "metadata": {},
     "output_type": "execute_result"
    }
   ],
   "source": [
    "f, _ = @pct begin\n",
    "    tr = (X::CM) -> sum(i, X(i, i))\n",
    "    matmul = (A::CM, B::CM) -> (i::Z, j::Z) -> sum(n, A(i, n) * B(n, j))\n",
    "    pullback((A::CM, B::CM) -> tr(matmul(A, B) + matmul(B, A)))\n",
    "end; f"
   ]
  },
  {
   "cell_type": "code",
   "execution_count": 5,
   "id": "1ff8278f-15eb-4336-87ce-8687cf74568a",
   "metadata": {
    "tags": []
   },
   "outputs": [
    {
     "data": {
      "text/latex": [
       "$\\left(A, B\\right) \\to \\begin{bmatrix} \\left(\\mathbb{d}, \\mathbb{d_1}\\right) \\to 2.0\\cdot B_{\\mathbb{d_1}, \\mathbb{d}}^{*}\\\\\\left(\\mathbb{d}, \\mathbb{d_1}\\right) \\to 2.0\\cdot A_{\\mathbb{d_1}, \\mathbb{d}}^{*} \\end{bmatrix}$"
      ],
      "text/plain": [
       "(A, B) -> \n",
       "    (_d, _d_1) -> \n",
       "        (2.0⋅B(_d_1, _d)'), (_d, _d_1) -> \n",
       "        (2.0⋅A(_d_1, _d)')"
      ]
     },
     "execution_count": 5,
     "metadata": {},
     "output_type": "execute_result"
    }
   ],
   "source": [
    "vdiff(eval_all(f); settings=symmetry_settings)"
   ]
  },
  {
   "cell_type": "markdown",
   "id": "4924b3d0-edba-44c5-b4e8-05308fc0c9e2",
   "metadata": {},
   "source": [
    "## Conjugate Gradient"
   ]
  },
  {
   "cell_type": "code",
   "execution_count": 6,
   "id": "f7acc1d0-666e-413e-bfb8-e21843334035",
   "metadata": {
    "tags": []
   },
   "outputs": [
    {
     "data": {
      "text/latex": [
       "$\\left(A, r, p, b, x\\right) \\to \\mathrm{let}\\\\ \\quad E = x \\to \\left(\\sum_{i}\\left(x_{i}\\cdot b_{i}\\right)+\\sum_{i, j}\\left(0.5\\cdot x_{i}\\cdot x_{j}\\cdot A_{i, j}\\right)\\right)\\\\\\quad \\mathcal{P}\\left(\\left(α, β\\right) \\to E\\left(i \\to \\left(α\\cdot \\left(β\\cdot p_{i}+r_{i}\\right)+x_{i}\\right)\\right)\\right)\\\\ \\mathrm{end}$"
      ],
      "text/plain": [
       "(A, r, p, b, x) -> \n",
       "    let \n",
       "        E = (x) -> \n",
       "            (∑((i), (x(i)⋅b(i)))+∑((i, j), (0.5⋅x(i)⋅x(j)⋅A(i, j))))\n",
       "        𝒫((α, β) -> \n",
       "            E((i) -> \n",
       "                ((α⋅((β⋅p(i))+r(i)))+x(i))))\n",
       "    end"
      ]
     },
     "execution_count": 6,
     "metadata": {},
     "output_type": "execute_result"
    }
   ],
   "source": [
    "f, _ = @pct (A::Sym, r::RV, p::RV, b::RV, x::RV) -> begin\n",
    "    E = (x::RV) -> sum((i, j), 0.5 * x(i) * A(i, j) * x(j)) + sum(i, x(i) * b(i))\n",
    "    pullback((α::R, β::R) -> E((i::Z) -> x(i) + α * (r(i) + β * p(i))))\n",
    "end; f"
   ]
  },
  {
   "cell_type": "code",
   "execution_count": 7,
   "id": "c2c03494-aabf-4443-b52e-8102d9ed7ec3",
   "metadata": {
    "tags": []
   },
   "outputs": [
    {
     "data": {
      "text/latex": [
       "$\\left(A, r, p, b, x\\right) \\to \\mathrm{let}\\\\ \\quad E = x \\to \\left(\\sum_{i}\\left(x_{i}\\cdot b_{i}\\right)+\\sum_{i, j}\\left(0.5\\cdot x_{i}\\cdot x_{j}\\cdot A_{i, j}\\right)\\right)\\\\\\quad \\left(α, β\\right) \\to \\begin{bmatrix} \\sum_{i}\\left(\\left(β\\cdot p_{i}+r_{i}\\right)\\cdot \\nabla \\left(E\\right)\\left(i \\to \\left(α\\cdot \\left(β\\cdot p_{i}+r_{i}\\right)+x_{i}\\right)\\right)_{i}\\right)\\\\\\quad \\sum_{i}\\left(α\\cdot p_{i}\\cdot \\nabla \\left(E\\right)\\left(i \\to \\left(α\\cdot \\left(β\\cdot p_{i}+r_{i}\\right)+x_{i}\\right)\\right)_{i}\\right) \\end{bmatrix}\\\\ \\mathrm{end}$"
      ],
      "text/plain": [
       "(A, r, p, b, x) -> \n",
       "    let \n",
       "        E = (x) -> \n",
       "            (∑((i), (x(i)⋅b(i)))+∑((i, j), (0.5⋅x(i)⋅x(j)⋅A(i, j))))\n",
       "        (α, β) -> \n",
       "            ∑((i), (((β⋅p(i))+r(i))⋅𝒫(E)((i) -> \n",
       "                ((α⋅((β⋅p(i))+r(i)))+x(i)), 1)(i))), ∑((i), (α⋅p(i)⋅𝒫(E)((i) -> \n",
       "                ((α⋅((β⋅p(i))+r(i)))+x(i)), 1)(i)))\n",
       "    end"
      ]
     },
     "execution_count": 7,
     "metadata": {},
     "output_type": "execute_result"
    }
   ],
   "source": [
    "df = vdiff(f)"
   ]
  },
  {
   "cell_type": "code",
   "execution_count": 8,
   "id": "386a1099-a035-4d75-811c-cef4726d9055",
   "metadata": {
    "tags": []
   },
   "outputs": [
    {
     "data": {
      "text/latex": [
       "$\\left(A, r, p, b, x\\right) \\to \\left(α, β\\right) \\to \\begin{bmatrix} \\left(\\sum_{i}\\left(\\left(β\\cdot p_{i}+r_{i}\\right)\\cdot b_{i}\\right)+\\sum_{i, j}\\left(\\left(α\\cdot \\left(β\\cdot p_{j}+r_{j}\\right)+x_{j}\\right)\\cdot \\left(β\\cdot p_{i}+r_{i}\\right)\\cdot A_{i, j}\\right)\\right)\\\\\\left(\\sum_{i}\\left(α\\cdot b_{i}\\cdot p_{i}\\right)+\\sum_{i, j}\\left(α\\cdot \\left(α\\cdot \\left(β\\cdot p_{j}+r_{j}\\right)+x_{j}\\right)\\cdot p_{i}\\cdot A_{i, j}\\right)\\right) \\end{bmatrix}$"
      ],
      "text/plain": [
       "(A, r, p, b, x) -> \n",
       "    (α, β) -> \n",
       "        (∑((i), (((β⋅p(i))+r(i))⋅b(i)))+∑((i, j), (((α⋅((β⋅p(j))+r(j)))+x(j))⋅((β⋅p(i))+r(i))⋅A(i, j)))), (∑((i), (α⋅b(i)⋅p(i)))+∑((i, j), (α⋅((α⋅((β⋅p(j))+r(j)))+x(j))⋅p(i)⋅A(i, j))))"
      ]
     },
     "execution_count": 8,
     "metadata": {},
     "output_type": "execute_result"
    }
   ],
   "source": [
    "df = vdiff(eval_all(f); settings=symmetry_settings)"
   ]
  },
  {
   "cell_type": "markdown",
   "id": "bf99e505-948f-4ded-819c-36721b79662d",
   "metadata": {},
   "source": [
    "## Lagrangian Mechanics"
   ]
  },
  {
   "cell_type": "code",
   "execution_count": 9,
   "id": "1edae315-c93e-403f-a389-3a17a1339ac3",
   "metadata": {
    "tags": []
   },
   "outputs": [],
   "source": [
    "_, ctx = @pct begin\n",
    "    @space X begin\n",
    "        type = (RF, ) -> RF\n",
    "        linear = true\n",
    "    end\n",
    "end; "
   ]
  },
  {
   "cell_type": "code",
   "execution_count": 10,
   "id": "748b151d-a0cc-474b-926c-c9b77dee82da",
   "metadata": {
    "tags": []
   },
   "outputs": [
    {
     "data": {
      "text/latex": [
       "$\\left(L, D\\right) \\to \\mathcal{P}\\left(r \\to \\sum_{t}\\left(L\\left(r\\left(t\\right), D\\left(r\\right)\\left(t\\right)\\right)\\right)\\right)$"
      ],
      "text/plain": [
       "(L, D) -> \n",
       "    𝒫((r) -> \n",
       "        ∑((t), L(r(t), D(r)(t))))"
      ]
     },
     "execution_count": 10,
     "metadata": {},
     "output_type": "execute_result"
    }
   ],
   "source": [
    "f = @pct _ ctx (L::RO, D::X) -> pullback((r::RF) -> sum((t::R), L(r(t), D(r)(t)))); f"
   ]
  },
  {
   "cell_type": "code",
   "execution_count": 11,
   "id": "39b5d1c0-7010-41d5-aa28-0f3c1e5020fb",
   "metadata": {
    "tags": []
   },
   "outputs": [
    {
     "data": {
      "text/latex": [
       "$\\left(L, D\\right) \\to r \\to \\left(\\mathbb{d} \\to \\nabla \\left(\\mathbb{z_2} \\to L\\left(\\mathbb{z_2}, D\\left(r\\right)\\left(\\mathbb{d}\\right)\\right)\\right)\\left(r\\left(\\mathbb{d}\\right)\\right)+D^{\\dagger}\\left(\\mathbb{d} \\to \\nabla \\left(\\mathbb{z_1} \\to L\\left(r\\left(\\mathbb{d}\\right), \\mathbb{z_1}\\right)\\right)\\left(D\\left(r\\right)\\left(\\mathbb{d}\\right)\\right)\\right)\\right)$"
      ],
      "text/plain": [
       "(L, D) -> \n",
       "    (r) -> \n",
       "        ((_d) -> \n",
       "            𝒫((_z_2) -> \n",
       "                L(_z_2, D(r)(_d)))(r(_d), 1)+D'((_d) -> \n",
       "            𝒫((_z_1) -> \n",
       "                L(r(_d), _z_1))(D(r)(_d), 1)))"
      ]
     },
     "execution_count": 11,
     "metadata": {},
     "output_type": "execute_result"
    }
   ],
   "source": [
    "vdiff(f; settings=custom_settings(:clench_sum=>true))"
   ]
  },
  {
   "cell_type": "markdown",
   "id": "54d4a70d-7c95-4020-9641-b72a66f0f20e",
   "metadata": {},
   "source": [
    "## Hartree Fock Gradient and Hessian Vector Product"
   ]
  },
  {
   "cell_type": "code",
   "execution_count": 12,
   "id": "1c91f52d-f0dd-4ca9-b685-d3f3c3fe6ace",
   "metadata": {
    "tags": []
   },
   "outputs": [],
   "source": [
    "_, ctx = @pct begin    \n",
    "    @space T begin\n",
    "        type = (I, I, I, I) -> C\n",
    "        symmetries = (((2, 1, 4, 3), :conj), ((3, 4, 1, 2), :id))\n",
    "    end\n",
    "end;"
   ]
  },
  {
   "cell_type": "code",
   "execution_count": 13,
   "id": "723e6157-9ae8-4f02-a016-7e0335267912",
   "metadata": {
    "tags": []
   },
   "outputs": [
    {
     "data": {
      "text/latex": [
       "$J \\to \\mathcal{P}\\left(C \\to \\sum_{i, j, p, q, r, s}\\left(C_{p, i}^{*}\\cdot C_{r, j}^{*}\\cdot J\\left(p, q, r, s\\right)\\cdot C_{s, j}\\cdot C_{q, i}\\right)\\right)$"
      ],
      "text/plain": [
       "(J) -> \n",
       "    𝒫((C) -> \n",
       "        ∑((i, j, p, q, r, s), (C(p, i)'⋅C(r, j)'⋅J(p, q, r, s)⋅C(s, j)⋅C(q, i))))"
      ]
     },
     "execution_count": 13,
     "metadata": {},
     "output_type": "execute_result"
    }
   ],
   "source": [
    "f = @pct _ ctx (J::T) -> pullback((C::CM) -> sum((i, j, p, q, r, s),\n",
    "    C(p, i)' * C(q, i) * C(r, j)' * C(s, j) * J(p, q, r, s)))"
   ]
  },
  {
   "cell_type": "code",
   "execution_count": 14,
   "id": "410462b4-7ad4-41dd-810b-daf309c29a4d",
   "metadata": {
    "tags": []
   },
   "outputs": [
    {
     "data": {
      "text/latex": [
       "$J \\to C \\to \\left(\\mathbb{d}, \\mathbb{d_1}\\right) \\to \\sum_{i, p, q, r}\\left(4.0\\cdot C_{q, i}^{*}\\cdot J\\left(\\mathbb{d}, r, q, p\\right)\\cdot C_{p, i}\\cdot C_{r, \\mathbb{d_1}}\\right)$"
      ],
      "text/plain": [
       "(J) -> \n",
       "    (C) -> \n",
       "        (_d, _d_1) -> \n",
       "            ∑((i, p, q, r), (4.0⋅C(q, i)'⋅J(_d, r, q, p)⋅C(p, i)⋅C(r, _d_1)))"
      ]
     },
     "execution_count": 14,
     "metadata": {},
     "output_type": "execute_result"
    }
   ],
   "source": [
    "df = vdiff(f; settings=symmetry_settings)"
   ]
  },
  {
   "cell_type": "code",
   "execution_count": 15,
   "id": "f9d37237-fd34-4ab1-b294-7da760489e0c",
   "metadata": {
    "tags": []
   },
   "outputs": [
    {
     "data": {
      "text/latex": [
       "$\\left(C, \\mathbb{k}\\right) \\to \\left(\\mathbb{d_3}, \\mathbb{d_2}\\right) \\to \\left(\\sum_{\\mathbb{d}, i, p, q}\\left(4.0\\cdot C_{q, i}^{*}\\cdot J\\left(\\mathbb{d}, \\mathbb{d_3}, q, p\\right)\\cdot \\mathbb{k}_{\\mathbb{d}, \\mathbb{d_2}}\\cdot C_{p, i}\\right)+\\sum_{\\mathbb{d}, \\mathbb{d_1}, q, r}\\left(4.0\\cdot C_{q, \\mathbb{d_2}}^{*}\\cdot J\\left(\\mathbb{d}, r, q, \\mathbb{d_3}\\right)\\cdot \\mathbb{k}_{\\mathbb{d}, \\mathbb{d_1}}\\cdot C_{r, \\mathbb{d_1}}\\right)+\\sum_{\\mathbb{d}, \\mathbb{d_1}, p, r}\\left(4.0\\cdot J\\left(\\mathbb{d}, r, \\mathbb{d_3}, p\\right)\\cdot \\mathbb{k}_{\\mathbb{d}, \\mathbb{d_1}}\\cdot C_{p, \\mathbb{d_2}}\\cdot C_{r, \\mathbb{d_1}}\\right)\\right)$"
      ],
      "text/plain": [
       "(C, _k) -> \n",
       "    (_d_3, _d_2) -> \n",
       "        (∑((_d, i, p, q), (4.0⋅C(q, i)'⋅J(_d, _d_3, q, p)⋅_k(_d, _d_2)⋅C(p, i)))+∑((_d, _d_1, q, r), (4.0⋅C(q, _d_2)'⋅J(_d, r, q, _d_3)⋅_k(_d, _d_1)⋅C(r, _d_1)))+∑((_d, _d_1, p, r), (4.0⋅J(_d, r, _d_3, p)⋅_k(_d, _d_1)⋅C(p, _d_2)⋅C(r, _d_1))))"
      ]
     },
     "execution_count": 15,
     "metadata": {},
     "output_type": "execute_result"
    }
   ],
   "source": [
    "df |> fc |> decompose |> pp |> simplify |> first"
   ]
  },
  {
   "cell_type": "markdown",
   "id": "b2138b6e-d9ed-46e7-8999-a0827403215e",
   "metadata": {},
   "source": [
    "## Foster Boys"
   ]
  },
  {
   "cell_type": "code",
   "execution_count": 16,
   "id": "35d317f9-4893-464d-beb8-c1b267a8e0cc",
   "metadata": {
    "tags": []
   },
   "outputs": [
    {
     "data": {
      "text/latex": [
       "$\\left(R, R2\\right) \\to \\mathcal{P}\\left(C \\to \\mathrm{let}\\\\ \\quad r = i \\to \\sum_{p, q}\\left(C_{i, p}^{*}\\cdot R_{p, q}\\cdot C_{i, q}\\right)\\\\\\quad \\sum_{i}\\left(\\left(-1.0\\cdot r_{i}^{*}\\cdot r_{i}+\\sum_{p, q}\\left(C_{i, p}^{*}\\cdot R2_{p, q}\\cdot C_{i, q}\\right)\\right)\\right)\\\\ \\mathrm{end}\\right)$"
      ],
      "text/plain": [
       "(R, R2) -> \n",
       "    𝒫((C) -> \n",
       "        let \n",
       "            r = (i) -> \n",
       "                ∑((p, q), (C(i, p)'⋅R(p, q)⋅C(i, q)))\n",
       "            ∑((i), ((-1.0⋅r(i)'⋅r(i))+∑((p, q), (C(i, p)'⋅R2(p, q)⋅C(i, q)))))\n",
       "        end)"
      ]
     },
     "execution_count": 16,
     "metadata": {},
     "output_type": "execute_result"
    }
   ],
   "source": [
    "f, _ = @pct (R::Her, R2::Her) -> pullback((C::CM) -> begin \n",
    "        r = (i::Z) -> sum((p, q), R(p, q) * C(i, p)' * C(i, q))\n",
    "        sum(i, sum((p, q), R2(p, q) * C(i, p)' * C(i, q)) - r(i)' * r(i))\n",
    "    end); f"
   ]
  },
  {
   "cell_type": "code",
   "execution_count": 17,
   "id": "5db5695f-c0b5-4c4f-ae81-8e0cda041c9c",
   "metadata": {
    "tags": []
   },
   "outputs": [
    {
     "data": {
      "text/latex": [
       "$\\left(R, R2\\right) \\to C \\to \\left(\\mathbb{d}, \\mathbb{d_1}\\right) \\to \\left(\\sum_{p}\\left(2.0\\cdot R2_{\\mathbb{d_1}, p}\\cdot C_{\\mathbb{d}, p}\\right)+\\sum_{p, \\mathbb{p}, q}\\left(-4.0\\cdot C_{\\mathbb{d}, \\mathbb{p}}^{*}\\cdot R_{\\mathbb{d_1}, p}\\cdot R_{\\mathbb{p}, q}\\cdot C_{\\mathbb{d}, q}\\cdot C_{\\mathbb{d}, p}\\right)\\right)$"
      ],
      "text/plain": [
       "(R, R2) -> \n",
       "    (C) -> \n",
       "        (_d, _d_1) -> \n",
       "            (∑((p), (2.0⋅R2(_d_1, p)⋅C(_d, p)))+∑((p, _p, q), (-4.0⋅C(_d, _p)'⋅R(_d_1, p)⋅R(_p, q)⋅C(_d, q)⋅C(_d, p))))"
      ]
     },
     "execution_count": 17,
     "metadata": {},
     "output_type": "execute_result"
    }
   ],
   "source": [
    "df = vdiff(eval_all(f); settings=symmetry_settings)"
   ]
  },
  {
   "cell_type": "markdown",
   "id": "b53f6b93-055f-45b5-bf1f-b4dec0aff424",
   "metadata": {},
   "source": [
    "## Localized Wannier Functions"
   ]
  },
  {
   "cell_type": "code",
   "execution_count": 18,
   "id": "9b81aaa2-4818-4b5e-9d88-e85872adf25c",
   "metadata": {
    "tags": []
   },
   "outputs": [],
   "source": [
    "_, ctx = @pct begin\n",
    "    @domain BZ begin\n",
    "        base = I\n",
    "        periodic = true\n",
    "    end\n",
    "    \n",
    "    @domain X begin\n",
    "        symmetric = true\n",
    "        contractable = false\n",
    "    end\n",
    "    \n",
    "    @space Mmn begin\n",
    "        type = (Z, Z, BZ, BZ) -> C\n",
    "        symmetries = (((2, 1, 4, 3), :conj),)\n",
    "    end\n",
    "\n",
    "    @space SV begin\n",
    "        type = (I,) -> C\n",
    "        symmetries = (((1,), :ineg),)\n",
    "    end\n",
    "    \n",
    "    @space Gauge begin\n",
    "        type = (Z, Z, BZ) -> C\n",
    "    end\n",
    "end;"
   ]
  },
  {
   "cell_type": "code",
   "execution_count": 19,
   "id": "48a4f93c-12a1-4bcb-a5f4-515dbc9ad429",
   "metadata": {
    "tags": []
   },
   "outputs": [
    {
     "data": {
      "text/latex": [
       "$\\left(S, w\\right) \\to \\mathcal{P}\\left(U \\to \\mathrm{let}\\\\ \\quad ρ = \\left(n, b\\right) \\to \\sum_{k, p, q}\\left(U\\left(p, n, k\\right)^{*}\\cdot U\\left(q, n, \\left(b+k\\right)\\right)\\cdot S\\left(p, q, k, \\left(b+k\\right)\\right)\\right)\\\\\\quad \\sum_{n, b}\\left(ρ\\left(n, b\\right)^{*}\\cdot ρ\\left(n, b\\right)\\right)\\\\ \\mathrm{end}\\right)$"
      ],
      "text/plain": [
       "(S, w) -> \n",
       "    𝒫((U) -> \n",
       "        let \n",
       "            ρ = (n, b) -> \n",
       "                ∑((k, p, q), (U(p, n, k)'⋅U(q, n, (b+k))⋅S(p, q, k, (b+k))))\n",
       "            ∑((n, b), (ρ(n, b)'⋅ρ(n, b)))\n",
       "        end)"
      ]
     },
     "execution_count": 19,
     "metadata": {},
     "output_type": "execute_result"
    }
   ],
   "source": [
    "f = @pct _ ctx (S::Mmn, w::SV) -> pullback((U::Gauge) -> \n",
    "    begin\n",
    "        ρ = (n::Z, b::X) -> sum((k::BZ, p, q), U(p, n, k)' * S(p, q, k, k + b) * U(q, n, k + b))\n",
    "        sum((n, b::X), ρ(n, b)' * ρ(n, b))\n",
    "    end)"
   ]
  },
  {
   "cell_type": "code",
   "execution_count": 20,
   "id": "df1a9d34-fceb-440a-8bad-28436f332653",
   "metadata": {
    "tags": []
   },
   "outputs": [
    {
     "data": {
      "text/latex": [
       "$\\left(S, w\\right) \\to U \\to \\left(\\mathbb{d}, \\mathbb{d_1}, \\mathbb{d_2}\\right) \\to \\sum_{b, p, k, \\mathbb{p}, q}\\left(4.0\\cdot U\\left(\\mathbb{p}, \\mathbb{d_1}, \\left(b+k\\right)\\right)^{*}\\cdot U\\left(q, \\mathbb{d_1}, k\\right)\\cdot U\\left(p, \\mathbb{d_1}, \\left(\\mathbb{d_2}+b\\right)\\right)\\cdot S\\left(\\mathbb{d}, p, \\mathbb{d_2}, \\left(\\mathbb{d_2}+b\\right)\\right)\\cdot S\\left(\\mathbb{p}, q, \\left(b+k\\right), k\\right)\\right)$"
      ],
      "text/plain": [
       "(S, w) -> \n",
       "    (U) -> \n",
       "        (_d, _d_1, _d_2) -> \n",
       "            ∑((b, p, k, _p, q), (4.0⋅U(_p, _d_1, (b+k))'⋅U(q, _d_1, k)⋅U(p, _d_1, (_d_2+b))⋅S(_d, p, _d_2, (_d_2+b))⋅S(_p, q, (b+k), k)))"
      ]
     },
     "execution_count": 20,
     "metadata": {},
     "output_type": "execute_result"
    }
   ],
   "source": [
    "# df = vdiff(eval_all(f); settings=custom_settings(:logging=>true; preset = symmetry_settings))\n",
    "df = vdiff(eval_all(f); settings=symmetry_settings)"
   ]
  },
  {
   "cell_type": "code",
   "execution_count": 48,
   "id": "f592614d-261c-4507-a9f0-09f59e411169",
   "metadata": {
    "tags": []
   },
   "outputs": [
    {
     "data": {
      "text/latex": [
       "$\\mathrm{let}\\\\ \\quad x = 1\\\\\\quad y = m \\to \\left(m-2.0\\right)\\\\\\quad j \\to \\left(y\\left(j\\right)+x\\right)\\\\ \\mathrm{end}$"
      ],
      "text/plain": [
       "let \n",
       "    x = 1\n",
       "    y = (m) -> \n",
       "        (m+-2.0)\n",
       "    (j) -> \n",
       "        (y(j)+x)\n",
       "end"
      ]
     },
     "execution_count": 48,
     "metadata": {},
     "output_type": "execute_result"
    }
   ],
   "source": [
    "f, _ = @pct begin\n",
    "    x = 1\n",
    "    y = (m::R) -> m - 2\n",
    "    (j::I) ->  x+ y(j)\n",
    "end; f"
   ]
  },
  {
   "cell_type": "code",
   "execution_count": 26,
   "id": "7d662ca6-c9b2-44e0-9956-c8eb22e29ed6",
   "metadata": {
    "tags": []
   },
   "outputs": [
    {
     "data": {
      "text/latex": [
       "$\\mathrm{let}\\\\ \\quad y = m \\to \\left(m-2.0\\right)\\\\\\quad j ∈ \\left(1, 2\\right) \\to y\\left(j\\right)\\\\ \\mathrm{end}$"
      ],
      "text/plain": [
       "let \n",
       "    y = (m) -> \n",
       "        (m+-2.0)\n",
       "    (j ∈ (1, 2)) -> \n",
       "        y(j)\n",
       "end"
      ]
     },
     "execution_count": 26,
     "metadata": {},
     "output_type": "execute_result"
    }
   ],
   "source": [
    "f, _ = @pct begin\n",
    "    y = (m::R) -> m - 2\n",
    "    (j::I ∈ (1, 2)) -> y(j)\n",
    "end; f"
   ]
  },
  {
   "cell_type": "code",
   "execution_count": null,
   "id": "b0c08ce5-5af3-4b1b-8e36-e7e0153eaf4e",
   "metadata": {},
   "outputs": [],
   "source": []
  }
 ],
 "metadata": {
  "kernelspec": {
   "display_name": "pct 1.10.0",
   "language": "julia",
   "name": "pct-1.10"
  },
  "language_info": {
   "file_extension": ".jl",
   "mimetype": "application/julia",
   "name": "julia",
   "version": "1.10.0"
  }
 },
 "nbformat": 4,
 "nbformat_minor": 5
}
