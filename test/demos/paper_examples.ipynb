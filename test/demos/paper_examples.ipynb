{
 "cells": [
  {
   "cell_type": "code",
   "execution_count": 31,
   "id": "1e61d825-5b7e-4a67-92ee-391fbedd7f8f",
   "metadata": {
    "tags": []
   },
   "outputs": [],
   "source": [
    "using PCT"
   ]
  },
  {
   "cell_type": "markdown",
   "id": "96386563-2233-4e53-9844-f90cd25d4399",
   "metadata": {},
   "source": [
    "## $x^{\\dagger} A x$"
   ]
  },
  {
   "cell_type": "code",
   "execution_count": 32,
   "id": "30ae0e8b-9f7d-4a5d-9d22-4961bd5c317c",
   "metadata": {
    "tags": []
   },
   "outputs": [
    {
     "data": {
      "text/latex": [
       "$A \\to \\mathcal{P}\\left(x \\to \\sum_{i, j}x_{i}^{*}\\cdot x_{j}\\cdot A_{i, j}\\right)$"
      ],
      "text/plain": [
       "(A) -> \n",
       "    𝒫((x) -> \n",
       "        ∑((i, j), (x(i)'⋅x(j)⋅A(i, j))))"
      ]
     },
     "execution_count": 32,
     "metadata": {},
     "output_type": "execute_result"
    }
   ],
   "source": [
    "f, _ = @pct (A::Her) -> 𝒫((x::CV) -> sum((i, j), x(i)' * A(i, j) * x(j))); f"
   ]
  },
  {
   "cell_type": "code",
   "execution_count": 33,
   "id": "64a31ea5-7771-4e77-8b43-585c61fca2a2",
   "metadata": {
    "tags": []
   },
   "outputs": [
    {
     "data": {
      "text/latex": [
       "$A \\to x \\to \\mathbb{d} \\to \\left(\\sum_{j}A_{j, \\mathbb{d}}^{*}\\cdot x_{j}\\right)\\cdot 2.0$"
      ],
      "text/plain": [
       "(A) -> \n",
       "    (x) -> \n",
       "        (_d) -> \n",
       "            (∑((j), (A(j, _d)'⋅x(j)))⋅2.0)"
      ]
     },
     "execution_count": 33,
     "metadata": {},
     "output_type": "execute_result"
    }
   ],
   "source": [
    "df = redux(vdiff(f), settings=symmetry_settings)"
   ]
  },
  {
   "cell_type": "markdown",
   "id": "e0554443-9d11-4e9e-92ea-d02d46340f46",
   "metadata": {},
   "source": [
    "## Trace of Product"
   ]
  },
  {
   "cell_type": "code",
   "execution_count": 34,
   "id": "7434d5d2-0937-4cdc-b675-c2b8ef92b152",
   "metadata": {
    "tags": []
   },
   "outputs": [
    {
     "data": {
      "text/latex": [
       "$\\mathrm{let}\\\\ \\quad tr = X \\to \\sum_{i}X_{i, i}\\\\\\quad matmul = \\left(A, B\\right) \\to \\left(i, j\\right) \\to \\sum_{n}A_{i, n}\\cdot B_{n, j}\\\\\\quad \\mathcal{P}\\left(\\left(A, B\\right) \\to tr\\left(\\left(matmul\\left(A, B\\right)+matmul\\left(B, A\\right)\\right)\\right)\\right)\\\\ \\mathrm{end}$"
      ],
      "text/plain": [
       "let \n",
       "    tr = (X) -> \n",
       "        ∑((i), X(i, i))\n",
       "    matmul = (A, B) -> \n",
       "        (i, j) -> \n",
       "            ∑((n), (A(i, n)⋅B(n, j)))\n",
       "    𝒫((A, B) -> \n",
       "        tr((matmul(A, B)+matmul(B, A))))\n",
       "end"
      ]
     },
     "execution_count": 34,
     "metadata": {},
     "output_type": "execute_result"
    }
   ],
   "source": [
    "f, _ = @pct begin\n",
    "    tr = (X::CM) -> sum(i, X(i, i))\n",
    "    matmul = (A::CM, B::CM) -> (i::N, j::N) -> sum(n, A(i, n) * B(n, j))\n",
    "    pullback((A::CM, B::CM) -> tr(matmul(A, B) + matmul(B, A)))\n",
    "end; f"
   ]
  },
  {
   "cell_type": "code",
   "execution_count": 35,
   "id": "1ff8278f-15eb-4336-87ce-8687cf74568a",
   "metadata": {
    "tags": []
   },
   "outputs": [
    {
     "data": {
      "text/latex": [
       "$\\left(A, B\\right) \\to \\left(\\mathbb{d}, \\mathbb{d}_{1}\\right) \\to B_{\\mathbb{d}_{1}, \\mathbb{d}}^{*}\\cdot 2.0, \\left(\\mathbb{d}, \\mathbb{d}_{1}\\right) \\to A_{\\mathbb{d}_{1}, \\mathbb{d}}^{*}\\cdot 2.0$"
      ],
      "text/plain": [
       "(A, B) -> \n",
       "    (_d, _d_1) -> \n",
       "        (B(_d_1, _d)'⋅2.0), (_d, _d_1) -> \n",
       "        (A(_d_1, _d)'⋅2.0)"
      ]
     },
     "execution_count": 35,
     "metadata": {},
     "output_type": "execute_result"
    }
   ],
   "source": [
    "redux(vdiff(eval_all(f)); settings=symmetry_settings)"
   ]
  },
  {
   "cell_type": "markdown",
   "id": "4924b3d0-edba-44c5-b4e8-05308fc0c9e2",
   "metadata": {},
   "source": [
    "## Conjugate Gradient"
   ]
  },
  {
   "cell_type": "code",
   "execution_count": 36,
   "id": "f7acc1d0-666e-413e-bfb8-e21843334035",
   "metadata": {
    "tags": []
   },
   "outputs": [
    {
     "data": {
      "text/latex": [
       "$\\left(A, r, p, b, x\\right) \\to \\mathrm{let}\\\\ \\quad E = x \\to \\left(\\sum_{i}x_{i}\\cdot b_{i}+\\sum_{i, j}x_{i}\\cdot x_{j}\\cdot A_{i, j}\\cdot 0.5\\right)\\\\\\quad \\mathcal{P}\\left(\\left(α, β\\right) \\to E\\left(i \\to \\left(\\left(p_{i}\\cdot β+r_{i}\\right)\\cdot α+x_{i}\\right)\\right)\\right)\\\\ \\mathrm{end}$"
      ],
      "text/plain": [
       "(A, r, p, b, x) -> \n",
       "    let \n",
       "        E = (x) -> \n",
       "            (∑((i), (x(i)⋅b(i)))+∑((i, j), (x(i)⋅x(j)⋅A(i, j)⋅0.5)))\n",
       "        𝒫((α, β) -> \n",
       "            E((i) -> \n",
       "                ((((p(i)⋅β)+r(i))⋅α)+x(i))))\n",
       "    end"
      ]
     },
     "execution_count": 36,
     "metadata": {},
     "output_type": "execute_result"
    }
   ],
   "source": [
    "f, _ = @pct (A::Sym, r::RV, p::RV, b::RV, x::RV) -> begin\n",
    "    E = (x::RV) -> sum((i, j), 0.5 * x(i) * A(i, j) * x(j)) + sum(i, x(i) * b(i))\n",
    "    pullback((α::R, β::R) -> E((i::N) -> x(i) + α * (r(i) + β * p(i))))\n",
    "end; f"
   ]
  },
  {
   "cell_type": "code",
   "execution_count": 10,
   "id": "c2c03494-aabf-4443-b52e-8102d9ed7ec3",
   "metadata": {
    "tags": []
   },
   "outputs": [
    {
     "data": {
      "text/latex": [
       "$\\left(A, r, p, b, x\\right) \\to \\mathrm{let}\\\\ \\quad E = x \\to \\left(\\sum_{i}x_{i}\\cdot b_{i}+\\sum_{i, j}x_{i}\\cdot x_{j}\\cdot A_{i, j}\\cdot 0.5\\right)\\\\\\quad \\left(α, β\\right) \\to \\sum_{i}\\left(p_{i}\\cdot β+r_{i}\\right)\\cdot \\nabla \\left(E\\right)\\left(i \\to \\left(\\left(p_{i}\\cdot β+r_{i}\\right)\\cdot α+x_{i}\\right)\\right)_{i}, \\left(\\sum_{i}\\nabla \\left(E\\right)\\left(i \\to \\left(\\left(p_{i}\\cdot β+r_{i}\\right)\\cdot α+x_{i}\\right)\\right)_{i}\\cdot p_{i}\\right)\\cdot α\\\\ \\mathrm{end}$"
      ],
      "text/plain": [
       "(A, r, p, b, x) -> \n",
       "    let \n",
       "        E = (x) -> \n",
       "            (∑((i), (x(i)⋅b(i)))+∑((i, j), (x(i)⋅x(j)⋅A(i, j)⋅0.5)))\n",
       "        (α, β) -> \n",
       "            ∑((i), (((p(i)⋅β)+r(i))⋅𝒫(E)((i) -> \n",
       "                ((((p(i)⋅β)+r(i))⋅α)+x(i)), 1)(i))), (∑((i), (𝒫(E)((i) -> \n",
       "                ((((p(i)⋅β)+r(i))⋅α)+x(i)), 1)(i)⋅p(i)))⋅α)\n",
       "    end"
      ]
     },
     "execution_count": 10,
     "metadata": {},
     "output_type": "execute_result"
    }
   ],
   "source": [
    "df = vdiff(f)"
   ]
  },
  {
   "cell_type": "code",
   "execution_count": 11,
   "id": "386a1099-a035-4d75-811c-cef4726d9055",
   "metadata": {
    "tags": []
   },
   "outputs": [
    {
     "data": {
      "text/latex": [
       "$\\left(A, r, p, b, x\\right) \\to \\left(α, β\\right) \\to \\left(\\sum_{i}\\left(p_{i}\\cdot β+r_{i}\\right)\\cdot b_{i}+\\sum_{i, j}\\left(\\left(p_{j}\\cdot β+r_{j}\\right)\\cdot α+x_{j}\\right)\\cdot \\left(p_{i}\\cdot β+r_{i}\\right)\\cdot A_{j, i}\\right), \\left(\\sum_{i}b_{i}\\cdot p_{i}+\\sum_{i, j}\\left(\\left(p_{j}\\cdot β+r_{j}\\right)\\cdot α+x_{j}\\right)\\cdot p_{i}\\cdot A_{i, j}\\right)\\cdot α$"
      ],
      "text/plain": [
       "(A, r, p, b, x) -> \n",
       "    (α, β) -> \n",
       "        (∑((i), (((p(i)⋅β)+r(i))⋅b(i)))+∑((i, j), (((((p(j)⋅β)+r(j))⋅α)+x(j))⋅((p(i)⋅β)+r(i))⋅A(j, i)))), ((∑((i), (b(i)⋅p(i)))+∑((i, j), (((((p(j)⋅β)+r(j))⋅α)+x(j))⋅p(i)⋅A(i, j))))⋅α)"
      ]
     },
     "execution_count": 11,
     "metadata": {},
     "output_type": "execute_result"
    }
   ],
   "source": [
    "df = redux(vdiff(eval_all(f)); settings=symmetry_settings)"
   ]
  },
  {
   "cell_type": "markdown",
   "id": "bf99e505-948f-4ded-819c-36721b79662d",
   "metadata": {},
   "source": [
    "## Lagrangian Mechanics"
   ]
  },
  {
   "cell_type": "code",
   "execution_count": 12,
   "id": "1edae315-c93e-403f-a389-3a17a1339ac3",
   "metadata": {
    "tags": []
   },
   "outputs": [],
   "source": [
    "_, ctx = @pct begin\n",
    "    @space X begin\n",
    "        type = (RF, ) -> RF\n",
    "        linear = true\n",
    "    end\n",
    "end; "
   ]
  },
  {
   "cell_type": "code",
   "execution_count": 13,
   "id": "748b151d-a0cc-474b-926c-c9b77dee82da",
   "metadata": {
    "tags": []
   },
   "outputs": [
    {
     "data": {
      "text/latex": [
       "$\\left(L, D\\right) \\to \\mathcal{P}\\left(r \\to \\sum_{t}L\\left(r\\left(t\\right), D\\left(r\\right)\\left(t\\right)\\right)\\right)$"
      ],
      "text/plain": [
       "(L, D) -> \n",
       "    𝒫((r) -> \n",
       "        ∑((t), L(r(t), D(r)(t))))"
      ]
     },
     "execution_count": 13,
     "metadata": {},
     "output_type": "execute_result"
    }
   ],
   "source": [
    "f, _ = @pct _ ctx (L::RO, D::X) -> pullback((r::RF) -> sum((t::R), L(r(t), D(r)(t)))); f"
   ]
  },
  {
   "cell_type": "code",
   "execution_count": 14,
   "id": "39b5d1c0-7010-41d5-aa28-0f3c1e5020fb",
   "metadata": {
    "tags": []
   },
   "outputs": [
    {
     "data": {
      "text/latex": [
       "$\\left(L, D\\right) \\to r \\to \\left(D^{\\dagger}\\left(\\mathbb{d} \\to \\nabla \\left(\\mathbb{z_1} \\to L\\left(r\\left(\\mathbb{d}\\right), \\mathbb{z_1}\\right)\\right)\\left(D\\left(r\\right)\\left(\\mathbb{d}\\right)\\right)\\right)+\\mathbb{d} \\to \\nabla \\left(\\mathbb{z_2} \\to L\\left(\\mathbb{z_2}, D\\left(r\\right)\\left(\\mathbb{d}\\right)\\right)\\right)\\left(r\\left(\\mathbb{d}\\right)\\right)\\right)$"
      ],
      "text/plain": [
       "(L, D) -> \n",
       "    (r) -> \n",
       "        (D'((_d) -> \n",
       "            𝒫((_z_1) -> \n",
       "                L(r(_d), _z_1))(D(r)(_d), 1))+(_d) -> \n",
       "            𝒫((_z_2) -> \n",
       "                L(_z_2, D(r)(_d)))(r(_d), 1))"
      ]
     },
     "execution_count": 14,
     "metadata": {},
     "output_type": "execute_result"
    }
   ],
   "source": [
    "redux(vdiff(f); settings=custom_settings(:clench_sum=>true))"
   ]
  },
  {
   "cell_type": "markdown",
   "id": "54d4a70d-7c95-4020-9641-b72a66f0f20e",
   "metadata": {},
   "source": [
    "## Hartree Fock Gradient and Hessian Vector Product"
   ]
  },
  {
   "cell_type": "code",
   "execution_count": 40,
   "id": "1c91f52d-f0dd-4ca9-b685-d3f3c3fe6ace",
   "metadata": {
    "tags": []
   },
   "outputs": [],
   "source": [
    "_, ctx = @pct begin    \n",
    "    @space T begin\n",
    "        type = (I, I, I, I) -> C\n",
    "        symmetries = (((2, 1, 4, 3), :conj), ((3, 4, 1, 2), :id))\n",
    "    end\n",
    "end;"
   ]
  },
  {
   "cell_type": "code",
   "execution_count": 41,
   "id": "723e6157-9ae8-4f02-a016-7e0335267912",
   "metadata": {
    "tags": []
   },
   "outputs": [
    {
     "data": {
      "text/latex": [
       "$J \\to \\mathcal{P}\\left(C \\to \\sum_{i, j, p, q, r, s}C_{p, i}^{*}\\cdot C_{r, j}^{*}\\cdot J\\left(p, q, r, s\\right)\\cdot C_{s, j}\\cdot C_{q, i}\\right)$"
      ],
      "text/plain": [
       "(J) -> \n",
       "    𝒫((C) -> \n",
       "        ∑((i, j, p, q, r, s), (C(p, i)'⋅C(r, j)'⋅J(p, q, r, s)⋅C(s, j)⋅C(q, i))))"
      ]
     },
     "execution_count": 41,
     "metadata": {},
     "output_type": "execute_result"
    }
   ],
   "source": [
    "f, _ = @pct _ ctx (J::T) -> pullback((C::CM) -> sum((i, j, p, q, r, s),\n",
    "    C(p, i)' * C(q, i) * C(r, j)' * C(s, j) * J(p, q, r, s))); f"
   ]
  },
  {
   "cell_type": "code",
   "execution_count": 42,
   "id": "63f8d0a8-09ce-4558-8f32-1b3696940f19",
   "metadata": {
    "tags": []
   },
   "outputs": [
    {
     "data": {
      "text/latex": [
       "$J \\to C \\to \\left(\\mathbb{d}, \\mathbb{d}_{1}\\right) \\to \\left(\\sum_{j, p, r, s}J\\left(r, s, p, \\mathbb{d}\\right)^{*}\\cdot C_{s, j}^{*}\\cdot C_{p, \\mathbb{d}_{1}}\\cdot C_{r, j}\\right)\\cdot 4.0$"
      ],
      "text/plain": [
       "(J) -> \n",
       "    (C) -> \n",
       "        (_d, _d_1) -> \n",
       "            (∑((j, p, r, s), (J(r, s, p, _d)'⋅C(s, j)'⋅C(p, _d_1)⋅C(r, j)))⋅4.0)"
      ]
     },
     "execution_count": 42,
     "metadata": {},
     "output_type": "execute_result"
    }
   ],
   "source": [
    "df = redux(vdiff(f); settings=symmetry_settings)"
   ]
  },
  {
   "cell_type": "code",
   "execution_count": 43,
   "id": "f9d37237-fd34-4ab1-b294-7da760489e0c",
   "metadata": {
    "tags": []
   },
   "outputs": [
    {
     "data": {
      "text/latex": [
       "$\\left(C, \\mathbb{k}\\right) \\to \\left(\\mathbb{a}_{2}, \\mathbb{a}_{3}\\right) \\to \\left(\\sum_{\\mathbb{d}, \\mathbb{d}_{1}, p, s}C_{p, \\mathbb{d}_{1}}^{*}\\cdot J\\left(\\mathbb{a}_{2}, s, p, \\mathbb{d}\\right)\\cdot \\mathbb{k}_{\\mathbb{d}, \\mathbb{d}_{1}}\\cdot C_{s, \\mathbb{a}_{3}}+\\sum_{\\mathbb{d}, \\mathbb{d}_{1}, p, r}J\\left(r, \\mathbb{a}_{2}, p, \\mathbb{d}\\right)^{*}\\cdot \\mathbb{k}_{\\mathbb{d}, \\mathbb{d}_{1}}^{*}\\cdot C_{p, \\mathbb{d}_{1}}\\cdot C_{r, \\mathbb{a}_{3}}+\\sum_{\\mathbb{d}, j, r, s}C_{r, j}^{*}\\cdot J\\left(r, s, \\mathbb{a}_{2}, \\mathbb{d}\\right)\\cdot \\mathbb{k}_{\\mathbb{d}, \\mathbb{a}_{3}}\\cdot C_{s, j}\\right)\\cdot 4.0$"
      ],
      "text/plain": [
       "(C, _k) -> \n",
       "    (_a_2, _a_3) -> \n",
       "        ((∑((_d, _d_1, p, s), (C(p, _d_1)'⋅J(_a_2, s, p, _d)⋅_k(_d, _d_1)⋅C(s, _a_3)))+∑((_d, _d_1, p, r), (J(r, _a_2, p, _d)'⋅_k(_d, _d_1)'⋅C(p, _d_1)⋅C(r, _a_3)))+∑((_d, j, r, s), (C(r, j)'⋅J(r, s, _a_2, _d)⋅_k(_d, _a_3)⋅C(s, j))))⋅4.0)"
      ]
     },
     "execution_count": 43,
     "metadata": {},
     "output_type": "execute_result"
    }
   ],
   "source": [
    "df |> get_body |> decompose |> pp |> simplify |> first"
   ]
  },
  {
   "cell_type": "markdown",
   "id": "b2138b6e-d9ed-46e7-8999-a0827403215e",
   "metadata": {},
   "source": [
    "## Foster Boys"
   ]
  },
  {
   "cell_type": "code",
   "execution_count": 45,
   "id": "35d317f9-4893-464d-beb8-c1b267a8e0cc",
   "metadata": {
    "tags": []
   },
   "outputs": [
    {
     "data": {
      "text/latex": [
       "$\\left(R, R2\\right) \\to \\mathcal{P}\\left(C \\to \\mathrm{let}\\\\ \\quad r = i \\to \\sum_{p, q}\\left(R_{p, q}\\cdot C_{i, q}\\cdot C_{i, p}^{*}\\right)\\\\\\quad \\sum_{i}\\left(\\left(\\sum_{p, q}\\left(R2_{p, q}\\cdot C_{i, q}\\cdot C_{i, p}^{*}\\right)-1.0\\cdot r_{i}\\cdot r_{i}^{*}\\right)\\right)\\\\ \\mathrm{end}\\right)$"
      ],
      "text/plain": [
       "(R, R2) -> \n",
       "    𝒫((C) -> \n",
       "        let \n",
       "            r = (i) -> \n",
       "                ∑((p, q), (R(p, q)⋅C(i, q)⋅C(i, p)'))\n",
       "            ∑((i), (∑((p, q), (R2(p, q)⋅C(i, q)⋅C(i, p)'))+(r(i)⋅r(i)'⋅-1.0)))\n",
       "        end)"
      ]
     },
     "execution_count": 45,
     "metadata": {},
     "output_type": "execute_result"
    }
   ],
   "source": [
    "f, _ = @pct (R::Her, R2::Her) -> pullback((C::CM) -> begin \n",
    "        r = (i::N) -> sum((p, q), R(p, q) * C(i, p)' * C(i, q))\n",
    "        sum(i, sum((p, q), R2(p, q) * C(i, p)' * C(i, q)) - r(i)' * r(i))\n",
    "    end); f"
   ]
  },
  {
   "cell_type": "code",
   "execution_count": 46,
   "id": "5db5695f-c0b5-4c4f-ae81-8e0cda041c9c",
   "metadata": {
    "tags": []
   },
   "outputs": [
    {
     "data": {
      "text/latex": [
       "$\\left(R, R2\\right) \\to C \\to \\left(\\mathbb{d}, \\mathbb{d_1}\\right) \\to 2.0\\cdot \\left(\\sum_{p}\\left(R2_{\\mathbb{d_1}, p}\\cdot C_{\\mathbb{d}, p}\\right)+\\sum_{\\mathbb{i}, p, q}\\left(-2.0\\cdot R_{\\mathbb{d_1}, p}\\cdot R_{\\mathbb{i}, q}\\cdot C_{\\mathbb{d}, q}\\cdot C_{\\mathbb{d}, p}\\cdot C_{\\mathbb{d}, \\mathbb{i}}^{*}\\right)\\right)$"
      ],
      "text/plain": [
       "(R, R2) -> \n",
       "    (C) -> \n",
       "        (_d, _d_1) -> \n",
       "            (2.0⋅(∑((p), (R2(_d_1, p)⋅C(_d, p)))+∑((_i, p, q), (R(_d_1, p)⋅R(_i, q)⋅C(_d, q)⋅C(_d, p)⋅C(_d, _i)'⋅-2.0))))"
      ]
     },
     "execution_count": 46,
     "metadata": {},
     "output_type": "execute_result"
    }
   ],
   "source": [
    "df = redux(vdiff(eval_all(f)); settings=symmetry_settings)"
   ]
  },
  {
   "cell_type": "markdown",
   "id": "b53f6b93-055f-45b5-bf1f-b4dec0aff424",
   "metadata": {},
   "source": [
    "## Localized Wannier Functions"
   ]
  },
  {
   "cell_type": "code",
   "execution_count": 37,
   "id": "9b81aaa2-4818-4b5e-9d88-e85872adf25c",
   "metadata": {
    "tags": []
   },
   "outputs": [],
   "source": [
    "_, ctx = @pct begin\n",
    "    @domain BZ begin\n",
    "        base = I\n",
    "        periodic = true\n",
    "    end\n",
    "    \n",
    "    @domain X begin\n",
    "        symmetric = true\n",
    "        contractable = false\n",
    "    end\n",
    "    \n",
    "    @space Mmn begin\n",
    "        type = (N, N, BZ, BZ) -> C\n",
    "        symmetries = (((2, 1, 4, 3), :conj),)\n",
    "    end\n",
    "\n",
    "    @space SV begin\n",
    "        type = (I,) -> C\n",
    "        symmetries = (((1,), :ineg),)\n",
    "    end\n",
    "    \n",
    "    @space Gauge begin\n",
    "        type = (N, N, BZ) -> C\n",
    "    end\n",
    "end;"
   ]
  },
  {
   "cell_type": "code",
   "execution_count": 38,
   "id": "48a4f93c-12a1-4bcb-a5f4-515dbc9ad429",
   "metadata": {
    "tags": []
   },
   "outputs": [
    {
     "data": {
      "text/latex": [
       "$\\left(S, w\\right) \\to \\mathcal{P}\\left(U \\to \\mathrm{let}\\\\ \\quad ρ = \\left(n, b\\right) \\to \\sum_{k, p, q}U\\left(p, n, k\\right)^{*}\\cdot U\\left(q, n, \\left(b+k\\right)\\right)\\cdot S\\left(p, q, k, \\left(b+k\\right)\\right)\\\\\\quad \\sum_{n, b}ρ\\left(n, b\\right)^{*}\\cdot ρ\\left(n, b\\right)\\\\ \\mathrm{end}\\right)$"
      ],
      "text/plain": [
       "(S, w) -> \n",
       "    𝒫((U) -> \n",
       "        let \n",
       "            ρ = (n, b) -> \n",
       "                ∑((k, p, q), (U(p, n, k)'⋅U(q, n, (b+k))⋅S(p, q, k, (b+k))))\n",
       "            ∑((n, b), (ρ(n, b)'⋅ρ(n, b)))\n",
       "        end)"
      ]
     },
     "execution_count": 38,
     "metadata": {},
     "output_type": "execute_result"
    }
   ],
   "source": [
    "f, _ = @pct _ ctx (S::Mmn, w::SV) -> pullback((U::Gauge) -> \n",
    "    begin\n",
    "        ρ = (n::N, b::X) -> sum((k::BZ, p, q), U(p, n, k)' * S(p, q, k, k + b) * U(q, n, k + b))\n",
    "        sum((n, b::X), ρ(n, b)' * ρ(n, b))\n",
    "    end); f"
   ]
  },
  {
   "cell_type": "code",
   "execution_count": 39,
   "id": "df1a9d34-fceb-440a-8bad-28436f332653",
   "metadata": {
    "tags": []
   },
   "outputs": [
    {
     "data": {
      "text/latex": [
       "$\\left(S, w\\right) \\to U \\to \\left(\\mathbb{d}, \\mathbb{d}_{1}, \\mathbb{d}_{2}\\right) \\to \\left(\\sum_{b, p, k, \\mathbb{p}, q}U\\left(\\mathbb{p}, \\mathbb{d}_{1}, k\\right)^{*}\\cdot S\\left(q, \\mathbb{p}, \\left(b+k\\right), k\\right)^{*}\\cdot S\\left(p, \\mathbb{d}, \\left(\\mathbb{d}_{2}-1.0\\cdot b\\right), \\mathbb{d}_{2}\\right)^{*}\\cdot U\\left(q, \\mathbb{d}_{1}, \\left(b+k\\right)\\right)\\cdot U\\left(p, \\mathbb{d}_{1}, \\left(\\mathbb{d}_{2}-1.0\\cdot b\\right)\\right)\\right)\\cdot 4.0$"
      ],
      "text/plain": [
       "(S, w) -> \n",
       "    (U) -> \n",
       "        (_d, _d_1, _d_2) -> \n",
       "            (∑((b, p, k, _p, q), (U(_p, _d_1, k)'⋅S(q, _p, (b+k), k)'⋅S(p, _d, (_d_2+(b⋅-1.0)), _d_2)'⋅U(q, _d_1, (b+k))⋅U(p, _d_1, (_d_2+(b⋅-1.0)))))⋅4.0)"
      ]
     },
     "execution_count": 39,
     "metadata": {},
     "output_type": "execute_result"
    }
   ],
   "source": [
    "# df = vdiff(eval_all(f); settings=custom_settings(:logging=>true; preset = symmetry_settings))\n",
    "df = redux(vdiff(eval_all(f)); settings=symmetry_settings)"
   ]
  },
  {
   "cell_type": "code",
   "execution_count": 22,
   "id": "15001476-186a-49bc-910d-31c32d0b7579",
   "metadata": {
    "tags": []
   },
   "outputs": [],
   "source": [
    "_, ctx = @pct begin\n",
    "    @space Tau begin\n",
    "        type=(R, RV) -> RM\n",
    "    end\n",
    "    \n",
    "    @space Nu begin\n",
    "        type=(RV, ) -> R\n",
    "    end\n",
    "        \n",
    "    @space S begin\n",
    "        type=(RV, )->RV\n",
    "    end\n",
    "end;"
   ]
  },
  {
   "cell_type": "code",
   "execution_count": 14,
   "id": "b2d38359-5108-48ea-8a02-fe3820bd3fcd",
   "metadata": {
    "tags": []
   },
   "outputs": [
    {
     "data": {
      "text/latex": [
       "$\\left(τ, ν, p\\right) \\to \\mathrm{vdiff}\\left(\\mathcal{P}\\left(x \\to τ\\left(ν\\left(x\\right), p\\left(x\\right)\\right)\\right)\\right)$"
      ],
      "text/plain": [
       "(τ, ν, p) -> \n",
       "    __vdiff(𝒫((x) -> \n",
       "        τ(ν(x), p(x))))"
      ]
     },
     "execution_count": 14,
     "metadata": {},
     "output_type": "execute_result"
    }
   ],
   "source": [
    "f, _ = @pct _ ctx (τ::Tau, ν::Nu, p::S) -> :vdiff(pullback((x::RV) -> τ(ν(x), p(x)))); f"
   ]
  },
  {
   "cell_type": "code",
   "execution_count": 15,
   "id": "09fb7c6e-ddbe-4e1f-9816-28a87be974b7",
   "metadata": {
    "tags": []
   },
   "outputs": [
    {
     "data": {
      "text/latex": [
       "$\\left(τ, ν, p\\right) \\to x \\to \\left(\\mathcal{P}\\left(ν\\right)\\left(x, \\nabla \\left(\\mathbb{z} \\to τ\\left(\\mathbb{z}, p\\left(x\\right)\\right)\\right)\\left(ν\\left(x\\right)\\right)\\right)+\\mathcal{P}\\left(p\\right)\\left(x, \\nabla \\left(\\mathbb{z_1} \\to τ\\left(ν\\left(x\\right), \\mathbb{z_1}\\right)\\right)\\left(p\\left(x\\right)\\right)\\right)\\right)$"
      ],
      "text/plain": [
       "(τ, ν, p) -> \n",
       "    (x) -> \n",
       "        (𝒫(ν)(x, 𝒫((_z) -> \n",
       "            τ(_z, p(x)))(ν(x), 1))+𝒫(p)(x, 𝒫((_z_1) -> \n",
       "            τ(ν(x), _z_1))(p(x), 1)))"
      ]
     },
     "execution_count": 15,
     "metadata": {},
     "output_type": "execute_result"
    }
   ],
   "source": [
    "df = process_directive(f)"
   ]
  }
 ],
 "metadata": {
  "kernelspec": {
   "display_name": "pct 1.10.0",
   "language": "julia",
   "name": "pct-1.10"
  },
  "language_info": {
   "file_extension": ".jl",
   "mimetype": "application/julia",
   "name": "julia",
   "version": "1.10.0"
  }
 },
 "nbformat": 4,
 "nbformat_minor": 5
}
