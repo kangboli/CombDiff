{
 "cells": [
  {
   "cell_type": "code",
   "execution_count": 1,
   "id": "1e61d825-5b7e-4a67-92ee-391fbedd7f8f",
   "metadata": {
    "tags": []
   },
   "outputs": [
    {
     "name": "stderr",
     "output_type": "stream",
     "text": [
      "\u001b[32m\u001b[1mPrecompiling\u001b[22m\u001b[39m PCT\n",
      "\u001b[32m  ✓ \u001b[39mPCT\n",
      "  1 dependency successfully precompiled in 2 seconds. 7 already precompiled.\n"
     ]
    }
   ],
   "source": [
    "using PCT"
   ]
  },
  {
   "cell_type": "markdown",
   "id": "96386563-2233-4e53-9844-f90cd25d4399",
   "metadata": {},
   "source": [
    "## $x^{\\dagger} A x$"
   ]
  },
  {
   "cell_type": "code",
   "execution_count": 3,
   "id": "30ae0e8b-9f7d-4a5d-9d22-4961bd5c317c",
   "metadata": {
    "tags": []
   },
   "outputs": [
    {
     "data": {
      "text/latex": [
       "$A \\to \\mathcal{P}\\left(x \\to x^{\\dagger}\\cdot A\\cdot x\\right)$"
      ],
      "text/plain": [
       "(A) -> \n",
       "    𝒫((x) -> \n",
       "        x⁺⋅A⋅x)"
      ]
     },
     "execution_count": 3,
     "metadata": {},
     "output_type": "execute_result"
    }
   ],
   "source": [
    "f, _ = @pct (A::Her) -> 𝒫((x::CV) -> sum((i, j), x(i)' * A(i, j) * x(j)))\n",
    "blaserize(f)"
   ]
  },
  {
   "cell_type": "code",
   "execution_count": 20,
   "id": "64a31ea5-7771-4e77-8b43-585c61fca2a2",
   "metadata": {
    "tags": []
   },
   "outputs": [
    {
     "data": {
      "text/latex": [
       "$A \\to x \\to 2.0 \\cdot A\\cdot x$"
      ],
      "text/plain": [
       "(A) -> \n",
       "    (x) -> \n",
       "        2.0⋅A⋅x"
      ]
     },
     "execution_count": 20,
     "metadata": {},
     "output_type": "execute_result"
    }
   ],
   "source": [
    "df = redux(vdiff(f), settings=symmetry_settings) |> blaserize"
   ]
  },
  {
   "cell_type": "markdown",
   "id": "e0554443-9d11-4e9e-92ea-d02d46340f46",
   "metadata": {},
   "source": [
    "## Trace of Product"
   ]
  },
  {
   "cell_type": "code",
   "execution_count": 26,
   "id": "7434d5d2-0937-4cdc-b675-c2b8ef92b152",
   "metadata": {
    "tags": []
   },
   "outputs": [
    {
     "data": {
      "text/latex": [
       "$\\mathrm{let}\\\\ \\quad tr = X \\to \\sum_{i}X_{i, i}\\\\\\quad matmul = \\left(A, B\\right) \\to \\left(i, j\\right) \\to \\sum_{n}A_{i, n}\\cdot B_{n, j}\\\\\\quad \\mathcal{P}\\left(\\left(A, B\\right) \\to tr\\left(\\left(matmul\\left(A, B\\right)+matmul\\left(B, A\\right)\\right)\\right)\\right)\\\\ \\mathrm{end}$"
      ],
      "text/plain": [
       "let \n",
       "    tr = (X) -> \n",
       "        ∑((i), X(i, i))\n",
       "    matmul = (A, B) -> \n",
       "        (i, j) -> \n",
       "            ∑((n), (A(i, n)⋅B(n, j)))\n",
       "    𝒫((A, B) -> \n",
       "        tr((matmul(A, B)+matmul(B, A))))\n",
       "end"
      ]
     },
     "execution_count": 26,
     "metadata": {},
     "output_type": "execute_result"
    }
   ],
   "source": [
    "f, _ = @pct begin\n",
    "    tr = (X::CM) -> sum(i, X(i, i))\n",
    "    matmul = (A::CM, B::CM) -> (i::N, j::N) -> sum(n, A(i, n) * B(n, j))\n",
    "    pullback((A::CM, B::CM) -> tr(matmul(A, B) + matmul(B, A)))\n",
    "end; f"
   ]
  },
  {
   "cell_type": "code",
   "execution_count": 37,
   "id": "1ff8278f-15eb-4336-87ce-8687cf74568a",
   "metadata": {
    "tags": []
   },
   "outputs": [
    {
     "data": {
      "text/latex": [
       "$\\left(A, B\\right) \\to \\left(2.0 \\cdot B^{\\dagger}, 2.0 \\cdot A^{\\dagger}\\right)$"
      ],
      "text/plain": [
       "(A, B) -> \n",
       "    2.0⋅B⁺, 2.0⋅A⁺"
      ]
     },
     "execution_count": 37,
     "metadata": {},
     "output_type": "execute_result"
    }
   ],
   "source": [
    "redux(vdiff(eval_all(f)); settings=symmetry_settings) |> blaserize"
   ]
  },
  {
   "cell_type": "markdown",
   "id": "4924b3d0-edba-44c5-b4e8-05308fc0c9e2",
   "metadata": {},
   "source": [
    "## Conjugate Gradient"
   ]
  },
  {
   "cell_type": "code",
   "execution_count": 127,
   "id": "f7acc1d0-666e-413e-bfb8-e21843334035",
   "metadata": {
    "tags": []
   },
   "outputs": [
    {
     "data": {
      "text/latex": [
       "$\\left(A, r, p, b, x\\right) \\to \\mathrm{let}\\\\ \\quad E = x \\to \\left(x^{T}\\cdot b+0.5\\cdot x^{T}\\cdot A\\cdot x\\right)\\\\\\quad \\mathcal{P}\\left(\\left(α, β\\right) \\to E\\left(\\left(x+α \\cdot \\left(r+β \\cdot p\\right)\\right)\\right)\\right)\\\\ \\mathrm{end}$"
      ],
      "text/plain": [
       "(A, r, p, b, x) -> \n",
       "    let \n",
       "        E = (x) -> \n",
       "            (xᵀ⋅b+(0.5⋅xᵀ⋅A⋅x))\n",
       "        𝒫((α, β) -> \n",
       "            E((x+α⋅(r+β⋅p))))\n",
       "    end"
      ]
     },
     "execution_count": 127,
     "metadata": {},
     "output_type": "execute_result"
    }
   ],
   "source": [
    "f, _ = @pct (A::Sym, r::RV, p::RV, b::RV, x::RV) -> begin\n",
    "    E = (x::RV) -> sum((i, j), 0.5 * x(i) * A(i, j) * x(j)) + sum(i, x(i) * b(i))\n",
    "    pullback((α::R, β::R) -> E((i::N) -> x(i) + α * (r(i) + β * p(i))))\n",
    "end; blaserize(f)"
   ]
  },
  {
   "cell_type": "code",
   "execution_count": 126,
   "id": "c2c03494-aabf-4443-b52e-8102d9ed7ec3",
   "metadata": {
    "tags": []
   },
   "outputs": [
    {
     "data": {
      "text/latex": [
       "$\\left(A, r, p, b, x\\right) \\to \\mathrm{let}\\\\ \\quad E = x \\to \\left(x^{T}\\cdot b+0.5\\cdot x^{T}\\cdot A\\cdot x\\right)\\\\\\quad \\left(α, β\\right) \\to \\left(\\nabla \\left(E\\right)\\left(\\left(x+α \\cdot \\left(r+β \\cdot p\\right)\\right)\\right)^{T}\\cdot \\left(r+β \\cdot p\\right), α\\cdot \\nabla \\left(E\\right)\\left(\\left(x+α \\cdot \\left(r+β \\cdot p\\right)\\right)\\right)^{T}\\cdot p\\right)\\\\ \\mathrm{end}$"
      ],
      "text/plain": [
       "(A, r, p, b, x) -> \n",
       "    let \n",
       "        E = (x) -> \n",
       "            (xᵀ⋅b+(0.5⋅xᵀ⋅A⋅x))\n",
       "        (α, β) -> \n",
       "            𝒫(E)((x+α⋅(r+β⋅p)), 1)ᵀ⋅(r+β⋅p), (α⋅𝒫(E)((x+α⋅(r+β⋅p)), 1)ᵀ⋅p)\n",
       "    end"
      ]
     },
     "execution_count": 126,
     "metadata": {},
     "output_type": "execute_result"
    }
   ],
   "source": [
    "df = vdiff(f) |> blaserize"
   ]
  },
  {
   "cell_type": "code",
   "execution_count": 52,
   "id": "386a1099-a035-4d75-811c-cef4726d9055",
   "metadata": {
    "tags": []
   },
   "outputs": [
    {
     "data": {
      "text/latex": [
       "$\\left(A, r, p, b, x\\right) \\to \\left(α, β\\right) \\to \\left(\\left(\\left(r+β \\cdot p\\right)^{T}\\cdot b+\\left(x+α \\cdot \\left(r+β \\cdot p\\right)\\right)^{T}\\cdot A\\cdot \\left(r+β \\cdot p\\right)\\right), α\\cdot \\left(b^{T}\\cdot p+p^{T}\\cdot A\\cdot \\left(x+α \\cdot \\left(r+β \\cdot p\\right)\\right)\\right)\\right)$"
      ],
      "text/plain": [
       "(A, r, p, b, x) -> \n",
       "    (α, β) -> \n",
       "        ((r+β⋅p)ᵀ⋅b+(x+α⋅(r+β⋅p))ᵀ⋅A⋅(r+β⋅p)), (α⋅(bᵀ⋅p+pᵀ⋅A⋅(x+α⋅(r+β⋅p))))"
      ]
     },
     "execution_count": 52,
     "metadata": {},
     "output_type": "execute_result"
    }
   ],
   "source": [
    "df = redux(vdiff(eval_all(f)); settings=symmetry_settings) |> blaserize"
   ]
  },
  {
   "cell_type": "markdown",
   "id": "bf99e505-948f-4ded-819c-36721b79662d",
   "metadata": {},
   "source": [
    "## Lagrangian Mechanics"
   ]
  },
  {
   "cell_type": "code",
   "execution_count": 53,
   "id": "1edae315-c93e-403f-a389-3a17a1339ac3",
   "metadata": {
    "tags": []
   },
   "outputs": [],
   "source": [
    "_, ctx = @pct begin\n",
    "    @space X begin\n",
    "        type = (RF, ) -> RF\n",
    "        linear = true\n",
    "    end\n",
    "end; "
   ]
  },
  {
   "cell_type": "code",
   "execution_count": 54,
   "id": "748b151d-a0cc-474b-926c-c9b77dee82da",
   "metadata": {
    "tags": []
   },
   "outputs": [
    {
     "data": {
      "text/latex": [
       "$\\left(L, D\\right) \\to \\mathcal{P}\\left(r \\to \\sum_{t}L\\left(r\\left(t\\right), D\\left(r\\right)\\left(t\\right)\\right)\\right)$"
      ],
      "text/plain": [
       "(L, D) -> \n",
       "    𝒫((r) -> \n",
       "        ∑((t), L(r(t), D(r)(t))))"
      ]
     },
     "execution_count": 54,
     "metadata": {},
     "output_type": "execute_result"
    }
   ],
   "source": [
    "f, _ = @pct _ ctx (L::RO, D::X) -> pullback((r::RF) -> sum((t::R), L(r(t), D(r)(t)))); f"
   ]
  },
  {
   "cell_type": "code",
   "execution_count": 55,
   "id": "39b5d1c0-7010-41d5-aa28-0f3c1e5020fb",
   "metadata": {
    "tags": []
   },
   "outputs": [
    {
     "data": {
      "text/latex": [
       "$\\left(L, D\\right) \\to r \\to \\left(\\mathbb{d} \\to \\nabla \\left(\\mathbb{z}_{2} \\to L\\left(\\mathbb{z}_{2}, D\\left(r\\right)\\left(\\mathbb{d}\\right)\\right)\\right)\\left(r\\left(\\mathbb{d}\\right)\\right)+D^{\\dagger}\\left(\\mathbb{d} \\to \\nabla \\left(\\mathbb{z}_{1} \\to L\\left(r\\left(\\mathbb{d}\\right), \\mathbb{z}_{1}\\right)\\right)\\left(D\\left(r\\right)\\left(\\mathbb{d}\\right)\\right)\\right)\\right)$"
      ],
      "text/plain": [
       "(L, D) -> \n",
       "    (r) -> \n",
       "        ((_d) -> \n",
       "            𝒫((_z_2) -> \n",
       "                L(_z_2, D(r)(_d)))(r(_d), 1)+D'((_d) -> \n",
       "            𝒫((_z_1) -> \n",
       "                L(r(_d), _z_1))(D(r)(_d), 1)))"
      ]
     },
     "execution_count": 55,
     "metadata": {},
     "output_type": "execute_result"
    }
   ],
   "source": [
    "redux(vdiff(f); settings=custom_settings(:clench_sum=>true))"
   ]
  },
  {
   "cell_type": "markdown",
   "id": "54d4a70d-7c95-4020-9641-b72a66f0f20e",
   "metadata": {},
   "source": [
    "## Hartree Fock Gradient and Hessian Vector Product"
   ]
  },
  {
   "cell_type": "code",
   "execution_count": 128,
   "id": "1c91f52d-f0dd-4ca9-b685-d3f3c3fe6ace",
   "metadata": {
    "tags": []
   },
   "outputs": [],
   "source": [
    "_, ctx = @pct begin    \n",
    "    @space T begin\n",
    "        type = (I, I, I, I) -> C\n",
    "        symmetries = (((2, 1, 4, 3), :conj), ((3, 4, 1, 2), :id))\n",
    "    end\n",
    "end;"
   ]
  },
  {
   "cell_type": "code",
   "execution_count": 130,
   "id": "723e6157-9ae8-4f02-a016-7e0335267912",
   "metadata": {
    "tags": []
   },
   "outputs": [
    {
     "data": {
      "text/latex": [
       "$J \\to \\mathcal{P}\\left(C \\to \\sum_{i, j, p, q, r, s}C_{p, i}^{*}\\cdot C_{r, j}^{*}\\cdot J\\left(p, q, r, s\\right)\\cdot C_{s, j}\\cdot C_{q, i}\\right)$"
      ],
      "text/plain": [
       "(J) -> \n",
       "    𝒫((C) -> \n",
       "        ∑((i, j, p, q, r, s), (C(p, i)'⋅C(r, j)'⋅J(p, q, r, s)⋅C(s, j)⋅C(q, i))))"
      ]
     },
     "execution_count": 130,
     "metadata": {},
     "output_type": "execute_result"
    }
   ],
   "source": [
    "f, _ = @pct _ ctx (J::T) -> pullback((C::CM) -> sum((i, j, p, q, r, s),\n",
    "    C(p, i)' * C(q, i) * C(r, j)' * C(s, j) * J(p, q, r, s))); f"
   ]
  },
  {
   "cell_type": "code",
   "execution_count": 58,
   "id": "63f8d0a8-09ce-4558-8f32-1b3696940f19",
   "metadata": {
    "tags": []
   },
   "outputs": [
    {
     "data": {
      "text/latex": [
       "$J \\to C \\to \\left(\\mathbb{d}, \\mathbb{d}_{1}\\right) \\to \\left(\\sum_{j, p, r, s}C_{s, j}^{*}\\cdot J\\left(\\mathbb{d}, p, s, r\\right)\\cdot C_{p, \\mathbb{d}_{1}}\\cdot C_{r, j}\\right)\\cdot 4.0$"
      ],
      "text/plain": [
       "(J) -> \n",
       "    (C) -> \n",
       "        (_d, _d_1) -> \n",
       "            (∑((j, p, r, s), (C(s, j)'⋅J(_d, p, s, r)⋅C(p, _d_1)⋅C(r, j)))⋅4.0)"
      ]
     },
     "execution_count": 58,
     "metadata": {},
     "output_type": "execute_result"
    }
   ],
   "source": [
    "df = redux(vdiff(f); settings=symmetry_settings)"
   ]
  },
  {
   "cell_type": "code",
   "execution_count": 59,
   "id": "f9d37237-fd34-4ab1-b294-7da760489e0c",
   "metadata": {
    "tags": []
   },
   "outputs": [
    {
     "data": {
      "text/latex": [
       "$\\left(C, \\mathbb{k}\\right) \\to \\left(\\mathbb{a}_{2}, \\mathbb{a}_{3}\\right) \\to \\left(\\sum_{\\mathbb{d}, \\mathbb{d}_{1}, p, s}J\\left(\\mathbb{d}, p, s, \\mathbb{a}_{2}\\right)^{*}\\cdot C_{p, \\mathbb{d}_{1}}^{*}\\cdot 4.0\\cdot \\mathbb{k}_{\\mathbb{d}, \\mathbb{d}_{1}}\\cdot C_{s, \\mathbb{a}_{3}}+\\sum_{\\mathbb{d}, \\mathbb{d}_{1}, p, r}\\mathbb{k}_{\\mathbb{d}, \\mathbb{d}_{1}}^{*}\\cdot 4.0\\cdot J\\left(\\mathbb{d}, p, \\mathbb{a}_{2}, r\\right)\\cdot C_{p, \\mathbb{d}_{1}}\\cdot C_{r, \\mathbb{a}_{3}}+\\sum_{\\mathbb{d}, j, r, s}J\\left(\\mathbb{d}, \\mathbb{a}_{2}, s, r\\right)^{*}\\cdot C_{r, j}^{*}\\cdot 4.0\\cdot \\mathbb{k}_{\\mathbb{d}, \\mathbb{a}_{3}}\\cdot C_{s, j}\\right)$"
      ],
      "text/plain": [
       "(C, _k) -> \n",
       "    (_a_2, _a_3) -> \n",
       "        (∑((_d, _d_1, p, s), (J(_d, p, s, _a_2)'⋅C(p, _d_1)'⋅4.0⋅_k(_d, _d_1)⋅C(s, _a_3)))+∑((_d, _d_1, p, r), (_k(_d, _d_1)'⋅4.0⋅J(_d, p, _a_2, r)⋅C(p, _d_1)⋅C(r, _a_3)))+∑((_d, j, r, s), (J(_d, _a_2, s, r)'⋅C(r, j)'⋅4.0⋅_k(_d, _a_3)⋅C(s, j))))"
      ]
     },
     "execution_count": 59,
     "metadata": {},
     "output_type": "execute_result"
    }
   ],
   "source": [
    "df |> get_body |> decompose |> pp |> simplify |> first"
   ]
  },
  {
   "cell_type": "markdown",
   "id": "b2138b6e-d9ed-46e7-8999-a0827403215e",
   "metadata": {},
   "source": [
    "## Foster Boys"
   ]
  },
  {
   "cell_type": "code",
   "execution_count": 131,
   "id": "35d317f9-4893-464d-beb8-c1b267a8e0cc",
   "metadata": {
    "tags": []
   },
   "outputs": [
    {
     "data": {
      "text/latex": [
       "$\\left(R, R2\\right) \\to \\mathcal{P}\\left(C \\to \\mathrm{let}\\\\ \\quad r = i \\to (C^{\\dagger}\\cdot R\\cdot C)_{i, i}\\\\\\quad \\left(-1.0\\cdot r^{\\dagger}\\cdot r+\\mathrm{tr}(C\\cdot C^{\\dagger}\\cdot R2)\\right)\\\\ \\mathrm{end}\\right)$"
      ],
      "text/plain": [
       "(R, R2) -> \n",
       "    𝒫((C) -> \n",
       "        let \n",
       "            r = (i) -> \n",
       "                (C⁺⋅R⋅C)(i, i)\n",
       "            ((-1.0⋅r⁺⋅r)+tr(C⋅C⁺⋅R2))\n",
       "        end)"
      ]
     },
     "execution_count": 131,
     "metadata": {},
     "output_type": "execute_result"
    }
   ],
   "source": [
    "f, _ = @pct (R::Her, R2::Her) -> pullback((C::CM) -> begin \n",
    "        r = (i::N) -> sum((p, q), R(p, q) * C(p, i)' * C(q, i))\n",
    "        sum(i, sum((p, q), R2(p, q) * C(p, i)' * C(q, i))) - sum(i, r(i)' * r(i))\n",
    "    end); blaserize(f)"
   ]
  },
  {
   "cell_type": "code",
   "execution_count": 135,
   "id": "5db5695f-c0b5-4c4f-ae81-8e0cda041c9c",
   "metadata": {
    "tags": []
   },
   "outputs": [
    {
     "ename": "LoadError",
     "evalue": "MethodError: no method matching name(::PCTVector)\n\n\u001b[0mClosest candidates are:\n\u001b[0m  name(\u001b[91m::Domain\u001b[39m)\n\u001b[0m\u001b[90m   @\u001b[39m \u001b[35mPCT\u001b[39m \u001b[90m~/kaer_morhen/projects/QLD/PCT/src/\u001b[39m\u001b[90m\u001b[4mtype.jl:62\u001b[24m\u001b[39m\n\u001b[0m  name(\u001b[91m::Var\u001b[39m)\n\u001b[0m\u001b[90m   @\u001b[39m \u001b[35mPCT\u001b[39m \u001b[90m~/kaer_morhen/projects/QLD/PCT/src/\u001b[39m\u001b[90m\u001b[4mnodes.jl:94\u001b[24m\u001b[39m\n",
     "output_type": "error",
     "traceback": [
      "MethodError: no method matching name(::PCTVector)\n\n\u001b[0mClosest candidates are:\n\u001b[0m  name(\u001b[91m::Domain\u001b[39m)\n\u001b[0m\u001b[90m   @\u001b[39m \u001b[35mPCT\u001b[39m \u001b[90m~/kaer_morhen/projects/QLD/PCT/src/\u001b[39m\u001b[90m\u001b[4mtype.jl:62\u001b[24m\u001b[39m\n\u001b[0m  name(\u001b[91m::Var\u001b[39m)\n\u001b[0m\u001b[90m   @\u001b[39m \u001b[35mPCT\u001b[39m \u001b[90m~/kaer_morhen/projects/QLD/PCT/src/\u001b[39m\u001b[90m\u001b[4mnodes.jl:94\u001b[24m\u001b[39m\n",
      "",
      "Stacktrace:",
      "  [1] _broadcast_getindex_evalf",
      "    @ Base.Broadcast ./broadcast.jl:709 [inlined]",
      "  [2] _broadcast_getindex",
      "    @ Base.Broadcast ./broadcast.jl:682 [inlined]",
      "  [3] getindex",
      "    @ Base.Broadcast ./broadcast.jl:636 [inlined]",
      "  [4] copy",
      "    @ Base.Broadcast ./broadcast.jl:942 [inlined]",
      "  [5] materialize(bc::Base.Broadcast.Broadcasted{Base.Broadcast.DefaultArrayStyle{1}, Nothing, typeof(name), Tuple{Vector{Any}}})",
      "    @ Base.Broadcast ./broadcast.jl:903",
      "  [6] (::PCT.var\"#36#41\"{Vector{PCT.AbstractPCTNode}, PCTVector})(i::Int64)",
      "    @ PCT ~/kaer_morhen/projects/QLD/PCT/src/e_class.jl:77",
      "  [7] _all(f::PCT.var\"#36#41\"{Vector{PCT.AbstractPCTNode}, PCTVector}, itr::UnitRange{Int64}, ::Colon)",
      "    @ Base ./reduce.jl:1288",
      "  [8] all(f::Function, a::UnitRange{Int64}; dims::Function)",
      "    @ Base ./reducedim.jl:1023",
      "  [9] all",
      "    @ ./reducedim.jl:1023 [inlined]",
      " [10] (::PCT.var\"#process_kv#40\")(v::Vector{PCT.AbstractPCTNode})",
      "    @ PCT ~/kaer_morhen/projects/QLD/PCT/src/e_class.jl:77",
      " [11] #38",
      "    @ ./essentials.jl:0 [inlined]",
      " [12] iterate(::Base.Generator{Vector{Pair{SignatureTree, Int64}}, PCT.var\"#58#59\"{UInt64, Int64}})",
      "    @ Base ./generator.jl:47 [inlined]",
      " [13] collect(itr::Base.Generator{Dict{Int64, Vector{PCT.AbstractPCTNode}}, PCT.var\"#38#43\"{PCT.var\"#process_kv#40\"}})",
      "    @ Base ./array.jl:834",
      " [14] combine_maps(terms::Vector{Map})",
      "    @ PCT ~/kaer_morhen/projects/QLD/PCT/src/e_class.jl:85",
      " [15] e_class_reduction(::Type{Add}, term::PCTVector)",
      "    @ PCT ~/kaer_morhen/projects/QLD/PCT/src/e_class.jl:100",
      " [16] make_node(::Type{Add}, terms::PCTVector; type::UndeterminedPCTType)",
      "    @ PCT ~/kaer_morhen/projects/QLD/PCT/src/element.jl:54",
      " [17] make_node",
      "    @ PCT ~/kaer_morhen/projects/QLD/PCT/src/element.jl:50 [inlined]",
      " [18] add(::Map, ::Vararg)",
      "    @ PCT ~/kaer_morhen/projects/QLD/PCT/src/nodes.jl:203",
      " [19] map_dist_neighbors(m::Map)",
      "    @ PCT ~/kaer_morhen/projects/QLD/PCT/src/blaserize.jl:373",
      " [20] blaserize_neighbors(m::Map)",
      "    @ PCT ~/kaer_morhen/projects/QLD/PCT/src/blaserize.jl:382",
      " [21] sub_blaserize_neighbors(n::PCT.ScalarTensorProduct)",
      "    @ PCT ~/kaer_morhen/projects/QLD/PCT/src/blaserize.jl:143",
      " [22] blaserize_neighbors(n::PCT.ScalarTensorProduct)",
      "    @ PCT ~/kaer_morhen/projects/QLD/PCT/src/blaserize.jl:151",
      " [23] sub_blaserize_neighbors(n::Map)",
      "    @ PCT ~/kaer_morhen/projects/QLD/PCT/src/blaserize.jl:143",
      " [24] blaserize_neighbors(m::Map)",
      "    @ PCT ~/kaer_morhen/projects/QLD/PCT/src/blaserize.jl:383",
      " [25] sub_blaserize_neighbors(n::Map)",
      "    @ PCT ~/kaer_morhen/projects/QLD/PCT/src/blaserize.jl:143",
      " [26] blaserize_neighbors(m::Map)",
      "    @ PCT ~/kaer_morhen/projects/QLD/PCT/src/blaserize.jl:383",
      " [27] spanning_tree!(n::Map, seen::PCTGraph; settings::Dict{Symbol, Bool})",
      "    @ PCT ~/kaer_morhen/projects/QLD/PCT/src/graph.jl:59",
      " [28] spanning_tree!(n::Map, seen::PCTGraph; settings::Dict{Symbol, Bool})",
      "    @ PCT ~/kaer_morhen/projects/QLD/PCT/src/graph.jl:75",
      " [29] spanning_tree! (repeats 2 times)",
      "    @ ~/kaer_morhen/projects/QLD/PCT/src/graph.jl:54 [inlined]",
      " [30] simplify(n::Map; settings::Dict{Symbol, Bool})",
      "    @ PCT ~/kaer_morhen/projects/QLD/PCT/src/simplify.jl:55",
      " [31] invoke",
      "    @ ./Base.jl:138 [inlined]",
      " [32] simplify(n::Map; settings::Dict{Symbol, Bool})",
      "    @ PCT ~/kaer_morhen/projects/QLD/PCT/src/simplify.jl:67",
      " [33] simplify",
      "    @ PCT ~/kaer_morhen/projects/QLD/PCT/src/simplify.jl:57 [inlined]",
      " [34] blaserize",
      "    @ PCT ~/kaer_morhen/projects/QLD/PCT/src/blaserize.jl:361 [inlined]",
      " [35] |>(x::Map, f::typeof(blaserize))",
      "    @ Base ./operators.jl:917",
      " [36] top-level scope",
      "    @ In[135]:1"
     ]
    }
   ],
   "source": [
    "df = redux(vdiff(eval_all(f)); settings=symmetry_settings) |> blaserize"
   ]
  },
  {
   "cell_type": "markdown",
   "id": "b53f6b93-055f-45b5-bf1f-b4dec0aff424",
   "metadata": {},
   "source": [
    "## Localized Wannier Functions"
   ]
  },
  {
   "cell_type": "code",
   "execution_count": 62,
   "id": "9b81aaa2-4818-4b5e-9d88-e85872adf25c",
   "metadata": {
    "tags": []
   },
   "outputs": [],
   "source": [
    "_, ctx = @pct begin\n",
    "    @domain BZ begin\n",
    "        base = I\n",
    "        periodic = true\n",
    "    end\n",
    "    \n",
    "    @domain X begin\n",
    "        symmetric = true\n",
    "        contractable = false\n",
    "    end\n",
    "    \n",
    "    @space Mmn begin\n",
    "        type = (N, N, BZ, BZ) -> C\n",
    "        symmetries = (((2, 1, 4, 3), :conj),)\n",
    "    end\n",
    "\n",
    "    @space SV begin\n",
    "        type = (I,) -> C\n",
    "        symmetries = (((1,), :ineg),)\n",
    "    end\n",
    "    \n",
    "    @space Gauge begin\n",
    "        type = (N, N, BZ) -> C\n",
    "    end\n",
    "end;"
   ]
  },
  {
   "cell_type": "code",
   "execution_count": 63,
   "id": "48a4f93c-12a1-4bcb-a5f4-515dbc9ad429",
   "metadata": {
    "tags": []
   },
   "outputs": [
    {
     "data": {
      "text/latex": [
       "$\\left(S, w\\right) \\to \\mathcal{P}\\left(U \\to \\mathrm{let}\\\\ \\quad ρ = \\left(n, b\\right) \\to \\sum_{k, p, q}U\\left(p, n, k\\right)^{*}\\cdot U\\left(q, n, \\left(b+k\\right)\\right)\\cdot S\\left(p, q, k, \\left(b+k\\right)\\right)\\\\\\quad \\sum_{n, b}ρ\\left(n, b\\right)^{*}\\cdot ρ\\left(n, b\\right)\\\\ \\mathrm{end}\\right)$"
      ],
      "text/plain": [
       "(S, w) -> \n",
       "    𝒫((U) -> \n",
       "        let \n",
       "            ρ = (n, b) -> \n",
       "                ∑((k, p, q), (U(p, n, k)'⋅U(q, n, (b+k))⋅S(p, q, k, (b+k))))\n",
       "            ∑((n, b), (ρ(n, b)'⋅ρ(n, b)))\n",
       "        end)"
      ]
     },
     "execution_count": 63,
     "metadata": {},
     "output_type": "execute_result"
    }
   ],
   "source": [
    "f, _ = @pct _ ctx (S::Mmn, w::SV) -> pullback((U::Gauge) -> \n",
    "    begin\n",
    "        ρ = (n::N, b::X) -> sum((k::BZ, p, q), U(p, n, k)' * S(p, q, k, k + b) * U(q, n, k + b))\n",
    "        sum((n, b::X), ρ(n, b)' * ρ(n, b))\n",
    "    end); f"
   ]
  },
  {
   "cell_type": "code",
   "execution_count": 64,
   "id": "df1a9d34-fceb-440a-8bad-28436f332653",
   "metadata": {
    "tags": []
   },
   "outputs": [
    {
     "data": {
      "text/latex": [
       "$\\left(S, w\\right) \\to U \\to \\left(\\mathbb{d}, \\mathbb{d}_{1}, \\mathbb{d}_{2}\\right) \\to \\left(\\sum_{b, p, k, \\mathbb{p}, q}U\\left(\\mathbb{p}, \\mathbb{d}_{1}, \\left(b+k\\right)\\right)^{*}\\cdot U\\left(q, \\mathbb{d}_{1}, k\\right)\\cdot U\\left(p, \\mathbb{d}_{1}, \\left(\\mathbb{d}_{2}+b\\right)\\right)\\cdot S\\left(\\mathbb{d}, p, \\mathbb{d}_{2}, \\left(\\mathbb{d}_{2}+b\\right)\\right)\\cdot S\\left(\\mathbb{p}, q, \\left(b+k\\right), k\\right)\\right)\\cdot 4.0$"
      ],
      "text/plain": [
       "(S, w) -> \n",
       "    (U) -> \n",
       "        (_d, _d_1, _d_2) -> \n",
       "            (∑((b, p, k, _p, q), (U(_p, _d_1, (b+k))'⋅U(q, _d_1, k)⋅U(p, _d_1, (_d_2+b))⋅S(_d, p, _d_2, (_d_2+b))⋅S(_p, q, (b+k), k)))⋅4.0)"
      ]
     },
     "execution_count": 64,
     "metadata": {},
     "output_type": "execute_result"
    }
   ],
   "source": [
    "# df = vdiff(eval_all(f); settings=custom_settings(:logging=>true; preset = symmetry_settings))\n",
    "df = redux(vdiff(eval_all(f)); settings=symmetry_settings)"
   ]
  },
  {
   "cell_type": "code",
   "execution_count": 65,
   "id": "15001476-186a-49bc-910d-31c32d0b7579",
   "metadata": {
    "tags": []
   },
   "outputs": [],
   "source": [
    "_, ctx = @pct begin\n",
    "    @space Tau begin\n",
    "        type=(R, RV) -> RM\n",
    "    end\n",
    "    \n",
    "    @space Nu begin\n",
    "        type=(RV, ) -> R\n",
    "    end\n",
    "        \n",
    "    @space S begin\n",
    "        type=(RV, )->RV\n",
    "    end\n",
    "end;"
   ]
  },
  {
   "cell_type": "code",
   "execution_count": 66,
   "id": "b2d38359-5108-48ea-8a02-fe3820bd3fcd",
   "metadata": {
    "tags": []
   },
   "outputs": [
    {
     "data": {
      "text/latex": [
       "$\\left(τ, ν, p\\right) \\to \\hat{vdiff}_{\\mathcal{P}\\left(x \\to τ\\left(ν\\left(x\\right), p\\left(x\\right)\\right)\\right)}$"
      ],
      "text/plain": [
       "(τ, ν, p) -> \n",
       "    vdiff̂(𝒫((x) -> \n",
       "        τ(ν(x), p(x))))"
      ]
     },
     "execution_count": 66,
     "metadata": {},
     "output_type": "execute_result"
    }
   ],
   "source": [
    "f, _ = @pct _ ctx (τ::Tau, ν::Nu, p::S) -> :vdiff(pullback((x::RV) -> τ(ν(x), p(x)))); f"
   ]
  },
  {
   "cell_type": "code",
   "execution_count": 15,
   "id": "09fb7c6e-ddbe-4e1f-9816-28a87be974b7",
   "metadata": {
    "tags": []
   },
   "outputs": [
    {
     "data": {
      "text/latex": [
       "$\\left(τ, ν, p\\right) \\to x \\to \\left(\\mathcal{P}\\left(ν\\right)\\left(x, \\nabla \\left(\\mathbb{z} \\to τ\\left(\\mathbb{z}, p\\left(x\\right)\\right)\\right)\\left(ν\\left(x\\right)\\right)\\right)+\\mathcal{P}\\left(p\\right)\\left(x, \\nabla \\left(\\mathbb{z_1} \\to τ\\left(ν\\left(x\\right), \\mathbb{z_1}\\right)\\right)\\left(p\\left(x\\right)\\right)\\right)\\right)$"
      ],
      "text/plain": [
       "(τ, ν, p) -> \n",
       "    (x) -> \n",
       "        (𝒫(ν)(x, 𝒫((_z) -> \n",
       "            τ(_z, p(x)))(ν(x), 1))+𝒫(p)(x, 𝒫((_z_1) -> \n",
       "            τ(ν(x), _z_1))(p(x), 1)))"
      ]
     },
     "execution_count": 15,
     "metadata": {},
     "output_type": "execute_result"
    }
   ],
   "source": [
    "df = process_directive(f)"
   ]
  }
 ],
 "metadata": {
  "kernelspec": {
   "display_name": "pct 1.10.0",
   "language": "julia",
   "name": "pct-1.10"
  },
  "language_info": {
   "file_extension": ".jl",
   "mimetype": "application/julia",
   "name": "julia",
   "version": "1.10.0"
  }
 },
 "nbformat": 4,
 "nbformat_minor": 5
}
