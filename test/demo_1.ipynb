{
 "cells": [
  {
   "cell_type": "code",
   "execution_count": 4,
   "id": "d87429b8",
   "metadata": {},
   "outputs": [
    {
     "ename": "LoadError",
     "evalue": "ArgumentError: Package VSCodeServer not found in current path.\n- Run `import Pkg; Pkg.add(\"VSCodeServer\")` to install the VSCodeServer package.",
     "output_type": "error",
     "traceback": [
      "ArgumentError: Package VSCodeServer not found in current path.\n- Run `import Pkg; Pkg.add(\"VSCodeServer\")` to install the VSCodeServer package.",
      "",
      "Stacktrace:",
      " [1] macro expansion",
      "   @ ./loading.jl:1630 [inlined]",
      " [2] macro expansion",
      "   @ ./lock.jl:267 [inlined]",
      " [3] require(into::Module, mod::Symbol)",
      "   @ Base ./loading.jl:1611"
     ]
    }
   ],
   "source": [
    "using PCT\n",
    "using Pkg"
   ]
  },
  {
   "cell_type": "code",
   "execution_count": 3,
   "id": "31a049b5",
   "metadata": {},
   "outputs": [
    {
     "ename": "LoadError",
     "evalue": "LoadError: UndefVarError: `@profview` not defined\nin expression starting at In[3]:2",
     "output_type": "error",
     "traceback": [
      "LoadError: UndefVarError: `@profview` not defined\nin expression starting at In[3]:2",
      ""
     ]
    }
   ],
   "source": [
    "using VS\n",
    "@profview h, _ = @pct pullback((z::C) -> z' * z)"
   ]
  },
  {
   "cell_type": "code",
   "execution_count": 4,
   "id": "fc0c95fa",
   "metadata": {},
   "outputs": [
    {
     "name": "stdout",
     "output_type": "stream",
     "text": [
      "Pullback((z::C->\n",
      "    (*\n",
      "        z::C,\n",
      "        z::C'\n",
      "    )::C\n",
      "::[C->C])::[C×C->C]\n"
     ]
    }
   ],
   "source": [
    "println(verbose(h))"
   ]
  },
  {
   "cell_type": "code",
   "execution_count": 5,
   "id": "ab008138",
   "metadata": {},
   "outputs": [
    {
     "data": {
      "text/latex": [
       "$\\left(z, \\_K\\right) \\to \\left(\\left(z, \\_K\\right) \\to \\left(\\left(\\left(z, \\_K\\right) \\to \\_K\\right)\\left(z, (\\_K\\cdot z)\\right)+\\left(\\left(z, \\_K\\right) \\to \\left(\\left(z, \\_K\\right) \\to \\_K\\right)\\left(z, \\_K^*\\right)\\right)\\left(z, (\\_K\\cdot z^*)\\right)\\right)\\right)\\left(z, \\_K\\right)$"
      ],
      "text/plain": [
       "(z, _K) -> \n",
       "    ((z, _K) -> \n",
       "        (((z, _K) -> \n",
       "            _K)(z, (_K⋅z))+((z, _K) -> \n",
       "            ((z, _K) -> \n",
       "                _K)(z, _K'))(z, (_K⋅z'))))(z, _K)"
      ]
     },
     "execution_count": 5,
     "metadata": {},
     "output_type": "execute_result"
    }
   ],
   "source": [
    "reduce_pullback(h)[1]"
   ]
  },
  {
   "cell_type": "code",
   "execution_count": null,
   "id": "62d3599a",
   "metadata": {},
   "outputs": [],
   "source": []
  },
  {
   "cell_type": "code",
   "execution_count": 9,
   "id": "62f7c710",
   "metadata": {},
   "outputs": [
    {
     "data": {
      "text/latex": [
       "$(z\\cdot 2.0)$"
      ],
      "text/plain": [
       "(z⋅2.0)"
      ]
     },
     "execution_count": 9,
     "metadata": {},
     "output_type": "execute_result"
    }
   ],
   "source": [
    "p = eval_all(reduce_pullback(h)[1])\n",
    "q = eval_all(call(p, first(ff(p)), constant(1)))"
   ]
  },
  {
   "cell_type": "code",
   "execution_count": 10,
   "id": "46b9741d",
   "metadata": {},
   "outputs": [
    {
     "name": "stdout",
     "output_type": "stream",
     "text": [
      "  0.000000 seconds\n"
     ]
    },
    {
     "data": {
      "text/latex": [
       "$(z\\cdot 2.0)$"
      ],
      "text/plain": [
       "(z⋅2.0)"
      ]
     },
     "execution_count": 10,
     "metadata": {},
     "output_type": "execute_result"
    }
   ],
   "source": [
    "simplify(q) |> first"
   ]
  },
  {
   "cell_type": "code",
   "execution_count": 2,
   "id": "859c6263",
   "metadata": {},
   "outputs": [
    {
     "data": {
      "text/plain": [
       "(Map(MapType(VecType(AbstractPCTType[MapType(VecType(AbstractPCTType[I(), I()]), C(), Dict{Symbol, Any}(:name => :H, :symmetries => (((2, 1), :conj),))), MapType(VecType(AbstractPCTType[I(), I(), I(), I()]), C(), Dict{Symbol, Any}(:name => :T, :symmetries => (((2, 1, 4, 3), :conj), ((3, 4, 1, 2), :id))))]), UndeterminedPCTType(), Dict{Any, Any}()), PCTVector(VecType(AbstractPCTType[MapType(VecType(AbstractPCTType[I(), I()]), C(), Dict{Symbol, Any}(:name => :H, :symmetries => (((2, 1), :conj),))), MapType(VecType(AbstractPCTType[I(), I(), I(), I()]), C(), Dict{Symbol, Any}(:name => :T, :symmetries => (((2, 1, 4, 3), :conj), ((3, 4, 1, 2), :id))))]), Var{MapType}[Var{MapType}(MapType(VecType(AbstractPCTType[I(), I()]), C(), Dict{Symbol, Any}(:name => :H, :symmetries => (((2, 1), :conj),))), :A), Var{MapType}(MapType(VecType(AbstractPCTType[I(), I(), I(), I()]), C(), Dict{Symbol, Any}(:name => :T, :symmetries => (((2, 1, 4, 3), :conj), ((3, 4, 1, 2), :id)))), :J)]), Var{UndeterminedPCTType}(UndeterminedPCTType(), :_)), TypeContext(Dict{Symbol, Vector{<:AbstractPCTType}}(:_ => AbstractPCTType[UndeterminedPCTType()], :T => AbstractPCTType[MapType(VecType(AbstractPCTType[I(), I(), I(), I()]), C(), Dict{Symbol, Any}(:name => :T, :symmetries => (((2, 1, 4, 3), :conj), ((3, 4, 1, 2), :id))))], :U => AbstractPCTType[MapType(VecType(AbstractPCTType[I(), I()]), C(), Dict(:name => :U))], :H => AbstractPCTType[MapType(VecType(AbstractPCTType[I(), I()]), C(), Dict{Symbol, Any}(:name => :H, :symmetries => (((2, 1), :conj),)))], :V => AbstractPCTType[MapType(VecType(AbstractPCTType[I()]), C(), Dict(:name => :V))])))"
      ]
     },
     "execution_count": 2,
     "metadata": {},
     "output_type": "execute_result"
    }
   ],
   "source": [
    "f, ctx = @pct begin\n",
    "    @space H begin\n",
    "        type=(I, I)->C\n",
    "        symmetries=(((2,1), :conj),)\n",
    "    end\n",
    "    \n",
    "    @space V begin\n",
    "        type=(I,)->C\n",
    "    end\n",
    "\n",
    "    @space T begin\n",
    "        type=(I,I,I,I) -> C\n",
    "        symmetries=(((2,1,4,3), :conj), ((3,4,1,2), :id))\n",
    "    end\n",
    "                \n",
    "    @space U begin\n",
    "        type=(I,I)->C\n",
    "    end\n",
    "                    \n",
    "    (A::H, J::T) -> _\n",
    "end"
   ]
  },
  {
   "cell_type": "code",
   "execution_count": 11,
   "id": "6094d925",
   "metadata": {},
   "outputs": [
    {
     "data": {
      "text/latex": [
       "$\\left(A, J\\right) \\to \\_$"
      ],
      "text/plain": [
       "(A, J) -> \n",
       "    _"
      ]
     },
     "execution_count": 11,
     "metadata": {},
     "output_type": "execute_result"
    }
   ],
   "source": [
    "f"
   ]
  },
  {
   "cell_type": "code",
   "execution_count": 39,
   "id": "e701c80a",
   "metadata": {
    "scrolled": true
   },
   "outputs": [
    {
     "data": {
      "text/latex": [
       "$\\left(A, J\\right) \\to \\mathcal{P}\\left(x \\to \\sum_{i_0, i_1}\\left[(x_{i_0}\\cdot A_{i_1, i_0}\\cdot x_{i_1}^*)\\right]\\right)$"
      ],
      "text/plain": [
       "(A, J) -> \n",
       "    𝒫((x) -> \n",
       "        ∑((i_0, i_1), (x(i_0)⋅A(i_1, i_0)⋅x(i_1)')))"
      ]
     },
     "execution_count": 39,
     "metadata": {},
     "output_type": "execute_result"
    }
   ],
   "source": [
    "g = @pct f ctx pullback((x::V) -> sum((i, j), x(i)' * A(i, j) * x(j)))"
   ]
  },
  {
   "cell_type": "code",
   "execution_count": 40,
   "id": "989d90a6",
   "metadata": {},
   "outputs": [
    {
     "name": "stdout",
     "output_type": "stream",
     "text": [
      "(A::[I×I->C], J::[I×I×I×I->C]->\n",
      "    Pullback((x::[I->C]->\n",
      "        ∑((i_0::I, i_1::I),\n",
      "            (*\n",
      "                x::[I->C](i_0::I)::C,\n",
      "                A::[I×I->C](i_1::I, i_0::I)::C,\n",
      "                x::[I->C](i_1::I)::C'\n",
      "            )::C\n",
      "        )::C\n",
      "    ::[[I->C]->C])::[[I->C]×C->[I->C]]\n",
      "::[[I×I->C]×[I×I×I×I->C]->[[I->C]×C->[I->C]]]\n"
     ]
    }
   ],
   "source": [
    "println(verbose(g))"
   ]
  },
  {
   "cell_type": "code",
   "execution_count": 41,
   "id": "f9e5cda3",
   "metadata": {},
   "outputs": [
    {
     "data": {
      "text/latex": [
       "$\\left(x, \\_K\\right) \\to i_2 \\to \\sum_{i_0, i_1}\\left[\\left(\\delta_{i_1}^{i_2}(x_{i_0}\\cdot A_{i_1, i_0}\\cdot \\_K^*)+\\delta_{i_0}^{i_2}(x_{i_1}\\cdot A_{i_1, i_0}^*\\cdot \\_K)\\right)\\right]$"
      ],
      "text/plain": [
       "(x, _K) -> \n",
       "    (i_2) -> \n",
       "        ∑((i_0, i_1), (δ(i_2, i_1, (x(i_0)⋅A(i_1, i_0)⋅_K'))+δ(i_2, i_0, (x(i_1)⋅A(i_1, i_0)'⋅_K))))"
      ]
     },
     "execution_count": 41,
     "metadata": {},
     "output_type": "execute_result"
    }
   ],
   "source": [
    "p = fc(eval_all(reduce_pullback(g)))"
   ]
  },
  {
   "cell_type": "code",
   "execution_count": 42,
   "id": "9b74e6c7",
   "metadata": {},
   "outputs": [
    {
     "data": {
      "text/latex": [
       "$i_2 \\to \\sum_{i_0, i_1}\\left[\\left(\\delta_{i_1}^{i_2}(x_{i_0}\\cdot A_{i_1, i_0})+\\delta_{i_0}^{i_2}(x_{i_1}\\cdot A_{i_1, i_0}^*)\\right)\\right]$"
      ],
      "text/plain": [
       "(i_2) -> \n",
       "    ∑((i_0, i_1), (δ(i_2, i_1, (x(i_0)⋅A(i_1, i_0)))+δ(i_2, i_0, (x(i_1)⋅A(i_1, i_0)'))))"
      ]
     },
     "execution_count": 42,
     "metadata": {},
     "output_type": "execute_result"
    }
   ],
   "source": [
    "q = eval_all(call(p, first(ff(p)), constant(1)))"
   ]
  },
  {
   "cell_type": "code",
   "execution_count": 43,
   "id": "c29763e0",
   "metadata": {},
   "outputs": [
    {
     "name": "stdout",
     "output_type": "stream",
     "text": [
      "  0.000019 seconds (7 allocations: 304 bytes)\n",
      "1 sum_dist\n",
      "∑((i_0, i_1), (δ(i_2, i_1, (x(i_0)⋅A(i_1, i_0)))+δ(i_2, i_0, (x(i_1)⋅A(i_1, i_0)'))))\n",
      "(∑((i_0, i_1), δ(i_2, i_0, (x(i_1)⋅A(i_1, i_0)')))+∑((i_0, i_1), δ(i_2, i_0, (x(i_1)⋅A(i_1, i_0)'))))\n",
      "\n",
      "  0.000281 seconds (293 allocations: 13.062 KiB)\n",
      "2 contract_delta\n",
      "(∑((i_0, i_1), δ(i_2, i_0, (x(i_1)⋅A(i_1, i_0)')))+∑((i_0, i_1), δ(i_2, i_0, (x(i_1)⋅A(i_1, i_0)'))))\n",
      "(∑((i_0), (x(i_0)⋅A(i_2, i_0)))+∑((i_0, i_1), δ(i_2, i_0, (x(i_1)⋅A(i_1, i_0)'))))\n",
      "directed!\n",
      "\n",
      "  0.000041 seconds (215 allocations: 9.688 KiB)\n",
      "3 contract_delta\n",
      "(∑((i_0), (x(i_0)⋅A(i_2, i_0)))+∑((i_0, i_1), δ(i_2, i_0, (x(i_1)⋅A(i_1, i_0)'))))\n",
      "(∑((i_0), (x(i_0)⋅A(i_2, i_0)))+∑((i_0), (x(i_0)⋅A(i_2, i_0))))\n",
      "directed!\n",
      "\n",
      "  0.000019 seconds (37 allocations: 1.625 KiB)\n",
      "4 gcd\n",
      "(∑((i_0), (x(i_0)⋅A(i_2, i_0)))+∑((i_0), (x(i_0)⋅A(i_2, i_0))))\n",
      "((1+1)⋅∑((i_0), (x(i_0)⋅A(i_2, i_0))))\n",
      "\n",
      "  0.000042 seconds (244 allocations: 11.312 KiB)\n",
      "5 add_const\n",
      "((1+1)⋅∑((i_0), (x(i_0)⋅A(i_2, i_0))))\n",
      "(∑((i_0), (x(i_0)⋅A(i_2, i_0)))⋅2)\n",
      "directed!\n",
      "\n",
      "  0.000000 seconds\n"
     ]
    },
    {
     "data": {
      "text/latex": [
       "$i_2 \\to (\\sum_{i_0}\\left[(x_{i_0}\\cdot A_{i_2, i_0})\\right]\\cdot 2)$"
      ],
      "text/plain": [
       "(i_2) -> \n",
       "    (∑((i_0), (x(i_0)⋅A(i_2, i_0)))⋅2)"
      ]
     },
     "execution_count": 43,
     "metadata": {},
     "output_type": "execute_result"
    }
   ],
   "source": [
    "simplify(q) |> first"
   ]
  },
  {
   "cell_type": "code",
   "execution_count": 44,
   "id": "429f1193",
   "metadata": {},
   "outputs": [
    {
     "data": {
      "text/latex": [
       "$\\left(A, J\\right) \\to \\mathcal{P}\\left(C \\to \\sum_{i_0, i_1, i_2, i_3, i_4, i_5}\\left[(C_{i_1, i_5}\\cdot C_{i_3, i_4}\\cdot J_{i_1, i_0, i_3, i_2}^*\\cdot C_{i_2, i_4}^*\\cdot C_{i_0, i_5}^*)\\right]\\right)$"
      ],
      "text/plain": [
       "(A, J) -> \n",
       "    𝒫((C) -> \n",
       "        ∑((i_0, i_1, i_2, i_3, i_4, i_5), (C(i_1, i_5)⋅C(i_3, i_4)⋅J(i_1, i_0, i_3, i_2)'⋅C(i_2, i_4)'⋅C(i_0, i_5)')))"
      ]
     },
     "execution_count": 44,
     "metadata": {},
     "output_type": "execute_result"
    }
   ],
   "source": [
    "g = @pct f ctx pullback((C::U) -> sum((i,j,p,q,r,s), C(p,i)' * C(q,i) * C(r,j)' * C(s,j) * J(p,q,r,s)))"
   ]
  },
  {
   "cell_type": "code",
   "execution_count": 45,
   "id": "60e06e8e",
   "metadata": {},
   "outputs": [
    {
     "data": {
      "text/latex": [
       "$\\left(C, \\_K\\right) \\to \\left(i_6, i_7\\right) \\to \\sum_{i_0, i_1, i_2, i_3, i_4, i_5}\\left[\\left(\\delta_{i_5}^{i_7}\\delta_{i_2}^{i_6}(J_{i_1, i_4, i_2, i_3}\\cdot C_{i_4, i_0}\\cdot C_{i_3, i_5}\\cdot C_{i_1, i_0}^*\\cdot \\_K)+\\delta_{i_5}^{i_7}\\delta_{i_3}^{i_6}(C_{i_1, i_0}\\cdot C_{i_2, i_5}\\cdot J_{i_1, i_4, i_2, i_3}^*\\cdot C_{i_4, i_0}^*\\cdot \\_K^*)+\\delta_{i_0}^{i_7}\\delta_{i_1}^{i_6}(J_{i_1, i_4, i_2, i_3}\\cdot C_{i_4, i_0}\\cdot C_{i_3, i_5}\\cdot C_{i_2, i_5}^*\\cdot \\_K)+\\delta_{i_0}^{i_7}\\delta_{i_4}^{i_6}(C_{i_1, i_0}\\cdot C_{i_2, i_5}\\cdot J_{i_1, i_4, i_2, i_3}^*\\cdot C_{i_3, i_5}^*\\cdot \\_K^*)\\right)\\right]$"
      ],
      "text/plain": [
       "(C, _K) -> \n",
       "    (i_6, i_7) -> \n",
       "        ∑((i_0, i_1, i_2, i_3, i_4, i_5), (δ(i_7, i_5, δ(i_6, i_2, (J(i_1, i_4, i_2, i_3)⋅C(i_4, i_0)⋅C(i_3, i_5)⋅C(i_1, i_0)'⋅_K)))+δ(i_7, i_5, δ(i_6, i_3, (C(i_1, i_0)⋅C(i_2, i_5)⋅J(i_1, i_4, i_2, i_3)'⋅C(i_4, i_0)'⋅_K')))+δ(i_7, i_0, δ(i_6, i_1, (J(i_1, i_4, i_2, i_3)⋅C(i_4, i_0)⋅C(i_3, i_5)⋅C(i_2, i_5)'⋅_K)))+δ(i_7, i_0, δ(i_6, i_4, (C(i_1, i_0)⋅C(i_2, i_5)⋅J(i_1, i_4, i_2, i_3)'⋅C(i_3, i_5)'⋅_K')))))"
      ]
     },
     "execution_count": 45,
     "metadata": {},
     "output_type": "execute_result"
    }
   ],
   "source": [
    "p = fc(eval_all(reduce_pullback(g)))"
   ]
  },
  {
   "cell_type": "code",
   "execution_count": 46,
   "id": "a3faf48b",
   "metadata": {},
   "outputs": [
    {
     "data": {
      "text/latex": [
       "$\\left(i_6, i_7\\right) \\to \\sum_{i_0, i_1, i_2, i_3, i_4, i_5}\\left[\\left(\\delta_{i_5}^{i_7}\\delta_{i_2}^{i_6}(J_{i_1, i_4, i_2, i_3}\\cdot C_{i_4, i_0}\\cdot C_{i_3, i_5}\\cdot C_{i_1, i_0}^*)+\\delta_{i_5}^{i_7}\\delta_{i_3}^{i_6}(C_{i_1, i_0}\\cdot C_{i_2, i_5}\\cdot J_{i_1, i_4, i_2, i_3}^*\\cdot C_{i_4, i_0}^*)+\\delta_{i_0}^{i_7}\\delta_{i_1}^{i_6}(J_{i_1, i_4, i_2, i_3}\\cdot C_{i_4, i_0}\\cdot C_{i_3, i_5}\\cdot C_{i_2, i_5}^*)+\\delta_{i_0}^{i_7}\\delta_{i_4}^{i_6}(C_{i_1, i_0}\\cdot C_{i_2, i_5}\\cdot J_{i_1, i_4, i_2, i_3}^*\\cdot C_{i_3, i_5}^*)\\right)\\right]$"
      ],
      "text/plain": [
       "(i_6, i_7) -> \n",
       "    ∑((i_0, i_1, i_2, i_3, i_4, i_5), (δ(i_7, i_5, δ(i_6, i_2, (J(i_1, i_4, i_2, i_3)⋅C(i_4, i_0)⋅C(i_3, i_5)⋅C(i_1, i_0)')))+δ(i_7, i_5, δ(i_6, i_3, (C(i_1, i_0)⋅C(i_2, i_5)⋅J(i_1, i_4, i_2, i_3)'⋅C(i_4, i_0)')))+δ(i_7, i_0, δ(i_6, i_1, (J(i_1, i_4, i_2, i_3)⋅C(i_4, i_0)⋅C(i_3, i_5)⋅C(i_2, i_5)')))+δ(i_7, i_0, δ(i_6, i_4, (C(i_1, i_0)⋅C(i_2, i_5)⋅J(i_1, i_4, i_2, i_3)'⋅C(i_3, i_5)')))))"
      ]
     },
     "execution_count": 46,
     "metadata": {},
     "output_type": "execute_result"
    }
   ],
   "source": [
    "q = eval_all(call(p, first(ff(p)), constant(1)))"
   ]
  },
  {
   "cell_type": "code",
   "execution_count": 8,
   "id": "73cab78e",
   "metadata": {},
   "outputs": [
    {
     "data": {
      "text/plain": [
       "\"profile.pb.gz\""
      ]
     },
     "execution_count": 8,
     "metadata": {},
     "output_type": "execute_result"
    },
    {
     "name": "stderr",
     "output_type": "stream",
     "text": [
      "Main binary filename not available.\n",
      "Serving web UI on http://localhost:57599\n"
     ]
    }
   ],
   "source": [
    "Profile.clear()\n",
    "@profile p==p\n",
    "pprof()"
   ]
  },
  {
   "cell_type": "code",
   "execution_count": null,
   "id": "f7aafbe1",
   "metadata": {},
   "outputs": [],
   "source": [
    "(A::H) -> (x::V) -> x A x"
   ]
  },
  {
   "cell_type": "code",
   "execution_count": 2,
   "id": "c05dc616",
   "metadata": {},
   "outputs": [
    {
     "data": {
      "text/latex": [
       "$\\left(i_0, i_1, i_2\\right) \\to \\sum_{n, b}\\left[(2.0\\cdot \\sum_{k, p, q}\\left[\\left(\\delta_{\\left(b+k\\right)}^{i_2}\\delta_{n}^{i_1}\\delta_{q}^{i_0}(S_{p, q, k, \\left(b+k\\right)}^*\\cdot \\sum_{k, p, q}\\left[(U_{p, n, k}^*\\cdot U_{q, n, \\left(b+k\\right)}\\cdot S_{p, q, k, \\left(b+k\\right)})\\right]\\cdot U_{p, n, k})+\\delta_{k}^{i_2}\\delta_{n}^{i_1}\\delta_{p}^{i_0}(\\sum_{k, p, q}\\left[(U_{q, n, \\left(b+k\\right)}^*\\cdot S_{p, q, k, \\left(b+k\\right)}^*\\cdot U_{p, n, k})\\right]\\cdot U_{q, n, \\left(b+k\\right)}\\cdot S_{p, q, k, \\left(b+k\\right)})\\right)\\right])\\right]$"
      ],
      "text/plain": [
       "(i_0, i_1, i_2) -> \n",
       "    ∑((n, b), (2.0⋅∑((k, p, q), (δ(i_2, (b+k), δ(i_1, n, δ(i_0, q, (S(p, q, k, (b+k))'⋅∑((k, p, q), (U(p, n, k)'⋅U(q, n, (b+k))⋅S(p, q, k, (b+k))))⋅U(p, n, k)))))+δ(i_2, k, δ(i_1, n, δ(i_0, p, (∑((k, p, q), (U(q, n, (b+k))'⋅S(p, q, k, (b+k))'⋅U(p, n, k)))⋅U(q, n, (b+k))⋅S(p, q, k, (b+k))))))))))"
      ]
     },
     "execution_count": 2,
     "metadata": {},
     "output_type": "execute_result"
    }
   ],
   "source": [
    "f, ctx = @pct begin \n",
    "\n",
    "    @domain P begin\n",
    "        base = I\n",
    "        lower = -N\n",
    "        upper = N-1\n",
    "        periodic = true\n",
    "    end\n",
    "\n",
    "    @domain Q begin\n",
    "        base = I\n",
    "        lower = -N\n",
    "        upper = N\n",
    "        contractable = false\n",
    "    end\n",
    "\n",
    "    @space Mmn begin\n",
    "        type = (I, I, I, I) -> C\n",
    "        symmetries = (((2, 1, 4, 3), :conj), )\n",
    "    end\n",
    "\n",
    "    @space Sym begin\n",
    "        type = (I, ) -> C\n",
    "        symmetries = (((1, ), :ineg), )\n",
    "    end\n",
    "\n",
    "    @space Gauge begin\n",
    "        type = (I, I, I) -> C\n",
    "    end\n",
    "\n",
    "    @space Density begin\n",
    "        type = (I, I) -> C\n",
    "    end\n",
    "\n",
    "    #= @space SymC begin\n",
    "        type = (I, ) -> C\n",
    "        symmetries = (((1, ), :inegc), )\n",
    "    end =#\n",
    "\n",
    "    (S::Mmn, w::Sym) -> _\n",
    "end\n",
    "\n",
    "g = @pct f ctx pullback((U::Gauge) -> ((ρ::Density) -> sum((n::I, b::Q), ρ(n, b)' * ρ(n, b)))(\n",
    "    (n::I, b::Q) -> sum((k::P, p, q), U(p, n, k)' * S(p,q,k,k+b) * U(q, n, k+b))))\n",
    "eval_all(g)\n",
    "g_1 = fc(eval_all(reduce_pullback(eval_all(g))))\n",
    "g_2 = eval_all(call(g_1, first(ff(g_1)), constant(1)))"
   ]
  },
  {
   "cell_type": "code",
   "execution_count": 11,
   "id": "7c85da67",
   "metadata": {},
   "outputs": [
    {
     "name": "stdout",
     "output_type": "stream",
     "text": [
      "  6.023939 seconds (71.71 M allocations: 3.285 GiB, 12.83% gc time)\n",
      "1 sum_out\n",
      "∑((n, b), (2.0⋅∑((k, p, q), (δ(i_2, (b+k), δ(i_1, n, δ(i_0, q, (S(p, q, k, (b+k))'⋅∑((k, p, q), (U(p, n, k)'⋅U(q, n, (b+k))⋅S(p, q, k, (b+k))))⋅U(p, n, k)))))+δ(i_2, k, δ(i_1, n, δ(i_0, p, (∑((k, p, q), (U(q, n, (b+k))'⋅S(p, q, k, (b+k))'⋅U(p, n, k)))⋅U(q, n, (b+k))⋅S(p, q, k, (b+k))))))))))\n",
      "∑((b), (2.0⋅∑((n), ∑((k, p, q), (δ(i_2, (b+k), δ(i_1, n, δ(i_0, q, (S(p, q, k, (b+k))'⋅∑((k, p, q), (U(p, n, k)'⋅U(q, n, (b+k))⋅S(p, q, k, (b+k))))⋅U(p, n, k)))))+δ(i_2, k, δ(i_1, n, δ(i_0, p, (∑((k, p, q), (U(q, n, (b+k))'⋅S(p, q, k, (b+k))'⋅U(p, n, k)))⋅U(q, n, (b+k))⋅S(p, q, k, (b+k)))))))))))\n",
      "directed!\n",
      "\n",
      "  8.197918 seconds (97.68 M allocations: 4.473 GiB, 12.91% gc time)\n",
      "2 sum_out\n",
      "∑((b), (2.0⋅∑((n), ∑((k, p, q), (δ(i_2, (b+k), δ(i_1, n, δ(i_0, q, (S(p, q, k, (b+k))'⋅∑((k, p, q), (U(p, n, k)'⋅U(q, n, (b+k))⋅S(p, q, k, (b+k))))⋅U(p, n, k)))))+δ(i_2, k, δ(i_1, n, δ(i_0, p, (∑((k, p, q), (U(q, n, (b+k))'⋅S(p, q, k, (b+k))'⋅U(p, n, k)))⋅U(q, n, (b+k))⋅S(p, q, k, (b+k)))))))))))\n",
      "(2.0⋅∑((b), ∑((n), ∑((k, p, q), (δ(i_2, (b+k), δ(i_1, n, δ(i_0, q, (S(p, q, k, (b+k))'⋅∑((k, p, q), (U(p, n, k)'⋅U(q, n, (b+k))⋅S(p, q, k, (b+k))))⋅U(p, n, k)))))+δ(i_2, k, δ(i_1, n, δ(i_0, p, (∑((k, p, q), (U(q, n, (b+k))'⋅S(p, q, k, (b+k))'⋅U(p, n, k)))⋅U(q, n, (b+k))⋅S(p, q, k, (b+k)))))))))))\n",
      "directed!\n",
      "\n",
      "  9.459292 seconds (112.44 M allocations: 5.148 GiB, 12.83% gc time)\n",
      "3 sum_merge\n",
      "(2.0⋅∑((b), ∑((n), ∑((k, p, q), (δ(i_2, (b+k), δ(i_1, n, δ(i_0, q, (S(p, q, k, (b+k))'⋅∑((k, p, q), (U(p, n, k)'⋅U(q, n, (b+k))⋅S(p, q, k, (b+k))))⋅U(p, n, k)))))+δ(i_2, k, δ(i_1, n, δ(i_0, p, (∑((k, p, q), (U(q, n, (b+k))'⋅S(p, q, k, (b+k))'⋅U(p, n, k)))⋅U(q, n, (b+k))⋅S(p, q, k, (b+k)))))))))))\n",
      "(2.0⋅∑((b, n), ∑((k, p, q), (δ(i_2, (b+k), δ(i_1, n, δ(i_0, q, (S(p, q, k, (b+k))'⋅∑((k, p, q), (U(p, n, k)'⋅U(q, n, (b+k))⋅S(p, q, k, (b+k))))⋅U(p, n, k)))))+δ(i_2, k, δ(i_1, n, δ(i_0, p, (∑((k, p, q), (U(q, n, (b+k))'⋅S(p, q, k, (b+k))'⋅U(p, n, k)))⋅U(q, n, (b+k))⋅S(p, q, k, (b+k))))))))))\n",
      "directed!\n",
      "\n",
      "  7.908051 seconds (94.36 M allocations: 4.318 GiB, 13.02% gc time)\n",
      "4 sum_merge\n",
      "(2.0⋅∑((b, n), ∑((k, p, q), (δ(i_2, (b+k), δ(i_1, n, δ(i_0, q, (S(p, q, k, (b+k))'⋅∑((k, p, q), (U(p, n, k)'⋅U(q, n, (b+k))⋅S(p, q, k, (b+k))))⋅U(p, n, k)))))+δ(i_2, k, δ(i_1, n, δ(i_0, p, (∑((k, p, q), (U(q, n, (b+k))'⋅S(p, q, k, (b+k))'⋅U(p, n, k)))⋅U(q, n, (b+k))⋅S(p, q, k, (b+k))))))))))\n",
      "(2.0⋅∑((b, n, k, p, q), (δ(i_2, (b+k), δ(i_1, n, δ(i_0, q, (S(p, q, k, (b+k))'⋅∑((k, p, q), (U(p, n, k)'⋅U(q, n, (b+k))⋅S(p, q, k, (b+k))))⋅U(p, n, k)))))+δ(i_2, k, δ(i_1, n, δ(i_0, p, (∑((k, p, q), (U(q, n, (b+k))'⋅S(p, q, k, (b+k))'⋅U(p, n, k)))⋅U(q, n, (b+k))⋅S(p, q, k, (b+k)))))))))\n",
      "directed!\n",
      "\n",
      "  6.371173 seconds (75.16 M allocations: 3.437 GiB, 13.02% gc time)\n",
      "5 sum_dist\n",
      "(2.0⋅∑((b, n, k, p, q), (δ(i_2, (b+k), δ(i_1, n, δ(i_0, q, (S(p, q, k, (b+k))'⋅∑((k, p, q), (U(p, n, k)'⋅U(q, n, (b+k))⋅S(p, q, k, (b+k))))⋅U(p, n, k)))))+δ(i_2, k, δ(i_1, n, δ(i_0, p, (∑((k, p, q), (U(q, n, (b+k))'⋅S(p, q, k, (b+k))'⋅U(p, n, k)))⋅U(q, n, (b+k))⋅S(p, q, k, (b+k)))))))))\n",
      "(2.0⋅(∑((b, n, k, p, q), δ(i_2, (b+k), δ(i_1, n, δ(i_0, q, (S(p, q, k, (b+k))'⋅∑((k, p, q), (U(p, n, k)'⋅U(q, n, (b+k))⋅S(p, q, k, (b+k))))⋅U(p, n, k))))))+∑((b, n, k, p, q), δ(i_2, k, δ(i_1, n, δ(i_0, p, (∑((k, p, q), (U(q, n, (b+k))'⋅S(p, q, k, (b+k))'⋅U(p, n, k)))⋅U(q, n, (b+k))⋅S(p, q, k, (b+k)))))))))\n",
      "directed!\n",
      "\n",
      "  0.594931 seconds (6.11 M allocations: 282.984 MiB, 10.28% gc time)\n",
      "6 contract_delta\n",
      "(2.0⋅(∑((b, n, k, p, q), δ(i_2, (b+k), δ(i_1, n, δ(i_0, q, (S(p, q, k, (b+k))'⋅∑((k, p, q), (U(p, n, k)'⋅U(q, n, (b+k))⋅S(p, q, k, (b+k))))⋅U(p, n, k))))))+∑((b, n, k, p, q), δ(i_2, k, δ(i_1, n, δ(i_0, p, (∑((k, p, q), (U(q, n, (b+k))'⋅S(p, q, k, (b+k))'⋅U(p, n, k)))⋅U(q, n, (b+k))⋅S(p, q, k, (b+k)))))))))\n",
      "(2.0⋅(∑((b, n, p, q), δ(i_1, n, δ(i_0, q, (S(p, q, (i_2+(-1.0⋅b)), i_2)'⋅∑((k, p, q), (U(p, n, k)'⋅U(q, n, (b+k))⋅S(p, q, k, (b+k))))⋅U(p, n, (i_2+(-1.0⋅b)))))))+∑((b, n, k, p, q), δ(i_2, k, δ(i_1, n, δ(i_0, p, (∑((k, p, q), (U(q, n, (b+k))'⋅S(p, q, k, (b+k))'⋅U(p, n, k)))⋅U(q, n, (b+k))⋅S(p, q, k, (b+k)))))))))\n",
      "directed!\n",
      "\n",
      "  0.554492 seconds (6.24 M allocations: 291.359 MiB, 12.88% gc time)\n",
      "7 contract_delta\n",
      "(2.0⋅(∑((b, n, p, q), δ(i_1, n, δ(i_0, q, (S(p, q, (i_2+(-1.0⋅b)), i_2)'⋅∑((k, p, q), (U(p, n, k)'⋅U(q, n, (b+k))⋅S(p, q, k, (b+k))))⋅U(p, n, (i_2+(-1.0⋅b)))))))+∑((b, n, k, p, q), δ(i_2, k, δ(i_1, n, δ(i_0, p, (∑((k, p, q), (U(q, n, (b+k))'⋅S(p, q, k, (b+k))'⋅U(p, n, k)))⋅U(q, n, (b+k))⋅S(p, q, k, (b+k)))))))))\n",
      "(2.0⋅(∑((b, p, q), δ(i_0, q, (S(p, q, (i_2+(-1.0⋅b)), i_2)'⋅∑((k, p, q), (U(p, i_1, k)'⋅U(q, i_1, (b+k))⋅S(p, q, k, (b+k))))⋅U(p, i_1, (i_2+(-1.0⋅b))))))+∑((b, n, k, p, q), δ(i_2, k, δ(i_1, n, δ(i_0, p, (∑((k, p, q), (U(q, n, (b+k))'⋅S(p, q, k, (b+k))'⋅U(p, n, k)))⋅U(q, n, (b+k))⋅S(p, q, k, (b+k)))))))))\n",
      "directed!\n",
      "\n",
      "  0.333092 seconds (3.88 M allocations: 181.538 MiB, 12.26% gc time)\n",
      "8 contract_delta\n",
      "(2.0⋅(∑((b, p, q), δ(i_0, q, (S(p, q, (i_2+(-1.0⋅b)), i_2)'⋅∑((k, p, q), (U(p, i_1, k)'⋅U(q, i_1, (b+k))⋅S(p, q, k, (b+k))))⋅U(p, i_1, (i_2+(-1.0⋅b))))))+∑((b, n, k, p, q), δ(i_2, k, δ(i_1, n, δ(i_0, p, (∑((k, p, q), (U(q, n, (b+k))'⋅S(p, q, k, (b+k))'⋅U(p, n, k)))⋅U(q, n, (b+k))⋅S(p, q, k, (b+k)))))))))\n",
      "(2.0⋅(∑((b, p), (S(p, i_0, (i_2+(-1.0⋅b)), i_2)'⋅∑((k, p, q), (U(p, i_1, k)'⋅U(q, i_1, (b+k))⋅S(p, q, k, (b+k))))⋅U(p, i_1, (i_2+(-1.0⋅b)))))+∑((b, n, k, p, q), δ(i_2, k, δ(i_1, n, δ(i_0, p, (∑((k, p, q), (U(q, n, (b+k))'⋅S(p, q, k, (b+k))'⋅U(p, n, k)))⋅U(q, n, (b+k))⋅S(p, q, k, (b+k)))))))))\n",
      "directed!\n",
      "\n",
      "  0.303491 seconds (3.51 M allocations: 164.186 MiB, 13.34% gc time)\n",
      "9 sum_out\n",
      "(2.0⋅(∑((b, p), (S(p, i_0, (i_2+(-1.0⋅b)), i_2)'⋅∑((k, p, q), (U(p, i_1, k)'⋅U(q, i_1, (b+k))⋅S(p, q, k, (b+k))))⋅U(p, i_1, (i_2+(-1.0⋅b)))))+∑((b, n, k, p, q), δ(i_2, k, δ(i_1, n, δ(i_0, p, (∑((k, p, q), (U(q, n, (b+k))'⋅S(p, q, k, (b+k))'⋅U(p, n, k)))⋅U(q, n, (b+k))⋅S(p, q, k, (b+k)))))))))\n",
      "(2.0⋅(∑((b, p), (S(p, i_0, (i_2+(-1.0⋅b)), i_2)'⋅∑((k, q), (∑((p), (U(p, i_1, k)'⋅S(p, q, k, (b+k))))⋅U(q, i_1, (b+k))))⋅U(p, i_1, (i_2+(-1.0⋅b)))))+∑((b, n, k, p, q), δ(i_2, k, δ(i_1, n, δ(i_0, p, (∑((k, p, q), (U(q, n, (b+k))'⋅S(p, q, k, (b+k))'⋅U(p, n, k)))⋅U(q, n, (b+k))⋅S(p, q, k, (b+k)))))))))\n",
      "directed!\n",
      "\n",
      "  0.472032 seconds (5.45 M allocations: 254.763 MiB, 12.87% gc time)\n",
      "10 contract_delta\n",
      "(2.0⋅(∑((b, p), (S(p, i_0, (i_2+(-1.0⋅b)), i_2)'⋅∑((k, q), (∑((p), (U(p, i_1, k)'⋅S(p, q, k, (b+k))))⋅U(q, i_1, (b+k))))⋅U(p, i_1, (i_2+(-1.0⋅b)))))+∑((b, n, k, p, q), δ(i_2, k, δ(i_1, n, δ(i_0, p, (∑((k, p, q), (U(q, n, (b+k))'⋅S(p, q, k, (b+k))'⋅U(p, n, k)))⋅U(q, n, (b+k))⋅S(p, q, k, (b+k)))))))))\n",
      "(2.0⋅(∑((b, p), (S(p, i_0, (i_2+(-1.0⋅b)), i_2)'⋅∑((k, q), (∑((p), (U(p, i_1, k)'⋅S(p, q, k, (b+k))))⋅U(q, i_1, (b+k))))⋅U(p, i_1, (i_2+(-1.0⋅b)))))+∑((b, n, p, q), δ(i_1, n, δ(i_0, p, (∑((k, p, q), (U(q, n, (b+k))'⋅S(p, q, k, (b+k))'⋅U(p, n, k)))⋅U(q, n, (i_2+b))⋅S(p, q, i_2, (i_2+b))))))))\n",
      "directed!\n",
      "\n",
      "  0.358366 seconds (4.27 M allocations: 200.468 MiB, 11.31% gc time)\n",
      "11 contract_delta\n",
      "(2.0⋅(∑((b, p), (S(p, i_0, (i_2+(-1.0⋅b)), i_2)'⋅∑((k, q), (∑((p), (U(p, i_1, k)'⋅S(p, q, k, (b+k))))⋅U(q, i_1, (b+k))))⋅U(p, i_1, (i_2+(-1.0⋅b)))))+∑((b, n, p, q), δ(i_1, n, δ(i_0, p, (∑((k, p, q), (U(q, n, (b+k))'⋅S(p, q, k, (b+k))'⋅U(p, n, k)))⋅U(q, n, (i_2+b))⋅S(p, q, i_2, (i_2+b))))))))\n",
      "(2.0⋅(∑((b, p), (S(p, i_0, (i_2+(-1.0⋅b)), i_2)'⋅∑((k, q), (∑((p), (U(p, i_1, k)'⋅S(p, q, k, (b+k))))⋅U(q, i_1, (b+k))))⋅U(p, i_1, (i_2+(-1.0⋅b)))))+∑((b, p, q), δ(i_0, p, (∑((k, p, q), (U(q, i_1, (b+k))'⋅S(p, q, k, (b+k))'⋅U(p, i_1, k)))⋅U(q, i_1, (i_2+b))⋅S(p, q, i_2, (i_2+b)))))))\n",
      "directed!\n",
      "\n",
      "  0.244413 seconds (2.68 M allocations: 125.756 MiB, 12.51% gc time)\n",
      "12 contract_delta\n",
      "(2.0⋅(∑((b, p), (S(p, i_0, (i_2+(-1.0⋅b)), i_2)'⋅∑((k, q), (∑((p), (U(p, i_1, k)'⋅S(p, q, k, (b+k))))⋅U(q, i_1, (b+k))))⋅U(p, i_1, (i_2+(-1.0⋅b)))))+∑((b, p, q), δ(i_0, p, (∑((k, p, q), (U(q, i_1, (b+k))'⋅S(p, q, k, (b+k))'⋅U(p, i_1, k)))⋅U(q, i_1, (i_2+b))⋅S(p, q, i_2, (i_2+b)))))))\n",
      "(2.0⋅(∑((b, q), (∑((k, p, q), (U(q, i_1, (b+k))'⋅S(p, q, k, (b+k))'⋅U(p, i_1, k)))⋅U(q, i_1, (i_2+b))⋅S(i_0, q, i_2, (i_2+b))))+∑((b, p), (S(p, i_0, (i_2+(-1.0⋅b)), i_2)'⋅∑((k, q), (∑((p), (U(p, i_1, k)'⋅S(p, q, k, (b+k))))⋅U(q, i_1, (b+k))))⋅U(p, i_1, (i_2+(-1.0⋅b)))))))\n",
      "directed!\n",
      "\n",
      "  0.304265 seconds (2.92 M allocations: 137.573 MiB, 13.94% gc time)\n",
      "13 sum_out\n",
      "(2.0⋅(∑((b, q), (∑((k, p, q), (U(q, i_1, (b+k))'⋅S(p, q, k, (b+k))'⋅U(p, i_1, k)))⋅U(q, i_1, (i_2+b))⋅S(i_0, q, i_2, (i_2+b))))+∑((b, p), (S(p, i_0, (i_2+(-1.0⋅b)), i_2)'⋅∑((k, q), (∑((p), (U(p, i_1, k)'⋅S(p, q, k, (b+k))))⋅U(q, i_1, (b+k))))⋅U(p, i_1, (i_2+(-1.0⋅b)))))))\n",
      "(2.0⋅(∑((b, q), (∑((k, q), (U(q, i_1, (b+k))'⋅∑((p), (S(p, q, k, (b+k))'⋅U(p, i_1, k)))))⋅U(q, i_1, (i_2+b))⋅S(i_0, q, i_2, (i_2+b))))+∑((b, p), (S(p, i_0, (i_2+(-1.0⋅b)), i_2)'⋅∑((k, q), (∑((p), (U(p, i_1, k)'⋅S(p, q, k, (b+k))))⋅U(q, i_1, (b+k))))⋅U(p, i_1, (i_2+(-1.0⋅b)))))))\n",
      "directed!\n",
      "\n",
      "  0.000000 seconds\n"
     ]
    },
    {
     "data": {
      "text/latex": [
       "$\\left(i_0, i_1, i_2\\right) \\to (2.0\\cdot \\left(\\sum_{b, q}\\left[(\\sum_{k, q}\\left[(U_{q, i_1, \\left(b+k\\right)}^*\\cdot \\sum_{p}\\left[(S_{p, q, k, \\left(b+k\\right)}^*\\cdot U_{p, i_1, k})\\right])\\right]\\cdot U_{q, i_1, \\left(i_2+b\\right)}\\cdot S_{i_0, q, i_2, \\left(i_2+b\\right)})\\right]+\\sum_{b, p}\\left[(S_{p, i_0, \\left(i_2+(-1.0\\cdot b)\\right), i_2}^*\\cdot \\sum_{k, q}\\left[(\\sum_{p}\\left[(U_{p, i_1, k}^*\\cdot S_{p, q, k, \\left(b+k\\right)})\\right]\\cdot U_{q, i_1, \\left(b+k\\right)})\\right]\\cdot U_{p, i_1, \\left(i_2+(-1.0\\cdot b)\\right)})\\right]\\right))$"
      ],
      "text/plain": [
       "(i_0, i_1, i_2) -> \n",
       "    (2.0⋅(∑((b, q), (∑((k, q), (U(q, i_1, (b+k))'⋅∑((p), (S(p, q, k, (b+k))'⋅U(p, i_1, k)))))⋅U(q, i_1, (i_2+b))⋅S(i_0, q, i_2, (i_2+b))))+∑((b, p), (S(p, i_0, (i_2+(-1.0⋅b)), i_2)'⋅∑((k, q), (∑((p), (U(p, i_1, k)'⋅S(p, q, k, (b+k))))⋅U(q, i_1, (b+k))))⋅U(p, i_1, (i_2+(-1.0⋅b)))))))"
      ]
     },
     "execution_count": 11,
     "metadata": {},
     "output_type": "execute_result"
    }
   ],
   "source": [
    "g_3 = simplify(g_2) |> first"
   ]
  },
  {
   "cell_type": "code",
   "execution_count": 34,
   "id": "0ded9c5e",
   "metadata": {
    "scrolled": true
   },
   "outputs": [
    {
     "name": "stderr",
     "output_type": "stream",
     "text": [
      "\u001b[32m\u001b[1m   Resolving\u001b[22m\u001b[39m package versions...\n",
      "\u001b[32m\u001b[1m   Installed\u001b[22m\u001b[39m XML2_jll ────────────────── v2.12.0+0\n",
      "\u001b[32m\u001b[1m   Installed\u001b[22m\u001b[39m Glib_jll ────────────────── v2.76.5+0\n",
      "\u001b[32m\u001b[1m   Installed\u001b[22m\u001b[39m Xorg_xtrans_jll ─────────── v1.5.0+0\n",
      "\u001b[32m\u001b[1m   Installed\u001b[22m\u001b[39m Libiconv_jll ────────────── v1.17.0+0\n",
      "\u001b[32m\u001b[1m   Installed\u001b[22m\u001b[39m Pango_jll ───────────────── v1.50.14+0\n",
      "\u001b[32m\u001b[1m   Installed\u001b[22m\u001b[39m ProgressMeter ───────────── v1.9.0\n",
      "\u001b[32m\u001b[1m   Installed\u001b[22m\u001b[39m Xorg_libpthread_stubs_jll ─ v0.1.1+0\n",
      "\u001b[32m\u001b[1m   Installed\u001b[22m\u001b[39m ProtoBuf ────────────────── v1.0.14\n",
      "\u001b[32m\u001b[1m   Installed\u001b[22m\u001b[39m Xorg_libX11_jll ─────────── v1.8.6+0\n",
      "\u001b[32m\u001b[1m   Installed\u001b[22m\u001b[39m BufferedStreams ─────────── v1.2.1\n",
      "\u001b[32m\u001b[1m   Installed\u001b[22m\u001b[39m PProf ───────────────────── v3.1.0\n",
      "\u001b[32m\u001b[1m   Installed\u001b[22m\u001b[39m FreeType2_jll ───────────── v2.13.1+0\n",
      "\u001b[32m\u001b[1m   Installed\u001b[22m\u001b[39m Xorg_libXau_jll ─────────── v1.0.11+0\n",
      "\u001b[32m\u001b[1m   Installed\u001b[22m\u001b[39m Xorg_libXdmcp_jll ───────── v1.1.4+0\n",
      "\u001b[32m\u001b[1m   Installed\u001b[22m\u001b[39m Xorg_libxcb_jll ─────────── v1.15.0+0\n",
      "\u001b[32m\u001b[1m   Installed\u001b[22m\u001b[39m CodecZlib ───────────────── v0.7.3\n",
      "\u001b[32m\u001b[1m    Updating\u001b[22m\u001b[39m `~/kaer_morhen/projects/QLD/PCT/Project.toml`\n",
      "  \u001b[90m[e4faabce] \u001b[39m\u001b[92m+ PProf v3.1.0\u001b[39m\n",
      "\u001b[32m\u001b[1m    Updating\u001b[22m\u001b[39m `~/kaer_morhen/projects/QLD/PCT/Manifest.toml`\n",
      "  \u001b[90m[1520ce14] \u001b[39m\u001b[92m+ AbstractTrees v0.4.4\u001b[39m\n",
      "  \u001b[90m[e1450e63] \u001b[39m\u001b[92m+ BufferedStreams v1.2.1\u001b[39m\n",
      "  \u001b[90m[944b1d66] \u001b[39m\u001b[92m+ CodecZlib v0.7.3\u001b[39m\n",
      "  \u001b[90m[8bb1440f] \u001b[39m\u001b[92m+ DelimitedFiles v1.9.1\u001b[39m\n",
      "  \u001b[90m[4e289a0a] \u001b[39m\u001b[92m+ EnumX v1.0.4\u001b[39m\n",
      "  \u001b[90m[5789e2e9] \u001b[39m\u001b[92m+ FileIO v1.16.1\u001b[39m\n",
      "  \u001b[90m[08572546] \u001b[39m\u001b[92m+ FlameGraphs v1.0.0\u001b[39m\n",
      "  \u001b[90m[9b13fd28] \u001b[39m\u001b[92m+ IndirectArrays v1.0.0\u001b[39m\n",
      "  \u001b[90m[692b3bcd] \u001b[39m\u001b[92m+ JLLWrappers v1.5.0\u001b[39m\n",
      "  \u001b[90m[1d6d02ad] \u001b[39m\u001b[92m+ LeftChildRightSiblingTrees v0.2.0\u001b[39m\n",
      "  \u001b[90m[e4faabce] \u001b[39m\u001b[92m+ PProf v3.1.0\u001b[39m\n",
      "  \u001b[90m[92933f4c] \u001b[39m\u001b[92m+ ProgressMeter v1.9.0\u001b[39m\n",
      "  \u001b[90m[3349acd9] \u001b[39m\u001b[92m+ ProtoBuf v1.0.14\u001b[39m\n",
      "\u001b[33m⌅\u001b[39m \u001b[90m[3bb67fe8] \u001b[39m\u001b[92m+ TranscodingStreams v0.9.13\u001b[39m\n",
      "  \u001b[90m[6e34b625] \u001b[39m\u001b[92m+ Bzip2_jll v1.0.8+0\u001b[39m\n",
      "  \u001b[90m[83423d85] \u001b[39m\u001b[92m+ Cairo_jll v1.16.1+1\u001b[39m\n",
      "  \u001b[90m[2e619515] \u001b[39m\u001b[92m+ Expat_jll v2.5.0+0\u001b[39m\n",
      "  \u001b[90m[a3f928ae] \u001b[39m\u001b[92m+ Fontconfig_jll v2.13.93+0\u001b[39m\n",
      "  \u001b[90m[d7e528f0] \u001b[39m\u001b[92m+ FreeType2_jll v2.13.1+0\u001b[39m\n",
      "  \u001b[90m[559328eb] \u001b[39m\u001b[92m+ FriBidi_jll v1.0.10+0\u001b[39m\n",
      "  \u001b[90m[78b55507] \u001b[39m\u001b[92m+ Gettext_jll v0.21.0+0\u001b[39m\n",
      "  \u001b[90m[7746bdde] \u001b[39m\u001b[92m+ Glib_jll v2.76.5+0\u001b[39m\n",
      "  \u001b[90m[3b182d85] \u001b[39m\u001b[92m+ Graphite2_jll v1.3.14+0\u001b[39m\n",
      "  \u001b[90m[3c863552] \u001b[39m\u001b[92m+ Graphviz_jll v2.50.0+1\u001b[39m\n",
      "  \u001b[90m[2e76f6c2] \u001b[39m\u001b[92m+ HarfBuzz_jll v2.8.1+1\u001b[39m\n",
      "  \u001b[90m[1d63c593] \u001b[39m\u001b[92m+ LLVMOpenMP_jll v15.0.4+0\u001b[39m\n",
      "  \u001b[90m[dd4b983a] \u001b[39m\u001b[92m+ LZO_jll v2.10.1+0\u001b[39m\n",
      "\u001b[33m⌅\u001b[39m \u001b[90m[e9f186c6] \u001b[39m\u001b[92m+ Libffi_jll v3.2.2+1\u001b[39m\n",
      "  \u001b[90m[d4300ac3] \u001b[39m\u001b[92m+ Libgcrypt_jll v1.8.7+0\u001b[39m\n",
      "  \u001b[90m[7add5ba3] \u001b[39m\u001b[92m+ Libgpg_error_jll v1.42.0+0\u001b[39m\n",
      "  \u001b[90m[94ce4f54] \u001b[39m\u001b[92m+ Libiconv_jll v1.17.0+0\u001b[39m\n",
      "  \u001b[90m[4b2f31a3] \u001b[39m\u001b[92m+ Libmount_jll v2.35.0+0\u001b[39m\n",
      "  \u001b[90m[38a345b3] \u001b[39m\u001b[92m+ Libuuid_jll v2.36.0+0\u001b[39m\n",
      "  \u001b[90m[36c8627f] \u001b[39m\u001b[92m+ Pango_jll v1.50.14+0\u001b[39m\n",
      "  \u001b[90m[30392449] \u001b[39m\u001b[92m+ Pixman_jll v0.42.2+0\u001b[39m\n",
      "  \u001b[90m[02c8fc9c] \u001b[39m\u001b[92m+ XML2_jll v2.12.0+0\u001b[39m\n",
      "  \u001b[90m[aed1982a] \u001b[39m\u001b[92m+ XSLT_jll v1.1.34+0\u001b[39m\n",
      "  \u001b[90m[4f6342f7] \u001b[39m\u001b[92m+ Xorg_libX11_jll v1.8.6+0\u001b[39m\n",
      "  \u001b[90m[0c0b7dd1] \u001b[39m\u001b[92m+ Xorg_libXau_jll v1.0.11+0\u001b[39m\n",
      "  \u001b[90m[a3789734] \u001b[39m\u001b[92m+ Xorg_libXdmcp_jll v1.1.4+0\u001b[39m\n",
      "  \u001b[90m[1082639a] \u001b[39m\u001b[92m+ Xorg_libXext_jll v1.3.4+4\u001b[39m\n",
      "  \u001b[90m[ea2f1a96] \u001b[39m\u001b[92m+ Xorg_libXrender_jll v0.9.10+4\u001b[39m\n",
      "  \u001b[90m[14d82f49] \u001b[39m\u001b[92m+ Xorg_libpthread_stubs_jll v0.1.1+0\u001b[39m\n",
      "  \u001b[90m[c7cfdc94] \u001b[39m\u001b[92m+ Xorg_libxcb_jll v1.15.0+0\u001b[39m\n",
      "  \u001b[90m[c5fb5394] \u001b[39m\u001b[92m+ Xorg_xtrans_jll v1.5.0+0\u001b[39m\n",
      "  \u001b[90m[b53b4c65] \u001b[39m\u001b[92m+ libpng_jll v1.6.38+0\u001b[39m\n",
      "  \u001b[90m[cf2c5f97] \u001b[39m\u001b[92m+ pprof_jll v1.0.1+0\u001b[39m\n",
      "  \u001b[90m[0dad84c5] \u001b[39m\u001b[92m+ ArgTools v1.1.1\u001b[39m\n",
      "  \u001b[90m[f43a241f] \u001b[39m\u001b[92m+ Downloads v1.6.0\u001b[39m\n",
      "  \u001b[90m[7b1f6079] \u001b[39m\u001b[92m+ FileWatching\u001b[39m\n",
      "  \u001b[90m[b27032c2] \u001b[39m\u001b[92m+ LibCURL v0.6.3\u001b[39m\n",
      "  \u001b[90m[76f85450] \u001b[39m\u001b[92m+ LibGit2\u001b[39m\n",
      "  \u001b[90m[ca575930] \u001b[39m\u001b[92m+ NetworkOptions v1.2.0\u001b[39m\n",
      "  \u001b[90m[44cfe95a] \u001b[39m\u001b[92m+ Pkg v1.9.2\u001b[39m\n",
      "  \u001b[90m[9abbd945] \u001b[39m\u001b[92m+ Profile\u001b[39m\n",
      "  \u001b[90m[3fa0cd96] \u001b[39m\u001b[92m+ REPL\u001b[39m\n",
      "  \u001b[90m[10745b16] \u001b[39m\u001b[93m~ Statistics ⇒ v1.9.0\u001b[39m\n",
      "  \u001b[90m[fa267f1f] \u001b[39m\u001b[93m↑ TOML v1.0.0 ⇒ v1.0.3\u001b[39m\n",
      "  \u001b[90m[a4e569a6] \u001b[39m\u001b[92m+ Tar v1.10.0\u001b[39m\n",
      "  \u001b[90m[e66e0078] \u001b[39m\u001b[93m↑ CompilerSupportLibraries_jll v1.0.1+0 ⇒ v1.0.5+0\u001b[39m\n",
      "  \u001b[90m[deac9b47] \u001b[39m\u001b[92m+ LibCURL_jll v7.84.0+0\u001b[39m\n",
      "  \u001b[90m[29816b5a] \u001b[39m\u001b[92m+ LibSSH2_jll v1.10.2+0\u001b[39m\n",
      "  \u001b[90m[c8ffd9c3] \u001b[39m\u001b[92m+ MbedTLS_jll v2.28.2+0\u001b[39m\n",
      "  \u001b[90m[14a3606d] \u001b[39m\u001b[92m+ MozillaCACerts_jll v2022.10.11\u001b[39m\n",
      "  \u001b[90m[4536629a] \u001b[39m\u001b[93m↑ OpenBLAS_jll v0.3.20+0 ⇒ v0.3.21+4\u001b[39m\n",
      "  \u001b[90m[efcefdf7] \u001b[39m\u001b[92m+ PCRE2_jll v10.42.0+0\u001b[39m\n",
      "  \u001b[90m[bea87d4a] \u001b[39m\u001b[92m+ SuiteSparse_jll v5.10.1+6\u001b[39m\n",
      "  \u001b[90m[83775a58] \u001b[39m\u001b[92m+ Zlib_jll v1.2.13+0\u001b[39m\n",
      "  \u001b[90m[8e850b90] \u001b[39m\u001b[93m↑ libblastrampoline_jll v5.1.1+0 ⇒ v5.8.0+0\u001b[39m\n",
      "  \u001b[90m[8e850ede] \u001b[39m\u001b[92m+ nghttp2_jll v1.48.0+0\u001b[39m\n",
      "  \u001b[90m[3f19e933] \u001b[39m\u001b[92m+ p7zip_jll v17.4.0+0\u001b[39m\n",
      "\u001b[36m\u001b[1m        Info\u001b[22m\u001b[39m Packages marked with \u001b[33m⌅\u001b[39m have new versions available but compatibility constraints restrict them from upgrading. To see why use `status --outdated -m`\n",
      "\u001b[32m\u001b[1mPrecompiling\u001b[22m\u001b[39m project...\n",
      "\u001b[32m  ✓ \u001b[39m\u001b[90mIndirectArrays\u001b[39m\n",
      "\u001b[32m  ✓ \u001b[39m\u001b[90mEnumX\u001b[39m\n",
      "\u001b[33m  ✓ \u001b[39m\u001b[90mJLLWrappers\u001b[39m\n",
      "\u001b[32m  ✓ \u001b[39m\u001b[90mBufferedStreams\u001b[39m\n",
      "\u001b[32m  ✓ \u001b[39m\u001b[90mAbstractTrees\u001b[39m\n",
      "\u001b[32m  ✓ \u001b[39m\u001b[90mProgressMeter\u001b[39m\n",
      "\u001b[32m  ✓ \u001b[39m\u001b[90mTranscodingStreams\u001b[39m\n",
      "\u001b[32m  ✓ \u001b[39m\u001b[90mXorg_xtrans_jll\u001b[39m\n",
      "\u001b[32m  ✓ \u001b[39m\u001b[90mXorg_libXau_jll\u001b[39m\n",
      "\u001b[32m  ✓ \u001b[39m\u001b[90mXorg_libXdmcp_jll\u001b[39m\n",
      "\u001b[32m  ✓ \u001b[39m\u001b[90mGraphite2_jll\u001b[39m\n",
      "\u001b[32m  ✓ \u001b[39m\u001b[90mlibpng_jll\u001b[39m\n",
      "\u001b[32m  ✓ \u001b[39m\u001b[90mLibmount_jll\u001b[39m\n",
      "\u001b[32m  ✓ \u001b[39m\u001b[90mLibiconv_jll\u001b[39m\n",
      "\u001b[32m  ✓ \u001b[39m\u001b[90mLLVMOpenMP_jll\u001b[39m\n",
      "\u001b[32m  ✓ \u001b[39m\u001b[90mLibffi_jll\u001b[39m\n",
      "\u001b[32m  ✓ \u001b[39m\u001b[90mBzip2_jll\u001b[39m\n",
      "\u001b[32m  ✓ \u001b[39m\u001b[90mExpat_jll\u001b[39m\n",
      "\u001b[32m  ✓ \u001b[39m\u001b[90mLibgpg_error_jll\u001b[39m\n",
      "\u001b[32m  ✓ \u001b[39m\u001b[90mLZO_jll\u001b[39m\n",
      "\u001b[32m  ✓ \u001b[39m\u001b[90mXorg_libpthread_stubs_jll\u001b[39m\n",
      "\u001b[32m  ✓ \u001b[39m\u001b[90mFriBidi_jll\u001b[39m\n",
      "\u001b[32m  ✓ \u001b[39m\u001b[90mLibuuid_jll\u001b[39m\n",
      "\u001b[32m  ✓ \u001b[39m\u001b[90mLeftChildRightSiblingTrees\u001b[39m\n",
      "\u001b[32m  ✓ \u001b[39m\u001b[90mCodecZlib\u001b[39m\n",
      "\u001b[32m  ✓ \u001b[39m\u001b[90mXML2_jll\u001b[39m\n",
      "\u001b[32m  ✓ \u001b[39m\u001b[90mPixman_jll\u001b[39m\n",
      "\u001b[32m  ✓ \u001b[39m\u001b[90mFreeType2_jll\u001b[39m\n",
      "\u001b[32m  ✓ \u001b[39m\u001b[90mLibgcrypt_jll\u001b[39m\n",
      "\u001b[32m  ✓ \u001b[39m\u001b[90mGettext_jll\u001b[39m\n",
      "\u001b[32m  ✓ \u001b[39m\u001b[90mFontconfig_jll\u001b[39m\n",
      "\u001b[32m  ✓ \u001b[39m\u001b[90mXSLT_jll\u001b[39m\n",
      "\u001b[32m  ✓ \u001b[39m\u001b[90mFileIO\u001b[39m\n",
      "\u001b[32m  ✓ \u001b[39m\u001b[90mGlib_jll\u001b[39m\n",
      "\u001b[32m  ✓ \u001b[39m\u001b[90mXorg_libxcb_jll\u001b[39m\n",
      "\u001b[32m  ✓ \u001b[39m\u001b[90mXorg_libX11_jll\u001b[39m\n",
      "\u001b[32m  ✓ \u001b[39m\u001b[90mXorg_libXext_jll\u001b[39m\n",
      "\u001b[32m  ✓ \u001b[39m\u001b[90mXorg_libXrender_jll\u001b[39m\n",
      "\u001b[32m  ✓ \u001b[39m\u001b[90mCairo_jll\u001b[39m\n",
      "\u001b[32m  ✓ \u001b[39m\u001b[90mHarfBuzz_jll\u001b[39m\n",
      "\u001b[32m  ✓ \u001b[39m\u001b[90mFlameGraphs\u001b[39m\n",
      "\u001b[32m  ✓ \u001b[39m\u001b[90mPango_jll\u001b[39m\n",
      "\u001b[32m  ✓ \u001b[39m\u001b[90mGraphviz_jll\u001b[39m\n",
      "\u001b[32m  ✓ \u001b[39m\u001b[90mpprof_jll\u001b[39m\n",
      "\u001b[32m  ✓ \u001b[39m\u001b[90mProtoBuf\u001b[39m\n",
      "\u001b[32m  ✓ \u001b[39mPProf\n",
      "\u001b[33m  ✓ \u001b[39mPCT\n",
      "  47 dependencies successfully precompiled in 9 seconds. 39 already precompiled.\n",
      "  \u001b[33m2\u001b[39m dependencies precompiled but different versions are currently loaded. Restart julia to access the new versions\n",
      "\u001b[36m\u001b[1m[ \u001b[22m\u001b[39m\u001b[36m\u001b[1mInfo: \u001b[22m\u001b[39mPrecompiling PProf [e4faabce-9ead-11e9-39d9-4379958e3056]\n",
      "\u001b[33m\u001b[1m┌ \u001b[22m\u001b[39m\u001b[33m\u001b[1mWarning: \u001b[22m\u001b[39mModule JLLWrappers with build ID fafbfcfd-cb8c-49c8-0005-da57d32b1727 is missing from the cache.\n",
      "\u001b[33m\u001b[1m│ \u001b[22m\u001b[39mThis may mean JLLWrappers [692b3bcd-3c85-4b1f-b108-f13ce0eb3210] does not support precompilation but is imported by a module that does.\n",
      "\u001b[33m\u001b[1m└ \u001b[22m\u001b[39m\u001b[90m@ Base loading.jl:1793\u001b[39m\n",
      "\u001b[36m\u001b[1m[ \u001b[22m\u001b[39m\u001b[36m\u001b[1mInfo: \u001b[22m\u001b[39mSkipping precompilation since __precompile__(false). Importing PProf [e4faabce-9ead-11e9-39d9-4379958e3056].\n",
      "\u001b[36m\u001b[1m[ \u001b[22m\u001b[39m\u001b[36m\u001b[1mInfo: \u001b[22m\u001b[39mPrecompiling pprof_jll [cf2c5f97-e748-59fa-a03f-dda3c62118cb]\n"
     ]
    },
    {
     "name": "stderr",
     "output_type": "stream",
     "text": [
      "\u001b[33m\u001b[1m┌ \u001b[22m\u001b[39m\u001b[33m\u001b[1mWarning: \u001b[22m\u001b[39mModule JLLWrappers with build ID fafbfcfd-cb8c-49c8-0005-da57d32b1727 is missing from the cache.\n",
      "\u001b[33m\u001b[1m│ \u001b[22m\u001b[39mThis may mean JLLWrappers [692b3bcd-3c85-4b1f-b108-f13ce0eb3210] does not support precompilation but is imported by a module that does.\n",
      "\u001b[33m\u001b[1m└ \u001b[22m\u001b[39m\u001b[90m@ Base loading.jl:1793\u001b[39m\n",
      "\u001b[36m\u001b[1m[ \u001b[22m\u001b[39m\u001b[36m\u001b[1mInfo: \u001b[22m\u001b[39mSkipping precompilation since __precompile__(false). Importing pprof_jll [cf2c5f97-e748-59fa-a03f-dda3c62118cb].\n",
      "\u001b[36m\u001b[1m[ \u001b[22m\u001b[39m\u001b[36m\u001b[1mInfo: \u001b[22m\u001b[39mPrecompiling Graphviz_jll [3c863552-8265-54e4-a6dc-903eb78fde85]\n",
      "\u001b[33m\u001b[1m┌ \u001b[22m\u001b[39m\u001b[33m\u001b[1mWarning: \u001b[22m\u001b[39mModule JLLWrappers with build ID fafbfcfd-cb8c-49c8-0005-da57d32b1727 is missing from the cache.\n",
      "\u001b[33m\u001b[1m│ \u001b[22m\u001b[39mThis may mean JLLWrappers [692b3bcd-3c85-4b1f-b108-f13ce0eb3210] does not support precompilation but is imported by a module that does.\n",
      "\u001b[33m\u001b[1m└ \u001b[22m\u001b[39m\u001b[90m@ Base loading.jl:1793\u001b[39m\n",
      "\u001b[36m\u001b[1m[ \u001b[22m\u001b[39m\u001b[36m\u001b[1mInfo: \u001b[22m\u001b[39mSkipping precompilation since __precompile__(false). Importing Graphviz_jll [3c863552-8265-54e4-a6dc-903eb78fde85].\n",
      "\u001b[36m\u001b[1m[ \u001b[22m\u001b[39m\u001b[36m\u001b[1mInfo: \u001b[22m\u001b[39mPrecompiling Cairo_jll [83423d85-b0ee-5818-9007-b63ccbeb887a]\n",
      "\u001b[33m\u001b[1m┌ \u001b[22m\u001b[39m\u001b[33m\u001b[1mWarning: \u001b[22m\u001b[39mModule JLLWrappers with build ID fafbfcfd-cb8c-49c8-0005-da57d32b1727 is missing from the cache.\n",
      "\u001b[33m\u001b[1m│ \u001b[22m\u001b[39mThis may mean JLLWrappers [692b3bcd-3c85-4b1f-b108-f13ce0eb3210] does not support precompilation but is imported by a module that does.\n",
      "\u001b[33m\u001b[1m└ \u001b[22m\u001b[39m\u001b[90m@ Base loading.jl:1793\u001b[39m\n",
      "\u001b[36m\u001b[1m[ \u001b[22m\u001b[39m\u001b[36m\u001b[1mInfo: \u001b[22m\u001b[39mSkipping precompilation since __precompile__(false). Importing Cairo_jll [83423d85-b0ee-5818-9007-b63ccbeb887a].\n",
      "\u001b[36m\u001b[1m[ \u001b[22m\u001b[39m\u001b[36m\u001b[1mInfo: \u001b[22m\u001b[39mPrecompiling Glib_jll [7746bdde-850d-59dc-9ae8-88ece973131d]\n",
      "\u001b[33m\u001b[1m┌ \u001b[22m\u001b[39m\u001b[33m\u001b[1mWarning: \u001b[22m\u001b[39mModule JLLWrappers with build ID fafbfcfd-cb8c-49c8-0005-da57d32b1727 is missing from the cache.\n",
      "\u001b[33m\u001b[1m│ \u001b[22m\u001b[39mThis may mean JLLWrappers [692b3bcd-3c85-4b1f-b108-f13ce0eb3210] does not support precompilation but is imported by a module that does.\n",
      "\u001b[33m\u001b[1m└ \u001b[22m\u001b[39m\u001b[90m@ Base loading.jl:1793\u001b[39m\n",
      "\u001b[36m\u001b[1m[ \u001b[22m\u001b[39m\u001b[36m\u001b[1mInfo: \u001b[22m\u001b[39mSkipping precompilation since __precompile__(false). Importing Glib_jll [7746bdde-850d-59dc-9ae8-88ece973131d].\n",
      "\u001b[36m\u001b[1m[ \u001b[22m\u001b[39m\u001b[36m\u001b[1mInfo: \u001b[22m\u001b[39mPrecompiling Libiconv_jll [94ce4f54-9a6c-5748-9c1c-f9c7231a4531]\n",
      "\u001b[33m\u001b[1m┌ \u001b[22m\u001b[39m\u001b[33m\u001b[1mWarning: \u001b[22m\u001b[39mModule JLLWrappers with build ID fafbfcfd-cb8c-49c8-0005-da57d32b1727 is missing from the cache.\n",
      "\u001b[33m\u001b[1m│ \u001b[22m\u001b[39mThis may mean JLLWrappers [692b3bcd-3c85-4b1f-b108-f13ce0eb3210] does not support precompilation but is imported by a module that does.\n",
      "\u001b[33m\u001b[1m└ \u001b[22m\u001b[39m\u001b[90m@ Base loading.jl:1793\u001b[39m\n",
      "\u001b[36m\u001b[1m[ \u001b[22m\u001b[39m\u001b[36m\u001b[1mInfo: \u001b[22m\u001b[39mSkipping precompilation since __precompile__(false). Importing Libiconv_jll [94ce4f54-9a6c-5748-9c1c-f9c7231a4531].\n",
      "\u001b[36m\u001b[1m[ \u001b[22m\u001b[39m\u001b[36m\u001b[1mInfo: \u001b[22m\u001b[39mPrecompiling Libffi_jll [e9f186c6-92d2-5b65-8a66-fee21dc1b490]\n",
      "\u001b[33m\u001b[1m┌ \u001b[22m\u001b[39m\u001b[33m\u001b[1mWarning: \u001b[22m\u001b[39mModule JLLWrappers with build ID fafbfcfd-cb8c-49c8-0005-da57d32b1727 is missing from the cache.\n",
      "\u001b[33m\u001b[1m│ \u001b[22m\u001b[39mThis may mean JLLWrappers [692b3bcd-3c85-4b1f-b108-f13ce0eb3210] does not support precompilation but is imported by a module that does.\n",
      "\u001b[33m\u001b[1m└ \u001b[22m\u001b[39m\u001b[90m@ Base loading.jl:1793\u001b[39m\n",
      "\u001b[36m\u001b[1m[ \u001b[22m\u001b[39m\u001b[36m\u001b[1mInfo: \u001b[22m\u001b[39mSkipping precompilation since __precompile__(false). Importing Libffi_jll [e9f186c6-92d2-5b65-8a66-fee21dc1b490].\n",
      "\u001b[36m\u001b[1m[ \u001b[22m\u001b[39m\u001b[36m\u001b[1mInfo: \u001b[22m\u001b[39mPrecompiling Gettext_jll [78b55507-aeef-58d4-861c-77aaff3498b1]\n",
      "\u001b[33m\u001b[1m┌ \u001b[22m\u001b[39m\u001b[33m\u001b[1mWarning: \u001b[22m\u001b[39mModule JLLWrappers with build ID fafbfcfd-cb8c-49c8-0005-da57d32b1727 is missing from the cache.\n",
      "\u001b[33m\u001b[1m│ \u001b[22m\u001b[39mThis may mean JLLWrappers [692b3bcd-3c85-4b1f-b108-f13ce0eb3210] does not support precompilation but is imported by a module that does.\n",
      "\u001b[33m\u001b[1m└ \u001b[22m\u001b[39m\u001b[90m@ Base loading.jl:1793\u001b[39m\n",
      "\u001b[36m\u001b[1m[ \u001b[22m\u001b[39m\u001b[36m\u001b[1mInfo: \u001b[22m\u001b[39mSkipping precompilation since __precompile__(false). Importing Gettext_jll [78b55507-aeef-58d4-861c-77aaff3498b1].\n",
      "\u001b[36m\u001b[1m[ \u001b[22m\u001b[39m\u001b[36m\u001b[1mInfo: \u001b[22m\u001b[39mPrecompiling XML2_jll [02c8fc9c-b97f-50b9-bbe4-9be30ff0a78a]\n",
      "\u001b[33m\u001b[1m┌ \u001b[22m\u001b[39m\u001b[33m\u001b[1mWarning: \u001b[22m\u001b[39mModule JLLWrappers with build ID fafbfcfd-cb8c-49c8-0005-da57d32b1727 is missing from the cache.\n",
      "\u001b[33m\u001b[1m│ \u001b[22m\u001b[39mThis may mean JLLWrappers [692b3bcd-3c85-4b1f-b108-f13ce0eb3210] does not support precompilation but is imported by a module that does.\n",
      "\u001b[33m\u001b[1m└ \u001b[22m\u001b[39m\u001b[90m@ Base loading.jl:1793\u001b[39m\n",
      "\u001b[36m\u001b[1m[ \u001b[22m\u001b[39m\u001b[36m\u001b[1mInfo: \u001b[22m\u001b[39mSkipping precompilation since __precompile__(false). Importing XML2_jll [02c8fc9c-b97f-50b9-bbe4-9be30ff0a78a].\n",
      "\u001b[36m\u001b[1m[ \u001b[22m\u001b[39m\u001b[36m\u001b[1mInfo: \u001b[22m\u001b[39mPrecompiling Pixman_jll [30392449-352a-5448-841d-b1acce4e97dc]\n",
      "\u001b[33m\u001b[1m┌ \u001b[22m\u001b[39m\u001b[33m\u001b[1mWarning: \u001b[22m\u001b[39mModule JLLWrappers with build ID fafbfcfd-cb8c-49c8-0005-da57d32b1727 is missing from the cache.\n",
      "\u001b[33m\u001b[1m│ \u001b[22m\u001b[39mThis may mean JLLWrappers [692b3bcd-3c85-4b1f-b108-f13ce0eb3210] does not support precompilation but is imported by a module that does.\n",
      "\u001b[33m\u001b[1m└ \u001b[22m\u001b[39m\u001b[90m@ Base loading.jl:1793\u001b[39m\n",
      "\u001b[36m\u001b[1m[ \u001b[22m\u001b[39m\u001b[36m\u001b[1mInfo: \u001b[22m\u001b[39mSkipping precompilation since __precompile__(false). Importing Pixman_jll [30392449-352a-5448-841d-b1acce4e97dc].\n",
      "\u001b[36m\u001b[1m[ \u001b[22m\u001b[39m\u001b[36m\u001b[1mInfo: \u001b[22m\u001b[39mPrecompiling LLVMOpenMP_jll [1d63c593-3942-5779-bab2-d838dc0a180e]\n",
      "\u001b[33m\u001b[1m┌ \u001b[22m\u001b[39m\u001b[33m\u001b[1mWarning: \u001b[22m\u001b[39mModule JLLWrappers with build ID fafbfcfd-cb8c-49c8-0005-da57d32b1727 is missing from the cache.\n",
      "\u001b[33m\u001b[1m│ \u001b[22m\u001b[39mThis may mean JLLWrappers [692b3bcd-3c85-4b1f-b108-f13ce0eb3210] does not support precompilation but is imported by a module that does.\n",
      "\u001b[33m\u001b[1m└ \u001b[22m\u001b[39m\u001b[90m@ Base loading.jl:1793\u001b[39m\n",
      "\u001b[36m\u001b[1m[ \u001b[22m\u001b[39m\u001b[36m\u001b[1mInfo: \u001b[22m\u001b[39mSkipping precompilation since __precompile__(false). Importing LLVMOpenMP_jll [1d63c593-3942-5779-bab2-d838dc0a180e].\n",
      "\u001b[36m\u001b[1m[ \u001b[22m\u001b[39m\u001b[36m\u001b[1mInfo: \u001b[22m\u001b[39mPrecompiling libpng_jll [b53b4c65-9356-5827-b1ea-8c7a1a84506f]\n",
      "\u001b[33m\u001b[1m┌ \u001b[22m\u001b[39m\u001b[33m\u001b[1mWarning: \u001b[22m\u001b[39mModule JLLWrappers with build ID fafbfcfd-cb8c-49c8-0005-da57d32b1727 is missing from the cache.\n",
      "\u001b[33m\u001b[1m│ \u001b[22m\u001b[39mThis may mean JLLWrappers [692b3bcd-3c85-4b1f-b108-f13ce0eb3210] does not support precompilation but is imported by a module that does.\n",
      "\u001b[33m\u001b[1m└ \u001b[22m\u001b[39m\u001b[90m@ Base loading.jl:1793\u001b[39m\n",
      "\u001b[36m\u001b[1m[ \u001b[22m\u001b[39m\u001b[36m\u001b[1mInfo: \u001b[22m\u001b[39mSkipping precompilation since __precompile__(false). Importing libpng_jll [b53b4c65-9356-5827-b1ea-8c7a1a84506f].\n",
      "\u001b[36m\u001b[1m[ \u001b[22m\u001b[39m\u001b[36m\u001b[1mInfo: \u001b[22m\u001b[39mPrecompiling Fontconfig_jll [a3f928ae-7b40-5064-980b-68af3947d34b]\n",
      "\u001b[33m\u001b[1m┌ \u001b[22m\u001b[39m\u001b[33m\u001b[1mWarning: \u001b[22m\u001b[39mModule JLLWrappers with build ID fafbfcfd-cb8c-49c8-0005-da57d32b1727 is missing from the cache.\n",
      "\u001b[33m\u001b[1m│ \u001b[22m\u001b[39mThis may mean JLLWrappers [692b3bcd-3c85-4b1f-b108-f13ce0eb3210] does not support precompilation but is imported by a module that does.\n",
      "\u001b[33m\u001b[1m└ \u001b[22m\u001b[39m\u001b[90m@ Base loading.jl:1793\u001b[39m\n",
      "\u001b[36m\u001b[1m[ \u001b[22m\u001b[39m\u001b[36m\u001b[1mInfo: \u001b[22m\u001b[39mSkipping precompilation since __precompile__(false). Importing Fontconfig_jll [a3f928ae-7b40-5064-980b-68af3947d34b].\n",
      "\u001b[36m\u001b[1m[ \u001b[22m\u001b[39m\u001b[36m\u001b[1mInfo: \u001b[22m\u001b[39mPrecompiling FreeType2_jll [d7e528f0-a631-5988-bf34-fe36492bcfd7]\n",
      "\u001b[33m\u001b[1m┌ \u001b[22m\u001b[39m\u001b[33m\u001b[1mWarning: \u001b[22m\u001b[39mModule JLLWrappers with build ID fafbfcfd-cb8c-49c8-0005-da57d32b1727 is missing from the cache.\n",
      "\u001b[33m\u001b[1m│ \u001b[22m\u001b[39mThis may mean JLLWrappers [692b3bcd-3c85-4b1f-b108-f13ce0eb3210] does not support precompilation but is imported by a module that does.\n",
      "\u001b[33m\u001b[1m└ \u001b[22m\u001b[39m\u001b[90m@ Base loading.jl:1793\u001b[39m\n",
      "\u001b[36m\u001b[1m[ \u001b[22m\u001b[39m\u001b[36m\u001b[1mInfo: \u001b[22m\u001b[39mSkipping precompilation since __precompile__(false). Importing FreeType2_jll [d7e528f0-a631-5988-bf34-fe36492bcfd7].\n",
      "\u001b[36m\u001b[1m[ \u001b[22m\u001b[39m\u001b[36m\u001b[1mInfo: \u001b[22m\u001b[39mPrecompiling Bzip2_jll [6e34b625-4abd-537c-b88f-471c36dfa7a0]\n",
      "\u001b[33m\u001b[1m┌ \u001b[22m\u001b[39m\u001b[33m\u001b[1mWarning: \u001b[22m\u001b[39mModule JLLWrappers with build ID fafbfcfd-cb8c-49c8-0005-da57d32b1727 is missing from the cache.\n",
      "\u001b[33m\u001b[1m│ \u001b[22m\u001b[39mThis may mean JLLWrappers [692b3bcd-3c85-4b1f-b108-f13ce0eb3210] does not support precompilation but is imported by a module that does.\n",
      "\u001b[33m\u001b[1m└ \u001b[22m\u001b[39m\u001b[90m@ Base loading.jl:1793\u001b[39m\n",
      "\u001b[36m\u001b[1m[ \u001b[22m\u001b[39m\u001b[36m\u001b[1mInfo: \u001b[22m\u001b[39mSkipping precompilation since __precompile__(false). Importing Bzip2_jll [6e34b625-4abd-537c-b88f-471c36dfa7a0].\n",
      "\u001b[36m\u001b[1m[ \u001b[22m\u001b[39m\u001b[36m\u001b[1mInfo: \u001b[22m\u001b[39mPrecompiling Libuuid_jll [38a345b3-de98-5d2b-a5d3-14cd9215e700]\n"
     ]
    },
    {
     "name": "stderr",
     "output_type": "stream",
     "text": [
      "\u001b[33m\u001b[1m┌ \u001b[22m\u001b[39m\u001b[33m\u001b[1mWarning: \u001b[22m\u001b[39mModule JLLWrappers with build ID fafbfcfd-cb8c-49c8-0005-da57d32b1727 is missing from the cache.\n",
      "\u001b[33m\u001b[1m│ \u001b[22m\u001b[39mThis may mean JLLWrappers [692b3bcd-3c85-4b1f-b108-f13ce0eb3210] does not support precompilation but is imported by a module that does.\n",
      "\u001b[33m\u001b[1m└ \u001b[22m\u001b[39m\u001b[90m@ Base loading.jl:1793\u001b[39m\n",
      "\u001b[36m\u001b[1m[ \u001b[22m\u001b[39m\u001b[36m\u001b[1mInfo: \u001b[22m\u001b[39mSkipping precompilation since __precompile__(false). Importing Libuuid_jll [38a345b3-de98-5d2b-a5d3-14cd9215e700].\n",
      "\u001b[36m\u001b[1m[ \u001b[22m\u001b[39m\u001b[36m\u001b[1mInfo: \u001b[22m\u001b[39mPrecompiling Expat_jll [2e619515-83b5-522b-bb60-26c02a35a201]\n",
      "\u001b[33m\u001b[1m┌ \u001b[22m\u001b[39m\u001b[33m\u001b[1mWarning: \u001b[22m\u001b[39mModule JLLWrappers with build ID fafbfcfd-cb8c-49c8-0005-da57d32b1727 is missing from the cache.\n",
      "\u001b[33m\u001b[1m│ \u001b[22m\u001b[39mThis may mean JLLWrappers [692b3bcd-3c85-4b1f-b108-f13ce0eb3210] does not support precompilation but is imported by a module that does.\n",
      "\u001b[33m\u001b[1m└ \u001b[22m\u001b[39m\u001b[90m@ Base loading.jl:1793\u001b[39m\n",
      "\u001b[36m\u001b[1m[ \u001b[22m\u001b[39m\u001b[36m\u001b[1mInfo: \u001b[22m\u001b[39mSkipping precompilation since __precompile__(false). Importing Expat_jll [2e619515-83b5-522b-bb60-26c02a35a201].\n",
      "\u001b[36m\u001b[1m[ \u001b[22m\u001b[39m\u001b[36m\u001b[1mInfo: \u001b[22m\u001b[39mPrecompiling LZO_jll [dd4b983a-f0e5-5f8d-a1b7-129d4a5fb1ac]\n",
      "\u001b[33m\u001b[1m┌ \u001b[22m\u001b[39m\u001b[33m\u001b[1mWarning: \u001b[22m\u001b[39mModule JLLWrappers with build ID fafbfcfd-cb8c-49c8-0005-da57d32b1727 is missing from the cache.\n",
      "\u001b[33m\u001b[1m│ \u001b[22m\u001b[39mThis may mean JLLWrappers [692b3bcd-3c85-4b1f-b108-f13ce0eb3210] does not support precompilation but is imported by a module that does.\n",
      "\u001b[33m\u001b[1m└ \u001b[22m\u001b[39m\u001b[90m@ Base loading.jl:1793\u001b[39m\n",
      "\u001b[36m\u001b[1m[ \u001b[22m\u001b[39m\u001b[36m\u001b[1mInfo: \u001b[22m\u001b[39mSkipping precompilation since __precompile__(false). Importing LZO_jll [dd4b983a-f0e5-5f8d-a1b7-129d4a5fb1ac].\n",
      "\u001b[36m\u001b[1m[ \u001b[22m\u001b[39m\u001b[36m\u001b[1mInfo: \u001b[22m\u001b[39mPrecompiling Pango_jll [36c8627f-9965-5494-a995-c6b170f724f3]\n",
      "\u001b[33m\u001b[1m┌ \u001b[22m\u001b[39m\u001b[33m\u001b[1mWarning: \u001b[22m\u001b[39mModule JLLWrappers with build ID fafbfcfd-cb8c-49c8-0005-da57d32b1727 is missing from the cache.\n",
      "\u001b[33m\u001b[1m│ \u001b[22m\u001b[39mThis may mean JLLWrappers [692b3bcd-3c85-4b1f-b108-f13ce0eb3210] does not support precompilation but is imported by a module that does.\n",
      "\u001b[33m\u001b[1m└ \u001b[22m\u001b[39m\u001b[90m@ Base loading.jl:1793\u001b[39m\n",
      "\u001b[36m\u001b[1m[ \u001b[22m\u001b[39m\u001b[36m\u001b[1mInfo: \u001b[22m\u001b[39mSkipping precompilation since __precompile__(false). Importing Pango_jll [36c8627f-9965-5494-a995-c6b170f724f3].\n",
      "\u001b[36m\u001b[1m[ \u001b[22m\u001b[39m\u001b[36m\u001b[1mInfo: \u001b[22m\u001b[39mPrecompiling FriBidi_jll [559328eb-81f9-559d-9380-de523a88c83c]\n",
      "\u001b[33m\u001b[1m┌ \u001b[22m\u001b[39m\u001b[33m\u001b[1mWarning: \u001b[22m\u001b[39mModule JLLWrappers with build ID fafbfcfd-cb8c-49c8-0005-da57d32b1727 is missing from the cache.\n",
      "\u001b[33m\u001b[1m│ \u001b[22m\u001b[39mThis may mean JLLWrappers [692b3bcd-3c85-4b1f-b108-f13ce0eb3210] does not support precompilation but is imported by a module that does.\n",
      "\u001b[33m\u001b[1m└ \u001b[22m\u001b[39m\u001b[90m@ Base loading.jl:1793\u001b[39m\n",
      "\u001b[36m\u001b[1m[ \u001b[22m\u001b[39m\u001b[36m\u001b[1mInfo: \u001b[22m\u001b[39mSkipping precompilation since __precompile__(false). Importing FriBidi_jll [559328eb-81f9-559d-9380-de523a88c83c].\n",
      "\u001b[36m\u001b[1m[ \u001b[22m\u001b[39m\u001b[36m\u001b[1mInfo: \u001b[22m\u001b[39mPrecompiling HarfBuzz_jll [2e76f6c2-a576-52d4-95c1-20adfe4de566]\n",
      "\u001b[33m\u001b[1m┌ \u001b[22m\u001b[39m\u001b[33m\u001b[1mWarning: \u001b[22m\u001b[39mModule JLLWrappers with build ID fafbfcfd-cb8c-49c8-0005-da57d32b1727 is missing from the cache.\n",
      "\u001b[33m\u001b[1m│ \u001b[22m\u001b[39mThis may mean JLLWrappers [692b3bcd-3c85-4b1f-b108-f13ce0eb3210] does not support precompilation but is imported by a module that does.\n",
      "\u001b[33m\u001b[1m└ \u001b[22m\u001b[39m\u001b[90m@ Base loading.jl:1793\u001b[39m\n",
      "\u001b[36m\u001b[1m[ \u001b[22m\u001b[39m\u001b[36m\u001b[1mInfo: \u001b[22m\u001b[39mSkipping precompilation since __precompile__(false). Importing HarfBuzz_jll [2e76f6c2-a576-52d4-95c1-20adfe4de566].\n",
      "\u001b[36m\u001b[1m[ \u001b[22m\u001b[39m\u001b[36m\u001b[1mInfo: \u001b[22m\u001b[39mPrecompiling Graphite2_jll [3b182d85-2403-5c21-9c21-1e1f0cc25472]\n",
      "\u001b[33m\u001b[1m┌ \u001b[22m\u001b[39m\u001b[33m\u001b[1mWarning: \u001b[22m\u001b[39mModule JLLWrappers with build ID fafbfcfd-cb8c-49c8-0005-da57d32b1727 is missing from the cache.\n",
      "\u001b[33m\u001b[1m│ \u001b[22m\u001b[39mThis may mean JLLWrappers [692b3bcd-3c85-4b1f-b108-f13ce0eb3210] does not support precompilation but is imported by a module that does.\n",
      "\u001b[33m\u001b[1m└ \u001b[22m\u001b[39m\u001b[90m@ Base loading.jl:1793\u001b[39m\n",
      "\u001b[36m\u001b[1m[ \u001b[22m\u001b[39m\u001b[36m\u001b[1mInfo: \u001b[22m\u001b[39mSkipping precompilation since __precompile__(false). Importing Graphite2_jll [3b182d85-2403-5c21-9c21-1e1f0cc25472].\n"
     ]
    }
   ],
   "source": [
    "using Profile\n",
    "using Pkg\n",
    "Pkg.add(\"PProf\")\n",
    "using PProf"
   ]
  },
  {
   "cell_type": "code",
   "execution_count": 88,
   "id": "f91d984b",
   "metadata": {},
   "outputs": [
    {
     "name": "stdout",
     "output_type": "stream",
     "text": [
      "  0.970068 seconds (9.77 M allocations: 460.792 MiB, 4.28% gc time)\n",
      "1 sum_sym\n",
      "((∑((b, q), (U(q, i_1, (b+i_2))⋅S(i_0, q, i_2, (b+i_2))⋅∑((k, q), (U(q, i_1, (b+k))'⋅∑((p), (U(p, i_1, k)⋅S(p, q, k, (b+k))'))))))+∑((b, p), (U(p, i_1, (i_2+(b⋅-1.0)))⋅S(p, i_0, (i_2+(b⋅-1.0)), i_2)'⋅∑((k, q), (U(q, i_1, (b+k))⋅∑((p), (S(p, q, k, (b+k))⋅U(p, i_1, k)')))))))⋅2.0)\n",
      "((∑((b, q), (U(q, i_1, (i_2+(b⋅-1.0)))⋅S(i_0, q, i_2, (i_2+(b⋅-1.0)))⋅∑((k, q), (U(q, i_1, (k+(b⋅-1.0)))'⋅∑((p), (U(p, i_1, k)⋅S(p, q, k, (k+(b⋅-1.0)))'))))))+∑((b, p), (U(p, i_1, (i_2+(b⋅-1.0)))⋅S(p, i_0, (i_2+(b⋅-1.0)), i_2)'⋅∑((k, q), (U(q, i_1, (b+k))⋅∑((p), (S(p, q, k, (b+k))⋅U(p, i_1, k)')))))))⋅2.0)\n",
      "undirected\n",
      "\n",
      "  1.668342 seconds (17.94 M allocations: 844.179 MiB, 4.78% gc time)\n",
      "2 symmetry\n",
      "((∑((b, q), (U(q, i_1, (i_2+(b⋅-1.0)))⋅S(i_0, q, i_2, (i_2+(b⋅-1.0)))⋅∑((k, q), (U(q, i_1, (k+(b⋅-1.0)))'⋅∑((p), (U(p, i_1, k)⋅S(p, q, k, (k+(b⋅-1.0)))'))))))+∑((b, p), (U(p, i_1, (i_2+(b⋅-1.0)))⋅S(p, i_0, (i_2+(b⋅-1.0)), i_2)'⋅∑((k, q), (U(q, i_1, (b+k))⋅∑((p), (S(p, q, k, (b+k))⋅U(p, i_1, k)')))))))⋅2.0)\n",
      "((∑((b, q), (U(q, i_1, (i_2+(b⋅-1.0)))⋅S(q, i_0, (i_2+(b⋅-1.0)), i_2)'⋅∑((k, q), (U(q, i_1, (k+(b⋅-1.0)))'⋅∑((p), (U(p, i_1, k)⋅S(p, q, k, (k+(b⋅-1.0)))'))))))+∑((b, p), (U(p, i_1, (i_2+(b⋅-1.0)))⋅S(p, i_0, (i_2+(b⋅-1.0)), i_2)'⋅∑((k, q), (U(q, i_1, (b+k))⋅∑((p), (S(p, q, k, (b+k))⋅U(p, i_1, k)')))))))⋅2.0)\n",
      "undirected\n",
      "\n",
      "  1.851660 seconds (21.86 M allocations: 1.004 GiB, 4.13% gc time)\n",
      "3 sum_sym\n",
      "((∑((b, q), (U(q, i_1, (i_2+(b⋅-1.0)))⋅S(q, i_0, (i_2+(b⋅-1.0)), i_2)'⋅∑((k, q), (U(q, i_1, (k+(b⋅-1.0)))'⋅∑((p), (U(p, i_1, k)⋅S(p, q, k, (k+(b⋅-1.0)))'))))))+∑((b, p), (U(p, i_1, (i_2+(b⋅-1.0)))⋅S(p, i_0, (i_2+(b⋅-1.0)), i_2)'⋅∑((k, q), (U(q, i_1, (b+k))⋅∑((p), (S(p, q, k, (b+k))⋅U(p, i_1, k)')))))))⋅2.0)\n",
      "((∑((b, q), (U(q, i_1, (b+i_2))⋅S(q, i_0, (b+i_2), i_2)'⋅∑((k, q), (U(q, i_1, (b+k))'⋅∑((p), (U(p, i_1, k)⋅S(p, q, k, (b+k))'))))))+∑((b, p), (U(p, i_1, (i_2+(b⋅-1.0)))⋅S(p, i_0, (i_2+(b⋅-1.0)), i_2)'⋅∑((k, q), (U(q, i_1, (b+k))⋅∑((p), (S(p, q, k, (b+k))⋅U(p, i_1, k)')))))))⋅2.0)\n",
      "undirected\n",
      "\n",
      "  1.967528 seconds (22.97 M allocations: 1.057 GiB, 4.94% gc time)\n",
      "4 shift\n",
      "((∑((b, q), (U(q, i_1, (b+i_2))⋅S(q, i_0, (b+i_2), i_2)'⋅∑((k, q), (U(q, i_1, (b+k))'⋅∑((p), (U(p, i_1, k)⋅S(p, q, k, (b+k))'))))))+∑((b, p), (U(p, i_1, (i_2+(b⋅-1.0)))⋅S(p, i_0, (i_2+(b⋅-1.0)), i_2)'⋅∑((k, q), (U(q, i_1, (b+k))⋅∑((p), (S(p, q, k, (b+k))⋅U(p, i_1, k)')))))))⋅2.0)\n",
      "((∑((b, q), (U(q, i_1, (b+i_2))⋅S(q, i_0, (b+i_2), i_2)'⋅∑((k, q), (U(q, i_1, k)'⋅∑((p), (U(p, i_1, (k+(b⋅-1.0)))⋅S(p, q, (k+(b⋅-1.0)), k)'))))))+∑((b, p), (U(p, i_1, (i_2+(b⋅-1.0)))⋅S(p, i_0, (i_2+(b⋅-1.0)), i_2)'⋅∑((k, q), (U(q, i_1, (b+k))⋅∑((p), (S(p, q, k, (b+k))⋅U(p, i_1, k)')))))))⋅2.0)\n",
      "undirected\n",
      "\n",
      "  2.567114 seconds (27.98 M allocations: 1.288 GiB, 4.83% gc time)\n",
      "5 sum_sym\n",
      "((∑((b, q), (U(q, i_1, (b+i_2))⋅S(q, i_0, (b+i_2), i_2)'⋅∑((k, q), (U(q, i_1, k)'⋅∑((p), (U(p, i_1, (k+(b⋅-1.0)))⋅S(p, q, (k+(b⋅-1.0)), k)'))))))+∑((b, p), (U(p, i_1, (i_2+(b⋅-1.0)))⋅S(p, i_0, (i_2+(b⋅-1.0)), i_2)'⋅∑((k, q), (U(q, i_1, (b+k))⋅∑((p), (S(p, q, k, (b+k))⋅U(p, i_1, k)')))))))⋅2.0)\n",
      "((∑((b, q), (U(q, i_1, (i_2+(b⋅-1.0)))⋅S(q, i_0, (i_2+(b⋅-1.0)), i_2)'⋅∑((k, q), (U(q, i_1, k)'⋅∑((p), (U(p, i_1, (b+k))⋅S(p, q, (b+k), k)'))))))+∑((b, p), (U(p, i_1, (i_2+(b⋅-1.0)))⋅S(p, i_0, (i_2+(b⋅-1.0)), i_2)'⋅∑((k, q), (U(q, i_1, (b+k))⋅∑((p), (S(p, q, k, (b+k))⋅U(p, i_1, k)')))))))⋅2.0)\n",
      "undirected\n",
      "\n",
      "  2.917854 seconds (33.56 M allocations: 1.541 GiB, 4.72% gc time)\n",
      "6 sum_exchange\n",
      "((∑((b, q), (U(q, i_1, (i_2+(b⋅-1.0)))⋅S(q, i_0, (i_2+(b⋅-1.0)), i_2)'⋅∑((k, q), (U(q, i_1, k)'⋅∑((p), (U(p, i_1, (b+k))⋅S(p, q, (b+k), k)'))))))+∑((b, p), (U(p, i_1, (i_2+(b⋅-1.0)))⋅S(p, i_0, (i_2+(b⋅-1.0)), i_2)'⋅∑((k, q), (U(q, i_1, (b+k))⋅∑((p), (S(p, q, k, (b+k))⋅U(p, i_1, k)')))))))⋅2.0)\n",
      "((∑((b, p), (U(p, i_1, (i_2+(b⋅-1.0)))⋅S(p, i_0, (i_2+(b⋅-1.0)), i_2)'⋅∑((k, q), (U(q, i_1, (b+k))⋅∑((p), (S(p, q, k, (b+k))⋅U(p, i_1, k)'))))))+∑((q, k, i_3), (U(i_3, i_1, k)'⋅∑((b), (U(q, i_1, (i_2+(b⋅-1.0)))⋅S(q, i_0, (i_2+(b⋅-1.0)), i_2)'⋅∑((p), (U(p, i_1, (b+k))⋅S(p, q, (b+k), k)')))))))⋅2.0)\n",
      "undirected\n",
      "\n",
      "  2.210202 seconds (25.78 M allocations: 1.185 GiB, 4.44% gc time)\n",
      "7 sum_out\n",
      "((∑((b, p), (U(p, i_1, (i_2+(b⋅-1.0)))⋅S(p, i_0, (i_2+(b⋅-1.0)), i_2)'⋅∑((k, q), (U(q, i_1, (b+k))⋅∑((p), (S(p, q, k, (b+k))⋅U(p, i_1, k)'))))))+∑((q, k, i_3), (U(i_3, i_1, k)'⋅∑((b), (U(q, i_1, (i_2+(b⋅-1.0)))⋅S(q, i_0, (i_2+(b⋅-1.0)), i_2)'⋅∑((p), (U(p, i_1, (b+k))⋅S(p, q, (b+k), k)')))))))⋅2.0)\n",
      "((∑((b, p), (U(p, i_1, (i_2+(b⋅-1.0)))⋅S(p, i_0, (i_2+(b⋅-1.0)), i_2)'⋅∑((k, q), (U(q, i_1, (b+k))⋅∑((p), (S(p, q, k, (b+k))⋅U(p, i_1, k)'))))))+∑((k, i_3), (U(i_3, i_1, k)'⋅∑((q), ∑((b), (U(q, i_1, (i_2+(b⋅-1.0)))⋅S(q, i_0, (i_2+(b⋅-1.0)), i_2)'⋅∑((p), (U(p, i_1, (b+k))⋅S(p, q, (b+k), k)'))))))))⋅2.0)\n",
      "directed!\n",
      "\n",
      "  3.615710 seconds (43.08 M allocations: 1.982 GiB, 4.22% gc time)\n",
      "8 sum_out\n",
      "((∑((b, p), (U(p, i_1, (i_2+(b⋅-1.0)))⋅S(p, i_0, (i_2+(b⋅-1.0)), i_2)'⋅∑((k, q), (U(q, i_1, (b+k))⋅∑((p), (S(p, q, k, (b+k))⋅U(p, i_1, k)'))))))+∑((k, i_3), (U(i_3, i_1, k)'⋅∑((q), ∑((b), (U(q, i_1, (i_2+(b⋅-1.0)))⋅S(q, i_0, (i_2+(b⋅-1.0)), i_2)'⋅∑((p), (U(p, i_1, (b+k))⋅S(p, q, (b+k), k)'))))))))⋅2.0)\n",
      "((∑((k), (∑((q), ∑((b), (U(q, i_1, (i_2+(b⋅-1.0)))⋅S(q, i_0, (i_2+(b⋅-1.0)), i_2)'⋅∑((p), (U(p, i_1, (b+k))⋅S(p, q, (b+k), k)')))))⋅∑((i_3), U(i_3, i_1, k)')))+∑((b, p), (U(p, i_1, (i_2+(b⋅-1.0)))⋅S(p, i_0, (i_2+(b⋅-1.0)), i_2)'⋅∑((k, q), (U(q, i_1, (b+k))⋅∑((p), (S(p, q, k, (b+k))⋅U(p, i_1, k)')))))))⋅2.0)\n",
      "directed!\n",
      "\n",
      "  0.841713 seconds (9.77 M allocations: 459.708 MiB, 4.65% gc time)\n",
      "9 sum_merge\n",
      "((∑((k), (∑((q), ∑((b), (U(q, i_1, (i_2+(b⋅-1.0)))⋅S(q, i_0, (i_2+(b⋅-1.0)), i_2)'⋅∑((p), (U(p, i_1, (b+k))⋅S(p, q, (b+k), k)')))))⋅∑((i_3), U(i_3, i_1, k)')))+∑((b, p), (U(p, i_1, (i_2+(b⋅-1.0)))⋅S(p, i_0, (i_2+(b⋅-1.0)), i_2)'⋅∑((k, q), (U(q, i_1, (b+k))⋅∑((p), (S(p, q, k, (b+k))⋅U(p, i_1, k)')))))))⋅2.0)\n",
      "((∑((k), (∑((i_3), U(i_3, i_1, k)')⋅∑((q, b), (U(q, i_1, (i_2+(b⋅-1.0)))⋅S(q, i_0, (i_2+(b⋅-1.0)), i_2)'⋅∑((p), (U(p, i_1, (b+k))⋅S(p, q, (b+k), k)'))))))+∑((b, p), (U(p, i_1, (i_2+(b⋅-1.0)))⋅S(p, i_0, (i_2+(b⋅-1.0)), i_2)'⋅∑((k, q), (U(q, i_1, (b+k))⋅∑((p), (S(p, q, k, (b+k))⋅U(p, i_1, k)')))))))⋅2.0)\n",
      "directed!\n",
      "\n",
      "  0.879261 seconds (10.26 M allocations: 482.799 MiB, 4.37% gc time)\n",
      "10 shift\n",
      "((∑((k), (∑((i_3), U(i_3, i_1, k)')⋅∑((q, b), (U(q, i_1, (i_2+(b⋅-1.0)))⋅S(q, i_0, (i_2+(b⋅-1.0)), i_2)'⋅∑((p), (U(p, i_1, (b+k))⋅S(p, q, (b+k), k)'))))))+∑((b, p), (U(p, i_1, (i_2+(b⋅-1.0)))⋅S(p, i_0, (i_2+(b⋅-1.0)), i_2)'⋅∑((k, q), (U(q, i_1, (b+k))⋅∑((p), (S(p, q, k, (b+k))⋅U(p, i_1, k)')))))))⋅2.0)\n",
      "((∑((k), (∑((i_3), U(i_3, i_1, (k+(b⋅-1.0)))')⋅∑((q, i_3), (U(q, i_1, (i_2+(i_3⋅-1.0)))⋅S(q, i_0, (i_2+(i_3⋅-1.0)), i_2)'⋅∑((p), (U(p, i_1, (i_3+k+(b⋅-1.0)))⋅S(p, q, (i_3+k+(b⋅-1.0)), (k+(b⋅-1.0)))'))))))+∑((b, p), (U(p, i_1, (i_2+(b⋅-1.0)))⋅S(p, i_0, (i_2+(b⋅-1.0)), i_2)'⋅∑((k, q), (U(q, i_1, (b+k))⋅∑((p), (S(p, q, k, (b+k))⋅U(p, i_1, k)')))))))⋅2.0)\n",
      "undirected\n",
      "\n",
      "  1.345217 seconds (15.94 M allocations: 749.257 MiB, 4.61% gc time)\n",
      "11 shift\n",
      "((∑((k), (∑((i_3), U(i_3, i_1, (k+(b⋅-1.0)))')⋅∑((q, i_3), (U(q, i_1, (i_2+(i_3⋅-1.0)))⋅S(q, i_0, (i_2+(i_3⋅-1.0)), i_2)'⋅∑((p), (U(p, i_1, (i_3+k+(b⋅-1.0)))⋅S(p, q, (i_3+k+(b⋅-1.0)), (k+(b⋅-1.0)))'))))))+∑((b, p), (U(p, i_1, (i_2+(b⋅-1.0)))⋅S(p, i_0, (i_2+(b⋅-1.0)), i_2)'⋅∑((k, q), (U(q, i_1, (b+k))⋅∑((p), (S(p, q, k, (b+k))⋅U(p, i_1, k)')))))))⋅2.0)\n",
      "((∑((k), (∑((i_0), U(i_0, i_1, (k+(i_3⋅-1.0)))')⋅∑((q, i_4), (U(q, i_1, (i_2+(i_4⋅-1.0)))⋅S(q, i_0, (i_2+(i_4⋅-1.0)), i_2)'⋅∑((p), (U(p, i_1, (i_4+k+(i_3⋅-1.0)))⋅S(p, q, (i_4+k+(i_3⋅-1.0)), (k+(i_3⋅-1.0)))'))))))+∑((b, p), (U(p, i_1, (i_2+(b⋅-1.0)))⋅S(p, i_0, (i_2+(b⋅-1.0)), i_2)'⋅∑((k, q), (U(q, i_1, (b+k))⋅∑((p), (S(p, q, k, (b+k))⋅U(p, i_1, k)')))))))⋅2.0)\n",
      "undirected\n",
      "\n",
      "  1.216863 seconds (14.31 M allocations: 672.486 MiB, 5.04% gc time)\n",
      "12 shift\n",
      "((∑((k), (∑((i_0), U(i_0, i_1, (k+(i_3⋅-1.0)))')⋅∑((q, i_4), (U(q, i_1, (i_2+(i_4⋅-1.0)))⋅S(q, i_0, (i_2+(i_4⋅-1.0)), i_2)'⋅∑((p), (U(p, i_1, (i_4+k+(i_3⋅-1.0)))⋅S(p, q, (i_4+k+(i_3⋅-1.0)), (k+(i_3⋅-1.0)))'))))))+∑((b, p), (U(p, i_1, (i_2+(b⋅-1.0)))⋅S(p, i_0, (i_2+(b⋅-1.0)), i_2)'⋅∑((k, q), (U(q, i_1, (b+k))⋅∑((p), (S(p, q, k, (b+k))⋅U(p, i_1, k)')))))))⋅2.0)\n",
      "((∑((k), (∑((i_0), U(i_0, i_1, (k+(i_4⋅-1.0)))')⋅∑((q, i_5), (U(q, i_1, (i_2+(i_5⋅-1.0)))⋅S(q, i_0, (i_2+(i_5⋅-1.0)), i_2)'⋅∑((p), (U(p, i_1, (k+i_5+(i_4⋅-1.0)))⋅S(p, q, (k+i_5+(i_4⋅-1.0)), (k+(i_4⋅-1.0)))'))))))+∑((b, p), (U(p, i_1, (i_2+(b⋅-1.0)))⋅S(p, i_0, (i_2+(b⋅-1.0)), i_2)'⋅∑((k, q), (U(q, i_1, (b+k))⋅∑((p), (S(p, q, k, (b+k))⋅U(p, i_1, k)')))))))⋅2.0)\n",
      "undirected\n",
      "\n"
     ]
    },
    {
     "name": "stdout",
     "output_type": "stream",
     "text": [
      "  1.492732 seconds (17.10 M allocations: 802.470 MiB, 5.35% gc time)\n",
      "13 shift\n",
      "((∑((k), (∑((i_0), U(i_0, i_1, (k+(i_4⋅-1.0)))')⋅∑((q, i_5), (U(q, i_1, (i_2+(i_5⋅-1.0)))⋅S(q, i_0, (i_2+(i_5⋅-1.0)), i_2)'⋅∑((p), (U(p, i_1, (k+i_5+(i_4⋅-1.0)))⋅S(p, q, (k+i_5+(i_4⋅-1.0)), (k+(i_4⋅-1.0)))'))))))+∑((b, p), (U(p, i_1, (i_2+(b⋅-1.0)))⋅S(p, i_0, (i_2+(b⋅-1.0)), i_2)'⋅∑((k, q), (U(q, i_1, (b+k))⋅∑((p), (S(p, q, k, (b+k))⋅U(p, i_1, k)')))))))⋅2.0)\n",
      "((∑((k), (∑((i_0), U(i_0, i_1, (k+(i_5⋅-1.0)))')⋅∑((q, i_3), (U(q, i_1, (i_2+(i_3⋅-1.0)))⋅S(q, i_0, (i_2+(i_3⋅-1.0)), i_2)'⋅∑((p), (U(p, i_1, (i_3+k+(i_5⋅-1.0)))⋅S(p, q, (i_3+k+(i_5⋅-1.0)), (k+(i_5⋅-1.0)))'))))))+∑((b, p), (U(p, i_1, (i_2+(b⋅-1.0)))⋅S(p, i_0, (i_2+(b⋅-1.0)), i_2)'⋅∑((k, q), (U(q, i_1, (b+k))⋅∑((p), (S(p, q, k, (b+k))⋅U(p, i_1, k)')))))))⋅2.0)\n",
      "undirected\n",
      "\n",
      "  1.329935 seconds (15.19 M allocations: 713.014 MiB, 4.53% gc time)\n",
      "14 shift\n",
      "((∑((k), (∑((i_0), U(i_0, i_1, (k+(i_5⋅-1.0)))')⋅∑((q, i_3), (U(q, i_1, (i_2+(i_3⋅-1.0)))⋅S(q, i_0, (i_2+(i_3⋅-1.0)), i_2)'⋅∑((p), (U(p, i_1, (i_3+k+(i_5⋅-1.0)))⋅S(p, q, (i_3+k+(i_5⋅-1.0)), (k+(i_5⋅-1.0)))'))))))+∑((b, p), (U(p, i_1, (i_2+(b⋅-1.0)))⋅S(p, i_0, (i_2+(b⋅-1.0)), i_2)'⋅∑((k, q), (U(q, i_1, (b+k))⋅∑((p), (S(p, q, k, (b+k))⋅U(p, i_1, k)')))))))⋅2.0)\n",
      "((∑((k), (∑((i_0), U(i_0, i_1, k)')⋅∑((q, i_3), (U(q, i_1, (i_2+(i_3⋅-1.0)))⋅S(q, i_0, (i_2+(i_3⋅-1.0)), i_2)'⋅∑((p), (U(p, i_1, (i_3+k))⋅S(p, q, (i_3+k), k)'))))))+∑((b, p), (U(p, i_1, (i_2+(b⋅-1.0)))⋅S(p, i_0, (i_2+(b⋅-1.0)), i_2)'⋅∑((k, q), (U(q, i_1, (b+k))⋅∑((p), (S(p, q, k, (b+k))⋅U(p, i_1, k)')))))))⋅2.0)\n",
      "undirected\n",
      "\n",
      "  1.113276 seconds (12.94 M allocations: 608.548 MiB, 5.22% gc time)\n",
      "15 sum_sym\n",
      "((∑((k), (∑((i_0), U(i_0, i_1, k)')⋅∑((q, i_3), (U(q, i_1, (i_2+(i_3⋅-1.0)))⋅S(q, i_0, (i_2+(i_3⋅-1.0)), i_2)'⋅∑((p), (U(p, i_1, (i_3+k))⋅S(p, q, (i_3+k), k)'))))))+∑((b, p), (U(p, i_1, (i_2+(b⋅-1.0)))⋅S(p, i_0, (i_2+(b⋅-1.0)), i_2)'⋅∑((k, q), (U(q, i_1, (b+k))⋅∑((p), (S(p, q, k, (b+k))⋅U(p, i_1, k)')))))))⋅2.0)\n",
      "((∑((k), (∑((i_0), U(i_0, i_1, k)')⋅∑((q, i_3), (U(q, i_1, (i_3+i_2))⋅S(q, i_0, (i_3+i_2), i_2)'⋅∑((p), (U(p, i_1, (k+(i_3⋅-1.0)))⋅S(p, q, (k+(i_3⋅-1.0)), k)'))))))+∑((b, p), (U(p, i_1, (i_2+(b⋅-1.0)))⋅S(p, i_0, (i_2+(b⋅-1.0)), i_2)'⋅∑((k, q), (U(q, i_1, (b+k))⋅∑((p), (S(p, q, k, (b+k))⋅U(p, i_1, k)')))))))⋅2.0)\n",
      "undirected\n",
      "\n",
      "  1.825979 seconds (19.91 M allocations: 935.887 MiB, 5.45% gc time)\n",
      "16 shift\n",
      "((∑((k), (∑((i_0), U(i_0, i_1, k)')⋅∑((q, i_3), (U(q, i_1, (i_3+i_2))⋅S(q, i_0, (i_3+i_2), i_2)'⋅∑((p), (U(p, i_1, (k+(i_3⋅-1.0)))⋅S(p, q, (k+(i_3⋅-1.0)), k)'))))))+∑((b, p), (U(p, i_1, (i_2+(b⋅-1.0)))⋅S(p, i_0, (i_2+(b⋅-1.0)), i_2)'⋅∑((k, q), (U(q, i_1, (b+k))⋅∑((p), (S(p, q, k, (b+k))⋅U(p, i_1, k)')))))))⋅2.0)\n",
      "((∑((k), (∑((i_0), U(i_0, i_1, (i_3+k))')⋅∑((q, i_4), (U(q, i_1, (i_4+i_2))⋅S(q, i_0, (i_4+i_2), i_2)'⋅∑((p), (U(p, i_1, (i_3+k+(i_4⋅-1.0)))⋅S(p, q, (i_3+k+(i_4⋅-1.0)), (i_3+k))'))))))+∑((b, p), (U(p, i_1, (i_2+(b⋅-1.0)))⋅S(p, i_0, (i_2+(b⋅-1.0)), i_2)'⋅∑((k, q), (U(q, i_1, (b+k))⋅∑((p), (S(p, q, k, (b+k))⋅U(p, i_1, k)')))))))⋅2.0)\n",
      "undirected\n",
      "\n",
      "  1.665760 seconds (19.38 M allocations: 909.826 MiB, 3.84% gc time)\n",
      "17 shift\n",
      "((∑((k), (∑((i_0), U(i_0, i_1, (i_3+k))')⋅∑((q, i_4), (U(q, i_1, (i_4+i_2))⋅S(q, i_0, (i_4+i_2), i_2)'⋅∑((p), (U(p, i_1, (i_3+k+(i_4⋅-1.0)))⋅S(p, q, (i_3+k+(i_4⋅-1.0)), (i_3+k))'))))))+∑((b, p), (U(p, i_1, (i_2+(b⋅-1.0)))⋅S(p, i_0, (i_2+(b⋅-1.0)), i_2)'⋅∑((k, q), (U(q, i_1, (b+k))⋅∑((p), (S(p, q, k, (b+k))⋅U(p, i_1, k)')))))))⋅2.0)\n",
      "((∑((k), (∑((i_0), U(i_0, i_1, (i_4+k))')⋅∑((q, i_5), (U(q, i_1, (i_5+i_2))⋅S(q, i_0, (i_5+i_2), i_2)'⋅∑((p), (U(p, i_1, (i_4+k+(i_5⋅-1.0)))⋅S(p, q, (i_4+k+(i_5⋅-1.0)), (i_4+k))'))))))+∑((b, p), (U(p, i_1, (i_2+(b⋅-1.0)))⋅S(p, i_0, (i_2+(b⋅-1.0)), i_2)'⋅∑((k, q), (U(q, i_1, (b+k))⋅∑((p), (S(p, q, k, (b+k))⋅U(p, i_1, k)')))))))⋅2.0)\n",
      "undirected\n",
      "\n",
      "  1.589207 seconds (18.54 M allocations: 870.849 MiB, 5.01% gc time)\n",
      "18 shift\n",
      "((∑((k), (∑((i_0), U(i_0, i_1, (i_4+k))')⋅∑((q, i_5), (U(q, i_1, (i_5+i_2))⋅S(q, i_0, (i_5+i_2), i_2)'⋅∑((p), (U(p, i_1, (i_4+k+(i_5⋅-1.0)))⋅S(p, q, (i_4+k+(i_5⋅-1.0)), (i_4+k))'))))))+∑((b, p), (U(p, i_1, (i_2+(b⋅-1.0)))⋅S(p, i_0, (i_2+(b⋅-1.0)), i_2)'⋅∑((k, q), (U(q, i_1, (b+k))⋅∑((p), (S(p, q, k, (b+k))⋅U(p, i_1, k)')))))))⋅2.0)\n",
      "((∑((k), (∑((i_0), U(i_0, i_1, k)')⋅∑((q, i_5), (U(q, i_1, (i_5+i_2))⋅S(q, i_0, (i_5+i_2), i_2)'⋅∑((p), (U(p, i_1, (k+(i_5⋅-1.0)))⋅S(p, q, (k+(i_5⋅-1.0)), k)'))))))+∑((b, p), (U(p, i_1, (i_2+(b⋅-1.0)))⋅S(p, i_0, (i_2+(b⋅-1.0)), i_2)'⋅∑((k, q), (U(q, i_1, (b+k))⋅∑((p), (S(p, q, k, (b+k))⋅U(p, i_1, k)')))))))⋅2.0)\n",
      "undirected\n",
      "\n",
      "  1.650312 seconds (18.80 M allocations: 883.187 MiB, 4.69% gc time)\n",
      "19 shift\n",
      "((∑((k), (∑((i_0), U(i_0, i_1, k)')⋅∑((q, i_5), (U(q, i_1, (i_5+i_2))⋅S(q, i_0, (i_5+i_2), i_2)'⋅∑((p), (U(p, i_1, (k+(i_5⋅-1.0)))⋅S(p, q, (k+(i_5⋅-1.0)), k)'))))))+∑((b, p), (U(p, i_1, (i_2+(b⋅-1.0)))⋅S(p, i_0, (i_2+(b⋅-1.0)), i_2)'⋅∑((k, q), (U(q, i_1, (b+k))⋅∑((p), (S(p, q, k, (b+k))⋅U(p, i_1, k)')))))))⋅2.0)\n",
      "((∑((k), (∑((i_0), U(i_0, i_1, (k+i_5))')⋅∑((q, i_3), (U(q, i_1, (i_3+i_2))⋅S(q, i_0, (i_3+i_2), i_2)'⋅∑((p), (U(p, i_1, (k+i_5+(i_3⋅-1.0)))⋅S(p, q, (k+i_5+(i_3⋅-1.0)), (k+i_5))'))))))+∑((b, p), (U(p, i_1, (i_2+(b⋅-1.0)))⋅S(p, i_0, (i_2+(b⋅-1.0)), i_2)'⋅∑((k, q), (U(q, i_1, (b+k))⋅∑((p), (S(p, q, k, (b+k))⋅U(p, i_1, k)')))))))⋅2.0)\n",
      "undirected\n",
      "\n",
      "  1.958800 seconds (21.99 M allocations: 1.008 GiB, 4.05% gc time)\n",
      "20 sum_sym\n",
      "((∑((k), (∑((i_0), U(i_0, i_1, (k+i_5))')⋅∑((q, i_3), (U(q, i_1, (i_3+i_2))⋅S(q, i_0, (i_3+i_2), i_2)'⋅∑((p), (U(p, i_1, (k+i_5+(i_3⋅-1.0)))⋅S(p, q, (k+i_5+(i_3⋅-1.0)), (k+i_5))'))))))+∑((b, p), (U(p, i_1, (i_2+(b⋅-1.0)))⋅S(p, i_0, (i_2+(b⋅-1.0)), i_2)'⋅∑((k, q), (U(q, i_1, (b+k))⋅∑((p), (S(p, q, k, (b+k))⋅U(p, i_1, k)')))))))⋅2.0)\n",
      "((∑((k), (∑((i_0), U(i_0, i_1, (k+i_5))')⋅∑((q, i_3), (U(q, i_1, (i_2+(i_3⋅-1.0)))⋅S(q, i_0, (i_2+(i_3⋅-1.0)), i_2)'⋅∑((p), (U(p, i_1, (i_3+k+i_5))⋅S(p, q, (i_3+k+i_5), (k+i_5))'))))))+∑((b, p), (U(p, i_1, (i_2+(b⋅-1.0)))⋅S(p, i_0, (i_2+(b⋅-1.0)), i_2)'⋅∑((k, q), (U(q, i_1, (b+k))⋅∑((p), (S(p, q, k, (b+k))⋅U(p, i_1, k)')))))))⋅2.0)\n",
      "undirected\n",
      "\n",
      "  1.948559 seconds (22.56 M allocations: 1.035 GiB, 5.37% gc time, 1.01% compilation time)\n",
      "21 sum_exchange\n",
      "((∑((k), (∑((i_0), U(i_0, i_1, (k+i_5))')⋅∑((q, i_3), (U(q, i_1, (i_2+(i_3⋅-1.0)))⋅S(q, i_0, (i_2+(i_3⋅-1.0)), i_2)'⋅∑((p), (U(p, i_1, (i_3+k+i_5))⋅S(p, q, (i_3+k+i_5), (k+i_5))'))))))+∑((b, p), (U(p, i_1, (i_2+(b⋅-1.0)))⋅S(p, i_0, (i_2+(b⋅-1.0)), i_2)'⋅∑((k, q), (U(q, i_1, (b+k))⋅∑((p), (S(p, q, k, (b+k))⋅U(p, i_1, k)')))))))⋅2.0)\n",
      "((∑((k), (∑((i_0), U(i_0, i_1, (k+i_5))')⋅∑((i_3, p), (U(p, i_1, (i_3+k+i_5))⋅∑((q), (U(q, i_1, (i_2+(i_3⋅-1.0)))⋅S(q, i_0, (i_2+(i_3⋅-1.0)), i_2)'⋅S(p, q, (i_3+k+i_5), (k+i_5))'))))))+∑((b, p), (U(p, i_1, (i_2+(b⋅-1.0)))⋅S(p, i_0, (i_2+(b⋅-1.0)), i_2)'⋅∑((k, q), (U(q, i_1, (b+k))⋅∑((p), (S(p, q, k, (b+k))⋅U(p, i_1, k)')))))))⋅2.0)\n",
      "undirected\n",
      "\n",
      "  2.701872 seconds (32.54 M allocations: 1.491 GiB, 4.31% gc time)\n",
      "22 shift\n",
      "((∑((k), (∑((i_0), U(i_0, i_1, (k+i_5))')⋅∑((i_3, p), (U(p, i_1, (i_3+k+i_5))⋅∑((q), (U(q, i_1, (i_2+(i_3⋅-1.0)))⋅S(q, i_0, (i_2+(i_3⋅-1.0)), i_2)'⋅S(p, q, (i_3+k+i_5), (k+i_5))'))))))+∑((b, p), (U(p, i_1, (i_2+(b⋅-1.0)))⋅S(p, i_0, (i_2+(b⋅-1.0)), i_2)'⋅∑((k, q), (U(q, i_1, (b+k))⋅∑((p), (S(p, q, k, (b+k))⋅U(p, i_1, k)')))))))⋅2.0)\n",
      "((∑((k), (∑((i_0), U(i_0, i_1, k)')⋅∑((i_3, p), (U(p, i_1, (i_3+k))⋅∑((q), (U(q, i_1, (i_2+(i_3⋅-1.0)))⋅S(q, i_0, (i_2+(i_3⋅-1.0)), i_2)'⋅S(p, q, (i_3+k), k)'))))))+∑((b, p), (U(p, i_1, (i_2+(b⋅-1.0)))⋅S(p, i_0, (i_2+(b⋅-1.0)), i_2)'⋅∑((k, q), (U(q, i_1, (b+k))⋅∑((p), (S(p, q, k, (b+k))⋅U(p, i_1, k)')))))))⋅2.0)\n",
      "undirected\n",
      "\n",
      "  2.218029 seconds (24.17 M allocations: 1.110 GiB, 4.56% gc time, 1.58% compilation time)\n",
      "23 shift\n",
      "((∑((k), (∑((i_0), U(i_0, i_1, k)')⋅∑((i_3, p), (U(p, i_1, (i_3+k))⋅∑((q), (U(q, i_1, (i_2+(i_3⋅-1.0)))⋅S(q, i_0, (i_2+(i_3⋅-1.0)), i_2)'⋅S(p, q, (i_3+k), k)'))))))+∑((b, p), (U(p, i_1, (i_2+(b⋅-1.0)))⋅S(p, i_0, (i_2+(b⋅-1.0)), i_2)'⋅∑((k, q), (U(q, i_1, (b+k))⋅∑((p), (S(p, q, k, (b+k))⋅U(p, i_1, k)')))))))⋅2.0)\n",
      "((∑((k), (∑((i_0), U(i_0, i_1, (k+(i_3⋅-1.0)))')⋅∑((i_4, p), (U(p, i_1, (i_4+k+(i_3⋅-1.0)))⋅∑((q), (U(q, i_1, (i_2+(i_4⋅-1.0)))⋅S(q, i_0, (i_2+(i_4⋅-1.0)), i_2)'⋅S(p, q, (i_4+k+(i_3⋅-1.0)), (k+(i_3⋅-1.0)))'))))))+∑((b, p), (U(p, i_1, (i_2+(b⋅-1.0)))⋅S(p, i_0, (i_2+(b⋅-1.0)), i_2)'⋅∑((k, q), (U(q, i_1, (b+k))⋅∑((p), (S(p, q, k, (b+k))⋅U(p, i_1, k)')))))))⋅2.0)\n",
      "undirected\n",
      "\n"
     ]
    },
    {
     "name": "stdout",
     "output_type": "stream",
     "text": [
      "  2.604033 seconds (30.69 M allocations: 1.404 GiB, 4.65% gc time, 0.00% compilation time)\n",
      "24 shift\n",
      "((∑((k), (∑((i_0), U(i_0, i_1, (k+(i_3⋅-1.0)))')⋅∑((i_4, p), (U(p, i_1, (i_4+k+(i_3⋅-1.0)))⋅∑((q), (U(q, i_1, (i_2+(i_4⋅-1.0)))⋅S(q, i_0, (i_2+(i_4⋅-1.0)), i_2)'⋅S(p, q, (i_4+k+(i_3⋅-1.0)), (k+(i_3⋅-1.0)))'))))))+∑((b, p), (U(p, i_1, (i_2+(b⋅-1.0)))⋅S(p, i_0, (i_2+(b⋅-1.0)), i_2)'⋅∑((k, q), (U(q, i_1, (b+k))⋅∑((p), (S(p, q, k, (b+k))⋅U(p, i_1, k)')))))))⋅2.0)\n",
      "((∑((k), (∑((i_0), U(i_0, i_1, (k+(i_4⋅-1.0)))')⋅∑((i_5, p), (U(p, i_1, (k+i_5+(i_4⋅-1.0)))⋅∑((q), (U(q, i_1, (i_2+(i_5⋅-1.0)))⋅S(q, i_0, (i_2+(i_5⋅-1.0)), i_2)'⋅S(p, q, (k+i_5+(i_4⋅-1.0)), (k+(i_4⋅-1.0)))'))))))+∑((b, p), (U(p, i_1, (i_2+(b⋅-1.0)))⋅S(p, i_0, (i_2+(b⋅-1.0)), i_2)'⋅∑((k, q), (U(q, i_1, (b+k))⋅∑((p), (S(p, q, k, (b+k))⋅U(p, i_1, k)')))))))⋅2.0)\n",
      "undirected\n",
      "\n",
      "  2.680874 seconds (31.76 M allocations: 1.453 GiB, 4.36% gc time)\n",
      "25 shift\n",
      "((∑((k), (∑((i_0), U(i_0, i_1, (k+(i_4⋅-1.0)))')⋅∑((i_5, p), (U(p, i_1, (k+i_5+(i_4⋅-1.0)))⋅∑((q), (U(q, i_1, (i_2+(i_5⋅-1.0)))⋅S(q, i_0, (i_2+(i_5⋅-1.0)), i_2)'⋅S(p, q, (k+i_5+(i_4⋅-1.0)), (k+(i_4⋅-1.0)))'))))))+∑((b, p), (U(p, i_1, (i_2+(b⋅-1.0)))⋅S(p, i_0, (i_2+(b⋅-1.0)), i_2)'⋅∑((k, q), (U(q, i_1, (b+k))⋅∑((p), (S(p, q, k, (b+k))⋅U(p, i_1, k)')))))))⋅2.0)\n",
      "((∑((k), (∑((i_0), U(i_0, i_1, (k+(i_5⋅-1.0)))')⋅∑((i_3, p), (U(p, i_1, (i_3+k+(i_5⋅-1.0)))⋅∑((q), (U(q, i_1, (i_2+(i_3⋅-1.0)))⋅S(q, i_0, (i_2+(i_3⋅-1.0)), i_2)'⋅S(p, q, (i_3+k+(i_5⋅-1.0)), (k+(i_5⋅-1.0)))'))))))+∑((b, p), (U(p, i_1, (i_2+(b⋅-1.0)))⋅S(p, i_0, (i_2+(b⋅-1.0)), i_2)'⋅∑((k, q), (U(q, i_1, (b+k))⋅∑((p), (S(p, q, k, (b+k))⋅U(p, i_1, k)')))))))⋅2.0)\n",
      "undirected\n",
      "\n",
      "  2.631741 seconds (31.06 M allocations: 1.421 GiB, 4.50% gc time)\n",
      "26 sum_sym\n",
      "((∑((k), (∑((i_0), U(i_0, i_1, (k+(i_5⋅-1.0)))')⋅∑((i_3, p), (U(p, i_1, (i_3+k+(i_5⋅-1.0)))⋅∑((q), (U(q, i_1, (i_2+(i_3⋅-1.0)))⋅S(q, i_0, (i_2+(i_3⋅-1.0)), i_2)'⋅S(p, q, (i_3+k+(i_5⋅-1.0)), (k+(i_5⋅-1.0)))'))))))+∑((b, p), (U(p, i_1, (i_2+(b⋅-1.0)))⋅S(p, i_0, (i_2+(b⋅-1.0)), i_2)'⋅∑((k, q), (U(q, i_1, (b+k))⋅∑((p), (S(p, q, k, (b+k))⋅U(p, i_1, k)')))))))⋅2.0)\n",
      "((∑((k), (∑((i_0), U(i_0, i_1, (k+(i_5⋅-1.0)))')⋅∑((i_3, p), (U(p, i_1, (k+(i_3⋅-1.0)+(i_5⋅-1.0)))⋅∑((q), (U(q, i_1, (i_3+i_2))⋅S(q, i_0, (i_3+i_2), i_2)'⋅S(p, q, (k+(i_3⋅-1.0)+(i_5⋅-1.0)), (k+(i_5⋅-1.0)))'))))))+∑((b, p), (U(p, i_1, (i_2+(b⋅-1.0)))⋅S(p, i_0, (i_2+(b⋅-1.0)), i_2)'⋅∑((k, q), (U(q, i_1, (b+k))⋅∑((p), (S(p, q, k, (b+k))⋅U(p, i_1, k)')))))))⋅2.0)\n",
      "undirected\n",
      "\n",
      "  2.772856 seconds (32.45 M allocations: 1.485 GiB, 5.06% gc time)\n",
      "27 shift\n",
      "((∑((k), (∑((i_0), U(i_0, i_1, (k+(i_5⋅-1.0)))')⋅∑((i_3, p), (U(p, i_1, (k+(i_3⋅-1.0)+(i_5⋅-1.0)))⋅∑((q), (U(q, i_1, (i_3+i_2))⋅S(q, i_0, (i_3+i_2), i_2)'⋅S(p, q, (k+(i_3⋅-1.0)+(i_5⋅-1.0)), (k+(i_5⋅-1.0)))'))))))+∑((b, p), (U(p, i_1, (i_2+(b⋅-1.0)))⋅S(p, i_0, (i_2+(b⋅-1.0)), i_2)'⋅∑((k, q), (U(q, i_1, (b+k))⋅∑((p), (S(p, q, k, (b+k))⋅U(p, i_1, k)')))))))⋅2.0)\n",
      "((∑((k), (∑((i_0), U(i_0, i_1, k)')⋅∑((i_3, p), (U(p, i_1, (k+(i_3⋅-1.0)))⋅∑((q), (U(q, i_1, (i_3+i_2))⋅S(q, i_0, (i_3+i_2), i_2)'⋅S(p, q, (k+(i_3⋅-1.0)), k)'))))))+∑((b, p), (U(p, i_1, (i_2+(b⋅-1.0)))⋅S(p, i_0, (i_2+(b⋅-1.0)), i_2)'⋅∑((k, q), (U(q, i_1, (b+k))⋅∑((p), (S(p, q, k, (b+k))⋅U(p, i_1, k)')))))))⋅2.0)\n",
      "undirected\n",
      "\n",
      "  2.776635 seconds (30.79 M allocations: 1.410 GiB, 4.22% gc time)\n",
      "28 shift\n",
      "((∑((k), (∑((i_0), U(i_0, i_1, k)')⋅∑((i_3, p), (U(p, i_1, (k+(i_3⋅-1.0)))⋅∑((q), (U(q, i_1, (i_3+i_2))⋅S(q, i_0, (i_3+i_2), i_2)'⋅S(p, q, (k+(i_3⋅-1.0)), k)'))))))+∑((b, p), (U(p, i_1, (i_2+(b⋅-1.0)))⋅S(p, i_0, (i_2+(b⋅-1.0)), i_2)'⋅∑((k, q), (U(q, i_1, (b+k))⋅∑((p), (S(p, q, k, (b+k))⋅U(p, i_1, k)')))))))⋅2.0)\n",
      "((∑((k), (∑((i_0), U(i_0, i_1, (i_3+k))')⋅∑((i_4, p), (U(p, i_1, (i_3+k+(i_4⋅-1.0)))⋅∑((q), (U(q, i_1, (i_4+i_2))⋅S(q, i_0, (i_4+i_2), i_2)'⋅S(p, q, (i_3+k+(i_4⋅-1.0)), (i_3+k))'))))))+∑((b, p), (U(p, i_1, (i_2+(b⋅-1.0)))⋅S(p, i_0, (i_2+(b⋅-1.0)), i_2)'⋅∑((k, q), (U(q, i_1, (b+k))⋅∑((p), (S(p, q, k, (b+k))⋅U(p, i_1, k)')))))))⋅2.0)\n",
      "undirected\n",
      "\n",
      "  2.313742 seconds (27.08 M allocations: 1.240 GiB, 5.04% gc time)\n",
      "29 shift\n",
      "((∑((k), (∑((i_0), U(i_0, i_1, (i_3+k))')⋅∑((i_4, p), (U(p, i_1, (i_3+k+(i_4⋅-1.0)))⋅∑((q), (U(q, i_1, (i_4+i_2))⋅S(q, i_0, (i_4+i_2), i_2)'⋅S(p, q, (i_3+k+(i_4⋅-1.0)), (i_3+k))'))))))+∑((b, p), (U(p, i_1, (i_2+(b⋅-1.0)))⋅S(p, i_0, (i_2+(b⋅-1.0)), i_2)'⋅∑((k, q), (U(q, i_1, (b+k))⋅∑((p), (S(p, q, k, (b+k))⋅U(p, i_1, k)')))))))⋅2.0)\n",
      "((∑((k), (∑((i_0), U(i_0, i_1, k)')⋅∑((i_4, p), (U(p, i_1, (k+(i_4⋅-1.0)))⋅∑((q), (U(q, i_1, (i_4+i_2))⋅S(q, i_0, (i_4+i_2), i_2)'⋅S(p, q, (k+(i_4⋅-1.0)), k)'))))))+∑((b, p), (U(p, i_1, (i_2+(b⋅-1.0)))⋅S(p, i_0, (i_2+(b⋅-1.0)), i_2)'⋅∑((k, q), (U(q, i_1, (b+k))⋅∑((p), (S(p, q, k, (b+k))⋅U(p, i_1, k)')))))))⋅2.0)\n",
      "undirected\n",
      "\n",
      "  2.528833 seconds (29.35 M allocations: 1.344 GiB, 4.64% gc time)\n",
      "30 shift\n",
      "((∑((k), (∑((i_0), U(i_0, i_1, k)')⋅∑((i_4, p), (U(p, i_1, (k+(i_4⋅-1.0)))⋅∑((q), (U(q, i_1, (i_4+i_2))⋅S(q, i_0, (i_4+i_2), i_2)'⋅S(p, q, (k+(i_4⋅-1.0)), k)'))))))+∑((b, p), (U(p, i_1, (i_2+(b⋅-1.0)))⋅S(p, i_0, (i_2+(b⋅-1.0)), i_2)'⋅∑((k, q), (U(q, i_1, (b+k))⋅∑((p), (S(p, q, k, (b+k))⋅U(p, i_1, k)')))))))⋅2.0)\n",
      "((∑((k), (∑((i_0), U(i_0, i_1, (i_4+k))')⋅∑((i_3, p), (U(p, i_1, (i_4+k+(i_3⋅-1.0)))⋅∑((q), (U(q, i_1, (i_3+i_2))⋅S(q, i_0, (i_3+i_2), i_2)'⋅S(p, q, (i_4+k+(i_3⋅-1.0)), (i_4+k))'))))))+∑((b, p), (U(p, i_1, (i_2+(b⋅-1.0)))⋅S(p, i_0, (i_2+(b⋅-1.0)), i_2)'⋅∑((k, q), (U(q, i_1, (b+k))⋅∑((p), (S(p, q, k, (b+k))⋅U(p, i_1, k)')))))))⋅2.0)\n",
      "undirected\n",
      "\n",
      "  2.626011 seconds (29.65 M allocations: 1.358 GiB, 4.58% gc time)\n",
      "31 sum_sym\n",
      "((∑((k), (∑((i_0), U(i_0, i_1, (i_4+k))')⋅∑((i_3, p), (U(p, i_1, (i_4+k+(i_3⋅-1.0)))⋅∑((q), (U(q, i_1, (i_3+i_2))⋅S(q, i_0, (i_3+i_2), i_2)'⋅S(p, q, (i_4+k+(i_3⋅-1.0)), (i_4+k))'))))))+∑((b, p), (U(p, i_1, (i_2+(b⋅-1.0)))⋅S(p, i_0, (i_2+(b⋅-1.0)), i_2)'⋅∑((k, q), (U(q, i_1, (b+k))⋅∑((p), (S(p, q, k, (b+k))⋅U(p, i_1, k)')))))))⋅2.0)\n",
      "((∑((k), (∑((i_0), U(i_0, i_1, (i_4+k))')⋅∑((i_3, p), (U(p, i_1, (i_4+i_3+k))⋅∑((q), (U(q, i_1, (i_2+(i_3⋅-1.0)))⋅S(q, i_0, (i_2+(i_3⋅-1.0)), i_2)'⋅S(p, q, (i_4+i_3+k), (i_4+k))'))))))+∑((b, p), (U(p, i_1, (i_2+(b⋅-1.0)))⋅S(p, i_0, (i_2+(b⋅-1.0)), i_2)'⋅∑((k, q), (U(q, i_1, (b+k))⋅∑((p), (S(p, q, k, (b+k))⋅U(p, i_1, k)')))))))⋅2.0)\n",
      "undirected\n",
      "\n",
      "  3.067248 seconds (37.15 M allocations: 1.702 GiB, 4.40% gc time)\n",
      "32 sum_exchange\n",
      "((∑((k), (∑((i_0), U(i_0, i_1, (i_4+k))')⋅∑((i_3, p), (U(p, i_1, (i_4+i_3+k))⋅∑((q), (U(q, i_1, (i_2+(i_3⋅-1.0)))⋅S(q, i_0, (i_2+(i_3⋅-1.0)), i_2)'⋅S(p, q, (i_4+i_3+k), (i_4+k))'))))))+∑((b, p), (U(p, i_1, (i_2+(b⋅-1.0)))⋅S(p, i_0, (i_2+(b⋅-1.0)), i_2)'⋅∑((k, q), (U(q, i_1, (b+k))⋅∑((p), (S(p, q, k, (b+k))⋅U(p, i_1, k)')))))))⋅2.0)\n",
      "((∑((k), (∑((i_0), U(i_0, i_1, (i_4+k))')⋅∑((i_3, q), (U(q, i_1, (i_2+(i_3⋅-1.0)))⋅S(q, i_0, (i_2+(i_3⋅-1.0)), i_2)'⋅∑((p), (U(p, i_1, (i_4+i_3+k))⋅S(p, q, (i_4+i_3+k), (i_4+k))'))))))+∑((b, p), (U(p, i_1, (i_2+(b⋅-1.0)))⋅S(p, i_0, (i_2+(b⋅-1.0)), i_2)'⋅∑((k, q), (U(q, i_1, (b+k))⋅∑((p), (S(p, q, k, (b+k))⋅U(p, i_1, k)')))))))⋅2.0)\n",
      "undirected\n",
      "\n",
      "  2.642927 seconds (30.49 M allocations: 1.397 GiB, 4.69% gc time)\n",
      "33 symmetry\n",
      "((∑((k), (∑((i_0), U(i_0, i_1, (i_4+k))')⋅∑((i_3, q), (U(q, i_1, (i_2+(i_3⋅-1.0)))⋅S(q, i_0, (i_2+(i_3⋅-1.0)), i_2)'⋅∑((p), (U(p, i_1, (i_4+i_3+k))⋅S(p, q, (i_4+i_3+k), (i_4+k))'))))))+∑((b, p), (U(p, i_1, (i_2+(b⋅-1.0)))⋅S(p, i_0, (i_2+(b⋅-1.0)), i_2)'⋅∑((k, q), (U(q, i_1, (b+k))⋅∑((p), (S(p, q, k, (b+k))⋅U(p, i_1, k)')))))))⋅2.0)\n",
      "((∑((k), (∑((i_0), U(i_0, i_1, (i_4+k))')⋅∑((i_3, q), (U(q, i_1, (i_2+(i_3⋅-1.0)))⋅S(i_0, q, i_2, (i_2+(i_3⋅-1.0)))⋅∑((p), (U(p, i_1, (i_4+i_3+k))⋅S(p, q, (i_4+i_3+k), (i_4+k))'))))))+∑((b, p), (U(p, i_1, (i_2+(b⋅-1.0)))⋅S(p, i_0, (i_2+(b⋅-1.0)), i_2)'⋅∑((k, q), (U(q, i_1, (b+k))⋅∑((p), (S(p, q, k, (b+k))⋅U(p, i_1, k)')))))))⋅2.0)\n",
      "undirected\n",
      "\n",
      "  3.104430 seconds (36.97 M allocations: 1.692 GiB, 4.32% gc time)\n",
      "34 shift\n",
      "((∑((k), (∑((i_0), U(i_0, i_1, (i_4+k))')⋅∑((i_3, q), (U(q, i_1, (i_2+(i_3⋅-1.0)))⋅S(i_0, q, i_2, (i_2+(i_3⋅-1.0)))⋅∑((p), (U(p, i_1, (i_4+i_3+k))⋅S(p, q, (i_4+i_3+k), (i_4+k))'))))))+∑((b, p), (U(p, i_1, (i_2+(b⋅-1.0)))⋅S(p, i_0, (i_2+(b⋅-1.0)), i_2)'⋅∑((k, q), (U(q, i_1, (b+k))⋅∑((p), (S(p, q, k, (b+k))⋅U(p, i_1, k)')))))))⋅2.0)\n",
      "((∑((k), (∑((i_0), U(i_0, i_1, k)')⋅∑((i_3, q), (U(q, i_1, (i_2+(i_3⋅-1.0)))⋅S(i_0, q, i_2, (i_2+(i_3⋅-1.0)))⋅∑((p), (U(p, i_1, (i_3+k))⋅S(p, q, (i_3+k), k)'))))))+∑((b, p), (U(p, i_1, (i_2+(b⋅-1.0)))⋅S(p, i_0, (i_2+(b⋅-1.0)), i_2)'⋅∑((k, q), (U(q, i_1, (b+k))⋅∑((p), (S(p, q, k, (b+k))⋅U(p, i_1, k)')))))))⋅2.0)\n",
      "undirected\n",
      "\n"
     ]
    },
    {
     "name": "stdout",
     "output_type": "stream",
     "text": [
      "  2.811451 seconds (32.25 M allocations: 1.476 GiB, 4.82% gc time)\n",
      "35 shift\n",
      "((∑((k), (∑((i_0), U(i_0, i_1, k)')⋅∑((i_3, q), (U(q, i_1, (i_2+(i_3⋅-1.0)))⋅S(i_0, q, i_2, (i_2+(i_3⋅-1.0)))⋅∑((p), (U(p, i_1, (i_3+k))⋅S(p, q, (i_3+k), k)'))))))+∑((b, p), (U(p, i_1, (i_2+(b⋅-1.0)))⋅S(p, i_0, (i_2+(b⋅-1.0)), i_2)'⋅∑((k, q), (U(q, i_1, (b+k))⋅∑((p), (S(p, q, k, (b+k))⋅U(p, i_1, k)')))))))⋅2.0)\n",
      "((∑((k), (∑((i_0), U(i_0, i_1, (k+(i_3⋅-1.0)))')⋅∑((i_4, q), (U(q, i_1, (i_2+(i_4⋅-1.0)))⋅S(i_0, q, i_2, (i_2+(i_4⋅-1.0)))⋅∑((p), (U(p, i_1, (i_4+k+(i_3⋅-1.0)))⋅S(p, q, (i_4+k+(i_3⋅-1.0)), (k+(i_3⋅-1.0)))'))))))+∑((b, p), (U(p, i_1, (i_2+(b⋅-1.0)))⋅S(p, i_0, (i_2+(b⋅-1.0)), i_2)'⋅∑((k, q), (U(q, i_1, (b+k))⋅∑((p), (S(p, q, k, (b+k))⋅U(p, i_1, k)')))))))⋅2.0)\n",
      "undirected\n",
      "\n",
      "  3.700201 seconds (43.32 M allocations: 1.982 GiB, 4.18% gc time)\n",
      "36 shift\n",
      "((∑((k), (∑((i_0), U(i_0, i_1, (k+(i_3⋅-1.0)))')⋅∑((i_4, q), (U(q, i_1, (i_2+(i_4⋅-1.0)))⋅S(i_0, q, i_2, (i_2+(i_4⋅-1.0)))⋅∑((p), (U(p, i_1, (i_4+k+(i_3⋅-1.0)))⋅S(p, q, (i_4+k+(i_3⋅-1.0)), (k+(i_3⋅-1.0)))'))))))+∑((b, p), (U(p, i_1, (i_2+(b⋅-1.0)))⋅S(p, i_0, (i_2+(b⋅-1.0)), i_2)'⋅∑((k, q), (U(q, i_1, (b+k))⋅∑((p), (S(p, q, k, (b+k))⋅U(p, i_1, k)')))))))⋅2.0)\n",
      "((∑((k), (∑((i_0), U(i_0, i_1, k)')⋅∑((i_4, q), (U(q, i_1, (i_2+(i_4⋅-1.0)))⋅S(i_0, q, i_2, (i_2+(i_4⋅-1.0)))⋅∑((p), (U(p, i_1, (i_4+k))⋅S(p, q, (i_4+k), k)'))))))+∑((b, p), (U(p, i_1, (i_2+(b⋅-1.0)))⋅S(p, i_0, (i_2+(b⋅-1.0)), i_2)'⋅∑((k, q), (U(q, i_1, (b+k))⋅∑((p), (S(p, q, k, (b+k))⋅U(p, i_1, k)')))))))⋅2.0)\n",
      "undirected\n",
      "\n",
      "  2.415533 seconds (28.16 M allocations: 1.290 GiB, 4.08% gc time)\n",
      "37 shift\n",
      "((∑((k), (∑((i_0), U(i_0, i_1, k)')⋅∑((i_4, q), (U(q, i_1, (i_2+(i_4⋅-1.0)))⋅S(i_0, q, i_2, (i_2+(i_4⋅-1.0)))⋅∑((p), (U(p, i_1, (i_4+k))⋅S(p, q, (i_4+k), k)'))))))+∑((b, p), (U(p, i_1, (i_2+(b⋅-1.0)))⋅S(p, i_0, (i_2+(b⋅-1.0)), i_2)'⋅∑((k, q), (U(q, i_1, (b+k))⋅∑((p), (S(p, q, k, (b+k))⋅U(p, i_1, k)')))))))⋅2.0)\n",
      "((∑((k), (∑((i_0), U(i_0, i_1, (k+(i_4⋅-1.0)))')⋅∑((i_3, q), (U(q, i_1, (i_2+(i_3⋅-1.0)))⋅S(i_0, q, i_2, (i_2+(i_3⋅-1.0)))⋅∑((p), (U(p, i_1, (i_3+k+(i_4⋅-1.0)))⋅S(p, q, (i_3+k+(i_4⋅-1.0)), (k+(i_4⋅-1.0)))'))))))+∑((b, p), (U(p, i_1, (i_2+(b⋅-1.0)))⋅S(p, i_0, (i_2+(b⋅-1.0)), i_2)'⋅∑((k, q), (U(q, i_1, (b+k))⋅∑((p), (S(p, q, k, (b+k))⋅U(p, i_1, k)')))))))⋅2.0)\n",
      "undirected\n",
      "\n",
      "  3.805556 seconds (43.95 M allocations: 2.011 GiB, 4.64% gc time)\n",
      "38 shift\n",
      "((∑((k), (∑((i_0), U(i_0, i_1, (k+(i_4⋅-1.0)))')⋅∑((i_3, q), (U(q, i_1, (i_2+(i_3⋅-1.0)))⋅S(i_0, q, i_2, (i_2+(i_3⋅-1.0)))⋅∑((p), (U(p, i_1, (i_3+k+(i_4⋅-1.0)))⋅S(p, q, (i_3+k+(i_4⋅-1.0)), (k+(i_4⋅-1.0)))'))))))+∑((b, p), (U(p, i_1, (i_2+(b⋅-1.0)))⋅S(p, i_0, (i_2+(b⋅-1.0)), i_2)'⋅∑((k, q), (U(q, i_1, (b+k))⋅∑((p), (S(p, q, k, (b+k))⋅U(p, i_1, k)')))))))⋅2.0)\n",
      "((∑((k), (∑((i_0), U(i_0, i_1, (k+(i_3⋅-1.0)))')⋅∑((i_5, q), (U(q, i_1, (i_2+(i_5⋅-1.0)))⋅S(i_0, q, i_2, (i_2+(i_5⋅-1.0)))⋅∑((p), (U(p, i_1, (k+i_5+(i_3⋅-1.0)))⋅S(p, q, (k+i_5+(i_3⋅-1.0)), (k+(i_3⋅-1.0)))'))))))+∑((b, p), (U(p, i_1, (i_2+(b⋅-1.0)))⋅S(p, i_0, (i_2+(b⋅-1.0)), i_2)'⋅∑((k, q), (U(q, i_1, (b+k))⋅∑((p), (S(p, q, k, (b+k))⋅U(p, i_1, k)')))))))⋅2.0)\n",
      "undirected\n",
      "\n",
      "  3.655565 seconds (43.72 M allocations: 2.000 GiB, 4.18% gc time)\n",
      "39 shift\n",
      "((∑((k), (∑((i_0), U(i_0, i_1, (k+(i_3⋅-1.0)))')⋅∑((i_5, q), (U(q, i_1, (i_2+(i_5⋅-1.0)))⋅S(i_0, q, i_2, (i_2+(i_5⋅-1.0)))⋅∑((p), (U(p, i_1, (k+i_5+(i_3⋅-1.0)))⋅S(p, q, (k+i_5+(i_3⋅-1.0)), (k+(i_3⋅-1.0)))'))))))+∑((b, p), (U(p, i_1, (i_2+(b⋅-1.0)))⋅S(p, i_0, (i_2+(b⋅-1.0)), i_2)'⋅∑((k, q), (U(q, i_1, (b+k))⋅∑((p), (S(p, q, k, (b+k))⋅U(p, i_1, k)')))))))⋅2.0)\n",
      "((∑((k), (∑((i_0), U(i_0, i_1, k)')⋅∑((i_5, q), (U(q, i_1, (i_2+(i_5⋅-1.0)))⋅S(i_0, q, i_2, (i_2+(i_5⋅-1.0)))⋅∑((p), (U(p, i_1, (k+i_5))⋅S(p, q, (k+i_5), k)'))))))+∑((b, p), (U(p, i_1, (i_2+(b⋅-1.0)))⋅S(p, i_0, (i_2+(b⋅-1.0)), i_2)'⋅∑((k, q), (U(q, i_1, (b+k))⋅∑((p), (S(p, q, k, (b+k))⋅U(p, i_1, k)')))))))⋅2.0)\n",
      "undirected\n",
      "\n",
      "  3.226338 seconds (35.52 M allocations: 1.626 GiB, 4.35% gc time)\n",
      "40 shift\n",
      "((∑((k), (∑((i_0), U(i_0, i_1, k)')⋅∑((i_5, q), (U(q, i_1, (i_2+(i_5⋅-1.0)))⋅S(i_0, q, i_2, (i_2+(i_5⋅-1.0)))⋅∑((p), (U(p, i_1, (k+i_5))⋅S(p, q, (k+i_5), k)'))))))+∑((b, p), (U(p, i_1, (i_2+(b⋅-1.0)))⋅S(p, i_0, (i_2+(b⋅-1.0)), i_2)'⋅∑((k, q), (U(q, i_1, (b+k))⋅∑((p), (S(p, q, k, (b+k))⋅U(p, i_1, k)')))))))⋅2.0)\n",
      "((∑((k), (∑((i_0), U(i_0, i_1, (k+(i_5⋅-1.0)))')⋅∑((i_3, q), (U(q, i_1, (i_2+(i_3⋅-1.0)))⋅S(i_0, q, i_2, (i_2+(i_3⋅-1.0)))⋅∑((p), (U(p, i_1, (i_3+k+(i_5⋅-1.0)))⋅S(p, q, (i_3+k+(i_5⋅-1.0)), (k+(i_5⋅-1.0)))'))))))+∑((b, p), (U(p, i_1, (i_2+(b⋅-1.0)))⋅S(p, i_0, (i_2+(b⋅-1.0)), i_2)'⋅∑((k, q), (U(q, i_1, (b+k))⋅∑((p), (S(p, q, k, (b+k))⋅U(p, i_1, k)')))))))⋅2.0)\n",
      "undirected\n",
      "\n",
      "  3.672003 seconds (43.56 M allocations: 1.992 GiB, 4.70% gc time)\n",
      "41 sum_sym\n",
      "((∑((k), (∑((i_0), U(i_0, i_1, (k+(i_5⋅-1.0)))')⋅∑((i_3, q), (U(q, i_1, (i_2+(i_3⋅-1.0)))⋅S(i_0, q, i_2, (i_2+(i_3⋅-1.0)))⋅∑((p), (U(p, i_1, (i_3+k+(i_5⋅-1.0)))⋅S(p, q, (i_3+k+(i_5⋅-1.0)), (k+(i_5⋅-1.0)))'))))))+∑((b, p), (U(p, i_1, (i_2+(b⋅-1.0)))⋅S(p, i_0, (i_2+(b⋅-1.0)), i_2)'⋅∑((k, q), (U(q, i_1, (b+k))⋅∑((p), (S(p, q, k, (b+k))⋅U(p, i_1, k)')))))))⋅2.0)\n",
      "((∑((k), (∑((i_0), U(i_0, i_1, (k+(i_5⋅-1.0)))')⋅∑((i_3, q), (U(q, i_1, (i_3+i_2))⋅S(i_0, q, i_2, (i_3+i_2))⋅∑((p), (U(p, i_1, (k+(i_3⋅-1.0)+(i_5⋅-1.0)))⋅S(p, q, (k+(i_3⋅-1.0)+(i_5⋅-1.0)), (k+(i_5⋅-1.0)))'))))))+∑((b, p), (U(p, i_1, (i_2+(b⋅-1.0)))⋅S(p, i_0, (i_2+(b⋅-1.0)), i_2)'⋅∑((k, q), (U(q, i_1, (b+k))⋅∑((p), (S(p, q, k, (b+k))⋅U(p, i_1, k)')))))))⋅2.0)\n",
      "undirected\n",
      "\n",
      "  3.580753 seconds (41.10 M allocations: 1.883 GiB, 4.28% gc time)\n",
      "42 shift\n",
      "((∑((k), (∑((i_0), U(i_0, i_1, (k+(i_5⋅-1.0)))')⋅∑((i_3, q), (U(q, i_1, (i_3+i_2))⋅S(i_0, q, i_2, (i_3+i_2))⋅∑((p), (U(p, i_1, (k+(i_3⋅-1.0)+(i_5⋅-1.0)))⋅S(p, q, (k+(i_3⋅-1.0)+(i_5⋅-1.0)), (k+(i_5⋅-1.0)))'))))))+∑((b, p), (U(p, i_1, (i_2+(b⋅-1.0)))⋅S(p, i_0, (i_2+(b⋅-1.0)), i_2)'⋅∑((k, q), (U(q, i_1, (b+k))⋅∑((p), (S(p, q, k, (b+k))⋅U(p, i_1, k)')))))))⋅2.0)\n",
      "((∑((k), (∑((i_0), U(i_0, i_1, k)')⋅∑((i_3, q), (U(q, i_1, (i_3+i_2))⋅S(i_0, q, i_2, (i_3+i_2))⋅∑((p), (U(p, i_1, (k+(i_3⋅-1.0)))⋅S(p, q, (k+(i_3⋅-1.0)), k)'))))))+∑((b, p), (U(p, i_1, (i_2+(b⋅-1.0)))⋅S(p, i_0, (i_2+(b⋅-1.0)), i_2)'⋅∑((k, q), (U(q, i_1, (b+k))⋅∑((p), (S(p, q, k, (b+k))⋅U(p, i_1, k)')))))))⋅2.0)\n",
      "undirected\n",
      "\n",
      "  3.269496 seconds (37.95 M allocations: 1.739 GiB, 4.14% gc time)\n",
      "43 shift\n",
      "((∑((k), (∑((i_0), U(i_0, i_1, k)')⋅∑((i_3, q), (U(q, i_1, (i_3+i_2))⋅S(i_0, q, i_2, (i_3+i_2))⋅∑((p), (U(p, i_1, (k+(i_3⋅-1.0)))⋅S(p, q, (k+(i_3⋅-1.0)), k)'))))))+∑((b, p), (U(p, i_1, (i_2+(b⋅-1.0)))⋅S(p, i_0, (i_2+(b⋅-1.0)), i_2)'⋅∑((k, q), (U(q, i_1, (b+k))⋅∑((p), (S(p, q, k, (b+k))⋅U(p, i_1, k)')))))))⋅2.0)\n",
      "((∑((k), (∑((i_0), U(i_0, i_1, (i_3+k))')⋅∑((i_4, q), (U(q, i_1, (i_4+i_2))⋅S(i_0, q, i_2, (i_4+i_2))⋅∑((p), (U(p, i_1, (i_3+k+(i_4⋅-1.0)))⋅S(p, q, (i_3+k+(i_4⋅-1.0)), (i_3+k))'))))))+∑((b, p), (U(p, i_1, (i_2+(b⋅-1.0)))⋅S(p, i_0, (i_2+(b⋅-1.0)), i_2)'⋅∑((k, q), (U(q, i_1, (b+k))⋅∑((p), (S(p, q, k, (b+k))⋅U(p, i_1, k)')))))))⋅2.0)\n",
      "undirected\n",
      "\n",
      "  3.241731 seconds (37.27 M allocations: 1.709 GiB, 4.23% gc time)\n",
      "44 shift\n",
      "((∑((k), (∑((i_0), U(i_0, i_1, (i_3+k))')⋅∑((i_4, q), (U(q, i_1, (i_4+i_2))⋅S(i_0, q, i_2, (i_4+i_2))⋅∑((p), (U(p, i_1, (i_3+k+(i_4⋅-1.0)))⋅S(p, q, (i_3+k+(i_4⋅-1.0)), (i_3+k))'))))))+∑((b, p), (U(p, i_1, (i_2+(b⋅-1.0)))⋅S(p, i_0, (i_2+(b⋅-1.0)), i_2)'⋅∑((k, q), (U(q, i_1, (b+k))⋅∑((p), (S(p, q, k, (b+k))⋅U(p, i_1, k)')))))))⋅2.0)\n",
      "((∑((k), (∑((i_0), U(i_0, i_1, k)')⋅∑((i_4, q), (U(q, i_1, (i_4+i_2))⋅S(i_0, q, i_2, (i_4+i_2))⋅∑((p), (U(p, i_1, (k+(i_4⋅-1.0)))⋅S(p, q, (k+(i_4⋅-1.0)), k)'))))))+∑((b, p), (U(p, i_1, (i_2+(b⋅-1.0)))⋅S(p, i_0, (i_2+(b⋅-1.0)), i_2)'⋅∑((k, q), (U(q, i_1, (b+k))⋅∑((p), (S(p, q, k, (b+k))⋅U(p, i_1, k)')))))))⋅2.0)\n",
      "undirected\n",
      "\n",
      "  2.880574 seconds (33.73 M allocations: 1.546 GiB, 4.02% gc time)\n",
      "45 shift\n",
      "((∑((k), (∑((i_0), U(i_0, i_1, k)')⋅∑((i_4, q), (U(q, i_1, (i_4+i_2))⋅S(i_0, q, i_2, (i_4+i_2))⋅∑((p), (U(p, i_1, (k+(i_4⋅-1.0)))⋅S(p, q, (k+(i_4⋅-1.0)), k)'))))))+∑((b, p), (U(p, i_1, (i_2+(b⋅-1.0)))⋅S(p, i_0, (i_2+(b⋅-1.0)), i_2)'⋅∑((k, q), (U(q, i_1, (b+k))⋅∑((p), (S(p, q, k, (b+k))⋅U(p, i_1, k)')))))))⋅2.0)\n",
      "((∑((k), (∑((i_0), U(i_0, i_1, (i_4+k))')⋅∑((i_3, q), (U(q, i_1, (i_3+i_2))⋅S(i_0, q, i_2, (i_3+i_2))⋅∑((p), (U(p, i_1, (i_4+k+(i_3⋅-1.0)))⋅S(p, q, (i_4+k+(i_3⋅-1.0)), (i_4+k))'))))))+∑((b, p), (U(p, i_1, (i_2+(b⋅-1.0)))⋅S(p, i_0, (i_2+(b⋅-1.0)), i_2)'⋅∑((k, q), (U(q, i_1, (b+k))⋅∑((p), (S(p, q, k, (b+k))⋅U(p, i_1, k)')))))))⋅2.0)\n",
      "undirected\n",
      "\n"
     ]
    },
    {
     "name": "stdout",
     "output_type": "stream",
     "text": [
      "  3.227031 seconds (37.71 M allocations: 1.729 GiB, 4.27% gc time)\n",
      "46 shift\n",
      "((∑((k), (∑((i_0), U(i_0, i_1, (i_4+k))')⋅∑((i_3, q), (U(q, i_1, (i_3+i_2))⋅S(i_0, q, i_2, (i_3+i_2))⋅∑((p), (U(p, i_1, (i_4+k+(i_3⋅-1.0)))⋅S(p, q, (i_4+k+(i_3⋅-1.0)), (i_4+k))'))))))+∑((b, p), (U(p, i_1, (i_2+(b⋅-1.0)))⋅S(p, i_0, (i_2+(b⋅-1.0)), i_2)'⋅∑((k, q), (U(q, i_1, (b+k))⋅∑((p), (S(p, q, k, (b+k))⋅U(p, i_1, k)')))))))⋅2.0)\n",
      "((∑((k), (∑((i_0), U(i_0, i_1, (i_3+k))')⋅∑((i_5, q), (U(q, i_1, (i_5+i_2))⋅S(i_0, q, i_2, (i_5+i_2))⋅∑((p), (U(p, i_1, (i_3+k+(i_5⋅-1.0)))⋅S(p, q, (i_3+k+(i_5⋅-1.0)), (i_3+k))'))))))+∑((b, p), (U(p, i_1, (i_2+(b⋅-1.0)))⋅S(p, i_0, (i_2+(b⋅-1.0)), i_2)'⋅∑((k, q), (U(q, i_1, (b+k))⋅∑((p), (S(p, q, k, (b+k))⋅U(p, i_1, k)')))))))⋅2.0)\n",
      "undirected\n",
      "\n",
      "  3.250391 seconds (38.06 M allocations: 1.745 GiB, 4.83% gc time)\n",
      "47 shift\n",
      "((∑((k), (∑((i_0), U(i_0, i_1, (i_3+k))')⋅∑((i_5, q), (U(q, i_1, (i_5+i_2))⋅S(i_0, q, i_2, (i_5+i_2))⋅∑((p), (U(p, i_1, (i_3+k+(i_5⋅-1.0)))⋅S(p, q, (i_3+k+(i_5⋅-1.0)), (i_3+k))'))))))+∑((b, p), (U(p, i_1, (i_2+(b⋅-1.0)))⋅S(p, i_0, (i_2+(b⋅-1.0)), i_2)'⋅∑((k, q), (U(q, i_1, (b+k))⋅∑((p), (S(p, q, k, (b+k))⋅U(p, i_1, k)')))))))⋅2.0)\n",
      "((∑((k), (∑((i_0), U(i_0, i_1, k)')⋅∑((i_5, q), (U(q, i_1, (i_5+i_2))⋅S(i_0, q, i_2, (i_5+i_2))⋅∑((p), (U(p, i_1, (k+(i_5⋅-1.0)))⋅S(p, q, (k+(i_5⋅-1.0)), k)'))))))+∑((b, p), (U(p, i_1, (i_2+(b⋅-1.0)))⋅S(p, i_0, (i_2+(b⋅-1.0)), i_2)'⋅∑((k, q), (U(q, i_1, (b+k))⋅∑((p), (S(p, q, k, (b+k))⋅U(p, i_1, k)')))))))⋅2.0)\n",
      "undirected\n",
      "\n",
      "  3.795230 seconds (43.99 M allocations: 2.016 GiB, 4.61% gc time)\n",
      "48 shift\n",
      "((∑((k), (∑((i_0), U(i_0, i_1, k)')⋅∑((i_5, q), (U(q, i_1, (i_5+i_2))⋅S(i_0, q, i_2, (i_5+i_2))⋅∑((p), (U(p, i_1, (k+(i_5⋅-1.0)))⋅S(p, q, (k+(i_5⋅-1.0)), k)'))))))+∑((b, p), (U(p, i_1, (i_2+(b⋅-1.0)))⋅S(p, i_0, (i_2+(b⋅-1.0)), i_2)'⋅∑((k, q), (U(q, i_1, (b+k))⋅∑((p), (S(p, q, k, (b+k))⋅U(p, i_1, k)')))))))⋅2.0)\n",
      "((∑((k), (∑((i_0), U(i_0, i_1, (k+i_5))')⋅∑((i_3, q), (U(q, i_1, (i_3+i_2))⋅S(i_0, q, i_2, (i_3+i_2))⋅∑((p), (U(p, i_1, (k+i_5+(i_3⋅-1.0)))⋅S(p, q, (k+i_5+(i_3⋅-1.0)), (k+i_5))'))))))+∑((b, p), (U(p, i_1, (i_2+(b⋅-1.0)))⋅S(p, i_0, (i_2+(b⋅-1.0)), i_2)'⋅∑((k, q), (U(q, i_1, (b+k))⋅∑((p), (S(p, q, k, (b+k))⋅U(p, i_1, k)')))))))⋅2.0)\n",
      "undirected\n",
      "\n",
      "  3.176952 seconds (36.93 M allocations: 1.693 GiB, 4.26% gc time)\n",
      "49 sum_sym\n",
      "((∑((k), (∑((i_0), U(i_0, i_1, (k+i_5))')⋅∑((i_3, q), (U(q, i_1, (i_3+i_2))⋅S(i_0, q, i_2, (i_3+i_2))⋅∑((p), (U(p, i_1, (k+i_5+(i_3⋅-1.0)))⋅S(p, q, (k+i_5+(i_3⋅-1.0)), (k+i_5))'))))))+∑((b, p), (U(p, i_1, (i_2+(b⋅-1.0)))⋅S(p, i_0, (i_2+(b⋅-1.0)), i_2)'⋅∑((k, q), (U(q, i_1, (b+k))⋅∑((p), (S(p, q, k, (b+k))⋅U(p, i_1, k)')))))))⋅2.0)\n",
      "((∑((k), (∑((i_0), U(i_0, i_1, (k+i_5))')⋅∑((i_3, q), (U(q, i_1, (i_2+(i_3⋅-1.0)))⋅S(i_0, q, i_2, (i_2+(i_3⋅-1.0)))⋅∑((p), (U(p, i_1, (i_3+k+i_5))⋅S(p, q, (i_3+k+i_5), (k+i_5))'))))))+∑((b, p), (U(p, i_1, (i_2+(b⋅-1.0)))⋅S(p, i_0, (i_2+(b⋅-1.0)), i_2)'⋅∑((k, q), (U(q, i_1, (b+k))⋅∑((p), (S(p, q, k, (b+k))⋅U(p, i_1, k)')))))))⋅2.0)\n",
      "undirected\n",
      "\n",
      "  3.376764 seconds (40.23 M allocations: 1.842 GiB, 4.55% gc time)\n",
      "50 sum_exchange\n",
      "((∑((k), (∑((i_0), U(i_0, i_1, (k+i_5))')⋅∑((i_3, q), (U(q, i_1, (i_2+(i_3⋅-1.0)))⋅S(i_0, q, i_2, (i_2+(i_3⋅-1.0)))⋅∑((p), (U(p, i_1, (i_3+k+i_5))⋅S(p, q, (i_3+k+i_5), (k+i_5))'))))))+∑((b, p), (U(p, i_1, (i_2+(b⋅-1.0)))⋅S(p, i_0, (i_2+(b⋅-1.0)), i_2)'⋅∑((k, q), (U(q, i_1, (b+k))⋅∑((p), (S(p, q, k, (b+k))⋅U(p, i_1, k)')))))))⋅2.0)\n",
      "((∑((k), (∑((i_0), U(i_0, i_1, (k+i_5))')⋅∑((i_3, p), (U(p, i_1, (i_3+k+i_5))⋅∑((q), (U(q, i_1, (i_2+(i_3⋅-1.0)))⋅S(i_0, q, i_2, (i_2+(i_3⋅-1.0)))⋅S(p, q, (i_3+k+i_5), (k+i_5))'))))))+∑((b, p), (U(p, i_1, (i_2+(b⋅-1.0)))⋅S(p, i_0, (i_2+(b⋅-1.0)), i_2)'⋅∑((k, q), (U(q, i_1, (b+k))⋅∑((p), (S(p, q, k, (b+k))⋅U(p, i_1, k)')))))))⋅2.0)\n",
      "undirected\n",
      "\n",
      "  3.893087 seconds (44.34 M allocations: 2.029 GiB, 4.55% gc time)\n",
      "51 shift\n",
      "((∑((k), (∑((i_0), U(i_0, i_1, (k+i_5))')⋅∑((i_3, p), (U(p, i_1, (i_3+k+i_5))⋅∑((q), (U(q, i_1, (i_2+(i_3⋅-1.0)))⋅S(i_0, q, i_2, (i_2+(i_3⋅-1.0)))⋅S(p, q, (i_3+k+i_5), (k+i_5))'))))))+∑((b, p), (U(p, i_1, (i_2+(b⋅-1.0)))⋅S(p, i_0, (i_2+(b⋅-1.0)), i_2)'⋅∑((k, q), (U(q, i_1, (b+k))⋅∑((p), (S(p, q, k, (b+k))⋅U(p, i_1, k)')))))))⋅2.0)\n",
      "((∑((k), (∑((i_0), U(i_0, i_1, k)')⋅∑((i_3, p), (U(p, i_1, (i_3+k))⋅∑((q), (U(q, i_1, (i_2+(i_3⋅-1.0)))⋅S(i_0, q, i_2, (i_2+(i_3⋅-1.0)))⋅S(p, q, (i_3+k), k)'))))))+∑((b, p), (U(p, i_1, (i_2+(b⋅-1.0)))⋅S(p, i_0, (i_2+(b⋅-1.0)), i_2)'⋅∑((k, q), (U(q, i_1, (b+k))⋅∑((p), (S(p, q, k, (b+k))⋅U(p, i_1, k)')))))))⋅2.0)\n",
      "undirected\n",
      "\n",
      "  3.456993 seconds (40.30 M allocations: 1.844 GiB, 4.45% gc time)\n",
      "52 shift\n",
      "((∑((k), (∑((i_0), U(i_0, i_1, k)')⋅∑((i_3, p), (U(p, i_1, (i_3+k))⋅∑((q), (U(q, i_1, (i_2+(i_3⋅-1.0)))⋅S(i_0, q, i_2, (i_2+(i_3⋅-1.0)))⋅S(p, q, (i_3+k), k)'))))))+∑((b, p), (U(p, i_1, (i_2+(b⋅-1.0)))⋅S(p, i_0, (i_2+(b⋅-1.0)), i_2)'⋅∑((k, q), (U(q, i_1, (b+k))⋅∑((p), (S(p, q, k, (b+k))⋅U(p, i_1, k)')))))))⋅2.0)\n",
      "((∑((k), (∑((i_0), U(i_0, i_1, (k+(i_3⋅-1.0)))')⋅∑((i_4, p), (U(p, i_1, (i_4+k+(i_3⋅-1.0)))⋅∑((q), (U(q, i_1, (i_2+(i_4⋅-1.0)))⋅S(i_0, q, i_2, (i_2+(i_4⋅-1.0)))⋅S(p, q, (i_4+k+(i_3⋅-1.0)), (k+(i_3⋅-1.0)))'))))))+∑((b, p), (U(p, i_1, (i_2+(b⋅-1.0)))⋅S(p, i_0, (i_2+(b⋅-1.0)), i_2)'⋅∑((k, q), (U(q, i_1, (b+k))⋅∑((p), (S(p, q, k, (b+k))⋅U(p, i_1, k)')))))))⋅2.0)\n",
      "undirected\n",
      "\n",
      "  4.865886 seconds (56.19 M allocations: 2.569 GiB, 4.43% gc time)\n",
      "53 shift\n",
      "((∑((k), (∑((i_0), U(i_0, i_1, (k+(i_3⋅-1.0)))')⋅∑((i_4, p), (U(p, i_1, (i_4+k+(i_3⋅-1.0)))⋅∑((q), (U(q, i_1, (i_2+(i_4⋅-1.0)))⋅S(i_0, q, i_2, (i_2+(i_4⋅-1.0)))⋅S(p, q, (i_4+k+(i_3⋅-1.0)), (k+(i_3⋅-1.0)))'))))))+∑((b, p), (U(p, i_1, (i_2+(b⋅-1.0)))⋅S(p, i_0, (i_2+(b⋅-1.0)), i_2)'⋅∑((k, q), (U(q, i_1, (b+k))⋅∑((p), (S(p, q, k, (b+k))⋅U(p, i_1, k)')))))))⋅2.0)\n",
      "((∑((k), (∑((i_0), U(i_0, i_1, k)')⋅∑((i_4, p), (U(p, i_1, (i_4+k))⋅∑((q), (U(q, i_1, (i_2+(i_4⋅-1.0)))⋅S(i_0, q, i_2, (i_2+(i_4⋅-1.0)))⋅S(p, q, (i_4+k), k)'))))))+∑((b, p), (U(p, i_1, (i_2+(b⋅-1.0)))⋅S(p, i_0, (i_2+(b⋅-1.0)), i_2)'⋅∑((k, q), (U(q, i_1, (b+k))⋅∑((p), (S(p, q, k, (b+k))⋅U(p, i_1, k)')))))))⋅2.0)\n",
      "undirected\n",
      "\n",
      "  3.769928 seconds (43.42 M allocations: 1.988 GiB, 4.18% gc time)\n",
      "54 shift\n",
      "((∑((k), (∑((i_0), U(i_0, i_1, k)')⋅∑((i_4, p), (U(p, i_1, (i_4+k))⋅∑((q), (U(q, i_1, (i_2+(i_4⋅-1.0)))⋅S(i_0, q, i_2, (i_2+(i_4⋅-1.0)))⋅S(p, q, (i_4+k), k)'))))))+∑((b, p), (U(p, i_1, (i_2+(b⋅-1.0)))⋅S(p, i_0, (i_2+(b⋅-1.0)), i_2)'⋅∑((k, q), (U(q, i_1, (b+k))⋅∑((p), (S(p, q, k, (b+k))⋅U(p, i_1, k)')))))))⋅2.0)\n",
      "((∑((k), (∑((i_0), U(i_0, i_1, (k+(i_4⋅-1.0)))')⋅∑((i_3, p), (U(p, i_1, (i_3+k+(i_4⋅-1.0)))⋅∑((q), (U(q, i_1, (i_2+(i_3⋅-1.0)))⋅S(i_0, q, i_2, (i_2+(i_3⋅-1.0)))⋅S(p, q, (i_3+k+(i_4⋅-1.0)), (k+(i_4⋅-1.0)))'))))))+∑((b, p), (U(p, i_1, (i_2+(b⋅-1.0)))⋅S(p, i_0, (i_2+(b⋅-1.0)), i_2)'⋅∑((k, q), (U(q, i_1, (b+k))⋅∑((p), (S(p, q, k, (b+k))⋅U(p, i_1, k)')))))))⋅2.0)\n",
      "undirected\n",
      "\n",
      "  4.062131 seconds (49.18 M allocations: 2.249 GiB, 4.19% gc time)\n",
      "55 shift\n",
      "((∑((k), (∑((i_0), U(i_0, i_1, (k+(i_4⋅-1.0)))')⋅∑((i_3, p), (U(p, i_1, (i_3+k+(i_4⋅-1.0)))⋅∑((q), (U(q, i_1, (i_2+(i_3⋅-1.0)))⋅S(i_0, q, i_2, (i_2+(i_3⋅-1.0)))⋅S(p, q, (i_3+k+(i_4⋅-1.0)), (k+(i_4⋅-1.0)))'))))))+∑((b, p), (U(p, i_1, (i_2+(b⋅-1.0)))⋅S(p, i_0, (i_2+(b⋅-1.0)), i_2)'⋅∑((k, q), (U(q, i_1, (b+k))⋅∑((p), (S(p, q, k, (b+k))⋅U(p, i_1, k)')))))))⋅2.0)\n",
      "((∑((k), (∑((i_0), U(i_0, i_1, (k+(i_3⋅-1.0)))')⋅∑((i_5, p), (U(p, i_1, (k+i_5+(i_3⋅-1.0)))⋅∑((q), (U(q, i_1, (i_2+(i_5⋅-1.0)))⋅S(i_0, q, i_2, (i_2+(i_5⋅-1.0)))⋅S(p, q, (k+i_5+(i_3⋅-1.0)), (k+(i_3⋅-1.0)))'))))))+∑((b, p), (U(p, i_1, (i_2+(b⋅-1.0)))⋅S(p, i_0, (i_2+(b⋅-1.0)), i_2)'⋅∑((k, q), (U(q, i_1, (b+k))⋅∑((p), (S(p, q, k, (b+k))⋅U(p, i_1, k)')))))))⋅2.0)\n",
      "undirected\n",
      "\n",
      "  4.850257 seconds (56.63 M allocations: 2.589 GiB, 4.47% gc time)\n",
      "56 shift\n",
      "((∑((k), (∑((i_0), U(i_0, i_1, (k+(i_3⋅-1.0)))')⋅∑((i_5, p), (U(p, i_1, (k+i_5+(i_3⋅-1.0)))⋅∑((q), (U(q, i_1, (i_2+(i_5⋅-1.0)))⋅S(i_0, q, i_2, (i_2+(i_5⋅-1.0)))⋅S(p, q, (k+i_5+(i_3⋅-1.0)), (k+(i_3⋅-1.0)))'))))))+∑((b, p), (U(p, i_1, (i_2+(b⋅-1.0)))⋅S(p, i_0, (i_2+(b⋅-1.0)), i_2)'⋅∑((k, q), (U(q, i_1, (b+k))⋅∑((p), (S(p, q, k, (b+k))⋅U(p, i_1, k)')))))))⋅2.0)\n",
      "((∑((k), (∑((i_0), U(i_0, i_1, k)')⋅∑((i_5, p), (U(p, i_1, (k+i_5))⋅∑((q), (U(q, i_1, (i_2+(i_5⋅-1.0)))⋅S(i_0, q, i_2, (i_2+(i_5⋅-1.0)))⋅S(p, q, (k+i_5), k)'))))))+∑((b, p), (U(p, i_1, (i_2+(b⋅-1.0)))⋅S(p, i_0, (i_2+(b⋅-1.0)), i_2)'⋅∑((k, q), (U(q, i_1, (b+k))⋅∑((p), (S(p, q, k, (b+k))⋅U(p, i_1, k)')))))))⋅2.0)\n",
      "undirected\n",
      "\n"
     ]
    },
    {
     "name": "stdout",
     "output_type": "stream",
     "text": [
      "  3.909606 seconds (45.13 M allocations: 2.065 GiB, 4.44% gc time)\n",
      "57 shift\n",
      "((∑((k), (∑((i_0), U(i_0, i_1, k)')⋅∑((i_5, p), (U(p, i_1, (k+i_5))⋅∑((q), (U(q, i_1, (i_2+(i_5⋅-1.0)))⋅S(i_0, q, i_2, (i_2+(i_5⋅-1.0)))⋅S(p, q, (k+i_5), k)'))))))+∑((b, p), (U(p, i_1, (i_2+(b⋅-1.0)))⋅S(p, i_0, (i_2+(b⋅-1.0)), i_2)'⋅∑((k, q), (U(q, i_1, (b+k))⋅∑((p), (S(p, q, k, (b+k))⋅U(p, i_1, k)')))))))⋅2.0)\n",
      "((∑((k), (∑((i_0), U(i_0, i_1, (k+(i_5⋅-1.0)))')⋅∑((i_3, p), (U(p, i_1, (i_3+k+(i_5⋅-1.0)))⋅∑((q), (U(q, i_1, (i_2+(i_3⋅-1.0)))⋅S(i_0, q, i_2, (i_2+(i_3⋅-1.0)))⋅S(p, q, (i_3+k+(i_5⋅-1.0)), (k+(i_5⋅-1.0)))'))))))+∑((b, p), (U(p, i_1, (i_2+(b⋅-1.0)))⋅S(p, i_0, (i_2+(b⋅-1.0)), i_2)'⋅∑((k, q), (U(q, i_1, (b+k))⋅∑((p), (S(p, q, k, (b+k))⋅U(p, i_1, k)')))))))⋅2.0)\n",
      "undirected\n",
      "\n",
      "  4.642226 seconds (53.39 M allocations: 2.440 GiB, 4.61% gc time)\n",
      "58 sum_sym\n",
      "((∑((k), (∑((i_0), U(i_0, i_1, (k+(i_5⋅-1.0)))')⋅∑((i_3, p), (U(p, i_1, (i_3+k+(i_5⋅-1.0)))⋅∑((q), (U(q, i_1, (i_2+(i_3⋅-1.0)))⋅S(i_0, q, i_2, (i_2+(i_3⋅-1.0)))⋅S(p, q, (i_3+k+(i_5⋅-1.0)), (k+(i_5⋅-1.0)))'))))))+∑((b, p), (U(p, i_1, (i_2+(b⋅-1.0)))⋅S(p, i_0, (i_2+(b⋅-1.0)), i_2)'⋅∑((k, q), (U(q, i_1, (b+k))⋅∑((p), (S(p, q, k, (b+k))⋅U(p, i_1, k)')))))))⋅2.0)\n",
      "((∑((k), (∑((i_0), U(i_0, i_1, (k+(i_5⋅-1.0)))')⋅∑((i_3, p), (U(p, i_1, (k+(i_3⋅-1.0)+(i_5⋅-1.0)))⋅∑((q), (U(q, i_1, (i_3+i_2))⋅S(i_0, q, i_2, (i_3+i_2))⋅S(p, q, (k+(i_3⋅-1.0)+(i_5⋅-1.0)), (k+(i_5⋅-1.0)))'))))))+∑((b, p), (U(p, i_1, (i_2+(b⋅-1.0)))⋅S(p, i_0, (i_2+(b⋅-1.0)), i_2)'⋅∑((k, q), (U(q, i_1, (b+k))⋅∑((p), (S(p, q, k, (b+k))⋅U(p, i_1, k)')))))))⋅2.0)\n",
      "undirected\n",
      "\n",
      "  4.345544 seconds (51.55 M allocations: 2.357 GiB, 4.41% gc time)\n",
      "59 shift\n",
      "((∑((k), (∑((i_0), U(i_0, i_1, (k+(i_5⋅-1.0)))')⋅∑((i_3, p), (U(p, i_1, (k+(i_3⋅-1.0)+(i_5⋅-1.0)))⋅∑((q), (U(q, i_1, (i_3+i_2))⋅S(i_0, q, i_2, (i_3+i_2))⋅S(p, q, (k+(i_3⋅-1.0)+(i_5⋅-1.0)), (k+(i_5⋅-1.0)))'))))))+∑((b, p), (U(p, i_1, (i_2+(b⋅-1.0)))⋅S(p, i_0, (i_2+(b⋅-1.0)), i_2)'⋅∑((k, q), (U(q, i_1, (b+k))⋅∑((p), (S(p, q, k, (b+k))⋅U(p, i_1, k)')))))))⋅2.0)\n",
      "((∑((k), (∑((i_0), U(i_0, i_1, k)')⋅∑((i_3, p), (U(p, i_1, (k+(i_3⋅-1.0)))⋅∑((q), (U(q, i_1, (i_3+i_2))⋅S(i_0, q, i_2, (i_3+i_2))⋅S(p, q, (k+(i_3⋅-1.0)), k)'))))))+∑((b, p), (U(p, i_1, (i_2+(b⋅-1.0)))⋅S(p, i_0, (i_2+(b⋅-1.0)), i_2)'⋅∑((k, q), (U(q, i_1, (b+k))⋅∑((p), (S(p, q, k, (b+k))⋅U(p, i_1, k)')))))))⋅2.0)\n",
      "undirected\n",
      "\n",
      "  3.836675 seconds (44.34 M allocations: 2.029 GiB, 4.51% gc time)\n",
      "60 shift\n",
      "((∑((k), (∑((i_0), U(i_0, i_1, k)')⋅∑((i_3, p), (U(p, i_1, (k+(i_3⋅-1.0)))⋅∑((q), (U(q, i_1, (i_3+i_2))⋅S(i_0, q, i_2, (i_3+i_2))⋅S(p, q, (k+(i_3⋅-1.0)), k)'))))))+∑((b, p), (U(p, i_1, (i_2+(b⋅-1.0)))⋅S(p, i_0, (i_2+(b⋅-1.0)), i_2)'⋅∑((k, q), (U(q, i_1, (b+k))⋅∑((p), (S(p, q, k, (b+k))⋅U(p, i_1, k)')))))))⋅2.0)\n",
      "((∑((k), (∑((i_0), U(i_0, i_1, (i_3+k))')⋅∑((i_4, p), (U(p, i_1, (i_3+k+(i_4⋅-1.0)))⋅∑((q), (U(q, i_1, (i_4+i_2))⋅S(i_0, q, i_2, (i_4+i_2))⋅S(p, q, (i_3+k+(i_4⋅-1.0)), (i_3+k))'))))))+∑((b, p), (U(p, i_1, (i_2+(b⋅-1.0)))⋅S(p, i_0, (i_2+(b⋅-1.0)), i_2)'⋅∑((k, q), (U(q, i_1, (b+k))⋅∑((p), (S(p, q, k, (b+k))⋅U(p, i_1, k)')))))))⋅2.0)\n",
      "undirected\n",
      "\n",
      "  3.950560 seconds (47.77 M allocations: 2.189 GiB, 4.30% gc time)\n",
      "61 shift\n",
      "((∑((k), (∑((i_0), U(i_0, i_1, (i_3+k))')⋅∑((i_4, p), (U(p, i_1, (i_3+k+(i_4⋅-1.0)))⋅∑((q), (U(q, i_1, (i_4+i_2))⋅S(i_0, q, i_2, (i_4+i_2))⋅S(p, q, (i_3+k+(i_4⋅-1.0)), (i_3+k))'))))))+∑((b, p), (U(p, i_1, (i_2+(b⋅-1.0)))⋅S(p, i_0, (i_2+(b⋅-1.0)), i_2)'⋅∑((k, q), (U(q, i_1, (b+k))⋅∑((p), (S(p, q, k, (b+k))⋅U(p, i_1, k)')))))))⋅2.0)\n",
      "((∑((k), (∑((i_0), U(i_0, i_1, k)')⋅∑((i_4, p), (U(p, i_1, (k+(i_4⋅-1.0)))⋅∑((q), (U(q, i_1, (i_4+i_2))⋅S(i_0, q, i_2, (i_4+i_2))⋅S(p, q, (k+(i_4⋅-1.0)), k)'))))))+∑((b, p), (U(p, i_1, (i_2+(b⋅-1.0)))⋅S(p, i_0, (i_2+(b⋅-1.0)), i_2)'⋅∑((k, q), (U(q, i_1, (b+k))⋅∑((p), (S(p, q, k, (b+k))⋅U(p, i_1, k)')))))))⋅2.0)\n",
      "undirected\n",
      "\n",
      "  3.432265 seconds (38.41 M allocations: 1.759 GiB, 4.47% gc time)\n",
      "62 shift\n",
      "((∑((k), (∑((i_0), U(i_0, i_1, k)')⋅∑((i_4, p), (U(p, i_1, (k+(i_4⋅-1.0)))⋅∑((q), (U(q, i_1, (i_4+i_2))⋅S(i_0, q, i_2, (i_4+i_2))⋅S(p, q, (k+(i_4⋅-1.0)), k)'))))))+∑((b, p), (U(p, i_1, (i_2+(b⋅-1.0)))⋅S(p, i_0, (i_2+(b⋅-1.0)), i_2)'⋅∑((k, q), (U(q, i_1, (b+k))⋅∑((p), (S(p, q, k, (b+k))⋅U(p, i_1, k)')))))))⋅2.0)\n",
      "((∑((k), (∑((i_0), U(i_0, i_1, (i_4+k))')⋅∑((i_3, p), (U(p, i_1, (i_4+k+(i_3⋅-1.0)))⋅∑((q), (U(q, i_1, (i_3+i_2))⋅S(i_0, q, i_2, (i_3+i_2))⋅S(p, q, (i_4+k+(i_3⋅-1.0)), (i_4+k))'))))))+∑((b, p), (U(p, i_1, (i_2+(b⋅-1.0)))⋅S(p, i_0, (i_2+(b⋅-1.0)), i_2)'⋅∑((k, q), (U(q, i_1, (b+k))⋅∑((p), (S(p, q, k, (b+k))⋅U(p, i_1, k)')))))))⋅2.0)\n",
      "undirected\n",
      "\n",
      "  3.881320 seconds (46.15 M allocations: 2.113 GiB, 4.43% gc time)\n",
      "63 shift\n",
      "((∑((k), (∑((i_0), U(i_0, i_1, (i_4+k))')⋅∑((i_3, p), (U(p, i_1, (i_4+k+(i_3⋅-1.0)))⋅∑((q), (U(q, i_1, (i_3+i_2))⋅S(i_0, q, i_2, (i_3+i_2))⋅S(p, q, (i_4+k+(i_3⋅-1.0)), (i_4+k))'))))))+∑((b, p), (U(p, i_1, (i_2+(b⋅-1.0)))⋅S(p, i_0, (i_2+(b⋅-1.0)), i_2)'⋅∑((k, q), (U(q, i_1, (b+k))⋅∑((p), (S(p, q, k, (b+k))⋅U(p, i_1, k)')))))))⋅2.0)\n",
      "((∑((k), (∑((i_0), U(i_0, i_1, (i_3+k))')⋅∑((i_5, p), (U(p, i_1, (i_3+k+(i_5⋅-1.0)))⋅∑((q), (U(q, i_1, (i_5+i_2))⋅S(i_0, q, i_2, (i_5+i_2))⋅S(p, q, (i_3+k+(i_5⋅-1.0)), (i_3+k))'))))))+∑((b, p), (U(p, i_1, (i_2+(b⋅-1.0)))⋅S(p, i_0, (i_2+(b⋅-1.0)), i_2)'⋅∑((k, q), (U(q, i_1, (b+k))⋅∑((p), (S(p, q, k, (b+k))⋅U(p, i_1, k)')))))))⋅2.0)\n",
      "undirected\n",
      "\n",
      "  4.077478 seconds (48.45 M allocations: 2.219 GiB, 4.25% gc time)\n",
      "64 shift\n",
      "((∑((k), (∑((i_0), U(i_0, i_1, (i_3+k))')⋅∑((i_5, p), (U(p, i_1, (i_3+k+(i_5⋅-1.0)))⋅∑((q), (U(q, i_1, (i_5+i_2))⋅S(i_0, q, i_2, (i_5+i_2))⋅S(p, q, (i_3+k+(i_5⋅-1.0)), (i_3+k))'))))))+∑((b, p), (U(p, i_1, (i_2+(b⋅-1.0)))⋅S(p, i_0, (i_2+(b⋅-1.0)), i_2)'⋅∑((k, q), (U(q, i_1, (b+k))⋅∑((p), (S(p, q, k, (b+k))⋅U(p, i_1, k)')))))))⋅2.0)\n",
      "((∑((k), (∑((i_0), U(i_0, i_1, k)')⋅∑((i_5, p), (U(p, i_1, (k+(i_5⋅-1.0)))⋅∑((q), (U(q, i_1, (i_5+i_2))⋅S(i_0, q, i_2, (i_5+i_2))⋅S(p, q, (k+(i_5⋅-1.0)), k)'))))))+∑((b, p), (U(p, i_1, (i_2+(b⋅-1.0)))⋅S(p, i_0, (i_2+(b⋅-1.0)), i_2)'⋅∑((k, q), (U(q, i_1, (b+k))⋅∑((p), (S(p, q, k, (b+k))⋅U(p, i_1, k)')))))))⋅2.0)\n",
      "undirected\n",
      "\n",
      "  3.891382 seconds (43.99 M allocations: 2.013 GiB, 5.09% gc time)\n",
      "65 shift\n",
      "((∑((k), (∑((i_0), U(i_0, i_1, k)')⋅∑((i_5, p), (U(p, i_1, (k+(i_5⋅-1.0)))⋅∑((q), (U(q, i_1, (i_5+i_2))⋅S(i_0, q, i_2, (i_5+i_2))⋅S(p, q, (k+(i_5⋅-1.0)), k)'))))))+∑((b, p), (U(p, i_1, (i_2+(b⋅-1.0)))⋅S(p, i_0, (i_2+(b⋅-1.0)), i_2)'⋅∑((k, q), (U(q, i_1, (b+k))⋅∑((p), (S(p, q, k, (b+k))⋅U(p, i_1, k)')))))))⋅2.0)\n",
      "((∑((k), (∑((i_0), U(i_0, i_1, (k+i_5))')⋅∑((i_3, p), (U(p, i_1, (k+i_5+(i_3⋅-1.0)))⋅∑((q), (U(q, i_1, (i_3+i_2))⋅S(i_0, q, i_2, (i_3+i_2))⋅S(p, q, (k+i_5+(i_3⋅-1.0)), (k+i_5))'))))))+∑((b, p), (U(p, i_1, (i_2+(b⋅-1.0)))⋅S(p, i_0, (i_2+(b⋅-1.0)), i_2)'⋅∑((k, q), (U(q, i_1, (b+k))⋅∑((p), (S(p, q, k, (b+k))⋅U(p, i_1, k)')))))))⋅2.0)\n",
      "undirected\n",
      "\n",
      "  3.932637 seconds (47.09 M allocations: 2.156 GiB, 4.35% gc time)\n",
      "66 symmetry\n",
      "((∑((k), (∑((i_0), U(i_0, i_1, (k+i_5))')⋅∑((i_3, p), (U(p, i_1, (k+i_5+(i_3⋅-1.0)))⋅∑((q), (U(q, i_1, (i_3+i_2))⋅S(i_0, q, i_2, (i_3+i_2))⋅S(p, q, (k+i_5+(i_3⋅-1.0)), (k+i_5))'))))))+∑((b, p), (U(p, i_1, (i_2+(b⋅-1.0)))⋅S(p, i_0, (i_2+(b⋅-1.0)), i_2)'⋅∑((k, q), (U(q, i_1, (b+k))⋅∑((p), (S(p, q, k, (b+k))⋅U(p, i_1, k)')))))))⋅2.0)\n",
      "((∑((k), (∑((i_0), U(i_0, i_1, (k+i_5))')⋅∑((i_3, p), (U(p, i_1, (k+i_5+(i_3⋅-1.0)))⋅∑((q), (U(q, i_1, (i_3+i_2))⋅S(q, i_0, (i_3+i_2), i_2)'⋅S(p, q, (k+i_5+(i_3⋅-1.0)), (k+i_5))'))))))+∑((b, p), (U(p, i_1, (i_2+(b⋅-1.0)))⋅S(p, i_0, (i_2+(b⋅-1.0)), i_2)'⋅∑((k, q), (U(q, i_1, (b+k))⋅∑((p), (S(p, q, k, (b+k))⋅U(p, i_1, k)')))))))⋅2.0)\n",
      "undirected\n",
      "\n",
      "  3.625168 seconds (41.38 M allocations: 1.894 GiB, 4.61% gc time)\n",
      "67 sum_exchange\n",
      "((∑((k), (∑((i_0), U(i_0, i_1, (k+i_5))')⋅∑((i_3, p), (U(p, i_1, (k+i_5+(i_3⋅-1.0)))⋅∑((q), (U(q, i_1, (i_3+i_2))⋅S(q, i_0, (i_3+i_2), i_2)'⋅S(p, q, (k+i_5+(i_3⋅-1.0)), (k+i_5))'))))))+∑((b, p), (U(p, i_1, (i_2+(b⋅-1.0)))⋅S(p, i_0, (i_2+(b⋅-1.0)), i_2)'⋅∑((k, q), (U(q, i_1, (b+k))⋅∑((p), (S(p, q, k, (b+k))⋅U(p, i_1, k)')))))))⋅2.0)\n",
      "((∑((k), (∑((i_0), U(i_0, i_1, (k+i_5))')⋅∑((i_3, q), (U(q, i_1, (i_3+i_2))⋅S(q, i_0, (i_3+i_2), i_2)'⋅∑((p), (U(p, i_1, (k+i_5+(i_3⋅-1.0)))⋅S(p, q, (k+i_5+(i_3⋅-1.0)), (k+i_5))'))))))+∑((b, p), (U(p, i_1, (i_2+(b⋅-1.0)))⋅S(p, i_0, (i_2+(b⋅-1.0)), i_2)'⋅∑((k, q), (U(q, i_1, (b+k))⋅∑((p), (S(p, q, k, (b+k))⋅U(p, i_1, k)')))))))⋅2.0)\n",
      "undirected\n",
      "\n"
     ]
    },
    {
     "name": "stdout",
     "output_type": "stream",
     "text": [
      "  3.758553 seconds (44.22 M allocations: 2.027 GiB, 4.63% gc time)\n",
      "68 shift\n",
      "((∑((k), (∑((i_0), U(i_0, i_1, (k+i_5))')⋅∑((i_3, q), (U(q, i_1, (i_3+i_2))⋅S(q, i_0, (i_3+i_2), i_2)'⋅∑((p), (U(p, i_1, (k+i_5+(i_3⋅-1.0)))⋅S(p, q, (k+i_5+(i_3⋅-1.0)), (k+i_5))'))))))+∑((b, p), (U(p, i_1, (i_2+(b⋅-1.0)))⋅S(p, i_0, (i_2+(b⋅-1.0)), i_2)'⋅∑((k, q), (U(q, i_1, (b+k))⋅∑((p), (S(p, q, k, (b+k))⋅U(p, i_1, k)')))))))⋅2.0)\n",
      "((∑((k), (∑((i_0), U(i_0, i_1, k)')⋅∑((i_3, q), (U(q, i_1, (i_3+i_2))⋅S(q, i_0, (i_3+i_2), i_2)'⋅∑((p), (U(p, i_1, (k+(i_3⋅-1.0)))⋅S(p, q, (k+(i_3⋅-1.0)), k)'))))))+∑((b, p), (U(p, i_1, (i_2+(b⋅-1.0)))⋅S(p, i_0, (i_2+(b⋅-1.0)), i_2)'⋅∑((k, q), (U(q, i_1, (b+k))⋅∑((p), (S(p, q, k, (b+k))⋅U(p, i_1, k)')))))))⋅2.0)\n",
      "undirected\n",
      "\n",
      "  3.098023 seconds (35.47 M allocations: 1.626 GiB, 4.34% gc time)\n",
      "69 symmetry\n",
      "((∑((k), (∑((i_0), U(i_0, i_1, k)')⋅∑((i_3, q), (U(q, i_1, (i_3+i_2))⋅S(q, i_0, (i_3+i_2), i_2)'⋅∑((p), (U(p, i_1, (k+(i_3⋅-1.0)))⋅S(p, q, (k+(i_3⋅-1.0)), k)'))))))+∑((b, p), (U(p, i_1, (i_2+(b⋅-1.0)))⋅S(p, i_0, (i_2+(b⋅-1.0)), i_2)'⋅∑((k, q), (U(q, i_1, (b+k))⋅∑((p), (S(p, q, k, (b+k))⋅U(p, i_1, k)')))))))⋅2.0)\n",
      "((∑((k), (∑((i_0), U(i_0, i_1, k)')⋅∑((i_3, q), (U(q, i_1, (i_3+i_2))⋅S(q, i_0, (i_3+i_2), i_2)'⋅∑((p), (U(p, i_1, (k+(i_3⋅-1.0)))⋅S(q, p, k, (k+(i_3⋅-1.0)))))))))+∑((b, p), (U(p, i_1, (i_2+(b⋅-1.0)))⋅S(p, i_0, (i_2+(b⋅-1.0)), i_2)'⋅∑((k, q), (U(q, i_1, (b+k))⋅∑((p), (S(p, q, k, (b+k))⋅U(p, i_1, k)')))))))⋅2.0)\n",
      "undirected\n",
      "\n",
      "  4.028615 seconds (47.11 M allocations: 2.160 GiB, 4.20% gc time)\n",
      "70 shift\n",
      "((∑((k), (∑((i_0), U(i_0, i_1, k)')⋅∑((i_3, q), (U(q, i_1, (i_3+i_2))⋅S(q, i_0, (i_3+i_2), i_2)'⋅∑((p), (U(p, i_1, (k+(i_3⋅-1.0)))⋅S(q, p, k, (k+(i_3⋅-1.0)))))))))+∑((b, p), (U(p, i_1, (i_2+(b⋅-1.0)))⋅S(p, i_0, (i_2+(b⋅-1.0)), i_2)'⋅∑((k, q), (U(q, i_1, (b+k))⋅∑((p), (S(p, q, k, (b+k))⋅U(p, i_1, k)')))))))⋅2.0)\n",
      "((∑((k), (∑((i_0), U(i_0, i_1, (i_3+k))')⋅∑((i_4, q), (U(q, i_1, (i_4+i_2))⋅S(q, i_0, (i_4+i_2), i_2)'⋅∑((p), (U(p, i_1, (i_3+k+(i_4⋅-1.0)))⋅S(q, p, (i_3+k), (i_3+k+(i_4⋅-1.0)))))))))+∑((b, p), (U(p, i_1, (i_2+(b⋅-1.0)))⋅S(p, i_0, (i_2+(b⋅-1.0)), i_2)'⋅∑((k, q), (U(q, i_1, (b+k))⋅∑((p), (S(p, q, k, (b+k))⋅U(p, i_1, k)')))))))⋅2.0)\n",
      "undirected\n",
      "\n",
      "  4.047620 seconds (46.10 M allocations: 2.115 GiB, 4.65% gc time)\n",
      "71 shift\n",
      "((∑((k), (∑((i_0), U(i_0, i_1, (i_3+k))')⋅∑((i_4, q), (U(q, i_1, (i_4+i_2))⋅S(q, i_0, (i_4+i_2), i_2)'⋅∑((p), (U(p, i_1, (i_3+k+(i_4⋅-1.0)))⋅S(q, p, (i_3+k), (i_3+k+(i_4⋅-1.0)))))))))+∑((b, p), (U(p, i_1, (i_2+(b⋅-1.0)))⋅S(p, i_0, (i_2+(b⋅-1.0)), i_2)'⋅∑((k, q), (U(q, i_1, (b+k))⋅∑((p), (S(p, q, k, (b+k))⋅U(p, i_1, k)')))))))⋅2.0)\n",
      "((∑((k), (∑((i_0), U(i_0, i_1, k)')⋅∑((i_4, q), (U(q, i_1, (i_4+i_2))⋅S(q, i_0, (i_4+i_2), i_2)'⋅∑((p), (U(p, i_1, (k+(i_4⋅-1.0)))⋅S(q, p, k, (k+(i_4⋅-1.0)))))))))+∑((b, p), (U(p, i_1, (i_2+(b⋅-1.0)))⋅S(p, i_0, (i_2+(b⋅-1.0)), i_2)'⋅∑((k, q), (U(q, i_1, (b+k))⋅∑((p), (S(p, q, k, (b+k))⋅U(p, i_1, k)')))))))⋅2.0)\n",
      "undirected\n",
      "\n",
      "  4.070065 seconds (46.14 M allocations: 2.116 GiB, 4.36% gc time)\n",
      "72 shift\n",
      "((∑((k), (∑((i_0), U(i_0, i_1, k)')⋅∑((i_4, q), (U(q, i_1, (i_4+i_2))⋅S(q, i_0, (i_4+i_2), i_2)'⋅∑((p), (U(p, i_1, (k+(i_4⋅-1.0)))⋅S(q, p, k, (k+(i_4⋅-1.0)))))))))+∑((b, p), (U(p, i_1, (i_2+(b⋅-1.0)))⋅S(p, i_0, (i_2+(b⋅-1.0)), i_2)'⋅∑((k, q), (U(q, i_1, (b+k))⋅∑((p), (S(p, q, k, (b+k))⋅U(p, i_1, k)')))))))⋅2.0)\n",
      "((∑((k), (∑((i_0), U(i_0, i_1, (i_4+k))')⋅∑((i_3, q), (U(q, i_1, (i_3+i_2))⋅S(q, i_0, (i_3+i_2), i_2)'⋅∑((p), (U(p, i_1, (i_4+k+(i_3⋅-1.0)))⋅S(q, p, (i_4+k), (i_4+k+(i_3⋅-1.0)))))))))+∑((b, p), (U(p, i_1, (i_2+(b⋅-1.0)))⋅S(p, i_0, (i_2+(b⋅-1.0)), i_2)'⋅∑((k, q), (U(q, i_1, (b+k))⋅∑((p), (S(p, q, k, (b+k))⋅U(p, i_1, k)')))))))⋅2.0)\n",
      "undirected\n",
      "\n",
      "  4.196157 seconds (47.08 M allocations: 2.159 GiB, 4.70% gc time)\n",
      "73 shift\n",
      "((∑((k), (∑((i_0), U(i_0, i_1, (i_4+k))')⋅∑((i_3, q), (U(q, i_1, (i_3+i_2))⋅S(q, i_0, (i_3+i_2), i_2)'⋅∑((p), (U(p, i_1, (i_4+k+(i_3⋅-1.0)))⋅S(q, p, (i_4+k), (i_4+k+(i_3⋅-1.0)))))))))+∑((b, p), (U(p, i_1, (i_2+(b⋅-1.0)))⋅S(p, i_0, (i_2+(b⋅-1.0)), i_2)'⋅∑((k, q), (U(q, i_1, (b+k))⋅∑((p), (S(p, q, k, (b+k))⋅U(p, i_1, k)')))))))⋅2.0)\n",
      "((∑((k), (∑((i_0), U(i_0, i_1, (i_3+k))')⋅∑((i_5, q), (U(q, i_1, (i_5+i_2))⋅S(q, i_0, (i_5+i_2), i_2)'⋅∑((p), (U(p, i_1, (i_3+k+(i_5⋅-1.0)))⋅S(q, p, (i_3+k), (i_3+k+(i_5⋅-1.0)))))))))+∑((b, p), (U(p, i_1, (i_2+(b⋅-1.0)))⋅S(p, i_0, (i_2+(b⋅-1.0)), i_2)'⋅∑((k, q), (U(q, i_1, (b+k))⋅∑((p), (S(p, q, k, (b+k))⋅U(p, i_1, k)')))))))⋅2.0)\n",
      "undirected\n",
      "\n",
      "  4.033210 seconds (47.10 M allocations: 2.160 GiB, 4.34% gc time)\n",
      "74 shift\n",
      "((∑((k), (∑((i_0), U(i_0, i_1, (i_3+k))')⋅∑((i_5, q), (U(q, i_1, (i_5+i_2))⋅S(q, i_0, (i_5+i_2), i_2)'⋅∑((p), (U(p, i_1, (i_3+k+(i_5⋅-1.0)))⋅S(q, p, (i_3+k), (i_3+k+(i_5⋅-1.0)))))))))+∑((b, p), (U(p, i_1, (i_2+(b⋅-1.0)))⋅S(p, i_0, (i_2+(b⋅-1.0)), i_2)'⋅∑((k, q), (U(q, i_1, (b+k))⋅∑((p), (S(p, q, k, (b+k))⋅U(p, i_1, k)')))))))⋅2.0)\n",
      "((∑((k), (∑((i_0), U(i_0, i_1, k)')⋅∑((i_5, q), (U(q, i_1, (i_5+i_2))⋅S(q, i_0, (i_5+i_2), i_2)'⋅∑((p), (U(p, i_1, (k+(i_5⋅-1.0)))⋅S(q, p, k, (k+(i_5⋅-1.0)))))))))+∑((b, p), (U(p, i_1, (i_2+(b⋅-1.0)))⋅S(p, i_0, (i_2+(b⋅-1.0)), i_2)'⋅∑((k, q), (U(q, i_1, (b+k))⋅∑((p), (S(p, q, k, (b+k))⋅U(p, i_1, k)')))))))⋅2.0)\n",
      "undirected\n",
      "\n",
      "  4.712527 seconds (53.02 M allocations: 2.431 GiB, 4.48% gc time)\n",
      "75 shift\n",
      "((∑((k), (∑((i_0), U(i_0, i_1, k)')⋅∑((i_5, q), (U(q, i_1, (i_5+i_2))⋅S(q, i_0, (i_5+i_2), i_2)'⋅∑((p), (U(p, i_1, (k+(i_5⋅-1.0)))⋅S(q, p, k, (k+(i_5⋅-1.0)))))))))+∑((b, p), (U(p, i_1, (i_2+(b⋅-1.0)))⋅S(p, i_0, (i_2+(b⋅-1.0)), i_2)'⋅∑((k, q), (U(q, i_1, (b+k))⋅∑((p), (S(p, q, k, (b+k))⋅U(p, i_1, k)')))))))⋅2.0)\n",
      "((∑((k), (∑((i_0), U(i_0, i_1, (k+i_5))')⋅∑((i_3, q), (U(q, i_1, (i_3+i_2))⋅S(q, i_0, (i_3+i_2), i_2)'⋅∑((p), (U(p, i_1, (k+i_5+(i_3⋅-1.0)))⋅S(q, p, (k+i_5), (k+i_5+(i_3⋅-1.0)))))))))+∑((b, p), (U(p, i_1, (i_2+(b⋅-1.0)))⋅S(p, i_0, (i_2+(b⋅-1.0)), i_2)'⋅∑((k, q), (U(q, i_1, (b+k))⋅∑((p), (S(p, q, k, (b+k))⋅U(p, i_1, k)')))))))⋅2.0)\n",
      "undirected\n",
      "\n",
      "  4.397807 seconds (51.47 M allocations: 2.359 GiB, 4.38% gc time)\n",
      "76 sum_sym\n",
      "((∑((k), (∑((i_0), U(i_0, i_1, (k+i_5))')⋅∑((i_3, q), (U(q, i_1, (i_3+i_2))⋅S(q, i_0, (i_3+i_2), i_2)'⋅∑((p), (U(p, i_1, (k+i_5+(i_3⋅-1.0)))⋅S(q, p, (k+i_5), (k+i_5+(i_3⋅-1.0)))))))))+∑((b, p), (U(p, i_1, (i_2+(b⋅-1.0)))⋅S(p, i_0, (i_2+(b⋅-1.0)), i_2)'⋅∑((k, q), (U(q, i_1, (b+k))⋅∑((p), (S(p, q, k, (b+k))⋅U(p, i_1, k)')))))))⋅2.0)\n",
      "((∑((k), (∑((i_0), U(i_0, i_1, (k+i_5))')⋅∑((i_3, q), (U(q, i_1, (i_2+(i_3⋅-1.0)))⋅S(q, i_0, (i_2+(i_3⋅-1.0)), i_2)'⋅∑((p), (U(p, i_1, (i_3+k+i_5))⋅S(q, p, (k+i_5), (i_3+k+i_5))))))))+∑((b, p), (U(p, i_1, (i_2+(b⋅-1.0)))⋅S(p, i_0, (i_2+(b⋅-1.0)), i_2)'⋅∑((k, q), (U(q, i_1, (b+k))⋅∑((p), (S(p, q, k, (b+k))⋅U(p, i_1, k)')))))))⋅2.0)\n",
      "undirected\n",
      "\n",
      "  4.259231 seconds (50.77 M allocations: 2.324 GiB, 4.43% gc time)\n",
      "77 shift\n",
      "((∑((k), (∑((i_0), U(i_0, i_1, (k+i_5))')⋅∑((i_3, q), (U(q, i_1, (i_2+(i_3⋅-1.0)))⋅S(q, i_0, (i_2+(i_3⋅-1.0)), i_2)'⋅∑((p), (U(p, i_1, (i_3+k+i_5))⋅S(q, p, (k+i_5), (i_3+k+i_5))))))))+∑((b, p), (U(p, i_1, (i_2+(b⋅-1.0)))⋅S(p, i_0, (i_2+(b⋅-1.0)), i_2)'⋅∑((k, q), (U(q, i_1, (b+k))⋅∑((p), (S(p, q, k, (b+k))⋅U(p, i_1, k)')))))))⋅2.0)\n",
      "((∑((k), (∑((i_0), U(i_0, i_1, k)')⋅∑((i_3, q), (U(q, i_1, (i_2+(i_3⋅-1.0)))⋅S(q, i_0, (i_2+(i_3⋅-1.0)), i_2)'⋅∑((p), (U(p, i_1, (i_3+k))⋅S(q, p, k, (i_3+k))))))))+∑((b, p), (U(p, i_1, (i_2+(b⋅-1.0)))⋅S(p, i_0, (i_2+(b⋅-1.0)), i_2)'⋅∑((k, q), (U(q, i_1, (b+k))⋅∑((p), (S(p, q, k, (b+k))⋅U(p, i_1, k)')))))))⋅2.0)\n",
      "undirected\n",
      "\n",
      "  3.868337 seconds (43.27 M allocations: 1.981 GiB, 3.94% gc time)\n",
      "78 shift\n",
      "((∑((k), (∑((i_0), U(i_0, i_1, k)')⋅∑((i_3, q), (U(q, i_1, (i_2+(i_3⋅-1.0)))⋅S(q, i_0, (i_2+(i_3⋅-1.0)), i_2)'⋅∑((p), (U(p, i_1, (i_3+k))⋅S(q, p, k, (i_3+k))))))))+∑((b, p), (U(p, i_1, (i_2+(b⋅-1.0)))⋅S(p, i_0, (i_2+(b⋅-1.0)), i_2)'⋅∑((k, q), (U(q, i_1, (b+k))⋅∑((p), (S(p, q, k, (b+k))⋅U(p, i_1, k)')))))))⋅2.0)\n",
      "((∑((k), (∑((i_0), U(i_0, i_1, (k+(i_3⋅-1.0)))')⋅∑((i_4, q), (U(q, i_1, (i_2+(i_4⋅-1.0)))⋅S(q, i_0, (i_2+(i_4⋅-1.0)), i_2)'⋅∑((p), (U(p, i_1, (i_4+k+(i_3⋅-1.0)))⋅S(q, p, (k+(i_3⋅-1.0)), (i_4+k+(i_3⋅-1.0)))))))))+∑((b, p), (U(p, i_1, (i_2+(b⋅-1.0)))⋅S(p, i_0, (i_2+(b⋅-1.0)), i_2)'⋅∑((k, q), (U(q, i_1, (b+k))⋅∑((p), (S(p, q, k, (b+k))⋅U(p, i_1, k)')))))))⋅2.0)\n",
      "undirected\n",
      "\n",
      "  4.670976 seconds (55.43 M allocations: 2.535 GiB, 4.51% gc time)\n",
      "79 shift\n",
      "((∑((k), (∑((i_0), U(i_0, i_1, (k+(i_3⋅-1.0)))')⋅∑((i_4, q), (U(q, i_1, (i_2+(i_4⋅-1.0)))⋅S(q, i_0, (i_2+(i_4⋅-1.0)), i_2)'⋅∑((p), (U(p, i_1, (i_4+k+(i_3⋅-1.0)))⋅S(q, p, (k+(i_3⋅-1.0)), (i_4+k+(i_3⋅-1.0)))))))))+∑((b, p), (U(p, i_1, (i_2+(b⋅-1.0)))⋅S(p, i_0, (i_2+(b⋅-1.0)), i_2)'⋅∑((k, q), (U(q, i_1, (b+k))⋅∑((p), (S(p, q, k, (b+k))⋅U(p, i_1, k)')))))))⋅2.0)\n",
      "((∑((k), (∑((i_0), U(i_0, i_1, k)')⋅∑((i_4, q), (U(q, i_1, (i_2+(i_4⋅-1.0)))⋅S(q, i_0, (i_2+(i_4⋅-1.0)), i_2)'⋅∑((p), (U(p, i_1, (i_4+k))⋅S(q, p, k, (i_4+k))))))))+∑((b, p), (U(p, i_1, (i_2+(b⋅-1.0)))⋅S(p, i_0, (i_2+(b⋅-1.0)), i_2)'⋅∑((k, q), (U(q, i_1, (b+k))⋅∑((p), (S(p, q, k, (b+k))⋅U(p, i_1, k)')))))))⋅2.0)\n",
      "undirected\n",
      "\n"
     ]
    },
    {
     "name": "stdout",
     "output_type": "stream",
     "text": [
      "  4.097848 seconds (44.94 M allocations: 2.059 GiB, 4.33% gc time)\n",
      "80 shift\n",
      "((∑((k), (∑((i_0), U(i_0, i_1, k)')⋅∑((i_4, q), (U(q, i_1, (i_2+(i_4⋅-1.0)))⋅S(q, i_0, (i_2+(i_4⋅-1.0)), i_2)'⋅∑((p), (U(p, i_1, (i_4+k))⋅S(q, p, k, (i_4+k))))))))+∑((b, p), (U(p, i_1, (i_2+(b⋅-1.0)))⋅S(p, i_0, (i_2+(b⋅-1.0)), i_2)'⋅∑((k, q), (U(q, i_1, (b+k))⋅∑((p), (S(p, q, k, (b+k))⋅U(p, i_1, k)')))))))⋅2.0)\n",
      "((∑((k), (∑((i_0), U(i_0, i_1, (k+(i_4⋅-1.0)))')⋅∑((i_3, q), (U(q, i_1, (i_2+(i_3⋅-1.0)))⋅S(q, i_0, (i_2+(i_3⋅-1.0)), i_2)'⋅∑((p), (U(p, i_1, (i_3+k+(i_4⋅-1.0)))⋅S(q, p, (k+(i_4⋅-1.0)), (i_3+k+(i_4⋅-1.0)))))))))+∑((b, p), (U(p, i_1, (i_2+(b⋅-1.0)))⋅S(p, i_0, (i_2+(b⋅-1.0)), i_2)'⋅∑((k, q), (U(q, i_1, (b+k))⋅∑((p), (S(p, q, k, (b+k))⋅U(p, i_1, k)')))))))⋅2.0)\n",
      "undirected\n",
      "\n",
      "  4.665279 seconds (54.95 M allocations: 2.514 GiB, 4.50% gc time)\n",
      "81 shift\n",
      "((∑((k), (∑((i_0), U(i_0, i_1, (k+(i_4⋅-1.0)))')⋅∑((i_3, q), (U(q, i_1, (i_2+(i_3⋅-1.0)))⋅S(q, i_0, (i_2+(i_3⋅-1.0)), i_2)'⋅∑((p), (U(p, i_1, (i_3+k+(i_4⋅-1.0)))⋅S(q, p, (k+(i_4⋅-1.0)), (i_3+k+(i_4⋅-1.0)))))))))+∑((b, p), (U(p, i_1, (i_2+(b⋅-1.0)))⋅S(p, i_0, (i_2+(b⋅-1.0)), i_2)'⋅∑((k, q), (U(q, i_1, (b+k))⋅∑((p), (S(p, q, k, (b+k))⋅U(p, i_1, k)')))))))⋅2.0)\n",
      "((∑((k), (∑((i_0), U(i_0, i_1, (k+(i_3⋅-1.0)))')⋅∑((i_5, q), (U(q, i_1, (i_2+(i_5⋅-1.0)))⋅S(q, i_0, (i_2+(i_5⋅-1.0)), i_2)'⋅∑((p), (U(p, i_1, (k+i_5+(i_3⋅-1.0)))⋅S(q, p, (k+(i_3⋅-1.0)), (k+i_5+(i_3⋅-1.0)))))))))+∑((b, p), (U(p, i_1, (i_2+(b⋅-1.0)))⋅S(p, i_0, (i_2+(b⋅-1.0)), i_2)'⋅∑((k, q), (U(q, i_1, (b+k))⋅∑((p), (S(p, q, k, (b+k))⋅U(p, i_1, k)')))))))⋅2.0)\n",
      "undirected\n",
      "\n",
      "  4.720282 seconds (55.25 M allocations: 2.527 GiB, 4.01% gc time)\n",
      "82 shift\n",
      "((∑((k), (∑((i_0), U(i_0, i_1, (k+(i_3⋅-1.0)))')⋅∑((i_5, q), (U(q, i_1, (i_2+(i_5⋅-1.0)))⋅S(q, i_0, (i_2+(i_5⋅-1.0)), i_2)'⋅∑((p), (U(p, i_1, (k+i_5+(i_3⋅-1.0)))⋅S(q, p, (k+(i_3⋅-1.0)), (k+i_5+(i_3⋅-1.0)))))))))+∑((b, p), (U(p, i_1, (i_2+(b⋅-1.0)))⋅S(p, i_0, (i_2+(b⋅-1.0)), i_2)'⋅∑((k, q), (U(q, i_1, (b+k))⋅∑((p), (S(p, q, k, (b+k))⋅U(p, i_1, k)')))))))⋅2.0)\n",
      "((∑((k), (∑((i_0), U(i_0, i_1, k)')⋅∑((i_5, q), (U(q, i_1, (i_2+(i_5⋅-1.0)))⋅S(q, i_0, (i_2+(i_5⋅-1.0)), i_2)'⋅∑((p), (U(p, i_1, (k+i_5))⋅S(q, p, k, (k+i_5))))))))+∑((b, p), (U(p, i_1, (i_2+(b⋅-1.0)))⋅S(p, i_0, (i_2+(b⋅-1.0)), i_2)'⋅∑((k, q), (U(q, i_1, (b+k))⋅∑((p), (S(p, q, k, (b+k))⋅U(p, i_1, k)')))))))⋅2.0)\n",
      "undirected\n",
      "\n",
      "  4.594113 seconds (49.60 M allocations: 2.271 GiB, 4.53% gc time)\n",
      "83 shift\n",
      "((∑((k), (∑((i_0), U(i_0, i_1, k)')⋅∑((i_5, q), (U(q, i_1, (i_2+(i_5⋅-1.0)))⋅S(q, i_0, (i_2+(i_5⋅-1.0)), i_2)'⋅∑((p), (U(p, i_1, (k+i_5))⋅S(q, p, k, (k+i_5))))))))+∑((b, p), (U(p, i_1, (i_2+(b⋅-1.0)))⋅S(p, i_0, (i_2+(b⋅-1.0)), i_2)'⋅∑((k, q), (U(q, i_1, (b+k))⋅∑((p), (S(p, q, k, (b+k))⋅U(p, i_1, k)')))))))⋅2.0)\n",
      "((∑((k), (∑((i_0), U(i_0, i_1, (k+(i_5⋅-1.0)))')⋅∑((i_3, q), (U(q, i_1, (i_2+(i_3⋅-1.0)))⋅S(q, i_0, (i_2+(i_3⋅-1.0)), i_2)'⋅∑((p), (U(p, i_1, (i_3+k+(i_5⋅-1.0)))⋅S(q, p, (k+(i_5⋅-1.0)), (i_3+k+(i_5⋅-1.0)))))))))+∑((b, p), (U(p, i_1, (i_2+(b⋅-1.0)))⋅S(p, i_0, (i_2+(b⋅-1.0)), i_2)'⋅∑((k, q), (U(q, i_1, (b+k))⋅∑((p), (S(p, q, k, (b+k))⋅U(p, i_1, k)')))))))⋅2.0)\n",
      "undirected\n",
      "\n",
      " 90.189984 seconds (61.39 M allocations: 2.808 GiB, 0.28% gc time)\n",
      "84 sum_sym\n",
      "((∑((k), (∑((i_0), U(i_0, i_1, (k+(i_5⋅-1.0)))')⋅∑((i_3, q), (U(q, i_1, (i_2+(i_3⋅-1.0)))⋅S(q, i_0, (i_2+(i_3⋅-1.0)), i_2)'⋅∑((p), (U(p, i_1, (i_3+k+(i_5⋅-1.0)))⋅S(q, p, (k+(i_5⋅-1.0)), (i_3+k+(i_5⋅-1.0)))))))))+∑((b, p), (U(p, i_1, (i_2+(b⋅-1.0)))⋅S(p, i_0, (i_2+(b⋅-1.0)), i_2)'⋅∑((k, q), (U(q, i_1, (b+k))⋅∑((p), (S(p, q, k, (b+k))⋅U(p, i_1, k)')))))))⋅2.0)\n",
      "((∑((k), (∑((i_0), U(i_0, i_1, (k+(i_5⋅-1.0)))')⋅∑((i_3, q), (U(q, i_1, (i_3+i_2))⋅S(q, i_0, (i_3+i_2), i_2)'⋅∑((p), (U(p, i_1, (k+(i_3⋅-1.0)+(i_5⋅-1.0)))⋅S(q, p, (k+(i_5⋅-1.0)), (k+(i_3⋅-1.0)+(i_5⋅-1.0)))))))))+∑((b, p), (U(p, i_1, (i_2+(b⋅-1.0)))⋅S(p, i_0, (i_2+(b⋅-1.0)), i_2)'⋅∑((k, q), (U(q, i_1, (b+k))⋅∑((p), (S(p, q, k, (b+k))⋅U(p, i_1, k)')))))))⋅2.0)\n",
      "undirected\n",
      "\n",
      "  4.619017 seconds (53.14 M allocations: 2.434 GiB, 4.15% gc time)\n",
      "85 sum_exchange\n",
      "((∑((k), (∑((i_0), U(i_0, i_1, (k+(i_5⋅-1.0)))')⋅∑((i_3, q), (U(q, i_1, (i_3+i_2))⋅S(q, i_0, (i_3+i_2), i_2)'⋅∑((p), (U(p, i_1, (k+(i_3⋅-1.0)+(i_5⋅-1.0)))⋅S(q, p, (k+(i_5⋅-1.0)), (k+(i_3⋅-1.0)+(i_5⋅-1.0)))))))))+∑((b, p), (U(p, i_1, (i_2+(b⋅-1.0)))⋅S(p, i_0, (i_2+(b⋅-1.0)), i_2)'⋅∑((k, q), (U(q, i_1, (b+k))⋅∑((p), (S(p, q, k, (b+k))⋅U(p, i_1, k)')))))))⋅2.0)\n",
      "((∑((k), (∑((i_0), U(i_0, i_1, (k+(i_5⋅-1.0)))')⋅∑((i_3, p), (U(p, i_1, (k+(i_3⋅-1.0)+(i_5⋅-1.0)))⋅∑((q), (U(q, i_1, (i_3+i_2))⋅S(q, p, (k+(i_5⋅-1.0)), (k+(i_3⋅-1.0)+(i_5⋅-1.0)))⋅S(q, i_0, (i_3+i_2), i_2)'))))))+∑((b, p), (U(p, i_1, (i_2+(b⋅-1.0)))⋅S(p, i_0, (i_2+(b⋅-1.0)), i_2)'⋅∑((k, q), (U(q, i_1, (b+k))⋅∑((p), (S(p, q, k, (b+k))⋅U(p, i_1, k)')))))))⋅2.0)\n",
      "undirected\n",
      "\n",
      " 62.703562 seconds (64.86 M allocations: 2.965 GiB, 0.40% gc time)\n",
      "86 shift\n",
      "((∑((k), (∑((i_0), U(i_0, i_1, (k+(i_5⋅-1.0)))')⋅∑((i_3, p), (U(p, i_1, (k+(i_3⋅-1.0)+(i_5⋅-1.0)))⋅∑((q), (U(q, i_1, (i_3+i_2))⋅S(q, p, (k+(i_5⋅-1.0)), (k+(i_3⋅-1.0)+(i_5⋅-1.0)))⋅S(q, i_0, (i_3+i_2), i_2)'))))))+∑((b, p), (U(p, i_1, (i_2+(b⋅-1.0)))⋅S(p, i_0, (i_2+(b⋅-1.0)), i_2)'⋅∑((k, q), (U(q, i_1, (b+k))⋅∑((p), (S(p, q, k, (b+k))⋅U(p, i_1, k)')))))))⋅2.0)\n",
      "((∑((k), (∑((i_0), U(i_0, i_1, k)')⋅∑((i_3, p), (U(p, i_1, (k+(i_3⋅-1.0)))⋅∑((q), (U(q, i_1, (i_3+i_2))⋅S(q, p, k, (k+(i_3⋅-1.0)))⋅S(q, i_0, (i_3+i_2), i_2)'))))))+∑((b, p), (U(p, i_1, (i_2+(b⋅-1.0)))⋅S(p, i_0, (i_2+(b⋅-1.0)), i_2)'⋅∑((k, q), (U(q, i_1, (b+k))⋅∑((p), (S(p, q, k, (b+k))⋅U(p, i_1, k)')))))))⋅2.0)\n",
      "undirected\n",
      "\n",
      "  4.517334 seconds (52.63 M allocations: 2.407 GiB, 4.19% gc time)\n",
      "87 shift\n",
      "((∑((k), (∑((i_0), U(i_0, i_1, k)')⋅∑((i_3, p), (U(p, i_1, (k+(i_3⋅-1.0)))⋅∑((q), (U(q, i_1, (i_3+i_2))⋅S(q, p, k, (k+(i_3⋅-1.0)))⋅S(q, i_0, (i_3+i_2), i_2)'))))))+∑((b, p), (U(p, i_1, (i_2+(b⋅-1.0)))⋅S(p, i_0, (i_2+(b⋅-1.0)), i_2)'⋅∑((k, q), (U(q, i_1, (b+k))⋅∑((p), (S(p, q, k, (b+k))⋅U(p, i_1, k)')))))))⋅2.0)\n",
      "((∑((k), (∑((i_0), U(i_0, i_1, (i_3+k))')⋅∑((i_4, p), (U(p, i_1, (i_3+k+(i_4⋅-1.0)))⋅∑((q), (U(q, i_1, (i_4+i_2))⋅S(q, p, (i_3+k), (i_3+k+(i_4⋅-1.0)))⋅S(q, i_0, (i_4+i_2), i_2)'))))))+∑((b, p), (U(p, i_1, (i_2+(b⋅-1.0)))⋅S(p, i_0, (i_2+(b⋅-1.0)), i_2)'⋅∑((k, q), (U(q, i_1, (b+k))⋅∑((p), (S(p, q, k, (b+k))⋅U(p, i_1, k)')))))))⋅2.0)\n",
      "undirected\n",
      "\n",
      "  4.483406 seconds (52.80 M allocations: 2.419 GiB, 4.24% gc time)\n",
      "88 shift\n",
      "((∑((k), (∑((i_0), U(i_0, i_1, (i_3+k))')⋅∑((i_4, p), (U(p, i_1, (i_3+k+(i_4⋅-1.0)))⋅∑((q), (U(q, i_1, (i_4+i_2))⋅S(q, p, (i_3+k), (i_3+k+(i_4⋅-1.0)))⋅S(q, i_0, (i_4+i_2), i_2)'))))))+∑((b, p), (U(p, i_1, (i_2+(b⋅-1.0)))⋅S(p, i_0, (i_2+(b⋅-1.0)), i_2)'⋅∑((k, q), (U(q, i_1, (b+k))⋅∑((p), (S(p, q, k, (b+k))⋅U(p, i_1, k)')))))))⋅2.0)\n",
      "((∑((k), (∑((i_0), U(i_0, i_1, k)')⋅∑((i_4, p), (U(p, i_1, (k+(i_4⋅-1.0)))⋅∑((q), (U(q, i_1, (i_4+i_2))⋅S(q, p, k, (k+(i_4⋅-1.0)))⋅S(q, i_0, (i_4+i_2), i_2)'))))))+∑((b, p), (U(p, i_1, (i_2+(b⋅-1.0)))⋅S(p, i_0, (i_2+(b⋅-1.0)), i_2)'⋅∑((k, q), (U(q, i_1, (b+k))⋅∑((p), (S(p, q, k, (b+k))⋅U(p, i_1, k)')))))))⋅2.0)\n",
      "undirected\n",
      "\n",
      "107.393506 seconds (49.75 M allocations: 2.277 GiB, 95.89% gc time)\n",
      "89 shift\n",
      "((∑((k), (∑((i_0), U(i_0, i_1, k)')⋅∑((i_4, p), (U(p, i_1, (k+(i_4⋅-1.0)))⋅∑((q), (U(q, i_1, (i_4+i_2))⋅S(q, p, k, (k+(i_4⋅-1.0)))⋅S(q, i_0, (i_4+i_2), i_2)'))))))+∑((b, p), (U(p, i_1, (i_2+(b⋅-1.0)))⋅S(p, i_0, (i_2+(b⋅-1.0)), i_2)'⋅∑((k, q), (U(q, i_1, (b+k))⋅∑((p), (S(p, q, k, (b+k))⋅U(p, i_1, k)')))))))⋅2.0)\n",
      "((∑((k), (∑((i_0), U(i_0, i_1, (i_4+k))')⋅∑((i_3, p), (U(p, i_1, (i_4+k+(i_3⋅-1.0)))⋅∑((q), (U(q, i_1, (i_3+i_2))⋅S(q, p, (i_4+k), (i_4+k+(i_3⋅-1.0)))⋅S(q, i_0, (i_3+i_2), i_2)'))))))+∑((b, p), (U(p, i_1, (i_2+(b⋅-1.0)))⋅S(p, i_0, (i_2+(b⋅-1.0)), i_2)'⋅∑((k, q), (U(q, i_1, (b+k))⋅∑((p), (S(p, q, k, (b+k))⋅U(p, i_1, k)')))))))⋅2.0)\n",
      "undirected\n",
      "\n",
      "  4.411771 seconds (52.21 M allocations: 2.391 GiB, 4.73% gc time)\n",
      "90 shift\n",
      "((∑((k), (∑((i_0), U(i_0, i_1, (i_4+k))')⋅∑((i_3, p), (U(p, i_1, (i_4+k+(i_3⋅-1.0)))⋅∑((q), (U(q, i_1, (i_3+i_2))⋅S(q, p, (i_4+k), (i_4+k+(i_3⋅-1.0)))⋅S(q, i_0, (i_3+i_2), i_2)'))))))+∑((b, p), (U(p, i_1, (i_2+(b⋅-1.0)))⋅S(p, i_0, (i_2+(b⋅-1.0)), i_2)'⋅∑((k, q), (U(q, i_1, (b+k))⋅∑((p), (S(p, q, k, (b+k))⋅U(p, i_1, k)')))))))⋅2.0)\n",
      "((∑((k), (∑((i_0), U(i_0, i_1, (i_3+k))')⋅∑((i_5, p), (U(p, i_1, (i_3+k+(i_5⋅-1.0)))⋅∑((q), (U(q, i_1, (i_5+i_2))⋅S(q, p, (i_3+k), (i_3+k+(i_5⋅-1.0)))⋅S(q, i_0, (i_5+i_2), i_2)'))))))+∑((b, p), (U(p, i_1, (i_2+(b⋅-1.0)))⋅S(p, i_0, (i_2+(b⋅-1.0)), i_2)'⋅∑((k, q), (U(q, i_1, (b+k))⋅∑((p), (S(p, q, k, (b+k))⋅U(p, i_1, k)')))))))⋅2.0)\n",
      "undirected\n",
      "\n"
     ]
    },
    {
     "name": "stdout",
     "output_type": "stream",
     "text": [
      "  4.926050 seconds (57.44 M allocations: 2.631 GiB, 4.23% gc time)\n",
      "91 shift\n",
      "((∑((k), (∑((i_0), U(i_0, i_1, (i_3+k))')⋅∑((i_5, p), (U(p, i_1, (i_3+k+(i_5⋅-1.0)))⋅∑((q), (U(q, i_1, (i_5+i_2))⋅S(q, p, (i_3+k), (i_3+k+(i_5⋅-1.0)))⋅S(q, i_0, (i_5+i_2), i_2)'))))))+∑((b, p), (U(p, i_1, (i_2+(b⋅-1.0)))⋅S(p, i_0, (i_2+(b⋅-1.0)), i_2)'⋅∑((k, q), (U(q, i_1, (b+k))⋅∑((p), (S(p, q, k, (b+k))⋅U(p, i_1, k)')))))))⋅2.0)\n",
      "((∑((k), (∑((i_0), U(i_0, i_1, k)')⋅∑((i_5, p), (U(p, i_1, (k+(i_5⋅-1.0)))⋅∑((q), (U(q, i_1, (i_5+i_2))⋅S(q, p, k, (k+(i_5⋅-1.0)))⋅S(q, i_0, (i_5+i_2), i_2)'))))))+∑((b, p), (U(p, i_1, (i_2+(b⋅-1.0)))⋅S(p, i_0, (i_2+(b⋅-1.0)), i_2)'⋅∑((k, q), (U(q, i_1, (b+k))⋅∑((p), (S(p, q, k, (b+k))⋅U(p, i_1, k)')))))))⋅2.0)\n",
      "undirected\n",
      "\n",
      " 57.661362 seconds (52.96 M allocations: 2.423 GiB, 0.34% gc time)\n",
      "92 shift\n",
      "((∑((k), (∑((i_0), U(i_0, i_1, k)')⋅∑((i_5, p), (U(p, i_1, (k+(i_5⋅-1.0)))⋅∑((q), (U(q, i_1, (i_5+i_2))⋅S(q, p, k, (k+(i_5⋅-1.0)))⋅S(q, i_0, (i_5+i_2), i_2)'))))))+∑((b, p), (U(p, i_1, (i_2+(b⋅-1.0)))⋅S(p, i_0, (i_2+(b⋅-1.0)), i_2)'⋅∑((k, q), (U(q, i_1, (b+k))⋅∑((p), (S(p, q, k, (b+k))⋅U(p, i_1, k)')))))))⋅2.0)\n",
      "((∑((k), (∑((i_0), U(i_0, i_1, (k+i_5))')⋅∑((i_3, p), (U(p, i_1, (k+i_5+(i_3⋅-1.0)))⋅∑((q), (U(q, i_1, (i_3+i_2))⋅S(q, p, (k+i_5), (k+i_5+(i_3⋅-1.0)))⋅S(q, i_0, (i_3+i_2), i_2)'))))))+∑((b, p), (U(p, i_1, (i_2+(b⋅-1.0)))⋅S(p, i_0, (i_2+(b⋅-1.0)), i_2)'⋅∑((k, q), (U(q, i_1, (b+k))⋅∑((p), (S(p, q, k, (b+k))⋅U(p, i_1, k)')))))))⋅2.0)\n",
      "undirected\n",
      "\n",
      "  4.810934 seconds (53.91 M allocations: 2.468 GiB, 4.45% gc time)\n",
      "93 sum_sym\n",
      "((∑((k), (∑((i_0), U(i_0, i_1, (k+i_5))')⋅∑((i_3, p), (U(p, i_1, (k+i_5+(i_3⋅-1.0)))⋅∑((q), (U(q, i_1, (i_3+i_2))⋅S(q, p, (k+i_5), (k+i_5+(i_3⋅-1.0)))⋅S(q, i_0, (i_3+i_2), i_2)'))))))+∑((b, p), (U(p, i_1, (i_2+(b⋅-1.0)))⋅S(p, i_0, (i_2+(b⋅-1.0)), i_2)'⋅∑((k, q), (U(q, i_1, (b+k))⋅∑((p), (S(p, q, k, (b+k))⋅U(p, i_1, k)')))))))⋅2.0)\n",
      "((∑((k), (∑((i_0), U(i_0, i_1, (k+i_5))')⋅∑((i_3, p), (U(p, i_1, (i_3+k+i_5))⋅∑((q), (U(q, i_1, (i_2+(i_3⋅-1.0)))⋅S(q, p, (k+i_5), (i_3+k+i_5))⋅S(q, i_0, (i_2+(i_3⋅-1.0)), i_2)'))))))+∑((b, p), (U(p, i_1, (i_2+(b⋅-1.0)))⋅S(p, i_0, (i_2+(b⋅-1.0)), i_2)'⋅∑((k, q), (U(q, i_1, (b+k))⋅∑((p), (S(p, q, k, (b+k))⋅U(p, i_1, k)')))))))⋅2.0)\n",
      "undirected\n",
      "\n",
      "  4.569410 seconds (53.95 M allocations: 2.468 GiB, 4.51% gc time)\n",
      "94 shift\n",
      "((∑((k), (∑((i_0), U(i_0, i_1, (k+i_5))')⋅∑((i_3, p), (U(p, i_1, (i_3+k+i_5))⋅∑((q), (U(q, i_1, (i_2+(i_3⋅-1.0)))⋅S(q, p, (k+i_5), (i_3+k+i_5))⋅S(q, i_0, (i_2+(i_3⋅-1.0)), i_2)'))))))+∑((b, p), (U(p, i_1, (i_2+(b⋅-1.0)))⋅S(p, i_0, (i_2+(b⋅-1.0)), i_2)'⋅∑((k, q), (U(q, i_1, (b+k))⋅∑((p), (S(p, q, k, (b+k))⋅U(p, i_1, k)')))))))⋅2.0)\n",
      "((∑((k), (∑((i_0), U(i_0, i_1, k)')⋅∑((i_3, p), (U(p, i_1, (i_3+k))⋅∑((q), (U(q, i_1, (i_2+(i_3⋅-1.0)))⋅S(q, p, k, (i_3+k))⋅S(q, i_0, (i_2+(i_3⋅-1.0)), i_2)'))))))+∑((b, p), (U(p, i_1, (i_2+(b⋅-1.0)))⋅S(p, i_0, (i_2+(b⋅-1.0)), i_2)'⋅∑((k, q), (U(q, i_1, (b+k))⋅∑((p), (S(p, q, k, (b+k))⋅U(p, i_1, k)')))))))⋅2.0)\n",
      "undirected\n",
      "\n",
      "  4.214644 seconds (49.55 M allocations: 2.266 GiB, 4.46% gc time)\n",
      "95 shift\n",
      "((∑((k), (∑((i_0), U(i_0, i_1, k)')⋅∑((i_3, p), (U(p, i_1, (i_3+k))⋅∑((q), (U(q, i_1, (i_2+(i_3⋅-1.0)))⋅S(q, p, k, (i_3+k))⋅S(q, i_0, (i_2+(i_3⋅-1.0)), i_2)'))))))+∑((b, p), (U(p, i_1, (i_2+(b⋅-1.0)))⋅S(p, i_0, (i_2+(b⋅-1.0)), i_2)'⋅∑((k, q), (U(q, i_1, (b+k))⋅∑((p), (S(p, q, k, (b+k))⋅U(p, i_1, k)')))))))⋅2.0)\n",
      "((∑((k), (∑((i_0), U(i_0, i_1, (k+(i_3⋅-1.0)))')⋅∑((i_4, p), (U(p, i_1, (i_4+k+(i_3⋅-1.0)))⋅∑((q), (U(q, i_1, (i_2+(i_4⋅-1.0)))⋅S(q, p, (k+(i_3⋅-1.0)), (i_4+k+(i_3⋅-1.0)))⋅S(q, i_0, (i_2+(i_4⋅-1.0)), i_2)'))))))+∑((b, p), (U(p, i_1, (i_2+(b⋅-1.0)))⋅S(p, i_0, (i_2+(b⋅-1.0)), i_2)'⋅∑((k, q), (U(q, i_1, (b+k))⋅∑((p), (S(p, q, k, (b+k))⋅U(p, i_1, k)')))))))⋅2.0)\n",
      "undirected\n",
      "\n",
      "  5.465971 seconds (64.88 M allocations: 2.964 GiB, 4.20% gc time)\n",
      "96 shift\n",
      "((∑((k), (∑((i_0), U(i_0, i_1, (k+(i_3⋅-1.0)))')⋅∑((i_4, p), (U(p, i_1, (i_4+k+(i_3⋅-1.0)))⋅∑((q), (U(q, i_1, (i_2+(i_4⋅-1.0)))⋅S(q, p, (k+(i_3⋅-1.0)), (i_4+k+(i_3⋅-1.0)))⋅S(q, i_0, (i_2+(i_4⋅-1.0)), i_2)'))))))+∑((b, p), (U(p, i_1, (i_2+(b⋅-1.0)))⋅S(p, i_0, (i_2+(b⋅-1.0)), i_2)'⋅∑((k, q), (U(q, i_1, (b+k))⋅∑((p), (S(p, q, k, (b+k))⋅U(p, i_1, k)')))))))⋅2.0)\n",
      "((∑((k), (∑((i_0), U(i_0, i_1, k)')⋅∑((i_4, p), (U(p, i_1, (i_4+k))⋅∑((q), (U(q, i_1, (i_2+(i_4⋅-1.0)))⋅S(q, p, k, (i_4+k))⋅S(q, i_0, (i_2+(i_4⋅-1.0)), i_2)'))))))+∑((b, p), (U(p, i_1, (i_2+(b⋅-1.0)))⋅S(p, i_0, (i_2+(b⋅-1.0)), i_2)'⋅∑((k, q), (U(q, i_1, (b+k))⋅∑((p), (S(p, q, k, (b+k))⋅U(p, i_1, k)')))))))⋅2.0)\n",
      "undirected\n",
      "\n",
      " 30.258762 seconds (52.41 M allocations: 2.398 GiB, 0.63% gc time)\n",
      "97 shift\n",
      "((∑((k), (∑((i_0), U(i_0, i_1, k)')⋅∑((i_4, p), (U(p, i_1, (i_4+k))⋅∑((q), (U(q, i_1, (i_2+(i_4⋅-1.0)))⋅S(q, p, k, (i_4+k))⋅S(q, i_0, (i_2+(i_4⋅-1.0)), i_2)'))))))+∑((b, p), (U(p, i_1, (i_2+(b⋅-1.0)))⋅S(p, i_0, (i_2+(b⋅-1.0)), i_2)'⋅∑((k, q), (U(q, i_1, (b+k))⋅∑((p), (S(p, q, k, (b+k))⋅U(p, i_1, k)')))))))⋅2.0)\n",
      "((∑((k), (∑((i_0), U(i_0, i_1, (k+(i_4⋅-1.0)))')⋅∑((i_3, p), (U(p, i_1, (i_3+k+(i_4⋅-1.0)))⋅∑((q), (U(q, i_1, (i_2+(i_3⋅-1.0)))⋅S(q, p, (k+(i_4⋅-1.0)), (i_3+k+(i_4⋅-1.0)))⋅S(q, i_0, (i_2+(i_3⋅-1.0)), i_2)'))))))+∑((b, p), (U(p, i_1, (i_2+(b⋅-1.0)))⋅S(p, i_0, (i_2+(b⋅-1.0)), i_2)'⋅∑((k, q), (U(q, i_1, (b+k))⋅∑((p), (S(p, q, k, (b+k))⋅U(p, i_1, k)')))))))⋅2.0)\n",
      "undirected\n",
      "\n",
      "  4.821200 seconds (55.46 M allocations: 2.535 GiB, 4.35% gc time)\n",
      "98 shift\n",
      "((∑((k), (∑((i_0), U(i_0, i_1, (k+(i_4⋅-1.0)))')⋅∑((i_3, p), (U(p, i_1, (i_3+k+(i_4⋅-1.0)))⋅∑((q), (U(q, i_1, (i_2+(i_3⋅-1.0)))⋅S(q, p, (k+(i_4⋅-1.0)), (i_3+k+(i_4⋅-1.0)))⋅S(q, i_0, (i_2+(i_3⋅-1.0)), i_2)'))))))+∑((b, p), (U(p, i_1, (i_2+(b⋅-1.0)))⋅S(p, i_0, (i_2+(b⋅-1.0)), i_2)'⋅∑((k, q), (U(q, i_1, (b+k))⋅∑((p), (S(p, q, k, (b+k))⋅U(p, i_1, k)')))))))⋅2.0)\n",
      "((∑((k), (∑((i_0), U(i_0, i_1, (k+(i_3⋅-1.0)))')⋅∑((i_5, p), (U(p, i_1, (k+i_5+(i_3⋅-1.0)))⋅∑((q), (U(q, i_1, (i_2+(i_5⋅-1.0)))⋅S(q, p, (k+(i_3⋅-1.0)), (k+i_5+(i_3⋅-1.0)))⋅S(q, i_0, (i_2+(i_5⋅-1.0)), i_2)'))))))+∑((b, p), (U(p, i_1, (i_2+(b⋅-1.0)))⋅S(p, i_0, (i_2+(b⋅-1.0)), i_2)'⋅∑((k, q), (U(q, i_1, (b+k))⋅∑((p), (S(p, q, k, (b+k))⋅U(p, i_1, k)')))))))⋅2.0)\n",
      "undirected\n",
      "\n",
      "  5.571118 seconds (64.40 M allocations: 2.943 GiB, 4.06% gc time)\n",
      "99 shift\n",
      "((∑((k), (∑((i_0), U(i_0, i_1, (k+(i_3⋅-1.0)))')⋅∑((i_5, p), (U(p, i_1, (k+i_5+(i_3⋅-1.0)))⋅∑((q), (U(q, i_1, (i_2+(i_5⋅-1.0)))⋅S(q, p, (k+(i_3⋅-1.0)), (k+i_5+(i_3⋅-1.0)))⋅S(q, i_0, (i_2+(i_5⋅-1.0)), i_2)'))))))+∑((b, p), (U(p, i_1, (i_2+(b⋅-1.0)))⋅S(p, i_0, (i_2+(b⋅-1.0)), i_2)'⋅∑((k, q), (U(q, i_1, (b+k))⋅∑((p), (S(p, q, k, (b+k))⋅U(p, i_1, k)')))))))⋅2.0)\n",
      "((∑((k), (∑((i_0), U(i_0, i_1, k)')⋅∑((i_5, p), (U(p, i_1, (k+i_5))⋅∑((q), (U(q, i_1, (i_2+(i_5⋅-1.0)))⋅S(q, p, k, (k+i_5))⋅S(q, i_0, (i_2+(i_5⋅-1.0)), i_2)'))))))+∑((b, p), (U(p, i_1, (i_2+(b⋅-1.0)))⋅S(p, i_0, (i_2+(b⋅-1.0)), i_2)'⋅∑((k, q), (U(q, i_1, (b+k))⋅∑((p), (S(p, q, k, (b+k))⋅U(p, i_1, k)')))))))⋅2.0)\n",
      "undirected\n",
      "\n",
      "  5.544749 seconds (61.18 M allocations: 2.799 GiB, 4.16% gc time)\n",
      "100 shift\n",
      "((∑((k), (∑((i_0), U(i_0, i_1, k)')⋅∑((i_5, p), (U(p, i_1, (k+i_5))⋅∑((q), (U(q, i_1, (i_2+(i_5⋅-1.0)))⋅S(q, p, k, (k+i_5))⋅S(q, i_0, (i_2+(i_5⋅-1.0)), i_2)'))))))+∑((b, p), (U(p, i_1, (i_2+(b⋅-1.0)))⋅S(p, i_0, (i_2+(b⋅-1.0)), i_2)'⋅∑((k, q), (U(q, i_1, (b+k))⋅∑((p), (S(p, q, k, (b+k))⋅U(p, i_1, k)')))))))⋅2.0)\n",
      "((∑((k), (∑((i_0), U(i_0, i_1, (k+(i_5⋅-1.0)))')⋅∑((i_3, p), (U(p, i_1, (i_3+k+(i_5⋅-1.0)))⋅∑((q), (U(q, i_1, (i_2+(i_3⋅-1.0)))⋅S(q, p, (k+(i_5⋅-1.0)), (i_3+k+(i_5⋅-1.0)))⋅S(q, i_0, (i_2+(i_3⋅-1.0)), i_2)'))))))+∑((b, p), (U(p, i_1, (i_2+(b⋅-1.0)))⋅S(p, i_0, (i_2+(b⋅-1.0)), i_2)'⋅∑((k, q), (U(q, i_1, (b+k))⋅∑((p), (S(p, q, k, (b+k))⋅U(p, i_1, k)')))))))⋅2.0)\n",
      "undirected\n",
      "\n",
      " 67.065352 seconds (67.10 M allocations: 3.066 GiB, 0.37% gc time)\n",
      "101 symmetry\n",
      "((∑((k), (∑((i_0), U(i_0, i_1, (k+(i_5⋅-1.0)))')⋅∑((i_3, p), (U(p, i_1, (i_3+k+(i_5⋅-1.0)))⋅∑((q), (U(q, i_1, (i_2+(i_3⋅-1.0)))⋅S(q, p, (k+(i_5⋅-1.0)), (i_3+k+(i_5⋅-1.0)))⋅S(q, i_0, (i_2+(i_3⋅-1.0)), i_2)'))))))+∑((b, p), (U(p, i_1, (i_2+(b⋅-1.0)))⋅S(p, i_0, (i_2+(b⋅-1.0)), i_2)'⋅∑((k, q), (U(q, i_1, (b+k))⋅∑((p), (S(p, q, k, (b+k))⋅U(p, i_1, k)')))))))⋅2.0)\n",
      "((∑((k), (∑((i_0), U(i_0, i_1, (k+(i_5⋅-1.0)))')⋅∑((i_3, p), (U(p, i_1, (i_3+k+(i_5⋅-1.0)))⋅∑((q), (U(q, i_1, (i_2+(i_3⋅-1.0)))⋅S(q, p, (k+(i_5⋅-1.0)), (i_3+k+(i_5⋅-1.0)))⋅S(i_0, q, i_2, (i_2+(i_3⋅-1.0)))))))))+∑((b, p), (U(p, i_1, (i_2+(b⋅-1.0)))⋅S(p, i_0, (i_2+(b⋅-1.0)), i_2)'⋅∑((k, q), (U(q, i_1, (b+k))⋅∑((p), (S(p, q, k, (b+k))⋅U(p, i_1, k)')))))))⋅2.0)\n",
      "undirected\n",
      "\n"
     ]
    },
    {
     "name": "stdout",
     "output_type": "stream",
     "text": [
      "  5.705979 seconds (65.90 M allocations: 3.013 GiB, 4.63% gc time)\n",
      "102 shift\n",
      "((∑((k), (∑((i_0), U(i_0, i_1, (k+(i_5⋅-1.0)))')⋅∑((i_3, p), (U(p, i_1, (i_3+k+(i_5⋅-1.0)))⋅∑((q), (U(q, i_1, (i_2+(i_3⋅-1.0)))⋅S(q, p, (k+(i_5⋅-1.0)), (i_3+k+(i_5⋅-1.0)))⋅S(i_0, q, i_2, (i_2+(i_3⋅-1.0)))))))))+∑((b, p), (U(p, i_1, (i_2+(b⋅-1.0)))⋅S(p, i_0, (i_2+(b⋅-1.0)), i_2)'⋅∑((k, q), (U(q, i_1, (b+k))⋅∑((p), (S(p, q, k, (b+k))⋅U(p, i_1, k)')))))))⋅2.0)\n",
      "((∑((k), (∑((i_0), U(i_0, i_1, k)')⋅∑((i_3, p), (U(p, i_1, (i_3+k))⋅∑((q), (U(q, i_1, (i_2+(i_3⋅-1.0)))⋅S(q, p, k, (i_3+k))⋅S(i_0, q, i_2, (i_2+(i_3⋅-1.0)))))))))+∑((b, p), (U(p, i_1, (i_2+(b⋅-1.0)))⋅S(p, i_0, (i_2+(b⋅-1.0)), i_2)'⋅∑((k, q), (U(q, i_1, (b+k))⋅∑((p), (S(p, q, k, (b+k))⋅U(p, i_1, k)')))))))⋅2.0)\n",
      "undirected\n",
      "\n",
      "  5.025871 seconds (56.63 M allocations: 2.591 GiB, 4.41% gc time)\n",
      "103 shift\n",
      "((∑((k), (∑((i_0), U(i_0, i_1, k)')⋅∑((i_3, p), (U(p, i_1, (i_3+k))⋅∑((q), (U(q, i_1, (i_2+(i_3⋅-1.0)))⋅S(q, p, k, (i_3+k))⋅S(i_0, q, i_2, (i_2+(i_3⋅-1.0)))))))))+∑((b, p), (U(p, i_1, (i_2+(b⋅-1.0)))⋅S(p, i_0, (i_2+(b⋅-1.0)), i_2)'⋅∑((k, q), (U(q, i_1, (b+k))⋅∑((p), (S(p, q, k, (b+k))⋅U(p, i_1, k)')))))))⋅2.0)\n",
      "((∑((k), (∑((i_0), U(i_0, i_1, (k+(i_3⋅-1.0)))')⋅∑((i_4, p), (U(p, i_1, (i_4+k+(i_3⋅-1.0)))⋅∑((q), (U(q, i_1, (i_2+(i_4⋅-1.0)))⋅S(q, p, (k+(i_3⋅-1.0)), (i_4+k+(i_3⋅-1.0)))⋅S(i_0, q, i_2, (i_2+(i_4⋅-1.0)))))))))+∑((b, p), (U(p, i_1, (i_2+(b⋅-1.0)))⋅S(p, i_0, (i_2+(b⋅-1.0)), i_2)'⋅∑((k, q), (U(q, i_1, (b+k))⋅∑((p), (S(p, q, k, (b+k))⋅U(p, i_1, k)')))))))⋅2.0)\n",
      "undirected\n",
      "\n",
      "  5.763417 seconds (67.24 M allocations: 3.072 GiB, 4.26% gc time)\n",
      "104 shift\n",
      "((∑((k), (∑((i_0), U(i_0, i_1, (k+(i_3⋅-1.0)))')⋅∑((i_4, p), (U(p, i_1, (i_4+k+(i_3⋅-1.0)))⋅∑((q), (U(q, i_1, (i_2+(i_4⋅-1.0)))⋅S(q, p, (k+(i_3⋅-1.0)), (i_4+k+(i_3⋅-1.0)))⋅S(i_0, q, i_2, (i_2+(i_4⋅-1.0)))))))))+∑((b, p), (U(p, i_1, (i_2+(b⋅-1.0)))⋅S(p, i_0, (i_2+(b⋅-1.0)), i_2)'⋅∑((k, q), (U(q, i_1, (b+k))⋅∑((p), (S(p, q, k, (b+k))⋅U(p, i_1, k)')))))))⋅2.0)\n",
      "((∑((k), (∑((i_0), U(i_0, i_1, k)')⋅∑((i_4, p), (U(p, i_1, (i_4+k))⋅∑((q), (U(q, i_1, (i_2+(i_4⋅-1.0)))⋅S(q, p, k, (i_4+k))⋅S(i_0, q, i_2, (i_2+(i_4⋅-1.0)))))))))+∑((b, p), (U(p, i_1, (i_2+(b⋅-1.0)))⋅S(p, i_0, (i_2+(b⋅-1.0)), i_2)'⋅∑((k, q), (U(q, i_1, (b+k))⋅∑((p), (S(p, q, k, (b+k))⋅U(p, i_1, k)')))))))⋅2.0)\n",
      "undirected\n",
      "\n",
      " 23.393004 seconds (51.07 M allocations: 2.337 GiB, 81.56% gc time)\n",
      "105 shift\n",
      "((∑((k), (∑((i_0), U(i_0, i_1, k)')⋅∑((i_4, p), (U(p, i_1, (i_4+k))⋅∑((q), (U(q, i_1, (i_2+(i_4⋅-1.0)))⋅S(q, p, k, (i_4+k))⋅S(i_0, q, i_2, (i_2+(i_4⋅-1.0)))))))))+∑((b, p), (U(p, i_1, (i_2+(b⋅-1.0)))⋅S(p, i_0, (i_2+(b⋅-1.0)), i_2)'⋅∑((k, q), (U(q, i_1, (b+k))⋅∑((p), (S(p, q, k, (b+k))⋅U(p, i_1, k)')))))))⋅2.0)\n",
      "((∑((k), (∑((i_0), U(i_0, i_1, (k+(i_4⋅-1.0)))')⋅∑((i_3, p), (U(p, i_1, (i_3+k+(i_4⋅-1.0)))⋅∑((q), (U(q, i_1, (i_2+(i_3⋅-1.0)))⋅S(q, p, (k+(i_4⋅-1.0)), (i_3+k+(i_4⋅-1.0)))⋅S(i_0, q, i_2, (i_2+(i_3⋅-1.0)))))))))+∑((b, p), (U(p, i_1, (i_2+(b⋅-1.0)))⋅S(p, i_0, (i_2+(b⋅-1.0)), i_2)'⋅∑((k, q), (U(q, i_1, (b+k))⋅∑((p), (S(p, q, k, (b+k))⋅U(p, i_1, k)')))))))⋅2.0)\n",
      "undirected\n",
      "\n",
      "  5.707327 seconds (64.63 M allocations: 2.954 GiB, 4.37% gc time)\n",
      "106 shift\n",
      "((∑((k), (∑((i_0), U(i_0, i_1, (k+(i_4⋅-1.0)))')⋅∑((i_3, p), (U(p, i_1, (i_3+k+(i_4⋅-1.0)))⋅∑((q), (U(q, i_1, (i_2+(i_3⋅-1.0)))⋅S(q, p, (k+(i_4⋅-1.0)), (i_3+k+(i_4⋅-1.0)))⋅S(i_0, q, i_2, (i_2+(i_3⋅-1.0)))))))))+∑((b, p), (U(p, i_1, (i_2+(b⋅-1.0)))⋅S(p, i_0, (i_2+(b⋅-1.0)), i_2)'⋅∑((k, q), (U(q, i_1, (b+k))⋅∑((p), (S(p, q, k, (b+k))⋅U(p, i_1, k)')))))))⋅2.0)\n",
      "((∑((k), (∑((i_0), U(i_0, i_1, (k+(i_3⋅-1.0)))')⋅∑((i_5, p), (U(p, i_1, (k+i_5+(i_3⋅-1.0)))⋅∑((q), (U(q, i_1, (i_2+(i_5⋅-1.0)))⋅S(q, p, (k+(i_3⋅-1.0)), (k+i_5+(i_3⋅-1.0)))⋅S(i_0, q, i_2, (i_2+(i_5⋅-1.0)))))))))+∑((b, p), (U(p, i_1, (i_2+(b⋅-1.0)))⋅S(p, i_0, (i_2+(b⋅-1.0)), i_2)'⋅∑((k, q), (U(q, i_1, (b+k))⋅∑((p), (S(p, q, k, (b+k))⋅U(p, i_1, k)')))))))⋅2.0)\n",
      "undirected\n",
      "\n",
      "582.291116 seconds (69.60 M allocations: 3.181 GiB, 0.05% gc time)\n",
      "107 shift\n",
      "((∑((k), (∑((i_0), U(i_0, i_1, (k+(i_3⋅-1.0)))')⋅∑((i_5, p), (U(p, i_1, (k+i_5+(i_3⋅-1.0)))⋅∑((q), (U(q, i_1, (i_2+(i_5⋅-1.0)))⋅S(q, p, (k+(i_3⋅-1.0)), (k+i_5+(i_3⋅-1.0)))⋅S(i_0, q, i_2, (i_2+(i_5⋅-1.0)))))))))+∑((b, p), (U(p, i_1, (i_2+(b⋅-1.0)))⋅S(p, i_0, (i_2+(b⋅-1.0)), i_2)'⋅∑((k, q), (U(q, i_1, (b+k))⋅∑((p), (S(p, q, k, (b+k))⋅U(p, i_1, k)')))))))⋅2.0)\n",
      "((∑((k), (∑((i_0), U(i_0, i_1, k)')⋅∑((i_5, p), (U(p, i_1, (k+i_5))⋅∑((q), (U(q, i_1, (i_2+(i_5⋅-1.0)))⋅S(q, p, k, (k+i_5))⋅S(i_0, q, i_2, (i_2+(i_5⋅-1.0)))))))))+∑((b, p), (U(p, i_1, (i_2+(b⋅-1.0)))⋅S(p, i_0, (i_2+(b⋅-1.0)), i_2)'⋅∑((k, q), (U(q, i_1, (b+k))⋅∑((p), (S(p, q, k, (b+k))⋅U(p, i_1, k)')))))))⋅2.0)\n",
      "undirected\n",
      "\n",
      "  6.267294 seconds (62.83 M allocations: 2.875 GiB, 4.16% gc time)\n",
      "108 sum_sym\n",
      "((∑((k), (∑((i_0), U(i_0, i_1, k)')⋅∑((i_5, p), (U(p, i_1, (k+i_5))⋅∑((q), (U(q, i_1, (i_2+(i_5⋅-1.0)))⋅S(q, p, k, (k+i_5))⋅S(i_0, q, i_2, (i_2+(i_5⋅-1.0)))))))))+∑((b, p), (U(p, i_1, (i_2+(b⋅-1.0)))⋅S(p, i_0, (i_2+(b⋅-1.0)), i_2)'⋅∑((k, q), (U(q, i_1, (b+k))⋅∑((p), (S(p, q, k, (b+k))⋅U(p, i_1, k)')))))))⋅2.0)\n",
      "((∑((k), (∑((i_0), U(i_0, i_1, k)')⋅∑((i_5, p), (U(p, i_1, (k+(i_5⋅-1.0)))⋅∑((q), (U(q, i_1, (i_5+i_2))⋅S(q, p, k, (k+(i_5⋅-1.0)))⋅S(i_0, q, i_2, (i_5+i_2))))))))+∑((b, p), (U(p, i_1, (i_2+(b⋅-1.0)))⋅S(p, i_0, (i_2+(b⋅-1.0)), i_2)'⋅∑((k, q), (U(q, i_1, (b+k))⋅∑((p), (S(p, q, k, (b+k))⋅U(p, i_1, k)')))))))⋅2.0)\n",
      "undirected\n",
      "\n",
      "  5.424649 seconds (59.19 M allocations: 2.709 GiB, 4.43% gc time)\n",
      "109 shift\n",
      "((∑((k), (∑((i_0), U(i_0, i_1, k)')⋅∑((i_5, p), (U(p, i_1, (k+(i_5⋅-1.0)))⋅∑((q), (U(q, i_1, (i_5+i_2))⋅S(q, p, k, (k+(i_5⋅-1.0)))⋅S(i_0, q, i_2, (i_5+i_2))))))))+∑((b, p), (U(p, i_1, (i_2+(b⋅-1.0)))⋅S(p, i_0, (i_2+(b⋅-1.0)), i_2)'⋅∑((k, q), (U(q, i_1, (b+k))⋅∑((p), (S(p, q, k, (b+k))⋅U(p, i_1, k)')))))))⋅2.0)\n",
      "((∑((k), (∑((i_0), U(i_0, i_1, (k+i_5))')⋅∑((i_3, p), (U(p, i_1, (k+i_5+(i_3⋅-1.0)))⋅∑((q), (U(q, i_1, (i_3+i_2))⋅S(q, p, (k+i_5), (k+i_5+(i_3⋅-1.0)))⋅S(i_0, q, i_2, (i_3+i_2))))))))+∑((b, p), (U(p, i_1, (i_2+(b⋅-1.0)))⋅S(p, i_0, (i_2+(b⋅-1.0)), i_2)'⋅∑((k, q), (U(q, i_1, (b+k))⋅∑((p), (S(p, q, k, (b+k))⋅U(p, i_1, k)')))))))⋅2.0)\n",
      "undirected\n",
      "\n",
      "  5.053041 seconds (56.01 M allocations: 2.565 GiB, 4.38% gc time)\n",
      "110 shift\n",
      "((∑((k), (∑((i_0), U(i_0, i_1, (k+i_5))')⋅∑((i_3, p), (U(p, i_1, (k+i_5+(i_3⋅-1.0)))⋅∑((q), (U(q, i_1, (i_3+i_2))⋅S(q, p, (k+i_5), (k+i_5+(i_3⋅-1.0)))⋅S(i_0, q, i_2, (i_3+i_2))))))))+∑((b, p), (U(p, i_1, (i_2+(b⋅-1.0)))⋅S(p, i_0, (i_2+(b⋅-1.0)), i_2)'⋅∑((k, q), (U(q, i_1, (b+k))⋅∑((p), (S(p, q, k, (b+k))⋅U(p, i_1, k)')))))))⋅2.0)\n",
      "((∑((k), (∑((i_0), U(i_0, i_1, k)')⋅∑((i_3, p), (U(p, i_1, (k+(i_3⋅-1.0)))⋅∑((q), (U(q, i_1, (i_3+i_2))⋅S(q, p, k, (k+(i_3⋅-1.0)))⋅S(i_0, q, i_2, (i_3+i_2))))))))+∑((b, p), (U(p, i_1, (i_2+(b⋅-1.0)))⋅S(p, i_0, (i_2+(b⋅-1.0)), i_2)'⋅∑((k, q), (U(q, i_1, (b+k))⋅∑((p), (S(p, q, k, (b+k))⋅U(p, i_1, k)')))))))⋅2.0)\n",
      "undirected\n",
      "\n",
      "  5.143238 seconds (56.12 M allocations: 2.568 GiB, 4.07% gc time)\n",
      "111 shift\n",
      "((∑((k), (∑((i_0), U(i_0, i_1, k)')⋅∑((i_3, p), (U(p, i_1, (k+(i_3⋅-1.0)))⋅∑((q), (U(q, i_1, (i_3+i_2))⋅S(q, p, k, (k+(i_3⋅-1.0)))⋅S(i_0, q, i_2, (i_3+i_2))))))))+∑((b, p), (U(p, i_1, (i_2+(b⋅-1.0)))⋅S(p, i_0, (i_2+(b⋅-1.0)), i_2)'⋅∑((k, q), (U(q, i_1, (b+k))⋅∑((p), (S(p, q, k, (b+k))⋅U(p, i_1, k)')))))))⋅2.0)\n",
      "((∑((k), (∑((i_0), U(i_0, i_1, (i_3+k))')⋅∑((i_4, p), (U(p, i_1, (i_3+k+(i_4⋅-1.0)))⋅∑((q), (U(q, i_1, (i_4+i_2))⋅S(q, p, (i_3+k), (i_3+k+(i_4⋅-1.0)))⋅S(i_0, q, i_2, (i_4+i_2))))))))+∑((b, p), (U(p, i_1, (i_2+(b⋅-1.0)))⋅S(p, i_0, (i_2+(b⋅-1.0)), i_2)'⋅∑((k, q), (U(q, i_1, (b+k))⋅∑((p), (S(p, q, k, (b+k))⋅U(p, i_1, k)')))))))⋅2.0)\n",
      "undirected\n",
      "\n",
      "  4.742519 seconds (52.81 M allocations: 2.420 GiB, 4.53% gc time)\n",
      "112 shift\n",
      "((∑((k), (∑((i_0), U(i_0, i_1, (i_3+k))')⋅∑((i_4, p), (U(p, i_1, (i_3+k+(i_4⋅-1.0)))⋅∑((q), (U(q, i_1, (i_4+i_2))⋅S(q, p, (i_3+k), (i_3+k+(i_4⋅-1.0)))⋅S(i_0, q, i_2, (i_4+i_2))))))))+∑((b, p), (U(p, i_1, (i_2+(b⋅-1.0)))⋅S(p, i_0, (i_2+(b⋅-1.0)), i_2)'⋅∑((k, q), (U(q, i_1, (b+k))⋅∑((p), (S(p, q, k, (b+k))⋅U(p, i_1, k)')))))))⋅2.0)\n",
      "((∑((k), (∑((i_0), U(i_0, i_1, k)')⋅∑((i_4, p), (U(p, i_1, (k+(i_4⋅-1.0)))⋅∑((q), (U(q, i_1, (i_4+i_2))⋅S(q, p, k, (k+(i_4⋅-1.0)))⋅S(i_0, q, i_2, (i_4+i_2))))))))+∑((b, p), (U(p, i_1, (i_2+(b⋅-1.0)))⋅S(p, i_0, (i_2+(b⋅-1.0)), i_2)'⋅∑((k, q), (U(q, i_1, (b+k))⋅∑((p), (S(p, q, k, (b+k))⋅U(p, i_1, k)')))))))⋅2.0)\n",
      "undirected\n",
      "\n"
     ]
    },
    {
     "name": "stdout",
     "output_type": "stream",
     "text": [
      "  4.389569 seconds (48.90 M allocations: 2.238 GiB, 3.96% gc time)\n",
      "113 shift\n",
      "((∑((k), (∑((i_0), U(i_0, i_1, k)')⋅∑((i_4, p), (U(p, i_1, (k+(i_4⋅-1.0)))⋅∑((q), (U(q, i_1, (i_4+i_2))⋅S(q, p, k, (k+(i_4⋅-1.0)))⋅S(i_0, q, i_2, (i_4+i_2))))))))+∑((b, p), (U(p, i_1, (i_2+(b⋅-1.0)))⋅S(p, i_0, (i_2+(b⋅-1.0)), i_2)'⋅∑((k, q), (U(q, i_1, (b+k))⋅∑((p), (S(p, q, k, (b+k))⋅U(p, i_1, k)')))))))⋅2.0)\n",
      "((∑((k), (∑((i_0), U(i_0, i_1, (i_4+k))')⋅∑((i_3, p), (U(p, i_1, (i_4+k+(i_3⋅-1.0)))⋅∑((q), (U(q, i_1, (i_3+i_2))⋅S(q, p, (i_4+k), (i_4+k+(i_3⋅-1.0)))⋅S(i_0, q, i_2, (i_3+i_2))))))))+∑((b, p), (U(p, i_1, (i_2+(b⋅-1.0)))⋅S(p, i_0, (i_2+(b⋅-1.0)), i_2)'⋅∑((k, q), (U(q, i_1, (b+k))⋅∑((p), (S(p, q, k, (b+k))⋅U(p, i_1, k)')))))))⋅2.0)\n",
      "undirected\n",
      "\n",
      "  4.577851 seconds (53.54 M allocations: 2.453 GiB, 4.18% gc time)\n",
      "114 shift\n",
      "((∑((k), (∑((i_0), U(i_0, i_1, (i_4+k))')⋅∑((i_3, p), (U(p, i_1, (i_4+k+(i_3⋅-1.0)))⋅∑((q), (U(q, i_1, (i_3+i_2))⋅S(q, p, (i_4+k), (i_4+k+(i_3⋅-1.0)))⋅S(i_0, q, i_2, (i_3+i_2))))))))+∑((b, p), (U(p, i_1, (i_2+(b⋅-1.0)))⋅S(p, i_0, (i_2+(b⋅-1.0)), i_2)'⋅∑((k, q), (U(q, i_1, (b+k))⋅∑((p), (S(p, q, k, (b+k))⋅U(p, i_1, k)')))))))⋅2.0)\n",
      "((∑((k), (∑((i_0), U(i_0, i_1, (i_3+k))')⋅∑((i_5, p), (U(p, i_1, (i_3+k+(i_5⋅-1.0)))⋅∑((q), (U(q, i_1, (i_5+i_2))⋅S(q, p, (i_3+k), (i_3+k+(i_5⋅-1.0)))⋅S(i_0, q, i_2, (i_5+i_2))))))))+∑((b, p), (U(p, i_1, (i_2+(b⋅-1.0)))⋅S(p, i_0, (i_2+(b⋅-1.0)), i_2)'⋅∑((k, q), (U(q, i_1, (b+k))⋅∑((p), (S(p, q, k, (b+k))⋅U(p, i_1, k)')))))))⋅2.0)\n",
      "undirected\n",
      "\n",
      "  5.154028 seconds (61.40 M allocations: 2.814 GiB, 4.38% gc time)\n",
      "115 shift\n",
      "((∑((k), (∑((i_0), U(i_0, i_1, (i_3+k))')⋅∑((i_5, p), (U(p, i_1, (i_3+k+(i_5⋅-1.0)))⋅∑((q), (U(q, i_1, (i_5+i_2))⋅S(q, p, (i_3+k), (i_3+k+(i_5⋅-1.0)))⋅S(i_0, q, i_2, (i_5+i_2))))))))+∑((b, p), (U(p, i_1, (i_2+(b⋅-1.0)))⋅S(p, i_0, (i_2+(b⋅-1.0)), i_2)'⋅∑((k, q), (U(q, i_1, (b+k))⋅∑((p), (S(p, q, k, (b+k))⋅U(p, i_1, k)')))))))⋅2.0)\n",
      "((∑((k), (∑((i_0), U(i_0, i_1, (k+i_5))')⋅∑((i_4, p), (U(p, i_1, (k+i_5+(i_4⋅-1.0)))⋅∑((q), (U(q, i_1, (i_4+i_2))⋅S(q, p, (k+i_5), (k+i_5+(i_4⋅-1.0)))⋅S(i_0, q, i_2, (i_4+i_2))))))))+∑((b, p), (U(p, i_1, (i_2+(b⋅-1.0)))⋅S(p, i_0, (i_2+(b⋅-1.0)), i_2)'⋅∑((k, q), (U(q, i_1, (b+k))⋅∑((p), (S(p, q, k, (b+k))⋅U(p, i_1, k)')))))))⋅2.0)\n",
      "undirected\n",
      "\n",
      "  5.175425 seconds (60.90 M allocations: 2.791 GiB, 4.64% gc time)\n",
      "116 sum_sym\n",
      "((∑((k), (∑((i_0), U(i_0, i_1, (k+i_5))')⋅∑((i_4, p), (U(p, i_1, (k+i_5+(i_4⋅-1.0)))⋅∑((q), (U(q, i_1, (i_4+i_2))⋅S(q, p, (k+i_5), (k+i_5+(i_4⋅-1.0)))⋅S(i_0, q, i_2, (i_4+i_2))))))))+∑((b, p), (U(p, i_1, (i_2+(b⋅-1.0)))⋅S(p, i_0, (i_2+(b⋅-1.0)), i_2)'⋅∑((k, q), (U(q, i_1, (b+k))⋅∑((p), (S(p, q, k, (b+k))⋅U(p, i_1, k)')))))))⋅2.0)\n",
      "((∑((k), (∑((i_0), U(i_0, i_1, (k+i_5))')⋅∑((i_4, p), (U(p, i_1, (i_4+k+i_5))⋅∑((q), (U(q, i_1, (i_2+(i_4⋅-1.0)))⋅S(q, p, (k+i_5), (i_4+k+i_5))⋅S(i_0, q, i_2, (i_2+(i_4⋅-1.0)))))))))+∑((b, p), (U(p, i_1, (i_2+(b⋅-1.0)))⋅S(p, i_0, (i_2+(b⋅-1.0)), i_2)'⋅∑((k, q), (U(q, i_1, (b+k))⋅∑((p), (S(p, q, k, (b+k))⋅U(p, i_1, k)')))))))⋅2.0)\n",
      "undirected\n",
      "\n",
      "  5.236344 seconds (61.22 M allocations: 2.804 GiB, 4.38% gc time)\n",
      "117 sum_exchange\n",
      "((∑((k), (∑((i_0), U(i_0, i_1, (k+i_5))')⋅∑((i_4, p), (U(p, i_1, (i_4+k+i_5))⋅∑((q), (U(q, i_1, (i_2+(i_4⋅-1.0)))⋅S(q, p, (k+i_5), (i_4+k+i_5))⋅S(i_0, q, i_2, (i_2+(i_4⋅-1.0)))))))))+∑((b, p), (U(p, i_1, (i_2+(b⋅-1.0)))⋅S(p, i_0, (i_2+(b⋅-1.0)), i_2)'⋅∑((k, q), (U(q, i_1, (b+k))⋅∑((p), (S(p, q, k, (b+k))⋅U(p, i_1, k)')))))))⋅2.0)\n",
      "((∑((k), (∑((i_0), U(i_0, i_1, (k+i_5))')⋅∑((i_4, q), (U(q, i_1, (i_2+(i_4⋅-1.0)))⋅S(i_0, q, i_2, (i_2+(i_4⋅-1.0)))⋅∑((p), (U(p, i_1, (i_4+k+i_5))⋅S(q, p, (k+i_5), (i_4+k+i_5))))))))+∑((b, p), (U(p, i_1, (i_2+(b⋅-1.0)))⋅S(p, i_0, (i_2+(b⋅-1.0)), i_2)'⋅∑((k, q), (U(q, i_1, (b+k))⋅∑((p), (S(p, q, k, (b+k))⋅U(p, i_1, k)')))))))⋅2.0)\n",
      "undirected\n",
      "\n",
      "  4.859707 seconds (57.67 M allocations: 2.642 GiB, 4.62% gc time)\n",
      "118 shift\n",
      "((∑((k), (∑((i_0), U(i_0, i_1, (k+i_5))')⋅∑((i_4, q), (U(q, i_1, (i_2+(i_4⋅-1.0)))⋅S(i_0, q, i_2, (i_2+(i_4⋅-1.0)))⋅∑((p), (U(p, i_1, (i_4+k+i_5))⋅S(q, p, (k+i_5), (i_4+k+i_5))))))))+∑((b, p), (U(p, i_1, (i_2+(b⋅-1.0)))⋅S(p, i_0, (i_2+(b⋅-1.0)), i_2)'⋅∑((k, q), (U(q, i_1, (b+k))⋅∑((p), (S(p, q, k, (b+k))⋅U(p, i_1, k)')))))))⋅2.0)\n",
      "((∑((k), (∑((i_0), U(i_0, i_1, k)')⋅∑((i_4, q), (U(q, i_1, (i_2+(i_4⋅-1.0)))⋅S(i_0, q, i_2, (i_2+(i_4⋅-1.0)))⋅∑((p), (U(p, i_1, (i_4+k))⋅S(q, p, k, (i_4+k))))))))+∑((b, p), (U(p, i_1, (i_2+(b⋅-1.0)))⋅S(p, i_0, (i_2+(b⋅-1.0)), i_2)'⋅∑((k, q), (U(q, i_1, (b+k))⋅∑((p), (S(p, q, k, (b+k))⋅U(p, i_1, k)')))))))⋅2.0)\n",
      "undirected\n",
      "\n",
      "  4.048395 seconds (44.87 M allocations: 2.056 GiB, 4.29% gc time)\n",
      "119 shift\n",
      "((∑((k), (∑((i_0), U(i_0, i_1, k)')⋅∑((i_4, q), (U(q, i_1, (i_2+(i_4⋅-1.0)))⋅S(i_0, q, i_2, (i_2+(i_4⋅-1.0)))⋅∑((p), (U(p, i_1, (i_4+k))⋅S(q, p, k, (i_4+k))))))))+∑((b, p), (U(p, i_1, (i_2+(b⋅-1.0)))⋅S(p, i_0, (i_2+(b⋅-1.0)), i_2)'⋅∑((k, q), (U(q, i_1, (b+k))⋅∑((p), (S(p, q, k, (b+k))⋅U(p, i_1, k)')))))))⋅2.0)\n",
      "((∑((k), (∑((i_0), U(i_0, i_1, (k+(i_4⋅-1.0)))')⋅∑((i_3, q), (U(q, i_1, (i_2+(i_3⋅-1.0)))⋅S(i_0, q, i_2, (i_2+(i_3⋅-1.0)))⋅∑((p), (U(p, i_1, (i_3+k+(i_4⋅-1.0)))⋅S(q, p, (k+(i_4⋅-1.0)), (i_3+k+(i_4⋅-1.0)))))))))+∑((b, p), (U(p, i_1, (i_2+(b⋅-1.0)))⋅S(p, i_0, (i_2+(b⋅-1.0)), i_2)'⋅∑((k, q), (U(q, i_1, (b+k))⋅∑((p), (S(p, q, k, (b+k))⋅U(p, i_1, k)')))))))⋅2.0)\n",
      "undirected\n",
      "\n",
      "  5.242857 seconds (62.74 M allocations: 2.870 GiB, 4.27% gc time)\n",
      "120 shift\n",
      "((∑((k), (∑((i_0), U(i_0, i_1, (k+(i_4⋅-1.0)))')⋅∑((i_3, q), (U(q, i_1, (i_2+(i_3⋅-1.0)))⋅S(i_0, q, i_2, (i_2+(i_3⋅-1.0)))⋅∑((p), (U(p, i_1, (i_3+k+(i_4⋅-1.0)))⋅S(q, p, (k+(i_4⋅-1.0)), (i_3+k+(i_4⋅-1.0)))))))))+∑((b, p), (U(p, i_1, (i_2+(b⋅-1.0)))⋅S(p, i_0, (i_2+(b⋅-1.0)), i_2)'⋅∑((k, q), (U(q, i_1, (b+k))⋅∑((p), (S(p, q, k, (b+k))⋅U(p, i_1, k)')))))))⋅2.0)\n",
      "((∑((k), (∑((i_0), U(i_0, i_1, k)')⋅∑((i_3, q), (U(q, i_1, (i_2+(i_3⋅-1.0)))⋅S(i_0, q, i_2, (i_2+(i_3⋅-1.0)))⋅∑((p), (U(p, i_1, (i_3+k))⋅S(q, p, k, (i_3+k))))))))+∑((b, p), (U(p, i_1, (i_2+(b⋅-1.0)))⋅S(p, i_0, (i_2+(b⋅-1.0)), i_2)'⋅∑((k, q), (U(q, i_1, (b+k))⋅∑((p), (S(p, q, k, (b+k))⋅U(p, i_1, k)')))))))⋅2.0)\n",
      "undirected\n",
      "\n",
      "  4.381991 seconds (49.69 M allocations: 2.276 GiB, 4.31% gc time)\n",
      "121 shift\n",
      "((∑((k), (∑((i_0), U(i_0, i_1, k)')⋅∑((i_3, q), (U(q, i_1, (i_2+(i_3⋅-1.0)))⋅S(i_0, q, i_2, (i_2+(i_3⋅-1.0)))⋅∑((p), (U(p, i_1, (i_3+k))⋅S(q, p, k, (i_3+k))))))))+∑((b, p), (U(p, i_1, (i_2+(b⋅-1.0)))⋅S(p, i_0, (i_2+(b⋅-1.0)), i_2)'⋅∑((k, q), (U(q, i_1, (b+k))⋅∑((p), (S(p, q, k, (b+k))⋅U(p, i_1, k)')))))))⋅2.0)\n",
      "((∑((k), (∑((i_0), U(i_0, i_1, (k+(i_3⋅-1.0)))')⋅∑((i_4, q), (U(q, i_1, (i_2+(i_4⋅-1.0)))⋅S(i_0, q, i_2, (i_2+(i_4⋅-1.0)))⋅∑((p), (U(p, i_1, (i_4+k+(i_3⋅-1.0)))⋅S(q, p, (k+(i_3⋅-1.0)), (i_4+k+(i_3⋅-1.0)))))))))+∑((b, p), (U(p, i_1, (i_2+(b⋅-1.0)))⋅S(p, i_0, (i_2+(b⋅-1.0)), i_2)'⋅∑((k, q), (U(q, i_1, (b+k))⋅∑((p), (S(p, q, k, (b+k))⋅U(p, i_1, k)')))))))⋅2.0)\n",
      "undirected\n",
      "\n",
      "  5.272442 seconds (61.59 M allocations: 2.816 GiB, 4.38% gc time)\n",
      "122 shift\n",
      "((∑((k), (∑((i_0), U(i_0, i_1, (k+(i_3⋅-1.0)))')⋅∑((i_4, q), (U(q, i_1, (i_2+(i_4⋅-1.0)))⋅S(i_0, q, i_2, (i_2+(i_4⋅-1.0)))⋅∑((p), (U(p, i_1, (i_4+k+(i_3⋅-1.0)))⋅S(q, p, (k+(i_3⋅-1.0)), (i_4+k+(i_3⋅-1.0)))))))))+∑((b, p), (U(p, i_1, (i_2+(b⋅-1.0)))⋅S(p, i_0, (i_2+(b⋅-1.0)), i_2)'⋅∑((k, q), (U(q, i_1, (b+k))⋅∑((p), (S(p, q, k, (b+k))⋅U(p, i_1, k)')))))))⋅2.0)\n",
      "((∑((k), (∑((i_0), U(i_0, i_1, (k+(i_4⋅-1.0)))')⋅∑((i_5, q), (U(q, i_1, (i_2+(i_5⋅-1.0)))⋅S(i_0, q, i_2, (i_2+(i_5⋅-1.0)))⋅∑((p), (U(p, i_1, (k+i_5+(i_4⋅-1.0)))⋅S(q, p, (k+(i_4⋅-1.0)), (k+i_5+(i_4⋅-1.0)))))))))+∑((b, p), (U(p, i_1, (i_2+(b⋅-1.0)))⋅S(p, i_0, (i_2+(b⋅-1.0)), i_2)'⋅∑((k, q), (U(q, i_1, (b+k))⋅∑((p), (S(p, q, k, (b+k))⋅U(p, i_1, k)')))))))⋅2.0)\n",
      "undirected\n",
      "\n",
      "  4.932561 seconds (58.79 M allocations: 2.690 GiB, 4.22% gc time)\n",
      "123 shift\n",
      "((∑((k), (∑((i_0), U(i_0, i_1, (k+(i_4⋅-1.0)))')⋅∑((i_5, q), (U(q, i_1, (i_2+(i_5⋅-1.0)))⋅S(i_0, q, i_2, (i_2+(i_5⋅-1.0)))⋅∑((p), (U(p, i_1, (k+i_5+(i_4⋅-1.0)))⋅S(q, p, (k+(i_4⋅-1.0)), (k+i_5+(i_4⋅-1.0)))))))))+∑((b, p), (U(p, i_1, (i_2+(b⋅-1.0)))⋅S(p, i_0, (i_2+(b⋅-1.0)), i_2)'⋅∑((k, q), (U(q, i_1, (b+k))⋅∑((p), (S(p, q, k, (b+k))⋅U(p, i_1, k)')))))))⋅2.0)\n",
      "((∑((k), (∑((i_0), U(i_0, i_1, k)')⋅∑((i_5, q), (U(q, i_1, (i_2+(i_5⋅-1.0)))⋅S(i_0, q, i_2, (i_2+(i_5⋅-1.0)))⋅∑((p), (U(p, i_1, (k+i_5))⋅S(q, p, k, (k+i_5))))))))+∑((b, p), (U(p, i_1, (i_2+(b⋅-1.0)))⋅S(p, i_0, (i_2+(b⋅-1.0)), i_2)'⋅∑((k, q), (U(q, i_1, (b+k))⋅∑((p), (S(p, q, k, (b+k))⋅U(p, i_1, k)')))))))⋅2.0)\n",
      "undirected\n",
      "\n"
     ]
    },
    {
     "name": "stdout",
     "output_type": "stream",
     "text": [
      "  4.639896 seconds (52.77 M allocations: 2.416 GiB, 4.02% gc time)\n",
      "124 shift\n",
      "((∑((k), (∑((i_0), U(i_0, i_1, k)')⋅∑((i_5, q), (U(q, i_1, (i_2+(i_5⋅-1.0)))⋅S(i_0, q, i_2, (i_2+(i_5⋅-1.0)))⋅∑((p), (U(p, i_1, (k+i_5))⋅S(q, p, k, (k+i_5))))))))+∑((b, p), (U(p, i_1, (i_2+(b⋅-1.0)))⋅S(p, i_0, (i_2+(b⋅-1.0)), i_2)'⋅∑((k, q), (U(q, i_1, (b+k))⋅∑((p), (S(p, q, k, (b+k))⋅U(p, i_1, k)')))))))⋅2.0)\n",
      "((∑((k), (∑((i_0), U(i_0, i_1, (k+(i_5⋅-1.0)))')⋅∑((i_3, q), (U(q, i_1, (i_2+(i_3⋅-1.0)))⋅S(i_0, q, i_2, (i_2+(i_3⋅-1.0)))⋅∑((p), (U(p, i_1, (i_3+k+(i_5⋅-1.0)))⋅S(q, p, (k+(i_5⋅-1.0)), (i_3+k+(i_5⋅-1.0)))))))))+∑((b, p), (U(p, i_1, (i_2+(b⋅-1.0)))⋅S(p, i_0, (i_2+(b⋅-1.0)), i_2)'⋅∑((k, q), (U(q, i_1, (b+k))⋅∑((p), (S(p, q, k, (b+k))⋅U(p, i_1, k)')))))))⋅2.0)\n",
      "undirected\n",
      "\n",
      "  5.295202 seconds (62.39 M allocations: 2.854 GiB, 4.23% gc time)\n",
      "125 sum_sym\n",
      "((∑((k), (∑((i_0), U(i_0, i_1, (k+(i_5⋅-1.0)))')⋅∑((i_3, q), (U(q, i_1, (i_2+(i_3⋅-1.0)))⋅S(i_0, q, i_2, (i_2+(i_3⋅-1.0)))⋅∑((p), (U(p, i_1, (i_3+k+(i_5⋅-1.0)))⋅S(q, p, (k+(i_5⋅-1.0)), (i_3+k+(i_5⋅-1.0)))))))))+∑((b, p), (U(p, i_1, (i_2+(b⋅-1.0)))⋅S(p, i_0, (i_2+(b⋅-1.0)), i_2)'⋅∑((k, q), (U(q, i_1, (b+k))⋅∑((p), (S(p, q, k, (b+k))⋅U(p, i_1, k)')))))))⋅2.0)\n",
      "((∑((k), (∑((i_0), U(i_0, i_1, (k+(i_5⋅-1.0)))')⋅∑((i_3, q), (U(q, i_1, (i_3+i_2))⋅S(i_0, q, i_2, (i_3+i_2))⋅∑((p), (U(p, i_1, (k+(i_3⋅-1.0)+(i_5⋅-1.0)))⋅S(q, p, (k+(i_5⋅-1.0)), (k+(i_3⋅-1.0)+(i_5⋅-1.0)))))))))+∑((b, p), (U(p, i_1, (i_2+(b⋅-1.0)))⋅S(p, i_0, (i_2+(b⋅-1.0)), i_2)'⋅∑((k, q), (U(q, i_1, (b+k))⋅∑((p), (S(p, q, k, (b+k))⋅U(p, i_1, k)')))))))⋅2.0)\n",
      "undirected\n",
      "\n",
      "  5.774560 seconds (69.10 M allocations: 3.165 GiB, 4.52% gc time)\n",
      "126 shift\n",
      "((∑((k), (∑((i_0), U(i_0, i_1, (k+(i_5⋅-1.0)))')⋅∑((i_3, q), (U(q, i_1, (i_3+i_2))⋅S(i_0, q, i_2, (i_3+i_2))⋅∑((p), (U(p, i_1, (k+(i_3⋅-1.0)+(i_5⋅-1.0)))⋅S(q, p, (k+(i_5⋅-1.0)), (k+(i_3⋅-1.0)+(i_5⋅-1.0)))))))))+∑((b, p), (U(p, i_1, (i_2+(b⋅-1.0)))⋅S(p, i_0, (i_2+(b⋅-1.0)), i_2)'⋅∑((k, q), (U(q, i_1, (b+k))⋅∑((p), (S(p, q, k, (b+k))⋅U(p, i_1, k)')))))))⋅2.0)\n",
      "((∑((k), (∑((i_0), U(i_0, i_1, k)')⋅∑((i_3, q), (U(q, i_1, (i_3+i_2))⋅S(i_0, q, i_2, (i_3+i_2))⋅∑((p), (U(p, i_1, (k+(i_3⋅-1.0)))⋅S(q, p, k, (k+(i_3⋅-1.0)))))))))+∑((b, p), (U(p, i_1, (i_2+(b⋅-1.0)))⋅S(p, i_0, (i_2+(b⋅-1.0)), i_2)'⋅∑((k, q), (U(q, i_1, (b+k))⋅∑((p), (S(p, q, k, (b+k))⋅U(p, i_1, k)')))))))⋅2.0)\n",
      "undirected\n",
      "\n",
      "  4.289960 seconds (49.30 M allocations: 2.261 GiB, 3.91% gc time)\n",
      "127 shift\n",
      "((∑((k), (∑((i_0), U(i_0, i_1, k)')⋅∑((i_3, q), (U(q, i_1, (i_3+i_2))⋅S(i_0, q, i_2, (i_3+i_2))⋅∑((p), (U(p, i_1, (k+(i_3⋅-1.0)))⋅S(q, p, k, (k+(i_3⋅-1.0)))))))))+∑((b, p), (U(p, i_1, (i_2+(b⋅-1.0)))⋅S(p, i_0, (i_2+(b⋅-1.0)), i_2)'⋅∑((k, q), (U(q, i_1, (b+k))⋅∑((p), (S(p, q, k, (b+k))⋅U(p, i_1, k)')))))))⋅2.0)\n",
      "((∑((k), (∑((i_0), U(i_0, i_1, (i_3+k))')⋅∑((i_4, q), (U(q, i_1, (i_4+i_2))⋅S(i_0, q, i_2, (i_4+i_2))⋅∑((p), (U(p, i_1, (i_3+k+(i_4⋅-1.0)))⋅S(q, p, (i_3+k), (i_3+k+(i_4⋅-1.0)))))))))+∑((b, p), (U(p, i_1, (i_2+(b⋅-1.0)))⋅S(p, i_0, (i_2+(b⋅-1.0)), i_2)'⋅∑((k, q), (U(q, i_1, (b+k))⋅∑((p), (S(p, q, k, (b+k))⋅U(p, i_1, k)')))))))⋅2.0)\n",
      "undirected\n",
      "\n",
      "  3.674272 seconds (43.66 M allocations: 2.003 GiB, 4.60% gc time)\n",
      "128 shift\n",
      "((∑((k), (∑((i_0), U(i_0, i_1, (i_3+k))')⋅∑((i_4, q), (U(q, i_1, (i_4+i_2))⋅S(i_0, q, i_2, (i_4+i_2))⋅∑((p), (U(p, i_1, (i_3+k+(i_4⋅-1.0)))⋅S(q, p, (i_3+k), (i_3+k+(i_4⋅-1.0)))))))))+∑((b, p), (U(p, i_1, (i_2+(b⋅-1.0)))⋅S(p, i_0, (i_2+(b⋅-1.0)), i_2)'⋅∑((k, q), (U(q, i_1, (b+k))⋅∑((p), (S(p, q, k, (b+k))⋅U(p, i_1, k)')))))))⋅2.0)\n",
      "((∑((k), (∑((i_0), U(i_0, i_1, k)')⋅∑((i_4, q), (U(q, i_1, (i_4+i_2))⋅S(i_0, q, i_2, (i_4+i_2))⋅∑((p), (U(p, i_1, (k+(i_4⋅-1.0)))⋅S(q, p, k, (k+(i_4⋅-1.0)))))))))+∑((b, p), (U(p, i_1, (i_2+(b⋅-1.0)))⋅S(p, i_0, (i_2+(b⋅-1.0)), i_2)'⋅∑((k, q), (U(q, i_1, (b+k))⋅∑((p), (S(p, q, k, (b+k))⋅U(p, i_1, k)')))))))⋅2.0)\n",
      "undirected\n",
      "\n",
      "  3.788420 seconds (42.71 M allocations: 1.959 GiB, 4.45% gc time)\n",
      "129 shift\n",
      "((∑((k), (∑((i_0), U(i_0, i_1, k)')⋅∑((i_4, q), (U(q, i_1, (i_4+i_2))⋅S(i_0, q, i_2, (i_4+i_2))⋅∑((p), (U(p, i_1, (k+(i_4⋅-1.0)))⋅S(q, p, k, (k+(i_4⋅-1.0)))))))))+∑((b, p), (U(p, i_1, (i_2+(b⋅-1.0)))⋅S(p, i_0, (i_2+(b⋅-1.0)), i_2)'⋅∑((k, q), (U(q, i_1, (b+k))⋅∑((p), (S(p, q, k, (b+k))⋅U(p, i_1, k)')))))))⋅2.0)\n",
      "((∑((k), (∑((i_0), U(i_0, i_1, (i_4+k))')⋅∑((i_3, q), (U(q, i_1, (i_3+i_2))⋅S(i_0, q, i_2, (i_3+i_2))⋅∑((p), (U(p, i_1, (i_4+k+(i_3⋅-1.0)))⋅S(q, p, (i_4+k), (i_4+k+(i_3⋅-1.0)))))))))+∑((b, p), (U(p, i_1, (i_2+(b⋅-1.0)))⋅S(p, i_0, (i_2+(b⋅-1.0)), i_2)'⋅∑((k, q), (U(q, i_1, (b+k))⋅∑((p), (S(p, q, k, (b+k))⋅U(p, i_1, k)')))))))⋅2.0)\n",
      "undirected\n",
      "\n",
      "  3.936634 seconds (46.62 M allocations: 2.138 GiB, 4.31% gc time)\n",
      "130 shift\n",
      "((∑((k), (∑((i_0), U(i_0, i_1, (i_4+k))')⋅∑((i_3, q), (U(q, i_1, (i_3+i_2))⋅S(i_0, q, i_2, (i_3+i_2))⋅∑((p), (U(p, i_1, (i_4+k+(i_3⋅-1.0)))⋅S(q, p, (i_4+k), (i_4+k+(i_3⋅-1.0)))))))))+∑((b, p), (U(p, i_1, (i_2+(b⋅-1.0)))⋅S(p, i_0, (i_2+(b⋅-1.0)), i_2)'⋅∑((k, q), (U(q, i_1, (b+k))⋅∑((p), (S(p, q, k, (b+k))⋅U(p, i_1, k)')))))))⋅2.0)\n",
      "((∑((k), (∑((i_0), U(i_0, i_1, (i_3+k))')⋅∑((i_5, q), (U(q, i_1, (i_5+i_2))⋅S(i_0, q, i_2, (i_5+i_2))⋅∑((p), (U(p, i_1, (i_3+k+(i_5⋅-1.0)))⋅S(q, p, (i_3+k), (i_3+k+(i_5⋅-1.0)))))))))+∑((b, p), (U(p, i_1, (i_2+(b⋅-1.0)))⋅S(p, i_0, (i_2+(b⋅-1.0)), i_2)'⋅∑((k, q), (U(q, i_1, (b+k))⋅∑((p), (S(p, q, k, (b+k))⋅U(p, i_1, k)')))))))⋅2.0)\n",
      "undirected\n",
      "\n",
      "  4.756498 seconds (56.59 M allocations: 2.597 GiB, 4.32% gc time)\n",
      "131 shift\n",
      "((∑((k), (∑((i_0), U(i_0, i_1, (i_3+k))')⋅∑((i_5, q), (U(q, i_1, (i_5+i_2))⋅S(i_0, q, i_2, (i_5+i_2))⋅∑((p), (U(p, i_1, (i_3+k+(i_5⋅-1.0)))⋅S(q, p, (i_3+k), (i_3+k+(i_5⋅-1.0)))))))))+∑((b, p), (U(p, i_1, (i_2+(b⋅-1.0)))⋅S(p, i_0, (i_2+(b⋅-1.0)), i_2)'⋅∑((k, q), (U(q, i_1, (b+k))⋅∑((p), (S(p, q, k, (b+k))⋅U(p, i_1, k)')))))))⋅2.0)\n",
      "((∑((k), (∑((i_0), U(i_0, i_1, k)')⋅∑((i_5, q), (U(q, i_1, (i_5+i_2))⋅S(i_0, q, i_2, (i_5+i_2))⋅∑((p), (U(p, i_1, (k+(i_5⋅-1.0)))⋅S(q, p, k, (k+(i_5⋅-1.0)))))))))+∑((b, p), (U(p, i_1, (i_2+(b⋅-1.0)))⋅S(p, i_0, (i_2+(b⋅-1.0)), i_2)'⋅∑((k, q), (U(q, i_1, (b+k))⋅∑((p), (S(p, q, k, (b+k))⋅U(p, i_1, k)')))))))⋅2.0)\n",
      "undirected\n",
      "\n",
      "  4.925915 seconds (56.87 M allocations: 2.607 GiB, 4.18% gc time)\n",
      "132 shift\n",
      "((∑((k), (∑((i_0), U(i_0, i_1, k)')⋅∑((i_5, q), (U(q, i_1, (i_5+i_2))⋅S(i_0, q, i_2, (i_5+i_2))⋅∑((p), (U(p, i_1, (k+(i_5⋅-1.0)))⋅S(q, p, k, (k+(i_5⋅-1.0)))))))))+∑((b, p), (U(p, i_1, (i_2+(b⋅-1.0)))⋅S(p, i_0, (i_2+(b⋅-1.0)), i_2)'⋅∑((k, q), (U(q, i_1, (b+k))⋅∑((p), (S(p, q, k, (b+k))⋅U(p, i_1, k)')))))))⋅2.0)\n",
      "((∑((k), (∑((i_0), U(i_0, i_1, (k+i_5))')⋅∑((i_3, q), (U(q, i_1, (i_3+i_2))⋅S(i_0, q, i_2, (i_3+i_2))⋅∑((p), (U(p, i_1, (k+i_5+(i_3⋅-1.0)))⋅S(q, p, (k+i_5), (k+i_5+(i_3⋅-1.0)))))))))+∑((b, p), (U(p, i_1, (i_2+(b⋅-1.0)))⋅S(p, i_0, (i_2+(b⋅-1.0)), i_2)'⋅∑((k, q), (U(q, i_1, (b+k))⋅∑((p), (S(p, q, k, (b+k))⋅U(p, i_1, k)')))))))⋅2.0)\n",
      "undirected\n",
      "\n",
      "  4.506312 seconds (53.83 M allocations: 2.469 GiB, 4.60% gc time)\n",
      "133 sum_sym\n",
      "((∑((k), (∑((i_0), U(i_0, i_1, (k+i_5))')⋅∑((i_3, q), (U(q, i_1, (i_3+i_2))⋅S(i_0, q, i_2, (i_3+i_2))⋅∑((p), (U(p, i_1, (k+i_5+(i_3⋅-1.0)))⋅S(q, p, (k+i_5), (k+i_5+(i_3⋅-1.0)))))))))+∑((b, p), (U(p, i_1, (i_2+(b⋅-1.0)))⋅S(p, i_0, (i_2+(b⋅-1.0)), i_2)'⋅∑((k, q), (U(q, i_1, (b+k))⋅∑((p), (S(p, q, k, (b+k))⋅U(p, i_1, k)')))))))⋅2.0)\n",
      "((∑((k), (∑((i_0), U(i_0, i_1, (k+i_5))')⋅∑((i_3, q), (U(q, i_1, (i_2+(i_3⋅-1.0)))⋅S(i_0, q, i_2, (i_2+(i_3⋅-1.0)))⋅∑((p), (U(p, i_1, (i_3+k+i_5))⋅S(q, p, (k+i_5), (i_3+k+i_5))))))))+∑((b, p), (U(p, i_1, (i_2+(b⋅-1.0)))⋅S(p, i_0, (i_2+(b⋅-1.0)), i_2)'⋅∑((k, q), (U(q, i_1, (b+k))⋅∑((p), (S(p, q, k, (b+k))⋅U(p, i_1, k)')))))))⋅2.0)\n",
      "undirected\n",
      "\n",
      "  5.033550 seconds (58.22 M allocations: 2.666 GiB, 4.09% gc time)\n",
      "134 sum_exchange\n",
      "((∑((k), (∑((i_0), U(i_0, i_1, (k+i_5))')⋅∑((i_3, q), (U(q, i_1, (i_2+(i_3⋅-1.0)))⋅S(i_0, q, i_2, (i_2+(i_3⋅-1.0)))⋅∑((p), (U(p, i_1, (i_3+k+i_5))⋅S(q, p, (k+i_5), (i_3+k+i_5))))))))+∑((b, p), (U(p, i_1, (i_2+(b⋅-1.0)))⋅S(p, i_0, (i_2+(b⋅-1.0)), i_2)'⋅∑((k, q), (U(q, i_1, (b+k))⋅∑((p), (S(p, q, k, (b+k))⋅U(p, i_1, k)')))))))⋅2.0)\n",
      "((∑((k), (∑((i_0), U(i_0, i_1, (k+i_5))')⋅∑((i_3, p), (U(p, i_1, (i_3+k+i_5))⋅∑((q), (U(q, i_1, (i_2+(i_3⋅-1.0)))⋅S(q, p, (k+i_5), (i_3+k+i_5))⋅S(i_0, q, i_2, (i_2+(i_3⋅-1.0)))))))))+∑((b, p), (U(p, i_1, (i_2+(b⋅-1.0)))⋅S(p, i_0, (i_2+(b⋅-1.0)), i_2)'⋅∑((k, q), (U(q, i_1, (b+k))⋅∑((p), (S(p, q, k, (b+k))⋅U(p, i_1, k)')))))))⋅2.0)\n",
      "undirected\n",
      "\n"
     ]
    },
    {
     "name": "stdout",
     "output_type": "stream",
     "text": [
      "  5.663918 seconds (67.01 M allocations: 3.068 GiB, 4.31% gc time)\n",
      "135 sum_sym\n",
      "((∑((k), (∑((i_0), U(i_0, i_1, (k+i_5))')⋅∑((i_3, p), (U(p, i_1, (i_3+k+i_5))⋅∑((q), (U(q, i_1, (i_2+(i_3⋅-1.0)))⋅S(q, p, (k+i_5), (i_3+k+i_5))⋅S(i_0, q, i_2, (i_2+(i_3⋅-1.0)))))))))+∑((b, p), (U(p, i_1, (i_2+(b⋅-1.0)))⋅S(p, i_0, (i_2+(b⋅-1.0)), i_2)'⋅∑((k, q), (U(q, i_1, (b+k))⋅∑((p), (S(p, q, k, (b+k))⋅U(p, i_1, k)')))))))⋅2.0)\n",
      "((∑((k), (∑((i_0), U(i_0, i_1, (k+i_5))')⋅∑((i_3, p), (U(p, i_1, (i_3+k+i_5))⋅∑((q), (U(q, i_1, (i_2+(i_3⋅-1.0)))⋅S(q, p, (k+i_5), (i_3+k+i_5))⋅S(i_0, q, i_2, (i_2+(i_3⋅-1.0)))))))))+∑((b, p), (U(p, i_1, (b+i_2))⋅S(p, i_0, (b+i_2), i_2)'⋅∑((k, q), (U(q, i_1, (k+(b⋅-1.0)))⋅∑((p), (S(p, q, k, (k+(b⋅-1.0)))⋅U(p, i_1, k)')))))))⋅2.0)\n",
      "undirected\n",
      "\n"
     ]
    },
    {
     "ename": "LoadError",
     "evalue": "MethodError: \u001b[0mCannot `convert` an object of type \u001b[92mBool\u001b[39m\u001b[0m to an object of type \u001b[91mAbstractPCTType\u001b[39m\n\n\u001b[0mClosest candidates are:\n\u001b[0m  convert(::Type{T}, \u001b[91m::T\u001b[39m) where T\n\u001b[0m\u001b[90m   @\u001b[39m \u001b[90mBase\u001b[39m \u001b[90m\u001b[4mBase.jl:64\u001b[24m\u001b[39m\n",
     "output_type": "error",
     "traceback": [
      "MethodError: \u001b[0mCannot `convert` an object of type \u001b[92mBool\u001b[39m\u001b[0m to an object of type \u001b[91mAbstractPCTType\u001b[39m\n\n\u001b[0mClosest candidates are:\n\u001b[0m  convert(::Type{T}, \u001b[91m::T\u001b[39m) where T\n\u001b[0m\u001b[90m   @\u001b[39m \u001b[90mBase\u001b[39m \u001b[90m\u001b[4mBase.jl:64\u001b[24m\u001b[39m\n",
      "",
      "Stacktrace:",
      "  [1] Add(type::Bool, content::PCTVector)",
      "    @ PCT ~/kaer_morhen/projects/QLD/PCT/src/element.jl:398",
      "  [2] #make_node#8",
      "    @ ~/kaer_morhen/projects/QLD/PCT/src/element.jl:79 [inlined]",
      "  [3] make_node",
      "    @ ~/kaer_morhen/projects/QLD/PCT/src/element.jl:70 [inlined]",
      "  [4] set_terms(#unused#::Add, new_terms::PCTVector)",
      "    @ PCT ~/kaer_morhen/projects/QLD/PCT/src/element.jl:123",
      "  [5] reconstruct(n::Add, old::Var{Domain}, new::Var{Domain})",
      "    @ PCT ~/kaer_morhen/projects/QLD/PCT/src/evaluation.jl:162",
      "  [6] subst(n::Add, old::Var{Domain}, new::Var{Domain}, replace_dummy::Bool)",
      "    @ PCT ~/kaer_morhen/projects/QLD/PCT/src/evaluation.jl:158",
      "  [7] subst",
      "    @ ~/kaer_morhen/projects/QLD/PCT/src/evaluation.jl:138 [inlined]",
      "  [8] (::PCT.var\"#80#81\"{Var{Domain}, Var{Domain}})(t::Add)",
      "    @ PCT ./none:0",
      "  [9] iterate",
      "    @ ./generator.jl:47 [inlined]",
      " [10] collect_to!(dest::Vector{Var{I}}, itr::Base.Generator{Vector{PCT.AbstractPCTNode}, PCT.var\"#80#81\"{Var{Domain}, Var{Domain}}}, offs::Int64, st::Int64)",
      "    @ Base ./array.jl:840",
      " [11] collect_to_with_first!(dest::Vector{Var{I}}, v1::Var{I}, itr::Base.Generator{Vector{PCT.AbstractPCTNode}, PCT.var\"#80#81\"{Var{Domain}, Var{Domain}}}, st::Int64)",
      "    @ Base ./array.jl:818",
      " [12] collect(itr::Base.Generator{Vector{PCT.AbstractPCTNode}, PCT.var\"#80#81\"{Var{Domain}, Var{Domain}}})",
      "    @ Base ./array.jl:792",
      " [13] reconstruct(n::PCTVector, old::Var{Domain}, new::Var{Domain})",
      "    @ PCT ~/kaer_morhen/projects/QLD/PCT/src/evaluation.jl:162",
      " [14] subst(n::PCTVector, old::Var{Domain}, new::Var{Domain}, replace_dummy::Bool)",
      "    @ PCT ~/kaer_morhen/projects/QLD/PCT/src/evaluation.jl:158",
      " [15] subst",
      "    @ ~/kaer_morhen/projects/QLD/PCT/src/evaluation.jl:138 [inlined]",
      " [16] #80",
      "    @ ./none:0 [inlined]",
      " [17] iterate",
      "    @ ./generator.jl:47 [inlined]",
      " [18] collect_to!(dest::Vector{Var{MapType}}, itr::Base.Generator{Tuple{Var{MapType}, PCTVector}, PCT.var\"#80#81\"{Var{Domain}, Var{Domain}}}, offs::Int64, st::Int64)",
      "    @ Base ./array.jl:840",
      " [19] collect_to_with_first!",
      "    @ ./array.jl:818 [inlined]",
      " [20] collect(itr::Base.Generator{Tuple{Var{MapType}, PCTVector}, PCT.var\"#80#81\"{Var{Domain}, Var{Domain}}})",
      "    @ Base ./array.jl:792",
      " [21] reconstruct(n::PrimitiveCall, old::Var{Domain}, new::Var{Domain})",
      "    @ PCT ~/kaer_morhen/projects/QLD/PCT/src/evaluation.jl:162",
      " [22] subst(n::PrimitiveCall, old::Var{Domain}, new::Var{Domain}, replace_dummy::Bool)",
      "    @ PCT ~/kaer_morhen/projects/QLD/PCT/src/evaluation.jl:158",
      " [23] subst",
      "    @ ~/kaer_morhen/projects/QLD/PCT/src/evaluation.jl:138 [inlined]",
      " [24] (::PCT.var\"#80#81\"{Var{Domain}, Var{Domain}})(t::PrimitiveCall)",
      "    @ PCT ./none:0",
      " [25] iterate",
      "    @ ./generator.jl:47 [inlined]",
      " [26] collect(itr::Base.Generator{Vector{PCT.AbstractPCTNode}, PCT.var\"#80#81\"{Var{Domain}, Var{Domain}}})",
      "    @ Base ./array.jl:782",
      " [27] reconstruct(n::PCTVector, old::Var{Domain}, new::Var{Domain})",
      "    @ PCT ~/kaer_morhen/projects/QLD/PCT/src/evaluation.jl:162",
      " [28] subst(n::PCTVector, old::Var{Domain}, new::Var{Domain}, replace_dummy::Bool)",
      "    @ PCT ~/kaer_morhen/projects/QLD/PCT/src/evaluation.jl:158",
      " [29] subst",
      "    @ ~/kaer_morhen/projects/QLD/PCT/src/evaluation.jl:138 [inlined]",
      " [30] #80",
      "    @ ./none:0 [inlined]",
      " [31] iterate",
      "    @ ./generator.jl:47 [inlined]",
      " [32] collect",
      "    @ ./array.jl:782 [inlined]",
      " [33] reconstruct(n::Mul, old::Var{Domain}, new::Var{Domain})",
      "    @ PCT ~/kaer_morhen/projects/QLD/PCT/src/evaluation.jl:162",
      " [34] subst(n::Mul, old::Var{Domain}, new::Var{Domain}, replace_dummy::Bool)",
      "    @ PCT ~/kaer_morhen/projects/QLD/PCT/src/evaluation.jl:158",
      " [35] subst(n::Mul, old::Var{Domain}, new::Var{Domain})",
      "    @ PCT ~/kaer_morhen/projects/QLD/PCT/src/evaluation.jl:139",
      " [36] hash(n::Sum)",
      "    @ PCT ~/kaer_morhen/projects/QLD/PCT/src/hash.jl:134",
      " [37] hashindex",
      "    @ ./dict.jl:157 [inlined]",
      " [38] ht_keyindex(h::Dict{PCT.AbstractPCTNode, Number}, key::Sum)",
      "    @ Base ./dict.jl:266",
      " [39] get(h::Dict{PCT.AbstractPCTNode, Number}, key::Sum, default::Int64)",
      "    @ Base ./dict.jl:510",
      " [40] e_class_reduction(#unused#::Type{Add}, term::PCTVector)",
      "    @ PCT ~/kaer_morhen/projects/QLD/PCT/src/element.jl:429",
      " [41] #make_node#8",
      "    @ ~/kaer_morhen/projects/QLD/PCT/src/element.jl:74 [inlined]",
      " [42] make_node",
      "    @ ~/kaer_morhen/projects/QLD/PCT/src/element.jl:70 [inlined]",
      " [43] set_terms",
      "    @ ~/kaer_morhen/projects/QLD/PCT/src/element.jl:123 [inlined]",
      " [44] set_pct_fields(n::Add, fields::Vector{Symbol}, values::PCTVector)",
      "    @ PCT ~/kaer_morhen/projects/QLD/PCT/src/element.jl:163",
      " [45] set_content",
      "    @ ~/kaer_morhen/projects/QLD/PCT/src/element.jl:167 [inlined]",
      " [46] sub_neighbors(n::Add; settings::Dict{Symbol, Bool})",
      "    @ PCT ~/kaer_morhen/projects/QLD/PCT/src/equivalent_set.jl:219",
      " [47] sub_neighbors",
      "    @ ~/kaer_morhen/projects/QLD/PCT/src/equivalent_set.jl:201 [inlined]",
      " [48] neighbors(a::Add; settings::Dict{Symbol, Bool})",
      "    @ PCT ~/kaer_morhen/projects/QLD/PCT/src/equivalent_set.jl:245",
      " [49] sub_neighbors(n::Mul; settings::Dict{Symbol, Bool})",
      "    @ PCT ~/kaer_morhen/projects/QLD/PCT/src/equivalent_set.jl:217",
      " [50] sub_neighbors",
      "    @ ~/kaer_morhen/projects/QLD/PCT/src/equivalent_set.jl:201 [inlined]",
      " [51] neighbors(m::Mul; settings::Dict{Symbol, Bool})",
      "    @ PCT ~/kaer_morhen/projects/QLD/PCT/src/equivalent_set.jl:345",
      " [52] neighbors",
      "    @ ~/kaer_morhen/projects/QLD/PCT/src/equivalent_set.jl:322 [inlined]",
      " [53] spanning_tree!(n::Mul, seen::PCTGraph; settings::Dict{Symbol, Bool})",
      "    @ PCT ~/kaer_morhen/projects/QLD/PCT/src/graph.jl:84",
      " [54] spanning_tree!(n::Mul, seen::PCTGraph; settings::Dict{Symbol, Bool}) (repeats 135 times)",
      "    @ PCT ~/kaer_morhen/projects/QLD/PCT/src/graph.jl:106",
      " [55] spanning_tree! (repeats 2 times)",
      "    @ ~/kaer_morhen/projects/QLD/PCT/src/graph.jl:79 [inlined]",
      " [56] simplify(n::Mul; settings::Dict{Symbol, Bool})",
      "    @ PCT ~/kaer_morhen/projects/QLD/PCT/src/graph.jl:119",
      " [57] simplify(n::Map; settings::Dict{Symbol, Bool})",
      "    @ PCT ~/kaer_morhen/projects/QLD/PCT/src/graph.jl:131"
     ]
    }
   ],
   "source": [
    "@profile g_4 = simplify(g_3; settings=Dict(:symmetry=>true)) |> first"
   ]
  },
  {
   "cell_type": "code",
   "execution_count": 36,
   "id": "65b92c73",
   "metadata": {},
   "outputs": [
    {
     "name": "stderr",
     "output_type": "stream",
     "text": [
      "\u001b[33m\u001b[1m┌ \u001b[22m\u001b[39m\u001b[33m\u001b[1mWarning: \u001b[22m\u001b[39mThe profile data buffer is full; profiling probably terminated\n",
      "\u001b[33m\u001b[1m│ \u001b[22m\u001b[39mbefore your program finished. To profile for longer runs, call\n",
      "\u001b[33m\u001b[1m│ \u001b[22m\u001b[39m`Profile.init()` with a larger buffer and/or larger delay.\n",
      "\u001b[33m\u001b[1m└ \u001b[22m\u001b[39m\u001b[90m@ Profile /Applications/Julia-1.9.app/Contents/Resources/julia/share/julia/stdlib/v1.9/Profile/src/Profile.jl:639\u001b[39m\n"
     ]
    },
    {
     "data": {
      "text/plain": [
       "\"profile.pb.gz\""
      ]
     },
     "execution_count": 36,
     "metadata": {},
     "output_type": "execute_result"
    },
    {
     "name": "stderr",
     "output_type": "stream",
     "text": [
      "Main binary filename not available.\n",
      "Serving web UI on http://localhost:57599\n"
     ]
    }
   ],
   "source": [
    "pprof()"
   ]
  },
  {
   "cell_type": "code",
   "execution_count": 13,
   "id": "89b0dd2c",
   "metadata": {},
   "outputs": [
    {
     "data": {
      "text/latex": [
       "$(2.0\\cdot \\left(\\sum_{b, q}\\left[(\\sum_{k, q}\\left[(U_{q, i_1, \\left(b+k\\right)}^*\\cdot \\sum_{p}\\left[(S_{p, q, k, \\left(b+k\\right)}^*\\cdot U_{p, i_1, k})\\right])\\right]\\cdot U_{q, i_1, \\left(i_2+b\\right)}\\cdot S_{i_0, q, i_2, \\left(i_2+b\\right)})\\right]+\\sum_{b, p}\\left[(S_{p, i_0, \\left(i_2+(-1.0\\cdot b)\\right), i_2}^*\\cdot \\sum_{k, q}\\left[(\\sum_{p}\\left[(U_{p, i_1, k}^*\\cdot S_{p, q, k, \\left(b+k\\right)})\\right]\\cdot U_{q, i_1, \\left(b+k\\right)})\\right]\\cdot U_{p, i_1, \\left(i_2+(-1.0\\cdot b)\\right)})\\right]\\right))$"
      ],
      "text/plain": [
       "(2.0⋅(∑((b, q), (∑((k, q), (U(q, i_1, (b+k))'⋅∑((p), (S(p, q, k, (b+k))'⋅U(p, i_1, k)))))⋅U(q, i_1, (i_2+b))⋅S(i_0, q, i_2, (i_2+b))))+∑((b, p), (S(p, i_0, (i_2+(-1.0⋅b)), i_2)'⋅∑((k, q), (∑((p), (U(p, i_1, k)'⋅S(p, q, k, (b+k))))⋅U(q, i_1, (b+k))))⋅U(p, i_1, (i_2+(-1.0⋅b)))))))"
      ]
     },
     "execution_count": 13,
     "metadata": {},
     "output_type": "execute_result"
    }
   ],
   "source": [
    "settings = Dict(:symmetry => true)\n",
    "nb(n) = neighbors(n; settings=settings)\n",
    "fc(g_3)"
   ]
  },
  {
   "cell_type": "code",
   "execution_count": 19,
   "id": "7f60d39c",
   "metadata": {},
   "outputs": [
    {
     "data": {
      "text/plain": [
       "Gtk.GtkWindowLeaf(name=\"\", parent, width-request=-1, height-request=-1, visible=TRUE, sensitive=TRUE, app-paintable=FALSE, can-focus=FALSE, has-focus=FALSE, is-focus=FALSE, focus-on-click=TRUE, can-default=FALSE, has-default=FALSE, receives-default=FALSE, composite-child=FALSE, style, events=0, no-show-all=FALSE, has-tooltip=FALSE, tooltip-markup=NULL, tooltip-text=NULL, window, opacity=1.000000, double-buffered, halign=GTK_ALIGN_FILL, valign=GTK_ALIGN_FILL, margin-left, margin-right, margin-start=0, margin-end=0, margin-top=0, margin-bottom=0, margin=0, hexpand=FALSE, vexpand=FALSE, hexpand-set=FALSE, vexpand-set=FALSE, expand=FALSE, scale-factor=1, border-width=0, resize-mode, child, type=GTK_WINDOW_TOPLEVEL, title=\"Profile  -  11:21:24\", role=NULL, resizable=TRUE, modal=FALSE, window-position=GTK_WIN_POS_NONE, default-width=800, default-height=600, destroy-with-parent=FALSE, hide-titlebar-when-maximized=FALSE, icon, icon-name=NULL, screen, type-hint=GDK_WINDOW_TYPE_HINT_NORMAL, skip-taskbar-hint=FALSE, skip-pager-hint=FALSE, urgency-hint=FALSE, accept-focus=TRUE, focus-on-map=TRUE, decorated=TRUE, deletable=TRUE, gravity=GDK_GRAVITY_NORTH_WEST, transient-for, attached-to, has-resize-grip, resize-grip-visible, application, is-active=FALSE, has-toplevel-focus=FALSE, startup-id, mnemonics-visible=FALSE, focus-visible=FALSE, is-maximized=FALSE)"
      ]
     },
     "execution_count": 19,
     "metadata": {},
     "output_type": "execute_result"
    }
   ],
   "source": [
    "@profview fc(g_3) |> nb"
   ]
  },
  {
   "cell_type": "code",
   "execution_count": 70,
   "id": "6392c890",
   "metadata": {},
   "outputs": [
    {
     "data": {
      "text/latex": [
       "$(\\left(\\sum_{b, q}\\left[(U_{q, i_1, \\left(i_2+(b\\cdot -1.0)\\right)}\\cdot S_{q, i_0, \\left(i_2+(b\\cdot -1.0)\\right), i_2}^*\\cdot \\sum_{k, q}\\left[(U_{q, i_1, \\left(k+(b\\cdot -1.0)\\right)}^*\\cdot \\sum_{p}\\left[(U_{p, i_1, k}\\cdot S_{q, p, \\left(k+(b\\cdot -1.0)\\right), k})\\right])\\right])\\right]+\\sum_{b, p}\\left[(U_{p, i_1, \\left(i_2+(b\\cdot -1.0)\\right)}\\cdot S_{p, i_0, \\left(i_2+(b\\cdot -1.0)\\right), i_2}^*\\cdot \\sum_{k, q}\\left[(U_{q, i_1, \\left(b+k\\right)}\\cdot \\sum_{p}\\left[(S_{p, q, k, \\left(b+k\\right)}\\cdot U_{p, i_1, k}^*)\\right])\\right])\\right]\\right)\\cdot 2.0)$"
      ],
      "text/plain": [
       "((∑((b, q), (U(q, i_1, (i_2+(b⋅-1.0)))⋅S(q, i_0, (i_2+(b⋅-1.0)), i_2)'⋅∑((k, q), (U(q, i_1, (k+(b⋅-1.0)))'⋅∑((p), (U(p, i_1, k)⋅S(q, p, (k+(b⋅-1.0)), k)))))))+∑((b, p), (U(p, i_1, (i_2+(b⋅-1.0)))⋅S(p, i_0, (i_2+(b⋅-1.0)), i_2)'⋅∑((k, q), (U(q, i_1, (b+k))⋅∑((p), (S(p, q, k, (b+k))⋅U(p, i_1, k)')))))))⋅2.0)"
      ]
     },
     "execution_count": 70,
     "metadata": {},
     "output_type": "execute_result"
    }
   ],
   "source": [
    "y = ((nb(fc(g_3))[2] |> first |> nb)[1] |> first |> nb)[4] |> first"
   ]
  },
  {
   "cell_type": "code",
   "execution_count": 92,
   "id": "72e1afa6",
   "metadata": {},
   "outputs": [
    {
     "name": "stderr",
     "output_type": "stream",
     "text": [
      "\u001b[33m\u001b[1m┌ \u001b[22m\u001b[39m\u001b[33m\u001b[1mWarning: \u001b[22m\u001b[39mThe profile data buffer is full; profiling probably terminated\n",
      "\u001b[33m\u001b[1m│ \u001b[22m\u001b[39mbefore your program finished. To profile for longer runs, call\n",
      "\u001b[33m\u001b[1m│ \u001b[22m\u001b[39m`Profile.init()` with a larger buffer and/or larger delay.\n",
      "\u001b[33m\u001b[1m└ \u001b[22m\u001b[39m\u001b[90m@ Profile /Applications/Julia-1.9.app/Contents/Resources/julia/share/julia/stdlib/v1.9/Profile/src/Profile.jl:639\u001b[39m\n"
     ]
    },
    {
     "data": {
      "text/plain": [
       "\"profile.pb.gz\""
      ]
     },
     "execution_count": 92,
     "metadata": {},
     "output_type": "execute_result"
    },
    {
     "name": "stderr",
     "output_type": "stream",
     "text": [
      "Main binary filename not available.\n",
      "Serving web UI on http://localhost:57599\n",
      "no matches found for regexp: \n"
     ]
    }
   ],
   "source": [
    "@profile (y |> nb)\n",
    "pprof()"
   ]
  },
  {
   "cell_type": "code",
   "execution_count": null,
   "id": "fad262fd",
   "metadata": {},
   "outputs": [],
   "source": []
  }
 ],
 "metadata": {
  "kernelspec": {
   "display_name": "PCT 1.9.3",
   "language": "julia",
   "name": "pct-1.9"
  },
  "language_info": {
   "file_extension": ".jl",
   "mimetype": "application/julia",
   "name": "julia",
   "version": "1.9.3"
  }
 },
 "nbformat": 4,
 "nbformat_minor": 5
}
