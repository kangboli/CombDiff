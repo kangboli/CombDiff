{
 "cells": [
  {
   "cell_type": "code",
   "execution_count": 2,
   "id": "d87429b8",
   "metadata": {},
   "outputs": [
    {
     "ename": "LoadError",
     "evalue": "ArgumentError: Package PCT not found in current path.\n- Run `import Pkg; Pkg.add(\"PCT\")` to install the PCT package.",
     "output_type": "error",
     "traceback": [
      "ArgumentError: Package PCT not found in current path.\n- Run `import Pkg; Pkg.add(\"PCT\")` to install the PCT package.",
      "",
      "Stacktrace:",
      " [1] macro expansion",
      "   @ ./loading.jl:1630 [inlined]",
      " [2] macro expansion",
      "   @ ./lock.jl:267 [inlined]",
      " [3] require(into::Module, mod::Symbol)",
      "   @ Base ./loading.jl:1611"
     ]
    }
   ],
   "source": [
    "using PCT"
   ]
  },
  {
   "cell_type": "code",
   "execution_count": 3,
   "id": "31a049b5",
   "metadata": {},
   "outputs": [
    {
     "data": {
      "text/plain": [
       "(Pullback(MapType(VecType(AbstractPCTType[C(), C()]), C(), Dict{Any, Any}()), Map(MapType(VecType(AbstractPCTType[C()]), C(), Dict{Any, Any}()), PCTVector(VecType(AbstractPCTType[C()]), Var{C}[Var{C}(C(), :z)]), Mul(C(), PCTVector(VecType(AbstractPCTType[C(), C()]), PCT.AbstractPCTNode[Conjugate(C(), Var{C}(C(), :z)), Var{C}(C(), :z)])))), TypeContext(Dict{Symbol, Vector{<:AbstractPCTType}}(:_ => AbstractPCTType[UndeterminedPCTType()])))"
      ]
     },
     "execution_count": 3,
     "metadata": {},
     "output_type": "execute_result"
    }
   ],
   "source": [
    "h, _ = @pct pullback((z::C) -> z' * z)"
   ]
  },
  {
   "cell_type": "code",
   "execution_count": 4,
   "id": "fc0c95fa",
   "metadata": {},
   "outputs": [
    {
     "name": "stdout",
     "output_type": "stream",
     "text": [
      "Pullback((z::C->\n",
      "    (*\n",
      "        z::C',\n",
      "        z::C\n",
      "    )::C\n",
      "::[C->C])::[C×C->C]\n"
     ]
    }
   ],
   "source": [
    "println(verbose(h))"
   ]
  },
  {
   "cell_type": "code",
   "execution_count": 5,
   "id": "ab008138",
   "metadata": {},
   "outputs": [
    {
     "data": {
      "text/latex": [
       "$\\left(z, \\_K\\right) \\to \\left(\\left(z, \\_K\\right) \\to \\left(\\left(\\left(z, \\_K\\right) \\to \\left(\\left(z, \\_K\\right) \\to \\_K\\right)\\left(z, \\_K^*\\right)\\right)\\left(z, (z^*\\cdot \\_K)\\right)+\\left(\\left(z, \\_K\\right) \\to \\_K\\right)\\left(z, (\\_K\\cdot z)\\right)\\right)\\right)\\left(z, \\_K\\right)$"
      ],
      "text/plain": [
       "(z, _K) -> \n",
       "    ((z, _K) -> \n",
       "        (((z, _K) -> \n",
       "            ((z, _K) -> \n",
       "                _K)(z, _K'))(z, (z'⋅_K))+((z, _K) -> \n",
       "            _K)(z, (_K⋅z))))(z, _K)"
      ]
     },
     "execution_count": 5,
     "metadata": {},
     "output_type": "execute_result"
    }
   ],
   "source": [
    "reduce_pullback(h)[1]"
   ]
  },
  {
   "cell_type": "code",
   "execution_count": 6,
   "id": "62f7c710",
   "metadata": {},
   "outputs": [
    {
     "data": {
      "text/latex": [
       "$(2.0\\cdot z)$"
      ],
      "text/plain": [
       "(2.0⋅z)"
      ]
     },
     "execution_count": 6,
     "metadata": {},
     "output_type": "execute_result"
    }
   ],
   "source": [
    "p = eval_all(reduce_pullback(h)[1])\n",
    "q = eval_all(call(p, first(ff(p)), constant(1)))"
   ]
  },
  {
   "cell_type": "code",
   "execution_count": 2,
   "id": "859c6263",
   "metadata": {},
   "outputs": [
    {
     "data": {
      "text/plain": [
       "(Map(MapType(VecType(AbstractPCTType[MapType(VecType(AbstractPCTType[I(), I()]), C(), Dict{Symbol, Any}(:name => :H, :symmetries => (((2, 1), :conj),))), MapType(VecType(AbstractPCTType[I(), I(), I(), I()]), C(), Dict{Symbol, Any}(:name => :T, :symmetries => (((2, 1, 4, 3), :conj), ((3, 4, 1, 2), :id))))]), UndeterminedPCTType(), Dict{Any, Any}()), PCTVector(VecType(AbstractPCTType[MapType(VecType(AbstractPCTType[I(), I()]), C(), Dict{Symbol, Any}(:name => :H, :symmetries => (((2, 1), :conj),))), MapType(VecType(AbstractPCTType[I(), I(), I(), I()]), C(), Dict{Symbol, Any}(:name => :T, :symmetries => (((2, 1, 4, 3), :conj), ((3, 4, 1, 2), :id))))]), Var{MapType}[Var{MapType}(MapType(VecType(AbstractPCTType[I(), I()]), C(), Dict{Symbol, Any}(:name => :H, :symmetries => (((2, 1), :conj),))), :A), Var{MapType}(MapType(VecType(AbstractPCTType[I(), I(), I(), I()]), C(), Dict{Symbol, Any}(:name => :T, :symmetries => (((2, 1, 4, 3), :conj), ((3, 4, 1, 2), :id)))), :J)]), Var{UndeterminedPCTType}(UndeterminedPCTType(), :_)), TypeContext(Dict{Symbol, Vector{<:AbstractPCTType}}(:_ => AbstractPCTType[UndeterminedPCTType()], :T => AbstractPCTType[MapType(VecType(AbstractPCTType[I(), I(), I(), I()]), C(), Dict{Symbol, Any}(:name => :T, :symmetries => (((2, 1, 4, 3), :conj), ((3, 4, 1, 2), :id))))], :U => AbstractPCTType[MapType(VecType(AbstractPCTType[I(), I()]), C(), Dict(:name => :U))], :H => AbstractPCTType[MapType(VecType(AbstractPCTType[I(), I()]), C(), Dict{Symbol, Any}(:name => :H, :symmetries => (((2, 1), :conj),)))], :V => AbstractPCTType[MapType(VecType(AbstractPCTType[I()]), C(), Dict(:name => :V))])))"
      ]
     },
     "execution_count": 2,
     "metadata": {},
     "output_type": "execute_result"
    }
   ],
   "source": [
    "f, ctx = @pct begin\n",
    "    @space H begin\n",
    "        type=(I, I)->C\n",
    "        symmetries=(((2,1), :conj),)\n",
    "    end\n",
    "    \n",
    "    @space V begin\n",
    "        type=(I,)->C\n",
    "    end\n",
    "\n",
    "    @space T begin\n",
    "        type=(I,I,I,I) -> C\n",
    "        symmetries=(((2,1,4,3), :conj), ((3,4,1,2), :id))\n",
    "    end\n",
    "                \n",
    "    @space U begin\n",
    "        type=(I,I)->C\n",
    "    end\n",
    "                    \n",
    "    (A::H, J::T) -> _\n",
    "end"
   ]
  },
  {
   "cell_type": "code",
   "execution_count": 11,
   "id": "6094d925",
   "metadata": {},
   "outputs": [
    {
     "data": {
      "text/latex": [
       "$\\left(A, J\\right) \\to \\_$"
      ],
      "text/plain": [
       "(A, J) -> \n",
       "    _"
      ]
     },
     "execution_count": 11,
     "metadata": {},
     "output_type": "execute_result"
    }
   ],
   "source": [
    "f"
   ]
  },
  {
   "cell_type": "code",
   "execution_count": 39,
   "id": "e701c80a",
   "metadata": {
    "scrolled": true
   },
   "outputs": [
    {
     "data": {
      "text/latex": [
       "$\\left(A, J\\right) \\to \\mathcal{P}\\left(x \\to \\sum_{i_0, i_1}\\left[(x_{i_0}\\cdot A_{i_1, i_0}\\cdot x_{i_1}^*)\\right]\\right)$"
      ],
      "text/plain": [
       "(A, J) -> \n",
       "    𝒫((x) -> \n",
       "        ∑((i_0, i_1), (x(i_0)⋅A(i_1, i_0)⋅x(i_1)')))"
      ]
     },
     "execution_count": 39,
     "metadata": {},
     "output_type": "execute_result"
    }
   ],
   "source": [
    "g = @pct f ctx pullback((x::V) -> sum((i, j), x(i)' * A(i, j) * x(j)))"
   ]
  },
  {
   "cell_type": "code",
   "execution_count": 40,
   "id": "989d90a6",
   "metadata": {},
   "outputs": [
    {
     "name": "stdout",
     "output_type": "stream",
     "text": [
      "(A::[I×I->C], J::[I×I×I×I->C]->\n",
      "    Pullback((x::[I->C]->\n",
      "        ∑((i_0::I, i_1::I),\n",
      "            (*\n",
      "                x::[I->C](i_0::I)::C,\n",
      "                A::[I×I->C](i_1::I, i_0::I)::C,\n",
      "                x::[I->C](i_1::I)::C'\n",
      "            )::C\n",
      "        )::C\n",
      "    ::[[I->C]->C])::[[I->C]×C->[I->C]]\n",
      "::[[I×I->C]×[I×I×I×I->C]->[[I->C]×C->[I->C]]]\n"
     ]
    }
   ],
   "source": [
    "println(verbose(g))"
   ]
  },
  {
   "cell_type": "code",
   "execution_count": 41,
   "id": "f9e5cda3",
   "metadata": {},
   "outputs": [
    {
     "data": {
      "text/latex": [
       "$\\left(x, \\_K\\right) \\to i_2 \\to \\sum_{i_0, i_1}\\left[\\left(\\delta_{i_1}^{i_2}(x_{i_0}\\cdot A_{i_1, i_0}\\cdot \\_K^*)+\\delta_{i_0}^{i_2}(x_{i_1}\\cdot A_{i_1, i_0}^*\\cdot \\_K)\\right)\\right]$"
      ],
      "text/plain": [
       "(x, _K) -> \n",
       "    (i_2) -> \n",
       "        ∑((i_0, i_1), (δ(i_2, i_1, (x(i_0)⋅A(i_1, i_0)⋅_K'))+δ(i_2, i_0, (x(i_1)⋅A(i_1, i_0)'⋅_K))))"
      ]
     },
     "execution_count": 41,
     "metadata": {},
     "output_type": "execute_result"
    }
   ],
   "source": [
    "p = fc(eval_all(reduce_pullback(g)))"
   ]
  },
  {
   "cell_type": "code",
   "execution_count": 42,
   "id": "9b74e6c7",
   "metadata": {},
   "outputs": [
    {
     "data": {
      "text/latex": [
       "$i_2 \\to \\sum_{i_0, i_1}\\left[\\left(\\delta_{i_1}^{i_2}(x_{i_0}\\cdot A_{i_1, i_0})+\\delta_{i_0}^{i_2}(x_{i_1}\\cdot A_{i_1, i_0}^*)\\right)\\right]$"
      ],
      "text/plain": [
       "(i_2) -> \n",
       "    ∑((i_0, i_1), (δ(i_2, i_1, (x(i_0)⋅A(i_1, i_0)))+δ(i_2, i_0, (x(i_1)⋅A(i_1, i_0)'))))"
      ]
     },
     "execution_count": 42,
     "metadata": {},
     "output_type": "execute_result"
    }
   ],
   "source": [
    "q = eval_all(call(p, first(ff(p)), constant(1)))"
   ]
  },
  {
   "cell_type": "code",
   "execution_count": 43,
   "id": "c29763e0",
   "metadata": {},
   "outputs": [
    {
     "name": "stdout",
     "output_type": "stream",
     "text": [
      "  0.000019 seconds (7 allocations: 304 bytes)\n",
      "1 sum_dist\n",
      "∑((i_0, i_1), (δ(i_2, i_1, (x(i_0)⋅A(i_1, i_0)))+δ(i_2, i_0, (x(i_1)⋅A(i_1, i_0)'))))\n",
      "(∑((i_0, i_1), δ(i_2, i_0, (x(i_1)⋅A(i_1, i_0)')))+∑((i_0, i_1), δ(i_2, i_0, (x(i_1)⋅A(i_1, i_0)'))))\n",
      "\n",
      "  0.000281 seconds (293 allocations: 13.062 KiB)\n",
      "2 contract_delta\n",
      "(∑((i_0, i_1), δ(i_2, i_0, (x(i_1)⋅A(i_1, i_0)')))+∑((i_0, i_1), δ(i_2, i_0, (x(i_1)⋅A(i_1, i_0)'))))\n",
      "(∑((i_0), (x(i_0)⋅A(i_2, i_0)))+∑((i_0, i_1), δ(i_2, i_0, (x(i_1)⋅A(i_1, i_0)'))))\n",
      "directed!\n",
      "\n",
      "  0.000041 seconds (215 allocations: 9.688 KiB)\n",
      "3 contract_delta\n",
      "(∑((i_0), (x(i_0)⋅A(i_2, i_0)))+∑((i_0, i_1), δ(i_2, i_0, (x(i_1)⋅A(i_1, i_0)'))))\n",
      "(∑((i_0), (x(i_0)⋅A(i_2, i_0)))+∑((i_0), (x(i_0)⋅A(i_2, i_0))))\n",
      "directed!\n",
      "\n",
      "  0.000019 seconds (37 allocations: 1.625 KiB)\n",
      "4 gcd\n",
      "(∑((i_0), (x(i_0)⋅A(i_2, i_0)))+∑((i_0), (x(i_0)⋅A(i_2, i_0))))\n",
      "((1+1)⋅∑((i_0), (x(i_0)⋅A(i_2, i_0))))\n",
      "\n",
      "  0.000042 seconds (244 allocations: 11.312 KiB)\n",
      "5 add_const\n",
      "((1+1)⋅∑((i_0), (x(i_0)⋅A(i_2, i_0))))\n",
      "(∑((i_0), (x(i_0)⋅A(i_2, i_0)))⋅2)\n",
      "directed!\n",
      "\n",
      "  0.000000 seconds\n"
     ]
    },
    {
     "data": {
      "text/latex": [
       "$i_2 \\to (\\sum_{i_0}\\left[(x_{i_0}\\cdot A_{i_2, i_0})\\right]\\cdot 2)$"
      ],
      "text/plain": [
       "(i_2) -> \n",
       "    (∑((i_0), (x(i_0)⋅A(i_2, i_0)))⋅2)"
      ]
     },
     "execution_count": 43,
     "metadata": {},
     "output_type": "execute_result"
    }
   ],
   "source": [
    "simplify(q) |> first"
   ]
  },
  {
   "cell_type": "code",
   "execution_count": 44,
   "id": "429f1193",
   "metadata": {},
   "outputs": [
    {
     "data": {
      "text/latex": [
       "$\\left(A, J\\right) \\to \\mathcal{P}\\left(C \\to \\sum_{i_0, i_1, i_2, i_3, i_4, i_5}\\left[(C_{i_1, i_5}\\cdot C_{i_3, i_4}\\cdot J_{i_1, i_0, i_3, i_2}^*\\cdot C_{i_2, i_4}^*\\cdot C_{i_0, i_5}^*)\\right]\\right)$"
      ],
      "text/plain": [
       "(A, J) -> \n",
       "    𝒫((C) -> \n",
       "        ∑((i_0, i_1, i_2, i_3, i_4, i_5), (C(i_1, i_5)⋅C(i_3, i_4)⋅J(i_1, i_0, i_3, i_2)'⋅C(i_2, i_4)'⋅C(i_0, i_5)')))"
      ]
     },
     "execution_count": 44,
     "metadata": {},
     "output_type": "execute_result"
    }
   ],
   "source": [
    "g = @pct f ctx pullback((C::U) -> sum((i,j,p,q,r,s), C(p,i)' * C(q,i) * C(r,j)' * C(s,j) * J(p,q,r,s)))"
   ]
  },
  {
   "cell_type": "code",
   "execution_count": 45,
   "id": "60e06e8e",
   "metadata": {},
   "outputs": [
    {
     "data": {
      "text/latex": [
       "$\\left(C, \\_K\\right) \\to \\left(i_6, i_7\\right) \\to \\sum_{i_0, i_1, i_2, i_3, i_4, i_5}\\left[\\left(\\delta_{i_5}^{i_7}\\delta_{i_2}^{i_6}(J_{i_1, i_4, i_2, i_3}\\cdot C_{i_4, i_0}\\cdot C_{i_3, i_5}\\cdot C_{i_1, i_0}^*\\cdot \\_K)+\\delta_{i_5}^{i_7}\\delta_{i_3}^{i_6}(C_{i_1, i_0}\\cdot C_{i_2, i_5}\\cdot J_{i_1, i_4, i_2, i_3}^*\\cdot C_{i_4, i_0}^*\\cdot \\_K^*)+\\delta_{i_0}^{i_7}\\delta_{i_1}^{i_6}(J_{i_1, i_4, i_2, i_3}\\cdot C_{i_4, i_0}\\cdot C_{i_3, i_5}\\cdot C_{i_2, i_5}^*\\cdot \\_K)+\\delta_{i_0}^{i_7}\\delta_{i_4}^{i_6}(C_{i_1, i_0}\\cdot C_{i_2, i_5}\\cdot J_{i_1, i_4, i_2, i_3}^*\\cdot C_{i_3, i_5}^*\\cdot \\_K^*)\\right)\\right]$"
      ],
      "text/plain": [
       "(C, _K) -> \n",
       "    (i_6, i_7) -> \n",
       "        ∑((i_0, i_1, i_2, i_3, i_4, i_5), (δ(i_7, i_5, δ(i_6, i_2, (J(i_1, i_4, i_2, i_3)⋅C(i_4, i_0)⋅C(i_3, i_5)⋅C(i_1, i_0)'⋅_K)))+δ(i_7, i_5, δ(i_6, i_3, (C(i_1, i_0)⋅C(i_2, i_5)⋅J(i_1, i_4, i_2, i_3)'⋅C(i_4, i_0)'⋅_K')))+δ(i_7, i_0, δ(i_6, i_1, (J(i_1, i_4, i_2, i_3)⋅C(i_4, i_0)⋅C(i_3, i_5)⋅C(i_2, i_5)'⋅_K)))+δ(i_7, i_0, δ(i_6, i_4, (C(i_1, i_0)⋅C(i_2, i_5)⋅J(i_1, i_4, i_2, i_3)'⋅C(i_3, i_5)'⋅_K')))))"
      ]
     },
     "execution_count": 45,
     "metadata": {},
     "output_type": "execute_result"
    }
   ],
   "source": [
    "p = fc(eval_all(reduce_pullback(g)))"
   ]
  },
  {
   "cell_type": "code",
   "execution_count": 46,
   "id": "a3faf48b",
   "metadata": {},
   "outputs": [
    {
     "data": {
      "text/latex": [
       "$\\left(i_6, i_7\\right) \\to \\sum_{i_0, i_1, i_2, i_3, i_4, i_5}\\left[\\left(\\delta_{i_5}^{i_7}\\delta_{i_2}^{i_6}(J_{i_1, i_4, i_2, i_3}\\cdot C_{i_4, i_0}\\cdot C_{i_3, i_5}\\cdot C_{i_1, i_0}^*)+\\delta_{i_5}^{i_7}\\delta_{i_3}^{i_6}(C_{i_1, i_0}\\cdot C_{i_2, i_5}\\cdot J_{i_1, i_4, i_2, i_3}^*\\cdot C_{i_4, i_0}^*)+\\delta_{i_0}^{i_7}\\delta_{i_1}^{i_6}(J_{i_1, i_4, i_2, i_3}\\cdot C_{i_4, i_0}\\cdot C_{i_3, i_5}\\cdot C_{i_2, i_5}^*)+\\delta_{i_0}^{i_7}\\delta_{i_4}^{i_6}(C_{i_1, i_0}\\cdot C_{i_2, i_5}\\cdot J_{i_1, i_4, i_2, i_3}^*\\cdot C_{i_3, i_5}^*)\\right)\\right]$"
      ],
      "text/plain": [
       "(i_6, i_7) -> \n",
       "    ∑((i_0, i_1, i_2, i_3, i_4, i_5), (δ(i_7, i_5, δ(i_6, i_2, (J(i_1, i_4, i_2, i_3)⋅C(i_4, i_0)⋅C(i_3, i_5)⋅C(i_1, i_0)')))+δ(i_7, i_5, δ(i_6, i_3, (C(i_1, i_0)⋅C(i_2, i_5)⋅J(i_1, i_4, i_2, i_3)'⋅C(i_4, i_0)')))+δ(i_7, i_0, δ(i_6, i_1, (J(i_1, i_4, i_2, i_3)⋅C(i_4, i_0)⋅C(i_3, i_5)⋅C(i_2, i_5)')))+δ(i_7, i_0, δ(i_6, i_4, (C(i_1, i_0)⋅C(i_2, i_5)⋅J(i_1, i_4, i_2, i_3)'⋅C(i_3, i_5)')))))"
      ]
     },
     "execution_count": 46,
     "metadata": {},
     "output_type": "execute_result"
    }
   ],
   "source": [
    "q = eval_all(call(p, first(ff(p)), constant(1)))"
   ]
  },
  {
   "cell_type": "code",
   "execution_count": 8,
   "id": "73cab78e",
   "metadata": {},
   "outputs": [
    {
     "data": {
      "text/plain": [
       "\"profile.pb.gz\""
      ]
     },
     "execution_count": 8,
     "metadata": {},
     "output_type": "execute_result"
    },
    {
     "name": "stderr",
     "output_type": "stream",
     "text": [
      "Main binary filename not available.\n",
      "Serving web UI on http://localhost:57599\n"
     ]
    }
   ],
   "source": [
    "Profile.clear()\n",
    "@profile p==p\n",
    "pprof()"
   ]
  },
  {
   "cell_type": "code",
   "execution_count": null,
   "id": "f7aafbe1",
   "metadata": {},
   "outputs": [],
   "source": [
    "(A::H) -> (x::V) -> x A x"
   ]
  },
  {
   "cell_type": "code",
   "execution_count": 7,
   "id": "c05dc616",
   "metadata": {},
   "outputs": [
    {
     "data": {
      "text/latex": [
       "$\\left(i_0, i_1, i_2\\right) \\to \\sum_{n, b}\\left[(\\sum_{k, p, q}\\left[\\left(\\delta_{\\left(b+k\\right)}^{i_2}\\delta_{n}^{i_1}\\delta_{q}^{i_0}(\\sum_{k, p, q}\\left[(U_{p, n, k}^*\\cdot U_{q, n, \\left(b+k\\right)}\\cdot S_{p, q, k, \\left(b+k\\right)})\\right]\\cdot S_{p, q, k, \\left(b+k\\right)}^*\\cdot U_{p, n, k})+\\delta_{k}^{i_2}\\delta_{n}^{i_1}\\delta_{p}^{i_0}(\\sum_{k, p, q}\\left[(U_{q, n, \\left(b+k\\right)}^*\\cdot S_{p, q, k, \\left(b+k\\right)}^*\\cdot U_{p, n, k})\\right]\\cdot U_{q, n, \\left(b+k\\right)}\\cdot S_{p, q, k, \\left(b+k\\right)})\\right)\\right]\\cdot 2.0)\\right]$"
      ],
      "text/plain": [
       "(i_0, i_1, i_2) -> \n",
       "    ∑((n, b), (∑((k, p, q), (δ(i_2, (b+k), δ(i_1, n, δ(i_0, q, (∑((k, p, q), (U(p, n, k)'⋅U(q, n, (b+k))⋅S(p, q, k, (b+k))))⋅S(p, q, k, (b+k))'⋅U(p, n, k)))))+δ(i_2, k, δ(i_1, n, δ(i_0, p, (∑((k, p, q), (U(q, n, (b+k))'⋅S(p, q, k, (b+k))'⋅U(p, n, k)))⋅U(q, n, (b+k))⋅S(p, q, k, (b+k))))))))⋅2.0))"
      ]
     },
     "execution_count": 7,
     "metadata": {},
     "output_type": "execute_result"
    }
   ],
   "source": [
    "f, ctx = @pct begin \n",
    "\n",
    "    @domain P begin\n",
    "        base = I\n",
    "        lower = -N\n",
    "        upper = N-1\n",
    "        periodic = true\n",
    "    end\n",
    "\n",
    "    @domain Q begin\n",
    "        base = I\n",
    "        lower = -N\n",
    "        upper = N\n",
    "        contractable = false\n",
    "    end\n",
    "\n",
    "    @space Mmn begin\n",
    "        type = (I, I, I, I) -> C\n",
    "        symmetries = (((2, 1, 4, 3), :conj), )\n",
    "    end\n",
    "\n",
    "    @space Sym begin\n",
    "        type = (I, ) -> C\n",
    "        symmetries = (((1, ), :ineg), )\n",
    "    end\n",
    "\n",
    "    @space Gauge begin\n",
    "        type = (I, I, I) -> C\n",
    "    end\n",
    "\n",
    "    @space Density begin\n",
    "        type = (I, I) -> C\n",
    "    end\n",
    "\n",
    "    (S::Mmn, w::Sym) -> _\n",
    "end\n",
    "\n",
    "g = @pct f ctx pullback((U::Gauge) -> ((ρ::Density) -> sum((n::I, b::Q), ρ(n, b)' * ρ(n, b)))(\n",
    "    (n::I, b::Q) -> sum((k::P, p, q), U(p, n, k)' * S(p,q,k,k+b) * U(q, n, k+b))))\n",
    "eval_all(g)\n",
    "g_1 = fc(eval_all(reduce_pullback(eval_all(g))))\n",
    "g_2 = eval_all(call(g_1, first(ff(g_1)), constant(1)))"
   ]
  },
  {
   "cell_type": "code",
   "execution_count": 9,
   "id": "7c85da67",
   "metadata": {},
   "outputs": [
    {
     "name": "stdout",
     "output_type": "stream",
     "text": [
      "  0.011581 seconds (93.74 k allocations: 3.738 MiB)\n",
      "1 sum_out\n",
      "∑((n, b), (∑((k, p, q), (δ(i_2, (b+k), δ(i_1, n, δ(i_0, q, (∑((k, p, q), (U(p, n, k)'⋅U(q, n, (b+k))⋅S(p, q, k, (b+k))))⋅S(p, q, k, (b+k))'⋅U(p, n, k)))))+δ(i_2, k, δ(i_1, n, δ(i_0, p, (∑((k, p, q), (U(q, n, (b+k))'⋅S(p, q, k, (b+k))'⋅U(p, n, k)))⋅U(q, n, (b+k))⋅S(p, q, k, (b+k))))))))⋅2.0))\n",
      "∑((b), (∑((n, k, p, q), (δ(i_2, (b+k), δ(i_1, n, δ(i_0, q, (∑((k, p, q), (U(p, n, k)'⋅U(q, n, (b+k))⋅S(p, q, k, (b+k))))⋅S(p, q, k, (b+k))'⋅U(p, n, k)))))+δ(i_2, k, δ(i_1, n, δ(i_0, p, (∑((k, p, q), (U(q, n, (b+k))'⋅S(p, q, k, (b+k))'⋅U(p, n, k)))⋅U(q, n, (b+k))⋅S(p, q, k, (b+k))))))))⋅2.0))\n",
      "yesdirected!\n",
      "\n",
      "  0.154785 seconds (354.42 k allocations: 21.254 MiB, 90.37% compilation time)\n",
      "2 sum_out\n",
      "∑((b), (∑((n, k, p, q), (δ(i_2, (b+k), δ(i_1, n, δ(i_0, q, (∑((k, p, q), (U(p, n, k)'⋅U(q, n, (b+k))⋅S(p, q, k, (b+k))))⋅S(p, q, k, (b+k))'⋅U(p, n, k)))))+δ(i_2, k, δ(i_1, n, δ(i_0, p, (∑((k, p, q), (U(q, n, (b+k))'⋅S(p, q, k, (b+k))'⋅U(p, n, k)))⋅U(q, n, (b+k))⋅S(p, q, k, (b+k))))))))⋅2.0))\n",
      "(∑((b, n, k, p, q), (δ(i_2, (b+k), δ(i_1, n, δ(i_0, q, (∑((k, p, q), (U(p, n, k)'⋅U(q, n, (b+k))⋅S(p, q, k, (b+k))))⋅S(p, q, k, (b+k))'⋅U(p, n, k)))))+δ(i_2, k, δ(i_1, n, δ(i_0, p, (∑((k, p, q), (U(q, n, (b+k))'⋅S(p, q, k, (b+k))'⋅U(p, n, k)))⋅U(q, n, (b+k))⋅S(p, q, k, (b+k))))))))⋅2.0)\n",
      "yesdirected!\n",
      "\n",
      "  0.010519 seconds (81.72 k allocations: 3.278 MiB, 25.06% compilation time)\n",
      "3 sum_dist\n",
      "(∑((b, n, k, p, q), (δ(i_2, (b+k), δ(i_1, n, δ(i_0, q, (∑((k, p, q), (U(p, n, k)'⋅U(q, n, (b+k))⋅S(p, q, k, (b+k))))⋅S(p, q, k, (b+k))'⋅U(p, n, k)))))+δ(i_2, k, δ(i_1, n, δ(i_0, p, (∑((k, p, q), (U(q, n, (b+k))'⋅S(p, q, k, (b+k))'⋅U(p, n, k)))⋅U(q, n, (b+k))⋅S(p, q, k, (b+k))))))))⋅2.0)\n",
      "(2.0⋅(∑((b, n, k, p, q), δ(i_2, (b+k), δ(i_1, n, δ(i_0, q, (∑((k, p, q), (U(p, n, k)'⋅U(q, n, (b+k))⋅S(p, q, k, (b+k))))⋅S(p, q, k, (b+k))'⋅U(p, n, k))))))+∑((b, n, k, p, q), δ(i_2, k, δ(i_1, n, δ(i_0, p, (∑((k, p, q), (U(q, n, (b+k))'⋅S(p, q, k, (b+k))'⋅U(p, n, k)))⋅U(q, n, (b+k))⋅S(p, q, k, (b+k)))))))))\n",
      "yesdirected!\n",
      "\n",
      "  0.012037 seconds (85.34 k allocations: 3.965 MiB, 66.36% compilation time)\n",
      "4 contract_delta\n",
      "(2.0⋅(∑((b, n, k, p, q), δ(i_2, (b+k), δ(i_1, n, δ(i_0, q, (∑((k, p, q), (U(p, n, k)'⋅U(q, n, (b+k))⋅S(p, q, k, (b+k))))⋅S(p, q, k, (b+k))'⋅U(p, n, k))))))+∑((b, n, k, p, q), δ(i_2, k, δ(i_1, n, δ(i_0, p, (∑((k, p, q), (U(q, n, (b+k))'⋅S(p, q, k, (b+k))'⋅U(p, n, k)))⋅U(q, n, (b+k))⋅S(p, q, k, (b+k)))))))))\n",
      "(2.0⋅(∑((b, n, p, q), δ(i_1, n, δ(i_0, q, (∑((k, p, q), (U(p, n, k)'⋅U(q, n, (b+k))⋅S(p, q, k, (b+k))))⋅S(p, q, ((-1.0⋅b)+i_2), i_2)'⋅U(p, n, ((-1.0⋅b)+i_2))))))+∑((b, n, k, p, q), δ(i_2, k, δ(i_1, n, δ(i_0, p, (∑((k, p, q), (U(q, n, (b+k))'⋅S(p, q, k, (b+k))'⋅U(p, n, k)))⋅U(q, n, (b+k))⋅S(p, q, k, (b+k)))))))))\n",
      "yesdirected!\n",
      "\n",
      "  0.003360 seconds (41.75 k allocations: 1.278 MiB)\n",
      "5 contract_delta\n",
      "(2.0⋅(∑((b, n, p, q), δ(i_1, n, δ(i_0, q, (∑((k, p, q), (U(p, n, k)'⋅U(q, n, (b+k))⋅S(p, q, k, (b+k))))⋅S(p, q, ((-1.0⋅b)+i_2), i_2)'⋅U(p, n, ((-1.0⋅b)+i_2))))))+∑((b, n, k, p, q), δ(i_2, k, δ(i_1, n, δ(i_0, p, (∑((k, p, q), (U(q, n, (b+k))'⋅S(p, q, k, (b+k))'⋅U(p, n, k)))⋅U(q, n, (b+k))⋅S(p, q, k, (b+k)))))))))\n",
      "(2.0⋅(∑((b, p, q), δ(i_0, q, (∑((k, p, q), (U(p, i_1, k)'⋅U(q, i_1, (b+k))⋅S(p, q, k, (b+k))))⋅S(p, q, ((-1.0⋅b)+i_2), i_2)'⋅U(p, i_1, ((-1.0⋅b)+i_2)))))+∑((b, n, k, p, q), δ(i_2, k, δ(i_1, n, δ(i_0, p, (∑((k, p, q), (U(q, n, (b+k))'⋅S(p, q, k, (b+k))'⋅U(p, n, k)))⋅U(q, n, (b+k))⋅S(p, q, k, (b+k)))))))))\n",
      "yesdirected!\n",
      "\n",
      "  0.002876 seconds (34.44 k allocations: 1.055 MiB)\n",
      "6 contract_delta\n",
      "(2.0⋅(∑((b, p, q), δ(i_0, q, (∑((k, p, q), (U(p, i_1, k)'⋅U(q, i_1, (b+k))⋅S(p, q, k, (b+k))))⋅S(p, q, ((-1.0⋅b)+i_2), i_2)'⋅U(p, i_1, ((-1.0⋅b)+i_2)))))+∑((b, n, k, p, q), δ(i_2, k, δ(i_1, n, δ(i_0, p, (∑((k, p, q), (U(q, n, (b+k))'⋅S(p, q, k, (b+k))'⋅U(p, n, k)))⋅U(q, n, (b+k))⋅S(p, q, k, (b+k)))))))))\n",
      "(2.0⋅(∑((b, p), (∑((k, p, q), (U(p, i_1, k)'⋅U(q, i_1, (b+k))⋅S(p, q, k, (b+k))))⋅S(p, i_0, ((-1.0⋅b)+i_2), i_2)'⋅U(p, i_1, ((-1.0⋅b)+i_2))))+∑((b, n, k, p, q), δ(i_2, k, δ(i_1, n, δ(i_0, p, (∑((k, p, q), (U(q, n, (b+k))'⋅S(p, q, k, (b+k))'⋅U(p, n, k)))⋅U(q, n, (b+k))⋅S(p, q, k, (b+k)))))))))\n",
      "yesdirected!\n",
      "\n",
      "  0.002786 seconds (33.75 k allocations: 1.024 MiB)\n",
      "7 sum_out\n",
      "(2.0⋅(∑((b, p), (∑((k, p, q), (U(p, i_1, k)'⋅U(q, i_1, (b+k))⋅S(p, q, k, (b+k))))⋅S(p, i_0, ((-1.0⋅b)+i_2), i_2)'⋅U(p, i_1, ((-1.0⋅b)+i_2))))+∑((b, n, k, p, q), δ(i_2, k, δ(i_1, n, δ(i_0, p, (∑((k, p, q), (U(q, n, (b+k))'⋅S(p, q, k, (b+k))'⋅U(p, n, k)))⋅U(q, n, (b+k))⋅S(p, q, k, (b+k)))))))))\n",
      "(2.0⋅(∑((b, p), (∑((k, q), (∑((p), (U(p, i_1, k)'⋅S(p, q, k, (b+k))))⋅U(q, i_1, (b+k))))⋅S(p, i_0, ((-1.0⋅b)+i_2), i_2)'⋅U(p, i_1, ((-1.0⋅b)+i_2))))+∑((b, n, k, p, q), δ(i_2, k, δ(i_1, n, δ(i_0, p, (∑((k, p, q), (U(q, n, (b+k))'⋅S(p, q, k, (b+k))'⋅U(p, n, k)))⋅U(q, n, (b+k))⋅S(p, q, k, (b+k)))))))))\n",
      "yesdirected!\n",
      "\n",
      "  0.004552 seconds (66.20 k allocations: 1.966 MiB)\n",
      "8 contract_delta\n",
      "(2.0⋅(∑((b, p), (∑((k, q), (∑((p), (U(p, i_1, k)'⋅S(p, q, k, (b+k))))⋅U(q, i_1, (b+k))))⋅S(p, i_0, ((-1.0⋅b)+i_2), i_2)'⋅U(p, i_1, ((-1.0⋅b)+i_2))))+∑((b, n, k, p, q), δ(i_2, k, δ(i_1, n, δ(i_0, p, (∑((k, p, q), (U(q, n, (b+k))'⋅S(p, q, k, (b+k))'⋅U(p, n, k)))⋅U(q, n, (b+k))⋅S(p, q, k, (b+k)))))))))\n",
      "(2.0⋅(∑((b, p), (∑((k, q), (∑((p), (U(p, i_1, k)'⋅S(p, q, k, (b+k))))⋅U(q, i_1, (b+k))))⋅S(p, i_0, ((-1.0⋅b)+i_2), i_2)'⋅U(p, i_1, ((-1.0⋅b)+i_2))))+∑((b, n, p, q), δ(i_1, n, δ(i_0, p, (∑((k, p, q), (U(q, n, (b+k))'⋅S(p, q, k, (b+k))'⋅U(p, n, k)))⋅U(q, n, (i_2+b))⋅S(p, q, i_2, (i_2+b))))))))\n",
      "yesdirected!\n",
      "\n",
      "  0.003661 seconds (49.57 k allocations: 1.496 MiB)\n",
      "9 contract_delta\n",
      "(2.0⋅(∑((b, p), (∑((k, q), (∑((p), (U(p, i_1, k)'⋅S(p, q, k, (b+k))))⋅U(q, i_1, (b+k))))⋅S(p, i_0, ((-1.0⋅b)+i_2), i_2)'⋅U(p, i_1, ((-1.0⋅b)+i_2))))+∑((b, n, p, q), δ(i_1, n, δ(i_0, p, (∑((k, p, q), (U(q, n, (b+k))'⋅S(p, q, k, (b+k))'⋅U(p, n, k)))⋅U(q, n, (i_2+b))⋅S(p, q, i_2, (i_2+b))))))))\n",
      "(2.0⋅(∑((b, p), (∑((k, q), (∑((p), (U(p, i_1, k)'⋅S(p, q, k, (b+k))))⋅U(q, i_1, (b+k))))⋅S(p, i_0, ((-1.0⋅b)+i_2), i_2)'⋅U(p, i_1, ((-1.0⋅b)+i_2))))+∑((b, p, q), δ(i_0, p, (∑((k, p, q), (U(q, i_1, (b+k))'⋅S(p, q, k, (b+k))'⋅U(p, i_1, k)))⋅U(q, i_1, (i_2+b))⋅S(p, q, i_2, (i_2+b)))))))\n",
      "yesdirected!\n",
      "\n",
      "  0.003417 seconds (49.90 k allocations: 1.472 MiB)\n",
      "10 contract_delta\n",
      "(2.0⋅(∑((b, p), (∑((k, q), (∑((p), (U(p, i_1, k)'⋅S(p, q, k, (b+k))))⋅U(q, i_1, (b+k))))⋅S(p, i_0, ((-1.0⋅b)+i_2), i_2)'⋅U(p, i_1, ((-1.0⋅b)+i_2))))+∑((b, p, q), δ(i_0, p, (∑((k, p, q), (U(q, i_1, (b+k))'⋅S(p, q, k, (b+k))'⋅U(p, i_1, k)))⋅U(q, i_1, (i_2+b))⋅S(p, q, i_2, (i_2+b)))))))\n",
      "(2.0⋅(∑((b, q), (∑((k, p, q), (U(q, i_1, (b+k))'⋅S(p, q, k, (b+k))'⋅U(p, i_1, k)))⋅U(q, i_1, (i_2+b))⋅S(i_0, q, i_2, (i_2+b))))+∑((b, p), (∑((k, q), (∑((p), (U(p, i_1, k)'⋅S(p, q, k, (b+k))))⋅U(q, i_1, (b+k))))⋅S(p, i_0, ((-1.0⋅b)+i_2), i_2)'⋅U(p, i_1, ((-1.0⋅b)+i_2))))))\n",
      "yesdirected!\n",
      "\n",
      "  0.001848 seconds (29.39 k allocations: 892.391 KiB)\n",
      "11 sum_out\n",
      "(2.0⋅(∑((b, q), (∑((k, p, q), (U(q, i_1, (b+k))'⋅S(p, q, k, (b+k))'⋅U(p, i_1, k)))⋅U(q, i_1, (i_2+b))⋅S(i_0, q, i_2, (i_2+b))))+∑((b, p), (∑((k, q), (∑((p), (U(p, i_1, k)'⋅S(p, q, k, (b+k))))⋅U(q, i_1, (b+k))))⋅S(p, i_0, ((-1.0⋅b)+i_2), i_2)'⋅U(p, i_1, ((-1.0⋅b)+i_2))))))\n",
      "(2.0⋅(∑((b, q), (∑((k, q), (∑((p), (S(p, q, k, (b+k))'⋅U(p, i_1, k)))⋅U(q, i_1, (b+k))'))⋅U(q, i_1, (i_2+b))⋅S(i_0, q, i_2, (i_2+b))))+∑((b, p), (∑((k, q), (∑((p), (U(p, i_1, k)'⋅S(p, q, k, (b+k))))⋅U(q, i_1, (b+k))))⋅S(p, i_0, ((-1.0⋅b)+i_2), i_2)'⋅U(p, i_1, ((-1.0⋅b)+i_2))))))\n",
      "yesdirected!\n",
      "\n",
      "  0.000000 seconds\n"
     ]
    },
    {
     "data": {
      "text/latex": [
       "$\\left(i_0, i_1, i_2\\right) \\to (2.0\\cdot \\left(\\sum_{b, q}\\left[(\\sum_{k, q}\\left[(\\sum_{p}\\left[(S_{p, q, k, \\left(b+k\\right)}^*\\cdot U_{p, i_1, k})\\right]\\cdot U_{q, i_1, \\left(b+k\\right)}^*)\\right]\\cdot U_{q, i_1, \\left(i_2+b\\right)}\\cdot S_{i_0, q, i_2, \\left(i_2+b\\right)})\\right]+\\sum_{b, p}\\left[(\\sum_{k, q}\\left[(\\sum_{p}\\left[(U_{p, i_1, k}^*\\cdot S_{p, q, k, \\left(b+k\\right)})\\right]\\cdot U_{q, i_1, \\left(b+k\\right)})\\right]\\cdot S_{p, i_0, \\left((-1.0\\cdot b)+i_2\\right), i_2}^*\\cdot U_{p, i_1, \\left((-1.0\\cdot b)+i_2\\right)})\\right]\\right))$"
      ],
      "text/plain": [
       "(i_0, i_1, i_2) -> \n",
       "    (2.0⋅(∑((b, q), (∑((k, q), (∑((p), (S(p, q, k, (b+k))'⋅U(p, i_1, k)))⋅U(q, i_1, (b+k))'))⋅U(q, i_1, (i_2+b))⋅S(i_0, q, i_2, (i_2+b))))+∑((b, p), (∑((k, q), (∑((p), (U(p, i_1, k)'⋅S(p, q, k, (b+k))))⋅U(q, i_1, (b+k))))⋅S(p, i_0, ((-1.0⋅b)+i_2), i_2)'⋅U(p, i_1, ((-1.0⋅b)+i_2))))))"
      ]
     },
     "execution_count": 9,
     "metadata": {},
     "output_type": "execute_result"
    }
   ],
   "source": [
    "g_3 = simplify(g_2; settings=Dict(:clench_sum=>true)) |> first"
   ]
  },
  {
   "cell_type": "code",
   "execution_count": 12,
   "id": "f91d984b",
   "metadata": {},
   "outputs": [
    {
     "name": "stdout",
     "output_type": "stream",
     "text": [
      "  0.040604 seconds (214.69 k allocations: 11.719 MiB, 84.82% compilation time)\n",
      "1 sum_in\n",
      "(2.0⋅(∑((b, q), (∑((k, q), (∑((p), (S(p, q, k, (b+k))'⋅U(p, i_1, k)))⋅U(q, i_1, (b+k))'))⋅U(q, i_1, (i_2+b))⋅S(i_0, q, i_2, (i_2+b))))+∑((b, p), (∑((k, q), (∑((p), (U(p, i_1, k)'⋅S(p, q, k, (b+k))))⋅U(q, i_1, (b+k))))⋅S(p, i_0, ((-1.0⋅b)+i_2), i_2)'⋅U(p, i_1, ((-1.0⋅b)+i_2))))))\n",
      "(2.0⋅(∑((b, p), (∑((k, q), (∑((p), (U(p, i_1, k)'⋅S(p, q, k, (b+k))))⋅U(q, i_1, (b+k))))⋅S(p, i_0, ((-1.0⋅b)+i_2), i_2)'⋅U(p, i_1, ((-1.0⋅b)+i_2))))+∑((b, q, k, i_3), (∑((p), (S(p, i_3, k, (b+k))'⋅U(p, i_1, k)))⋅U(i_3, i_1, (b+k))'⋅U(q, i_1, (i_2+b))⋅S(i_0, q, i_2, (i_2+b))))))\n",
      "yesdirected!\n",
      "\n",
      "  0.008010 seconds (129.97 k allocations: 3.866 MiB)\n",
      "2 sum_in\n",
      "(2.0⋅(∑((b, p), (∑((k, q), (∑((p), (U(p, i_1, k)'⋅S(p, q, k, (b+k))))⋅U(q, i_1, (b+k))))⋅S(p, i_0, ((-1.0⋅b)+i_2), i_2)'⋅U(p, i_1, ((-1.0⋅b)+i_2))))+∑((b, q, k, i_3), (∑((p), (S(p, i_3, k, (b+k))'⋅U(p, i_1, k)))⋅U(i_3, i_1, (b+k))'⋅U(q, i_1, (i_2+b))⋅S(i_0, q, i_2, (i_2+b))))))\n",
      "(2.0⋅(∑((b, q, k, i_3), (∑((p), (S(p, i_3, k, (b+k))'⋅U(p, i_1, k)))⋅U(i_3, i_1, (b+k))'⋅U(q, i_1, (i_2+b))⋅S(i_0, q, i_2, (i_2+b))))+∑((b, p, k, q), (∑((p), (U(p, i_1, k)'⋅S(p, q, k, (b+k))))⋅S(p, i_0, ((-1.0⋅b)+i_2), i_2)'⋅U(q, i_1, (b+k))⋅U(p, i_1, ((-1.0⋅b)+i_2))))))\n",
      "yesdirected!\n",
      "\n",
      "  0.014095 seconds (105.52 k allocations: 3.102 MiB, 52.77% gc time)\n",
      "3 sum_in\n",
      "(2.0⋅(∑((b, q, k, i_3), (∑((p), (S(p, i_3, k, (b+k))'⋅U(p, i_1, k)))⋅U(i_3, i_1, (b+k))'⋅U(q, i_1, (i_2+b))⋅S(i_0, q, i_2, (i_2+b))))+∑((b, p, k, q), (∑((p), (U(p, i_1, k)'⋅S(p, q, k, (b+k))))⋅S(p, i_0, ((-1.0⋅b)+i_2), i_2)'⋅U(q, i_1, (b+k))⋅U(p, i_1, ((-1.0⋅b)+i_2))))))\n",
      "(2.0⋅(∑((b, p, k, q), (∑((p), (U(p, i_1, k)'⋅S(p, q, k, (b+k))))⋅S(p, i_0, ((-1.0⋅b)+i_2), i_2)'⋅U(q, i_1, (b+k))⋅U(p, i_1, ((-1.0⋅b)+i_2))))+∑((b, q, k, i_3, p), (U(i_3, i_1, (b+k))'⋅S(p, i_3, k, (b+k))'⋅U(q, i_1, (i_2+b))⋅U(p, i_1, k)⋅S(i_0, q, i_2, (i_2+b))))))\n",
      "yesdirected!\n",
      "\n",
      "  0.011470 seconds (192.76 k allocations: 5.584 MiB)\n",
      "4 sum_in\n",
      "(2.0⋅(∑((b, p, k, q), (∑((p), (U(p, i_1, k)'⋅S(p, q, k, (b+k))))⋅S(p, i_0, ((-1.0⋅b)+i_2), i_2)'⋅U(q, i_1, (b+k))⋅U(p, i_1, ((-1.0⋅b)+i_2))))+∑((b, q, k, i_3, p), (U(i_3, i_1, (b+k))'⋅S(p, i_3, k, (b+k))'⋅U(q, i_1, (i_2+b))⋅U(p, i_1, k)⋅S(i_0, q, i_2, (i_2+b))))))\n",
      "(2.0⋅(∑((b, q, k, i_3, p), (U(i_3, i_1, (b+k))'⋅S(p, i_3, k, (b+k))'⋅U(q, i_1, (i_2+b))⋅U(p, i_1, k)⋅S(i_0, q, i_2, (i_2+b))))+∑((b, p, k, q, i_3), (U(i_3, i_1, k)'⋅S(p, i_0, ((-1.0⋅b)+i_2), i_2)'⋅U(q, i_1, (b+k))⋅U(p, i_1, ((-1.0⋅b)+i_2))⋅S(i_3, q, k, (b+k))))))\n",
      "yesdirected!\n",
      "\n",
      "  0.025555 seconds (171.47 k allocations: 6.822 MiB, 31.23% gc time, 71.49% compilation time)\n",
      "5 shift\n",
      "(2.0⋅(∑((b, q, k, i_3, p), (U(i_3, i_1, (b+k))'⋅S(p, i_3, k, (b+k))'⋅U(q, i_1, (i_2+b))⋅U(p, i_1, k)⋅S(i_0, q, i_2, (i_2+b))))+∑((b, p, k, q, i_3), (U(i_3, i_1, k)'⋅S(p, i_0, ((-1.0⋅b)+i_2), i_2)'⋅U(q, i_1, (b+k))⋅U(p, i_1, ((-1.0⋅b)+i_2))⋅S(i_3, q, k, (b+k))))))\n",
      "(2.0⋅(∑((b, q, k, i_3, p), (U(i_3, i_1, k)'⋅S(p, i_3, ((-1.0⋅b)+k), k)'⋅U(q, i_1, (i_2+b))⋅U(p, i_1, ((-1.0⋅b)+k))⋅S(i_0, q, i_2, (i_2+b))))+∑((b, p, k, q, i_3), (U(i_3, i_1, k)'⋅S(p, i_0, ((-1.0⋅b)+i_2), i_2)'⋅U(q, i_1, (b+k))⋅U(p, i_1, ((-1.0⋅b)+i_2))⋅S(i_3, q, k, (b+k))))))\n",
      "notdirected\n",
      "\n",
      "  0.031810 seconds (292.10 k allocations: 10.474 MiB, 52.54% compilation time)\n",
      "6 sum_sym\n",
      "(2.0⋅(∑((b, q, k, i_3, p), (U(i_3, i_1, k)'⋅S(p, i_3, ((-1.0⋅b)+k), k)'⋅U(q, i_1, (i_2+b))⋅U(p, i_1, ((-1.0⋅b)+k))⋅S(i_0, q, i_2, (i_2+b))))+∑((b, p, k, q, i_3), (U(i_3, i_1, k)'⋅S(p, i_0, ((-1.0⋅b)+i_2), i_2)'⋅U(q, i_1, (b+k))⋅U(p, i_1, ((-1.0⋅b)+i_2))⋅S(i_3, q, k, (b+k))))))\n",
      "(2.0⋅(∑((b, q, k, i_3, p), (U(i_3, i_1, k)'⋅S(p, i_3, (b+k), k)'⋅U(q, i_1, ((-1.0⋅b)+i_2))⋅U(p, i_1, (b+k))⋅S(i_0, q, i_2, ((-1.0⋅b)+i_2))))+∑((b, p, k, q, i_3), (U(i_3, i_1, k)'⋅S(p, i_0, ((-1.0⋅b)+i_2), i_2)'⋅U(q, i_1, (b+k))⋅U(p, i_1, ((-1.0⋅b)+i_2))⋅S(i_3, q, k, (b+k))))))\n",
      "notdirected\n",
      "\n",
      "  0.014769 seconds (244.83 k allocations: 7.087 MiB)\n",
      "7 shift\n",
      "(2.0⋅(∑((b, q, k, i_3, p), (U(i_3, i_1, k)'⋅S(p, i_3, (b+k), k)'⋅U(q, i_1, ((-1.0⋅b)+i_2))⋅U(p, i_1, (b+k))⋅S(i_0, q, i_2, ((-1.0⋅b)+i_2))))+∑((b, p, k, q, i_3), (U(i_3, i_1, k)'⋅S(p, i_0, ((-1.0⋅b)+i_2), i_2)'⋅U(q, i_1, (b+k))⋅U(p, i_1, ((-1.0⋅b)+i_2))⋅S(i_3, q, k, (b+k))))))\n",
      "(2.0⋅(∑((b, q, k, i_3, p), (U(i_3, i_1, ((-1.0⋅b)+k))'⋅S(p, i_3, k, ((-1.0⋅b)+k))'⋅U(q, i_1, ((-1.0⋅b)+i_2))⋅U(p, i_1, k)⋅S(i_0, q, i_2, ((-1.0⋅b)+i_2))))+∑((b, p, k, q, i_3), (U(i_3, i_1, k)'⋅S(p, i_0, ((-1.0⋅b)+i_2), i_2)'⋅U(q, i_1, (b+k))⋅U(p, i_1, ((-1.0⋅b)+i_2))⋅S(i_3, q, k, (b+k))))))\n",
      "notdirected\n",
      "\n",
      "  0.021754 seconds (357.33 k allocations: 10.357 MiB)\n",
      "8 symmetry\n",
      "(2.0⋅(∑((b, q, k, i_3, p), (U(i_3, i_1, ((-1.0⋅b)+k))'⋅S(p, i_3, k, ((-1.0⋅b)+k))'⋅U(q, i_1, ((-1.0⋅b)+i_2))⋅U(p, i_1, k)⋅S(i_0, q, i_2, ((-1.0⋅b)+i_2))))+∑((b, p, k, q, i_3), (U(i_3, i_1, k)'⋅S(p, i_0, ((-1.0⋅b)+i_2), i_2)'⋅U(q, i_1, (b+k))⋅U(p, i_1, ((-1.0⋅b)+i_2))⋅S(i_3, q, k, (b+k))))))\n",
      "(2.0⋅(∑((b, q, k, i_3, p), (U(i_3, i_1, ((-1.0⋅b)+k))'⋅U(q, i_1, ((-1.0⋅b)+i_2))⋅U(p, i_1, k)⋅S(i_3, p, ((-1.0⋅b)+k), k)⋅S(i_0, q, i_2, ((-1.0⋅b)+i_2))))+∑((b, p, k, q, i_3), (U(i_3, i_1, k)'⋅S(p, i_0, ((-1.0⋅b)+i_2), i_2)'⋅U(q, i_1, (b+k))⋅U(p, i_1, ((-1.0⋅b)+i_2))⋅S(i_3, q, k, (b+k))))))\n",
      "notdirected\n",
      "\n",
      "  0.021587 seconds (371.03 k allocations: 10.739 MiB)\n",
      "9 shift\n",
      "(2.0⋅(∑((b, q, k, i_3, p), (U(i_3, i_1, ((-1.0⋅b)+k))'⋅U(q, i_1, ((-1.0⋅b)+i_2))⋅U(p, i_1, k)⋅S(i_3, p, ((-1.0⋅b)+k), k)⋅S(i_0, q, i_2, ((-1.0⋅b)+i_2))))+∑((b, p, k, q, i_3), (U(i_3, i_1, k)'⋅S(p, i_0, ((-1.0⋅b)+i_2), i_2)'⋅U(q, i_1, (b+k))⋅U(p, i_1, ((-1.0⋅b)+i_2))⋅S(i_3, q, k, (b+k))))))\n",
      "(2.0⋅(∑((b, q, k, i_3, p), (U(i_3, i_1, k)'⋅U(q, i_1, ((-1.0⋅b)+i_2))⋅U(p, i_1, (b+k))⋅S(i_3, p, k, (b+k))⋅S(i_0, q, i_2, ((-1.0⋅b)+i_2))))+∑((b, p, k, q, i_3), (U(i_3, i_1, k)'⋅S(p, i_0, ((-1.0⋅b)+i_2), i_2)'⋅U(q, i_1, (b+k))⋅U(p, i_1, ((-1.0⋅b)+i_2))⋅S(i_3, q, k, (b+k))))))\n",
      "notdirected\n",
      "\n",
      "  0.017814 seconds (272.98 k allocations: 8.062 MiB, 0.29% compilation time)\n",
      "10 sum_sym\n",
      "(2.0⋅(∑((b, q, k, i_3, p), (U(i_3, i_1, k)'⋅U(q, i_1, ((-1.0⋅b)+i_2))⋅U(p, i_1, (b+k))⋅S(i_3, p, k, (b+k))⋅S(i_0, q, i_2, ((-1.0⋅b)+i_2))))+∑((b, p, k, q, i_3), (U(i_3, i_1, k)'⋅S(p, i_0, ((-1.0⋅b)+i_2), i_2)'⋅U(q, i_1, (b+k))⋅U(p, i_1, ((-1.0⋅b)+i_2))⋅S(i_3, q, k, (b+k))))))\n",
      "(2.0⋅(∑((b, q, k, i_3, p), (U(i_3, i_1, k)'⋅U(q, i_1, (i_2+b))⋅U(p, i_1, ((-1.0⋅b)+k))⋅S(i_3, p, k, ((-1.0⋅b)+k))⋅S(i_0, q, i_2, (i_2+b))))+∑((b, p, k, q, i_3), (U(i_3, i_1, k)'⋅S(p, i_0, ((-1.0⋅b)+i_2), i_2)'⋅U(q, i_1, (b+k))⋅U(p, i_1, ((-1.0⋅b)+i_2))⋅S(i_3, q, k, (b+k))))))\n",
      "notdirected\n",
      "\n",
      "  0.021881 seconds (350.93 k allocations: 10.289 MiB)\n",
      "11 shift\n",
      "(2.0⋅(∑((b, q, k, i_3, p), (U(i_3, i_1, k)'⋅U(q, i_1, (i_2+b))⋅U(p, i_1, ((-1.0⋅b)+k))⋅S(i_3, p, k, ((-1.0⋅b)+k))⋅S(i_0, q, i_2, (i_2+b))))+∑((b, p, k, q, i_3), (U(i_3, i_1, k)'⋅S(p, i_0, ((-1.0⋅b)+i_2), i_2)'⋅U(q, i_1, (b+k))⋅U(p, i_1, ((-1.0⋅b)+i_2))⋅S(i_3, q, k, (b+k))))))\n",
      "(2.0⋅(∑((b, q, k, i_3, p), (U(i_3, i_1, (b+k))'⋅U(q, i_1, (i_2+b))⋅U(p, i_1, k)⋅S(i_3, p, (b+k), k)⋅S(i_0, q, i_2, (i_2+b))))+∑((b, p, k, q, i_3), (U(i_3, i_1, k)'⋅S(p, i_0, ((-1.0⋅b)+i_2), i_2)'⋅U(q, i_1, (b+k))⋅U(p, i_1, ((-1.0⋅b)+i_2))⋅S(i_3, q, k, (b+k))))))\n",
      "notdirected\n",
      "\n",
      "  0.035081 seconds (444.63 k allocations: 13.047 MiB, 20.25% gc time)\n",
      "12 symmetry\n",
      "(2.0⋅(∑((b, q, k, i_3, p), (U(i_3, i_1, (b+k))'⋅U(q, i_1, (i_2+b))⋅U(p, i_1, k)⋅S(i_3, p, (b+k), k)⋅S(i_0, q, i_2, (i_2+b))))+∑((b, p, k, q, i_3), (U(i_3, i_1, k)'⋅S(p, i_0, ((-1.0⋅b)+i_2), i_2)'⋅U(q, i_1, (b+k))⋅U(p, i_1, ((-1.0⋅b)+i_2))⋅S(i_3, q, k, (b+k))))))\n",
      "(2.0⋅(∑((b, q, k, i_3, p), (U(i_3, i_1, (b+k))'⋅S(q, i_0, (i_2+b), i_2)'⋅U(q, i_1, (i_2+b))⋅U(p, i_1, k)⋅S(i_3, p, (b+k), k)))+∑((b, p, k, q, i_3), (U(i_3, i_1, k)'⋅S(p, i_0, ((-1.0⋅b)+i_2), i_2)'⋅U(q, i_1, (b+k))⋅U(p, i_1, ((-1.0⋅b)+i_2))⋅S(i_3, q, k, (b+k))))))\n",
      "notdirected\n",
      "\n",
      "  0.027696 seconds (480.63 k allocations: 13.778 MiB)\n",
      "13 shift\n",
      "(2.0⋅(∑((b, q, k, i_3, p), (U(i_3, i_1, (b+k))'⋅S(q, i_0, (i_2+b), i_2)'⋅U(q, i_1, (i_2+b))⋅U(p, i_1, k)⋅S(i_3, p, (b+k), k)))+∑((b, p, k, q, i_3), (U(i_3, i_1, k)'⋅S(p, i_0, ((-1.0⋅b)+i_2), i_2)'⋅U(q, i_1, (b+k))⋅U(p, i_1, ((-1.0⋅b)+i_2))⋅S(i_3, q, k, (b+k))))))\n",
      "(2.0⋅(∑((b, q, k, i_3, p), (U(i_3, i_1, k)'⋅S(q, i_0, (i_2+b), i_2)'⋅U(q, i_1, (i_2+b))⋅U(p, i_1, ((-1.0⋅b)+k))⋅S(i_3, p, k, ((-1.0⋅b)+k))))+∑((b, p, k, q, i_3), (U(i_3, i_1, k)'⋅S(p, i_0, ((-1.0⋅b)+i_2), i_2)'⋅U(q, i_1, (b+k))⋅U(p, i_1, ((-1.0⋅b)+i_2))⋅S(i_3, q, k, (b+k))))))\n",
      "notdirected\n",
      "\n",
      "  0.022148 seconds (370.92 k allocations: 10.756 MiB)\n",
      "14 sum_sym\n",
      "(2.0⋅(∑((b, q, k, i_3, p), (U(i_3, i_1, k)'⋅S(q, i_0, (i_2+b), i_2)'⋅U(q, i_1, (i_2+b))⋅U(p, i_1, ((-1.0⋅b)+k))⋅S(i_3, p, k, ((-1.0⋅b)+k))))+∑((b, p, k, q, i_3), (U(i_3, i_1, k)'⋅S(p, i_0, ((-1.0⋅b)+i_2), i_2)'⋅U(q, i_1, (b+k))⋅U(p, i_1, ((-1.0⋅b)+i_2))⋅S(i_3, q, k, (b+k))))))\n",
      "(∑((b, p, k, q, i_3), (U(i_3, i_1, k)'⋅S(p, i_0, ((-1.0⋅b)+i_2), i_2)'⋅U(q, i_1, (b+k))⋅U(p, i_1, ((-1.0⋅b)+i_2))⋅S(i_3, q, k, (b+k))))⋅4.0)\n",
      "notdirected\n",
      "\n",
      "  0.003044 seconds (46.59 k allocations: 1.616 MiB, 7.18% compilation time)\n",
      "15 sum_in\n",
      "(∑((b, p, k, q, i_3), (U(i_3, i_1, k)'⋅S(p, i_0, ((-1.0⋅b)+i_2), i_2)'⋅U(q, i_1, (b+k))⋅U(p, i_1, ((-1.0⋅b)+i_2))⋅S(i_3, q, k, (b+k))))⋅4.0)\n",
      "∑((b, p, k, q, i_3), (4.0⋅U(i_3, i_1, k)'⋅S(p, i_0, ((-1.0⋅b)+i_2), i_2)'⋅U(q, i_1, (b+k))⋅U(p, i_1, ((-1.0⋅b)+i_2))⋅S(i_3, q, k, (b+k))))\n",
      "yesdirected!\n",
      "\n",
      "  0.001860 seconds (21.51 k allocations: 832.078 KiB)\n",
      "16 shift\n",
      "∑((b, p, k, q, i_3), (4.0⋅U(i_3, i_1, k)'⋅S(p, i_0, ((-1.0⋅b)+i_2), i_2)'⋅U(q, i_1, (b+k))⋅U(p, i_1, ((-1.0⋅b)+i_2))⋅S(i_3, q, k, (b+k))))\n",
      "∑((b, p, k, q, i_3), (4.0⋅U(i_3, i_1, ((-1.0⋅b)+k))'⋅S(p, i_0, ((-1.0⋅b)+i_2), i_2)'⋅U(q, i_1, k)⋅U(p, i_1, ((-1.0⋅b)+i_2))⋅S(i_3, q, ((-1.0⋅b)+k), k)))\n",
      "notdirected\n",
      "\n",
      "  0.005006 seconds (50.83 k allocations: 1.723 MiB)\n",
      "17 sum_sym\n",
      "∑((b, p, k, q, i_3), (4.0⋅U(i_3, i_1, ((-1.0⋅b)+k))'⋅S(p, i_0, ((-1.0⋅b)+i_2), i_2)'⋅U(q, i_1, k)⋅U(p, i_1, ((-1.0⋅b)+i_2))⋅S(i_3, q, ((-1.0⋅b)+k), k)))\n",
      "∑((b, p, k, q, i_3), (4.0⋅U(i_3, i_1, (b+k))'⋅S(p, i_0, (i_2+b), i_2)'⋅U(q, i_1, k)⋅U(p, i_1, (i_2+b))⋅S(i_3, q, (b+k), k)))\n",
      "notdirected\n",
      "\n",
      "  0.005115 seconds (57.62 k allocations: 1.912 MiB)\n",
      "18 shift\n",
      "∑((b, p, k, q, i_3), (4.0⋅U(i_3, i_1, (b+k))'⋅S(p, i_0, (i_2+b), i_2)'⋅U(q, i_1, k)⋅U(p, i_1, (i_2+b))⋅S(i_3, q, (b+k), k)))\n",
      "∑((b, p, k, q, i_3), (4.0⋅U(i_3, i_1, k)'⋅S(p, i_0, (i_2+b), i_2)'⋅U(q, i_1, ((-1.0⋅b)+k))⋅U(p, i_1, (i_2+b))⋅S(i_3, q, k, ((-1.0⋅b)+k))))\n",
      "notdirected\n",
      "\n",
      "  0.007806 seconds (83.23 k allocations: 2.727 MiB)\n",
      "19 symmetry\n",
      "∑((b, p, k, q, i_3), (4.0⋅U(i_3, i_1, k)'⋅S(p, i_0, (i_2+b), i_2)'⋅U(q, i_1, ((-1.0⋅b)+k))⋅U(p, i_1, (i_2+b))⋅S(i_3, q, k, ((-1.0⋅b)+k))))\n",
      "∑((b, p, k, q, i_3), (4.0⋅U(i_3, i_1, k)'⋅U(q, i_1, ((-1.0⋅b)+k))⋅U(p, i_1, (i_2+b))⋅S(i_3, q, k, ((-1.0⋅b)+k))⋅S(i_0, p, i_2, (i_2+b))))\n",
      "notdirected\n",
      "\n",
      "  0.006001 seconds (71.45 k allocations: 2.314 MiB)\n",
      "20 shift\n",
      "∑((b, p, k, q, i_3), (4.0⋅U(i_3, i_1, k)'⋅U(q, i_1, ((-1.0⋅b)+k))⋅U(p, i_1, (i_2+b))⋅S(i_3, q, k, ((-1.0⋅b)+k))⋅S(i_0, p, i_2, (i_2+b))))\n",
      "∑((b, p, k, q, i_3), (4.0⋅U(i_3, i_1, (b+k))'⋅U(q, i_1, k)⋅U(p, i_1, (i_2+b))⋅S(i_3, q, (b+k), k)⋅S(i_0, p, i_2, (i_2+b))))\n",
      "notdirected\n",
      "\n",
      "  0.008589 seconds (91.13 k allocations: 2.965 MiB)\n",
      "21 sum_sym\n",
      "∑((b, p, k, q, i_3), (4.0⋅U(i_3, i_1, (b+k))'⋅U(q, i_1, k)⋅U(p, i_1, (i_2+b))⋅S(i_3, q, (b+k), k)⋅S(i_0, p, i_2, (i_2+b))))\n",
      "∑((b, p, k, q, i_3), (4.0⋅U(i_3, i_1, ((-1.0⋅b)+k))'⋅U(q, i_1, k)⋅U(p, i_1, ((-1.0⋅b)+i_2))⋅S(i_3, q, ((-1.0⋅b)+k), k)⋅S(i_0, p, i_2, ((-1.0⋅b)+i_2))))\n",
      "notdirected\n",
      "\n",
      "  0.007694 seconds (82.00 k allocations: 2.717 MiB)\n",
      "22 shift\n",
      "∑((b, p, k, q, i_3), (4.0⋅U(i_3, i_1, ((-1.0⋅b)+k))'⋅U(q, i_1, k)⋅U(p, i_1, ((-1.0⋅b)+i_2))⋅S(i_3, q, ((-1.0⋅b)+k), k)⋅S(i_0, p, i_2, ((-1.0⋅b)+i_2))))\n",
      "∑((b, p, k, q, i_3), (4.0⋅U(i_3, i_1, k)'⋅U(q, i_1, (b+k))⋅U(p, i_1, ((-1.0⋅b)+i_2))⋅S(i_3, q, k, (b+k))⋅S(i_0, p, i_2, ((-1.0⋅b)+i_2))))\n",
      "notdirected\n",
      "\n",
      "  0.011261 seconds (116.94 k allocations: 3.864 MiB)\n",
      "23 symmetry\n",
      "∑((b, p, k, q, i_3), (4.0⋅U(i_3, i_1, k)'⋅U(q, i_1, (b+k))⋅U(p, i_1, ((-1.0⋅b)+i_2))⋅S(i_3, q, k, (b+k))⋅S(i_0, p, i_2, ((-1.0⋅b)+i_2))))\n",
      "∑((b, p, k, q, i_3), (4.0⋅U(i_3, i_1, k)'⋅S(q, i_3, (b+k), k)'⋅U(q, i_1, (b+k))⋅U(p, i_1, ((-1.0⋅b)+i_2))⋅S(i_0, p, i_2, ((-1.0⋅b)+i_2))))\n",
      "notdirected\n",
      "\n",
      "  0.006726 seconds (76.10 k allocations: 2.463 MiB)\n",
      "24 shift\n",
      "∑((b, p, k, q, i_3), (4.0⋅U(i_3, i_1, k)'⋅S(q, i_3, (b+k), k)'⋅U(q, i_1, (b+k))⋅U(p, i_1, ((-1.0⋅b)+i_2))⋅S(i_0, p, i_2, ((-1.0⋅b)+i_2))))\n",
      "∑((b, p, k, q, i_3), (4.0⋅U(i_3, i_1, ((-1.0⋅b)+k))'⋅S(q, i_3, k, ((-1.0⋅b)+k))'⋅U(q, i_1, k)⋅U(p, i_1, ((-1.0⋅b)+i_2))⋅S(i_0, p, i_2, ((-1.0⋅b)+i_2))))\n",
      "notdirected\n",
      "\n",
      "  0.017743 seconds (95.00 k allocations: 3.119 MiB, 47.99% gc time)\n",
      "25 sum_sym\n",
      "∑((b, p, k, q, i_3), (4.0⋅U(i_3, i_1, ((-1.0⋅b)+k))'⋅S(q, i_3, k, ((-1.0⋅b)+k))'⋅U(q, i_1, k)⋅U(p, i_1, ((-1.0⋅b)+i_2))⋅S(i_0, p, i_2, ((-1.0⋅b)+i_2))))\n",
      "∑((b, p, k, q, i_3), (4.0⋅U(i_3, i_1, (b+k))'⋅S(q, i_3, k, (b+k))'⋅U(q, i_1, k)⋅U(p, i_1, (i_2+b))⋅S(i_0, p, i_2, (i_2+b))))\n",
      "notdirected\n",
      "\n",
      "  0.008935 seconds (95.06 k allocations: 3.088 MiB)\n",
      "26 shift\n",
      "∑((b, p, k, q, i_3), (4.0⋅U(i_3, i_1, (b+k))'⋅S(q, i_3, k, (b+k))'⋅U(q, i_1, k)⋅U(p, i_1, (i_2+b))⋅S(i_0, p, i_2, (i_2+b))))\n",
      "∑((b, p, k, q, i_3), (4.0⋅U(i_3, i_1, k)'⋅S(q, i_3, ((-1.0⋅b)+k), k)'⋅U(q, i_1, ((-1.0⋅b)+k))⋅U(p, i_1, (i_2+b))⋅S(i_0, p, i_2, (i_2+b))))\n",
      "notdirected\n",
      "\n",
      "  0.010888 seconds (120.86 k allocations: 3.918 MiB)\n",
      "27 symmetry\n",
      "∑((b, p, k, q, i_3), (4.0⋅U(i_3, i_1, k)'⋅S(q, i_3, ((-1.0⋅b)+k), k)'⋅U(q, i_1, ((-1.0⋅b)+k))⋅U(p, i_1, (i_2+b))⋅S(i_0, p, i_2, (i_2+b))))\n",
      "∑((b, p, k, q, i_3), (4.0⋅U(i_3, i_1, k)'⋅S(q, i_3, ((-1.0⋅b)+k), k)'⋅S(p, i_0, (i_2+b), i_2)'⋅U(q, i_1, ((-1.0⋅b)+k))⋅U(p, i_1, (i_2+b))))\n",
      "notdirected\n",
      "\n",
      "  0.008738 seconds (99.50 k allocations: 3.212 MiB)\n",
      "28 shift\n",
      "∑((b, p, k, q, i_3), (4.0⋅U(i_3, i_1, k)'⋅S(q, i_3, ((-1.0⋅b)+k), k)'⋅S(p, i_0, (i_2+b), i_2)'⋅U(q, i_1, ((-1.0⋅b)+k))⋅U(p, i_1, (i_2+b))))\n",
      "∑((b, p, k, q, i_3), (4.0⋅U(i_3, i_1, (b+k))'⋅S(q, i_3, k, (b+k))'⋅S(p, i_0, (i_2+b), i_2)'⋅U(q, i_1, k)⋅U(p, i_1, (i_2+b))))\n",
      "notdirected\n",
      "\n",
      "  0.010008 seconds (109.61 k allocations: 3.557 MiB)\n",
      "29 sum_sym\n",
      "∑((b, p, k, q, i_3), (4.0⋅U(i_3, i_1, (b+k))'⋅S(q, i_3, k, (b+k))'⋅S(p, i_0, (i_2+b), i_2)'⋅U(q, i_1, k)⋅U(p, i_1, (i_2+b))))\n",
      "∑((b, p, k, q, i_3), (4.0⋅U(i_3, i_1, ((-1.0⋅b)+k))'⋅S(q, i_3, k, ((-1.0⋅b)+k))'⋅S(p, i_0, ((-1.0⋅b)+i_2), i_2)'⋅U(q, i_1, k)⋅U(p, i_1, ((-1.0⋅b)+i_2))))\n",
      "notdirected\n",
      "\n",
      "  0.010310 seconds (113.17 k allocations: 3.701 MiB)\n",
      "30 shift\n",
      "∑((b, p, k, q, i_3), (4.0⋅U(i_3, i_1, ((-1.0⋅b)+k))'⋅S(q, i_3, k, ((-1.0⋅b)+k))'⋅S(p, i_0, ((-1.0⋅b)+i_2), i_2)'⋅U(q, i_1, k)⋅U(p, i_1, ((-1.0⋅b)+i_2))))\n",
      "∑((b, p, k, q, i_3), (4.0⋅U(i_3, i_1, k)'⋅S(q, i_3, (b+k), k)'⋅S(p, i_0, ((-1.0⋅b)+i_2), i_2)'⋅U(q, i_1, (b+k))⋅U(p, i_1, ((-1.0⋅b)+i_2))))\n",
      "notdirected\n",
      "\n",
      "  0.021369 seconds (139.34 k allocations: 4.567 MiB, 37.33% gc time)\n",
      "31 sum_sym\n",
      "∑((b, p, k, q, i_3), (4.0⋅U(i_3, i_1, k)'⋅S(q, i_3, ((-1.0⋅b)+k), k)'⋅S(p, i_0, (i_2+b), i_2)'⋅U(q, i_1, ((-1.0⋅b)+k))⋅U(p, i_1, (i_2+b))))\n",
      "∑((b, p, k, q, i_3), (4.0⋅U(i_3, i_1, k)'⋅S(q, i_3, (b+k), k)'⋅S(p, i_0, ((-1.0⋅b)+i_2), i_2)'⋅U(q, i_1, (b+k))⋅U(p, i_1, ((-1.0⋅b)+i_2))))\n",
      "notdirected\n",
      "\n",
      "  0.012982 seconds (139.50 k allocations: 4.574 MiB)\n",
      "32 symmetry\n",
      "∑((b, p, k, q, i_3), (4.0⋅U(i_3, i_1, (b+k))'⋅S(q, i_3, k, (b+k))'⋅U(q, i_1, k)⋅U(p, i_1, (i_2+b))⋅S(i_0, p, i_2, (i_2+b))))\n",
      "∑((b, p, k, q, i_3), (4.0⋅U(i_3, i_1, (b+k))'⋅S(q, i_3, k, (b+k))'⋅S(p, i_0, (i_2+b), i_2)'⋅U(q, i_1, k)⋅U(p, i_1, (i_2+b))))\n",
      "notdirected\n",
      "\n",
      "  0.013278 seconds (131.47 k allocations: 4.286 MiB)\n",
      "33 symmetry\n",
      "∑((b, p, k, q, i_3), (4.0⋅U(i_3, i_1, ((-1.0⋅b)+k))'⋅S(q, i_3, k, ((-1.0⋅b)+k))'⋅U(q, i_1, k)⋅U(p, i_1, ((-1.0⋅b)+i_2))⋅S(i_0, p, i_2, ((-1.0⋅b)+i_2))))\n",
      "∑((b, p, k, q, i_3), (4.0⋅U(i_3, i_1, ((-1.0⋅b)+k))'⋅S(q, i_3, k, ((-1.0⋅b)+k))'⋅S(p, i_0, ((-1.0⋅b)+i_2), i_2)'⋅U(q, i_1, k)⋅U(p, i_1, ((-1.0⋅b)+i_2))))\n",
      "notdirected\n",
      "\n",
      "  0.013026 seconds (137.25 k allocations: 4.485 MiB)\n",
      "34 sum_sym\n",
      "∑((b, p, k, q, i_3), (4.0⋅U(i_3, i_1, k)'⋅S(q, i_3, (b+k), k)'⋅U(q, i_1, (b+k))⋅U(p, i_1, ((-1.0⋅b)+i_2))⋅S(i_0, p, i_2, ((-1.0⋅b)+i_2))))\n",
      "∑((b, p, k, q, i_3), (4.0⋅U(i_3, i_1, k)'⋅S(q, i_3, ((-1.0⋅b)+k), k)'⋅U(q, i_1, ((-1.0⋅b)+k))⋅U(p, i_1, (i_2+b))⋅S(i_0, p, i_2, (i_2+b))))\n",
      "notdirected\n",
      "\n",
      "  0.013228 seconds (145.43 k allocations: 4.727 MiB)\n",
      "35 symmetry\n",
      "∑((b, p, k, q, i_3), (4.0⋅U(i_3, i_1, k)'⋅S(q, i_3, (b+k), k)'⋅U(q, i_1, (b+k))⋅U(p, i_1, ((-1.0⋅b)+i_2))⋅S(i_0, p, i_2, ((-1.0⋅b)+i_2))))\n",
      "∑((b, p, k, q, i_3), (4.0⋅U(i_3, i_1, k)'⋅S(q, i_3, (b+k), k)'⋅S(p, i_0, ((-1.0⋅b)+i_2), i_2)'⋅U(q, i_1, (b+k))⋅U(p, i_1, ((-1.0⋅b)+i_2))))\n",
      "notdirected\n",
      "\n",
      "  0.020369 seconds (139.33 k allocations: 4.563 MiB, 33.62% gc time)\n",
      "36 symmetry\n",
      "∑((b, p, k, q, i_3), (4.0⋅U(i_3, i_1, ((-1.0⋅b)+k))'⋅U(q, i_1, k)⋅U(p, i_1, ((-1.0⋅b)+i_2))⋅S(i_3, q, ((-1.0⋅b)+k), k)⋅S(i_0, p, i_2, ((-1.0⋅b)+i_2))))\n",
      "∑((b, p, k, q, i_3), (4.0⋅U(i_3, i_1, ((-1.0⋅b)+k))'⋅S(q, i_3, k, ((-1.0⋅b)+k))'⋅U(q, i_1, k)⋅U(p, i_1, ((-1.0⋅b)+i_2))⋅S(i_0, p, i_2, ((-1.0⋅b)+i_2))))\n",
      "notdirected\n",
      "\n",
      "  0.013118 seconds (143.34 k allocations: 4.698 MiB)\n",
      "37 symmetry\n",
      "∑((b, p, k, q, i_3), (4.0⋅U(i_3, i_1, (b+k))'⋅U(q, i_1, k)⋅U(p, i_1, (i_2+b))⋅S(i_3, q, (b+k), k)⋅S(i_0, p, i_2, (i_2+b))))\n",
      "∑((b, p, k, q, i_3), (4.0⋅U(i_3, i_1, (b+k))'⋅S(q, i_3, k, (b+k))'⋅U(q, i_1, k)⋅U(p, i_1, (i_2+b))⋅S(i_0, p, i_2, (i_2+b))))\n",
      "notdirected\n",
      "\n",
      "  0.013021 seconds (135.72 k allocations: 4.421 MiB)\n",
      "38 sum_sym\n",
      "∑((b, p, k, q, i_3), (4.0⋅U(i_3, i_1, k)'⋅U(q, i_1, ((-1.0⋅b)+k))⋅U(p, i_1, (i_2+b))⋅S(i_3, q, k, ((-1.0⋅b)+k))⋅S(i_0, p, i_2, (i_2+b))))\n",
      "∑((b, p, k, q, i_3), (4.0⋅U(i_3, i_1, k)'⋅U(q, i_1, (b+k))⋅U(p, i_1, ((-1.0⋅b)+i_2))⋅S(i_3, q, k, (b+k))⋅S(i_0, p, i_2, ((-1.0⋅b)+i_2))))\n",
      "notdirected\n",
      "\n",
      "  0.012895 seconds (138.77 k allocations: 4.586 MiB)\n",
      "39 symmetry\n",
      "∑((b, p, k, q, i_3), (4.0⋅U(i_3, i_1, k)'⋅U(q, i_1, ((-1.0⋅b)+k))⋅U(p, i_1, (i_2+b))⋅S(i_3, q, k, ((-1.0⋅b)+k))⋅S(i_0, p, i_2, (i_2+b))))\n",
      "∑((b, p, k, q, i_3), (4.0⋅U(i_3, i_1, k)'⋅S(q, i_3, ((-1.0⋅b)+k), k)'⋅U(q, i_1, ((-1.0⋅b)+k))⋅U(p, i_1, (i_2+b))⋅S(i_0, p, i_2, (i_2+b))))\n",
      "notdirected\n",
      "\n",
      "  0.012922 seconds (145.22 k allocations: 4.722 MiB)\n",
      "40 symmetry\n",
      "∑((b, p, k, q, i_3), (4.0⋅U(i_3, i_1, k)'⋅S(p, i_0, (i_2+b), i_2)'⋅U(q, i_1, ((-1.0⋅b)+k))⋅U(p, i_1, (i_2+b))⋅S(i_3, q, k, ((-1.0⋅b)+k))))\n",
      "∑((b, p, k, q, i_3), (4.0⋅U(i_3, i_1, k)'⋅S(q, i_3, ((-1.0⋅b)+k), k)'⋅S(p, i_0, (i_2+b), i_2)'⋅U(q, i_1, ((-1.0⋅b)+k))⋅U(p, i_1, (i_2+b))))\n",
      "notdirected\n",
      "\n",
      "  0.019609 seconds (139.74 k allocations: 4.534 MiB, 32.06% gc time)\n",
      "41 symmetry\n",
      "∑((b, p, k, q, i_3), (4.0⋅U(i_3, i_1, (b+k))'⋅S(p, i_0, (i_2+b), i_2)'⋅U(q, i_1, k)⋅U(p, i_1, (i_2+b))⋅S(i_3, q, (b+k), k)))\n",
      "∑((b, p, k, q, i_3), (4.0⋅U(i_3, i_1, (b+k))'⋅U(q, i_1, k)⋅U(p, i_1, (i_2+b))⋅S(i_3, q, (b+k), k)⋅S(i_0, p, i_2, (i_2+b))))\n",
      "notdirected\n",
      "\n",
      "  0.012139 seconds (130.73 k allocations: 4.318 MiB)\n",
      "42 symmetry\n",
      "∑((b, p, k, q, i_3), (4.0⋅U(i_3, i_1, (b+k))'⋅S(p, i_0, (i_2+b), i_2)'⋅U(q, i_1, k)⋅U(p, i_1, (i_2+b))⋅S(i_3, q, (b+k), k)))\n",
      "∑((b, p, k, q, i_3), (4.0⋅U(i_3, i_1, (b+k))'⋅S(q, i_3, k, (b+k))'⋅S(p, i_0, (i_2+b), i_2)'⋅U(q, i_1, k)⋅U(p, i_1, (i_2+b))))\n",
      "notdirected\n",
      "\n",
      "  0.012962 seconds (131.57 k allocations: 4.298 MiB)\n",
      "43 symmetry\n",
      "∑((b, p, k, q, i_3), (4.0⋅U(i_3, i_1, ((-1.0⋅b)+k))'⋅S(p, i_0, ((-1.0⋅b)+i_2), i_2)'⋅U(q, i_1, k)⋅U(p, i_1, ((-1.0⋅b)+i_2))⋅S(i_3, q, ((-1.0⋅b)+k), k)))\n",
      "∑((b, p, k, q, i_3), (4.0⋅U(i_3, i_1, ((-1.0⋅b)+k))'⋅U(q, i_1, k)⋅U(p, i_1, ((-1.0⋅b)+i_2))⋅S(i_3, q, ((-1.0⋅b)+k), k)⋅S(i_0, p, i_2, ((-1.0⋅b)+i_2))))\n",
      "notdirected\n",
      "\n",
      "  0.012824 seconds (139.33 k allocations: 4.578 MiB)\n",
      "44 symmetry\n",
      "∑((b, p, k, q, i_3), (4.0⋅U(i_3, i_1, ((-1.0⋅b)+k))'⋅S(p, i_0, ((-1.0⋅b)+i_2), i_2)'⋅U(q, i_1, k)⋅U(p, i_1, ((-1.0⋅b)+i_2))⋅S(i_3, q, ((-1.0⋅b)+k), k)))\n",
      "∑((b, p, k, q, i_3), (4.0⋅U(i_3, i_1, ((-1.0⋅b)+k))'⋅S(q, i_3, k, ((-1.0⋅b)+k))'⋅S(p, i_0, ((-1.0⋅b)+i_2), i_2)'⋅U(q, i_1, k)⋅U(p, i_1, ((-1.0⋅b)+i_2))))\n",
      "notdirected\n",
      "\n",
      "  0.012713 seconds (137.34 k allocations: 4.473 MiB)\n",
      "45 sum_sym\n",
      "∑((b, p, k, q, i_3), (4.0⋅U(i_3, i_1, k)'⋅S(p, i_0, ((-1.0⋅b)+i_2), i_2)'⋅U(q, i_1, (b+k))⋅U(p, i_1, ((-1.0⋅b)+i_2))⋅S(i_3, q, k, (b+k))))\n",
      "∑((b, p, k, q, i_3), (4.0⋅U(i_3, i_1, k)'⋅S(p, i_0, (i_2+b), i_2)'⋅U(q, i_1, ((-1.0⋅b)+k))⋅U(p, i_1, (i_2+b))⋅S(i_3, q, k, ((-1.0⋅b)+k))))\n",
      "notdirected\n",
      "\n",
      "  0.017815 seconds (127.11 k allocations: 4.199 MiB, 27.41% gc time)\n",
      "46 symmetry\n",
      "∑((b, p, k, q, i_3), (4.0⋅U(i_3, i_1, k)'⋅S(p, i_0, ((-1.0⋅b)+i_2), i_2)'⋅U(q, i_1, (b+k))⋅U(p, i_1, ((-1.0⋅b)+i_2))⋅S(i_3, q, k, (b+k))))\n",
      "∑((b, p, k, q, i_3), (4.0⋅U(i_3, i_1, k)'⋅U(q, i_1, (b+k))⋅U(p, i_1, ((-1.0⋅b)+i_2))⋅S(i_3, q, k, (b+k))⋅S(i_0, p, i_2, ((-1.0⋅b)+i_2))))\n",
      "notdirected\n",
      "\n",
      "  0.013026 seconds (138.83 k allocations: 4.596 MiB)\n",
      "47 symmetry\n",
      "∑((b, p, k, q, i_3), (4.0⋅U(i_3, i_1, k)'⋅S(p, i_0, ((-1.0⋅b)+i_2), i_2)'⋅U(q, i_1, (b+k))⋅U(p, i_1, ((-1.0⋅b)+i_2))⋅S(i_3, q, k, (b+k))))\n",
      "∑((b, p, k, q, i_3), (4.0⋅U(i_3, i_1, k)'⋅S(q, i_3, (b+k), k)'⋅S(p, i_0, ((-1.0⋅b)+i_2), i_2)'⋅U(q, i_1, (b+k))⋅U(p, i_1, ((-1.0⋅b)+i_2))))\n",
      "notdirected\n",
      "\n",
      "  0.014089 seconds (139.66 k allocations: 4.581 MiB)\n"
     ]
    },
    {
     "data": {
      "text/latex": [
       "$\\left(i_0, i_1, i_2\\right) \\to \\sum_{b, p, k, q, i_3}\\left[(4.0\\cdot U_{i_3, i_1, \\left(b+k\\right)}^*\\cdot U_{q, i_1, k}\\cdot U_{p, i_1, \\left(i_2+b\\right)}\\cdot S_{i_3, q, \\left(b+k\\right), k}\\cdot S_{i_0, p, i_2, \\left(i_2+b\\right)})\\right]$"
      ],
      "text/plain": [
       "(i_0, i_1, i_2) -> \n",
       "    ∑((b, p, k, q, i_3), (4.0⋅U(i_3, i_1, (b+k))'⋅U(q, i_1, k)⋅U(p, i_1, (i_2+b))⋅S(i_3, q, (b+k), k)⋅S(i_0, p, i_2, (i_2+b))))"
      ]
     },
     "execution_count": 12,
     "metadata": {},
     "output_type": "execute_result"
    }
   ],
   "source": [
    "g_4 = simplify(g_3; settings=Dict(:symmetry=>true)) |> first"
   ]
  },
  {
   "cell_type": "code",
   "execution_count": 13,
   "id": "3fe12172",
   "metadata": {},
   "outputs": [
    {
     "name": "stdout",
     "output_type": "stream",
     "text": [
      "  0.000038 seconds (186 allocations: 7.266 KiB)\n",
      "1 sum_out\n",
      "∑((b, p, k, q, i_3), (4.0⋅U(i_3, i_1, (b+k))'⋅U(q, i_1, k)⋅U(p, i_1, (i_2+b))⋅S(i_3, q, (b+k), k)⋅S(i_0, p, i_2, (i_2+b))))\n",
      "∑((p, k, q, i_3), (∑((b), (U(i_3, i_1, (b+k))'⋅U(p, i_1, (i_2+b))⋅S(i_3, q, (b+k), k)⋅S(i_0, p, i_2, (i_2+b))))⋅4.0⋅U(q, i_1, k)))\n",
      "yesdirected!\n",
      "\n",
      "  0.000053 seconds (293 allocations: 11.453 KiB)\n",
      "2 sum_out\n",
      "∑((p, k, q, i_3), (∑((b), (U(i_3, i_1, (b+k))'⋅U(p, i_1, (i_2+b))⋅S(i_3, q, (b+k), k)⋅S(i_0, p, i_2, (i_2+b))))⋅4.0⋅U(q, i_1, k)))\n",
      "∑((k, q, i_3), (∑((p, b), (U(i_3, i_1, (b+k))'⋅U(p, i_1, (i_2+b))⋅S(i_3, q, (b+k), k)⋅S(i_0, p, i_2, (i_2+b))))⋅4.0⋅U(q, i_1, k)))\n",
      "yesdirected!\n",
      "\n",
      "  0.000439 seconds (3.26 k allocations: 146.250 KiB)\n",
      "3 sum_out\n",
      "∑((k, q, i_3), (∑((p, b), (U(i_3, i_1, (b+k))'⋅U(p, i_1, (i_2+b))⋅S(i_3, q, (b+k), k)⋅S(i_0, p, i_2, (i_2+b))))⋅4.0⋅U(q, i_1, k)))\n",
      "∑((q, i_3), (∑((k), (∑((p, b), (U(i_3, i_1, (b+k))'⋅U(p, i_1, (i_2+b))⋅S(i_3, q, (b+k), k)⋅S(i_0, p, i_2, (i_2+b))))⋅U(q, i_1, k)))⋅4.0))\n",
      "yesdirected!\n",
      "\n",
      "  0.003400 seconds (5.42 k allocations: 226.969 KiB, 77.02% compilation time)\n",
      "4 sum_out\n",
      "∑((q, i_3), (∑((k), (∑((p, b), (U(i_3, i_1, (b+k))'⋅U(p, i_1, (i_2+b))⋅S(i_3, q, (b+k), k)⋅S(i_0, p, i_2, (i_2+b))))⋅U(q, i_1, k)))⋅4.0))\n",
      "∑((i_3), (∑((q, k), (∑((p, b), (U(i_3, i_1, (b+k))'⋅U(p, i_1, (i_2+b))⋅S(i_3, q, (b+k), k)⋅S(i_0, p, i_2, (i_2+b))))⋅U(q, i_1, k)))⋅4.0))\n",
      "yesdirected!\n",
      "\n",
      "  0.000502 seconds (4.58 k allocations: 190.016 KiB)\n",
      "5 sum_out\n",
      "∑((i_3), (∑((q, k), (∑((p, b), (U(i_3, i_1, (b+k))'⋅U(p, i_1, (i_2+b))⋅S(i_3, q, (b+k), k)⋅S(i_0, p, i_2, (i_2+b))))⋅U(q, i_1, k)))⋅4.0))\n",
      "(∑((i_3, q, k), (∑((p, b), (U(i_3, i_1, (b+k))'⋅U(p, i_1, (i_2+b))⋅S(i_3, q, (b+k), k)⋅S(i_0, p, i_2, (i_2+b))))⋅U(q, i_1, k)))⋅4.0)\n",
      "yesdirected!\n",
      "\n",
      "  0.000392 seconds (4.36 k allocations: 177.469 KiB)\n",
      "6 sum_out\n",
      "(∑((i_3, q, k), (∑((p, b), (U(i_3, i_1, (b+k))'⋅U(p, i_1, (i_2+b))⋅S(i_3, q, (b+k), k)⋅S(i_0, p, i_2, (i_2+b))))⋅U(q, i_1, k)))⋅4.0)\n",
      "(∑((q, k), (∑((i_3, p, b), (U(i_3, i_1, (b+k))'⋅U(p, i_1, (i_2+b))⋅S(i_3, q, (b+k), k)⋅S(i_0, p, i_2, (i_2+b))))⋅U(q, i_1, k)))⋅4.0)\n",
      "yesdirected!\n",
      "\n",
      "  0.000591 seconds (5.80 k allocations: 226.297 KiB)\n",
      "7 sum_out\n",
      "(∑((q, k), (∑((i_3, p, b), (U(i_3, i_1, (b+k))'⋅U(p, i_1, (i_2+b))⋅S(i_3, q, (b+k), k)⋅S(i_0, p, i_2, (i_2+b))))⋅U(q, i_1, k)))⋅4.0)\n",
      "(∑((q, k), (∑((p, b), (∑((i_3), (U(i_3, i_1, (b+k))'⋅S(i_3, q, (b+k), k)))⋅U(p, i_1, (i_2+b))⋅S(i_0, p, i_2, (i_2+b))))⋅U(q, i_1, k)))⋅4.0)\n",
      "yesdirected!\n",
      "\n",
      "  0.000352 seconds (4.27 k allocations: 151.688 KiB)\n",
      "8 sum_out\n",
      "(∑((q, k), (∑((p, b), (∑((i_3), (U(i_3, i_1, (b+k))'⋅S(i_3, q, (b+k), k)))⋅U(p, i_1, (i_2+b))⋅S(i_0, p, i_2, (i_2+b))))⋅U(q, i_1, k)))⋅4.0)\n",
      "(∑((q, k), (∑((b), (∑((i_3), (U(i_3, i_1, (b+k))'⋅S(i_3, q, (b+k), k)))⋅∑((p), (U(p, i_1, (i_2+b))⋅S(i_0, p, i_2, (i_2+b))))))⋅U(q, i_1, k)))⋅4.0)\n",
      "yesdirected!\n",
      "\n",
      "  0.000001 seconds\n"
     ]
    },
    {
     "data": {
      "text/latex": [
       "$\\left(i_0, i_1, i_2\\right) \\to (\\sum_{q, k}\\left[(\\sum_{b}\\left[(\\sum_{i_3}\\left[(U_{i_3, i_1, \\left(b+k\\right)}^*\\cdot S_{i_3, q, \\left(b+k\\right), k})\\right]\\cdot \\sum_{p}\\left[(U_{p, i_1, \\left(i_2+b\\right)}\\cdot S_{i_0, p, i_2, \\left(i_2+b\\right)})\\right])\\right]\\cdot U_{q, i_1, k})\\right]\\cdot 4.0)$"
      ],
      "text/plain": [
       "(i_0, i_1, i_2) -> \n",
       "    (∑((q, k), (∑((b), (∑((i_3), (U(i_3, i_1, (b+k))'⋅S(i_3, q, (b+k), k)))⋅∑((p), (U(p, i_1, (i_2+b))⋅S(i_0, p, i_2, (i_2+b))))))⋅U(q, i_1, k)))⋅4.0)"
      ]
     },
     "execution_count": 13,
     "metadata": {},
     "output_type": "execute_result"
    }
   ],
   "source": [
    "g_5 = simplify(g_4; settings=Dict(:clench_sum=>true)) |> first"
   ]
  }
 ],
 "metadata": {
  "kernelspec": {
   "display_name": "PCT 1.9.3",
   "language": "julia",
   "name": "pct-1.9"
  },
  "language_info": {
   "file_extension": ".jl",
   "mimetype": "application/julia",
   "name": "julia",
   "version": "1.9.3"
  }
 },
 "nbformat": 4,
 "nbformat_minor": 5
}
