{
 "cells": [
  {
   "cell_type": "code",
   "execution_count": 2,
   "id": "d87429b8",
   "metadata": {},
   "outputs": [],
   "source": [
    "using PCT, Profile"
   ]
  },
  {
   "cell_type": "code",
   "execution_count": 3,
   "id": "31a049b5",
   "metadata": {},
   "outputs": [
    {
     "data": {
      "text/latex": [
       "$\\mathcal{P}\\left(z \\to (z\\cdot z^*)\\right)$"
      ],
      "text/plain": [
       "𝒫((z) -> \n",
       "    (z⋅z'))"
      ]
     },
     "execution_count": 3,
     "metadata": {},
     "output_type": "execute_result"
    }
   ],
   "source": [
    "h, _ = @pct pullback((z::C) -> z' * z)\n",
    "h"
   ]
  },
  {
   "cell_type": "code",
   "execution_count": 4,
   "id": "fc0c95fa",
   "metadata": {},
   "outputs": [
    {
     "name": "stdout",
     "output_type": "stream",
     "text": [
      "Pullback((z::C->\n",
      "    (*\n",
      "        z::C,\n",
      "        z::C'\n",
      "    )::C\n",
      "::[C->C])::[C×C->C]\n"
     ]
    }
   ],
   "source": [
    "println(verbose(h))"
   ]
  },
  {
   "cell_type": "code",
   "execution_count": 5,
   "id": "ab008138",
   "metadata": {},
   "outputs": [
    {
     "data": {
      "text/latex": [
       "$\\left(z, \\_K\\right) \\to \\left(\\left(z, \\_K\\right) \\to \\left(\\left(\\left(z, \\_K\\right) \\to \\_K\\right)\\left(z, (\\_K\\cdot z)\\right)+\\left(\\left(z, \\_K\\right) \\to \\left(\\left(z, \\_K\\right) \\to \\_K\\right)\\left(z, \\_K^*\\right)\\right)\\left(z, (\\_K\\cdot z^*)\\right)\\right)\\right)\\left(z, \\_K\\right)$"
      ],
      "text/plain": [
       "(z, _K) -> \n",
       "    ((z, _K) -> \n",
       "        (((z, _K) -> \n",
       "            _K)(z, (_K⋅z))+((z, _K) -> \n",
       "            ((z, _K) -> \n",
       "                _K)(z, _K'))(z, (_K⋅z'))))(z, _K)"
      ]
     },
     "execution_count": 5,
     "metadata": {},
     "output_type": "execute_result"
    }
   ],
   "source": [
    "reduce_pullback(h)[1]"
   ]
  },
  {
   "cell_type": "code",
   "execution_count": 6,
   "id": "62f7c710",
   "metadata": {},
   "outputs": [
    {
     "data": {
      "text/latex": [
       "$\\left(z+z\\right)$"
      ],
      "text/plain": [
       "(z+z)"
      ]
     },
     "execution_count": 6,
     "metadata": {},
     "output_type": "execute_result"
    }
   ],
   "source": [
    "p = eval_all(reduce_pullback(h)[1])\n",
    "q = eval_all(call(p, first(ff(p)), constant(1)))"
   ]
  },
  {
   "cell_type": "code",
   "execution_count": 8,
   "id": "46b9741d",
   "metadata": {},
   "outputs": [
    {
     "name": "stdout",
     "output_type": "stream",
     "text": [
      "  0.000018 seconds (4 allocations: 192 bytes)\n",
      "1 gcd\n",
      "(z+z)\n",
      "(z⋅(1+1))\n",
      "\n",
      "  0.000026 seconds (9 allocations: 352 bytes)\n",
      "2 add_const\n",
      "(z⋅(1+1))\n",
      "(z⋅2)\n",
      "directed!\n",
      "\n",
      "  0.000000 seconds\n"
     ]
    },
    {
     "data": {
      "text/latex": [
       "$(z\\cdot 2)$"
      ],
      "text/plain": [
       "(z⋅2)"
      ]
     },
     "execution_count": 8,
     "metadata": {},
     "output_type": "execute_result"
    }
   ],
   "source": [
    "simplify(q) |> first"
   ]
  },
  {
   "cell_type": "code",
   "execution_count": 2,
   "id": "859c6263",
   "metadata": {},
   "outputs": [
    {
     "data": {
      "text/plain": [
       "(Map(MapType(VecType(AbstractPCTType[MapType(VecType(AbstractPCTType[I(), I()]), C(), Dict{Symbol, Any}(:name => :H, :symmetries => (((2, 1), :conj),))), MapType(VecType(AbstractPCTType[I(), I(), I(), I()]), C(), Dict{Symbol, Any}(:name => :T, :symmetries => (((2, 1, 4, 3), :conj), ((3, 4, 1, 2), :id))))]), UndeterminedPCTType(), Dict{Any, Any}()), PCTVector(VecType(AbstractPCTType[MapType(VecType(AbstractPCTType[I(), I()]), C(), Dict{Symbol, Any}(:name => :H, :symmetries => (((2, 1), :conj),))), MapType(VecType(AbstractPCTType[I(), I(), I(), I()]), C(), Dict{Symbol, Any}(:name => :T, :symmetries => (((2, 1, 4, 3), :conj), ((3, 4, 1, 2), :id))))]), Var{MapType}[Var{MapType}(MapType(VecType(AbstractPCTType[I(), I()]), C(), Dict{Symbol, Any}(:name => :H, :symmetries => (((2, 1), :conj),))), :A), Var{MapType}(MapType(VecType(AbstractPCTType[I(), I(), I(), I()]), C(), Dict{Symbol, Any}(:name => :T, :symmetries => (((2, 1, 4, 3), :conj), ((3, 4, 1, 2), :id)))), :J)]), Var{UndeterminedPCTType}(UndeterminedPCTType(), :_)), TypeContext(Dict{Symbol, Vector{<:AbstractPCTType}}(:_ => AbstractPCTType[UndeterminedPCTType()], :T => AbstractPCTType[MapType(VecType(AbstractPCTType[I(), I(), I(), I()]), C(), Dict{Symbol, Any}(:name => :T, :symmetries => (((2, 1, 4, 3), :conj), ((3, 4, 1, 2), :id))))], :U => AbstractPCTType[MapType(VecType(AbstractPCTType[I(), I()]), C(), Dict(:name => :U))], :H => AbstractPCTType[MapType(VecType(AbstractPCTType[I(), I()]), C(), Dict{Symbol, Any}(:name => :H, :symmetries => (((2, 1), :conj),)))], :V => AbstractPCTType[MapType(VecType(AbstractPCTType[I()]), C(), Dict(:name => :V))])))"
      ]
     },
     "execution_count": 2,
     "metadata": {},
     "output_type": "execute_result"
    }
   ],
   "source": [
    "f, ctx = @pct begin\n",
    "    @space H begin\n",
    "        type=(I, I)->C\n",
    "        symmetries=(((2,1), :conj),)\n",
    "    end\n",
    "    \n",
    "    @space V begin\n",
    "        type=(I,)->C\n",
    "    end\n",
    "\n",
    "    @space T begin\n",
    "        type=(I,I,I,I) -> C\n",
    "        symmetries=(((2,1,4,3), :conj), ((3,4,1,2), :id))\n",
    "    end\n",
    "                \n",
    "    @space U begin\n",
    "        type=(I,I)->C\n",
    "    end\n",
    "                    \n",
    "    (A::H, J::T) -> _\n",
    "end"
   ]
  },
  {
   "cell_type": "code",
   "execution_count": 11,
   "id": "6094d925",
   "metadata": {},
   "outputs": [
    {
     "data": {
      "text/latex": [
       "$\\left(A, J\\right) \\to \\_$"
      ],
      "text/plain": [
       "(A, J) -> \n",
       "    _"
      ]
     },
     "execution_count": 11,
     "metadata": {},
     "output_type": "execute_result"
    }
   ],
   "source": [
    "f"
   ]
  },
  {
   "cell_type": "code",
   "execution_count": 39,
   "id": "e701c80a",
   "metadata": {
    "scrolled": true
   },
   "outputs": [
    {
     "data": {
      "text/latex": [
       "$\\left(A, J\\right) \\to \\mathcal{P}\\left(x \\to \\sum_{i_0, i_1}\\left[(x_{i_0}\\cdot A_{i_1, i_0}\\cdot x_{i_1}^*)\\right]\\right)$"
      ],
      "text/plain": [
       "(A, J) -> \n",
       "    𝒫((x) -> \n",
       "        ∑((i_0, i_1), (x(i_0)⋅A(i_1, i_0)⋅x(i_1)')))"
      ]
     },
     "execution_count": 39,
     "metadata": {},
     "output_type": "execute_result"
    }
   ],
   "source": [
    "g = @pct f ctx pullback((x::V) -> sum((i, j), x(i)' * A(i, j) * x(j)))"
   ]
  },
  {
   "cell_type": "code",
   "execution_count": 40,
   "id": "989d90a6",
   "metadata": {},
   "outputs": [
    {
     "name": "stdout",
     "output_type": "stream",
     "text": [
      "(A::[I×I->C], J::[I×I×I×I->C]->\n",
      "    Pullback((x::[I->C]->\n",
      "        ∑((i_0::I, i_1::I),\n",
      "            (*\n",
      "                x::[I->C](i_0::I)::C,\n",
      "                A::[I×I->C](i_1::I, i_0::I)::C,\n",
      "                x::[I->C](i_1::I)::C'\n",
      "            )::C\n",
      "        )::C\n",
      "    ::[[I->C]->C])::[[I->C]×C->[I->C]]\n",
      "::[[I×I->C]×[I×I×I×I->C]->[[I->C]×C->[I->C]]]\n"
     ]
    }
   ],
   "source": [
    "println(verbose(g))"
   ]
  },
  {
   "cell_type": "code",
   "execution_count": 41,
   "id": "f9e5cda3",
   "metadata": {},
   "outputs": [
    {
     "data": {
      "text/latex": [
       "$\\left(x, \\_K\\right) \\to i_2 \\to \\sum_{i_0, i_1}\\left[\\left(\\delta_{i_1}^{i_2}(x_{i_0}\\cdot A_{i_1, i_0}\\cdot \\_K^*)+\\delta_{i_0}^{i_2}(x_{i_1}\\cdot A_{i_1, i_0}^*\\cdot \\_K)\\right)\\right]$"
      ],
      "text/plain": [
       "(x, _K) -> \n",
       "    (i_2) -> \n",
       "        ∑((i_0, i_1), (δ(i_2, i_1, (x(i_0)⋅A(i_1, i_0)⋅_K'))+δ(i_2, i_0, (x(i_1)⋅A(i_1, i_0)'⋅_K))))"
      ]
     },
     "execution_count": 41,
     "metadata": {},
     "output_type": "execute_result"
    }
   ],
   "source": [
    "p = fc(eval_all(reduce_pullback(g)))"
   ]
  },
  {
   "cell_type": "code",
   "execution_count": 42,
   "id": "9b74e6c7",
   "metadata": {},
   "outputs": [
    {
     "data": {
      "text/latex": [
       "$i_2 \\to \\sum_{i_0, i_1}\\left[\\left(\\delta_{i_1}^{i_2}(x_{i_0}\\cdot A_{i_1, i_0})+\\delta_{i_0}^{i_2}(x_{i_1}\\cdot A_{i_1, i_0}^*)\\right)\\right]$"
      ],
      "text/plain": [
       "(i_2) -> \n",
       "    ∑((i_0, i_1), (δ(i_2, i_1, (x(i_0)⋅A(i_1, i_0)))+δ(i_2, i_0, (x(i_1)⋅A(i_1, i_0)'))))"
      ]
     },
     "execution_count": 42,
     "metadata": {},
     "output_type": "execute_result"
    }
   ],
   "source": [
    "q = eval_all(call(p, first(ff(p)), constant(1)))"
   ]
  },
  {
   "cell_type": "code",
   "execution_count": 43,
   "id": "c29763e0",
   "metadata": {},
   "outputs": [
    {
     "name": "stdout",
     "output_type": "stream",
     "text": [
      "  0.000019 seconds (7 allocations: 304 bytes)\n",
      "1 sum_dist\n",
      "∑((i_0, i_1), (δ(i_2, i_1, (x(i_0)⋅A(i_1, i_0)))+δ(i_2, i_0, (x(i_1)⋅A(i_1, i_0)'))))\n",
      "(∑((i_0, i_1), δ(i_2, i_0, (x(i_1)⋅A(i_1, i_0)')))+∑((i_0, i_1), δ(i_2, i_0, (x(i_1)⋅A(i_1, i_0)'))))\n",
      "\n",
      "  0.000281 seconds (293 allocations: 13.062 KiB)\n",
      "2 contract_delta\n",
      "(∑((i_0, i_1), δ(i_2, i_0, (x(i_1)⋅A(i_1, i_0)')))+∑((i_0, i_1), δ(i_2, i_0, (x(i_1)⋅A(i_1, i_0)'))))\n",
      "(∑((i_0), (x(i_0)⋅A(i_2, i_0)))+∑((i_0, i_1), δ(i_2, i_0, (x(i_1)⋅A(i_1, i_0)'))))\n",
      "directed!\n",
      "\n",
      "  0.000041 seconds (215 allocations: 9.688 KiB)\n",
      "3 contract_delta\n",
      "(∑((i_0), (x(i_0)⋅A(i_2, i_0)))+∑((i_0, i_1), δ(i_2, i_0, (x(i_1)⋅A(i_1, i_0)'))))\n",
      "(∑((i_0), (x(i_0)⋅A(i_2, i_0)))+∑((i_0), (x(i_0)⋅A(i_2, i_0))))\n",
      "directed!\n",
      "\n",
      "  0.000019 seconds (37 allocations: 1.625 KiB)\n",
      "4 gcd\n",
      "(∑((i_0), (x(i_0)⋅A(i_2, i_0)))+∑((i_0), (x(i_0)⋅A(i_2, i_0))))\n",
      "((1+1)⋅∑((i_0), (x(i_0)⋅A(i_2, i_0))))\n",
      "\n",
      "  0.000042 seconds (244 allocations: 11.312 KiB)\n",
      "5 add_const\n",
      "((1+1)⋅∑((i_0), (x(i_0)⋅A(i_2, i_0))))\n",
      "(∑((i_0), (x(i_0)⋅A(i_2, i_0)))⋅2)\n",
      "directed!\n",
      "\n",
      "  0.000000 seconds\n"
     ]
    },
    {
     "data": {
      "text/latex": [
       "$i_2 \\to (\\sum_{i_0}\\left[(x_{i_0}\\cdot A_{i_2, i_0})\\right]\\cdot 2)$"
      ],
      "text/plain": [
       "(i_2) -> \n",
       "    (∑((i_0), (x(i_0)⋅A(i_2, i_0)))⋅2)"
      ]
     },
     "execution_count": 43,
     "metadata": {},
     "output_type": "execute_result"
    }
   ],
   "source": [
    "simplify(q) |> first"
   ]
  },
  {
   "cell_type": "code",
   "execution_count": 44,
   "id": "429f1193",
   "metadata": {},
   "outputs": [
    {
     "data": {
      "text/latex": [
       "$\\left(A, J\\right) \\to \\mathcal{P}\\left(C \\to \\sum_{i_0, i_1, i_2, i_3, i_4, i_5}\\left[(C_{i_1, i_5}\\cdot C_{i_3, i_4}\\cdot J_{i_1, i_0, i_3, i_2}^*\\cdot C_{i_2, i_4}^*\\cdot C_{i_0, i_5}^*)\\right]\\right)$"
      ],
      "text/plain": [
       "(A, J) -> \n",
       "    𝒫((C) -> \n",
       "        ∑((i_0, i_1, i_2, i_3, i_4, i_5), (C(i_1, i_5)⋅C(i_3, i_4)⋅J(i_1, i_0, i_3, i_2)'⋅C(i_2, i_4)'⋅C(i_0, i_5)')))"
      ]
     },
     "execution_count": 44,
     "metadata": {},
     "output_type": "execute_result"
    }
   ],
   "source": [
    "g = @pct f ctx pullback((C::U) -> sum((i,j,p,q,r,s), C(p,i)' * C(q,i) * C(r,j)' * C(s,j) * J(p,q,r,s)))"
   ]
  },
  {
   "cell_type": "code",
   "execution_count": 45,
   "id": "60e06e8e",
   "metadata": {},
   "outputs": [
    {
     "data": {
      "text/latex": [
       "$\\left(C, \\_K\\right) \\to \\left(i_6, i_7\\right) \\to \\sum_{i_0, i_1, i_2, i_3, i_4, i_5}\\left[\\left(\\delta_{i_5}^{i_7}\\delta_{i_2}^{i_6}(J_{i_1, i_4, i_2, i_3}\\cdot C_{i_4, i_0}\\cdot C_{i_3, i_5}\\cdot C_{i_1, i_0}^*\\cdot \\_K)+\\delta_{i_5}^{i_7}\\delta_{i_3}^{i_6}(C_{i_1, i_0}\\cdot C_{i_2, i_5}\\cdot J_{i_1, i_4, i_2, i_3}^*\\cdot C_{i_4, i_0}^*\\cdot \\_K^*)+\\delta_{i_0}^{i_7}\\delta_{i_1}^{i_6}(J_{i_1, i_4, i_2, i_3}\\cdot C_{i_4, i_0}\\cdot C_{i_3, i_5}\\cdot C_{i_2, i_5}^*\\cdot \\_K)+\\delta_{i_0}^{i_7}\\delta_{i_4}^{i_6}(C_{i_1, i_0}\\cdot C_{i_2, i_5}\\cdot J_{i_1, i_4, i_2, i_3}^*\\cdot C_{i_3, i_5}^*\\cdot \\_K^*)\\right)\\right]$"
      ],
      "text/plain": [
       "(C, _K) -> \n",
       "    (i_6, i_7) -> \n",
       "        ∑((i_0, i_1, i_2, i_3, i_4, i_5), (δ(i_7, i_5, δ(i_6, i_2, (J(i_1, i_4, i_2, i_3)⋅C(i_4, i_0)⋅C(i_3, i_5)⋅C(i_1, i_0)'⋅_K)))+δ(i_7, i_5, δ(i_6, i_3, (C(i_1, i_0)⋅C(i_2, i_5)⋅J(i_1, i_4, i_2, i_3)'⋅C(i_4, i_0)'⋅_K')))+δ(i_7, i_0, δ(i_6, i_1, (J(i_1, i_4, i_2, i_3)⋅C(i_4, i_0)⋅C(i_3, i_5)⋅C(i_2, i_5)'⋅_K)))+δ(i_7, i_0, δ(i_6, i_4, (C(i_1, i_0)⋅C(i_2, i_5)⋅J(i_1, i_4, i_2, i_3)'⋅C(i_3, i_5)'⋅_K')))))"
      ]
     },
     "execution_count": 45,
     "metadata": {},
     "output_type": "execute_result"
    }
   ],
   "source": [
    "p = fc(eval_all(reduce_pullback(g)))"
   ]
  },
  {
   "cell_type": "code",
   "execution_count": 46,
   "id": "a3faf48b",
   "metadata": {},
   "outputs": [
    {
     "data": {
      "text/latex": [
       "$\\left(i_6, i_7\\right) \\to \\sum_{i_0, i_1, i_2, i_3, i_4, i_5}\\left[\\left(\\delta_{i_5}^{i_7}\\delta_{i_2}^{i_6}(J_{i_1, i_4, i_2, i_3}\\cdot C_{i_4, i_0}\\cdot C_{i_3, i_5}\\cdot C_{i_1, i_0}^*)+\\delta_{i_5}^{i_7}\\delta_{i_3}^{i_6}(C_{i_1, i_0}\\cdot C_{i_2, i_5}\\cdot J_{i_1, i_4, i_2, i_3}^*\\cdot C_{i_4, i_0}^*)+\\delta_{i_0}^{i_7}\\delta_{i_1}^{i_6}(J_{i_1, i_4, i_2, i_3}\\cdot C_{i_4, i_0}\\cdot C_{i_3, i_5}\\cdot C_{i_2, i_5}^*)+\\delta_{i_0}^{i_7}\\delta_{i_4}^{i_6}(C_{i_1, i_0}\\cdot C_{i_2, i_5}\\cdot J_{i_1, i_4, i_2, i_3}^*\\cdot C_{i_3, i_5}^*)\\right)\\right]$"
      ],
      "text/plain": [
       "(i_6, i_7) -> \n",
       "    ∑((i_0, i_1, i_2, i_3, i_4, i_5), (δ(i_7, i_5, δ(i_6, i_2, (J(i_1, i_4, i_2, i_3)⋅C(i_4, i_0)⋅C(i_3, i_5)⋅C(i_1, i_0)')))+δ(i_7, i_5, δ(i_6, i_3, (C(i_1, i_0)⋅C(i_2, i_5)⋅J(i_1, i_4, i_2, i_3)'⋅C(i_4, i_0)')))+δ(i_7, i_0, δ(i_6, i_1, (J(i_1, i_4, i_2, i_3)⋅C(i_4, i_0)⋅C(i_3, i_5)⋅C(i_2, i_5)')))+δ(i_7, i_0, δ(i_6, i_4, (C(i_1, i_0)⋅C(i_2, i_5)⋅J(i_1, i_4, i_2, i_3)'⋅C(i_3, i_5)')))))"
      ]
     },
     "execution_count": 46,
     "metadata": {},
     "output_type": "execute_result"
    }
   ],
   "source": [
    "q = eval_all(call(p, first(ff(p)), constant(1)))"
   ]
  },
  {
   "cell_type": "code",
   "execution_count": 47,
   "id": "8e277c97",
   "metadata": {
    "scrolled": true
   },
   "outputs": [
    {
     "name": "stdout",
     "output_type": "stream",
     "text": [
      "  0.000057 seconds (336 allocations: 15.594 KiB)\n",
      "1 delta_ex\n",
      "∑((i_0, i_1, i_2, i_3, i_4, i_5), (δ(i_7, i_5, δ(i_6, i_2, (J(i_1, i_4, i_2, i_3)⋅C(i_4, i_0)⋅C(i_3, i_5)⋅C(i_1, i_0)')))+δ(i_7, i_5, δ(i_6, i_3, (C(i_1, i_0)⋅C(i_2, i_5)⋅J(i_1, i_4, i_2, i_3)'⋅C(i_4, i_0)')))+δ(i_7, i_0, δ(i_6, i_1, (J(i_1, i_4, i_2, i_3)⋅C(i_4, i_0)⋅C(i_3, i_5)⋅C(i_2, i_5)')))+δ(i_7, i_0, δ(i_6, i_4, (C(i_1, i_0)⋅C(i_2, i_5)⋅J(i_1, i_4, i_2, i_3)'⋅C(i_3, i_5)')))))\n",
      "∑((i_0, i_1, i_2, i_3, i_4, i_5), (δ(i_6, i_0, δ(i_7, i_1, (C(i_4, i_1)⋅C(i_3, i_5)⋅J(i_4, i_0, i_3, i_2)'⋅C(i_2, i_5)')))+δ(i_7, i_1, δ(i_6, i_4, (J(i_4, i_0, i_3, i_2)⋅C(i_2, i_5)⋅C(i_0, i_1)⋅C(i_3, i_5)')))+δ(i_7, i_5, δ(i_6, i_2, (C(i_4, i_1)⋅C(i_3, i_5)⋅J(i_4, i_0, i_3, i_2)'⋅C(i_0, i_1)')))+δ(i_7, i_5, δ(i_6, i_3, (J(i_4, i_0, i_3, i_2)⋅C(i_2, i_5)⋅C(i_0, i_1)⋅C(i_4, i_1)')))))\n",
      "\n",
      "  0.000068 seconds (573 allocations: 26.312 KiB)\n",
      "2 delta_ex\n",
      "∑((i_0, i_1, i_2, i_3, i_4, i_5), (δ(i_6, i_0, δ(i_7, i_1, (C(i_4, i_1)⋅C(i_3, i_5)⋅J(i_4, i_0, i_3, i_2)'⋅C(i_2, i_5)')))+δ(i_7, i_1, δ(i_6, i_4, (J(i_4, i_0, i_3, i_2)⋅C(i_2, i_5)⋅C(i_0, i_1)⋅C(i_3, i_5)')))+δ(i_7, i_5, δ(i_6, i_2, (C(i_4, i_1)⋅C(i_3, i_5)⋅J(i_4, i_0, i_3, i_2)'⋅C(i_0, i_1)')))+δ(i_7, i_5, δ(i_6, i_3, (J(i_4, i_0, i_3, i_2)⋅C(i_2, i_5)⋅C(i_0, i_1)⋅C(i_4, i_1)')))))\n",
      "∑((i_0, i_1, i_2, i_3, i_4, i_5), (δ(i_7, i_5, δ(i_6, i_4, (C(i_1, i_0)⋅C(i_3, i_5)⋅J(i_1, i_2, i_3, i_4)'⋅C(i_2, i_0)')))+δ(i_7, i_5, δ(i_6, i_3, (J(i_1, i_2, i_3, i_4)⋅C(i_4, i_5)⋅C(i_2, i_0)⋅C(i_1, i_0)')))+δ(i_7, i_0, δ(i_6, i_1, (J(i_1, i_2, i_3, i_4)⋅C(i_4, i_5)⋅C(i_2, i_0)⋅C(i_3, i_5)')))+δ(i_7, i_0, δ(i_6, i_2, (C(i_1, i_0)⋅C(i_3, i_5)⋅J(i_1, i_2, i_3, i_4)'⋅C(i_4, i_5)')))))\n",
      "\n",
      "  0.000143 seconds (1.48 k allocations: 58.328 KiB)\n",
      "3 delta_ex\n",
      "∑((i_0, i_1, i_2, i_3, i_4, i_5), (δ(i_7, i_5, δ(i_6, i_4, (C(i_1, i_0)⋅C(i_3, i_5)⋅J(i_1, i_2, i_3, i_4)'⋅C(i_2, i_0)')))+δ(i_7, i_5, δ(i_6, i_3, (J(i_1, i_2, i_3, i_4)⋅C(i_4, i_5)⋅C(i_2, i_0)⋅C(i_1, i_0)')))+δ(i_7, i_0, δ(i_6, i_1, (J(i_1, i_2, i_3, i_4)⋅C(i_4, i_5)⋅C(i_2, i_0)⋅C(i_3, i_5)')))+δ(i_7, i_0, δ(i_6, i_2, (C(i_1, i_0)⋅C(i_3, i_5)⋅J(i_1, i_2, i_3, i_4)'⋅C(i_4, i_5)')))))\n",
      "∑((i_0, i_1, i_2, i_3, i_4, i_5), (δ(i_6, i_0, δ(i_7, i_1, (C(i_4, i_1)⋅C(i_2, i_3)⋅J(i_4, i_0, i_2, i_5)'⋅C(i_5, i_3)')))+δ(i_7, i_1, δ(i_6, i_4, (J(i_4, i_0, i_2, i_5)⋅C(i_5, i_3)⋅C(i_0, i_1)⋅C(i_2, i_3)')))+δ(i_7, i_3, δ(i_6, i_2, (J(i_4, i_0, i_2, i_5)⋅C(i_5, i_3)⋅C(i_0, i_1)⋅C(i_4, i_1)')))+δ(i_7, i_3, δ(i_6, i_5, (C(i_4, i_1)⋅C(i_2, i_3)⋅J(i_4, i_0, i_2, i_5)'⋅C(i_0, i_1)')))))\n",
      "\n",
      "  0.000103 seconds (1.12 k allocations: 46.250 KiB)\n",
      "4 delta_ex\n",
      "∑((i_0, i_1, i_2, i_3, i_4, i_5), (δ(i_6, i_0, δ(i_7, i_1, (C(i_4, i_1)⋅C(i_2, i_3)⋅J(i_4, i_0, i_2, i_5)'⋅C(i_5, i_3)')))+δ(i_7, i_1, δ(i_6, i_4, (J(i_4, i_0, i_2, i_5)⋅C(i_5, i_3)⋅C(i_0, i_1)⋅C(i_2, i_3)')))+δ(i_7, i_3, δ(i_6, i_2, (J(i_4, i_0, i_2, i_5)⋅C(i_5, i_3)⋅C(i_0, i_1)⋅C(i_4, i_1)')))+δ(i_7, i_3, δ(i_6, i_5, (C(i_4, i_1)⋅C(i_2, i_3)⋅J(i_4, i_0, i_2, i_5)'⋅C(i_0, i_1)')))))\n",
      "∑((i_0, i_1, i_2, i_3, i_4, i_5), (δ(i_6, i_2, δ(i_7, i_1, (J(i_4, i_3, i_2, i_0)⋅C(i_3, i_5)⋅C(i_0, i_1)⋅C(i_4, i_5)')))+δ(i_6, i_0, δ(i_7, i_1, (C(i_4, i_5)⋅C(i_2, i_1)⋅J(i_4, i_3, i_2, i_0)'⋅C(i_3, i_5)')))+δ(i_7, i_5, δ(i_6, i_4, (J(i_4, i_3, i_2, i_0)⋅C(i_3, i_5)⋅C(i_0, i_1)⋅C(i_2, i_1)')))+δ(i_7, i_5, δ(i_6, i_3, (C(i_4, i_5)⋅C(i_2, i_1)⋅J(i_4, i_3, i_2, i_0)'⋅C(i_0, i_1)')))))\n",
      "\n",
      "  0.000148 seconds (1.74 k allocations: 68.109 KiB)\n",
      "5 delta_ex\n",
      "∑((i_0, i_1, i_2, i_3, i_4, i_5), (δ(i_6, i_2, δ(i_7, i_1, (J(i_4, i_3, i_2, i_0)⋅C(i_3, i_5)⋅C(i_0, i_1)⋅C(i_4, i_5)')))+δ(i_6, i_0, δ(i_7, i_1, (C(i_4, i_5)⋅C(i_2, i_1)⋅J(i_4, i_3, i_2, i_0)'⋅C(i_3, i_5)')))+δ(i_7, i_5, δ(i_6, i_4, (J(i_4, i_3, i_2, i_0)⋅C(i_3, i_5)⋅C(i_0, i_1)⋅C(i_2, i_1)')))+δ(i_7, i_5, δ(i_6, i_3, (C(i_4, i_5)⋅C(i_2, i_1)⋅J(i_4, i_3, i_2, i_0)'⋅C(i_0, i_1)')))))\n",
      "∑((i_0, i_1, i_2, i_3, i_4, i_5), (δ(i_6, i_4, δ(i_7, i_5, (J(i_4, i_3, i_2, i_0)⋅C(i_3, i_5)⋅C(i_0, i_1)⋅C(i_2, i_1)')))+δ(i_6, i_3, δ(i_7, i_5, (C(i_4, i_5)⋅C(i_2, i_1)⋅J(i_4, i_3, i_2, i_0)'⋅C(i_0, i_1)')))+δ(i_6, i_0, δ(i_7, i_1, (C(i_4, i_5)⋅C(i_2, i_1)⋅J(i_4, i_3, i_2, i_0)'⋅C(i_3, i_5)')))+δ(i_7, i_1, δ(i_6, i_2, (J(i_4, i_3, i_2, i_0)⋅C(i_3, i_5)⋅C(i_0, i_1)⋅C(i_4, i_5)')))))\n",
      "\n",
      "  0.000139 seconds (1.80 k allocations: 70.031 KiB)\n",
      "6 delta_ex\n",
      "∑((i_0, i_1, i_2, i_3, i_4, i_5), (δ(i_6, i_4, δ(i_7, i_5, (J(i_4, i_3, i_2, i_0)⋅C(i_3, i_5)⋅C(i_0, i_1)⋅C(i_2, i_1)')))+δ(i_6, i_3, δ(i_7, i_5, (C(i_4, i_5)⋅C(i_2, i_1)⋅J(i_4, i_3, i_2, i_0)'⋅C(i_0, i_1)')))+δ(i_6, i_0, δ(i_7, i_1, (C(i_4, i_5)⋅C(i_2, i_1)⋅J(i_4, i_3, i_2, i_0)'⋅C(i_3, i_5)')))+δ(i_7, i_1, δ(i_6, i_2, (J(i_4, i_3, i_2, i_0)⋅C(i_3, i_5)⋅C(i_0, i_1)⋅C(i_4, i_5)')))))\n",
      "∑((i_0, i_1, i_2, i_3, i_4, i_5), (δ(i_6, i_5, δ(i_7, i_4, (C(i_2, i_1)⋅C(i_3, i_4)⋅J(i_2, i_0, i_3, i_5)'⋅C(i_0, i_1)')))+δ(i_6, i_0, δ(i_7, i_1, (C(i_2, i_1)⋅C(i_3, i_4)⋅J(i_2, i_0, i_3, i_5)'⋅C(i_5, i_4)')))+δ(i_7, i_1, δ(i_6, i_2, (J(i_2, i_0, i_3, i_5)⋅C(i_5, i_4)⋅C(i_0, i_1)⋅C(i_3, i_4)')))+δ(i_7, i_4, δ(i_6, i_3, (J(i_2, i_0, i_3, i_5)⋅C(i_5, i_4)⋅C(i_0, i_1)⋅C(i_2, i_1)')))))\n",
      "\n",
      "  0.000136 seconds (1.61 k allocations: 63.688 KiB)\n",
      "7 delta_ex\n",
      "∑((i_0, i_1, i_2, i_3, i_4, i_5), (δ(i_6, i_5, δ(i_7, i_4, (C(i_2, i_1)⋅C(i_3, i_4)⋅J(i_2, i_0, i_3, i_5)'⋅C(i_0, i_1)')))+δ(i_6, i_0, δ(i_7, i_1, (C(i_2, i_1)⋅C(i_3, i_4)⋅J(i_2, i_0, i_3, i_5)'⋅C(i_5, i_4)')))+δ(i_7, i_1, δ(i_6, i_2, (J(i_2, i_0, i_3, i_5)⋅C(i_5, i_4)⋅C(i_0, i_1)⋅C(i_3, i_4)')))+δ(i_7, i_4, δ(i_6, i_3, (J(i_2, i_0, i_3, i_5)⋅C(i_5, i_4)⋅C(i_0, i_1)⋅C(i_2, i_1)')))))\n",
      "∑((i_0, i_1, i_2, i_3, i_4, i_5), (δ(i_6, i_0, δ(i_7, i_1, (C(i_2, i_1)⋅C(i_3, i_4)⋅J(i_2, i_0, i_3, i_5)'⋅C(i_5, i_4)')))+δ(i_7, i_1, δ(i_6, i_2, (J(i_2, i_0, i_3, i_5)⋅C(i_5, i_4)⋅C(i_0, i_1)⋅C(i_3, i_4)')))+δ(i_7, i_4, δ(i_6, i_3, (J(i_2, i_0, i_3, i_5)⋅C(i_5, i_4)⋅C(i_0, i_1)⋅C(i_2, i_1)')))+δ(i_7, i_4, δ(i_6, i_5, (C(i_2, i_1)⋅C(i_3, i_4)⋅J(i_2, i_0, i_3, i_5)'⋅C(i_0, i_1)')))))\n",
      "\n",
      "  0.000138 seconds (1.68 k allocations: 67.078 KiB)\n",
      "8 delta_ex\n",
      "∑((i_0, i_1, i_2, i_3, i_4, i_5), (δ(i_6, i_0, δ(i_7, i_1, (C(i_2, i_1)⋅C(i_3, i_4)⋅J(i_2, i_0, i_3, i_5)'⋅C(i_5, i_4)')))+δ(i_7, i_1, δ(i_6, i_2, (J(i_2, i_0, i_3, i_5)⋅C(i_5, i_4)⋅C(i_0, i_1)⋅C(i_3, i_4)')))+δ(i_7, i_4, δ(i_6, i_3, (J(i_2, i_0, i_3, i_5)⋅C(i_5, i_4)⋅C(i_0, i_1)⋅C(i_2, i_1)')))+δ(i_7, i_4, δ(i_6, i_5, (C(i_2, i_1)⋅C(i_3, i_4)⋅J(i_2, i_0, i_3, i_5)'⋅C(i_0, i_1)')))))\n",
      "∑((i_0, i_1, i_2, i_3, i_4, i_5), (δ(i_6, i_3, δ(i_7, i_5, (J(i_4, i_0, i_3, i_2)⋅C(i_2, i_5)⋅C(i_0, i_1)⋅C(i_4, i_1)')))+δ(i_6, i_0, δ(i_7, i_1, (C(i_4, i_1)⋅C(i_3, i_5)⋅J(i_4, i_0, i_3, i_2)'⋅C(i_2, i_5)')))+δ(i_7, i_1, δ(i_6, i_4, (J(i_4, i_0, i_3, i_2)⋅C(i_2, i_5)⋅C(i_0, i_1)⋅C(i_3, i_5)')))+δ(i_7, i_5, δ(i_6, i_2, (C(i_4, i_1)⋅C(i_3, i_5)⋅J(i_4, i_0, i_3, i_2)'⋅C(i_0, i_1)')))))\n",
      "\n",
      "  0.000209 seconds (2.17 k allocations: 82.734 KiB)\n",
      "9 delta_ex\n",
      "∑((i_0, i_1, i_2, i_3, i_4, i_5), (δ(i_6, i_3, δ(i_7, i_5, (J(i_4, i_0, i_3, i_2)⋅C(i_2, i_5)⋅C(i_0, i_1)⋅C(i_4, i_1)')))+δ(i_6, i_0, δ(i_7, i_1, (C(i_4, i_1)⋅C(i_3, i_5)⋅J(i_4, i_0, i_3, i_2)'⋅C(i_2, i_5)')))+δ(i_7, i_1, δ(i_6, i_4, (J(i_4, i_0, i_3, i_2)⋅C(i_2, i_5)⋅C(i_0, i_1)⋅C(i_3, i_5)')))+δ(i_7, i_5, δ(i_6, i_2, (C(i_4, i_1)⋅C(i_3, i_5)⋅J(i_4, i_0, i_3, i_2)'⋅C(i_0, i_1)')))))\n",
      "∑((i_0, i_1, i_2, i_3, i_4, i_5), (δ(i_6, i_2, δ(i_7, i_1, (J(i_4, i_3, i_2, i_0)⋅C(i_3, i_5)⋅C(i_0, i_1)⋅C(i_4, i_5)')))+δ(i_6, i_3, δ(i_7, i_5, (C(i_4, i_5)⋅C(i_2, i_1)⋅J(i_4, i_3, i_2, i_0)'⋅C(i_0, i_1)')))+δ(i_6, i_0, δ(i_7, i_1, (C(i_4, i_5)⋅C(i_2, i_1)⋅J(i_4, i_3, i_2, i_0)'⋅C(i_3, i_5)')))+δ(i_7, i_5, δ(i_6, i_4, (J(i_4, i_3, i_2, i_0)⋅C(i_3, i_5)⋅C(i_0, i_1)⋅C(i_2, i_1)')))))\n",
      "\n",
      "  0.000138 seconds (1.74 k allocations: 67.734 KiB)\n",
      "10 delta_ex\n",
      "∑((i_0, i_1, i_2, i_3, i_4, i_5), (δ(i_6, i_2, δ(i_7, i_1, (J(i_4, i_3, i_2, i_0)⋅C(i_3, i_5)⋅C(i_0, i_1)⋅C(i_4, i_5)')))+δ(i_6, i_3, δ(i_7, i_5, (C(i_4, i_5)⋅C(i_2, i_1)⋅J(i_4, i_3, i_2, i_0)'⋅C(i_0, i_1)')))+δ(i_6, i_0, δ(i_7, i_1, (C(i_4, i_5)⋅C(i_2, i_1)⋅J(i_4, i_3, i_2, i_0)'⋅C(i_3, i_5)')))+δ(i_7, i_5, δ(i_6, i_4, (J(i_4, i_3, i_2, i_0)⋅C(i_3, i_5)⋅C(i_0, i_1)⋅C(i_2, i_1)')))))\n",
      "∑((i_0, i_1, i_2, i_3, i_4, i_5), (δ(i_6, i_4, δ(i_7, i_1, (J(i_4, i_0, i_3, i_2)⋅C(i_2, i_5)⋅C(i_0, i_1)⋅C(i_3, i_5)')))+δ(i_6, i_0, δ(i_7, i_1, (C(i_4, i_1)⋅C(i_3, i_5)⋅J(i_4, i_0, i_3, i_2)'⋅C(i_2, i_5)')))+δ(i_7, i_5, δ(i_6, i_2, (C(i_4, i_1)⋅C(i_3, i_5)⋅J(i_4, i_0, i_3, i_2)'⋅C(i_0, i_1)')))+δ(i_7, i_5, δ(i_6, i_3, (J(i_4, i_0, i_3, i_2)⋅C(i_2, i_5)⋅C(i_0, i_1)⋅C(i_4, i_1)')))))\n",
      "\n"
     ]
    },
    {
     "name": "stdout",
     "output_type": "stream",
     "text": [
      "  0.000238 seconds (2.96 k allocations: 113.609 KiB)\n",
      "11 delta_ex\n",
      "∑((i_0, i_1, i_2, i_3, i_4, i_5), (δ(i_6, i_4, δ(i_7, i_1, (J(i_4, i_0, i_3, i_2)⋅C(i_2, i_5)⋅C(i_0, i_1)⋅C(i_3, i_5)')))+δ(i_6, i_0, δ(i_7, i_1, (C(i_4, i_1)⋅C(i_3, i_5)⋅J(i_4, i_0, i_3, i_2)'⋅C(i_2, i_5)')))+δ(i_7, i_5, δ(i_6, i_2, (C(i_4, i_1)⋅C(i_3, i_5)⋅J(i_4, i_0, i_3, i_2)'⋅C(i_0, i_1)')))+δ(i_7, i_5, δ(i_6, i_3, (J(i_4, i_0, i_3, i_2)⋅C(i_2, i_5)⋅C(i_0, i_1)⋅C(i_4, i_1)')))))\n",
      "∑((i_0, i_1, i_2, i_3, i_4, i_5), (δ(i_6, i_0, δ(i_7, i_1, (C(i_4, i_5)⋅C(i_2, i_1)⋅J(i_4, i_3, i_2, i_0)'⋅C(i_3, i_5)')))+δ(i_7, i_1, δ(i_6, i_2, (J(i_4, i_3, i_2, i_0)⋅C(i_3, i_5)⋅C(i_0, i_1)⋅C(i_4, i_5)')))+δ(i_7, i_5, δ(i_6, i_4, (J(i_4, i_3, i_2, i_0)⋅C(i_3, i_5)⋅C(i_0, i_1)⋅C(i_2, i_1)')))+δ(i_7, i_5, δ(i_6, i_3, (C(i_4, i_5)⋅C(i_2, i_1)⋅J(i_4, i_3, i_2, i_0)'⋅C(i_0, i_1)')))))\n",
      "\n",
      "  0.000211 seconds (2.57 k allocations: 98.469 KiB)\n",
      "12 delta_ex\n",
      "∑((i_0, i_1, i_2, i_3, i_4, i_5), (δ(i_6, i_0, δ(i_7, i_1, (C(i_4, i_5)⋅C(i_2, i_1)⋅J(i_4, i_3, i_2, i_0)'⋅C(i_3, i_5)')))+δ(i_7, i_1, δ(i_6, i_2, (J(i_4, i_3, i_2, i_0)⋅C(i_3, i_5)⋅C(i_0, i_1)⋅C(i_4, i_5)')))+δ(i_7, i_5, δ(i_6, i_4, (J(i_4, i_3, i_2, i_0)⋅C(i_3, i_5)⋅C(i_0, i_1)⋅C(i_2, i_1)')))+δ(i_7, i_5, δ(i_6, i_3, (C(i_4, i_5)⋅C(i_2, i_1)⋅J(i_4, i_3, i_2, i_0)'⋅C(i_0, i_1)')))))\n",
      "∑((i_0, i_1, i_2, i_3, i_4, i_5), (δ(i_6, i_4, δ(i_7, i_5, (J(i_4, i_3, i_2, i_0)⋅C(i_3, i_5)⋅C(i_0, i_1)⋅C(i_2, i_1)')))+δ(i_6, i_0, δ(i_7, i_1, (C(i_4, i_5)⋅C(i_2, i_1)⋅J(i_4, i_3, i_2, i_0)'⋅C(i_3, i_5)')))+δ(i_7, i_1, δ(i_6, i_2, (J(i_4, i_3, i_2, i_0)⋅C(i_3, i_5)⋅C(i_0, i_1)⋅C(i_4, i_5)')))+δ(i_7, i_5, δ(i_6, i_3, (C(i_4, i_5)⋅C(i_2, i_1)⋅J(i_4, i_3, i_2, i_0)'⋅C(i_0, i_1)')))))\n",
      "\n",
      "  0.000174 seconds (2.15 k allocations: 80.375 KiB)\n",
      "13 delta_ex\n",
      "∑((i_0, i_1, i_2, i_3, i_4, i_5), (δ(i_6, i_4, δ(i_7, i_5, (J(i_4, i_3, i_2, i_0)⋅C(i_3, i_5)⋅C(i_0, i_1)⋅C(i_2, i_1)')))+δ(i_6, i_0, δ(i_7, i_1, (C(i_4, i_5)⋅C(i_2, i_1)⋅J(i_4, i_3, i_2, i_0)'⋅C(i_3, i_5)')))+δ(i_7, i_1, δ(i_6, i_2, (J(i_4, i_3, i_2, i_0)⋅C(i_3, i_5)⋅C(i_0, i_1)⋅C(i_4, i_5)')))+δ(i_7, i_5, δ(i_6, i_3, (C(i_4, i_5)⋅C(i_2, i_1)⋅J(i_4, i_3, i_2, i_0)'⋅C(i_0, i_1)')))))\n",
      "∑((i_0, i_1, i_2, i_3, i_4, i_5), (δ(i_6, i_4, δ(i_7, i_5, (J(i_4, i_3, i_2, i_0)⋅C(i_3, i_5)⋅C(i_0, i_1)⋅C(i_2, i_1)')))+δ(i_6, i_2, δ(i_7, i_1, (J(i_4, i_3, i_2, i_0)⋅C(i_3, i_5)⋅C(i_0, i_1)⋅C(i_4, i_5)')))+δ(i_6, i_0, δ(i_7, i_1, (C(i_4, i_5)⋅C(i_2, i_1)⋅J(i_4, i_3, i_2, i_0)'⋅C(i_3, i_5)')))+δ(i_7, i_5, δ(i_6, i_3, (C(i_4, i_5)⋅C(i_2, i_1)⋅J(i_4, i_3, i_2, i_0)'⋅C(i_0, i_1)')))))\n",
      "\n",
      "  0.000223 seconds (2.94 k allocations: 111.672 KiB)\n",
      "14 delta_ex\n",
      "∑((i_0, i_1, i_2, i_3, i_4, i_5), (δ(i_6, i_4, δ(i_7, i_5, (J(i_4, i_3, i_2, i_0)⋅C(i_3, i_5)⋅C(i_0, i_1)⋅C(i_2, i_1)')))+δ(i_6, i_2, δ(i_7, i_1, (J(i_4, i_3, i_2, i_0)⋅C(i_3, i_5)⋅C(i_0, i_1)⋅C(i_4, i_5)')))+δ(i_6, i_0, δ(i_7, i_1, (C(i_4, i_5)⋅C(i_2, i_1)⋅J(i_4, i_3, i_2, i_0)'⋅C(i_3, i_5)')))+δ(i_7, i_5, δ(i_6, i_3, (C(i_4, i_5)⋅C(i_2, i_1)⋅J(i_4, i_3, i_2, i_0)'⋅C(i_0, i_1)')))))\n",
      "∑((i_0, i_1, i_2, i_3, i_4, i_5), (δ(i_6, i_3, δ(i_7, i_5, (C(i_4, i_5)⋅C(i_2, i_1)⋅J(i_4, i_3, i_2, i_0)'⋅C(i_0, i_1)')))+δ(i_6, i_0, δ(i_7, i_1, (C(i_4, i_5)⋅C(i_2, i_1)⋅J(i_4, i_3, i_2, i_0)'⋅C(i_3, i_5)')))+δ(i_7, i_1, δ(i_6, i_2, (J(i_4, i_3, i_2, i_0)⋅C(i_3, i_5)⋅C(i_0, i_1)⋅C(i_4, i_5)')))+δ(i_7, i_5, δ(i_6, i_4, (J(i_4, i_3, i_2, i_0)⋅C(i_3, i_5)⋅C(i_0, i_1)⋅C(i_2, i_1)')))))\n",
      "\n",
      "  0.000217 seconds (2.71 k allocations: 101.281 KiB)\n",
      "15 delta_ex\n",
      "∑((i_0, i_1, i_2, i_3, i_4, i_5), (δ(i_6, i_3, δ(i_7, i_5, (C(i_4, i_5)⋅C(i_2, i_1)⋅J(i_4, i_3, i_2, i_0)'⋅C(i_0, i_1)')))+δ(i_6, i_0, δ(i_7, i_1, (C(i_4, i_5)⋅C(i_2, i_1)⋅J(i_4, i_3, i_2, i_0)'⋅C(i_3, i_5)')))+δ(i_7, i_1, δ(i_6, i_2, (J(i_4, i_3, i_2, i_0)⋅C(i_3, i_5)⋅C(i_0, i_1)⋅C(i_4, i_5)')))+δ(i_7, i_5, δ(i_6, i_4, (J(i_4, i_3, i_2, i_0)⋅C(i_3, i_5)⋅C(i_0, i_1)⋅C(i_2, i_1)')))))\n",
      "∑((i_0, i_1, i_2, i_3, i_4, i_5), (δ(i_6, i_4, δ(i_7, i_1, (J(i_4, i_0, i_3, i_2)⋅C(i_2, i_5)⋅C(i_0, i_1)⋅C(i_3, i_5)')))+δ(i_6, i_3, δ(i_7, i_5, (J(i_4, i_0, i_3, i_2)⋅C(i_2, i_5)⋅C(i_0, i_1)⋅C(i_4, i_1)')))+δ(i_6, i_0, δ(i_7, i_1, (C(i_4, i_1)⋅C(i_3, i_5)⋅J(i_4, i_0, i_3, i_2)'⋅C(i_2, i_5)')))+δ(i_7, i_5, δ(i_6, i_2, (C(i_4, i_1)⋅C(i_3, i_5)⋅J(i_4, i_0, i_3, i_2)'⋅C(i_0, i_1)')))))\n",
      "\n",
      "  0.000237 seconds (2.71 k allocations: 101.125 KiB)\n",
      "16 delta_ex\n",
      "∑((i_0, i_1, i_2, i_3, i_4, i_5), (δ(i_6, i_4, δ(i_7, i_1, (J(i_4, i_0, i_3, i_2)⋅C(i_2, i_5)⋅C(i_0, i_1)⋅C(i_3, i_5)')))+δ(i_6, i_3, δ(i_7, i_5, (J(i_4, i_0, i_3, i_2)⋅C(i_2, i_5)⋅C(i_0, i_1)⋅C(i_4, i_1)')))+δ(i_6, i_0, δ(i_7, i_1, (C(i_4, i_1)⋅C(i_3, i_5)⋅J(i_4, i_0, i_3, i_2)'⋅C(i_2, i_5)')))+δ(i_7, i_5, δ(i_6, i_2, (C(i_4, i_1)⋅C(i_3, i_5)⋅J(i_4, i_0, i_3, i_2)'⋅C(i_0, i_1)')))))\n",
      "∑((i_0, i_1, i_2, i_3, i_4, i_5), (δ(i_6, i_4, δ(i_7, i_5, (J(i_4, i_3, i_2, i_0)⋅C(i_3, i_5)⋅C(i_0, i_1)⋅C(i_2, i_1)')))+δ(i_6, i_2, δ(i_7, i_1, (J(i_4, i_3, i_2, i_0)⋅C(i_3, i_5)⋅C(i_0, i_1)⋅C(i_4, i_5)')))+δ(i_6, i_3, δ(i_7, i_5, (C(i_4, i_5)⋅C(i_2, i_1)⋅J(i_4, i_3, i_2, i_0)'⋅C(i_0, i_1)')))+δ(i_6, i_0, δ(i_7, i_1, (C(i_4, i_5)⋅C(i_2, i_1)⋅J(i_4, i_3, i_2, i_0)'⋅C(i_3, i_5)')))))\n",
      "\n",
      "  0.000238 seconds (2.98 k allocations: 110.359 KiB)\n",
      "17 sum_dist\n",
      "∑((i_0, i_1, i_2, i_3, i_4, i_5), (δ(i_6, i_4, δ(i_7, i_5, (J(i_4, i_3, i_2, i_0)⋅C(i_3, i_5)⋅C(i_0, i_1)⋅C(i_2, i_1)')))+δ(i_6, i_2, δ(i_7, i_1, (J(i_4, i_3, i_2, i_0)⋅C(i_3, i_5)⋅C(i_0, i_1)⋅C(i_4, i_5)')))+δ(i_6, i_3, δ(i_7, i_5, (C(i_4, i_5)⋅C(i_2, i_1)⋅J(i_4, i_3, i_2, i_0)'⋅C(i_0, i_1)')))+δ(i_6, i_0, δ(i_7, i_1, (C(i_4, i_5)⋅C(i_2, i_1)⋅J(i_4, i_3, i_2, i_0)'⋅C(i_3, i_5)')))))\n",
      "(∑((i_0, i_1, i_2, i_3, i_4, i_5), (δ(i_6, i_4, δ(i_7, i_1, (J(i_4, i_0, i_3, i_2)⋅C(i_2, i_5)⋅C(i_0, i_1)⋅C(i_3, i_5)')))+δ(i_6, i_3, δ(i_7, i_5, (J(i_4, i_0, i_3, i_2)⋅C(i_2, i_5)⋅C(i_0, i_1)⋅C(i_4, i_1)')))+δ(i_6, i_0, δ(i_7, i_1, (C(i_4, i_1)⋅C(i_3, i_5)⋅J(i_4, i_0, i_3, i_2)'⋅C(i_2, i_5)')))))+∑((i_0, i_1, i_2, i_3, i_4, i_5), δ(i_6, i_0, δ(i_7, i_1, (C(i_4, i_5)⋅C(i_2, i_1)⋅J(i_4, i_3, i_2, i_0)'⋅C(i_3, i_5)')))))\n",
      "\n",
      "  0.000168 seconds (1.85 k allocations: 76.656 KiB)\n",
      "18 delta_ex\n",
      "(∑((i_0, i_1, i_2, i_3, i_4, i_5), (δ(i_6, i_4, δ(i_7, i_1, (J(i_4, i_0, i_3, i_2)⋅C(i_2, i_5)⋅C(i_0, i_1)⋅C(i_3, i_5)')))+δ(i_6, i_3, δ(i_7, i_5, (J(i_4, i_0, i_3, i_2)⋅C(i_2, i_5)⋅C(i_0, i_1)⋅C(i_4, i_1)')))+δ(i_6, i_0, δ(i_7, i_1, (C(i_4, i_1)⋅C(i_3, i_5)⋅J(i_4, i_0, i_3, i_2)'⋅C(i_2, i_5)')))))+∑((i_0, i_1, i_2, i_3, i_4, i_5), δ(i_6, i_0, δ(i_7, i_1, (C(i_4, i_5)⋅C(i_2, i_1)⋅J(i_4, i_3, i_2, i_0)'⋅C(i_3, i_5)')))))\n",
      "(∑((i_0, i_1, i_2, i_3, i_4, i_5), (δ(i_6, i_3, δ(i_7, i_5, (J(i_4, i_0, i_3, i_2)⋅C(i_2, i_5)⋅C(i_0, i_1)⋅C(i_4, i_1)')))+δ(i_6, i_0, δ(i_7, i_1, (C(i_4, i_1)⋅C(i_3, i_5)⋅J(i_4, i_0, i_3, i_2)'⋅C(i_2, i_5)')))+δ(i_7, i_5, δ(i_6, i_2, (C(i_4, i_1)⋅C(i_3, i_5)⋅J(i_4, i_0, i_3, i_2)'⋅C(i_0, i_1)')))))+∑((i_0, i_1, i_2, i_3, i_4, i_5), δ(i_6, i_0, δ(i_7, i_1, (C(i_4, i_5)⋅C(i_2, i_1)⋅J(i_4, i_3, i_2, i_0)'⋅C(i_3, i_5)')))))\n",
      "\n",
      "  0.000189 seconds (2.14 k allocations: 89.938 KiB)\n",
      "19 delta_ex\n",
      "(∑((i_0, i_1, i_2, i_3, i_4, i_5), (δ(i_6, i_3, δ(i_7, i_5, (J(i_4, i_0, i_3, i_2)⋅C(i_2, i_5)⋅C(i_0, i_1)⋅C(i_4, i_1)')))+δ(i_6, i_0, δ(i_7, i_1, (C(i_4, i_1)⋅C(i_3, i_5)⋅J(i_4, i_0, i_3, i_2)'⋅C(i_2, i_5)')))+δ(i_7, i_5, δ(i_6, i_2, (C(i_4, i_1)⋅C(i_3, i_5)⋅J(i_4, i_0, i_3, i_2)'⋅C(i_0, i_1)')))))+∑((i_0, i_1, i_2, i_3, i_4, i_5), δ(i_6, i_0, δ(i_7, i_1, (C(i_4, i_5)⋅C(i_2, i_1)⋅J(i_4, i_3, i_2, i_0)'⋅C(i_3, i_5)')))))\n",
      "(∑((i_0, i_1, i_2, i_3, i_4, i_5), (δ(i_6, i_0, δ(i_7, i_1, (C(i_2, i_1)⋅C(i_3, i_4)⋅J(i_2, i_0, i_3, i_5)'⋅C(i_5, i_4)')))+δ(i_7, i_4, δ(i_6, i_3, (J(i_2, i_0, i_3, i_5)⋅C(i_5, i_4)⋅C(i_0, i_1)⋅C(i_2, i_1)')))+δ(i_7, i_4, δ(i_6, i_5, (C(i_2, i_1)⋅C(i_3, i_4)⋅J(i_2, i_0, i_3, i_5)'⋅C(i_0, i_1)')))))+∑((i_0, i_1, i_2, i_3, i_4, i_5), δ(i_6, i_0, δ(i_7, i_1, (C(i_4, i_5)⋅C(i_2, i_1)⋅J(i_4, i_3, i_2, i_0)'⋅C(i_3, i_5)')))))\n",
      "\n",
      "  0.000287 seconds (3.50 k allocations: 145.516 KiB)\n",
      "20 delta_ex\n",
      "(∑((i_0, i_1, i_2, i_3, i_4, i_5), (δ(i_6, i_0, δ(i_7, i_1, (C(i_2, i_1)⋅C(i_3, i_4)⋅J(i_2, i_0, i_3, i_5)'⋅C(i_5, i_4)')))+δ(i_7, i_4, δ(i_6, i_3, (J(i_2, i_0, i_3, i_5)⋅C(i_5, i_4)⋅C(i_0, i_1)⋅C(i_2, i_1)')))+δ(i_7, i_4, δ(i_6, i_5, (C(i_2, i_1)⋅C(i_3, i_4)⋅J(i_2, i_0, i_3, i_5)'⋅C(i_0, i_1)')))))+∑((i_0, i_1, i_2, i_3, i_4, i_5), δ(i_6, i_0, δ(i_7, i_1, (C(i_4, i_5)⋅C(i_2, i_1)⋅J(i_4, i_3, i_2, i_0)'⋅C(i_3, i_5)')))))\n",
      "(∑((i_0, i_1, i_2, i_3, i_4, i_5), (δ(i_7, i_4, δ(i_6, i_3, (C(i_1, i_0)⋅C(i_5, i_4)⋅J(i_1, i_2, i_5, i_3)'⋅C(i_2, i_0)')))+δ(i_7, i_4, δ(i_6, i_5, (J(i_1, i_2, i_5, i_3)⋅C(i_2, i_0)⋅C(i_3, i_4)⋅C(i_1, i_0)')))+δ(i_7, i_0, δ(i_6, i_1, (J(i_1, i_2, i_5, i_3)⋅C(i_2, i_0)⋅C(i_3, i_4)⋅C(i_5, i_4)')))))+∑((i_0, i_1, i_2, i_3, i_4, i_5), δ(i_6, i_0, δ(i_7, i_1, (C(i_4, i_5)⋅C(i_2, i_1)⋅J(i_4, i_3, i_2, i_0)'⋅C(i_3, i_5)')))))\n",
      "\n",
      "  0.000314 seconds (3.89 k allocations: 165.656 KiB)\n",
      "21 delta_ex\n",
      "(∑((i_0, i_1, i_2, i_3, i_4, i_5), (δ(i_7, i_4, δ(i_6, i_3, (C(i_1, i_0)⋅C(i_5, i_4)⋅J(i_1, i_2, i_5, i_3)'⋅C(i_2, i_0)')))+δ(i_7, i_4, δ(i_6, i_5, (J(i_1, i_2, i_5, i_3)⋅C(i_2, i_0)⋅C(i_3, i_4)⋅C(i_1, i_0)')))+δ(i_7, i_0, δ(i_6, i_1, (J(i_1, i_2, i_5, i_3)⋅C(i_2, i_0)⋅C(i_3, i_4)⋅C(i_5, i_4)')))))+∑((i_0, i_1, i_2, i_3, i_4, i_5), δ(i_6, i_0, δ(i_7, i_1, (C(i_4, i_5)⋅C(i_2, i_1)⋅J(i_4, i_3, i_2, i_0)'⋅C(i_3, i_5)')))))\n",
      "(∑((i_0, i_1, i_2, i_3, i_4, i_5), (δ(i_6, i_0, δ(i_7, i_1, (C(i_4, i_1)⋅C(i_2, i_3)⋅J(i_4, i_0, i_2, i_5)'⋅C(i_5, i_3)')))+δ(i_7, i_1, δ(i_6, i_4, (J(i_4, i_0, i_2, i_5)⋅C(i_5, i_3)⋅C(i_0, i_1)⋅C(i_2, i_3)')))+δ(i_7, i_3, δ(i_6, i_2, (J(i_4, i_0, i_2, i_5)⋅C(i_5, i_3)⋅C(i_0, i_1)⋅C(i_4, i_1)')))))+∑((i_0, i_1, i_2, i_3, i_4, i_5), δ(i_6, i_0, δ(i_7, i_1, (C(i_4, i_5)⋅C(i_2, i_1)⋅J(i_4, i_3, i_2, i_0)'⋅C(i_3, i_5)')))))\n",
      "\n",
      "  0.000265 seconds (3.22 k allocations: 136.922 KiB)\n",
      "22 delta_ex\n",
      "(∑((i_0, i_1, i_2, i_3, i_4, i_5), (δ(i_6, i_0, δ(i_7, i_1, (C(i_4, i_1)⋅C(i_2, i_3)⋅J(i_4, i_0, i_2, i_5)'⋅C(i_5, i_3)')))+δ(i_7, i_1, δ(i_6, i_4, (J(i_4, i_0, i_2, i_5)⋅C(i_5, i_3)⋅C(i_0, i_1)⋅C(i_2, i_3)')))+δ(i_7, i_3, δ(i_6, i_2, (J(i_4, i_0, i_2, i_5)⋅C(i_5, i_3)⋅C(i_0, i_1)⋅C(i_4, i_1)')))))+∑((i_0, i_1, i_2, i_3, i_4, i_5), δ(i_6, i_0, δ(i_7, i_1, (C(i_4, i_5)⋅C(i_2, i_1)⋅J(i_4, i_3, i_2, i_0)'⋅C(i_3, i_5)')))))\n",
      "(∑((i_0, i_1, i_2, i_3, i_4, i_5), (δ(i_7, i_5, δ(i_6, i_3, (J(i_1, i_2, i_3, i_4)⋅C(i_4, i_5)⋅C(i_2, i_0)⋅C(i_1, i_0)')))+δ(i_7, i_0, δ(i_6, i_1, (J(i_1, i_2, i_3, i_4)⋅C(i_4, i_5)⋅C(i_2, i_0)⋅C(i_3, i_5)')))+δ(i_7, i_0, δ(i_6, i_2, (C(i_1, i_0)⋅C(i_3, i_5)⋅J(i_1, i_2, i_3, i_4)'⋅C(i_4, i_5)')))))+∑((i_0, i_1, i_2, i_3, i_4, i_5), δ(i_6, i_0, δ(i_7, i_1, (C(i_4, i_5)⋅C(i_2, i_1)⋅J(i_4, i_3, i_2, i_0)'⋅C(i_3, i_5)')))))\n",
      "\n"
     ]
    },
    {
     "name": "stdout",
     "output_type": "stream",
     "text": [
      "  0.000442 seconds (5.49 k allocations: 229.625 KiB)\n",
      "23 delta_ex\n",
      "(∑((i_0, i_1, i_2, i_3, i_4, i_5), (δ(i_7, i_5, δ(i_6, i_3, (J(i_1, i_2, i_3, i_4)⋅C(i_4, i_5)⋅C(i_2, i_0)⋅C(i_1, i_0)')))+δ(i_7, i_0, δ(i_6, i_1, (J(i_1, i_2, i_3, i_4)⋅C(i_4, i_5)⋅C(i_2, i_0)⋅C(i_3, i_5)')))+δ(i_7, i_0, δ(i_6, i_2, (C(i_1, i_0)⋅C(i_3, i_5)⋅J(i_1, i_2, i_3, i_4)'⋅C(i_4, i_5)')))))+∑((i_0, i_1, i_2, i_3, i_4, i_5), δ(i_6, i_0, δ(i_7, i_1, (C(i_4, i_5)⋅C(i_2, i_1)⋅J(i_4, i_3, i_2, i_0)'⋅C(i_3, i_5)')))))\n",
      "(∑((i_0, i_1, i_2, i_3, i_4, i_5), (δ(i_6, i_0, δ(i_7, i_1, (C(i_4, i_1)⋅C(i_3, i_5)⋅J(i_4, i_0, i_3, i_2)'⋅C(i_2, i_5)')))+δ(i_7, i_5, δ(i_6, i_2, (C(i_4, i_1)⋅C(i_3, i_5)⋅J(i_4, i_0, i_3, i_2)'⋅C(i_0, i_1)')))+δ(i_7, i_5, δ(i_6, i_3, (J(i_4, i_0, i_3, i_2)⋅C(i_2, i_5)⋅C(i_0, i_1)⋅C(i_4, i_1)')))))+∑((i_0, i_1, i_2, i_3, i_4, i_5), δ(i_6, i_0, δ(i_7, i_1, (C(i_4, i_5)⋅C(i_2, i_1)⋅J(i_4, i_3, i_2, i_0)'⋅C(i_3, i_5)')))))\n",
      "\n",
      "  0.000392 seconds (5.01 k allocations: 208.125 KiB)\n",
      "24 delta_ex\n",
      "(∑((i_0, i_1, i_2, i_3, i_4, i_5), (δ(i_6, i_0, δ(i_7, i_1, (C(i_4, i_1)⋅C(i_3, i_5)⋅J(i_4, i_0, i_3, i_2)'⋅C(i_2, i_5)')))+δ(i_7, i_5, δ(i_6, i_2, (C(i_4, i_1)⋅C(i_3, i_5)⋅J(i_4, i_0, i_3, i_2)'⋅C(i_0, i_1)')))+δ(i_7, i_5, δ(i_6, i_3, (J(i_4, i_0, i_3, i_2)⋅C(i_2, i_5)⋅C(i_0, i_1)⋅C(i_4, i_1)')))))+∑((i_0, i_1, i_2, i_3, i_4, i_5), δ(i_6, i_0, δ(i_7, i_1, (C(i_4, i_5)⋅C(i_2, i_1)⋅J(i_4, i_3, i_2, i_0)'⋅C(i_3, i_5)')))))\n",
      "(∑((i_0, i_1, i_2, i_3, i_4, i_5), (δ(i_6, i_5, δ(i_7, i_3, (C(i_4, i_1)⋅C(i_2, i_3)⋅J(i_4, i_0, i_2, i_5)'⋅C(i_0, i_1)')))+δ(i_6, i_0, δ(i_7, i_1, (C(i_4, i_1)⋅C(i_2, i_3)⋅J(i_4, i_0, i_2, i_5)'⋅C(i_5, i_3)')))+δ(i_7, i_1, δ(i_6, i_4, (J(i_4, i_0, i_2, i_5)⋅C(i_5, i_3)⋅C(i_0, i_1)⋅C(i_2, i_3)')))))+∑((i_0, i_1, i_2, i_3, i_4, i_5), δ(i_6, i_0, δ(i_7, i_1, (C(i_4, i_5)⋅C(i_2, i_1)⋅J(i_4, i_3, i_2, i_0)'⋅C(i_3, i_5)')))))\n",
      "\n",
      "  0.000436 seconds (4.59 k allocations: 197.484 KiB)\n",
      "25 delta_ex\n",
      "(∑((i_0, i_1, i_2, i_3, i_4, i_5), (δ(i_6, i_5, δ(i_7, i_3, (C(i_4, i_1)⋅C(i_2, i_3)⋅J(i_4, i_0, i_2, i_5)'⋅C(i_0, i_1)')))+δ(i_6, i_0, δ(i_7, i_1, (C(i_4, i_1)⋅C(i_2, i_3)⋅J(i_4, i_0, i_2, i_5)'⋅C(i_5, i_3)')))+δ(i_7, i_1, δ(i_6, i_4, (J(i_4, i_0, i_2, i_5)⋅C(i_5, i_3)⋅C(i_0, i_1)⋅C(i_2, i_3)')))))+∑((i_0, i_1, i_2, i_3, i_4, i_5), δ(i_6, i_0, δ(i_7, i_1, (C(i_4, i_5)⋅C(i_2, i_1)⋅J(i_4, i_3, i_2, i_0)'⋅C(i_3, i_5)')))))\n",
      "(∑((i_0, i_1, i_2, i_3, i_4, i_5), (δ(i_6, i_0, δ(i_7, i_1, (C(i_2, i_1)⋅C(i_3, i_4)⋅J(i_2, i_0, i_3, i_5)'⋅C(i_5, i_4)')))+δ(i_7, i_1, δ(i_6, i_2, (J(i_2, i_0, i_3, i_5)⋅C(i_5, i_4)⋅C(i_0, i_1)⋅C(i_3, i_4)')))+δ(i_7, i_4, δ(i_6, i_5, (C(i_2, i_1)⋅C(i_3, i_4)⋅J(i_2, i_0, i_3, i_5)'⋅C(i_0, i_1)')))))+∑((i_0, i_1, i_2, i_3, i_4, i_5), δ(i_6, i_0, δ(i_7, i_1, (C(i_4, i_5)⋅C(i_2, i_1)⋅J(i_4, i_3, i_2, i_0)'⋅C(i_3, i_5)')))))\n",
      "\n",
      "  0.000375 seconds (4.55 k allocations: 193.703 KiB)\n",
      "26 delta_ex\n",
      "(∑((i_0, i_1, i_2, i_3, i_4, i_5), (δ(i_6, i_0, δ(i_7, i_1, (C(i_2, i_1)⋅C(i_3, i_4)⋅J(i_2, i_0, i_3, i_5)'⋅C(i_5, i_4)')))+δ(i_7, i_1, δ(i_6, i_2, (J(i_2, i_0, i_3, i_5)⋅C(i_5, i_4)⋅C(i_0, i_1)⋅C(i_3, i_4)')))+δ(i_7, i_4, δ(i_6, i_5, (C(i_2, i_1)⋅C(i_3, i_4)⋅J(i_2, i_0, i_3, i_5)'⋅C(i_0, i_1)')))))+∑((i_0, i_1, i_2, i_3, i_4, i_5), δ(i_6, i_0, δ(i_7, i_1, (C(i_4, i_5)⋅C(i_2, i_1)⋅J(i_4, i_3, i_2, i_0)'⋅C(i_3, i_5)')))))\n",
      "(∑((i_0, i_1, i_2, i_3, i_4, i_5), (δ(i_7, i_5, δ(i_6, i_4, (C(i_1, i_0)⋅C(i_3, i_5)⋅J(i_1, i_2, i_3, i_4)'⋅C(i_2, i_0)')))+δ(i_7, i_0, δ(i_6, i_1, (J(i_1, i_2, i_3, i_4)⋅C(i_4, i_5)⋅C(i_2, i_0)⋅C(i_3, i_5)')))+δ(i_7, i_0, δ(i_6, i_2, (C(i_1, i_0)⋅C(i_3, i_5)⋅J(i_1, i_2, i_3, i_4)'⋅C(i_4, i_5)')))))+∑((i_0, i_1, i_2, i_3, i_4, i_5), δ(i_6, i_0, δ(i_7, i_1, (C(i_4, i_5)⋅C(i_2, i_1)⋅J(i_4, i_3, i_2, i_0)'⋅C(i_3, i_5)')))))\n",
      "\n",
      "  0.000505 seconds (6.50 k allocations: 270.812 KiB)\n",
      "27 delta_ex\n",
      "(∑((i_0, i_1, i_2, i_3, i_4, i_5), (δ(i_7, i_5, δ(i_6, i_4, (C(i_1, i_0)⋅C(i_3, i_5)⋅J(i_1, i_2, i_3, i_4)'⋅C(i_2, i_0)')))+δ(i_7, i_0, δ(i_6, i_1, (J(i_1, i_2, i_3, i_4)⋅C(i_4, i_5)⋅C(i_2, i_0)⋅C(i_3, i_5)')))+δ(i_7, i_0, δ(i_6, i_2, (C(i_1, i_0)⋅C(i_3, i_5)⋅J(i_1, i_2, i_3, i_4)'⋅C(i_4, i_5)')))))+∑((i_0, i_1, i_2, i_3, i_4, i_5), δ(i_6, i_0, δ(i_7, i_1, (C(i_4, i_5)⋅C(i_2, i_1)⋅J(i_4, i_3, i_2, i_0)'⋅C(i_3, i_5)')))))\n",
      "(∑((i_0, i_1, i_2, i_3, i_4, i_5), (δ(i_6, i_0, δ(i_7, i_1, (C(i_4, i_1)⋅C(i_2, i_3)⋅J(i_4, i_0, i_2, i_5)'⋅C(i_5, i_3)')))+δ(i_7, i_3, δ(i_6, i_2, (J(i_4, i_0, i_2, i_5)⋅C(i_5, i_3)⋅C(i_0, i_1)⋅C(i_4, i_1)')))+δ(i_7, i_3, δ(i_6, i_5, (C(i_4, i_1)⋅C(i_2, i_3)⋅J(i_4, i_0, i_2, i_5)'⋅C(i_0, i_1)')))))+∑((i_0, i_1, i_2, i_3, i_4, i_5), δ(i_6, i_0, δ(i_7, i_1, (C(i_4, i_5)⋅C(i_2, i_1)⋅J(i_4, i_3, i_2, i_0)'⋅C(i_3, i_5)')))))\n",
      "\n",
      "  0.000649 seconds (6.14 k allocations: 250.047 KiB)\n",
      "28 delta_ex\n",
      "(∑((i_0, i_1, i_2, i_3, i_4, i_5), (δ(i_6, i_0, δ(i_7, i_1, (C(i_4, i_1)⋅C(i_2, i_3)⋅J(i_4, i_0, i_2, i_5)'⋅C(i_5, i_3)')))+δ(i_7, i_3, δ(i_6, i_2, (J(i_4, i_0, i_2, i_5)⋅C(i_5, i_3)⋅C(i_0, i_1)⋅C(i_4, i_1)')))+δ(i_7, i_3, δ(i_6, i_5, (C(i_4, i_1)⋅C(i_2, i_3)⋅J(i_4, i_0, i_2, i_5)'⋅C(i_0, i_1)')))))+∑((i_0, i_1, i_2, i_3, i_4, i_5), δ(i_6, i_0, δ(i_7, i_1, (C(i_4, i_5)⋅C(i_2, i_1)⋅J(i_4, i_3, i_2, i_0)'⋅C(i_3, i_5)')))))\n",
      "(∑((i_0, i_1, i_2, i_3, i_4, i_5), (δ(i_6, i_3, δ(i_7, i_5, (J(i_4, i_0, i_3, i_2)⋅C(i_2, i_5)⋅C(i_0, i_1)⋅C(i_4, i_1)')))+δ(i_6, i_0, δ(i_7, i_1, (C(i_4, i_1)⋅C(i_3, i_5)⋅J(i_4, i_0, i_3, i_2)'⋅C(i_2, i_5)')))+δ(i_7, i_1, δ(i_6, i_4, (J(i_4, i_0, i_3, i_2)⋅C(i_2, i_5)⋅C(i_0, i_1)⋅C(i_3, i_5)')))))+∑((i_0, i_1, i_2, i_3, i_4, i_5), δ(i_6, i_0, δ(i_7, i_1, (C(i_4, i_5)⋅C(i_2, i_1)⋅J(i_4, i_3, i_2, i_0)'⋅C(i_3, i_5)')))))\n",
      "\n",
      "  0.000499 seconds (6.15 k allocations: 248.438 KiB)\n",
      "29 delta_ex\n",
      "(∑((i_0, i_1, i_2, i_3, i_4, i_5), (δ(i_6, i_3, δ(i_7, i_5, (J(i_4, i_0, i_3, i_2)⋅C(i_2, i_5)⋅C(i_0, i_1)⋅C(i_4, i_1)')))+δ(i_6, i_0, δ(i_7, i_1, (C(i_4, i_1)⋅C(i_3, i_5)⋅J(i_4, i_0, i_3, i_2)'⋅C(i_2, i_5)')))+δ(i_7, i_1, δ(i_6, i_4, (J(i_4, i_0, i_3, i_2)⋅C(i_2, i_5)⋅C(i_0, i_1)⋅C(i_3, i_5)')))))+∑((i_0, i_1, i_2, i_3, i_4, i_5), δ(i_6, i_0, δ(i_7, i_1, (C(i_4, i_5)⋅C(i_2, i_1)⋅J(i_4, i_3, i_2, i_0)'⋅C(i_3, i_5)')))))\n",
      "(∑((i_0, i_1, i_2, i_3, i_4, i_5), (δ(i_6, i_0, δ(i_7, i_1, (C(i_2, i_1)⋅C(i_3, i_4)⋅J(i_2, i_0, i_3, i_5)'⋅C(i_5, i_4)')))+δ(i_7, i_1, δ(i_6, i_2, (J(i_2, i_0, i_3, i_5)⋅C(i_5, i_4)⋅C(i_0, i_1)⋅C(i_3, i_4)')))+δ(i_7, i_4, δ(i_6, i_3, (J(i_2, i_0, i_3, i_5)⋅C(i_5, i_4)⋅C(i_0, i_1)⋅C(i_2, i_1)')))))+∑((i_0, i_1, i_2, i_3, i_4, i_5), δ(i_6, i_0, δ(i_7, i_1, (C(i_4, i_5)⋅C(i_2, i_1)⋅J(i_4, i_3, i_2, i_0)'⋅C(i_3, i_5)')))))\n",
      "\n",
      "  0.000377 seconds (4.42 k allocations: 184.297 KiB)\n",
      "30 delta_ex\n",
      "(∑((i_0, i_1, i_2, i_3, i_4, i_5), (δ(i_6, i_0, δ(i_7, i_1, (C(i_2, i_1)⋅C(i_3, i_4)⋅J(i_2, i_0, i_3, i_5)'⋅C(i_5, i_4)')))+δ(i_7, i_1, δ(i_6, i_2, (J(i_2, i_0, i_3, i_5)⋅C(i_5, i_4)⋅C(i_0, i_1)⋅C(i_3, i_4)')))+δ(i_7, i_4, δ(i_6, i_3, (J(i_2, i_0, i_3, i_5)⋅C(i_5, i_4)⋅C(i_0, i_1)⋅C(i_2, i_1)')))))+∑((i_0, i_1, i_2, i_3, i_4, i_5), δ(i_6, i_0, δ(i_7, i_1, (C(i_4, i_5)⋅C(i_2, i_1)⋅J(i_4, i_3, i_2, i_0)'⋅C(i_3, i_5)')))))\n",
      "(∑((i_0, i_1, i_2, i_3, i_4, i_5), (δ(i_6, i_2, δ(i_7, i_1, (J(i_4, i_3, i_2, i_0)⋅C(i_3, i_5)⋅C(i_0, i_1)⋅C(i_4, i_5)')))+δ(i_6, i_0, δ(i_7, i_1, (C(i_4, i_5)⋅C(i_2, i_1)⋅J(i_4, i_3, i_2, i_0)'⋅C(i_3, i_5)')))+δ(i_7, i_5, δ(i_6, i_3, (C(i_4, i_5)⋅C(i_2, i_1)⋅J(i_4, i_3, i_2, i_0)'⋅C(i_0, i_1)')))))+∑((i_0, i_1, i_2, i_3, i_4, i_5), δ(i_6, i_0, δ(i_7, i_1, (C(i_4, i_5)⋅C(i_2, i_1)⋅J(i_4, i_3, i_2, i_0)'⋅C(i_3, i_5)')))))\n",
      "\n",
      "  0.000546 seconds (6.22 k allocations: 255.000 KiB)\n",
      "31 delta_ex\n",
      "(∑((i_0, i_1, i_2, i_3, i_4, i_5), (δ(i_6, i_2, δ(i_7, i_1, (J(i_4, i_3, i_2, i_0)⋅C(i_3, i_5)⋅C(i_0, i_1)⋅C(i_4, i_5)')))+δ(i_6, i_0, δ(i_7, i_1, (C(i_4, i_5)⋅C(i_2, i_1)⋅J(i_4, i_3, i_2, i_0)'⋅C(i_3, i_5)')))+δ(i_7, i_5, δ(i_6, i_3, (C(i_4, i_5)⋅C(i_2, i_1)⋅J(i_4, i_3, i_2, i_0)'⋅C(i_0, i_1)')))))+∑((i_0, i_1, i_2, i_3, i_4, i_5), δ(i_6, i_0, δ(i_7, i_1, (C(i_4, i_5)⋅C(i_2, i_1)⋅J(i_4, i_3, i_2, i_0)'⋅C(i_3, i_5)')))))\n",
      "(∑((i_0, i_1, i_2, i_3, i_4, i_5), (δ(i_6, i_0, δ(i_7, i_1, (C(i_4, i_1)⋅C(i_2, i_3)⋅J(i_4, i_0, i_2, i_5)'⋅C(i_5, i_3)')))+δ(i_7, i_1, δ(i_6, i_4, (J(i_4, i_0, i_2, i_5)⋅C(i_5, i_3)⋅C(i_0, i_1)⋅C(i_2, i_3)')))+δ(i_7, i_3, δ(i_6, i_5, (C(i_4, i_1)⋅C(i_2, i_3)⋅J(i_4, i_0, i_2, i_5)'⋅C(i_0, i_1)')))))+∑((i_0, i_1, i_2, i_3, i_4, i_5), δ(i_6, i_0, δ(i_7, i_1, (C(i_4, i_5)⋅C(i_2, i_1)⋅J(i_4, i_3, i_2, i_0)'⋅C(i_3, i_5)')))))\n",
      "\n"
     ]
    },
    {
     "name": "stdout",
     "output_type": "stream",
     "text": [
      "  0.000538 seconds (6.67 k allocations: 270.516 KiB)\n",
      "32 delta_ex\n",
      "(∑((i_0, i_1, i_2, i_3, i_4, i_5), (δ(i_6, i_0, δ(i_7, i_1, (C(i_4, i_1)⋅C(i_2, i_3)⋅J(i_4, i_0, i_2, i_5)'⋅C(i_5, i_3)')))+δ(i_7, i_1, δ(i_6, i_4, (J(i_4, i_0, i_2, i_5)⋅C(i_5, i_3)⋅C(i_0, i_1)⋅C(i_2, i_3)')))+δ(i_7, i_3, δ(i_6, i_5, (C(i_4, i_1)⋅C(i_2, i_3)⋅J(i_4, i_0, i_2, i_5)'⋅C(i_0, i_1)')))))+∑((i_0, i_1, i_2, i_3, i_4, i_5), δ(i_6, i_0, δ(i_7, i_1, (C(i_4, i_5)⋅C(i_2, i_1)⋅J(i_4, i_3, i_2, i_0)'⋅C(i_3, i_5)')))))\n",
      "(∑((i_0, i_1, i_2, i_3, i_4, i_5), (δ(i_6, i_2, δ(i_7, i_1, (J(i_4, i_3, i_2, i_0)⋅C(i_3, i_5)⋅C(i_0, i_1)⋅C(i_4, i_5)')))+δ(i_6, i_0, δ(i_7, i_1, (C(i_4, i_5)⋅C(i_2, i_1)⋅J(i_4, i_3, i_2, i_0)'⋅C(i_3, i_5)')))+δ(i_7, i_5, δ(i_6, i_4, (J(i_4, i_3, i_2, i_0)⋅C(i_3, i_5)⋅C(i_0, i_1)⋅C(i_2, i_1)')))))+∑((i_0, i_1, i_2, i_3, i_4, i_5), δ(i_6, i_0, δ(i_7, i_1, (C(i_4, i_5)⋅C(i_2, i_1)⋅J(i_4, i_3, i_2, i_0)'⋅C(i_3, i_5)')))))\n",
      "\n",
      "  0.000451 seconds (5.57 k allocations: 234.734 KiB)\n",
      "33 delta_ex\n",
      "(∑((i_0, i_1, i_2, i_3, i_4, i_5), (δ(i_6, i_2, δ(i_7, i_1, (J(i_4, i_3, i_2, i_0)⋅C(i_3, i_5)⋅C(i_0, i_1)⋅C(i_4, i_5)')))+δ(i_6, i_0, δ(i_7, i_1, (C(i_4, i_5)⋅C(i_2, i_1)⋅J(i_4, i_3, i_2, i_0)'⋅C(i_3, i_5)')))+δ(i_7, i_5, δ(i_6, i_4, (J(i_4, i_3, i_2, i_0)⋅C(i_3, i_5)⋅C(i_0, i_1)⋅C(i_2, i_1)')))))+∑((i_0, i_1, i_2, i_3, i_4, i_5), δ(i_6, i_0, δ(i_7, i_1, (C(i_4, i_5)⋅C(i_2, i_1)⋅J(i_4, i_3, i_2, i_0)'⋅C(i_3, i_5)')))))\n",
      "(∑((i_0, i_1, i_2, i_3, i_4, i_5), (δ(i_6, i_0, δ(i_7, i_1, (C(i_4, i_1)⋅C(i_3, i_5)⋅J(i_4, i_0, i_3, i_2)'⋅C(i_2, i_5)')))+δ(i_7, i_1, δ(i_6, i_4, (J(i_4, i_0, i_3, i_2)⋅C(i_2, i_5)⋅C(i_0, i_1)⋅C(i_3, i_5)')))+δ(i_7, i_5, δ(i_6, i_2, (C(i_4, i_1)⋅C(i_3, i_5)⋅J(i_4, i_0, i_3, i_2)'⋅C(i_0, i_1)')))))+∑((i_0, i_1, i_2, i_3, i_4, i_5), δ(i_6, i_0, δ(i_7, i_1, (C(i_4, i_5)⋅C(i_2, i_1)⋅J(i_4, i_3, i_2, i_0)'⋅C(i_3, i_5)')))))\n",
      "\n",
      "  0.000516 seconds (6.51 k allocations: 267.469 KiB)\n",
      "34 delta_ex\n",
      "(∑((i_0, i_1, i_2, i_3, i_4, i_5), (δ(i_6, i_0, δ(i_7, i_1, (C(i_4, i_1)⋅C(i_3, i_5)⋅J(i_4, i_0, i_3, i_2)'⋅C(i_2, i_5)')))+δ(i_7, i_1, δ(i_6, i_4, (J(i_4, i_0, i_3, i_2)⋅C(i_2, i_5)⋅C(i_0, i_1)⋅C(i_3, i_5)')))+δ(i_7, i_5, δ(i_6, i_2, (C(i_4, i_1)⋅C(i_3, i_5)⋅J(i_4, i_0, i_3, i_2)'⋅C(i_0, i_1)')))))+∑((i_0, i_1, i_2, i_3, i_4, i_5), δ(i_6, i_0, δ(i_7, i_1, (C(i_4, i_5)⋅C(i_2, i_1)⋅J(i_4, i_3, i_2, i_0)'⋅C(i_3, i_5)')))))\n",
      "(∑((i_0, i_1, i_2, i_3, i_4, i_5), (δ(i_6, i_5, δ(i_7, i_3, (C(i_4, i_1)⋅C(i_2, i_3)⋅J(i_4, i_0, i_2, i_5)'⋅C(i_0, i_1)')))+δ(i_6, i_0, δ(i_7, i_1, (C(i_4, i_1)⋅C(i_2, i_3)⋅J(i_4, i_0, i_2, i_5)'⋅C(i_5, i_3)')))+δ(i_7, i_3, δ(i_6, i_2, (J(i_4, i_0, i_2, i_5)⋅C(i_5, i_3)⋅C(i_0, i_1)⋅C(i_4, i_1)')))))+∑((i_0, i_1, i_2, i_3, i_4, i_5), δ(i_6, i_0, δ(i_7, i_1, (C(i_4, i_5)⋅C(i_2, i_1)⋅J(i_4, i_3, i_2, i_0)'⋅C(i_3, i_5)')))))\n",
      "\n",
      "  0.000613 seconds (7.25 k allocations: 296.250 KiB)\n",
      "35 sum_dist\n",
      "(∑((i_0, i_1, i_2, i_3, i_4, i_5), (δ(i_6, i_5, δ(i_7, i_3, (C(i_4, i_1)⋅C(i_2, i_3)⋅J(i_4, i_0, i_2, i_5)'⋅C(i_0, i_1)')))+δ(i_6, i_0, δ(i_7, i_1, (C(i_4, i_1)⋅C(i_2, i_3)⋅J(i_4, i_0, i_2, i_5)'⋅C(i_5, i_3)')))+δ(i_7, i_3, δ(i_6, i_2, (J(i_4, i_0, i_2, i_5)⋅C(i_5, i_3)⋅C(i_0, i_1)⋅C(i_4, i_1)')))))+∑((i_0, i_1, i_2, i_3, i_4, i_5), δ(i_6, i_0, δ(i_7, i_1, (C(i_4, i_5)⋅C(i_2, i_1)⋅J(i_4, i_3, i_2, i_0)'⋅C(i_3, i_5)')))))\n",
      "(∑((i_0, i_1, i_2, i_3, i_4, i_5), (δ(i_6, i_0, δ(i_7, i_1, (C(i_2, i_1)⋅C(i_3, i_4)⋅J(i_2, i_0, i_3, i_5)'⋅C(i_5, i_4)')))+δ(i_7, i_4, δ(i_6, i_3, (J(i_2, i_0, i_3, i_5)⋅C(i_5, i_4)⋅C(i_0, i_1)⋅C(i_2, i_1)')))))+∑((i_0, i_1, i_2, i_3, i_4, i_5), δ(i_6, i_0, δ(i_7, i_1, (C(i_4, i_1)⋅C(i_2, i_3)⋅J(i_4, i_0, i_2, i_5)'⋅C(i_5, i_3)'))))+∑((i_0, i_1, i_2, i_3, i_4, i_5), δ(i_6, i_0, δ(i_7, i_1, (C(i_4, i_5)⋅C(i_2, i_1)⋅J(i_4, i_3, i_2, i_0)'⋅C(i_3, i_5)')))))\n",
      "\n",
      "  0.000441 seconds (5.49 k allocations: 234.406 KiB)\n",
      "36 delta_ex\n",
      "(∑((i_0, i_1, i_2, i_3, i_4, i_5), (δ(i_6, i_0, δ(i_7, i_1, (C(i_2, i_1)⋅C(i_3, i_4)⋅J(i_2, i_0, i_3, i_5)'⋅C(i_5, i_4)')))+δ(i_7, i_4, δ(i_6, i_3, (J(i_2, i_0, i_3, i_5)⋅C(i_5, i_4)⋅C(i_0, i_1)⋅C(i_2, i_1)')))))+∑((i_0, i_1, i_2, i_3, i_4, i_5), δ(i_6, i_0, δ(i_7, i_1, (C(i_4, i_1)⋅C(i_2, i_3)⋅J(i_4, i_0, i_2, i_5)'⋅C(i_5, i_3)'))))+∑((i_0, i_1, i_2, i_3, i_4, i_5), δ(i_6, i_0, δ(i_7, i_1, (C(i_4, i_5)⋅C(i_2, i_1)⋅J(i_4, i_3, i_2, i_0)'⋅C(i_3, i_5)')))))\n",
      "(∑((i_0, i_1, i_2, i_3, i_4, i_5), (δ(i_7, i_4, δ(i_6, i_3, (C(i_1, i_0)⋅C(i_5, i_4)⋅J(i_1, i_2, i_5, i_3)'⋅C(i_2, i_0)')))+δ(i_7, i_0, δ(i_6, i_1, (J(i_1, i_2, i_5, i_3)⋅C(i_2, i_0)⋅C(i_3, i_4)⋅C(i_5, i_4)')))))+∑((i_0, i_1, i_2, i_3, i_4, i_5), δ(i_6, i_0, δ(i_7, i_1, (C(i_4, i_1)⋅C(i_2, i_3)⋅J(i_4, i_0, i_2, i_5)'⋅C(i_5, i_3)'))))+∑((i_0, i_1, i_2, i_3, i_4, i_5), δ(i_6, i_0, δ(i_7, i_1, (C(i_4, i_5)⋅C(i_2, i_1)⋅J(i_4, i_3, i_2, i_0)'⋅C(i_3, i_5)')))))\n",
      "\n",
      "  0.000484 seconds (6.47 k allocations: 275.750 KiB)\n",
      "37 delta_ex\n",
      "(∑((i_0, i_1, i_2, i_3, i_4, i_5), (δ(i_7, i_4, δ(i_6, i_3, (C(i_1, i_0)⋅C(i_5, i_4)⋅J(i_1, i_2, i_5, i_3)'⋅C(i_2, i_0)')))+δ(i_7, i_0, δ(i_6, i_1, (J(i_1, i_2, i_5, i_3)⋅C(i_2, i_0)⋅C(i_3, i_4)⋅C(i_5, i_4)')))))+∑((i_0, i_1, i_2, i_3, i_4, i_5), δ(i_6, i_0, δ(i_7, i_1, (C(i_4, i_1)⋅C(i_2, i_3)⋅J(i_4, i_0, i_2, i_5)'⋅C(i_5, i_3)'))))+∑((i_0, i_1, i_2, i_3, i_4, i_5), δ(i_6, i_0, δ(i_7, i_1, (C(i_4, i_5)⋅C(i_2, i_1)⋅J(i_4, i_3, i_2, i_0)'⋅C(i_3, i_5)')))))\n",
      "(∑((i_0, i_1, i_2, i_3, i_4, i_5), (δ(i_6, i_0, δ(i_7, i_1, (C(i_4, i_1)⋅C(i_2, i_3)⋅J(i_4, i_0, i_2, i_5)'⋅C(i_5, i_3)')))+δ(i_7, i_3, δ(i_6, i_2, (J(i_4, i_0, i_2, i_5)⋅C(i_5, i_3)⋅C(i_0, i_1)⋅C(i_4, i_1)')))))+∑((i_0, i_1, i_2, i_3, i_4, i_5), δ(i_6, i_0, δ(i_7, i_1, (C(i_4, i_1)⋅C(i_2, i_3)⋅J(i_4, i_0, i_2, i_5)'⋅C(i_5, i_3)'))))+∑((i_0, i_1, i_2, i_3, i_4, i_5), δ(i_6, i_0, δ(i_7, i_1, (C(i_4, i_5)⋅C(i_2, i_1)⋅J(i_4, i_3, i_2, i_0)'⋅C(i_3, i_5)')))))\n",
      "\n",
      "  0.000591 seconds (7.95 k allocations: 340.984 KiB)\n",
      "38 delta_ex\n",
      "(∑((i_0, i_1, i_2, i_3, i_4, i_5), (δ(i_6, i_0, δ(i_7, i_1, (C(i_4, i_1)⋅C(i_2, i_3)⋅J(i_4, i_0, i_2, i_5)'⋅C(i_5, i_3)')))+δ(i_7, i_3, δ(i_6, i_2, (J(i_4, i_0, i_2, i_5)⋅C(i_5, i_3)⋅C(i_0, i_1)⋅C(i_4, i_1)')))))+∑((i_0, i_1, i_2, i_3, i_4, i_5), δ(i_6, i_0, δ(i_7, i_1, (C(i_4, i_1)⋅C(i_2, i_3)⋅J(i_4, i_0, i_2, i_5)'⋅C(i_5, i_3)'))))+∑((i_0, i_1, i_2, i_3, i_4, i_5), δ(i_6, i_0, δ(i_7, i_1, (C(i_4, i_5)⋅C(i_2, i_1)⋅J(i_4, i_3, i_2, i_0)'⋅C(i_3, i_5)')))))\n",
      "(∑((i_0, i_1, i_2, i_3, i_4, i_5), (δ(i_6, i_3, δ(i_7, i_5, (J(i_4, i_0, i_3, i_2)⋅C(i_2, i_5)⋅C(i_0, i_1)⋅C(i_4, i_1)')))+δ(i_6, i_0, δ(i_7, i_1, (C(i_4, i_1)⋅C(i_3, i_5)⋅J(i_4, i_0, i_3, i_2)'⋅C(i_2, i_5)')))))+∑((i_0, i_1, i_2, i_3, i_4, i_5), δ(i_6, i_0, δ(i_7, i_1, (C(i_4, i_1)⋅C(i_2, i_3)⋅J(i_4, i_0, i_2, i_5)'⋅C(i_5, i_3)'))))+∑((i_0, i_1, i_2, i_3, i_4, i_5), δ(i_6, i_0, δ(i_7, i_1, (C(i_4, i_5)⋅C(i_2, i_1)⋅J(i_4, i_3, i_2, i_0)'⋅C(i_3, i_5)')))))\n",
      "\n",
      "  0.000519 seconds (7.07 k allocations: 320.875 KiB)\n",
      "39 delta_ex\n",
      "(∑((i_0, i_1, i_2, i_3, i_4, i_5), (δ(i_6, i_3, δ(i_7, i_5, (J(i_4, i_0, i_3, i_2)⋅C(i_2, i_5)⋅C(i_0, i_1)⋅C(i_4, i_1)')))+δ(i_6, i_0, δ(i_7, i_1, (C(i_4, i_1)⋅C(i_3, i_5)⋅J(i_4, i_0, i_3, i_2)'⋅C(i_2, i_5)')))))+∑((i_0, i_1, i_2, i_3, i_4, i_5), δ(i_6, i_0, δ(i_7, i_1, (C(i_4, i_1)⋅C(i_2, i_3)⋅J(i_4, i_0, i_2, i_5)'⋅C(i_5, i_3)'))))+∑((i_0, i_1, i_2, i_3, i_4, i_5), δ(i_6, i_0, δ(i_7, i_1, (C(i_4, i_5)⋅C(i_2, i_1)⋅J(i_4, i_3, i_2, i_0)'⋅C(i_3, i_5)')))))\n",
      "(∑((i_0, i_1, i_2, i_3, i_4, i_5), (δ(i_6, i_0, δ(i_7, i_1, (C(i_4, i_1)⋅C(i_3, i_5)⋅J(i_4, i_0, i_3, i_2)'⋅C(i_2, i_5)')))+δ(i_7, i_5, δ(i_6, i_3, (J(i_4, i_0, i_3, i_2)⋅C(i_2, i_5)⋅C(i_0, i_1)⋅C(i_4, i_1)')))))+∑((i_0, i_1, i_2, i_3, i_4, i_5), δ(i_6, i_0, δ(i_7, i_1, (C(i_4, i_1)⋅C(i_2, i_3)⋅J(i_4, i_0, i_2, i_5)'⋅C(i_5, i_3)'))))+∑((i_0, i_1, i_2, i_3, i_4, i_5), δ(i_6, i_0, δ(i_7, i_1, (C(i_4, i_5)⋅C(i_2, i_1)⋅J(i_4, i_3, i_2, i_0)'⋅C(i_3, i_5)')))))\n",
      "\n",
      "  0.000583 seconds (7.86 k allocations: 345.094 KiB)\n",
      "40 sum_dist\n",
      "(∑((i_0, i_1, i_2, i_3, i_4, i_5), (δ(i_6, i_0, δ(i_7, i_1, (C(i_4, i_1)⋅C(i_3, i_5)⋅J(i_4, i_0, i_3, i_2)'⋅C(i_2, i_5)')))+δ(i_7, i_5, δ(i_6, i_3, (J(i_4, i_0, i_3, i_2)⋅C(i_2, i_5)⋅C(i_0, i_1)⋅C(i_4, i_1)')))))+∑((i_0, i_1, i_2, i_3, i_4, i_5), δ(i_6, i_0, δ(i_7, i_1, (C(i_4, i_1)⋅C(i_2, i_3)⋅J(i_4, i_0, i_2, i_5)'⋅C(i_5, i_3)'))))+∑((i_0, i_1, i_2, i_3, i_4, i_5), δ(i_6, i_0, δ(i_7, i_1, (C(i_4, i_5)⋅C(i_2, i_1)⋅J(i_4, i_3, i_2, i_0)'⋅C(i_3, i_5)')))))\n",
      "(∑((i_0, i_1, i_2, i_3, i_4, i_5), δ(i_6, i_0, δ(i_7, i_1, (C(i_4, i_1)⋅C(i_2, i_3)⋅J(i_4, i_0, i_2, i_5)'⋅C(i_5, i_3)'))))+∑((i_0, i_1, i_2, i_3, i_4, i_5), δ(i_6, i_0, δ(i_7, i_1, (C(i_4, i_5)⋅C(i_2, i_1)⋅J(i_4, i_3, i_2, i_0)'⋅C(i_3, i_5)'))))+∑((i_0, i_1, i_2, i_3, i_4, i_5), δ(i_6, i_0, δ(i_7, i_1, (C(i_2, i_1)⋅C(i_3, i_4)⋅J(i_2, i_0, i_3, i_5)'⋅C(i_5, i_4)'))))+∑((i_0, i_1, i_2, i_3, i_4, i_5), δ(i_7, i_0, δ(i_6, i_1, (J(i_1, i_4, i_2, i_3)⋅C(i_4, i_0)⋅C(i_3, i_5)⋅C(i_2, i_5)')))))\n",
      "\n"
     ]
    },
    {
     "name": "stdout",
     "output_type": "stream",
     "text": [
      "  0.000784 seconds (11.16 k allocations: 473.625 KiB)\n",
      "41 delta_ex\n",
      "(∑((i_0, i_1, i_2, i_3, i_4, i_5), δ(i_6, i_0, δ(i_7, i_1, (C(i_4, i_1)⋅C(i_2, i_3)⋅J(i_4, i_0, i_2, i_5)'⋅C(i_5, i_3)'))))+∑((i_0, i_1, i_2, i_3, i_4, i_5), δ(i_6, i_0, δ(i_7, i_1, (C(i_4, i_5)⋅C(i_2, i_1)⋅J(i_4, i_3, i_2, i_0)'⋅C(i_3, i_5)'))))+∑((i_0, i_1, i_2, i_3, i_4, i_5), δ(i_6, i_0, δ(i_7, i_1, (C(i_2, i_1)⋅C(i_3, i_4)⋅J(i_2, i_0, i_3, i_5)'⋅C(i_5, i_4)'))))+∑((i_0, i_1, i_2, i_3, i_4, i_5), δ(i_7, i_0, δ(i_6, i_1, (J(i_1, i_4, i_2, i_3)⋅C(i_4, i_0)⋅C(i_3, i_5)⋅C(i_2, i_5)')))))\n",
      "(∑((i_0, i_1, i_2, i_3, i_4, i_5), δ(i_6, i_0, δ(i_7, i_1, (C(i_4, i_5)⋅C(i_2, i_1)⋅J(i_4, i_3, i_2, i_0)'⋅C(i_3, i_5)'))))+∑((i_0, i_1, i_2, i_3, i_4, i_5), δ(i_6, i_0, δ(i_7, i_1, (C(i_2, i_1)⋅C(i_3, i_4)⋅J(i_2, i_0, i_3, i_5)'⋅C(i_5, i_4)'))))+∑((i_0, i_1, i_2, i_3, i_4, i_5), δ(i_7, i_0, δ(i_6, i_1, (J(i_1, i_4, i_2, i_3)⋅C(i_4, i_0)⋅C(i_3, i_5)⋅C(i_2, i_5)'))))+∑((i_0, i_1, i_2, i_3, i_4, i_5), δ(i_7, i_0, δ(i_6, i_1, (J(i_1, i_2, i_5, i_3)⋅C(i_2, i_0)⋅C(i_3, i_4)⋅C(i_5, i_4)')))))\n",
      "\n",
      "  0.000715 seconds (10.41 k allocations: 444.500 KiB)\n",
      "42 delta_ex\n",
      "(∑((i_0, i_1, i_2, i_3, i_4, i_5), δ(i_6, i_0, δ(i_7, i_1, (C(i_4, i_5)⋅C(i_2, i_1)⋅J(i_4, i_3, i_2, i_0)'⋅C(i_3, i_5)'))))+∑((i_0, i_1, i_2, i_3, i_4, i_5), δ(i_6, i_0, δ(i_7, i_1, (C(i_2, i_1)⋅C(i_3, i_4)⋅J(i_2, i_0, i_3, i_5)'⋅C(i_5, i_4)'))))+∑((i_0, i_1, i_2, i_3, i_4, i_5), δ(i_7, i_0, δ(i_6, i_1, (J(i_1, i_4, i_2, i_3)⋅C(i_4, i_0)⋅C(i_3, i_5)⋅C(i_2, i_5)'))))+∑((i_0, i_1, i_2, i_3, i_4, i_5), δ(i_7, i_0, δ(i_6, i_1, (J(i_1, i_2, i_5, i_3)⋅C(i_2, i_0)⋅C(i_3, i_4)⋅C(i_5, i_4)')))))\n",
      "(∑((i_0, i_1, i_2, i_3, i_4, i_5), δ(i_6, i_0, δ(i_7, i_1, (C(i_2, i_1)⋅C(i_3, i_4)⋅J(i_2, i_0, i_3, i_5)'⋅C(i_5, i_4)'))))+∑((i_0, i_1, i_2, i_3, i_4, i_5), δ(i_7, i_0, δ(i_6, i_1, (J(i_1, i_4, i_2, i_3)⋅C(i_4, i_0)⋅C(i_3, i_5)⋅C(i_2, i_5)'))))+∑((i_0, i_1, i_2, i_3, i_4, i_5), δ(i_7, i_0, δ(i_6, i_1, (J(i_1, i_4, i_5, i_2)⋅C(i_4, i_0)⋅C(i_2, i_3)⋅C(i_5, i_3)'))))+∑((i_0, i_1, i_2, i_3, i_4, i_5), δ(i_7, i_0, δ(i_6, i_1, (J(i_1, i_2, i_5, i_3)⋅C(i_2, i_0)⋅C(i_3, i_4)⋅C(i_5, i_4)')))))\n",
      "\n",
      "  0.007655 seconds (10.34 k allocations: 446.625 KiB, 89.09% gc time)\n",
      "43 delta_ex\n",
      "(∑((i_0, i_1, i_2, i_3, i_4, i_5), δ(i_6, i_0, δ(i_7, i_1, (C(i_2, i_1)⋅C(i_3, i_4)⋅J(i_2, i_0, i_3, i_5)'⋅C(i_5, i_4)'))))+∑((i_0, i_1, i_2, i_3, i_4, i_5), δ(i_7, i_0, δ(i_6, i_1, (J(i_1, i_4, i_2, i_3)⋅C(i_4, i_0)⋅C(i_3, i_5)⋅C(i_2, i_5)'))))+∑((i_0, i_1, i_2, i_3, i_4, i_5), δ(i_7, i_0, δ(i_6, i_1, (J(i_1, i_4, i_5, i_2)⋅C(i_4, i_0)⋅C(i_2, i_3)⋅C(i_5, i_3)'))))+∑((i_0, i_1, i_2, i_3, i_4, i_5), δ(i_7, i_0, δ(i_6, i_1, (J(i_1, i_2, i_5, i_3)⋅C(i_2, i_0)⋅C(i_3, i_4)⋅C(i_5, i_4)')))))\n",
      "(∑((i_0, i_1, i_2, i_3, i_4, i_5), δ(i_7, i_0, δ(i_6, i_1, (J(i_1, i_4, i_2, i_3)⋅C(i_4, i_0)⋅C(i_3, i_5)⋅C(i_2, i_5)'))))+∑((i_0, i_1, i_2, i_3, i_4, i_5), δ(i_7, i_0, δ(i_6, i_1, (J(i_1, i_4, i_5, i_2)⋅C(i_4, i_0)⋅C(i_2, i_3)⋅C(i_5, i_3)'))))+∑((i_0, i_1, i_2, i_3, i_4, i_5), δ(i_7, i_0, δ(i_6, i_1, (J(i_1, i_2, i_5, i_3)⋅C(i_2, i_0)⋅C(i_3, i_4)⋅C(i_5, i_4)'))))+∑((i_0, i_1, i_2, i_3, i_4, i_5), δ(i_7, i_0, δ(i_6, i_1, (J(i_1, i_2, i_5, i_3)⋅C(i_2, i_0)⋅C(i_3, i_4)⋅C(i_5, i_4)')))))\n",
      "\n",
      "  0.000494 seconds (6.80 k allocations: 305.734 KiB)\n",
      "44 delta_ex\n",
      "(∑((i_0, i_1, i_2, i_3, i_4, i_5), δ(i_7, i_0, δ(i_6, i_1, (J(i_1, i_4, i_2, i_3)⋅C(i_4, i_0)⋅C(i_3, i_5)⋅C(i_2, i_5)'))))+∑((i_0, i_1, i_2, i_3, i_4, i_5), δ(i_7, i_0, δ(i_6, i_1, (J(i_1, i_4, i_5, i_2)⋅C(i_4, i_0)⋅C(i_2, i_3)⋅C(i_5, i_3)'))))+∑((i_0, i_1, i_2, i_3, i_4, i_5), δ(i_7, i_0, δ(i_6, i_1, (J(i_1, i_2, i_5, i_3)⋅C(i_2, i_0)⋅C(i_3, i_4)⋅C(i_5, i_4)'))))+∑((i_0, i_1, i_2, i_3, i_4, i_5), δ(i_7, i_0, δ(i_6, i_1, (J(i_1, i_2, i_5, i_3)⋅C(i_2, i_0)⋅C(i_3, i_4)⋅C(i_5, i_4)')))))\n",
      "(∑((i_0, i_1, i_2, i_3, i_4, i_5), δ(i_6, i_0, δ(i_7, i_1, (C(i_4, i_5)⋅C(i_2, i_1)⋅J(i_4, i_3, i_2, i_0)'⋅C(i_3, i_5)'))))+∑((i_0, i_1, i_2, i_3, i_4, i_5), δ(i_7, i_0, δ(i_6, i_1, (J(i_1, i_4, i_5, i_2)⋅C(i_4, i_0)⋅C(i_2, i_3)⋅C(i_5, i_3)'))))+∑((i_0, i_1, i_2, i_3, i_4, i_5), δ(i_7, i_0, δ(i_6, i_1, (J(i_1, i_2, i_5, i_3)⋅C(i_2, i_0)⋅C(i_3, i_4)⋅C(i_5, i_4)'))))+∑((i_0, i_1, i_2, i_3, i_4, i_5), δ(i_7, i_0, δ(i_6, i_1, (J(i_1, i_2, i_5, i_3)⋅C(i_2, i_0)⋅C(i_3, i_4)⋅C(i_5, i_4)')))))\n",
      "\n",
      "  0.000786 seconds (11.47 k allocations: 494.969 KiB)\n",
      "45 delta_ex\n",
      "(∑((i_0, i_1, i_2, i_3, i_4, i_5), δ(i_6, i_0, δ(i_7, i_1, (C(i_4, i_5)⋅C(i_2, i_1)⋅J(i_4, i_3, i_2, i_0)'⋅C(i_3, i_5)'))))+∑((i_0, i_1, i_2, i_3, i_4, i_5), δ(i_7, i_0, δ(i_6, i_1, (J(i_1, i_4, i_5, i_2)⋅C(i_4, i_0)⋅C(i_2, i_3)⋅C(i_5, i_3)'))))+∑((i_0, i_1, i_2, i_3, i_4, i_5), δ(i_7, i_0, δ(i_6, i_1, (J(i_1, i_2, i_5, i_3)⋅C(i_2, i_0)⋅C(i_3, i_4)⋅C(i_5, i_4)'))))+∑((i_0, i_1, i_2, i_3, i_4, i_5), δ(i_7, i_0, δ(i_6, i_1, (J(i_1, i_2, i_5, i_3)⋅C(i_2, i_0)⋅C(i_3, i_4)⋅C(i_5, i_4)')))))\n",
      "(∑((i_0, i_1, i_2, i_3, i_4, i_5), δ(i_7, i_0, δ(i_6, i_1, (J(i_1, i_4, i_5, i_2)⋅C(i_4, i_0)⋅C(i_2, i_3)⋅C(i_5, i_3)'))))+∑((i_0, i_1, i_2, i_3, i_4, i_5), δ(i_7, i_0, δ(i_6, i_1, (J(i_1, i_4, i_5, i_2)⋅C(i_4, i_0)⋅C(i_2, i_3)⋅C(i_5, i_3)'))))+∑((i_0, i_1, i_2, i_3, i_4, i_5), δ(i_7, i_0, δ(i_6, i_1, (J(i_1, i_2, i_5, i_3)⋅C(i_2, i_0)⋅C(i_3, i_4)⋅C(i_5, i_4)'))))+∑((i_0, i_1, i_2, i_3, i_4, i_5), δ(i_7, i_0, δ(i_6, i_1, (J(i_1, i_2, i_5, i_3)⋅C(i_2, i_0)⋅C(i_3, i_4)⋅C(i_5, i_4)')))))\n",
      "\n",
      "  0.000767 seconds (11.03 k allocations: 490.438 KiB)\n",
      "46 contract_delta\n",
      "(∑((i_0, i_1, i_2, i_3, i_4, i_5), δ(i_7, i_0, δ(i_6, i_1, (J(i_1, i_4, i_5, i_2)⋅C(i_4, i_0)⋅C(i_2, i_3)⋅C(i_5, i_3)'))))+∑((i_0, i_1, i_2, i_3, i_4, i_5), δ(i_7, i_0, δ(i_6, i_1, (J(i_1, i_4, i_5, i_2)⋅C(i_4, i_0)⋅C(i_2, i_3)⋅C(i_5, i_3)'))))+∑((i_0, i_1, i_2, i_3, i_4, i_5), δ(i_7, i_0, δ(i_6, i_1, (J(i_1, i_2, i_5, i_3)⋅C(i_2, i_0)⋅C(i_3, i_4)⋅C(i_5, i_4)'))))+∑((i_0, i_1, i_2, i_3, i_4, i_5), δ(i_7, i_0, δ(i_6, i_1, (J(i_1, i_2, i_5, i_3)⋅C(i_2, i_0)⋅C(i_3, i_4)⋅C(i_5, i_4)')))))\n",
      "(∑((i_0, i_1, i_2, i_3, i_4), δ(i_6, i_0, (C(i_1, i_7)⋅C(i_3, i_4)⋅J(i_1, i_0, i_3, i_2)'⋅C(i_2, i_4)')))+∑((i_0, i_1, i_2, i_3, i_4, i_5), δ(i_7, i_0, δ(i_6, i_1, (J(i_1, i_4, i_5, i_2)⋅C(i_4, i_0)⋅C(i_2, i_3)⋅C(i_5, i_3)'))))+∑((i_0, i_1, i_2, i_3, i_4, i_5), δ(i_7, i_0, δ(i_6, i_1, (J(i_1, i_2, i_5, i_3)⋅C(i_2, i_0)⋅C(i_3, i_4)⋅C(i_5, i_4)'))))+∑((i_0, i_1, i_2, i_3, i_4, i_5), δ(i_7, i_0, δ(i_6, i_1, (J(i_1, i_2, i_5, i_3)⋅C(i_2, i_0)⋅C(i_3, i_4)⋅C(i_5, i_4)')))))\n",
      "directed!\n",
      "\n",
      "  0.000404 seconds (6.90 k allocations: 314.141 KiB)\n",
      "47 contract_delta\n",
      "(∑((i_0, i_1, i_2, i_3, i_4), δ(i_6, i_0, (C(i_1, i_7)⋅C(i_3, i_4)⋅J(i_1, i_0, i_3, i_2)'⋅C(i_2, i_4)')))+∑((i_0, i_1, i_2, i_3, i_4, i_5), δ(i_7, i_0, δ(i_6, i_1, (J(i_1, i_4, i_5, i_2)⋅C(i_4, i_0)⋅C(i_2, i_3)⋅C(i_5, i_3)'))))+∑((i_0, i_1, i_2, i_3, i_4, i_5), δ(i_7, i_0, δ(i_6, i_1, (J(i_1, i_2, i_5, i_3)⋅C(i_2, i_0)⋅C(i_3, i_4)⋅C(i_5, i_4)'))))+∑((i_0, i_1, i_2, i_3, i_4, i_5), δ(i_7, i_0, δ(i_6, i_1, (J(i_1, i_2, i_5, i_3)⋅C(i_2, i_0)⋅C(i_3, i_4)⋅C(i_5, i_4)')))))\n",
      "(∑((i_0, i_1, i_2, i_3), (J(i_6, i_0, i_1, i_2)⋅C(i_2, i_3)⋅C(i_0, i_7)⋅C(i_1, i_3)'))+∑((i_0, i_1, i_2, i_3, i_4, i_5), δ(i_7, i_0, δ(i_6, i_1, (J(i_1, i_4, i_5, i_2)⋅C(i_4, i_0)⋅C(i_2, i_3)⋅C(i_5, i_3)'))))+∑((i_0, i_1, i_2, i_3, i_4, i_5), δ(i_7, i_0, δ(i_6, i_1, (J(i_1, i_2, i_5, i_3)⋅C(i_2, i_0)⋅C(i_3, i_4)⋅C(i_5, i_4)'))))+∑((i_0, i_1, i_2, i_3, i_4, i_5), δ(i_7, i_0, δ(i_6, i_1, (J(i_1, i_2, i_5, i_3)⋅C(i_2, i_0)⋅C(i_3, i_4)⋅C(i_5, i_4)')))))\n",
      "directed!\n",
      "\n",
      "  0.000334 seconds (5.32 k allocations: 245.000 KiB)\n",
      "48 delta_ex\n",
      "(∑((i_0, i_1, i_2, i_3), (J(i_6, i_0, i_1, i_2)⋅C(i_2, i_3)⋅C(i_0, i_7)⋅C(i_1, i_3)'))+∑((i_0, i_1, i_2, i_3, i_4, i_5), δ(i_7, i_0, δ(i_6, i_1, (J(i_1, i_4, i_5, i_2)⋅C(i_4, i_0)⋅C(i_2, i_3)⋅C(i_5, i_3)'))))+∑((i_0, i_1, i_2, i_3, i_4, i_5), δ(i_7, i_0, δ(i_6, i_1, (J(i_1, i_2, i_5, i_3)⋅C(i_2, i_0)⋅C(i_3, i_4)⋅C(i_5, i_4)'))))+∑((i_0, i_1, i_2, i_3, i_4, i_5), δ(i_7, i_0, δ(i_6, i_1, (J(i_1, i_2, i_5, i_3)⋅C(i_2, i_0)⋅C(i_3, i_4)⋅C(i_5, i_4)')))))\n",
      "(∑((i_0, i_1, i_2, i_3), (J(i_6, i_0, i_1, i_2)⋅C(i_2, i_3)⋅C(i_0, i_7)⋅C(i_1, i_3)'))+∑((i_0, i_1, i_2, i_3, i_4, i_5), δ(i_6, i_0, δ(i_7, i_1, (C(i_4, i_5)⋅C(i_2, i_1)⋅J(i_4, i_3, i_2, i_0)'⋅C(i_3, i_5)'))))+∑((i_0, i_1, i_2, i_3, i_4, i_5), δ(i_7, i_0, δ(i_6, i_1, (J(i_1, i_2, i_5, i_3)⋅C(i_2, i_0)⋅C(i_3, i_4)⋅C(i_5, i_4)'))))+∑((i_0, i_1, i_2, i_3, i_4, i_5), δ(i_7, i_0, δ(i_6, i_1, (J(i_1, i_2, i_5, i_3)⋅C(i_2, i_0)⋅C(i_3, i_4)⋅C(i_5, i_4)')))))\n",
      "\n",
      "  0.000466 seconds (7.12 k allocations: 324.109 KiB)\n",
      "49 contract_delta\n",
      "(∑((i_0, i_1, i_2, i_3), (J(i_6, i_0, i_1, i_2)⋅C(i_2, i_3)⋅C(i_0, i_7)⋅C(i_1, i_3)'))+∑((i_0, i_1, i_2, i_3, i_4, i_5), δ(i_6, i_0, δ(i_7, i_1, (C(i_4, i_5)⋅C(i_2, i_1)⋅J(i_4, i_3, i_2, i_0)'⋅C(i_3, i_5)'))))+∑((i_0, i_1, i_2, i_3, i_4, i_5), δ(i_7, i_0, δ(i_6, i_1, (J(i_1, i_2, i_5, i_3)⋅C(i_2, i_0)⋅C(i_3, i_4)⋅C(i_5, i_4)'))))+∑((i_0, i_1, i_2, i_3, i_4, i_5), δ(i_7, i_0, δ(i_6, i_1, (J(i_1, i_2, i_5, i_3)⋅C(i_2, i_0)⋅C(i_3, i_4)⋅C(i_5, i_4)')))))\n",
      "(∑((i_0, i_1, i_2, i_3), (J(i_6, i_0, i_1, i_2)⋅C(i_2, i_3)⋅C(i_0, i_7)⋅C(i_1, i_3)'))+∑((i_0, i_1, i_2, i_3, i_4), δ(i_7, i_0, (J(i_6, i_1, i_2, i_3)⋅C(i_1, i_0)⋅C(i_3, i_4)⋅C(i_2, i_4)')))+∑((i_0, i_1, i_2, i_3, i_4, i_5), δ(i_7, i_0, δ(i_6, i_1, (J(i_1, i_2, i_5, i_3)⋅C(i_2, i_0)⋅C(i_3, i_4)⋅C(i_5, i_4)'))))+∑((i_0, i_1, i_2, i_3, i_4, i_5), δ(i_7, i_0, δ(i_6, i_1, (J(i_1, i_2, i_5, i_3)⋅C(i_2, i_0)⋅C(i_3, i_4)⋅C(i_5, i_4)')))))\n",
      "directed!\n",
      "\n"
     ]
    },
    {
     "name": "stdout",
     "output_type": "stream",
     "text": [
      "  0.000352 seconds (5.61 k allocations: 257.953 KiB)\n",
      "50 contract_delta\n",
      "(∑((i_0, i_1, i_2, i_3), (J(i_6, i_0, i_1, i_2)⋅C(i_2, i_3)⋅C(i_0, i_7)⋅C(i_1, i_3)'))+∑((i_0, i_1, i_2, i_3, i_4), δ(i_7, i_0, (J(i_6, i_1, i_2, i_3)⋅C(i_1, i_0)⋅C(i_3, i_4)⋅C(i_2, i_4)')))+∑((i_0, i_1, i_2, i_3, i_4, i_5), δ(i_7, i_0, δ(i_6, i_1, (J(i_1, i_2, i_5, i_3)⋅C(i_2, i_0)⋅C(i_3, i_4)⋅C(i_5, i_4)'))))+∑((i_0, i_1, i_2, i_3, i_4, i_5), δ(i_7, i_0, δ(i_6, i_1, (J(i_1, i_2, i_5, i_3)⋅C(i_2, i_0)⋅C(i_3, i_4)⋅C(i_5, i_4)')))))\n",
      "(∑((i_0, i_1, i_2, i_3), (J(i_6, i_0, i_1, i_2)⋅C(i_2, i_3)⋅C(i_0, i_7)⋅C(i_1, i_3)'))+∑((i_0, i_1, i_2, i_3), (J(i_6, i_0, i_1, i_2)⋅C(i_2, i_3)⋅C(i_0, i_7)⋅C(i_1, i_3)'))+∑((i_0, i_1, i_2, i_3, i_4, i_5), δ(i_7, i_0, δ(i_6, i_1, (J(i_1, i_2, i_5, i_3)⋅C(i_2, i_0)⋅C(i_3, i_4)⋅C(i_5, i_4)'))))+∑((i_0, i_1, i_2, i_3, i_4, i_5), δ(i_7, i_0, δ(i_6, i_1, (J(i_1, i_2, i_5, i_3)⋅C(i_2, i_0)⋅C(i_3, i_4)⋅C(i_5, i_4)')))))\n",
      "directed!\n",
      "\n",
      "  0.000357 seconds (5.59 k allocations: 249.125 KiB)\n",
      "51 contract_delta\n",
      "(∑((i_0, i_1, i_2, i_3), (J(i_6, i_0, i_1, i_2)⋅C(i_2, i_3)⋅C(i_0, i_7)⋅C(i_1, i_3)'))+∑((i_0, i_1, i_2, i_3), (J(i_6, i_0, i_1, i_2)⋅C(i_2, i_3)⋅C(i_0, i_7)⋅C(i_1, i_3)'))+∑((i_0, i_1, i_2, i_3, i_4, i_5), δ(i_7, i_0, δ(i_6, i_1, (J(i_1, i_2, i_5, i_3)⋅C(i_2, i_0)⋅C(i_3, i_4)⋅C(i_5, i_4)'))))+∑((i_0, i_1, i_2, i_3, i_4, i_5), δ(i_7, i_0, δ(i_6, i_1, (J(i_1, i_2, i_5, i_3)⋅C(i_2, i_0)⋅C(i_3, i_4)⋅C(i_5, i_4)')))))\n",
      "(∑((i_0, i_1, i_2, i_3), (J(i_6, i_0, i_1, i_2)⋅C(i_2, i_3)⋅C(i_0, i_7)⋅C(i_1, i_3)'))+∑((i_0, i_1, i_2, i_3), (J(i_6, i_0, i_1, i_2)⋅C(i_2, i_3)⋅C(i_0, i_7)⋅C(i_1, i_3)'))+∑((i_0, i_1, i_2, i_3, i_4), δ(i_6, i_0, (C(i_1, i_7)⋅C(i_3, i_4)⋅J(i_1, i_0, i_3, i_2)'⋅C(i_2, i_4)')))+∑((i_0, i_1, i_2, i_3, i_4, i_5), δ(i_7, i_0, δ(i_6, i_1, (J(i_1, i_2, i_5, i_3)⋅C(i_2, i_0)⋅C(i_3, i_4)⋅C(i_5, i_4)')))))\n",
      "directed!\n",
      "\n",
      "  0.000317 seconds (4.76 k allocations: 212.625 KiB)\n",
      "52 contract_delta\n",
      "(∑((i_0, i_1, i_2, i_3), (J(i_6, i_0, i_1, i_2)⋅C(i_2, i_3)⋅C(i_0, i_7)⋅C(i_1, i_3)'))+∑((i_0, i_1, i_2, i_3), (J(i_6, i_0, i_1, i_2)⋅C(i_2, i_3)⋅C(i_0, i_7)⋅C(i_1, i_3)'))+∑((i_0, i_1, i_2, i_3, i_4), δ(i_6, i_0, (C(i_1, i_7)⋅C(i_3, i_4)⋅J(i_1, i_0, i_3, i_2)'⋅C(i_2, i_4)')))+∑((i_0, i_1, i_2, i_3, i_4, i_5), δ(i_7, i_0, δ(i_6, i_1, (J(i_1, i_2, i_5, i_3)⋅C(i_2, i_0)⋅C(i_3, i_4)⋅C(i_5, i_4)')))))\n",
      "(∑((i_0, i_1, i_2, i_3), (J(i_6, i_0, i_1, i_2)⋅C(i_2, i_3)⋅C(i_0, i_7)⋅C(i_1, i_3)'))+∑((i_0, i_1, i_2, i_3), (J(i_6, i_0, i_1, i_2)⋅C(i_2, i_3)⋅C(i_0, i_7)⋅C(i_1, i_3)'))+∑((i_0, i_1, i_2, i_3), (J(i_6, i_0, i_1, i_2)⋅C(i_2, i_3)⋅C(i_0, i_7)⋅C(i_1, i_3)'))+∑((i_0, i_1, i_2, i_3, i_4, i_5), δ(i_7, i_0, δ(i_6, i_1, (J(i_1, i_2, i_5, i_3)⋅C(i_2, i_0)⋅C(i_3, i_4)⋅C(i_5, i_4)')))))\n",
      "directed!\n",
      "\n",
      "  0.000255 seconds (3.98 k allocations: 174.609 KiB)\n",
      "53 delta_ex\n",
      "(∑((i_0, i_1, i_2, i_3), (J(i_6, i_0, i_1, i_2)⋅C(i_2, i_3)⋅C(i_0, i_7)⋅C(i_1, i_3)'))+∑((i_0, i_1, i_2, i_3), (J(i_6, i_0, i_1, i_2)⋅C(i_2, i_3)⋅C(i_0, i_7)⋅C(i_1, i_3)'))+∑((i_0, i_1, i_2, i_3), (J(i_6, i_0, i_1, i_2)⋅C(i_2, i_3)⋅C(i_0, i_7)⋅C(i_1, i_3)'))+∑((i_0, i_1, i_2, i_3, i_4, i_5), δ(i_7, i_0, δ(i_6, i_1, (J(i_1, i_2, i_5, i_3)⋅C(i_2, i_0)⋅C(i_3, i_4)⋅C(i_5, i_4)')))))\n",
      "(∑((i_0, i_1, i_2, i_3), (J(i_6, i_0, i_1, i_2)⋅C(i_2, i_3)⋅C(i_0, i_7)⋅C(i_1, i_3)'))+∑((i_0, i_1, i_2, i_3), (J(i_6, i_0, i_1, i_2)⋅C(i_2, i_3)⋅C(i_0, i_7)⋅C(i_1, i_3)'))+∑((i_0, i_1, i_2, i_3), (J(i_6, i_0, i_1, i_2)⋅C(i_2, i_3)⋅C(i_0, i_7)⋅C(i_1, i_3)'))+∑((i_0, i_1, i_2, i_3, i_4, i_5), δ(i_6, i_0, δ(i_7, i_1, (C(i_4, i_5)⋅C(i_2, i_1)⋅J(i_4, i_3, i_2, i_0)'⋅C(i_3, i_5)')))))\n",
      "\n",
      "  0.000326 seconds (5.12 k allocations: 224.031 KiB)\n",
      "54 delta_ex\n",
      "(∑((i_0, i_1, i_2, i_3), (J(i_6, i_0, i_1, i_2)⋅C(i_2, i_3)⋅C(i_0, i_7)⋅C(i_1, i_3)'))+∑((i_0, i_1, i_2, i_3), (J(i_6, i_0, i_1, i_2)⋅C(i_2, i_3)⋅C(i_0, i_7)⋅C(i_1, i_3)'))+∑((i_0, i_1, i_2, i_3), (J(i_6, i_0, i_1, i_2)⋅C(i_2, i_3)⋅C(i_0, i_7)⋅C(i_1, i_3)'))+∑((i_0, i_1, i_2, i_3, i_4, i_5), δ(i_6, i_0, δ(i_7, i_1, (C(i_4, i_5)⋅C(i_2, i_1)⋅J(i_4, i_3, i_2, i_0)'⋅C(i_3, i_5)')))))\n",
      "(∑((i_0, i_1, i_2, i_3), (J(i_6, i_0, i_1, i_2)⋅C(i_2, i_3)⋅C(i_0, i_7)⋅C(i_1, i_3)'))+∑((i_0, i_1, i_2, i_3), (J(i_6, i_0, i_1, i_2)⋅C(i_2, i_3)⋅C(i_0, i_7)⋅C(i_1, i_3)'))+∑((i_0, i_1, i_2, i_3), (J(i_6, i_0, i_1, i_2)⋅C(i_2, i_3)⋅C(i_0, i_7)⋅C(i_1, i_3)'))+∑((i_0, i_1, i_2, i_3, i_4, i_5), δ(i_7, i_0, δ(i_6, i_1, (J(i_1, i_4, i_5, i_2)⋅C(i_4, i_0)⋅C(i_2, i_3)⋅C(i_5, i_3)')))))\n",
      "\n",
      "  0.000314 seconds (4.51 k allocations: 198.016 KiB)\n",
      "55 contract_delta\n",
      "(∑((i_0, i_1, i_2, i_3), (J(i_6, i_0, i_1, i_2)⋅C(i_2, i_3)⋅C(i_0, i_7)⋅C(i_1, i_3)'))+∑((i_0, i_1, i_2, i_3), (J(i_6, i_0, i_1, i_2)⋅C(i_2, i_3)⋅C(i_0, i_7)⋅C(i_1, i_3)'))+∑((i_0, i_1, i_2, i_3), (J(i_6, i_0, i_1, i_2)⋅C(i_2, i_3)⋅C(i_0, i_7)⋅C(i_1, i_3)'))+∑((i_0, i_1, i_2, i_3, i_4, i_5), δ(i_7, i_0, δ(i_6, i_1, (J(i_1, i_4, i_5, i_2)⋅C(i_4, i_0)⋅C(i_2, i_3)⋅C(i_5, i_3)')))))\n",
      "(∑((i_0, i_1, i_2, i_3), (J(i_6, i_0, i_1, i_2)⋅C(i_2, i_3)⋅C(i_0, i_7)⋅C(i_1, i_3)'))+∑((i_0, i_1, i_2, i_3), (J(i_6, i_0, i_1, i_2)⋅C(i_2, i_3)⋅C(i_0, i_7)⋅C(i_1, i_3)'))+∑((i_0, i_1, i_2, i_3), (J(i_6, i_0, i_1, i_2)⋅C(i_2, i_3)⋅C(i_0, i_7)⋅C(i_1, i_3)'))+∑((i_0, i_1, i_2, i_3, i_4), δ(i_6, i_0, (C(i_1, i_7)⋅C(i_3, i_4)⋅J(i_1, i_0, i_3, i_2)'⋅C(i_2, i_4)'))))\n",
      "directed!\n",
      "\n",
      "  0.000157 seconds (2.59 k allocations: 115.531 KiB)\n",
      "56 contract_delta\n",
      "(∑((i_0, i_1, i_2, i_3), (J(i_6, i_0, i_1, i_2)⋅C(i_2, i_3)⋅C(i_0, i_7)⋅C(i_1, i_3)'))+∑((i_0, i_1, i_2, i_3), (J(i_6, i_0, i_1, i_2)⋅C(i_2, i_3)⋅C(i_0, i_7)⋅C(i_1, i_3)'))+∑((i_0, i_1, i_2, i_3), (J(i_6, i_0, i_1, i_2)⋅C(i_2, i_3)⋅C(i_0, i_7)⋅C(i_1, i_3)'))+∑((i_0, i_1, i_2, i_3, i_4), δ(i_6, i_0, (C(i_1, i_7)⋅C(i_3, i_4)⋅J(i_1, i_0, i_3, i_2)'⋅C(i_2, i_4)'))))\n",
      "(∑((i_0, i_1, i_2, i_3), (J(i_6, i_0, i_1, i_2)⋅C(i_2, i_3)⋅C(i_0, i_7)⋅C(i_1, i_3)'))+∑((i_0, i_1, i_2, i_3), (J(i_6, i_0, i_1, i_2)⋅C(i_2, i_3)⋅C(i_0, i_7)⋅C(i_1, i_3)'))+∑((i_0, i_1, i_2, i_3), (J(i_6, i_0, i_1, i_2)⋅C(i_2, i_3)⋅C(i_0, i_7)⋅C(i_1, i_3)'))+∑((i_0, i_1, i_2, i_3), (J(i_6, i_0, i_1, i_2)⋅C(i_2, i_3)⋅C(i_0, i_7)⋅C(i_1, i_3)')))\n",
      "directed!\n",
      "\n",
      "  0.000144 seconds (2.10 k allocations: 94.906 KiB)\n",
      "57 gcd\n",
      "(∑((i_0, i_1, i_2, i_3), (J(i_6, i_0, i_1, i_2)⋅C(i_2, i_3)⋅C(i_0, i_7)⋅C(i_1, i_3)'))+∑((i_0, i_1, i_2, i_3), (J(i_6, i_0, i_1, i_2)⋅C(i_2, i_3)⋅C(i_0, i_7)⋅C(i_1, i_3)'))+∑((i_0, i_1, i_2, i_3), (J(i_6, i_0, i_1, i_2)⋅C(i_2, i_3)⋅C(i_0, i_7)⋅C(i_1, i_3)'))+∑((i_0, i_1, i_2, i_3), (J(i_6, i_0, i_1, i_2)⋅C(i_2, i_3)⋅C(i_0, i_7)⋅C(i_1, i_3)')))\n",
      "(((1+1)⋅∑((i_0, i_1, i_2, i_3), (J(i_6, i_0, i_1, i_2)⋅C(i_2, i_3)⋅C(i_0, i_7)⋅C(i_1, i_3)')))+∑((i_0, i_1, i_2, i_3), (J(i_6, i_0, i_1, i_2)⋅C(i_2, i_3)⋅C(i_0, i_7)⋅C(i_1, i_3)'))+∑((i_0, i_1, i_2, i_3), (J(i_6, i_0, i_1, i_2)⋅C(i_2, i_3)⋅C(i_0, i_7)⋅C(i_1, i_3)')))\n",
      "\n",
      "  0.000107 seconds (725 allocations: 30.641 KiB)\n",
      "58 add_const\n",
      "(((1+1)⋅∑((i_0, i_1, i_2, i_3), (J(i_6, i_0, i_1, i_2)⋅C(i_2, i_3)⋅C(i_0, i_7)⋅C(i_1, i_3)')))+∑((i_0, i_1, i_2, i_3), (J(i_6, i_0, i_1, i_2)⋅C(i_2, i_3)⋅C(i_0, i_7)⋅C(i_1, i_3)'))+∑((i_0, i_1, i_2, i_3), (J(i_6, i_0, i_1, i_2)⋅C(i_2, i_3)⋅C(i_0, i_7)⋅C(i_1, i_3)')))\n",
      "((∑((i_0, i_1, i_2, i_3), (J(i_6, i_0, i_1, i_2)⋅C(i_2, i_3)⋅C(i_0, i_7)⋅C(i_1, i_3)'))⋅2)+∑((i_0, i_1, i_2, i_3), (J(i_6, i_0, i_1, i_2)⋅C(i_2, i_3)⋅C(i_0, i_7)⋅C(i_1, i_3)'))+∑((i_0, i_1, i_2, i_3), (J(i_6, i_0, i_1, i_2)⋅C(i_2, i_3)⋅C(i_0, i_7)⋅C(i_1, i_3)')))\n",
      "directed!\n",
      "\n",
      "  0.000018 seconds (133 allocations: 5.203 KiB)\n",
      "59 gcd\n",
      "((∑((i_0, i_1, i_2, i_3), (J(i_6, i_0, i_1, i_2)⋅C(i_2, i_3)⋅C(i_0, i_7)⋅C(i_1, i_3)'))⋅2)+∑((i_0, i_1, i_2, i_3), (J(i_6, i_0, i_1, i_2)⋅C(i_2, i_3)⋅C(i_0, i_7)⋅C(i_1, i_3)'))+∑((i_0, i_1, i_2, i_3), (J(i_6, i_0, i_1, i_2)⋅C(i_2, i_3)⋅C(i_0, i_7)⋅C(i_1, i_3)')))\n",
      "(((1+2)⋅∑((i_0, i_1, i_2, i_3), (J(i_6, i_0, i_1, i_2)⋅C(i_2, i_3)⋅C(i_0, i_7)⋅C(i_1, i_3)')))+∑((i_0, i_1, i_2, i_3), (J(i_6, i_0, i_1, i_2)⋅C(i_2, i_3)⋅C(i_0, i_7)⋅C(i_1, i_3)')))\n",
      "\n",
      "  0.000048 seconds (406 allocations: 15.812 KiB)\n",
      "60 add_const\n",
      "(((1+2)⋅∑((i_0, i_1, i_2, i_3), (J(i_6, i_0, i_1, i_2)⋅C(i_2, i_3)⋅C(i_0, i_7)⋅C(i_1, i_3)')))+∑((i_0, i_1, i_2, i_3), (J(i_6, i_0, i_1, i_2)⋅C(i_2, i_3)⋅C(i_0, i_7)⋅C(i_1, i_3)')))\n",
      "((∑((i_0, i_1, i_2, i_3), (J(i_6, i_0, i_1, i_2)⋅C(i_2, i_3)⋅C(i_0, i_7)⋅C(i_1, i_3)'))⋅3)+∑((i_0, i_1, i_2, i_3), (J(i_6, i_0, i_1, i_2)⋅C(i_2, i_3)⋅C(i_0, i_7)⋅C(i_1, i_3)')))\n",
      "directed!\n",
      "\n",
      "  0.000001 seconds (14 allocations: 512 bytes)\n",
      "61 gcd\n",
      "((∑((i_0, i_1, i_2, i_3), (J(i_6, i_0, i_1, i_2)⋅C(i_2, i_3)⋅C(i_0, i_7)⋅C(i_1, i_3)'))⋅3)+∑((i_0, i_1, i_2, i_3), (J(i_6, i_0, i_1, i_2)⋅C(i_2, i_3)⋅C(i_0, i_7)⋅C(i_1, i_3)')))\n",
      "((1+3)⋅∑((i_0, i_1, i_2, i_3), (J(i_6, i_0, i_1, i_2)⋅C(i_2, i_3)⋅C(i_0, i_7)⋅C(i_1, i_3)')))\n",
      "\n",
      "  0.000025 seconds (221 allocations: 8.547 KiB)\n",
      "62 add_const\n",
      "((1+3)⋅∑((i_0, i_1, i_2, i_3), (J(i_6, i_0, i_1, i_2)⋅C(i_2, i_3)⋅C(i_0, i_7)⋅C(i_1, i_3)')))\n",
      "(∑((i_0, i_1, i_2, i_3), (J(i_6, i_0, i_1, i_2)⋅C(i_2, i_3)⋅C(i_0, i_7)⋅C(i_1, i_3)'))⋅4)\n",
      "directed!\n",
      "\n",
      "  0.000000 seconds\n"
     ]
    },
    {
     "data": {
      "text/latex": [
       "$\\left(i_6, i_7\\right) \\to (\\sum_{i_0, i_1, i_2, i_3}\\left[(J_{i_6, i_0, i_1, i_2}\\cdot C_{i_2, i_3}\\cdot C_{i_0, i_7}\\cdot C_{i_1, i_3}^*)\\right]\\cdot 4)$"
      ],
      "text/plain": [
       "(i_6, i_7) -> \n",
       "    (∑((i_0, i_1, i_2, i_3), (J(i_6, i_0, i_1, i_2)⋅C(i_2, i_3)⋅C(i_0, i_7)⋅C(i_1, i_3)'))⋅4)"
      ]
     },
     "execution_count": 47,
     "metadata": {},
     "output_type": "execute_result"
    }
   ],
   "source": [
    "simplify(q) |> first"
   ]
  },
  {
   "cell_type": "code",
   "execution_count": 8,
   "id": "73cab78e",
   "metadata": {},
   "outputs": [
    {
     "data": {
      "text/plain": [
       "\"profile.pb.gz\""
      ]
     },
     "execution_count": 8,
     "metadata": {},
     "output_type": "execute_result"
    },
    {
     "name": "stderr",
     "output_type": "stream",
     "text": [
      "Main binary filename not available.\n",
      "Serving web UI on http://localhost:57599\n"
     ]
    }
   ],
   "source": [
    "Profile.clear()\n",
    "@profile p==p\n",
    "pprof()"
   ]
  },
  {
   "cell_type": "code",
   "execution_count": null,
   "id": "f7aafbe1",
   "metadata": {},
   "outputs": [],
   "source": [
    "(A::H) -> (x::V) -> x A x"
   ]
  }
 ],
 "metadata": {
  "kernelspec": {
   "display_name": "PCT 1.9.3",
   "language": "julia",
   "name": "pct-1.9"
  },
  "language_info": {
   "file_extension": ".jl",
   "mimetype": "application/julia",
   "name": "julia",
   "version": "1.9.3"
  }
 },
 "nbformat": 4,
 "nbformat_minor": 5
}
