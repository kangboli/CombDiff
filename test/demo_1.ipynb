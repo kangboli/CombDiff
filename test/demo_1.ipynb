{
 "cells": [
  {
   "cell_type": "code",
   "execution_count": 1,
   "id": "d87429b8",
   "metadata": {},
   "outputs": [
    {
     "name": "stderr",
     "output_type": "stream",
     "text": [
      "\u001b[36m\u001b[1m[ \u001b[22m\u001b[39m\u001b[36m\u001b[1mInfo: \u001b[22m\u001b[39mPrecompiling PCT [ef708a43-c8a3-43f4-8f65-1f04ee4c5bb0]\n"
     ]
    }
   ],
   "source": [
    "using PCT"
   ]
  },
  {
   "cell_type": "code",
   "execution_count": 3,
   "id": "31a049b5",
   "metadata": {},
   "outputs": [
    {
     "ename": "LoadError",
     "evalue": "LoadError: UndefVarError: `@profview` not defined\nin expression starting at In[3]:2",
     "output_type": "error",
     "traceback": [
      "LoadError: UndefVarError: `@profview` not defined\nin expression starting at In[3]:2",
      ""
     ]
    }
   ],
   "source": [
    "@profview h, _ = @pct pullback((z::C) -> z' * z)"
   ]
  },
  {
   "cell_type": "code",
   "execution_count": 4,
   "id": "fc0c95fa",
   "metadata": {},
   "outputs": [
    {
     "name": "stdout",
     "output_type": "stream",
     "text": [
      "Pullback((z::C->\n",
      "    (*\n",
      "        z::C,\n",
      "        z::C'\n",
      "    )::C\n",
      "::[C->C])::[C×C->C]\n"
     ]
    }
   ],
   "source": [
    "println(verbose(h))"
   ]
  },
  {
   "cell_type": "code",
   "execution_count": 5,
   "id": "ab008138",
   "metadata": {},
   "outputs": [
    {
     "data": {
      "text/latex": [
       "$\\left(z, \\_K\\right) \\to \\left(\\left(z, \\_K\\right) \\to \\left(\\left(\\left(z, \\_K\\right) \\to \\_K\\right)\\left(z, (\\_K\\cdot z)\\right)+\\left(\\left(z, \\_K\\right) \\to \\left(\\left(z, \\_K\\right) \\to \\_K\\right)\\left(z, \\_K^*\\right)\\right)\\left(z, (\\_K\\cdot z^*)\\right)\\right)\\right)\\left(z, \\_K\\right)$"
      ],
      "text/plain": [
       "(z, _K) -> \n",
       "    ((z, _K) -> \n",
       "        (((z, _K) -> \n",
       "            _K)(z, (_K⋅z))+((z, _K) -> \n",
       "            ((z, _K) -> \n",
       "                _K)(z, _K'))(z, (_K⋅z'))))(z, _K)"
      ]
     },
     "execution_count": 5,
     "metadata": {},
     "output_type": "execute_result"
    }
   ],
   "source": [
    "reduce_pullback(h)[1]"
   ]
  },
  {
   "cell_type": "code",
   "execution_count": null,
   "id": "62d3599a",
   "metadata": {},
   "outputs": [],
   "source": []
  },
  {
   "cell_type": "code",
   "execution_count": 9,
   "id": "62f7c710",
   "metadata": {},
   "outputs": [
    {
     "data": {
      "text/latex": [
       "$(z\\cdot 2.0)$"
      ],
      "text/plain": [
       "(z⋅2.0)"
      ]
     },
     "execution_count": 9,
     "metadata": {},
     "output_type": "execute_result"
    }
   ],
   "source": [
    "p = eval_all(reduce_pullback(h)[1])\n",
    "q = eval_all(call(p, first(ff(p)), constant(1)))"
   ]
  },
  {
   "cell_type": "code",
   "execution_count": 10,
   "id": "46b9741d",
   "metadata": {},
   "outputs": [
    {
     "name": "stdout",
     "output_type": "stream",
     "text": [
      "  0.000000 seconds\n"
     ]
    },
    {
     "data": {
      "text/latex": [
       "$(z\\cdot 2.0)$"
      ],
      "text/plain": [
       "(z⋅2.0)"
      ]
     },
     "execution_count": 10,
     "metadata": {},
     "output_type": "execute_result"
    }
   ],
   "source": [
    "simplify(q) |> first"
   ]
  },
  {
   "cell_type": "code",
   "execution_count": 2,
   "id": "859c6263",
   "metadata": {},
   "outputs": [
    {
     "data": {
      "text/plain": [
       "(Map(MapType(VecType(AbstractPCTType[MapType(VecType(AbstractPCTType[I(), I()]), C(), Dict{Symbol, Any}(:name => :H, :symmetries => (((2, 1), :conj),))), MapType(VecType(AbstractPCTType[I(), I(), I(), I()]), C(), Dict{Symbol, Any}(:name => :T, :symmetries => (((2, 1, 4, 3), :conj), ((3, 4, 1, 2), :id))))]), UndeterminedPCTType(), Dict{Any, Any}()), PCTVector(VecType(AbstractPCTType[MapType(VecType(AbstractPCTType[I(), I()]), C(), Dict{Symbol, Any}(:name => :H, :symmetries => (((2, 1), :conj),))), MapType(VecType(AbstractPCTType[I(), I(), I(), I()]), C(), Dict{Symbol, Any}(:name => :T, :symmetries => (((2, 1, 4, 3), :conj), ((3, 4, 1, 2), :id))))]), Var{MapType}[Var{MapType}(MapType(VecType(AbstractPCTType[I(), I()]), C(), Dict{Symbol, Any}(:name => :H, :symmetries => (((2, 1), :conj),))), :A), Var{MapType}(MapType(VecType(AbstractPCTType[I(), I(), I(), I()]), C(), Dict{Symbol, Any}(:name => :T, :symmetries => (((2, 1, 4, 3), :conj), ((3, 4, 1, 2), :id)))), :J)]), Var{UndeterminedPCTType}(UndeterminedPCTType(), :_)), TypeContext(Dict{Symbol, Vector{<:AbstractPCTType}}(:_ => AbstractPCTType[UndeterminedPCTType()], :T => AbstractPCTType[MapType(VecType(AbstractPCTType[I(), I(), I(), I()]), C(), Dict{Symbol, Any}(:name => :T, :symmetries => (((2, 1, 4, 3), :conj), ((3, 4, 1, 2), :id))))], :U => AbstractPCTType[MapType(VecType(AbstractPCTType[I(), I()]), C(), Dict(:name => :U))], :H => AbstractPCTType[MapType(VecType(AbstractPCTType[I(), I()]), C(), Dict{Symbol, Any}(:name => :H, :symmetries => (((2, 1), :conj),)))], :V => AbstractPCTType[MapType(VecType(AbstractPCTType[I()]), C(), Dict(:name => :V))])))"
      ]
     },
     "execution_count": 2,
     "metadata": {},
     "output_type": "execute_result"
    }
   ],
   "source": [
    "f, ctx = @pct begin\n",
    "    @space H begin\n",
    "        type=(I, I)->C\n",
    "        symmetries=(((2,1), :conj),)\n",
    "    end\n",
    "    \n",
    "    @space V begin\n",
    "        type=(I,)->C\n",
    "    end\n",
    "\n",
    "    @space T begin\n",
    "        type=(I,I,I,I) -> C\n",
    "        symmetries=(((2,1,4,3), :conj), ((3,4,1,2), :id))\n",
    "    end\n",
    "                \n",
    "    @space U begin\n",
    "        type=(I,I)->C\n",
    "    end\n",
    "                    \n",
    "    (A::H, J::T) -> _\n",
    "end"
   ]
  },
  {
   "cell_type": "code",
   "execution_count": 11,
   "id": "6094d925",
   "metadata": {},
   "outputs": [
    {
     "data": {
      "text/latex": [
       "$\\left(A, J\\right) \\to \\_$"
      ],
      "text/plain": [
       "(A, J) -> \n",
       "    _"
      ]
     },
     "execution_count": 11,
     "metadata": {},
     "output_type": "execute_result"
    }
   ],
   "source": [
    "f"
   ]
  },
  {
   "cell_type": "code",
   "execution_count": 39,
   "id": "e701c80a",
   "metadata": {
    "scrolled": true
   },
   "outputs": [
    {
     "data": {
      "text/latex": [
       "$\\left(A, J\\right) \\to \\mathcal{P}\\left(x \\to \\sum_{i_0, i_1}\\left[(x_{i_0}\\cdot A_{i_1, i_0}\\cdot x_{i_1}^*)\\right]\\right)$"
      ],
      "text/plain": [
       "(A, J) -> \n",
       "    𝒫((x) -> \n",
       "        ∑((i_0, i_1), (x(i_0)⋅A(i_1, i_0)⋅x(i_1)')))"
      ]
     },
     "execution_count": 39,
     "metadata": {},
     "output_type": "execute_result"
    }
   ],
   "source": [
    "g = @pct f ctx pullback((x::V) -> sum((i, j), x(i)' * A(i, j) * x(j)))"
   ]
  },
  {
   "cell_type": "code",
   "execution_count": 40,
   "id": "989d90a6",
   "metadata": {},
   "outputs": [
    {
     "name": "stdout",
     "output_type": "stream",
     "text": [
      "(A::[I×I->C], J::[I×I×I×I->C]->\n",
      "    Pullback((x::[I->C]->\n",
      "        ∑((i_0::I, i_1::I),\n",
      "            (*\n",
      "                x::[I->C](i_0::I)::C,\n",
      "                A::[I×I->C](i_1::I, i_0::I)::C,\n",
      "                x::[I->C](i_1::I)::C'\n",
      "            )::C\n",
      "        )::C\n",
      "    ::[[I->C]->C])::[[I->C]×C->[I->C]]\n",
      "::[[I×I->C]×[I×I×I×I->C]->[[I->C]×C->[I->C]]]\n"
     ]
    }
   ],
   "source": [
    "println(verbose(g))"
   ]
  },
  {
   "cell_type": "code",
   "execution_count": 41,
   "id": "f9e5cda3",
   "metadata": {},
   "outputs": [
    {
     "data": {
      "text/latex": [
       "$\\left(x, \\_K\\right) \\to i_2 \\to \\sum_{i_0, i_1}\\left[\\left(\\delta_{i_1}^{i_2}(x_{i_0}\\cdot A_{i_1, i_0}\\cdot \\_K^*)+\\delta_{i_0}^{i_2}(x_{i_1}\\cdot A_{i_1, i_0}^*\\cdot \\_K)\\right)\\right]$"
      ],
      "text/plain": [
       "(x, _K) -> \n",
       "    (i_2) -> \n",
       "        ∑((i_0, i_1), (δ(i_2, i_1, (x(i_0)⋅A(i_1, i_0)⋅_K'))+δ(i_2, i_0, (x(i_1)⋅A(i_1, i_0)'⋅_K))))"
      ]
     },
     "execution_count": 41,
     "metadata": {},
     "output_type": "execute_result"
    }
   ],
   "source": [
    "p = fc(eval_all(reduce_pullback(g)))"
   ]
  },
  {
   "cell_type": "code",
   "execution_count": 42,
   "id": "9b74e6c7",
   "metadata": {},
   "outputs": [
    {
     "data": {
      "text/latex": [
       "$i_2 \\to \\sum_{i_0, i_1}\\left[\\left(\\delta_{i_1}^{i_2}(x_{i_0}\\cdot A_{i_1, i_0})+\\delta_{i_0}^{i_2}(x_{i_1}\\cdot A_{i_1, i_0}^*)\\right)\\right]$"
      ],
      "text/plain": [
       "(i_2) -> \n",
       "    ∑((i_0, i_1), (δ(i_2, i_1, (x(i_0)⋅A(i_1, i_0)))+δ(i_2, i_0, (x(i_1)⋅A(i_1, i_0)'))))"
      ]
     },
     "execution_count": 42,
     "metadata": {},
     "output_type": "execute_result"
    }
   ],
   "source": [
    "q = eval_all(call(p, first(ff(p)), constant(1)))"
   ]
  },
  {
   "cell_type": "code",
   "execution_count": 43,
   "id": "c29763e0",
   "metadata": {},
   "outputs": [
    {
     "name": "stdout",
     "output_type": "stream",
     "text": [
      "  0.000019 seconds (7 allocations: 304 bytes)\n",
      "1 sum_dist\n",
      "∑((i_0, i_1), (δ(i_2, i_1, (x(i_0)⋅A(i_1, i_0)))+δ(i_2, i_0, (x(i_1)⋅A(i_1, i_0)'))))\n",
      "(∑((i_0, i_1), δ(i_2, i_0, (x(i_1)⋅A(i_1, i_0)')))+∑((i_0, i_1), δ(i_2, i_0, (x(i_1)⋅A(i_1, i_0)'))))\n",
      "\n",
      "  0.000281 seconds (293 allocations: 13.062 KiB)\n",
      "2 contract_delta\n",
      "(∑((i_0, i_1), δ(i_2, i_0, (x(i_1)⋅A(i_1, i_0)')))+∑((i_0, i_1), δ(i_2, i_0, (x(i_1)⋅A(i_1, i_0)'))))\n",
      "(∑((i_0), (x(i_0)⋅A(i_2, i_0)))+∑((i_0, i_1), δ(i_2, i_0, (x(i_1)⋅A(i_1, i_0)'))))\n",
      "directed!\n",
      "\n",
      "  0.000041 seconds (215 allocations: 9.688 KiB)\n",
      "3 contract_delta\n",
      "(∑((i_0), (x(i_0)⋅A(i_2, i_0)))+∑((i_0, i_1), δ(i_2, i_0, (x(i_1)⋅A(i_1, i_0)'))))\n",
      "(∑((i_0), (x(i_0)⋅A(i_2, i_0)))+∑((i_0), (x(i_0)⋅A(i_2, i_0))))\n",
      "directed!\n",
      "\n",
      "  0.000019 seconds (37 allocations: 1.625 KiB)\n",
      "4 gcd\n",
      "(∑((i_0), (x(i_0)⋅A(i_2, i_0)))+∑((i_0), (x(i_0)⋅A(i_2, i_0))))\n",
      "((1+1)⋅∑((i_0), (x(i_0)⋅A(i_2, i_0))))\n",
      "\n",
      "  0.000042 seconds (244 allocations: 11.312 KiB)\n",
      "5 add_const\n",
      "((1+1)⋅∑((i_0), (x(i_0)⋅A(i_2, i_0))))\n",
      "(∑((i_0), (x(i_0)⋅A(i_2, i_0)))⋅2)\n",
      "directed!\n",
      "\n",
      "  0.000000 seconds\n"
     ]
    },
    {
     "data": {
      "text/latex": [
       "$i_2 \\to (\\sum_{i_0}\\left[(x_{i_0}\\cdot A_{i_2, i_0})\\right]\\cdot 2)$"
      ],
      "text/plain": [
       "(i_2) -> \n",
       "    (∑((i_0), (x(i_0)⋅A(i_2, i_0)))⋅2)"
      ]
     },
     "execution_count": 43,
     "metadata": {},
     "output_type": "execute_result"
    }
   ],
   "source": [
    "simplify(q) |> first"
   ]
  },
  {
   "cell_type": "code",
   "execution_count": 44,
   "id": "429f1193",
   "metadata": {},
   "outputs": [
    {
     "data": {
      "text/latex": [
       "$\\left(A, J\\right) \\to \\mathcal{P}\\left(C \\to \\sum_{i_0, i_1, i_2, i_3, i_4, i_5}\\left[(C_{i_1, i_5}\\cdot C_{i_3, i_4}\\cdot J_{i_1, i_0, i_3, i_2}^*\\cdot C_{i_2, i_4}^*\\cdot C_{i_0, i_5}^*)\\right]\\right)$"
      ],
      "text/plain": [
       "(A, J) -> \n",
       "    𝒫((C) -> \n",
       "        ∑((i_0, i_1, i_2, i_3, i_4, i_5), (C(i_1, i_5)⋅C(i_3, i_4)⋅J(i_1, i_0, i_3, i_2)'⋅C(i_2, i_4)'⋅C(i_0, i_5)')))"
      ]
     },
     "execution_count": 44,
     "metadata": {},
     "output_type": "execute_result"
    }
   ],
   "source": [
    "g = @pct f ctx pullback((C::U) -> sum((i,j,p,q,r,s), C(p,i)' * C(q,i) * C(r,j)' * C(s,j) * J(p,q,r,s)))"
   ]
  },
  {
   "cell_type": "code",
   "execution_count": 45,
   "id": "60e06e8e",
   "metadata": {},
   "outputs": [
    {
     "data": {
      "text/latex": [
       "$\\left(C, \\_K\\right) \\to \\left(i_6, i_7\\right) \\to \\sum_{i_0, i_1, i_2, i_3, i_4, i_5}\\left[\\left(\\delta_{i_5}^{i_7}\\delta_{i_2}^{i_6}(J_{i_1, i_4, i_2, i_3}\\cdot C_{i_4, i_0}\\cdot C_{i_3, i_5}\\cdot C_{i_1, i_0}^*\\cdot \\_K)+\\delta_{i_5}^{i_7}\\delta_{i_3}^{i_6}(C_{i_1, i_0}\\cdot C_{i_2, i_5}\\cdot J_{i_1, i_4, i_2, i_3}^*\\cdot C_{i_4, i_0}^*\\cdot \\_K^*)+\\delta_{i_0}^{i_7}\\delta_{i_1}^{i_6}(J_{i_1, i_4, i_2, i_3}\\cdot C_{i_4, i_0}\\cdot C_{i_3, i_5}\\cdot C_{i_2, i_5}^*\\cdot \\_K)+\\delta_{i_0}^{i_7}\\delta_{i_4}^{i_6}(C_{i_1, i_0}\\cdot C_{i_2, i_5}\\cdot J_{i_1, i_4, i_2, i_3}^*\\cdot C_{i_3, i_5}^*\\cdot \\_K^*)\\right)\\right]$"
      ],
      "text/plain": [
       "(C, _K) -> \n",
       "    (i_6, i_7) -> \n",
       "        ∑((i_0, i_1, i_2, i_3, i_4, i_5), (δ(i_7, i_5, δ(i_6, i_2, (J(i_1, i_4, i_2, i_3)⋅C(i_4, i_0)⋅C(i_3, i_5)⋅C(i_1, i_0)'⋅_K)))+δ(i_7, i_5, δ(i_6, i_3, (C(i_1, i_0)⋅C(i_2, i_5)⋅J(i_1, i_4, i_2, i_3)'⋅C(i_4, i_0)'⋅_K')))+δ(i_7, i_0, δ(i_6, i_1, (J(i_1, i_4, i_2, i_3)⋅C(i_4, i_0)⋅C(i_3, i_5)⋅C(i_2, i_5)'⋅_K)))+δ(i_7, i_0, δ(i_6, i_4, (C(i_1, i_0)⋅C(i_2, i_5)⋅J(i_1, i_4, i_2, i_3)'⋅C(i_3, i_5)'⋅_K')))))"
      ]
     },
     "execution_count": 45,
     "metadata": {},
     "output_type": "execute_result"
    }
   ],
   "source": [
    "p = fc(eval_all(reduce_pullback(g)))"
   ]
  },
  {
   "cell_type": "code",
   "execution_count": 46,
   "id": "a3faf48b",
   "metadata": {},
   "outputs": [
    {
     "data": {
      "text/latex": [
       "$\\left(i_6, i_7\\right) \\to \\sum_{i_0, i_1, i_2, i_3, i_4, i_5}\\left[\\left(\\delta_{i_5}^{i_7}\\delta_{i_2}^{i_6}(J_{i_1, i_4, i_2, i_3}\\cdot C_{i_4, i_0}\\cdot C_{i_3, i_5}\\cdot C_{i_1, i_0}^*)+\\delta_{i_5}^{i_7}\\delta_{i_3}^{i_6}(C_{i_1, i_0}\\cdot C_{i_2, i_5}\\cdot J_{i_1, i_4, i_2, i_3}^*\\cdot C_{i_4, i_0}^*)+\\delta_{i_0}^{i_7}\\delta_{i_1}^{i_6}(J_{i_1, i_4, i_2, i_3}\\cdot C_{i_4, i_0}\\cdot C_{i_3, i_5}\\cdot C_{i_2, i_5}^*)+\\delta_{i_0}^{i_7}\\delta_{i_4}^{i_6}(C_{i_1, i_0}\\cdot C_{i_2, i_5}\\cdot J_{i_1, i_4, i_2, i_3}^*\\cdot C_{i_3, i_5}^*)\\right)\\right]$"
      ],
      "text/plain": [
       "(i_6, i_7) -> \n",
       "    ∑((i_0, i_1, i_2, i_3, i_4, i_5), (δ(i_7, i_5, δ(i_6, i_2, (J(i_1, i_4, i_2, i_3)⋅C(i_4, i_0)⋅C(i_3, i_5)⋅C(i_1, i_0)')))+δ(i_7, i_5, δ(i_6, i_3, (C(i_1, i_0)⋅C(i_2, i_5)⋅J(i_1, i_4, i_2, i_3)'⋅C(i_4, i_0)')))+δ(i_7, i_0, δ(i_6, i_1, (J(i_1, i_4, i_2, i_3)⋅C(i_4, i_0)⋅C(i_3, i_5)⋅C(i_2, i_5)')))+δ(i_7, i_0, δ(i_6, i_4, (C(i_1, i_0)⋅C(i_2, i_5)⋅J(i_1, i_4, i_2, i_3)'⋅C(i_3, i_5)')))))"
      ]
     },
     "execution_count": 46,
     "metadata": {},
     "output_type": "execute_result"
    }
   ],
   "source": [
    "q = eval_all(call(p, first(ff(p)), constant(1)))"
   ]
  },
  {
   "cell_type": "code",
   "execution_count": 8,
   "id": "73cab78e",
   "metadata": {},
   "outputs": [
    {
     "data": {
      "text/plain": [
       "\"profile.pb.gz\""
      ]
     },
     "execution_count": 8,
     "metadata": {},
     "output_type": "execute_result"
    },
    {
     "name": "stderr",
     "output_type": "stream",
     "text": [
      "Main binary filename not available.\n",
      "Serving web UI on http://localhost:57599\n"
     ]
    }
   ],
   "source": [
    "Profile.clear()\n",
    "@profile p==p\n",
    "pprof()"
   ]
  },
  {
   "cell_type": "code",
   "execution_count": null,
   "id": "f7aafbe1",
   "metadata": {},
   "outputs": [],
   "source": [
    "(A::H) -> (x::V) -> x A x"
   ]
  },
  {
   "cell_type": "code",
   "execution_count": 67,
   "id": "c05dc616",
   "metadata": {},
   "outputs": [
    {
     "data": {
      "text/latex": [
       "$\\left(i_0, i_1, i_2\\right) \\to \\sum_{n, b}\\left[(\\sum_{k, p, q}\\left[\\left(\\delta_{\\left(b+k\\right)}^{i_2}\\delta_{n}^{i_1}\\delta_{q}^{i_0}(U_{p, n, k}\\cdot \\sum_{k, p, q}\\left[(U_{q, n, \\left(b+k\\right)}\\cdot S_{p, q, k, \\left(b+k\\right)}\\cdot U_{p, n, k}^*)\\right]\\cdot S_{p, q, k, \\left(b+k\\right)}^*)+\\delta_{k}^{i_2}\\delta_{n}^{i_1}\\delta_{p}^{i_0}(U_{q, n, \\left(b+k\\right)}\\cdot S_{p, q, k, \\left(b+k\\right)}\\cdot \\sum_{k, p, q}\\left[(U_{p, n, k}\\cdot U_{q, n, \\left(b+k\\right)}^*\\cdot S_{p, q, k, \\left(b+k\\right)}^*)\\right])\\right)\\right]\\cdot 2.0)\\right]$"
      ],
      "text/plain": [
       "(i_0, i_1, i_2) -> \n",
       "    ∑((n, b), (∑((k, p, q), (δ(i_2, (b+k), δ(i_1, n, δ(i_0, q, (U(p, n, k)⋅∑((k, p, q), (U(q, n, (b+k))⋅S(p, q, k, (b+k))⋅U(p, n, k)'))⋅S(p, q, k, (b+k))'))))+δ(i_2, k, δ(i_1, n, δ(i_0, p, (U(q, n, (b+k))⋅S(p, q, k, (b+k))⋅∑((k, p, q), (U(p, n, k)⋅U(q, n, (b+k))'⋅S(p, q, k, (b+k))'))))))))⋅2.0))"
      ]
     },
     "execution_count": 67,
     "metadata": {},
     "output_type": "execute_result"
    }
   ],
   "source": [
    "f, ctx = @pct begin \n",
    "\n",
    "    @domain P begin\n",
    "        base = I\n",
    "        lower = -N\n",
    "        upper = N-1\n",
    "        periodic = true\n",
    "    end\n",
    "\n",
    "    @domain Q begin\n",
    "        base = I\n",
    "        lower = -N\n",
    "        upper = N\n",
    "        contractable = false\n",
    "    end\n",
    "\n",
    "    @space Mmn begin\n",
    "        type = (I, I, I, I) -> C\n",
    "        symmetries = (((2, 1, 4, 3), :conj), )\n",
    "    end\n",
    "\n",
    "    @space Sym begin\n",
    "        type = (I, ) -> C\n",
    "        symmetries = (((1, ), :ineg), )\n",
    "    end\n",
    "\n",
    "    @space Gauge begin\n",
    "        type = (I, I, I) -> C\n",
    "    end\n",
    "\n",
    "    @space Density begin\n",
    "        type = (I, I) -> C\n",
    "    end\n",
    "\n",
    "    #= @space SymC begin\n",
    "        type = (I, ) -> C\n",
    "        symmetries = (((1, ), :inegc), )\n",
    "    end =#\n",
    "\n",
    "    (S::Mmn, w::Sym) -> _\n",
    "end\n",
    "\n",
    "g = @pct f ctx pullback((U::Gauge) -> ((ρ::Density) -> sum((n::I, b::Q), ρ(n, b)' * ρ(n, b)))(\n",
    "    (n::I, b::Q) -> sum((k::P, p, q), U(p, n, k)' * S(p,q,k,k+b) * U(q, n, k+b))))\n",
    "eval_all(g)\n",
    "g_1 = fc(eval_all(reduce_pullback(eval_all(g))))\n",
    "g_2 = eval_all(call(g_1, first(ff(g_1)), constant(1)))"
   ]
  },
  {
   "cell_type": "code",
   "execution_count": 69,
   "id": "7c85da67",
   "metadata": {},
   "outputs": [
    {
     "name": "stdout",
     "output_type": "stream",
     "text": [
      "  0.023775 seconds (337.30 k allocations: 10.832 MiB)\n",
      "1 sum_out\n",
      "∑((n, b), (∑((k, p, q), (δ(i_2, (b+k), δ(i_1, n, δ(i_0, q, (U(p, n, k)⋅∑((k, p, q), (U(q, n, (b+k))⋅S(p, q, k, (b+k))⋅U(p, n, k)'))⋅S(p, q, k, (b+k))'))))+δ(i_2, k, δ(i_1, n, δ(i_0, p, (U(q, n, (b+k))⋅S(p, q, k, (b+k))⋅∑((k, p, q), (U(p, n, k)⋅U(q, n, (b+k))'⋅S(p, q, k, (b+k))'))))))))⋅2.0))\n",
      "∑((b), (∑((n, k, p, q), (δ(i_2, (b+k), δ(i_1, n, δ(i_0, q, (U(p, n, k)⋅∑((k, p, q), (U(q, n, (b+k))⋅S(p, q, k, (b+k))⋅U(p, n, k)'))⋅S(p, q, k, (b+k))'))))+δ(i_2, k, δ(i_1, n, δ(i_0, p, (U(q, n, (b+k))⋅S(p, q, k, (b+k))⋅∑((k, p, q), (U(p, n, k)⋅U(q, n, (b+k))'⋅S(p, q, k, (b+k))'))))))))⋅2.0))\n",
      "yesdirected!\n",
      "\n",
      "  0.038001 seconds (493.02 k allocations: 16.019 MiB)\n",
      "2 sum_out\n",
      "∑((b), (∑((n, k, p, q), (δ(i_2, (b+k), δ(i_1, n, δ(i_0, q, (U(p, n, k)⋅∑((k, p, q), (U(q, n, (b+k))⋅S(p, q, k, (b+k))⋅U(p, n, k)'))⋅S(p, q, k, (b+k))'))))+δ(i_2, k, δ(i_1, n, δ(i_0, p, (U(q, n, (b+k))⋅S(p, q, k, (b+k))⋅∑((k, p, q), (U(p, n, k)⋅U(q, n, (b+k))'⋅S(p, q, k, (b+k))'))))))))⋅2.0))\n",
      "(∑((b, n, k, p, q), (δ(i_2, (b+k), δ(i_1, n, δ(i_0, q, (U(p, n, k)⋅∑((k, p, q), (U(q, n, (b+k))⋅S(p, q, k, (b+k))⋅U(p, n, k)'))⋅S(p, q, k, (b+k))'))))+δ(i_2, k, δ(i_1, n, δ(i_0, p, (U(q, n, (b+k))⋅S(p, q, k, (b+k))⋅∑((k, p, q), (U(p, n, k)⋅U(q, n, (b+k))'⋅S(p, q, k, (b+k))'))))))))⋅2.0)\n",
      "yesdirected!\n",
      "\n",
      "  0.015551 seconds (215.60 k allocations: 7.251 MiB)\n",
      "3 sum_dist\n",
      "(∑((b, n, k, p, q), (δ(i_2, (b+k), δ(i_1, n, δ(i_0, q, (U(p, n, k)⋅∑((k, p, q), (U(q, n, (b+k))⋅S(p, q, k, (b+k))⋅U(p, n, k)'))⋅S(p, q, k, (b+k))'))))+δ(i_2, k, δ(i_1, n, δ(i_0, p, (U(q, n, (b+k))⋅S(p, q, k, (b+k))⋅∑((k, p, q), (U(p, n, k)⋅U(q, n, (b+k))'⋅S(p, q, k, (b+k))'))))))))⋅2.0)\n",
      "(2.0⋅(∑((b, n, k, p, q), δ(i_2, (b+k), δ(i_1, n, δ(i_0, q, (U(p, n, k)⋅∑((k, p, q), (U(q, n, (b+k))⋅S(p, q, k, (b+k))⋅U(p, n, k)'))⋅S(p, q, k, (b+k))')))))+∑((b, n, k, p, q), δ(i_2, k, δ(i_1, n, δ(i_0, p, (U(q, n, (b+k))⋅S(p, q, k, (b+k))⋅∑((k, p, q), (U(p, n, k)⋅U(q, n, (b+k))'⋅S(p, q, k, (b+k))')))))))))\n",
      "yesdirected!\n",
      "\n",
      "  0.021357 seconds (249.35 k allocations: 7.824 MiB, 32.09% compilation time: 100% of which was recompilation)\n",
      "4 contract_delta\n",
      "(2.0⋅(∑((b, n, k, p, q), δ(i_2, (b+k), δ(i_1, n, δ(i_0, q, (U(p, n, k)⋅∑((k, p, q), (U(q, n, (b+k))⋅S(p, q, k, (b+k))⋅U(p, n, k)'))⋅S(p, q, k, (b+k))')))))+∑((b, n, k, p, q), δ(i_2, k, δ(i_1, n, δ(i_0, p, (U(q, n, (b+k))⋅S(p, q, k, (b+k))⋅∑((k, p, q), (U(p, n, k)⋅U(q, n, (b+k))'⋅S(p, q, k, (b+k))')))))))))\n",
      "(2.0⋅(∑((b, n, p, q), δ(i_1, n, δ(i_0, q, (U(p, n, ((-1.0⋅b)+i_2))⋅∑((k, p, q), (U(q, n, (b+k))⋅S(p, q, k, (b+k))⋅U(p, n, k)'))⋅S(p, q, ((-1.0⋅b)+i_2), i_2)'))))+∑((b, n, k, p, q), δ(i_2, k, δ(i_1, n, δ(i_0, p, (U(q, n, (b+k))⋅S(p, q, k, (b+k))⋅∑((k, p, q), (U(p, n, k)⋅U(q, n, (b+k))'⋅S(p, q, k, (b+k))')))))))))\n",
      "yesdirected!\n",
      "\n",
      "  0.013478 seconds (219.99 k allocations: 6.547 MiB)\n",
      "5 contract_delta\n",
      "(2.0⋅(∑((b, n, p, q), δ(i_1, n, δ(i_0, q, (U(p, n, ((-1.0⋅b)+i_2))⋅∑((k, p, q), (U(q, n, (b+k))⋅S(p, q, k, (b+k))⋅U(p, n, k)'))⋅S(p, q, ((-1.0⋅b)+i_2), i_2)'))))+∑((b, n, k, p, q), δ(i_2, k, δ(i_1, n, δ(i_0, p, (U(q, n, (b+k))⋅S(p, q, k, (b+k))⋅∑((k, p, q), (U(p, n, k)⋅U(q, n, (b+k))'⋅S(p, q, k, (b+k))')))))))))\n",
      "(2.0⋅(∑((b, p, q), δ(i_0, q, (U(p, i_1, ((-1.0⋅b)+i_2))⋅∑((k, p, q), (U(q, i_1, (b+k))⋅S(p, q, k, (b+k))⋅U(p, i_1, k)'))⋅S(p, q, ((-1.0⋅b)+i_2), i_2)')))+∑((b, n, k, p, q), δ(i_2, k, δ(i_1, n, δ(i_0, p, (U(q, n, (b+k))⋅S(p, q, k, (b+k))⋅∑((k, p, q), (U(p, n, k)⋅U(q, n, (b+k))'⋅S(p, q, k, (b+k))')))))))))\n",
      "yesdirected!\n",
      "\n",
      "  0.010078 seconds (150.99 k allocations: 4.660 MiB)\n",
      "6 contract_delta\n",
      "(2.0⋅(∑((b, p, q), δ(i_0, q, (U(p, i_1, ((-1.0⋅b)+i_2))⋅∑((k, p, q), (U(q, i_1, (b+k))⋅S(p, q, k, (b+k))⋅U(p, i_1, k)'))⋅S(p, q, ((-1.0⋅b)+i_2), i_2)')))+∑((b, n, k, p, q), δ(i_2, k, δ(i_1, n, δ(i_0, p, (U(q, n, (b+k))⋅S(p, q, k, (b+k))⋅∑((k, p, q), (U(p, n, k)⋅U(q, n, (b+k))'⋅S(p, q, k, (b+k))')))))))))\n",
      "(2.0⋅(∑((b, p), (U(p, i_1, ((-1.0⋅b)+i_2))⋅∑((k, p, q), (U(q, i_1, (b+k))⋅S(p, q, k, (b+k))⋅U(p, i_1, k)'))⋅S(p, i_0, ((-1.0⋅b)+i_2), i_2)'))+∑((b, n, k, p, q), δ(i_2, k, δ(i_1, n, δ(i_0, p, (U(q, n, (b+k))⋅S(p, q, k, (b+k))⋅∑((k, p, q), (U(p, n, k)⋅U(q, n, (b+k))'⋅S(p, q, k, (b+k))')))))))))\n",
      "yesdirected!\n",
      "\n",
      "  0.007109 seconds (119.14 k allocations: 3.551 MiB)\n",
      "7 sum_out\n",
      "(2.0⋅(∑((b, p), (U(p, i_1, ((-1.0⋅b)+i_2))⋅∑((k, p, q), (U(q, i_1, (b+k))⋅S(p, q, k, (b+k))⋅U(p, i_1, k)'))⋅S(p, i_0, ((-1.0⋅b)+i_2), i_2)'))+∑((b, n, k, p, q), δ(i_2, k, δ(i_1, n, δ(i_0, p, (U(q, n, (b+k))⋅S(p, q, k, (b+k))⋅∑((k, p, q), (U(p, n, k)⋅U(q, n, (b+k))'⋅S(p, q, k, (b+k))')))))))))\n",
      "(2.0⋅(∑((b, p), (U(p, i_1, ((-1.0⋅b)+i_2))⋅∑((k, q), (U(q, i_1, (b+k))⋅∑((p), (S(p, q, k, (b+k))⋅U(p, i_1, k)'))))⋅S(p, i_0, ((-1.0⋅b)+i_2), i_2)'))+∑((b, n, k, p, q), δ(i_2, k, δ(i_1, n, δ(i_0, p, (U(q, n, (b+k))⋅S(p, q, k, (b+k))⋅∑((k, p, q), (U(p, n, k)⋅U(q, n, (b+k))'⋅S(p, q, k, (b+k))')))))))))\n",
      "yesdirected!\n",
      "\n",
      "  0.009411 seconds (152.37 k allocations: 4.509 MiB)\n",
      "8 contract_delta\n",
      "(2.0⋅(∑((b, p), (U(p, i_1, ((-1.0⋅b)+i_2))⋅∑((k, q), (U(q, i_1, (b+k))⋅∑((p), (S(p, q, k, (b+k))⋅U(p, i_1, k)'))))⋅S(p, i_0, ((-1.0⋅b)+i_2), i_2)'))+∑((b, n, k, p, q), δ(i_2, k, δ(i_1, n, δ(i_0, p, (U(q, n, (b+k))⋅S(p, q, k, (b+k))⋅∑((k, p, q), (U(p, n, k)⋅U(q, n, (b+k))'⋅S(p, q, k, (b+k))')))))))))\n",
      "(2.0⋅(∑((b, p), (U(p, i_1, ((-1.0⋅b)+i_2))⋅∑((k, q), (U(q, i_1, (b+k))⋅∑((p), (S(p, q, k, (b+k))⋅U(p, i_1, k)'))))⋅S(p, i_0, ((-1.0⋅b)+i_2), i_2)'))+∑((b, n, p, q), δ(i_1, n, δ(i_0, p, (U(q, n, (b+i_2))⋅S(p, q, i_2, (b+i_2))⋅∑((k, p, q), (U(p, n, k)⋅U(q, n, (b+k))'⋅S(p, q, k, (b+k))'))))))))\n",
      "yesdirected!\n",
      "\n",
      "  0.006391 seconds (104.94 k allocations: 3.092 MiB)\n",
      "9 contract_delta\n",
      "(2.0⋅(∑((b, p), (U(p, i_1, ((-1.0⋅b)+i_2))⋅∑((k, q), (U(q, i_1, (b+k))⋅∑((p), (S(p, q, k, (b+k))⋅U(p, i_1, k)'))))⋅S(p, i_0, ((-1.0⋅b)+i_2), i_2)'))+∑((b, n, p, q), δ(i_1, n, δ(i_0, p, (U(q, n, (b+i_2))⋅S(p, q, i_2, (b+i_2))⋅∑((k, p, q), (U(p, n, k)⋅U(q, n, (b+k))'⋅S(p, q, k, (b+k))'))))))))\n",
      "(2.0⋅(∑((b, p), (U(p, i_1, ((-1.0⋅b)+i_2))⋅∑((k, q), (U(q, i_1, (b+k))⋅∑((p), (S(p, q, k, (b+k))⋅U(p, i_1, k)'))))⋅S(p, i_0, ((-1.0⋅b)+i_2), i_2)'))+∑((b, p, q), δ(i_0, p, (U(q, i_1, (b+i_2))⋅S(p, q, i_2, (b+i_2))⋅∑((k, p, q), (U(p, i_1, k)⋅U(q, i_1, (b+k))'⋅S(p, q, k, (b+k))')))))))\n",
      "yesdirected!\n",
      "\n",
      "  0.004133 seconds (61.90 k allocations: 1.836 MiB)\n",
      "10 contract_delta\n",
      "(2.0⋅(∑((b, p), (U(p, i_1, ((-1.0⋅b)+i_2))⋅∑((k, q), (U(q, i_1, (b+k))⋅∑((p), (S(p, q, k, (b+k))⋅U(p, i_1, k)'))))⋅S(p, i_0, ((-1.0⋅b)+i_2), i_2)'))+∑((b, p, q), δ(i_0, p, (U(q, i_1, (b+i_2))⋅S(p, q, i_2, (b+i_2))⋅∑((k, p, q), (U(p, i_1, k)⋅U(q, i_1, (b+k))'⋅S(p, q, k, (b+k))')))))))\n",
      "(2.0⋅(∑((b, q), (U(q, i_1, (b+i_2))⋅S(i_0, q, i_2, (b+i_2))⋅∑((k, p, q), (U(p, i_1, k)⋅U(q, i_1, (b+k))'⋅S(p, q, k, (b+k))'))))+∑((b, p), (U(p, i_1, ((-1.0⋅b)+i_2))⋅∑((k, q), (U(q, i_1, (b+k))⋅∑((p), (S(p, q, k, (b+k))⋅U(p, i_1, k)'))))⋅S(p, i_0, ((-1.0⋅b)+i_2), i_2)'))))\n",
      "yesdirected!\n",
      "\n",
      "  0.001907 seconds (30.38 k allocations: 915.359 KiB)\n",
      "11 sum_out\n",
      "(2.0⋅(∑((b, q), (U(q, i_1, (b+i_2))⋅S(i_0, q, i_2, (b+i_2))⋅∑((k, p, q), (U(p, i_1, k)⋅U(q, i_1, (b+k))'⋅S(p, q, k, (b+k))'))))+∑((b, p), (U(p, i_1, ((-1.0⋅b)+i_2))⋅∑((k, q), (U(q, i_1, (b+k))⋅∑((p), (S(p, q, k, (b+k))⋅U(p, i_1, k)'))))⋅S(p, i_0, ((-1.0⋅b)+i_2), i_2)'))))\n",
      "(2.0⋅(∑((b, q), (U(q, i_1, (b+i_2))⋅S(i_0, q, i_2, (b+i_2))⋅∑((k, q), (∑((p), (U(p, i_1, k)⋅S(p, q, k, (b+k))'))⋅U(q, i_1, (b+k))'))))+∑((b, p), (U(p, i_1, ((-1.0⋅b)+i_2))⋅∑((k, q), (U(q, i_1, (b+k))⋅∑((p), (S(p, q, k, (b+k))⋅U(p, i_1, k)'))))⋅S(p, i_0, ((-1.0⋅b)+i_2), i_2)'))))\n",
      "yesdirected!\n",
      "\n",
      "  0.000000 seconds\n"
     ]
    },
    {
     "data": {
      "text/latex": [
       "$\\left(i_0, i_1, i_2\\right) \\to (2.0\\cdot \\left(\\sum_{b, q}\\left[(U_{q, i_1, \\left(b+i_2\\right)}\\cdot S_{i_0, q, i_2, \\left(b+i_2\\right)}\\cdot \\sum_{k, q}\\left[(\\sum_{p}\\left[(U_{p, i_1, k}\\cdot S_{p, q, k, \\left(b+k\\right)}^*)\\right]\\cdot U_{q, i_1, \\left(b+k\\right)}^*)\\right])\\right]+\\sum_{b, p}\\left[(U_{p, i_1, \\left((-1.0\\cdot b)+i_2\\right)}\\cdot \\sum_{k, q}\\left[(U_{q, i_1, \\left(b+k\\right)}\\cdot \\sum_{p}\\left[(S_{p, q, k, \\left(b+k\\right)}\\cdot U_{p, i_1, k}^*)\\right])\\right]\\cdot S_{p, i_0, \\left((-1.0\\cdot b)+i_2\\right), i_2}^*)\\right]\\right))$"
      ],
      "text/plain": [
       "(i_0, i_1, i_2) -> \n",
       "    (2.0⋅(∑((b, q), (U(q, i_1, (b+i_2))⋅S(i_0, q, i_2, (b+i_2))⋅∑((k, q), (∑((p), (U(p, i_1, k)⋅S(p, q, k, (b+k))'))⋅U(q, i_1, (b+k))'))))+∑((b, p), (U(p, i_1, ((-1.0⋅b)+i_2))⋅∑((k, q), (U(q, i_1, (b+k))⋅∑((p), (S(p, q, k, (b+k))⋅U(p, i_1, k)'))))⋅S(p, i_0, ((-1.0⋅b)+i_2), i_2)'))))"
      ]
     },
     "execution_count": 69,
     "metadata": {},
     "output_type": "execute_result"
    }
   ],
   "source": [
    "g_3 = simplify(g_2; settings=Dict(:clench_sum=>true)) |> first"
   ]
  },
  {
   "cell_type": "code",
   "execution_count": 34,
   "id": "0ded9c5e",
   "metadata": {
    "scrolled": true
   },
   "outputs": [
    {
     "name": "stderr",
     "output_type": "stream",
     "text": [
      "\u001b[32m\u001b[1m   Resolving\u001b[22m\u001b[39m package versions...\n",
      "\u001b[32m\u001b[1m   Installed\u001b[22m\u001b[39m XML2_jll ────────────────── v2.12.0+0\n",
      "\u001b[32m\u001b[1m   Installed\u001b[22m\u001b[39m Glib_jll ────────────────── v2.76.5+0\n",
      "\u001b[32m\u001b[1m   Installed\u001b[22m\u001b[39m Xorg_xtrans_jll ─────────── v1.5.0+0\n",
      "\u001b[32m\u001b[1m   Installed\u001b[22m\u001b[39m Libiconv_jll ────────────── v1.17.0+0\n",
      "\u001b[32m\u001b[1m   Installed\u001b[22m\u001b[39m Pango_jll ───────────────── v1.50.14+0\n",
      "\u001b[32m\u001b[1m   Installed\u001b[22m\u001b[39m ProgressMeter ───────────── v1.9.0\n",
      "\u001b[32m\u001b[1m   Installed\u001b[22m\u001b[39m Xorg_libpthread_stubs_jll ─ v0.1.1+0\n",
      "\u001b[32m\u001b[1m   Installed\u001b[22m\u001b[39m ProtoBuf ────────────────── v1.0.14\n",
      "\u001b[32m\u001b[1m   Installed\u001b[22m\u001b[39m Xorg_libX11_jll ─────────── v1.8.6+0\n",
      "\u001b[32m\u001b[1m   Installed\u001b[22m\u001b[39m BufferedStreams ─────────── v1.2.1\n",
      "\u001b[32m\u001b[1m   Installed\u001b[22m\u001b[39m PProf ───────────────────── v3.1.0\n",
      "\u001b[32m\u001b[1m   Installed\u001b[22m\u001b[39m FreeType2_jll ───────────── v2.13.1+0\n",
      "\u001b[32m\u001b[1m   Installed\u001b[22m\u001b[39m Xorg_libXau_jll ─────────── v1.0.11+0\n",
      "\u001b[32m\u001b[1m   Installed\u001b[22m\u001b[39m Xorg_libXdmcp_jll ───────── v1.1.4+0\n",
      "\u001b[32m\u001b[1m   Installed\u001b[22m\u001b[39m Xorg_libxcb_jll ─────────── v1.15.0+0\n",
      "\u001b[32m\u001b[1m   Installed\u001b[22m\u001b[39m CodecZlib ───────────────── v0.7.3\n",
      "\u001b[32m\u001b[1m    Updating\u001b[22m\u001b[39m `~/kaer_morhen/projects/QLD/PCT/Project.toml`\n",
      "  \u001b[90m[e4faabce] \u001b[39m\u001b[92m+ PProf v3.1.0\u001b[39m\n",
      "\u001b[32m\u001b[1m    Updating\u001b[22m\u001b[39m `~/kaer_morhen/projects/QLD/PCT/Manifest.toml`\n",
      "  \u001b[90m[1520ce14] \u001b[39m\u001b[92m+ AbstractTrees v0.4.4\u001b[39m\n",
      "  \u001b[90m[e1450e63] \u001b[39m\u001b[92m+ BufferedStreams v1.2.1\u001b[39m\n",
      "  \u001b[90m[944b1d66] \u001b[39m\u001b[92m+ CodecZlib v0.7.3\u001b[39m\n",
      "  \u001b[90m[8bb1440f] \u001b[39m\u001b[92m+ DelimitedFiles v1.9.1\u001b[39m\n",
      "  \u001b[90m[4e289a0a] \u001b[39m\u001b[92m+ EnumX v1.0.4\u001b[39m\n",
      "  \u001b[90m[5789e2e9] \u001b[39m\u001b[92m+ FileIO v1.16.1\u001b[39m\n",
      "  \u001b[90m[08572546] \u001b[39m\u001b[92m+ FlameGraphs v1.0.0\u001b[39m\n",
      "  \u001b[90m[9b13fd28] \u001b[39m\u001b[92m+ IndirectArrays v1.0.0\u001b[39m\n",
      "  \u001b[90m[692b3bcd] \u001b[39m\u001b[92m+ JLLWrappers v1.5.0\u001b[39m\n",
      "  \u001b[90m[1d6d02ad] \u001b[39m\u001b[92m+ LeftChildRightSiblingTrees v0.2.0\u001b[39m\n",
      "  \u001b[90m[e4faabce] \u001b[39m\u001b[92m+ PProf v3.1.0\u001b[39m\n",
      "  \u001b[90m[92933f4c] \u001b[39m\u001b[92m+ ProgressMeter v1.9.0\u001b[39m\n",
      "  \u001b[90m[3349acd9] \u001b[39m\u001b[92m+ ProtoBuf v1.0.14\u001b[39m\n",
      "\u001b[33m⌅\u001b[39m \u001b[90m[3bb67fe8] \u001b[39m\u001b[92m+ TranscodingStreams v0.9.13\u001b[39m\n",
      "  \u001b[90m[6e34b625] \u001b[39m\u001b[92m+ Bzip2_jll v1.0.8+0\u001b[39m\n",
      "  \u001b[90m[83423d85] \u001b[39m\u001b[92m+ Cairo_jll v1.16.1+1\u001b[39m\n",
      "  \u001b[90m[2e619515] \u001b[39m\u001b[92m+ Expat_jll v2.5.0+0\u001b[39m\n",
      "  \u001b[90m[a3f928ae] \u001b[39m\u001b[92m+ Fontconfig_jll v2.13.93+0\u001b[39m\n",
      "  \u001b[90m[d7e528f0] \u001b[39m\u001b[92m+ FreeType2_jll v2.13.1+0\u001b[39m\n",
      "  \u001b[90m[559328eb] \u001b[39m\u001b[92m+ FriBidi_jll v1.0.10+0\u001b[39m\n",
      "  \u001b[90m[78b55507] \u001b[39m\u001b[92m+ Gettext_jll v0.21.0+0\u001b[39m\n",
      "  \u001b[90m[7746bdde] \u001b[39m\u001b[92m+ Glib_jll v2.76.5+0\u001b[39m\n",
      "  \u001b[90m[3b182d85] \u001b[39m\u001b[92m+ Graphite2_jll v1.3.14+0\u001b[39m\n",
      "  \u001b[90m[3c863552] \u001b[39m\u001b[92m+ Graphviz_jll v2.50.0+1\u001b[39m\n",
      "  \u001b[90m[2e76f6c2] \u001b[39m\u001b[92m+ HarfBuzz_jll v2.8.1+1\u001b[39m\n",
      "  \u001b[90m[1d63c593] \u001b[39m\u001b[92m+ LLVMOpenMP_jll v15.0.4+0\u001b[39m\n",
      "  \u001b[90m[dd4b983a] \u001b[39m\u001b[92m+ LZO_jll v2.10.1+0\u001b[39m\n",
      "\u001b[33m⌅\u001b[39m \u001b[90m[e9f186c6] \u001b[39m\u001b[92m+ Libffi_jll v3.2.2+1\u001b[39m\n",
      "  \u001b[90m[d4300ac3] \u001b[39m\u001b[92m+ Libgcrypt_jll v1.8.7+0\u001b[39m\n",
      "  \u001b[90m[7add5ba3] \u001b[39m\u001b[92m+ Libgpg_error_jll v1.42.0+0\u001b[39m\n",
      "  \u001b[90m[94ce4f54] \u001b[39m\u001b[92m+ Libiconv_jll v1.17.0+0\u001b[39m\n",
      "  \u001b[90m[4b2f31a3] \u001b[39m\u001b[92m+ Libmount_jll v2.35.0+0\u001b[39m\n",
      "  \u001b[90m[38a345b3] \u001b[39m\u001b[92m+ Libuuid_jll v2.36.0+0\u001b[39m\n",
      "  \u001b[90m[36c8627f] \u001b[39m\u001b[92m+ Pango_jll v1.50.14+0\u001b[39m\n",
      "  \u001b[90m[30392449] \u001b[39m\u001b[92m+ Pixman_jll v0.42.2+0\u001b[39m\n",
      "  \u001b[90m[02c8fc9c] \u001b[39m\u001b[92m+ XML2_jll v2.12.0+0\u001b[39m\n",
      "  \u001b[90m[aed1982a] \u001b[39m\u001b[92m+ XSLT_jll v1.1.34+0\u001b[39m\n",
      "  \u001b[90m[4f6342f7] \u001b[39m\u001b[92m+ Xorg_libX11_jll v1.8.6+0\u001b[39m\n",
      "  \u001b[90m[0c0b7dd1] \u001b[39m\u001b[92m+ Xorg_libXau_jll v1.0.11+0\u001b[39m\n",
      "  \u001b[90m[a3789734] \u001b[39m\u001b[92m+ Xorg_libXdmcp_jll v1.1.4+0\u001b[39m\n",
      "  \u001b[90m[1082639a] \u001b[39m\u001b[92m+ Xorg_libXext_jll v1.3.4+4\u001b[39m\n",
      "  \u001b[90m[ea2f1a96] \u001b[39m\u001b[92m+ Xorg_libXrender_jll v0.9.10+4\u001b[39m\n",
      "  \u001b[90m[14d82f49] \u001b[39m\u001b[92m+ Xorg_libpthread_stubs_jll v0.1.1+0\u001b[39m\n",
      "  \u001b[90m[c7cfdc94] \u001b[39m\u001b[92m+ Xorg_libxcb_jll v1.15.0+0\u001b[39m\n",
      "  \u001b[90m[c5fb5394] \u001b[39m\u001b[92m+ Xorg_xtrans_jll v1.5.0+0\u001b[39m\n",
      "  \u001b[90m[b53b4c65] \u001b[39m\u001b[92m+ libpng_jll v1.6.38+0\u001b[39m\n",
      "  \u001b[90m[cf2c5f97] \u001b[39m\u001b[92m+ pprof_jll v1.0.1+0\u001b[39m\n",
      "  \u001b[90m[0dad84c5] \u001b[39m\u001b[92m+ ArgTools v1.1.1\u001b[39m\n",
      "  \u001b[90m[f43a241f] \u001b[39m\u001b[92m+ Downloads v1.6.0\u001b[39m\n",
      "  \u001b[90m[7b1f6079] \u001b[39m\u001b[92m+ FileWatching\u001b[39m\n",
      "  \u001b[90m[b27032c2] \u001b[39m\u001b[92m+ LibCURL v0.6.3\u001b[39m\n",
      "  \u001b[90m[76f85450] \u001b[39m\u001b[92m+ LibGit2\u001b[39m\n",
      "  \u001b[90m[ca575930] \u001b[39m\u001b[92m+ NetworkOptions v1.2.0\u001b[39m\n",
      "  \u001b[90m[44cfe95a] \u001b[39m\u001b[92m+ Pkg v1.9.2\u001b[39m\n",
      "  \u001b[90m[9abbd945] \u001b[39m\u001b[92m+ Profile\u001b[39m\n",
      "  \u001b[90m[3fa0cd96] \u001b[39m\u001b[92m+ REPL\u001b[39m\n",
      "  \u001b[90m[10745b16] \u001b[39m\u001b[93m~ Statistics ⇒ v1.9.0\u001b[39m\n",
      "  \u001b[90m[fa267f1f] \u001b[39m\u001b[93m↑ TOML v1.0.0 ⇒ v1.0.3\u001b[39m\n",
      "  \u001b[90m[a4e569a6] \u001b[39m\u001b[92m+ Tar v1.10.0\u001b[39m\n",
      "  \u001b[90m[e66e0078] \u001b[39m\u001b[93m↑ CompilerSupportLibraries_jll v1.0.1+0 ⇒ v1.0.5+0\u001b[39m\n",
      "  \u001b[90m[deac9b47] \u001b[39m\u001b[92m+ LibCURL_jll v7.84.0+0\u001b[39m\n",
      "  \u001b[90m[29816b5a] \u001b[39m\u001b[92m+ LibSSH2_jll v1.10.2+0\u001b[39m\n",
      "  \u001b[90m[c8ffd9c3] \u001b[39m\u001b[92m+ MbedTLS_jll v2.28.2+0\u001b[39m\n",
      "  \u001b[90m[14a3606d] \u001b[39m\u001b[92m+ MozillaCACerts_jll v2022.10.11\u001b[39m\n",
      "  \u001b[90m[4536629a] \u001b[39m\u001b[93m↑ OpenBLAS_jll v0.3.20+0 ⇒ v0.3.21+4\u001b[39m\n",
      "  \u001b[90m[efcefdf7] \u001b[39m\u001b[92m+ PCRE2_jll v10.42.0+0\u001b[39m\n",
      "  \u001b[90m[bea87d4a] \u001b[39m\u001b[92m+ SuiteSparse_jll v5.10.1+6\u001b[39m\n",
      "  \u001b[90m[83775a58] \u001b[39m\u001b[92m+ Zlib_jll v1.2.13+0\u001b[39m\n",
      "  \u001b[90m[8e850b90] \u001b[39m\u001b[93m↑ libblastrampoline_jll v5.1.1+0 ⇒ v5.8.0+0\u001b[39m\n",
      "  \u001b[90m[8e850ede] \u001b[39m\u001b[92m+ nghttp2_jll v1.48.0+0\u001b[39m\n",
      "  \u001b[90m[3f19e933] \u001b[39m\u001b[92m+ p7zip_jll v17.4.0+0\u001b[39m\n",
      "\u001b[36m\u001b[1m        Info\u001b[22m\u001b[39m Packages marked with \u001b[33m⌅\u001b[39m have new versions available but compatibility constraints restrict them from upgrading. To see why use `status --outdated -m`\n",
      "\u001b[32m\u001b[1mPrecompiling\u001b[22m\u001b[39m project...\n",
      "\u001b[32m  ✓ \u001b[39m\u001b[90mIndirectArrays\u001b[39m\n",
      "\u001b[32m  ✓ \u001b[39m\u001b[90mEnumX\u001b[39m\n",
      "\u001b[33m  ✓ \u001b[39m\u001b[90mJLLWrappers\u001b[39m\n",
      "\u001b[32m  ✓ \u001b[39m\u001b[90mBufferedStreams\u001b[39m\n",
      "\u001b[32m  ✓ \u001b[39m\u001b[90mAbstractTrees\u001b[39m\n",
      "\u001b[32m  ✓ \u001b[39m\u001b[90mProgressMeter\u001b[39m\n",
      "\u001b[32m  ✓ \u001b[39m\u001b[90mTranscodingStreams\u001b[39m\n",
      "\u001b[32m  ✓ \u001b[39m\u001b[90mXorg_xtrans_jll\u001b[39m\n",
      "\u001b[32m  ✓ \u001b[39m\u001b[90mXorg_libXau_jll\u001b[39m\n",
      "\u001b[32m  ✓ \u001b[39m\u001b[90mXorg_libXdmcp_jll\u001b[39m\n",
      "\u001b[32m  ✓ \u001b[39m\u001b[90mGraphite2_jll\u001b[39m\n",
      "\u001b[32m  ✓ \u001b[39m\u001b[90mlibpng_jll\u001b[39m\n",
      "\u001b[32m  ✓ \u001b[39m\u001b[90mLibmount_jll\u001b[39m\n",
      "\u001b[32m  ✓ \u001b[39m\u001b[90mLibiconv_jll\u001b[39m\n",
      "\u001b[32m  ✓ \u001b[39m\u001b[90mLLVMOpenMP_jll\u001b[39m\n",
      "\u001b[32m  ✓ \u001b[39m\u001b[90mLibffi_jll\u001b[39m\n",
      "\u001b[32m  ✓ \u001b[39m\u001b[90mBzip2_jll\u001b[39m\n",
      "\u001b[32m  ✓ \u001b[39m\u001b[90mExpat_jll\u001b[39m\n",
      "\u001b[32m  ✓ \u001b[39m\u001b[90mLibgpg_error_jll\u001b[39m\n",
      "\u001b[32m  ✓ \u001b[39m\u001b[90mLZO_jll\u001b[39m\n",
      "\u001b[32m  ✓ \u001b[39m\u001b[90mXorg_libpthread_stubs_jll\u001b[39m\n",
      "\u001b[32m  ✓ \u001b[39m\u001b[90mFriBidi_jll\u001b[39m\n",
      "\u001b[32m  ✓ \u001b[39m\u001b[90mLibuuid_jll\u001b[39m\n",
      "\u001b[32m  ✓ \u001b[39m\u001b[90mLeftChildRightSiblingTrees\u001b[39m\n",
      "\u001b[32m  ✓ \u001b[39m\u001b[90mCodecZlib\u001b[39m\n",
      "\u001b[32m  ✓ \u001b[39m\u001b[90mXML2_jll\u001b[39m\n",
      "\u001b[32m  ✓ \u001b[39m\u001b[90mPixman_jll\u001b[39m\n",
      "\u001b[32m  ✓ \u001b[39m\u001b[90mFreeType2_jll\u001b[39m\n",
      "\u001b[32m  ✓ \u001b[39m\u001b[90mLibgcrypt_jll\u001b[39m\n",
      "\u001b[32m  ✓ \u001b[39m\u001b[90mGettext_jll\u001b[39m\n",
      "\u001b[32m  ✓ \u001b[39m\u001b[90mFontconfig_jll\u001b[39m\n",
      "\u001b[32m  ✓ \u001b[39m\u001b[90mXSLT_jll\u001b[39m\n",
      "\u001b[32m  ✓ \u001b[39m\u001b[90mFileIO\u001b[39m\n",
      "\u001b[32m  ✓ \u001b[39m\u001b[90mGlib_jll\u001b[39m\n",
      "\u001b[32m  ✓ \u001b[39m\u001b[90mXorg_libxcb_jll\u001b[39m\n",
      "\u001b[32m  ✓ \u001b[39m\u001b[90mXorg_libX11_jll\u001b[39m\n",
      "\u001b[32m  ✓ \u001b[39m\u001b[90mXorg_libXext_jll\u001b[39m\n",
      "\u001b[32m  ✓ \u001b[39m\u001b[90mXorg_libXrender_jll\u001b[39m\n",
      "\u001b[32m  ✓ \u001b[39m\u001b[90mCairo_jll\u001b[39m\n",
      "\u001b[32m  ✓ \u001b[39m\u001b[90mHarfBuzz_jll\u001b[39m\n",
      "\u001b[32m  ✓ \u001b[39m\u001b[90mFlameGraphs\u001b[39m\n",
      "\u001b[32m  ✓ \u001b[39m\u001b[90mPango_jll\u001b[39m\n",
      "\u001b[32m  ✓ \u001b[39m\u001b[90mGraphviz_jll\u001b[39m\n",
      "\u001b[32m  ✓ \u001b[39m\u001b[90mpprof_jll\u001b[39m\n",
      "\u001b[32m  ✓ \u001b[39m\u001b[90mProtoBuf\u001b[39m\n",
      "\u001b[32m  ✓ \u001b[39mPProf\n",
      "\u001b[33m  ✓ \u001b[39mPCT\n",
      "  47 dependencies successfully precompiled in 9 seconds. 39 already precompiled.\n",
      "  \u001b[33m2\u001b[39m dependencies precompiled but different versions are currently loaded. Restart julia to access the new versions\n",
      "\u001b[36m\u001b[1m[ \u001b[22m\u001b[39m\u001b[36m\u001b[1mInfo: \u001b[22m\u001b[39mPrecompiling PProf [e4faabce-9ead-11e9-39d9-4379958e3056]\n",
      "\u001b[33m\u001b[1m┌ \u001b[22m\u001b[39m\u001b[33m\u001b[1mWarning: \u001b[22m\u001b[39mModule JLLWrappers with build ID fafbfcfd-cb8c-49c8-0005-da57d32b1727 is missing from the cache.\n",
      "\u001b[33m\u001b[1m│ \u001b[22m\u001b[39mThis may mean JLLWrappers [692b3bcd-3c85-4b1f-b108-f13ce0eb3210] does not support precompilation but is imported by a module that does.\n",
      "\u001b[33m\u001b[1m└ \u001b[22m\u001b[39m\u001b[90m@ Base loading.jl:1793\u001b[39m\n",
      "\u001b[36m\u001b[1m[ \u001b[22m\u001b[39m\u001b[36m\u001b[1mInfo: \u001b[22m\u001b[39mSkipping precompilation since __precompile__(false). Importing PProf [e4faabce-9ead-11e9-39d9-4379958e3056].\n",
      "\u001b[36m\u001b[1m[ \u001b[22m\u001b[39m\u001b[36m\u001b[1mInfo: \u001b[22m\u001b[39mPrecompiling pprof_jll [cf2c5f97-e748-59fa-a03f-dda3c62118cb]\n"
     ]
    },
    {
     "name": "stderr",
     "output_type": "stream",
     "text": [
      "\u001b[33m\u001b[1m┌ \u001b[22m\u001b[39m\u001b[33m\u001b[1mWarning: \u001b[22m\u001b[39mModule JLLWrappers with build ID fafbfcfd-cb8c-49c8-0005-da57d32b1727 is missing from the cache.\n",
      "\u001b[33m\u001b[1m│ \u001b[22m\u001b[39mThis may mean JLLWrappers [692b3bcd-3c85-4b1f-b108-f13ce0eb3210] does not support precompilation but is imported by a module that does.\n",
      "\u001b[33m\u001b[1m└ \u001b[22m\u001b[39m\u001b[90m@ Base loading.jl:1793\u001b[39m\n",
      "\u001b[36m\u001b[1m[ \u001b[22m\u001b[39m\u001b[36m\u001b[1mInfo: \u001b[22m\u001b[39mSkipping precompilation since __precompile__(false). Importing pprof_jll [cf2c5f97-e748-59fa-a03f-dda3c62118cb].\n",
      "\u001b[36m\u001b[1m[ \u001b[22m\u001b[39m\u001b[36m\u001b[1mInfo: \u001b[22m\u001b[39mPrecompiling Graphviz_jll [3c863552-8265-54e4-a6dc-903eb78fde85]\n",
      "\u001b[33m\u001b[1m┌ \u001b[22m\u001b[39m\u001b[33m\u001b[1mWarning: \u001b[22m\u001b[39mModule JLLWrappers with build ID fafbfcfd-cb8c-49c8-0005-da57d32b1727 is missing from the cache.\n",
      "\u001b[33m\u001b[1m│ \u001b[22m\u001b[39mThis may mean JLLWrappers [692b3bcd-3c85-4b1f-b108-f13ce0eb3210] does not support precompilation but is imported by a module that does.\n",
      "\u001b[33m\u001b[1m└ \u001b[22m\u001b[39m\u001b[90m@ Base loading.jl:1793\u001b[39m\n",
      "\u001b[36m\u001b[1m[ \u001b[22m\u001b[39m\u001b[36m\u001b[1mInfo: \u001b[22m\u001b[39mSkipping precompilation since __precompile__(false). Importing Graphviz_jll [3c863552-8265-54e4-a6dc-903eb78fde85].\n",
      "\u001b[36m\u001b[1m[ \u001b[22m\u001b[39m\u001b[36m\u001b[1mInfo: \u001b[22m\u001b[39mPrecompiling Cairo_jll [83423d85-b0ee-5818-9007-b63ccbeb887a]\n",
      "\u001b[33m\u001b[1m┌ \u001b[22m\u001b[39m\u001b[33m\u001b[1mWarning: \u001b[22m\u001b[39mModule JLLWrappers with build ID fafbfcfd-cb8c-49c8-0005-da57d32b1727 is missing from the cache.\n",
      "\u001b[33m\u001b[1m│ \u001b[22m\u001b[39mThis may mean JLLWrappers [692b3bcd-3c85-4b1f-b108-f13ce0eb3210] does not support precompilation but is imported by a module that does.\n",
      "\u001b[33m\u001b[1m└ \u001b[22m\u001b[39m\u001b[90m@ Base loading.jl:1793\u001b[39m\n",
      "\u001b[36m\u001b[1m[ \u001b[22m\u001b[39m\u001b[36m\u001b[1mInfo: \u001b[22m\u001b[39mSkipping precompilation since __precompile__(false). Importing Cairo_jll [83423d85-b0ee-5818-9007-b63ccbeb887a].\n",
      "\u001b[36m\u001b[1m[ \u001b[22m\u001b[39m\u001b[36m\u001b[1mInfo: \u001b[22m\u001b[39mPrecompiling Glib_jll [7746bdde-850d-59dc-9ae8-88ece973131d]\n",
      "\u001b[33m\u001b[1m┌ \u001b[22m\u001b[39m\u001b[33m\u001b[1mWarning: \u001b[22m\u001b[39mModule JLLWrappers with build ID fafbfcfd-cb8c-49c8-0005-da57d32b1727 is missing from the cache.\n",
      "\u001b[33m\u001b[1m│ \u001b[22m\u001b[39mThis may mean JLLWrappers [692b3bcd-3c85-4b1f-b108-f13ce0eb3210] does not support precompilation but is imported by a module that does.\n",
      "\u001b[33m\u001b[1m└ \u001b[22m\u001b[39m\u001b[90m@ Base loading.jl:1793\u001b[39m\n",
      "\u001b[36m\u001b[1m[ \u001b[22m\u001b[39m\u001b[36m\u001b[1mInfo: \u001b[22m\u001b[39mSkipping precompilation since __precompile__(false). Importing Glib_jll [7746bdde-850d-59dc-9ae8-88ece973131d].\n",
      "\u001b[36m\u001b[1m[ \u001b[22m\u001b[39m\u001b[36m\u001b[1mInfo: \u001b[22m\u001b[39mPrecompiling Libiconv_jll [94ce4f54-9a6c-5748-9c1c-f9c7231a4531]\n",
      "\u001b[33m\u001b[1m┌ \u001b[22m\u001b[39m\u001b[33m\u001b[1mWarning: \u001b[22m\u001b[39mModule JLLWrappers with build ID fafbfcfd-cb8c-49c8-0005-da57d32b1727 is missing from the cache.\n",
      "\u001b[33m\u001b[1m│ \u001b[22m\u001b[39mThis may mean JLLWrappers [692b3bcd-3c85-4b1f-b108-f13ce0eb3210] does not support precompilation but is imported by a module that does.\n",
      "\u001b[33m\u001b[1m└ \u001b[22m\u001b[39m\u001b[90m@ Base loading.jl:1793\u001b[39m\n",
      "\u001b[36m\u001b[1m[ \u001b[22m\u001b[39m\u001b[36m\u001b[1mInfo: \u001b[22m\u001b[39mSkipping precompilation since __precompile__(false). Importing Libiconv_jll [94ce4f54-9a6c-5748-9c1c-f9c7231a4531].\n",
      "\u001b[36m\u001b[1m[ \u001b[22m\u001b[39m\u001b[36m\u001b[1mInfo: \u001b[22m\u001b[39mPrecompiling Libffi_jll [e9f186c6-92d2-5b65-8a66-fee21dc1b490]\n",
      "\u001b[33m\u001b[1m┌ \u001b[22m\u001b[39m\u001b[33m\u001b[1mWarning: \u001b[22m\u001b[39mModule JLLWrappers with build ID fafbfcfd-cb8c-49c8-0005-da57d32b1727 is missing from the cache.\n",
      "\u001b[33m\u001b[1m│ \u001b[22m\u001b[39mThis may mean JLLWrappers [692b3bcd-3c85-4b1f-b108-f13ce0eb3210] does not support precompilation but is imported by a module that does.\n",
      "\u001b[33m\u001b[1m└ \u001b[22m\u001b[39m\u001b[90m@ Base loading.jl:1793\u001b[39m\n",
      "\u001b[36m\u001b[1m[ \u001b[22m\u001b[39m\u001b[36m\u001b[1mInfo: \u001b[22m\u001b[39mSkipping precompilation since __precompile__(false). Importing Libffi_jll [e9f186c6-92d2-5b65-8a66-fee21dc1b490].\n",
      "\u001b[36m\u001b[1m[ \u001b[22m\u001b[39m\u001b[36m\u001b[1mInfo: \u001b[22m\u001b[39mPrecompiling Gettext_jll [78b55507-aeef-58d4-861c-77aaff3498b1]\n",
      "\u001b[33m\u001b[1m┌ \u001b[22m\u001b[39m\u001b[33m\u001b[1mWarning: \u001b[22m\u001b[39mModule JLLWrappers with build ID fafbfcfd-cb8c-49c8-0005-da57d32b1727 is missing from the cache.\n",
      "\u001b[33m\u001b[1m│ \u001b[22m\u001b[39mThis may mean JLLWrappers [692b3bcd-3c85-4b1f-b108-f13ce0eb3210] does not support precompilation but is imported by a module that does.\n",
      "\u001b[33m\u001b[1m└ \u001b[22m\u001b[39m\u001b[90m@ Base loading.jl:1793\u001b[39m\n",
      "\u001b[36m\u001b[1m[ \u001b[22m\u001b[39m\u001b[36m\u001b[1mInfo: \u001b[22m\u001b[39mSkipping precompilation since __precompile__(false). Importing Gettext_jll [78b55507-aeef-58d4-861c-77aaff3498b1].\n",
      "\u001b[36m\u001b[1m[ \u001b[22m\u001b[39m\u001b[36m\u001b[1mInfo: \u001b[22m\u001b[39mPrecompiling XML2_jll [02c8fc9c-b97f-50b9-bbe4-9be30ff0a78a]\n",
      "\u001b[33m\u001b[1m┌ \u001b[22m\u001b[39m\u001b[33m\u001b[1mWarning: \u001b[22m\u001b[39mModule JLLWrappers with build ID fafbfcfd-cb8c-49c8-0005-da57d32b1727 is missing from the cache.\n",
      "\u001b[33m\u001b[1m│ \u001b[22m\u001b[39mThis may mean JLLWrappers [692b3bcd-3c85-4b1f-b108-f13ce0eb3210] does not support precompilation but is imported by a module that does.\n",
      "\u001b[33m\u001b[1m└ \u001b[22m\u001b[39m\u001b[90m@ Base loading.jl:1793\u001b[39m\n",
      "\u001b[36m\u001b[1m[ \u001b[22m\u001b[39m\u001b[36m\u001b[1mInfo: \u001b[22m\u001b[39mSkipping precompilation since __precompile__(false). Importing XML2_jll [02c8fc9c-b97f-50b9-bbe4-9be30ff0a78a].\n",
      "\u001b[36m\u001b[1m[ \u001b[22m\u001b[39m\u001b[36m\u001b[1mInfo: \u001b[22m\u001b[39mPrecompiling Pixman_jll [30392449-352a-5448-841d-b1acce4e97dc]\n",
      "\u001b[33m\u001b[1m┌ \u001b[22m\u001b[39m\u001b[33m\u001b[1mWarning: \u001b[22m\u001b[39mModule JLLWrappers with build ID fafbfcfd-cb8c-49c8-0005-da57d32b1727 is missing from the cache.\n",
      "\u001b[33m\u001b[1m│ \u001b[22m\u001b[39mThis may mean JLLWrappers [692b3bcd-3c85-4b1f-b108-f13ce0eb3210] does not support precompilation but is imported by a module that does.\n",
      "\u001b[33m\u001b[1m└ \u001b[22m\u001b[39m\u001b[90m@ Base loading.jl:1793\u001b[39m\n",
      "\u001b[36m\u001b[1m[ \u001b[22m\u001b[39m\u001b[36m\u001b[1mInfo: \u001b[22m\u001b[39mSkipping precompilation since __precompile__(false). Importing Pixman_jll [30392449-352a-5448-841d-b1acce4e97dc].\n",
      "\u001b[36m\u001b[1m[ \u001b[22m\u001b[39m\u001b[36m\u001b[1mInfo: \u001b[22m\u001b[39mPrecompiling LLVMOpenMP_jll [1d63c593-3942-5779-bab2-d838dc0a180e]\n",
      "\u001b[33m\u001b[1m┌ \u001b[22m\u001b[39m\u001b[33m\u001b[1mWarning: \u001b[22m\u001b[39mModule JLLWrappers with build ID fafbfcfd-cb8c-49c8-0005-da57d32b1727 is missing from the cache.\n",
      "\u001b[33m\u001b[1m│ \u001b[22m\u001b[39mThis may mean JLLWrappers [692b3bcd-3c85-4b1f-b108-f13ce0eb3210] does not support precompilation but is imported by a module that does.\n",
      "\u001b[33m\u001b[1m└ \u001b[22m\u001b[39m\u001b[90m@ Base loading.jl:1793\u001b[39m\n",
      "\u001b[36m\u001b[1m[ \u001b[22m\u001b[39m\u001b[36m\u001b[1mInfo: \u001b[22m\u001b[39mSkipping precompilation since __precompile__(false). Importing LLVMOpenMP_jll [1d63c593-3942-5779-bab2-d838dc0a180e].\n",
      "\u001b[36m\u001b[1m[ \u001b[22m\u001b[39m\u001b[36m\u001b[1mInfo: \u001b[22m\u001b[39mPrecompiling libpng_jll [b53b4c65-9356-5827-b1ea-8c7a1a84506f]\n",
      "\u001b[33m\u001b[1m┌ \u001b[22m\u001b[39m\u001b[33m\u001b[1mWarning: \u001b[22m\u001b[39mModule JLLWrappers with build ID fafbfcfd-cb8c-49c8-0005-da57d32b1727 is missing from the cache.\n",
      "\u001b[33m\u001b[1m│ \u001b[22m\u001b[39mThis may mean JLLWrappers [692b3bcd-3c85-4b1f-b108-f13ce0eb3210] does not support precompilation but is imported by a module that does.\n",
      "\u001b[33m\u001b[1m└ \u001b[22m\u001b[39m\u001b[90m@ Base loading.jl:1793\u001b[39m\n",
      "\u001b[36m\u001b[1m[ \u001b[22m\u001b[39m\u001b[36m\u001b[1mInfo: \u001b[22m\u001b[39mSkipping precompilation since __precompile__(false). Importing libpng_jll [b53b4c65-9356-5827-b1ea-8c7a1a84506f].\n",
      "\u001b[36m\u001b[1m[ \u001b[22m\u001b[39m\u001b[36m\u001b[1mInfo: \u001b[22m\u001b[39mPrecompiling Fontconfig_jll [a3f928ae-7b40-5064-980b-68af3947d34b]\n",
      "\u001b[33m\u001b[1m┌ \u001b[22m\u001b[39m\u001b[33m\u001b[1mWarning: \u001b[22m\u001b[39mModule JLLWrappers with build ID fafbfcfd-cb8c-49c8-0005-da57d32b1727 is missing from the cache.\n",
      "\u001b[33m\u001b[1m│ \u001b[22m\u001b[39mThis may mean JLLWrappers [692b3bcd-3c85-4b1f-b108-f13ce0eb3210] does not support precompilation but is imported by a module that does.\n",
      "\u001b[33m\u001b[1m└ \u001b[22m\u001b[39m\u001b[90m@ Base loading.jl:1793\u001b[39m\n",
      "\u001b[36m\u001b[1m[ \u001b[22m\u001b[39m\u001b[36m\u001b[1mInfo: \u001b[22m\u001b[39mSkipping precompilation since __precompile__(false). Importing Fontconfig_jll [a3f928ae-7b40-5064-980b-68af3947d34b].\n",
      "\u001b[36m\u001b[1m[ \u001b[22m\u001b[39m\u001b[36m\u001b[1mInfo: \u001b[22m\u001b[39mPrecompiling FreeType2_jll [d7e528f0-a631-5988-bf34-fe36492bcfd7]\n",
      "\u001b[33m\u001b[1m┌ \u001b[22m\u001b[39m\u001b[33m\u001b[1mWarning: \u001b[22m\u001b[39mModule JLLWrappers with build ID fafbfcfd-cb8c-49c8-0005-da57d32b1727 is missing from the cache.\n",
      "\u001b[33m\u001b[1m│ \u001b[22m\u001b[39mThis may mean JLLWrappers [692b3bcd-3c85-4b1f-b108-f13ce0eb3210] does not support precompilation but is imported by a module that does.\n",
      "\u001b[33m\u001b[1m└ \u001b[22m\u001b[39m\u001b[90m@ Base loading.jl:1793\u001b[39m\n",
      "\u001b[36m\u001b[1m[ \u001b[22m\u001b[39m\u001b[36m\u001b[1mInfo: \u001b[22m\u001b[39mSkipping precompilation since __precompile__(false). Importing FreeType2_jll [d7e528f0-a631-5988-bf34-fe36492bcfd7].\n",
      "\u001b[36m\u001b[1m[ \u001b[22m\u001b[39m\u001b[36m\u001b[1mInfo: \u001b[22m\u001b[39mPrecompiling Bzip2_jll [6e34b625-4abd-537c-b88f-471c36dfa7a0]\n",
      "\u001b[33m\u001b[1m┌ \u001b[22m\u001b[39m\u001b[33m\u001b[1mWarning: \u001b[22m\u001b[39mModule JLLWrappers with build ID fafbfcfd-cb8c-49c8-0005-da57d32b1727 is missing from the cache.\n",
      "\u001b[33m\u001b[1m│ \u001b[22m\u001b[39mThis may mean JLLWrappers [692b3bcd-3c85-4b1f-b108-f13ce0eb3210] does not support precompilation but is imported by a module that does.\n",
      "\u001b[33m\u001b[1m└ \u001b[22m\u001b[39m\u001b[90m@ Base loading.jl:1793\u001b[39m\n",
      "\u001b[36m\u001b[1m[ \u001b[22m\u001b[39m\u001b[36m\u001b[1mInfo: \u001b[22m\u001b[39mSkipping precompilation since __precompile__(false). Importing Bzip2_jll [6e34b625-4abd-537c-b88f-471c36dfa7a0].\n",
      "\u001b[36m\u001b[1m[ \u001b[22m\u001b[39m\u001b[36m\u001b[1mInfo: \u001b[22m\u001b[39mPrecompiling Libuuid_jll [38a345b3-de98-5d2b-a5d3-14cd9215e700]\n"
     ]
    },
    {
     "name": "stderr",
     "output_type": "stream",
     "text": [
      "\u001b[33m\u001b[1m┌ \u001b[22m\u001b[39m\u001b[33m\u001b[1mWarning: \u001b[22m\u001b[39mModule JLLWrappers with build ID fafbfcfd-cb8c-49c8-0005-da57d32b1727 is missing from the cache.\n",
      "\u001b[33m\u001b[1m│ \u001b[22m\u001b[39mThis may mean JLLWrappers [692b3bcd-3c85-4b1f-b108-f13ce0eb3210] does not support precompilation but is imported by a module that does.\n",
      "\u001b[33m\u001b[1m└ \u001b[22m\u001b[39m\u001b[90m@ Base loading.jl:1793\u001b[39m\n",
      "\u001b[36m\u001b[1m[ \u001b[22m\u001b[39m\u001b[36m\u001b[1mInfo: \u001b[22m\u001b[39mSkipping precompilation since __precompile__(false). Importing Libuuid_jll [38a345b3-de98-5d2b-a5d3-14cd9215e700].\n",
      "\u001b[36m\u001b[1m[ \u001b[22m\u001b[39m\u001b[36m\u001b[1mInfo: \u001b[22m\u001b[39mPrecompiling Expat_jll [2e619515-83b5-522b-bb60-26c02a35a201]\n",
      "\u001b[33m\u001b[1m┌ \u001b[22m\u001b[39m\u001b[33m\u001b[1mWarning: \u001b[22m\u001b[39mModule JLLWrappers with build ID fafbfcfd-cb8c-49c8-0005-da57d32b1727 is missing from the cache.\n",
      "\u001b[33m\u001b[1m│ \u001b[22m\u001b[39mThis may mean JLLWrappers [692b3bcd-3c85-4b1f-b108-f13ce0eb3210] does not support precompilation but is imported by a module that does.\n",
      "\u001b[33m\u001b[1m└ \u001b[22m\u001b[39m\u001b[90m@ Base loading.jl:1793\u001b[39m\n",
      "\u001b[36m\u001b[1m[ \u001b[22m\u001b[39m\u001b[36m\u001b[1mInfo: \u001b[22m\u001b[39mSkipping precompilation since __precompile__(false). Importing Expat_jll [2e619515-83b5-522b-bb60-26c02a35a201].\n",
      "\u001b[36m\u001b[1m[ \u001b[22m\u001b[39m\u001b[36m\u001b[1mInfo: \u001b[22m\u001b[39mPrecompiling LZO_jll [dd4b983a-f0e5-5f8d-a1b7-129d4a5fb1ac]\n",
      "\u001b[33m\u001b[1m┌ \u001b[22m\u001b[39m\u001b[33m\u001b[1mWarning: \u001b[22m\u001b[39mModule JLLWrappers with build ID fafbfcfd-cb8c-49c8-0005-da57d32b1727 is missing from the cache.\n",
      "\u001b[33m\u001b[1m│ \u001b[22m\u001b[39mThis may mean JLLWrappers [692b3bcd-3c85-4b1f-b108-f13ce0eb3210] does not support precompilation but is imported by a module that does.\n",
      "\u001b[33m\u001b[1m└ \u001b[22m\u001b[39m\u001b[90m@ Base loading.jl:1793\u001b[39m\n",
      "\u001b[36m\u001b[1m[ \u001b[22m\u001b[39m\u001b[36m\u001b[1mInfo: \u001b[22m\u001b[39mSkipping precompilation since __precompile__(false). Importing LZO_jll [dd4b983a-f0e5-5f8d-a1b7-129d4a5fb1ac].\n",
      "\u001b[36m\u001b[1m[ \u001b[22m\u001b[39m\u001b[36m\u001b[1mInfo: \u001b[22m\u001b[39mPrecompiling Pango_jll [36c8627f-9965-5494-a995-c6b170f724f3]\n",
      "\u001b[33m\u001b[1m┌ \u001b[22m\u001b[39m\u001b[33m\u001b[1mWarning: \u001b[22m\u001b[39mModule JLLWrappers with build ID fafbfcfd-cb8c-49c8-0005-da57d32b1727 is missing from the cache.\n",
      "\u001b[33m\u001b[1m│ \u001b[22m\u001b[39mThis may mean JLLWrappers [692b3bcd-3c85-4b1f-b108-f13ce0eb3210] does not support precompilation but is imported by a module that does.\n",
      "\u001b[33m\u001b[1m└ \u001b[22m\u001b[39m\u001b[90m@ Base loading.jl:1793\u001b[39m\n",
      "\u001b[36m\u001b[1m[ \u001b[22m\u001b[39m\u001b[36m\u001b[1mInfo: \u001b[22m\u001b[39mSkipping precompilation since __precompile__(false). Importing Pango_jll [36c8627f-9965-5494-a995-c6b170f724f3].\n",
      "\u001b[36m\u001b[1m[ \u001b[22m\u001b[39m\u001b[36m\u001b[1mInfo: \u001b[22m\u001b[39mPrecompiling FriBidi_jll [559328eb-81f9-559d-9380-de523a88c83c]\n",
      "\u001b[33m\u001b[1m┌ \u001b[22m\u001b[39m\u001b[33m\u001b[1mWarning: \u001b[22m\u001b[39mModule JLLWrappers with build ID fafbfcfd-cb8c-49c8-0005-da57d32b1727 is missing from the cache.\n",
      "\u001b[33m\u001b[1m│ \u001b[22m\u001b[39mThis may mean JLLWrappers [692b3bcd-3c85-4b1f-b108-f13ce0eb3210] does not support precompilation but is imported by a module that does.\n",
      "\u001b[33m\u001b[1m└ \u001b[22m\u001b[39m\u001b[90m@ Base loading.jl:1793\u001b[39m\n",
      "\u001b[36m\u001b[1m[ \u001b[22m\u001b[39m\u001b[36m\u001b[1mInfo: \u001b[22m\u001b[39mSkipping precompilation since __precompile__(false). Importing FriBidi_jll [559328eb-81f9-559d-9380-de523a88c83c].\n",
      "\u001b[36m\u001b[1m[ \u001b[22m\u001b[39m\u001b[36m\u001b[1mInfo: \u001b[22m\u001b[39mPrecompiling HarfBuzz_jll [2e76f6c2-a576-52d4-95c1-20adfe4de566]\n",
      "\u001b[33m\u001b[1m┌ \u001b[22m\u001b[39m\u001b[33m\u001b[1mWarning: \u001b[22m\u001b[39mModule JLLWrappers with build ID fafbfcfd-cb8c-49c8-0005-da57d32b1727 is missing from the cache.\n",
      "\u001b[33m\u001b[1m│ \u001b[22m\u001b[39mThis may mean JLLWrappers [692b3bcd-3c85-4b1f-b108-f13ce0eb3210] does not support precompilation but is imported by a module that does.\n",
      "\u001b[33m\u001b[1m└ \u001b[22m\u001b[39m\u001b[90m@ Base loading.jl:1793\u001b[39m\n",
      "\u001b[36m\u001b[1m[ \u001b[22m\u001b[39m\u001b[36m\u001b[1mInfo: \u001b[22m\u001b[39mSkipping precompilation since __precompile__(false). Importing HarfBuzz_jll [2e76f6c2-a576-52d4-95c1-20adfe4de566].\n",
      "\u001b[36m\u001b[1m[ \u001b[22m\u001b[39m\u001b[36m\u001b[1mInfo: \u001b[22m\u001b[39mPrecompiling Graphite2_jll [3b182d85-2403-5c21-9c21-1e1f0cc25472]\n",
      "\u001b[33m\u001b[1m┌ \u001b[22m\u001b[39m\u001b[33m\u001b[1mWarning: \u001b[22m\u001b[39mModule JLLWrappers with build ID fafbfcfd-cb8c-49c8-0005-da57d32b1727 is missing from the cache.\n",
      "\u001b[33m\u001b[1m│ \u001b[22m\u001b[39mThis may mean JLLWrappers [692b3bcd-3c85-4b1f-b108-f13ce0eb3210] does not support precompilation but is imported by a module that does.\n",
      "\u001b[33m\u001b[1m└ \u001b[22m\u001b[39m\u001b[90m@ Base loading.jl:1793\u001b[39m\n",
      "\u001b[36m\u001b[1m[ \u001b[22m\u001b[39m\u001b[36m\u001b[1mInfo: \u001b[22m\u001b[39mSkipping precompilation since __precompile__(false). Importing Graphite2_jll [3b182d85-2403-5c21-9c21-1e1f0cc25472].\n"
     ]
    }
   ],
   "source": [
    "using Profile\n",
    "using Pkg\n",
    "Pkg.add(\"PProf\")\n",
    "using PProf"
   ]
  },
  {
   "cell_type": "code",
   "execution_count": 70,
   "id": "f91d984b",
   "metadata": {},
   "outputs": [
    {
     "name": "stdout",
     "output_type": "stream",
     "text": [
      "  0.010030 seconds (115.85 k allocations: 3.589 MiB)\n",
      "1 sum_in\n",
      "(2.0⋅(∑((b, q), (U(q, i_1, (b+i_2))⋅S(i_0, q, i_2, (b+i_2))⋅∑((k, q), (∑((p), (U(p, i_1, k)⋅S(p, q, k, (b+k))'))⋅U(q, i_1, (b+k))'))))+∑((b, p), (U(p, i_1, ((-1.0⋅b)+i_2))⋅∑((k, q), (U(q, i_1, (b+k))⋅∑((p), (S(p, q, k, (b+k))⋅U(p, i_1, k)'))))⋅S(p, i_0, ((-1.0⋅b)+i_2), i_2)'))))\n",
      "(2.0⋅(∑((b, p), (U(p, i_1, ((-1.0⋅b)+i_2))⋅∑((k, q), (U(q, i_1, (b+k))⋅∑((p), (S(p, q, k, (b+k))⋅U(p, i_1, k)'))))⋅S(p, i_0, ((-1.0⋅b)+i_2), i_2)'))+∑((b, q, k, i_3), (U(q, i_1, (b+i_2))⋅S(i_0, q, i_2, (b+i_2))⋅∑((p), (U(p, i_1, k)⋅S(p, i_3, k, (b+k))'))⋅U(i_3, i_1, (b+k))'))))\n",
      "yesdirected!\n",
      "\n",
      "  0.010254 seconds (160.01 k allocations: 4.776 MiB)\n",
      "2 sum_in\n",
      "(2.0⋅(∑((b, p), (U(p, i_1, ((-1.0⋅b)+i_2))⋅∑((k, q), (U(q, i_1, (b+k))⋅∑((p), (S(p, q, k, (b+k))⋅U(p, i_1, k)'))))⋅S(p, i_0, ((-1.0⋅b)+i_2), i_2)'))+∑((b, q, k, i_3), (U(q, i_1, (b+i_2))⋅S(i_0, q, i_2, (b+i_2))⋅∑((p), (U(p, i_1, k)⋅S(p, i_3, k, (b+k))'))⋅U(i_3, i_1, (b+k))'))))\n",
      "(2.0⋅(∑((b, q, k, i_3), (U(q, i_1, (b+i_2))⋅S(i_0, q, i_2, (b+i_2))⋅∑((p), (U(p, i_1, k)⋅S(p, i_3, k, (b+k))'))⋅U(i_3, i_1, (b+k))'))+∑((b, p, k, q), (U(q, i_1, (b+k))⋅U(p, i_1, ((-1.0⋅b)+i_2))⋅∑((p), (S(p, q, k, (b+k))⋅U(p, i_1, k)'))⋅S(p, i_0, ((-1.0⋅b)+i_2), i_2)'))))\n",
      "yesdirected!\n",
      "\n",
      "  0.010846 seconds (176.62 k allocations: 5.195 MiB)\n",
      "3 sum_in\n",
      "(2.0⋅(∑((b, q, k, i_3), (U(q, i_1, (b+i_2))⋅S(i_0, q, i_2, (b+i_2))⋅∑((p), (U(p, i_1, k)⋅S(p, i_3, k, (b+k))'))⋅U(i_3, i_1, (b+k))'))+∑((b, p, k, q), (U(q, i_1, (b+k))⋅U(p, i_1, ((-1.0⋅b)+i_2))⋅∑((p), (S(p, q, k, (b+k))⋅U(p, i_1, k)'))⋅S(p, i_0, ((-1.0⋅b)+i_2), i_2)'))))\n",
      "(2.0⋅(∑((b, p, k, q), (U(q, i_1, (b+k))⋅U(p, i_1, ((-1.0⋅b)+i_2))⋅∑((p), (S(p, q, k, (b+k))⋅U(p, i_1, k)'))⋅S(p, i_0, ((-1.0⋅b)+i_2), i_2)'))+∑((b, q, k, i_3, p), (U(q, i_1, (b+i_2))⋅U(p, i_1, k)⋅S(i_0, q, i_2, (b+i_2))⋅U(i_3, i_1, (b+k))'⋅S(p, i_3, k, (b+k))'))))\n",
      "yesdirected!\n",
      "\n",
      "  0.021035 seconds (358.04 k allocations: 10.447 MiB)\n",
      "4 sum_in\n",
      "(2.0⋅(∑((b, p, k, q), (U(q, i_1, (b+k))⋅U(p, i_1, ((-1.0⋅b)+i_2))⋅∑((p), (S(p, q, k, (b+k))⋅U(p, i_1, k)'))⋅S(p, i_0, ((-1.0⋅b)+i_2), i_2)'))+∑((b, q, k, i_3, p), (U(q, i_1, (b+i_2))⋅U(p, i_1, k)⋅S(i_0, q, i_2, (b+i_2))⋅U(i_3, i_1, (b+k))'⋅S(p, i_3, k, (b+k))'))))\n",
      "(2.0⋅(∑((b, q, k, i_3, p), (U(q, i_1, (b+i_2))⋅U(p, i_1, k)⋅S(i_0, q, i_2, (b+i_2))⋅U(i_3, i_1, (b+k))'⋅S(p, i_3, k, (b+k))'))+∑((b, p, k, q, i_3), (U(q, i_1, (b+k))⋅U(p, i_1, ((-1.0⋅b)+i_2))⋅S(i_3, q, k, (b+k))⋅U(i_3, i_1, k)'⋅S(p, i_0, ((-1.0⋅b)+i_2), i_2)'))))\n",
      "yesdirected!\n",
      "\n",
      "  0.013759 seconds (238.08 k allocations: 6.884 MiB)\n",
      "5 shift\n",
      "(2.0⋅(∑((b, q, k, i_3, p), (U(q, i_1, (b+i_2))⋅U(p, i_1, k)⋅S(i_0, q, i_2, (b+i_2))⋅U(i_3, i_1, (b+k))'⋅S(p, i_3, k, (b+k))'))+∑((b, p, k, q, i_3), (U(q, i_1, (b+k))⋅U(p, i_1, ((-1.0⋅b)+i_2))⋅S(i_3, q, k, (b+k))⋅U(i_3, i_1, k)'⋅S(p, i_0, ((-1.0⋅b)+i_2), i_2)'))))\n",
      "(2.0⋅(∑((b, q, k, i_3, p), (U(q, i_1, (b+i_2))⋅U(p, i_1, ((-1.0⋅b)+k))⋅S(i_0, q, i_2, (b+i_2))⋅U(i_3, i_1, k)'⋅S(p, i_3, ((-1.0⋅b)+k), k)'))+∑((b, p, k, q, i_3), (U(q, i_1, (b+k))⋅U(p, i_1, ((-1.0⋅b)+i_2))⋅S(i_3, q, k, (b+k))⋅U(i_3, i_1, k)'⋅S(p, i_0, ((-1.0⋅b)+i_2), i_2)'))))\n",
      "notdirected\n",
      "\n",
      "  0.029300 seconds (494.71 k allocations: 14.433 MiB)\n",
      "6 sum_sym\n",
      "(2.0⋅(∑((b, q, k, i_3, p), (U(q, i_1, (b+i_2))⋅U(p, i_1, ((-1.0⋅b)+k))⋅S(i_0, q, i_2, (b+i_2))⋅U(i_3, i_1, k)'⋅S(p, i_3, ((-1.0⋅b)+k), k)'))+∑((b, p, k, q, i_3), (U(q, i_1, (b+k))⋅U(p, i_1, ((-1.0⋅b)+i_2))⋅S(i_3, q, k, (b+k))⋅U(i_3, i_1, k)'⋅S(p, i_0, ((-1.0⋅b)+i_2), i_2)'))))\n",
      "(2.0⋅(∑((b, q, k, i_3, p), (U(q, i_1, ((-1.0⋅b)+i_2))⋅U(p, i_1, (b+k))⋅S(i_0, q, i_2, ((-1.0⋅b)+i_2))⋅U(i_3, i_1, k)'⋅S(p, i_3, (b+k), k)'))+∑((b, p, k, q, i_3), (U(q, i_1, (b+k))⋅U(p, i_1, ((-1.0⋅b)+i_2))⋅S(i_3, q, k, (b+k))⋅U(i_3, i_1, k)'⋅S(p, i_0, ((-1.0⋅b)+i_2), i_2)'))))\n",
      "notdirected\n",
      "\n",
      "  0.045907 seconds (542.25 k allocations: 16.195 MiB, 21.33% gc time)\n",
      "7 shift\n",
      "(2.0⋅(∑((b, q, k, i_3, p), (U(q, i_1, ((-1.0⋅b)+i_2))⋅U(p, i_1, (b+k))⋅S(i_0, q, i_2, ((-1.0⋅b)+i_2))⋅U(i_3, i_1, k)'⋅S(p, i_3, (b+k), k)'))+∑((b, p, k, q, i_3), (U(q, i_1, (b+k))⋅U(p, i_1, ((-1.0⋅b)+i_2))⋅S(i_3, q, k, (b+k))⋅U(i_3, i_1, k)'⋅S(p, i_0, ((-1.0⋅b)+i_2), i_2)'))))\n",
      "(2.0⋅(∑((b, q, k, i_3, p), (U(q, i_1, ((-1.0⋅b)+i_2))⋅U(p, i_1, k)⋅S(i_0, q, i_2, ((-1.0⋅b)+i_2))⋅U(i_3, i_1, ((-1.0⋅b)+k))'⋅S(p, i_3, k, ((-1.0⋅b)+k))'))+∑((b, p, k, q, i_3), (U(q, i_1, (b+k))⋅U(p, i_1, ((-1.0⋅b)+i_2))⋅S(i_3, q, k, (b+k))⋅U(i_3, i_1, k)'⋅S(p, i_0, ((-1.0⋅b)+i_2), i_2)'))))\n",
      "notdirected\n",
      "\n",
      "  0.061305 seconds (805.37 k allocations: 23.962 MiB, 15.38% gc time)\n",
      "8 symmetry\n",
      "(2.0⋅(∑((b, q, k, i_3, p), (U(q, i_1, ((-1.0⋅b)+i_2))⋅U(p, i_1, k)⋅S(i_0, q, i_2, ((-1.0⋅b)+i_2))⋅U(i_3, i_1, ((-1.0⋅b)+k))'⋅S(p, i_3, k, ((-1.0⋅b)+k))'))+∑((b, p, k, q, i_3), (U(q, i_1, (b+k))⋅U(p, i_1, ((-1.0⋅b)+i_2))⋅S(i_3, q, k, (b+k))⋅U(i_3, i_1, k)'⋅S(p, i_0, ((-1.0⋅b)+i_2), i_2)'))))\n",
      "(2.0⋅(∑((b, q, k, i_3, p), (U(q, i_1, ((-1.0⋅b)+i_2))⋅U(p, i_1, k)⋅U(i_3, i_1, ((-1.0⋅b)+k))'⋅S(q, i_0, ((-1.0⋅b)+i_2), i_2)'⋅S(p, i_3, k, ((-1.0⋅b)+k))'))+∑((b, p, k, q, i_3), (U(q, i_1, (b+k))⋅U(p, i_1, ((-1.0⋅b)+i_2))⋅S(i_3, q, k, (b+k))⋅U(i_3, i_1, k)'⋅S(p, i_0, ((-1.0⋅b)+i_2), i_2)'))))\n",
      "notdirected\n",
      "\n",
      "  0.060544 seconds (779.23 k allocations: 23.212 MiB, 15.46% gc time)\n",
      "9 shift\n",
      "(2.0⋅(∑((b, q, k, i_3, p), (U(q, i_1, ((-1.0⋅b)+i_2))⋅U(p, i_1, k)⋅U(i_3, i_1, ((-1.0⋅b)+k))'⋅S(q, i_0, ((-1.0⋅b)+i_2), i_2)'⋅S(p, i_3, k, ((-1.0⋅b)+k))'))+∑((b, p, k, q, i_3), (U(q, i_1, (b+k))⋅U(p, i_1, ((-1.0⋅b)+i_2))⋅S(i_3, q, k, (b+k))⋅U(i_3, i_1, k)'⋅S(p, i_0, ((-1.0⋅b)+i_2), i_2)'))))\n",
      "(2.0⋅(∑((b, q, k, i_3, p), (U(q, i_1, ((-1.0⋅b)+i_2))⋅U(p, i_1, (b+k))⋅U(i_3, i_1, k)'⋅S(q, i_0, ((-1.0⋅b)+i_2), i_2)'⋅S(p, i_3, (b+k), k)'))+∑((b, p, k, q, i_3), (U(q, i_1, (b+k))⋅U(p, i_1, ((-1.0⋅b)+i_2))⋅S(i_3, q, k, (b+k))⋅U(i_3, i_1, k)'⋅S(p, i_0, ((-1.0⋅b)+i_2), i_2)'))))\n",
      "notdirected\n",
      "\n",
      "  0.055861 seconds (805.80 k allocations: 24.501 MiB, 0.15% compilation time)\n",
      "10 sum_sym\n",
      "(2.0⋅(∑((b, q, k, i_3, p), (U(q, i_1, ((-1.0⋅b)+i_2))⋅U(p, i_1, (b+k))⋅U(i_3, i_1, k)'⋅S(q, i_0, ((-1.0⋅b)+i_2), i_2)'⋅S(p, i_3, (b+k), k)'))+∑((b, p, k, q, i_3), (U(q, i_1, (b+k))⋅U(p, i_1, ((-1.0⋅b)+i_2))⋅S(i_3, q, k, (b+k))⋅U(i_3, i_1, k)'⋅S(p, i_0, ((-1.0⋅b)+i_2), i_2)'))))\n",
      "(2.0⋅(∑((b, q, k, i_3, p), (U(q, i_1, (b+i_2))⋅U(p, i_1, ((-1.0⋅b)+k))⋅U(i_3, i_1, k)'⋅S(q, i_0, (b+i_2), i_2)'⋅S(p, i_3, ((-1.0⋅b)+k), k)'))+∑((b, p, k, q, i_3), (U(q, i_1, (b+k))⋅U(p, i_1, ((-1.0⋅b)+i_2))⋅S(i_3, q, k, (b+k))⋅U(i_3, i_1, k)'⋅S(p, i_0, ((-1.0⋅b)+i_2), i_2)'))))\n",
      "notdirected\n",
      "\n",
      "  0.053674 seconds (827.22 k allocations: 24.761 MiB)\n",
      "11 shift\n",
      "(2.0⋅(∑((b, q, k, i_3, p), (U(q, i_1, (b+i_2))⋅U(p, i_1, ((-1.0⋅b)+k))⋅U(i_3, i_1, k)'⋅S(q, i_0, (b+i_2), i_2)'⋅S(p, i_3, ((-1.0⋅b)+k), k)'))+∑((b, p, k, q, i_3), (U(q, i_1, (b+k))⋅U(p, i_1, ((-1.0⋅b)+i_2))⋅S(i_3, q, k, (b+k))⋅U(i_3, i_1, k)'⋅S(p, i_0, ((-1.0⋅b)+i_2), i_2)'))))\n",
      "(2.0⋅(∑((b, q, k, i_3, p), (U(q, i_1, (b+i_2))⋅U(p, i_1, k)⋅U(i_3, i_1, (b+k))'⋅S(q, i_0, (b+i_2), i_2)'⋅S(p, i_3, k, (b+k))'))+∑((b, p, k, q, i_3), (U(q, i_1, (b+k))⋅U(p, i_1, ((-1.0⋅b)+i_2))⋅S(i_3, q, k, (b+k))⋅U(i_3, i_1, k)'⋅S(p, i_0, ((-1.0⋅b)+i_2), i_2)'))))\n",
      "notdirected\n",
      "\n",
      "  0.062344 seconds (926.39 k allocations: 28.055 MiB)\n",
      "12 symmetry\n",
      "(2.0⋅(∑((b, q, k, i_3, p), (U(q, i_1, (b+i_2))⋅U(p, i_1, k)⋅U(i_3, i_1, (b+k))'⋅S(q, i_0, (b+i_2), i_2)'⋅S(p, i_3, k, (b+k))'))+∑((b, p, k, q, i_3), (U(q, i_1, (b+k))⋅U(p, i_1, ((-1.0⋅b)+i_2))⋅S(i_3, q, k, (b+k))⋅U(i_3, i_1, k)'⋅S(p, i_0, ((-1.0⋅b)+i_2), i_2)'))))\n",
      "(2.0⋅(∑((b, q, k, i_3, p), (U(q, i_1, (b+i_2))⋅U(p, i_1, k)⋅S(i_3, p, (b+k), k)⋅U(i_3, i_1, (b+k))'⋅S(q, i_0, (b+i_2), i_2)'))+∑((b, p, k, q, i_3), (U(q, i_1, (b+k))⋅U(p, i_1, ((-1.0⋅b)+i_2))⋅S(i_3, q, k, (b+k))⋅U(i_3, i_1, k)'⋅S(p, i_0, ((-1.0⋅b)+i_2), i_2)'))))\n",
      "notdirected\n",
      "\n",
      "  0.053980 seconds (923.30 k allocations: 26.628 MiB)\n",
      "13 shift\n",
      "(2.0⋅(∑((b, q, k, i_3, p), (U(q, i_1, (b+i_2))⋅U(p, i_1, k)⋅S(i_3, p, (b+k), k)⋅U(i_3, i_1, (b+k))'⋅S(q, i_0, (b+i_2), i_2)'))+∑((b, p, k, q, i_3), (U(q, i_1, (b+k))⋅U(p, i_1, ((-1.0⋅b)+i_2))⋅S(i_3, q, k, (b+k))⋅U(i_3, i_1, k)'⋅S(p, i_0, ((-1.0⋅b)+i_2), i_2)'))))\n",
      "(2.0⋅(∑((b, q, k, i_3, p), (U(q, i_1, (b+i_2))⋅U(p, i_1, ((-1.0⋅b)+k))⋅S(i_3, p, k, ((-1.0⋅b)+k))⋅U(i_3, i_1, k)'⋅S(q, i_0, (b+i_2), i_2)'))+∑((b, p, k, q, i_3), (U(q, i_1, (b+k))⋅U(p, i_1, ((-1.0⋅b)+i_2))⋅S(i_3, q, k, (b+k))⋅U(i_3, i_1, k)'⋅S(p, i_0, ((-1.0⋅b)+i_2), i_2)'))))\n",
      "notdirected\n",
      "\n"
     ]
    },
    {
     "name": "stdout",
     "output_type": "stream",
     "text": [
      "  0.062319 seconds (824.06 k allocations: 24.389 MiB, 15.23% gc time)\n",
      "14 sum_sym\n",
      "(2.0⋅(∑((b, q, k, i_3, p), (U(q, i_1, (b+i_2))⋅U(p, i_1, ((-1.0⋅b)+k))⋅S(i_3, p, k, ((-1.0⋅b)+k))⋅U(i_3, i_1, k)'⋅S(q, i_0, (b+i_2), i_2)'))+∑((b, p, k, q, i_3), (U(q, i_1, (b+k))⋅U(p, i_1, ((-1.0⋅b)+i_2))⋅S(i_3, q, k, (b+k))⋅U(i_3, i_1, k)'⋅S(p, i_0, ((-1.0⋅b)+i_2), i_2)'))))\n",
      "(∑((b, p, k, q, i_3), (U(q, i_1, (b+k))⋅U(p, i_1, ((-1.0⋅b)+i_2))⋅S(i_3, q, k, (b+k))⋅U(i_3, i_1, k)'⋅S(p, i_0, ((-1.0⋅b)+i_2), i_2)'))⋅4.0)\n",
      "notdirected\n",
      "\n",
      "  0.005232 seconds (79.41 k allocations: 2.455 MiB)\n",
      "15 sum_in\n",
      "(∑((b, p, k, q, i_3), (U(q, i_1, (b+k))⋅U(p, i_1, ((-1.0⋅b)+i_2))⋅S(i_3, q, k, (b+k))⋅U(i_3, i_1, k)'⋅S(p, i_0, ((-1.0⋅b)+i_2), i_2)'))⋅4.0)\n",
      "∑((b, p, k, q, i_3), (U(q, i_1, (b+k))⋅U(p, i_1, ((-1.0⋅b)+i_2))⋅S(i_3, q, k, (b+k))⋅4.0⋅U(i_3, i_1, k)'⋅S(p, i_0, ((-1.0⋅b)+i_2), i_2)'))\n",
      "yesdirected!\n",
      "\n",
      "  0.003225 seconds (39.87 k allocations: 1.575 MiB, 10.83% compilation time)\n",
      "16 shift\n",
      "∑((b, p, k, q, i_3), (U(q, i_1, (b+k))⋅U(p, i_1, ((-1.0⋅b)+i_2))⋅S(i_3, q, k, (b+k))⋅4.0⋅U(i_3, i_1, k)'⋅S(p, i_0, ((-1.0⋅b)+i_2), i_2)'))\n",
      "∑((b, p, k, q, i_3), (U(q, i_1, k)⋅U(p, i_1, ((-1.0⋅b)+i_2))⋅S(i_3, q, ((-1.0⋅b)+k), k)⋅4.0⋅U(i_3, i_1, ((-1.0⋅b)+k))'⋅S(p, i_0, ((-1.0⋅b)+i_2), i_2)'))\n",
      "notdirected\n",
      "\n",
      "  0.026640 seconds (167.98 k allocations: 5.602 MiB, 42.18% gc time)\n",
      "17 sum_sym\n",
      "∑((b, p, k, q, i_3), (U(q, i_1, k)⋅U(p, i_1, ((-1.0⋅b)+i_2))⋅S(i_3, q, ((-1.0⋅b)+k), k)⋅4.0⋅U(i_3, i_1, ((-1.0⋅b)+k))'⋅S(p, i_0, ((-1.0⋅b)+i_2), i_2)'))\n",
      "∑((b, p, k, q, i_3), (U(q, i_1, k)⋅U(p, i_1, (b+i_2))⋅S(i_3, q, (b+k), k)⋅4.0⋅U(i_3, i_1, (b+k))'⋅S(p, i_0, (b+i_2), i_2)'))\n",
      "notdirected\n",
      "\n",
      "  0.019478 seconds (216.90 k allocations: 7.320 MiB)\n",
      "18 shift\n",
      "∑((b, p, k, q, i_3), (U(q, i_1, k)⋅U(p, i_1, (b+i_2))⋅S(i_3, q, (b+k), k)⋅4.0⋅U(i_3, i_1, (b+k))'⋅S(p, i_0, (b+i_2), i_2)'))\n",
      "∑((b, p, k, q, i_3), (U(q, i_1, ((-1.0⋅b)+k))⋅U(p, i_1, (b+i_2))⋅S(i_3, q, k, ((-1.0⋅b)+k))⋅4.0⋅U(i_3, i_1, k)'⋅S(p, i_0, (b+i_2), i_2)'))\n",
      "notdirected\n",
      "\n",
      "  0.019878 seconds (250.21 k allocations: 8.174 MiB)\n",
      "19 symmetry\n",
      "∑((b, p, k, q, i_3), (U(q, i_1, ((-1.0⋅b)+k))⋅U(p, i_1, (b+i_2))⋅S(i_3, q, k, ((-1.0⋅b)+k))⋅4.0⋅U(i_3, i_1, k)'⋅S(p, i_0, (b+i_2), i_2)'))\n",
      "∑((b, p, k, q, i_3), (U(q, i_1, ((-1.0⋅b)+k))⋅U(p, i_1, (b+i_2))⋅4.0⋅U(i_3, i_1, k)'⋅S(q, i_3, ((-1.0⋅b)+k), k)'⋅S(p, i_0, (b+i_2), i_2)'))\n",
      "notdirected\n",
      "\n",
      "  0.027789 seconds (188.40 k allocations: 6.186 MiB, 40.70% gc time)\n",
      "20 shift\n",
      "∑((b, p, k, q, i_3), (U(q, i_1, ((-1.0⋅b)+k))⋅U(p, i_1, (b+i_2))⋅4.0⋅U(i_3, i_1, k)'⋅S(q, i_3, ((-1.0⋅b)+k), k)'⋅S(p, i_0, (b+i_2), i_2)'))\n",
      "∑((b, p, k, q, i_3), (U(q, i_1, k)⋅U(p, i_1, (b+i_2))⋅4.0⋅U(i_3, i_1, (b+k))'⋅S(q, i_3, k, (b+k))'⋅S(p, i_0, (b+i_2), i_2)'))\n",
      "notdirected\n",
      "\n",
      "  0.022285 seconds (268.26 k allocations: 8.654 MiB)\n",
      "21 sum_sym\n",
      "∑((b, p, k, q, i_3), (U(q, i_1, k)⋅U(p, i_1, (b+i_2))⋅4.0⋅U(i_3, i_1, (b+k))'⋅S(q, i_3, k, (b+k))'⋅S(p, i_0, (b+i_2), i_2)'))\n",
      "∑((b, p, k, q, i_3), (U(q, i_1, k)⋅U(p, i_1, ((-1.0⋅b)+i_2))⋅4.0⋅U(i_3, i_1, ((-1.0⋅b)+k))'⋅S(q, i_3, k, ((-1.0⋅b)+k))'⋅S(p, i_0, ((-1.0⋅b)+i_2), i_2)'))\n",
      "notdirected\n",
      "\n",
      "  0.026895 seconds (325.21 k allocations: 10.678 MiB)\n",
      "22 shift\n",
      "∑((b, p, k, q, i_3), (U(q, i_1, k)⋅U(p, i_1, ((-1.0⋅b)+i_2))⋅4.0⋅U(i_3, i_1, ((-1.0⋅b)+k))'⋅S(q, i_3, k, ((-1.0⋅b)+k))'⋅S(p, i_0, ((-1.0⋅b)+i_2), i_2)'))\n",
      "∑((b, p, k, q, i_3), (U(q, i_1, (b+k))⋅U(p, i_1, ((-1.0⋅b)+i_2))⋅4.0⋅U(i_3, i_1, k)'⋅S(q, i_3, (b+k), k)'⋅S(p, i_0, ((-1.0⋅b)+i_2), i_2)'))\n",
      "notdirected\n",
      "\n",
      "  0.053712 seconds (465.94 k allocations: 15.581 MiB, 22.55% gc time)\n",
      "23 symmetry\n",
      "∑((b, p, k, q, i_3), (U(q, i_1, (b+k))⋅U(p, i_1, ((-1.0⋅b)+i_2))⋅4.0⋅U(i_3, i_1, k)'⋅S(q, i_3, (b+k), k)'⋅S(p, i_0, ((-1.0⋅b)+i_2), i_2)'))\n",
      "∑((b, p, k, q, i_3), (U(q, i_1, (b+k))⋅U(p, i_1, ((-1.0⋅b)+i_2))⋅S(i_0, p, i_2, ((-1.0⋅b)+i_2))⋅4.0⋅U(i_3, i_1, k)'⋅S(q, i_3, (b+k), k)'))\n",
      "notdirected\n",
      "\n",
      "  0.018101 seconds (215.25 k allocations: 6.947 MiB)\n",
      "24 shift\n",
      "∑((b, p, k, q, i_3), (U(q, i_1, (b+k))⋅U(p, i_1, ((-1.0⋅b)+i_2))⋅S(i_0, p, i_2, ((-1.0⋅b)+i_2))⋅4.0⋅U(i_3, i_1, k)'⋅S(q, i_3, (b+k), k)'))\n",
      "∑((b, p, k, q, i_3), (U(q, i_1, k)⋅U(p, i_1, ((-1.0⋅b)+i_2))⋅S(i_0, p, i_2, ((-1.0⋅b)+i_2))⋅4.0⋅U(i_3, i_1, ((-1.0⋅b)+k))'⋅S(q, i_3, k, ((-1.0⋅b)+k))'))\n",
      "notdirected\n",
      "\n",
      "  0.032900 seconds (382.25 k allocations: 12.678 MiB)\n",
      "25 sum_sym\n",
      "∑((b, p, k, q, i_3), (U(q, i_1, k)⋅U(p, i_1, ((-1.0⋅b)+i_2))⋅S(i_0, p, i_2, ((-1.0⋅b)+i_2))⋅4.0⋅U(i_3, i_1, ((-1.0⋅b)+k))'⋅S(q, i_3, k, ((-1.0⋅b)+k))'))\n",
      "∑((b, p, k, q, i_3), (U(q, i_1, k)⋅U(p, i_1, (b+i_2))⋅S(i_0, p, i_2, (b+i_2))⋅4.0⋅U(i_3, i_1, (b+k))'⋅S(q, i_3, k, (b+k))'))\n",
      "notdirected\n",
      "\n",
      "  0.041762 seconds (338.37 k allocations: 11.068 MiB, 29.19% gc time)\n",
      "26 shift\n",
      "∑((b, p, k, q, i_3), (U(q, i_1, k)⋅U(p, i_1, (b+i_2))⋅S(i_0, p, i_2, (b+i_2))⋅4.0⋅U(i_3, i_1, (b+k))'⋅S(q, i_3, k, (b+k))'))\n",
      "∑((b, p, k, q, i_3), (U(q, i_1, ((-1.0⋅b)+k))⋅U(p, i_1, (b+i_2))⋅S(i_0, p, i_2, (b+i_2))⋅4.0⋅U(i_3, i_1, k)'⋅S(q, i_3, ((-1.0⋅b)+k), k)'))\n",
      "notdirected\n",
      "\n",
      "  0.034435 seconds (410.89 k allocations: 13.380 MiB)\n",
      "27 symmetry\n",
      "∑((b, p, k, q, i_3), (U(q, i_1, ((-1.0⋅b)+k))⋅U(p, i_1, (b+i_2))⋅S(i_0, p, i_2, (b+i_2))⋅4.0⋅U(i_3, i_1, k)'⋅S(q, i_3, ((-1.0⋅b)+k), k)'))\n",
      "∑((b, p, k, q, i_3), (U(q, i_1, ((-1.0⋅b)+k))⋅U(p, i_1, (b+i_2))⋅S(i_3, q, k, ((-1.0⋅b)+k))⋅S(i_0, p, i_2, (b+i_2))⋅4.0⋅U(i_3, i_1, k)'))\n",
      "notdirected\n",
      "\n",
      "  0.026985 seconds (320.94 k allocations: 10.568 MiB)\n",
      "28 shift\n",
      "∑((b, p, k, q, i_3), (U(q, i_1, ((-1.0⋅b)+k))⋅U(p, i_1, (b+i_2))⋅S(i_3, q, k, ((-1.0⋅b)+k))⋅S(i_0, p, i_2, (b+i_2))⋅4.0⋅U(i_3, i_1, k)'))\n",
      "∑((b, p, k, q, i_3), (U(q, i_1, k)⋅U(p, i_1, (b+i_2))⋅S(i_3, q, (b+k), k)⋅S(i_0, p, i_2, (b+i_2))⋅4.0⋅U(i_3, i_1, (b+k))'))\n",
      "notdirected\n",
      "\n",
      "  0.030314 seconds (360.98 k allocations: 11.622 MiB)\n",
      "29 sum_sym\n",
      "∑((b, p, k, q, i_3), (U(q, i_1, k)⋅U(p, i_1, (b+i_2))⋅S(i_3, q, (b+k), k)⋅S(i_0, p, i_2, (b+i_2))⋅4.0⋅U(i_3, i_1, (b+k))'))\n",
      "∑((b, p, k, q, i_3), (U(q, i_1, k)⋅U(p, i_1, ((-1.0⋅b)+i_2))⋅S(i_3, q, ((-1.0⋅b)+k), k)⋅S(i_0, p, i_2, ((-1.0⋅b)+i_2))⋅4.0⋅U(i_3, i_1, ((-1.0⋅b)+k))'))\n",
      "notdirected\n",
      "\n",
      "  0.044174 seconds (494.81 k allocations: 16.527 MiB)\n",
      "30 shift\n",
      "∑((b, p, k, q, i_3), (U(q, i_1, k)⋅U(p, i_1, ((-1.0⋅b)+i_2))⋅S(i_3, q, ((-1.0⋅b)+k), k)⋅S(i_0, p, i_2, ((-1.0⋅b)+i_2))⋅4.0⋅U(i_3, i_1, ((-1.0⋅b)+k))'))\n",
      "∑((b, p, k, q, i_3), (U(q, i_1, (b+k))⋅U(p, i_1, ((-1.0⋅b)+i_2))⋅S(i_3, q, k, (b+k))⋅S(i_0, p, i_2, ((-1.0⋅b)+i_2))⋅4.0⋅U(i_3, i_1, k)'))\n",
      "notdirected\n",
      "\n",
      "  0.070310 seconds (608.79 k allocations: 20.493 MiB, 16.20% gc time)\n",
      "31 sum_sym\n",
      "∑((b, p, k, q, i_3), (U(q, i_1, ((-1.0⋅b)+k))⋅U(p, i_1, (b+i_2))⋅S(i_3, q, k, ((-1.0⋅b)+k))⋅S(i_0, p, i_2, (b+i_2))⋅4.0⋅U(i_3, i_1, k)'))\n",
      "∑((b, p, k, q, i_3), (U(q, i_1, (b+k))⋅U(p, i_1, ((-1.0⋅b)+i_2))⋅S(i_3, q, k, (b+k))⋅S(i_0, p, i_2, ((-1.0⋅b)+i_2))⋅4.0⋅U(i_3, i_1, k)'))\n",
      "notdirected\n",
      "\n",
      "  0.054651 seconds (608.96 k allocations: 20.508 MiB)\n",
      "32 symmetry\n",
      "∑((b, p, k, q, i_3), (U(q, i_1, k)⋅U(p, i_1, (b+i_2))⋅S(i_0, p, i_2, (b+i_2))⋅4.0⋅U(i_3, i_1, (b+k))'⋅S(q, i_3, k, (b+k))'))\n",
      "∑((b, p, k, q, i_3), (U(q, i_1, k)⋅U(p, i_1, (b+i_2))⋅S(i_3, q, (b+k), k)⋅S(i_0, p, i_2, (b+i_2))⋅4.0⋅U(i_3, i_1, (b+k))'))\n",
      "notdirected\n",
      "\n",
      "  0.046289 seconds (524.58 k allocations: 17.308 MiB)\n",
      "33 symmetry\n",
      "∑((b, p, k, q, i_3), (U(q, i_1, k)⋅U(p, i_1, ((-1.0⋅b)+i_2))⋅S(i_0, p, i_2, ((-1.0⋅b)+i_2))⋅4.0⋅U(i_3, i_1, ((-1.0⋅b)+k))'⋅S(q, i_3, k, ((-1.0⋅b)+k))'))\n",
      "∑((b, p, k, q, i_3), (U(q, i_1, k)⋅U(p, i_1, ((-1.0⋅b)+i_2))⋅S(i_3, q, ((-1.0⋅b)+k), k)⋅S(i_0, p, i_2, ((-1.0⋅b)+i_2))⋅4.0⋅U(i_3, i_1, ((-1.0⋅b)+k))'))\n",
      "notdirected\n",
      "\n",
      "  0.064869 seconds (619.47 k allocations: 20.733 MiB, 14.83% gc time)\n",
      "34 sum_sym\n",
      "∑((b, p, k, q, i_3), (U(q, i_1, (b+k))⋅U(p, i_1, ((-1.0⋅b)+i_2))⋅S(i_0, p, i_2, ((-1.0⋅b)+i_2))⋅4.0⋅U(i_3, i_1, k)'⋅S(q, i_3, (b+k), k)'))\n",
      "∑((b, p, k, q, i_3), (U(q, i_1, ((-1.0⋅b)+k))⋅U(p, i_1, (b+i_2))⋅S(i_0, p, i_2, (b+i_2))⋅4.0⋅U(i_3, i_1, k)'⋅S(q, i_3, ((-1.0⋅b)+k), k)'))\n",
      "notdirected\n",
      "\n",
      "  0.044326 seconds (533.68 k allocations: 17.527 MiB)\n",
      "35 symmetry\n",
      "∑((b, p, k, q, i_3), (U(q, i_1, (b+k))⋅U(p, i_1, ((-1.0⋅b)+i_2))⋅S(i_0, p, i_2, ((-1.0⋅b)+i_2))⋅4.0⋅U(i_3, i_1, k)'⋅S(q, i_3, (b+k), k)'))\n",
      "∑((b, p, k, q, i_3), (U(q, i_1, (b+k))⋅U(p, i_1, ((-1.0⋅b)+i_2))⋅S(i_3, q, k, (b+k))⋅S(i_0, p, i_2, ((-1.0⋅b)+i_2))⋅4.0⋅U(i_3, i_1, k)'))\n",
      "notdirected\n",
      "\n",
      "  0.065058 seconds (608.75 k allocations: 20.492 MiB, 14.03% gc time)\n",
      "36 symmetry\n",
      "∑((b, p, k, q, i_3), (U(q, i_1, k)⋅U(p, i_1, ((-1.0⋅b)+i_2))⋅4.0⋅U(i_3, i_1, ((-1.0⋅b)+k))'⋅S(q, i_3, k, ((-1.0⋅b)+k))'⋅S(p, i_0, ((-1.0⋅b)+i_2), i_2)'))\n",
      "∑((b, p, k, q, i_3), (U(q, i_1, k)⋅U(p, i_1, ((-1.0⋅b)+i_2))⋅S(i_0, p, i_2, ((-1.0⋅b)+i_2))⋅4.0⋅U(i_3, i_1, ((-1.0⋅b)+k))'⋅S(q, i_3, k, ((-1.0⋅b)+k))'))\n",
      "notdirected\n",
      "\n",
      "  0.065889 seconds (630.08 k allocations: 21.007 MiB, 14.41% gc time)\n",
      "37 symmetry\n",
      "∑((b, p, k, q, i_3), (U(q, i_1, k)⋅U(p, i_1, (b+i_2))⋅4.0⋅U(i_3, i_1, (b+k))'⋅S(q, i_3, k, (b+k))'⋅S(p, i_0, (b+i_2), i_2)'))\n",
      "∑((b, p, k, q, i_3), (U(q, i_1, k)⋅U(p, i_1, (b+i_2))⋅S(i_0, p, i_2, (b+i_2))⋅4.0⋅U(i_3, i_1, (b+k))'⋅S(q, i_3, k, (b+k))'))\n",
      "notdirected\n",
      "\n"
     ]
    },
    {
     "name": "stdout",
     "output_type": "stream",
     "text": [
      "  0.043629 seconds (541.40 k allocations: 17.714 MiB)\n",
      "38 sum_sym\n",
      "∑((b, p, k, q, i_3), (U(q, i_1, ((-1.0⋅b)+k))⋅U(p, i_1, (b+i_2))⋅4.0⋅U(i_3, i_1, k)'⋅S(q, i_3, ((-1.0⋅b)+k), k)'⋅S(p, i_0, (b+i_2), i_2)'))\n",
      "∑((b, p, k, q, i_3), (U(q, i_1, (b+k))⋅U(p, i_1, ((-1.0⋅b)+i_2))⋅4.0⋅U(i_3, i_1, k)'⋅S(q, i_3, (b+k), k)'⋅S(p, i_0, ((-1.0⋅b)+i_2), i_2)'))\n",
      "notdirected\n",
      "\n",
      "  0.064004 seconds (593.71 k allocations: 19.878 MiB, 15.01% gc time)\n",
      "39 symmetry\n",
      "∑((b, p, k, q, i_3), (U(q, i_1, ((-1.0⋅b)+k))⋅U(p, i_1, (b+i_2))⋅4.0⋅U(i_3, i_1, k)'⋅S(q, i_3, ((-1.0⋅b)+k), k)'⋅S(p, i_0, (b+i_2), i_2)'))\n",
      "∑((b, p, k, q, i_3), (U(q, i_1, ((-1.0⋅b)+k))⋅U(p, i_1, (b+i_2))⋅S(i_0, p, i_2, (b+i_2))⋅4.0⋅U(i_3, i_1, k)'⋅S(q, i_3, ((-1.0⋅b)+k), k)'))\n",
      "notdirected\n",
      "\n",
      "  0.043811 seconds (533.38 k allocations: 17.523 MiB)\n",
      "40 symmetry\n",
      "∑((b, p, k, q, i_3), (U(q, i_1, ((-1.0⋅b)+k))⋅U(p, i_1, (b+i_2))⋅S(i_3, q, k, ((-1.0⋅b)+k))⋅4.0⋅U(i_3, i_1, k)'⋅S(p, i_0, (b+i_2), i_2)'))\n",
      "∑((b, p, k, q, i_3), (U(q, i_1, ((-1.0⋅b)+k))⋅U(p, i_1, (b+i_2))⋅S(i_3, q, k, ((-1.0⋅b)+k))⋅S(i_0, p, i_2, (b+i_2))⋅4.0⋅U(i_3, i_1, k)'))\n",
      "notdirected\n",
      "\n",
      "  0.054694 seconds (529.03 k allocations: 17.435 MiB, 16.79% gc time)\n",
      "41 symmetry\n",
      "∑((b, p, k, q, i_3), (U(q, i_1, k)⋅U(p, i_1, (b+i_2))⋅S(i_3, q, (b+k), k)⋅4.0⋅U(i_3, i_1, (b+k))'⋅S(p, i_0, (b+i_2), i_2)'))\n",
      "∑((b, p, k, q, i_3), (U(q, i_1, k)⋅U(p, i_1, (b+i_2))⋅4.0⋅U(i_3, i_1, (b+k))'⋅S(q, i_3, k, (b+k))'⋅S(p, i_0, (b+i_2), i_2)'))\n",
      "notdirected\n",
      "\n",
      "  0.041103 seconds (509.29 k allocations: 16.676 MiB)\n",
      "42 symmetry\n",
      "∑((b, p, k, q, i_3), (U(q, i_1, k)⋅U(p, i_1, (b+i_2))⋅S(i_3, q, (b+k), k)⋅4.0⋅U(i_3, i_1, (b+k))'⋅S(p, i_0, (b+i_2), i_2)'))\n",
      "∑((b, p, k, q, i_3), (U(q, i_1, k)⋅U(p, i_1, (b+i_2))⋅S(i_3, q, (b+k), k)⋅S(i_0, p, i_2, (b+i_2))⋅4.0⋅U(i_3, i_1, (b+k))'))\n",
      "notdirected\n",
      "\n",
      "  0.045573 seconds (524.54 k allocations: 17.306 MiB)\n",
      "43 symmetry\n",
      "∑((b, p, k, q, i_3), (U(q, i_1, k)⋅U(p, i_1, ((-1.0⋅b)+i_2))⋅S(i_3, q, ((-1.0⋅b)+k), k)⋅4.0⋅U(i_3, i_1, ((-1.0⋅b)+k))'⋅S(p, i_0, ((-1.0⋅b)+i_2), i_2)'))\n",
      "∑((b, p, k, q, i_3), (U(q, i_1, k)⋅U(p, i_1, ((-1.0⋅b)+i_2))⋅4.0⋅U(i_3, i_1, ((-1.0⋅b)+k))'⋅S(q, i_3, k, ((-1.0⋅b)+k))'⋅S(p, i_0, ((-1.0⋅b)+i_2), i_2)'))\n",
      "notdirected\n",
      "\n",
      "  0.063608 seconds (609.05 k allocations: 20.312 MiB, 15.28% gc time)\n",
      "44 symmetry\n",
      "∑((b, p, k, q, i_3), (U(q, i_1, k)⋅U(p, i_1, ((-1.0⋅b)+i_2))⋅S(i_3, q, ((-1.0⋅b)+k), k)⋅4.0⋅U(i_3, i_1, ((-1.0⋅b)+k))'⋅S(p, i_0, ((-1.0⋅b)+i_2), i_2)'))\n",
      "∑((b, p, k, q, i_3), (U(q, i_1, k)⋅U(p, i_1, ((-1.0⋅b)+i_2))⋅S(i_3, q, ((-1.0⋅b)+k), k)⋅S(i_0, p, i_2, ((-1.0⋅b)+i_2))⋅4.0⋅U(i_3, i_1, ((-1.0⋅b)+k))'))\n",
      "notdirected\n",
      "\n",
      "  0.053777 seconds (619.44 k allocations: 20.732 MiB)\n",
      "45 sum_sym\n",
      "∑((b, p, k, q, i_3), (U(q, i_1, (b+k))⋅U(p, i_1, ((-1.0⋅b)+i_2))⋅S(i_3, q, k, (b+k))⋅4.0⋅U(i_3, i_1, k)'⋅S(p, i_0, ((-1.0⋅b)+i_2), i_2)'))\n",
      "∑((b, p, k, q, i_3), (U(q, i_1, ((-1.0⋅b)+k))⋅U(p, i_1, (b+i_2))⋅S(i_3, q, k, ((-1.0⋅b)+k))⋅4.0⋅U(i_3, i_1, k)'⋅S(p, i_0, (b+i_2), i_2)'))\n",
      "notdirected\n",
      "\n",
      "  0.051808 seconds (488.31 k allocations: 16.186 MiB, 17.84% gc time)\n",
      "46 symmetry\n",
      "∑((b, p, k, q, i_3), (U(q, i_1, (b+k))⋅U(p, i_1, ((-1.0⋅b)+i_2))⋅S(i_3, q, k, (b+k))⋅4.0⋅U(i_3, i_1, k)'⋅S(p, i_0, ((-1.0⋅b)+i_2), i_2)'))\n",
      "∑((b, p, k, q, i_3), (U(q, i_1, (b+k))⋅U(p, i_1, ((-1.0⋅b)+i_2))⋅4.0⋅U(i_3, i_1, k)'⋅S(q, i_3, (b+k), k)'⋅S(p, i_0, ((-1.0⋅b)+i_2), i_2)'))\n",
      "notdirected\n",
      "\n",
      "  0.051949 seconds (593.75 k allocations: 19.880 MiB)\n",
      "47 symmetry\n",
      "∑((b, p, k, q, i_3), (U(q, i_1, (b+k))⋅U(p, i_1, ((-1.0⋅b)+i_2))⋅S(i_3, q, k, (b+k))⋅4.0⋅U(i_3, i_1, k)'⋅S(p, i_0, ((-1.0⋅b)+i_2), i_2)'))\n",
      "∑((b, p, k, q, i_3), (U(q, i_1, (b+k))⋅U(p, i_1, ((-1.0⋅b)+i_2))⋅S(i_3, q, k, (b+k))⋅S(i_0, p, i_2, ((-1.0⋅b)+i_2))⋅4.0⋅U(i_3, i_1, k)'))\n",
      "notdirected\n",
      "\n",
      "  0.053867 seconds (609.00 k allocations: 20.514 MiB)\n"
     ]
    },
    {
     "data": {
      "text/latex": [
       "$\\left(i_0, i_1, i_2\\right) \\to \\sum_{b, p, k, q, i_3}\\left[(U_{q, i_1, k}\\cdot U_{p, i_1, \\left(b+i_2\\right)}\\cdot S_{i_3, q, \\left(b+k\\right), k}\\cdot S_{i_0, p, i_2, \\left(b+i_2\\right)}\\cdot 4.0\\cdot U_{i_3, i_1, \\left(b+k\\right)}^*)\\right]$"
      ],
      "text/plain": [
       "(i_0, i_1, i_2) -> \n",
       "    ∑((b, p, k, q, i_3), (U(q, i_1, k)⋅U(p, i_1, (b+i_2))⋅S(i_3, q, (b+k), k)⋅S(i_0, p, i_2, (b+i_2))⋅4.0⋅U(i_3, i_1, (b+k))'))"
      ]
     },
     "execution_count": 70,
     "metadata": {},
     "output_type": "execute_result"
    }
   ],
   "source": [
    "g_4 = simplify(g_3; settings=Dict(:symmetry=>true)) |> first"
   ]
  },
  {
   "cell_type": "code",
   "execution_count": 71,
   "id": "3fe12172",
   "metadata": {},
   "outputs": [
    {
     "name": "stdout",
     "output_type": "stream",
     "text": [
      "  0.000039 seconds (186 allocations: 7.266 KiB)\n",
      "1 sum_out\n",
      "∑((b, p, k, q, i_3), (U(q, i_1, k)⋅U(p, i_1, (b+i_2))⋅S(i_3, q, (b+k), k)⋅S(i_0, p, i_2, (b+i_2))⋅4.0⋅U(i_3, i_1, (b+k))'))\n",
      "∑((p, k, q, i_3), (U(q, i_1, k)⋅∑((b), (U(p, i_1, (b+i_2))⋅S(i_3, q, (b+k), k)⋅S(i_0, p, i_2, (b+i_2))⋅U(i_3, i_1, (b+k))'))⋅4.0))\n",
      "yesdirected!\n",
      "\n",
      "  0.000053 seconds (293 allocations: 11.453 KiB)\n",
      "2 sum_out\n",
      "∑((p, k, q, i_3), (U(q, i_1, k)⋅∑((b), (U(p, i_1, (b+i_2))⋅S(i_3, q, (b+k), k)⋅S(i_0, p, i_2, (b+i_2))⋅U(i_3, i_1, (b+k))'))⋅4.0))\n",
      "∑((k, q, i_3), (U(q, i_1, k)⋅∑((p, b), (U(p, i_1, (b+i_2))⋅S(i_3, q, (b+k), k)⋅S(i_0, p, i_2, (b+i_2))⋅U(i_3, i_1, (b+k))'))⋅4.0))\n",
      "yesdirected!\n",
      "\n",
      "  0.000473 seconds (3.29 k allocations: 146.906 KiB)\n",
      "3 sum_out\n",
      "∑((k, q, i_3), (U(q, i_1, k)⋅∑((p, b), (U(p, i_1, (b+i_2))⋅S(i_3, q, (b+k), k)⋅S(i_0, p, i_2, (b+i_2))⋅U(i_3, i_1, (b+k))'))⋅4.0))\n",
      "∑((q, i_3), (∑((k), (U(q, i_1, k)⋅∑((p, b), (U(p, i_1, (b+i_2))⋅S(i_3, q, (b+k), k)⋅S(i_0, p, i_2, (b+i_2))⋅U(i_3, i_1, (b+k))'))))⋅4.0))\n",
      "yesdirected!\n",
      "\n",
      "  0.000686 seconds (6.80 k allocations: 261.422 KiB)\n",
      "4 sum_out\n",
      "∑((q, i_3), (∑((k), (U(q, i_1, k)⋅∑((p, b), (U(p, i_1, (b+i_2))⋅S(i_3, q, (b+k), k)⋅S(i_0, p, i_2, (b+i_2))⋅U(i_3, i_1, (b+k))'))))⋅4.0))\n",
      "∑((i_3), (∑((q, k), (U(q, i_1, k)⋅∑((p, b), (U(p, i_1, (b+i_2))⋅S(i_3, q, (b+k), k)⋅S(i_0, p, i_2, (b+i_2))⋅U(i_3, i_1, (b+k))'))))⋅4.0))\n",
      "yesdirected!\n",
      "\n",
      "  0.000515 seconds (5.61 k allocations: 217.688 KiB)\n",
      "5 sum_out\n",
      "∑((i_3), (∑((q, k), (U(q, i_1, k)⋅∑((p, b), (U(p, i_1, (b+i_2))⋅S(i_3, q, (b+k), k)⋅S(i_0, p, i_2, (b+i_2))⋅U(i_3, i_1, (b+k))'))))⋅4.0))\n",
      "(∑((i_3, q, k), (U(q, i_1, k)⋅∑((p, b), (U(p, i_1, (b+i_2))⋅S(i_3, q, (b+k), k)⋅S(i_0, p, i_2, (b+i_2))⋅U(i_3, i_1, (b+k))'))))⋅4.0)\n",
      "yesdirected!\n",
      "\n",
      "  0.000411 seconds (4.47 k allocations: 180.328 KiB)\n",
      "6 sum_out\n",
      "(∑((i_3, q, k), (U(q, i_1, k)⋅∑((p, b), (U(p, i_1, (b+i_2))⋅S(i_3, q, (b+k), k)⋅S(i_0, p, i_2, (b+i_2))⋅U(i_3, i_1, (b+k))'))))⋅4.0)\n",
      "(∑((q, k), (U(q, i_1, k)⋅∑((i_3, p, b), (U(p, i_1, (b+i_2))⋅S(i_3, q, (b+k), k)⋅S(i_0, p, i_2, (b+i_2))⋅U(i_3, i_1, (b+k))'))))⋅4.0)\n",
      "yesdirected!\n",
      "\n",
      "  0.000534 seconds (5.92 k allocations: 229.109 KiB)\n",
      "7 sum_out\n",
      "(∑((q, k), (U(q, i_1, k)⋅∑((i_3, p, b), (U(p, i_1, (b+i_2))⋅S(i_3, q, (b+k), k)⋅S(i_0, p, i_2, (b+i_2))⋅U(i_3, i_1, (b+k))'))))⋅4.0)\n",
      "(∑((q, k), (U(q, i_1, k)⋅∑((p, b), (U(p, i_1, (b+i_2))⋅S(i_0, p, i_2, (b+i_2))⋅∑((i_3), (S(i_3, q, (b+k), k)⋅U(i_3, i_1, (b+k))'))))))⋅4.0)\n",
      "yesdirected!\n",
      "\n",
      "  0.000372 seconds (4.39 k allocations: 154.500 KiB)\n",
      "8 sum_out\n",
      "(∑((q, k), (U(q, i_1, k)⋅∑((p, b), (U(p, i_1, (b+i_2))⋅S(i_0, p, i_2, (b+i_2))⋅∑((i_3), (S(i_3, q, (b+k), k)⋅U(i_3, i_1, (b+k))'))))))⋅4.0)\n",
      "(∑((q, k), (U(q, i_1, k)⋅∑((b), (∑((i_3), (S(i_3, q, (b+k), k)⋅U(i_3, i_1, (b+k))'))⋅∑((p), (U(p, i_1, (b+i_2))⋅S(i_0, p, i_2, (b+i_2))))))))⋅4.0)\n",
      "yesdirected!\n",
      "\n",
      "  0.000001 seconds\n"
     ]
    },
    {
     "data": {
      "text/latex": [
       "$\\left(i_0, i_1, i_2\\right) \\to (\\sum_{q, k}\\left[(U_{q, i_1, k}\\cdot \\sum_{b}\\left[(\\sum_{i_3}\\left[(S_{i_3, q, \\left(b+k\\right), k}\\cdot U_{i_3, i_1, \\left(b+k\\right)}^*)\\right]\\cdot \\sum_{p}\\left[(U_{p, i_1, \\left(b+i_2\\right)}\\cdot S_{i_0, p, i_2, \\left(b+i_2\\right)})\\right])\\right])\\right]\\cdot 4.0)$"
      ],
      "text/plain": [
       "(i_0, i_1, i_2) -> \n",
       "    (∑((q, k), (U(q, i_1, k)⋅∑((b), (∑((i_3), (S(i_3, q, (b+k), k)⋅U(i_3, i_1, (b+k))'))⋅∑((p), (U(p, i_1, (b+i_2))⋅S(i_0, p, i_2, (b+i_2))))))))⋅4.0)"
      ]
     },
     "execution_count": 71,
     "metadata": {},
     "output_type": "execute_result"
    }
   ],
   "source": [
    "g_5 = simplify(g_4; settings=Dict(:clench_sum=>true)) |> first"
   ]
  },
  {
   "cell_type": "code",
   "execution_count": 36,
   "id": "65b92c73",
   "metadata": {},
   "outputs": [
    {
     "name": "stderr",
     "output_type": "stream",
     "text": [
      "\u001b[33m\u001b[1m┌ \u001b[22m\u001b[39m\u001b[33m\u001b[1mWarning: \u001b[22m\u001b[39mThe profile data buffer is full; profiling probably terminated\n",
      "\u001b[33m\u001b[1m│ \u001b[22m\u001b[39mbefore your program finished. To profile for longer runs, call\n",
      "\u001b[33m\u001b[1m│ \u001b[22m\u001b[39m`Profile.init()` with a larger buffer and/or larger delay.\n",
      "\u001b[33m\u001b[1m└ \u001b[22m\u001b[39m\u001b[90m@ Profile /Applications/Julia-1.9.app/Contents/Resources/julia/share/julia/stdlib/v1.9/Profile/src/Profile.jl:639\u001b[39m\n"
     ]
    },
    {
     "data": {
      "text/plain": [
       "\"profile.pb.gz\""
      ]
     },
     "execution_count": 36,
     "metadata": {},
     "output_type": "execute_result"
    },
    {
     "name": "stderr",
     "output_type": "stream",
     "text": [
      "Main binary filename not available.\n",
      "Serving web UI on http://localhost:57599\n"
     ]
    }
   ],
   "source": [
    "pprof()"
   ]
  },
  {
   "cell_type": "code",
   "execution_count": 13,
   "id": "89b0dd2c",
   "metadata": {},
   "outputs": [
    {
     "data": {
      "text/latex": [
       "$(2.0\\cdot \\left(\\sum_{b, q}\\left[(\\sum_{k, q}\\left[(U_{q, i_1, \\left(b+k\\right)}^*\\cdot \\sum_{p}\\left[(S_{p, q, k, \\left(b+k\\right)}^*\\cdot U_{p, i_1, k})\\right])\\right]\\cdot U_{q, i_1, \\left(i_2+b\\right)}\\cdot S_{i_0, q, i_2, \\left(i_2+b\\right)})\\right]+\\sum_{b, p}\\left[(S_{p, i_0, \\left(i_2+(-1.0\\cdot b)\\right), i_2}^*\\cdot \\sum_{k, q}\\left[(\\sum_{p}\\left[(U_{p, i_1, k}^*\\cdot S_{p, q, k, \\left(b+k\\right)})\\right]\\cdot U_{q, i_1, \\left(b+k\\right)})\\right]\\cdot U_{p, i_1, \\left(i_2+(-1.0\\cdot b)\\right)})\\right]\\right))$"
      ],
      "text/plain": [
       "(2.0⋅(∑((b, q), (∑((k, q), (U(q, i_1, (b+k))'⋅∑((p), (S(p, q, k, (b+k))'⋅U(p, i_1, k)))))⋅U(q, i_1, (i_2+b))⋅S(i_0, q, i_2, (i_2+b))))+∑((b, p), (S(p, i_0, (i_2+(-1.0⋅b)), i_2)'⋅∑((k, q), (∑((p), (U(p, i_1, k)'⋅S(p, q, k, (b+k))))⋅U(q, i_1, (b+k))))⋅U(p, i_1, (i_2+(-1.0⋅b)))))))"
      ]
     },
     "execution_count": 13,
     "metadata": {},
     "output_type": "execute_result"
    }
   ],
   "source": [
    "settings = Dict(:symmetry => true)\n",
    "nb(n) = neighbors(n; settings=settings)\n",
    "fc(g_3)"
   ]
  },
  {
   "cell_type": "code",
   "execution_count": 19,
   "id": "7f60d39c",
   "metadata": {},
   "outputs": [
    {
     "data": {
      "text/plain": [
       "Gtk.GtkWindowLeaf(name=\"\", parent, width-request=-1, height-request=-1, visible=TRUE, sensitive=TRUE, app-paintable=FALSE, can-focus=FALSE, has-focus=FALSE, is-focus=FALSE, focus-on-click=TRUE, can-default=FALSE, has-default=FALSE, receives-default=FALSE, composite-child=FALSE, style, events=0, no-show-all=FALSE, has-tooltip=FALSE, tooltip-markup=NULL, tooltip-text=NULL, window, opacity=1.000000, double-buffered, halign=GTK_ALIGN_FILL, valign=GTK_ALIGN_FILL, margin-left, margin-right, margin-start=0, margin-end=0, margin-top=0, margin-bottom=0, margin=0, hexpand=FALSE, vexpand=FALSE, hexpand-set=FALSE, vexpand-set=FALSE, expand=FALSE, scale-factor=1, border-width=0, resize-mode, child, type=GTK_WINDOW_TOPLEVEL, title=\"Profile  -  11:21:24\", role=NULL, resizable=TRUE, modal=FALSE, window-position=GTK_WIN_POS_NONE, default-width=800, default-height=600, destroy-with-parent=FALSE, hide-titlebar-when-maximized=FALSE, icon, icon-name=NULL, screen, type-hint=GDK_WINDOW_TYPE_HINT_NORMAL, skip-taskbar-hint=FALSE, skip-pager-hint=FALSE, urgency-hint=FALSE, accept-focus=TRUE, focus-on-map=TRUE, decorated=TRUE, deletable=TRUE, gravity=GDK_GRAVITY_NORTH_WEST, transient-for, attached-to, has-resize-grip, resize-grip-visible, application, is-active=FALSE, has-toplevel-focus=FALSE, startup-id, mnemonics-visible=FALSE, focus-visible=FALSE, is-maximized=FALSE)"
      ]
     },
     "execution_count": 19,
     "metadata": {},
     "output_type": "execute_result"
    }
   ],
   "source": [
    "@profview fc(g_3) |> nb"
   ]
  },
  {
   "cell_type": "code",
   "execution_count": 70,
   "id": "6392c890",
   "metadata": {},
   "outputs": [
    {
     "data": {
      "text/latex": [
       "$(\\left(\\sum_{b, q}\\left[(U_{q, i_1, \\left(i_2+(b\\cdot -1.0)\\right)}\\cdot S_{q, i_0, \\left(i_2+(b\\cdot -1.0)\\right), i_2}^*\\cdot \\sum_{k, q}\\left[(U_{q, i_1, \\left(k+(b\\cdot -1.0)\\right)}^*\\cdot \\sum_{p}\\left[(U_{p, i_1, k}\\cdot S_{q, p, \\left(k+(b\\cdot -1.0)\\right), k})\\right])\\right])\\right]+\\sum_{b, p}\\left[(U_{p, i_1, \\left(i_2+(b\\cdot -1.0)\\right)}\\cdot S_{p, i_0, \\left(i_2+(b\\cdot -1.0)\\right), i_2}^*\\cdot \\sum_{k, q}\\left[(U_{q, i_1, \\left(b+k\\right)}\\cdot \\sum_{p}\\left[(S_{p, q, k, \\left(b+k\\right)}\\cdot U_{p, i_1, k}^*)\\right])\\right])\\right]\\right)\\cdot 2.0)$"
      ],
      "text/plain": [
       "((∑((b, q), (U(q, i_1, (i_2+(b⋅-1.0)))⋅S(q, i_0, (i_2+(b⋅-1.0)), i_2)'⋅∑((k, q), (U(q, i_1, (k+(b⋅-1.0)))'⋅∑((p), (U(p, i_1, k)⋅S(q, p, (k+(b⋅-1.0)), k)))))))+∑((b, p), (U(p, i_1, (i_2+(b⋅-1.0)))⋅S(p, i_0, (i_2+(b⋅-1.0)), i_2)'⋅∑((k, q), (U(q, i_1, (b+k))⋅∑((p), (S(p, q, k, (b+k))⋅U(p, i_1, k)')))))))⋅2.0)"
      ]
     },
     "execution_count": 70,
     "metadata": {},
     "output_type": "execute_result"
    }
   ],
   "source": [
    "y = ((nb(fc(g_3))[2] |> first |> nb)[1] |> first |> nb)[4] |> first"
   ]
  },
  {
   "cell_type": "code",
   "execution_count": 92,
   "id": "72e1afa6",
   "metadata": {},
   "outputs": [
    {
     "name": "stderr",
     "output_type": "stream",
     "text": [
      "\u001b[33m\u001b[1m┌ \u001b[22m\u001b[39m\u001b[33m\u001b[1mWarning: \u001b[22m\u001b[39mThe profile data buffer is full; profiling probably terminated\n",
      "\u001b[33m\u001b[1m│ \u001b[22m\u001b[39mbefore your program finished. To profile for longer runs, call\n",
      "\u001b[33m\u001b[1m│ \u001b[22m\u001b[39m`Profile.init()` with a larger buffer and/or larger delay.\n",
      "\u001b[33m\u001b[1m└ \u001b[22m\u001b[39m\u001b[90m@ Profile /Applications/Julia-1.9.app/Contents/Resources/julia/share/julia/stdlib/v1.9/Profile/src/Profile.jl:639\u001b[39m\n"
     ]
    },
    {
     "data": {
      "text/plain": [
       "\"profile.pb.gz\""
      ]
     },
     "execution_count": 92,
     "metadata": {},
     "output_type": "execute_result"
    },
    {
     "name": "stderr",
     "output_type": "stream",
     "text": [
      "Main binary filename not available.\n",
      "Serving web UI on http://localhost:57599\n",
      "no matches found for regexp: \n"
     ]
    }
   ],
   "source": [
    "@profile (y |> nb)\n",
    "pprof()"
   ]
  },
  {
   "cell_type": "code",
   "execution_count": 29,
   "id": "fad262fd",
   "metadata": {},
   "outputs": [
    {
     "name": "stdout",
     "output_type": "stream",
     "text": [
      "  0.005184 seconds (20.85 k allocations: 768.937 KiB, 56.17% compilation time: 100% of which was recompilation)\n",
      "1 sum_in\n",
      "∑((b, p), (U(p, i_1, ((-1.0⋅b)+i_2))⋅∑((k, q), (U(q, i_1, (b+k))⋅∑((p), (S(p, q, k, (b+k))⋅U(p, i_1, k)'))))⋅S(p, i_0, ((-1.0⋅b)+i_2), i_2)'))\n",
      "∑((b, p, k, q), (U(q, i_1, (b+k))⋅U(p, i_1, ((-1.0⋅b)+i_2))⋅∑((p), (S(p, q, k, (b+k))⋅U(p, i_1, k)'))⋅S(p, i_0, ((-1.0⋅b)+i_2), i_2)'))\n",
      "yesdirected!\n",
      "\n",
      "  0.002427 seconds (26.96 k allocations: 941.922 KiB)\n",
      "2 sum_in\n",
      "∑((b, p, k, q), (U(q, i_1, (b+k))⋅U(p, i_1, ((-1.0⋅b)+i_2))⋅∑((p), (S(p, q, k, (b+k))⋅U(p, i_1, k)'))⋅S(p, i_0, ((-1.0⋅b)+i_2), i_2)'))\n",
      "∑((b, p, k, q, i_3), (U(q, i_1, (b+k))⋅U(p, i_1, ((-1.0⋅b)+i_2))⋅S(i_3, q, k, (b+k))⋅U(i_3, i_1, k)'⋅S(p, i_0, ((-1.0⋅b)+i_2), i_2)'))\n",
      "yesdirected!\n",
      "\n",
      "  0.002043 seconds (27.14 k allocations: 942.297 KiB)\n",
      "3 shift\n",
      "∑((b, p, k, q, i_3), (U(q, i_1, (b+k))⋅U(p, i_1, ((-1.0⋅b)+i_2))⋅S(i_3, q, k, (b+k))⋅U(i_3, i_1, k)'⋅S(p, i_0, ((-1.0⋅b)+i_2), i_2)'))\n",
      "∑((b, p, k, q, i_3), (U(q, i_1, k)⋅U(p, i_1, ((-1.0⋅b)+i_2))⋅S(i_3, q, ((-1.0⋅b)+k), k)⋅U(i_3, i_1, ((-1.0⋅b)+k))'⋅S(p, i_0, ((-1.0⋅b)+i_2), i_2)'))\n",
      "notdirected\n",
      "\n",
      "  0.021384 seconds (140.38 k allocations: 4.834 MiB, 52.48% compilation time)\n",
      "4 sum_sym\n",
      "∑((b, p, k, q, i_3), (U(q, i_1, k)⋅U(p, i_1, ((-1.0⋅b)+i_2))⋅S(i_3, q, ((-1.0⋅b)+k), k)⋅U(i_3, i_1, ((-1.0⋅b)+k))'⋅S(p, i_0, ((-1.0⋅b)+i_2), i_2)'))\n",
      "∑((b, p, k, q, i_3), (U(q, i_1, k)⋅U(p, i_1, (b+i_2))⋅S(i_3, q, (b+k), k)⋅U(i_3, i_1, (b+k))'⋅S(p, i_0, (b+i_2), i_2)'))\n",
      "notdirected\n",
      "\n",
      "  0.013844 seconds (169.18 k allocations: 5.390 MiB)\n",
      "5 shift\n",
      "∑((b, p, k, q, i_3), (U(q, i_1, k)⋅U(p, i_1, (b+i_2))⋅S(i_3, q, (b+k), k)⋅U(i_3, i_1, (b+k))'⋅S(p, i_0, (b+i_2), i_2)'))\n",
      "∑((b, p, k, q, i_3), (U(q, i_1, ((-1.0⋅b)+k))⋅U(p, i_1, (b+i_2))⋅S(i_3, q, k, ((-1.0⋅b)+k))⋅U(i_3, i_1, k)'⋅S(p, i_0, (b+i_2), i_2)'))\n",
      "notdirected\n",
      "\n",
      "  0.014044 seconds (198.37 k allocations: 5.994 MiB)\n",
      "6 symmetry\n",
      "∑((b, p, k, q, i_3), (U(q, i_1, ((-1.0⋅b)+k))⋅U(p, i_1, (b+i_2))⋅S(i_3, q, k, ((-1.0⋅b)+k))⋅U(i_3, i_1, k)'⋅S(p, i_0, (b+i_2), i_2)'))\n",
      "∑((b, p, k, q, i_3), (U(q, i_1, ((-1.0⋅b)+k))⋅U(p, i_1, (b+i_2))⋅U(i_3, i_1, k)'⋅S(q, i_3, ((-1.0⋅b)+k), k)'⋅S(p, i_0, (b+i_2), i_2)'))\n",
      "notdirected\n",
      "\n",
      "  0.012316 seconds (170.60 k allocations: 5.146 MiB)\n",
      "7 shift\n",
      "∑((b, p, k, q, i_3), (U(q, i_1, ((-1.0⋅b)+k))⋅U(p, i_1, (b+i_2))⋅U(i_3, i_1, k)'⋅S(q, i_3, ((-1.0⋅b)+k), k)'⋅S(p, i_0, (b+i_2), i_2)'))\n",
      "∑((b, p, k, q, i_3), (U(q, i_1, k)⋅U(p, i_1, (b+i_2))⋅U(i_3, i_1, (b+k))'⋅S(q, i_3, k, (b+k))'⋅S(p, i_0, (b+i_2), i_2)'))\n",
      "notdirected\n",
      "\n",
      "  0.027215 seconds (217.87 k allocations: 6.463 MiB, 39.56% gc time)\n",
      "8 sum_sym\n",
      "∑((b, p, k, q, i_3), (U(q, i_1, k)⋅U(p, i_1, (b+i_2))⋅U(i_3, i_1, (b+k))'⋅S(q, i_3, k, (b+k))'⋅S(p, i_0, (b+i_2), i_2)'))\n",
      "∑((b, p, k, q, i_3), (U(q, i_1, k)⋅U(p, i_1, ((-1.0⋅b)+i_2))⋅U(i_3, i_1, ((-1.0⋅b)+k))'⋅S(q, i_3, k, ((-1.0⋅b)+k))'⋅S(p, i_0, ((-1.0⋅b)+i_2), i_2)'))\n",
      "notdirected\n",
      "\n",
      "  0.018678 seconds (249.34 k allocations: 7.621 MiB)\n",
      "9 shift\n",
      "∑((b, p, k, q, i_3), (U(q, i_1, k)⋅U(p, i_1, ((-1.0⋅b)+i_2))⋅U(i_3, i_1, ((-1.0⋅b)+k))'⋅S(q, i_3, k, ((-1.0⋅b)+k))'⋅S(p, i_0, ((-1.0⋅b)+i_2), i_2)'))\n",
      "∑((b, p, k, q, i_3), (U(q, i_1, (b+k))⋅U(p, i_1, ((-1.0⋅b)+i_2))⋅U(i_3, i_1, k)'⋅S(q, i_3, (b+k), k)'⋅S(p, i_0, ((-1.0⋅b)+i_2), i_2)'))\n",
      "notdirected\n",
      "\n",
      "  0.032389 seconds (426.28 k allocations: 13.046 MiB)\n",
      "10 symmetry\n",
      "∑((b, p, k, q, i_3), (U(q, i_1, (b+k))⋅U(p, i_1, ((-1.0⋅b)+i_2))⋅U(i_3, i_1, k)'⋅S(q, i_3, (b+k), k)'⋅S(p, i_0, ((-1.0⋅b)+i_2), i_2)'))\n",
      "∑((b, p, k, q, i_3), (U(q, i_1, (b+k))⋅U(p, i_1, ((-1.0⋅b)+i_2))⋅S(i_0, p, i_2, ((-1.0⋅b)+i_2))⋅U(i_3, i_1, k)'⋅S(q, i_3, (b+k), k)'))\n",
      "notdirected\n",
      "\n",
      "  0.013981 seconds (204.57 k allocations: 5.950 MiB)\n",
      "11 shift\n",
      "∑((b, p, k, q, i_3), (U(q, i_1, (b+k))⋅U(p, i_1, ((-1.0⋅b)+i_2))⋅S(i_0, p, i_2, ((-1.0⋅b)+i_2))⋅U(i_3, i_1, k)'⋅S(q, i_3, (b+k), k)'))\n",
      "∑((b, p, k, q, i_3), (U(q, i_1, k)⋅U(p, i_1, ((-1.0⋅b)+i_2))⋅S(i_0, p, i_2, ((-1.0⋅b)+i_2))⋅U(i_3, i_1, ((-1.0⋅b)+k))'⋅S(q, i_3, k, ((-1.0⋅b)+k))'))\n",
      "notdirected\n",
      "\n",
      "  0.025767 seconds (335.54 k allocations: 10.180 MiB)\n",
      "12 sum_sym\n",
      "∑((b, p, k, q, i_3), (U(q, i_1, k)⋅U(p, i_1, ((-1.0⋅b)+i_2))⋅S(i_0, p, i_2, ((-1.0⋅b)+i_2))⋅U(i_3, i_1, ((-1.0⋅b)+k))'⋅S(q, i_3, k, ((-1.0⋅b)+k))'))\n",
      "∑((b, p, k, q, i_3), (U(q, i_1, k)⋅U(p, i_1, (b+i_2))⋅S(i_0, p, i_2, (b+i_2))⋅U(i_3, i_1, (b+k))'⋅S(q, i_3, k, (b+k))'))\n",
      "notdirected\n",
      "\n",
      "  0.019589 seconds (270.44 k allocations: 8.150 MiB)\n",
      "13 shift\n",
      "∑((b, p, k, q, i_3), (U(q, i_1, k)⋅U(p, i_1, (b+i_2))⋅S(i_0, p, i_2, (b+i_2))⋅U(i_3, i_1, (b+k))'⋅S(q, i_3, k, (b+k))'))\n",
      "∑((b, p, k, q, i_3), (U(q, i_1, ((-1.0⋅b)+k))⋅U(p, i_1, (b+i_2))⋅S(i_0, p, i_2, (b+i_2))⋅U(i_3, i_1, k)'⋅S(q, i_3, ((-1.0⋅b)+k), k)'))\n",
      "notdirected\n",
      "\n",
      "  0.024296 seconds (346.79 k allocations: 10.310 MiB)\n",
      "14 symmetry\n",
      "∑((b, p, k, q, i_3), (U(q, i_1, ((-1.0⋅b)+k))⋅U(p, i_1, (b+i_2))⋅S(i_0, p, i_2, (b+i_2))⋅U(i_3, i_1, k)'⋅S(q, i_3, ((-1.0⋅b)+k), k)'))\n",
      "∑((b, p, k, q, i_3), (U(q, i_1, ((-1.0⋅b)+k))⋅U(p, i_1, (b+i_2))⋅S(i_3, q, k, ((-1.0⋅b)+k))⋅S(i_0, p, i_2, (b+i_2))⋅U(i_3, i_1, k)'))\n",
      "notdirected\n",
      "\n",
      "  0.031280 seconds (285.83 k allocations: 8.619 MiB, 30.44% gc time)\n",
      "15 shift\n",
      "∑((b, p, k, q, i_3), (U(q, i_1, ((-1.0⋅b)+k))⋅U(p, i_1, (b+i_2))⋅S(i_3, q, k, ((-1.0⋅b)+k))⋅S(i_0, p, i_2, (b+i_2))⋅U(i_3, i_1, k)'))\n",
      "∑((b, p, k, q, i_3), (U(q, i_1, k)⋅U(p, i_1, (b+i_2))⋅S(i_3, q, (b+k), k)⋅S(i_0, p, i_2, (b+i_2))⋅U(i_3, i_1, (b+k))'))\n",
      "notdirected\n",
      "\n",
      "  0.019752 seconds (277.41 k allocations: 8.175 MiB)\n",
      "16 sum_sym\n",
      "∑((b, p, k, q, i_3), (U(q, i_1, k)⋅U(p, i_1, (b+i_2))⋅S(i_3, q, (b+k), k)⋅S(i_0, p, i_2, (b+i_2))⋅U(i_3, i_1, (b+k))'))\n",
      "∑((b, p, k, q, i_3), (U(q, i_1, k)⋅U(p, i_1, ((-1.0⋅b)+i_2))⋅S(i_3, q, ((-1.0⋅b)+k), k)⋅S(i_0, p, i_2, ((-1.0⋅b)+i_2))⋅U(i_3, i_1, ((-1.0⋅b)+k))'))\n",
      "notdirected\n",
      "\n",
      "  0.031665 seconds (399.34 k allocations: 12.350 MiB)\n",
      "17 shift\n",
      "∑((b, p, k, q, i_3), (U(q, i_1, k)⋅U(p, i_1, ((-1.0⋅b)+i_2))⋅S(i_3, q, ((-1.0⋅b)+k), k)⋅S(i_0, p, i_2, ((-1.0⋅b)+i_2))⋅U(i_3, i_1, ((-1.0⋅b)+k))'))\n",
      "∑((b, p, k, q, i_3), (U(q, i_1, (b+k))⋅U(p, i_1, ((-1.0⋅b)+i_2))⋅S(i_3, q, k, (b+k))⋅S(i_0, p, i_2, ((-1.0⋅b)+i_2))⋅U(i_3, i_1, k)'))\n",
      "notdirected\n",
      "\n",
      "  0.049772 seconds (522.65 k allocations: 16.083 MiB, 16.67% gc time)\n",
      "18 sum_sym\n",
      "∑((b, p, k, q, i_3), (U(q, i_1, ((-1.0⋅b)+k))⋅U(p, i_1, (b+i_2))⋅S(i_3, q, k, ((-1.0⋅b)+k))⋅S(i_0, p, i_2, (b+i_2))⋅U(i_3, i_1, k)'))\n",
      "∑((b, p, k, q, i_3), (U(q, i_1, (b+k))⋅U(p, i_1, ((-1.0⋅b)+i_2))⋅S(i_3, q, k, (b+k))⋅S(i_0, p, i_2, ((-1.0⋅b)+i_2))⋅U(i_3, i_1, k)'))\n",
      "notdirected\n",
      "\n",
      "  0.040264 seconds (522.82 k allocations: 16.090 MiB)\n",
      "19 symmetry\n",
      "∑((b, p, k, q, i_3), (U(q, i_1, k)⋅U(p, i_1, (b+i_2))⋅S(i_0, p, i_2, (b+i_2))⋅U(i_3, i_1, (b+k))'⋅S(q, i_3, k, (b+k))'))\n",
      "∑((b, p, k, q, i_3), (U(q, i_1, k)⋅U(p, i_1, (b+i_2))⋅S(i_3, q, (b+k), k)⋅S(i_0, p, i_2, (b+i_2))⋅U(i_3, i_1, (b+k))'))\n",
      "notdirected\n",
      "\n",
      "  0.039712 seconds (417.81 k allocations: 12.667 MiB, 20.02% gc time)\n",
      "20 symmetry\n",
      "∑((b, p, k, q, i_3), (U(q, i_1, k)⋅U(p, i_1, ((-1.0⋅b)+i_2))⋅S(i_0, p, i_2, ((-1.0⋅b)+i_2))⋅U(i_3, i_1, ((-1.0⋅b)+k))'⋅S(q, i_3, k, ((-1.0⋅b)+k))'))\n",
      "∑((b, p, k, q, i_3), (U(q, i_1, k)⋅U(p, i_1, ((-1.0⋅b)+i_2))⋅S(i_3, q, ((-1.0⋅b)+k), k)⋅S(i_0, p, i_2, ((-1.0⋅b)+i_2))⋅U(i_3, i_1, ((-1.0⋅b)+k))'))\n",
      "notdirected\n",
      "\n",
      "  0.039036 seconds (499.42 k allocations: 15.444 MiB)\n",
      "21 sum_sym\n",
      "∑((b, p, k, q, i_3), (U(q, i_1, (b+k))⋅U(p, i_1, ((-1.0⋅b)+i_2))⋅S(i_0, p, i_2, ((-1.0⋅b)+i_2))⋅U(i_3, i_1, k)'⋅S(q, i_3, (b+k), k)'))\n",
      "∑((b, p, k, q, i_3), (U(q, i_1, ((-1.0⋅b)+k))⋅U(p, i_1, (b+i_2))⋅S(i_0, p, i_2, (b+i_2))⋅U(i_3, i_1, k)'⋅S(q, i_3, ((-1.0⋅b)+k), k)'))\n",
      "notdirected\n",
      "\n",
      "  0.040805 seconds (447.85 k allocations: 13.440 MiB, 19.11% gc time)\n",
      "22 symmetry\n",
      "∑((b, p, k, q, i_3), (U(q, i_1, (b+k))⋅U(p, i_1, ((-1.0⋅b)+i_2))⋅S(i_0, p, i_2, ((-1.0⋅b)+i_2))⋅U(i_3, i_1, k)'⋅S(q, i_3, (b+k), k)'))\n",
      "∑((b, p, k, q, i_3), (U(q, i_1, (b+k))⋅U(p, i_1, ((-1.0⋅b)+i_2))⋅S(i_3, q, k, (b+k))⋅S(i_0, p, i_2, ((-1.0⋅b)+i_2))⋅U(i_3, i_1, k)'))\n",
      "notdirected\n",
      "\n",
      "  0.040254 seconds (522.61 k allocations: 16.081 MiB)\n",
      "23 symmetry\n",
      "∑((b, p, k, q, i_3), (U(q, i_1, k)⋅U(p, i_1, ((-1.0⋅b)+i_2))⋅U(i_3, i_1, ((-1.0⋅b)+k))'⋅S(q, i_3, k, ((-1.0⋅b)+k))'⋅S(p, i_0, ((-1.0⋅b)+i_2), i_2)'))\n",
      "∑((b, p, k, q, i_3), (U(q, i_1, k)⋅U(p, i_1, ((-1.0⋅b)+i_2))⋅S(i_0, p, i_2, ((-1.0⋅b)+i_2))⋅U(i_3, i_1, ((-1.0⋅b)+k))'⋅S(q, i_3, k, ((-1.0⋅b)+k))'))\n",
      "notdirected\n",
      "\n"
     ]
    },
    {
     "name": "stdout",
     "output_type": "stream",
     "text": [
      "  0.049465 seconds (532.39 k allocations: 16.307 MiB, 15.62% gc time)\n",
      "24 symmetry\n",
      "∑((b, p, k, q, i_3), (U(q, i_1, k)⋅U(p, i_1, (b+i_2))⋅U(i_3, i_1, (b+k))'⋅S(q, i_3, k, (b+k))'⋅S(p, i_0, (b+i_2), i_2)'))\n",
      "∑((b, p, k, q, i_3), (U(q, i_1, k)⋅U(p, i_1, (b+i_2))⋅S(i_0, p, i_2, (b+i_2))⋅U(i_3, i_1, (b+k))'⋅S(q, i_3, k, (b+k))'))\n",
      "notdirected\n",
      "\n",
      "  0.033354 seconds (447.12 k allocations: 13.405 MiB)\n",
      "25 sum_sym\n",
      "∑((b, p, k, q, i_3), (U(q, i_1, ((-1.0⋅b)+k))⋅U(p, i_1, (b+i_2))⋅U(i_3, i_1, k)'⋅S(q, i_3, ((-1.0⋅b)+k), k)'⋅S(p, i_0, (b+i_2), i_2)'))\n",
      "∑((b, p, k, q, i_3), (U(q, i_1, (b+k))⋅U(p, i_1, ((-1.0⋅b)+i_2))⋅U(i_3, i_1, k)'⋅S(q, i_3, (b+k), k)'⋅S(p, i_0, ((-1.0⋅b)+i_2), i_2)'))\n",
      "notdirected\n",
      "\n",
      "  0.050764 seconds (537.40 k allocations: 16.447 MiB, 16.11% gc time)\n",
      "26 symmetry\n",
      "∑((b, p, k, q, i_3), (U(q, i_1, ((-1.0⋅b)+k))⋅U(p, i_1, (b+i_2))⋅U(i_3, i_1, k)'⋅S(q, i_3, ((-1.0⋅b)+k), k)'⋅S(p, i_0, (b+i_2), i_2)'))\n",
      "∑((b, p, k, q, i_3), (U(q, i_1, ((-1.0⋅b)+k))⋅U(p, i_1, (b+i_2))⋅S(i_0, p, i_2, (b+i_2))⋅U(i_3, i_1, k)'⋅S(q, i_3, ((-1.0⋅b)+k), k)'))\n",
      "notdirected\n",
      "\n",
      "  0.032543 seconds (447.55 k allocations: 13.428 MiB)\n",
      "27 symmetry\n",
      "∑((b, p, k, q, i_3), (U(q, i_1, ((-1.0⋅b)+k))⋅U(p, i_1, (b+i_2))⋅S(i_3, q, k, ((-1.0⋅b)+k))⋅U(i_3, i_1, k)'⋅S(p, i_0, (b+i_2), i_2)'))\n",
      "∑((b, p, k, q, i_3), (U(q, i_1, ((-1.0⋅b)+k))⋅U(p, i_1, (b+i_2))⋅S(i_3, q, k, ((-1.0⋅b)+k))⋅S(i_0, p, i_2, (b+i_2))⋅U(i_3, i_1, k)'))\n",
      "notdirected\n",
      "\n",
      "  0.040651 seconds (443.85 k allocations: 13.408 MiB, 19.14% gc time)\n",
      "28 symmetry\n",
      "∑((b, p, k, q, i_3), (U(q, i_1, k)⋅U(p, i_1, (b+i_2))⋅S(i_3, q, (b+k), k)⋅U(i_3, i_1, (b+k))'⋅S(p, i_0, (b+i_2), i_2)'))\n",
      "∑((b, p, k, q, i_3), (U(q, i_1, k)⋅U(p, i_1, (b+i_2))⋅U(i_3, i_1, (b+k))'⋅S(q, i_3, k, (b+k))'⋅S(p, i_0, (b+i_2), i_2)'))\n",
      "notdirected\n",
      "\n",
      "  0.032768 seconds (432.36 k allocations: 13.028 MiB)\n",
      "29 symmetry\n",
      "∑((b, p, k, q, i_3), (U(q, i_1, k)⋅U(p, i_1, (b+i_2))⋅S(i_3, q, (b+k), k)⋅U(i_3, i_1, (b+k))'⋅S(p, i_0, (b+i_2), i_2)'))\n",
      "∑((b, p, k, q, i_3), (U(q, i_1, k)⋅U(p, i_1, (b+i_2))⋅S(i_3, q, (b+k), k)⋅S(i_0, p, i_2, (b+i_2))⋅U(i_3, i_1, (b+k))'))\n",
      "notdirected\n",
      "\n",
      "  0.030814 seconds (417.77 k allocations: 12.674 MiB)\n",
      "30 symmetry\n",
      "∑((b, p, k, q, i_3), (U(q, i_1, k)⋅U(p, i_1, ((-1.0⋅b)+i_2))⋅S(i_3, q, ((-1.0⋅b)+k), k)⋅U(i_3, i_1, ((-1.0⋅b)+k))'⋅S(p, i_0, ((-1.0⋅b)+i_2), i_2)'))\n",
      "∑((b, p, k, q, i_3), (U(q, i_1, k)⋅U(p, i_1, ((-1.0⋅b)+i_2))⋅U(i_3, i_1, ((-1.0⋅b)+k))'⋅S(q, i_3, k, ((-1.0⋅b)+k))'⋅S(p, i_0, ((-1.0⋅b)+i_2), i_2)'))\n",
      "notdirected\n",
      "\n",
      "  0.049732 seconds (532.71 k allocations: 16.297 MiB, 16.35% gc time)\n",
      "31 symmetry\n",
      "∑((b, p, k, q, i_3), (U(q, i_1, k)⋅U(p, i_1, ((-1.0⋅b)+i_2))⋅S(i_3, q, ((-1.0⋅b)+k), k)⋅U(i_3, i_1, ((-1.0⋅b)+k))'⋅S(p, i_0, ((-1.0⋅b)+i_2), i_2)'))\n",
      "∑((b, p, k, q, i_3), (U(q, i_1, k)⋅U(p, i_1, ((-1.0⋅b)+i_2))⋅S(i_3, q, ((-1.0⋅b)+k), k)⋅S(i_0, p, i_2, ((-1.0⋅b)+i_2))⋅U(i_3, i_1, ((-1.0⋅b)+k))'))\n",
      "notdirected\n",
      "\n",
      "  0.039155 seconds (499.39 k allocations: 15.455 MiB)\n",
      "32 sum_sym\n",
      "∑((b, p, k, q, i_3), (U(q, i_1, (b+k))⋅U(p, i_1, ((-1.0⋅b)+i_2))⋅S(i_3, q, k, (b+k))⋅U(i_3, i_1, k)'⋅S(p, i_0, ((-1.0⋅b)+i_2), i_2)'))\n",
      "∑((b, p, k, q, i_3), (U(q, i_1, ((-1.0⋅b)+k))⋅U(p, i_1, (b+i_2))⋅S(i_3, q, k, ((-1.0⋅b)+k))⋅U(i_3, i_1, k)'⋅S(p, i_0, (b+i_2), i_2)'))\n",
      "notdirected\n",
      "\n",
      "  0.031521 seconds (422.92 k allocations: 12.816 MiB)\n",
      "33 symmetry\n",
      "∑((b, p, k, q, i_3), (U(q, i_1, (b+k))⋅U(p, i_1, ((-1.0⋅b)+i_2))⋅S(i_3, q, k, (b+k))⋅U(i_3, i_1, k)'⋅S(p, i_0, ((-1.0⋅b)+i_2), i_2)'))\n",
      "∑((b, p, k, q, i_3), (U(q, i_1, (b+k))⋅U(p, i_1, ((-1.0⋅b)+i_2))⋅U(i_3, i_1, k)'⋅S(q, i_3, (b+k), k)'⋅S(p, i_0, ((-1.0⋅b)+i_2), i_2)'))\n",
      "notdirected\n",
      "\n",
      "  0.041546 seconds (537.48 k allocations: 16.446 MiB)\n",
      "34 symmetry\n",
      "∑((b, p, k, q, i_3), (U(q, i_1, (b+k))⋅U(p, i_1, ((-1.0⋅b)+i_2))⋅S(i_3, q, k, (b+k))⋅U(i_3, i_1, k)'⋅S(p, i_0, ((-1.0⋅b)+i_2), i_2)'))\n",
      "∑((b, p, k, q, i_3), (U(q, i_1, (b+k))⋅U(p, i_1, ((-1.0⋅b)+i_2))⋅S(i_3, q, k, (b+k))⋅S(i_0, p, i_2, ((-1.0⋅b)+i_2))⋅U(i_3, i_1, k)'))\n",
      "notdirected\n",
      "\n",
      "  0.040871 seconds (522.89 k allocations: 16.097 MiB)\n"
     ]
    },
    {
     "data": {
      "text/plain": [
       "3-element Vector{PCT.AbstractPCTNode}:\n",
       " ∑((b, p, k, q, i_3), (U(q, i_1, k)⋅U(p, i_1, (b+i_2))⋅S(i_3, q, (b+k), k)⋅S(i_0, p, i_2, (b+i_2))⋅U(i_3, i_1, (b+k))'))\n",
       " ∑((b, p, k, q, i_3), (U(q, i_1, k)⋅U(p, i_1, (b+i_2))⋅S(i_3, q, (b+k), k)⋅S(i_0, p, i_2, (b+i_2))⋅U(i_3, i_1, (b+k))'))\n",
       " ∑((b, p, k, q, i_3), (U(q, i_1, k)⋅U(p, i_1, (b+i_2))⋅S(i_3, q, (b+k), k)⋅S(i_0, p, i_2, (b+i_2))⋅U(i_3, i_1, (b+k))'))"
      ]
     },
     "execution_count": 29,
     "metadata": {},
     "output_type": "execute_result"
    }
   ],
   "source": [
    "a, b = content(fc(last(fc(fc(g_3)))))\n",
    "b_s = simplify(b, settings=Dict(:symmetry=>true))"
   ]
  },
  {
   "cell_type": "code",
   "execution_count": 30,
   "id": "1e429bcb",
   "metadata": {},
   "outputs": [
    {
     "name": "stdout",
     "output_type": "stream",
     "text": [
      "  0.002015 seconds (25.23 k allocations: 842.328 KiB)\n",
      "1 sum_in\n",
      "∑((b, q), (U(q, i_1, (b+i_2))⋅S(i_0, q, i_2, (b+i_2))⋅∑((k, q), (∑((p), (U(p, i_1, k)⋅S(p, q, k, (b+k))'))⋅U(q, i_1, (b+k))'))))\n",
      "∑((b, q, k, i_3), (U(q, i_1, (b+i_2))⋅S(i_0, q, i_2, (b+i_2))⋅∑((p), (U(p, i_1, k)⋅S(p, i_3, k, (b+k))'))⋅U(i_3, i_1, (b+k))'))\n",
      "yesdirected!\n",
      "\n",
      "  0.002503 seconds (37.10 k allocations: 1.181 MiB)\n",
      "2 sum_in\n",
      "∑((b, q, k, i_3), (U(q, i_1, (b+i_2))⋅S(i_0, q, i_2, (b+i_2))⋅∑((p), (U(p, i_1, k)⋅S(p, i_3, k, (b+k))'))⋅U(i_3, i_1, (b+k))'))\n",
      "∑((b, q, k, i_3, p), (U(q, i_1, (b+i_2))⋅U(p, i_1, k)⋅S(i_0, q, i_2, (b+i_2))⋅U(i_3, i_1, (b+k))'⋅S(p, i_3, k, (b+k))'))\n",
      "yesdirected!\n",
      "\n",
      "  0.001774 seconds (24.92 k allocations: 855.938 KiB)\n",
      "3 shift\n",
      "∑((b, q, k, i_3, p), (U(q, i_1, (b+i_2))⋅U(p, i_1, k)⋅S(i_0, q, i_2, (b+i_2))⋅U(i_3, i_1, (b+k))'⋅S(p, i_3, k, (b+k))'))\n",
      "∑((b, q, k, i_3, p), (U(q, i_1, (b+i_2))⋅U(p, i_1, ((-1.0⋅b)+k))⋅S(i_0, q, i_2, (b+i_2))⋅U(i_3, i_1, k)'⋅S(p, i_3, ((-1.0⋅b)+k), k)'))\n",
      "notdirected\n",
      "\n",
      "  0.006161 seconds (99.59 k allocations: 2.905 MiB)\n",
      "4 sum_sym\n",
      "∑((b, q, k, i_3, p), (U(q, i_1, (b+i_2))⋅U(p, i_1, ((-1.0⋅b)+k))⋅S(i_0, q, i_2, (b+i_2))⋅U(i_3, i_1, k)'⋅S(p, i_3, ((-1.0⋅b)+k), k)'))\n",
      "∑((b, q, k, i_3, p), (U(q, i_1, ((-1.0⋅b)+i_2))⋅U(p, i_1, (b+k))⋅S(i_0, q, i_2, ((-1.0⋅b)+i_2))⋅U(i_3, i_1, k)'⋅S(p, i_3, (b+k), k)'))\n",
      "notdirected\n",
      "\n",
      "  0.011298 seconds (161.76 k allocations: 4.861 MiB)\n",
      "5 shift\n",
      "∑((b, q, k, i_3, p), (U(q, i_1, ((-1.0⋅b)+i_2))⋅U(p, i_1, (b+k))⋅S(i_0, q, i_2, ((-1.0⋅b)+i_2))⋅U(i_3, i_1, k)'⋅S(p, i_3, (b+k), k)'))\n",
      "∑((b, q, k, i_3, p), (U(q, i_1, ((-1.0⋅b)+i_2))⋅U(p, i_1, k)⋅S(i_0, q, i_2, ((-1.0⋅b)+i_2))⋅U(i_3, i_1, ((-1.0⋅b)+k))'⋅S(p, i_3, k, ((-1.0⋅b)+k))'))\n",
      "notdirected\n",
      "\n",
      "  0.015969 seconds (226.23 k allocations: 6.712 MiB)\n",
      "6 symmetry\n",
      "∑((b, q, k, i_3, p), (U(q, i_1, ((-1.0⋅b)+i_2))⋅U(p, i_1, k)⋅S(i_0, q, i_2, ((-1.0⋅b)+i_2))⋅U(i_3, i_1, ((-1.0⋅b)+k))'⋅S(p, i_3, k, ((-1.0⋅b)+k))'))\n",
      "∑((b, q, k, i_3, p), (U(q, i_1, ((-1.0⋅b)+i_2))⋅U(p, i_1, k)⋅U(i_3, i_1, ((-1.0⋅b)+k))'⋅S(q, i_0, ((-1.0⋅b)+i_2), i_2)'⋅S(p, i_3, k, ((-1.0⋅b)+k))'))\n",
      "notdirected\n",
      "\n",
      "  0.015196 seconds (195.07 k allocations: 6.049 MiB)\n",
      "7 shift\n",
      "∑((b, q, k, i_3, p), (U(q, i_1, ((-1.0⋅b)+i_2))⋅U(p, i_1, k)⋅U(i_3, i_1, ((-1.0⋅b)+k))'⋅S(q, i_0, ((-1.0⋅b)+i_2), i_2)'⋅S(p, i_3, k, ((-1.0⋅b)+k))'))\n",
      "∑((b, q, k, i_3, p), (U(q, i_1, ((-1.0⋅b)+i_2))⋅U(p, i_1, (b+k))⋅U(i_3, i_1, k)'⋅S(q, i_0, ((-1.0⋅b)+i_2), i_2)'⋅S(p, i_3, (b+k), k)'))\n",
      "notdirected\n",
      "\n",
      "  0.023788 seconds (313.82 k allocations: 9.635 MiB)\n",
      "8 sum_sym\n",
      "∑((b, q, k, i_3, p), (U(q, i_1, ((-1.0⋅b)+i_2))⋅U(p, i_1, (b+k))⋅U(i_3, i_1, k)'⋅S(q, i_0, ((-1.0⋅b)+i_2), i_2)'⋅S(p, i_3, (b+k), k)'))\n",
      "∑((b, q, k, i_3, p), (U(q, i_1, (b+i_2))⋅U(p, i_1, ((-1.0⋅b)+k))⋅U(i_3, i_1, k)'⋅S(q, i_0, (b+i_2), i_2)'⋅S(p, i_3, ((-1.0⋅b)+k), k)'))\n",
      "notdirected\n",
      "\n",
      "  0.022016 seconds (296.20 k allocations: 8.826 MiB)\n",
      "9 shift\n",
      "∑((b, q, k, i_3, p), (U(q, i_1, (b+i_2))⋅U(p, i_1, ((-1.0⋅b)+k))⋅U(i_3, i_1, k)'⋅S(q, i_0, (b+i_2), i_2)'⋅S(p, i_3, ((-1.0⋅b)+k), k)'))\n",
      "∑((b, q, k, i_3, p), (U(q, i_1, (b+i_2))⋅U(p, i_1, k)⋅U(i_3, i_1, (b+k))'⋅S(q, i_0, (b+i_2), i_2)'⋅S(p, i_3, k, (b+k))'))\n",
      "notdirected\n",
      "\n",
      "  0.029112 seconds (390.80 k allocations: 11.764 MiB)\n",
      "10 symmetry\n",
      "∑((b, q, k, i_3, p), (U(q, i_1, (b+i_2))⋅U(p, i_1, k)⋅U(i_3, i_1, (b+k))'⋅S(q, i_0, (b+i_2), i_2)'⋅S(p, i_3, k, (b+k))'))\n",
      "∑((b, q, k, i_3, p), (U(q, i_1, (b+i_2))⋅U(p, i_1, k)⋅S(i_3, p, (b+k), k)⋅U(i_3, i_1, (b+k))'⋅S(q, i_0, (b+i_2), i_2)'))\n",
      "notdirected\n",
      "\n",
      "  0.007858 seconds (132.85 k allocations: 3.735 MiB)\n",
      "11 shift\n",
      "∑((b, q, k, i_3, p), (U(q, i_1, (b+i_2))⋅U(p, i_1, k)⋅S(i_3, p, (b+k), k)⋅U(i_3, i_1, (b+k))'⋅S(q, i_0, (b+i_2), i_2)'))\n",
      "∑((b, q, k, i_3, p), (U(q, i_1, (b+i_2))⋅U(p, i_1, ((-1.0⋅b)+k))⋅S(i_3, p, k, ((-1.0⋅b)+k))⋅U(i_3, i_1, k)'⋅S(q, i_0, (b+i_2), i_2)'))\n",
      "notdirected\n",
      "\n",
      "  0.016421 seconds (250.20 k allocations: 7.279 MiB)\n",
      "12 sum_sym\n",
      "∑((b, q, k, i_3, p), (U(q, i_1, (b+i_2))⋅U(p, i_1, ((-1.0⋅b)+k))⋅S(i_3, p, k, ((-1.0⋅b)+k))⋅U(i_3, i_1, k)'⋅S(q, i_0, (b+i_2), i_2)'))\n",
      "∑((b, q, k, i_3, p), (U(q, i_1, ((-1.0⋅b)+i_2))⋅U(p, i_1, (b+k))⋅S(i_3, p, k, (b+k))⋅U(i_3, i_1, k)'⋅S(q, i_0, ((-1.0⋅b)+i_2), i_2)'))\n",
      "notdirected\n",
      "\n",
      "  0.021312 seconds (283.83 k allocations: 8.509 MiB)\n",
      "13 shift\n",
      "∑((b, q, k, i_3, p), (U(q, i_1, ((-1.0⋅b)+i_2))⋅U(p, i_1, (b+k))⋅S(i_3, p, k, (b+k))⋅U(i_3, i_1, k)'⋅S(q, i_0, ((-1.0⋅b)+i_2), i_2)'))\n",
      "∑((b, q, k, i_3, p), (U(q, i_1, ((-1.0⋅b)+i_2))⋅U(p, i_1, k)⋅S(i_3, p, ((-1.0⋅b)+k), k)⋅U(i_3, i_1, ((-1.0⋅b)+k))'⋅S(q, i_0, ((-1.0⋅b)+i_2), i_2)'))\n",
      "notdirected\n",
      "\n",
      "  0.027641 seconds (360.46 k allocations: 10.999 MiB)\n",
      "14 symmetry\n",
      "∑((b, q, k, i_3, p), (U(q, i_1, ((-1.0⋅b)+i_2))⋅U(p, i_1, k)⋅S(i_3, p, ((-1.0⋅b)+k), k)⋅U(i_3, i_1, ((-1.0⋅b)+k))'⋅S(q, i_0, ((-1.0⋅b)+i_2), i_2)'))\n",
      "∑((b, q, k, i_3, p), (U(q, i_1, ((-1.0⋅b)+i_2))⋅U(p, i_1, k)⋅S(i_3, p, ((-1.0⋅b)+k), k)⋅S(i_0, q, i_2, ((-1.0⋅b)+i_2))⋅U(i_3, i_1, ((-1.0⋅b)+k))'))\n",
      "notdirected\n",
      "\n",
      "  0.026671 seconds (329.58 k allocations: 10.361 MiB)\n",
      "15 shift\n",
      "∑((b, q, k, i_3, p), (U(q, i_1, ((-1.0⋅b)+i_2))⋅U(p, i_1, k)⋅S(i_3, p, ((-1.0⋅b)+k), k)⋅S(i_0, q, i_2, ((-1.0⋅b)+i_2))⋅U(i_3, i_1, ((-1.0⋅b)+k))'))\n",
      "∑((b, q, k, i_3, p), (U(q, i_1, ((-1.0⋅b)+i_2))⋅U(p, i_1, (b+k))⋅S(i_3, p, k, (b+k))⋅S(i_0, q, i_2, ((-1.0⋅b)+i_2))⋅U(i_3, i_1, k)'))\n",
      "notdirected\n",
      "\n",
      "  0.032765 seconds (402.93 k allocations: 12.465 MiB)\n",
      "16 sum_sym\n",
      "∑((b, q, k, i_3, p), (U(q, i_1, ((-1.0⋅b)+i_2))⋅U(p, i_1, (b+k))⋅S(i_3, p, k, (b+k))⋅S(i_0, q, i_2, ((-1.0⋅b)+i_2))⋅U(i_3, i_1, k)'))\n",
      "∑((b, q, k, i_3, p), (U(q, i_1, (b+i_2))⋅U(p, i_1, ((-1.0⋅b)+k))⋅S(i_3, p, k, ((-1.0⋅b)+k))⋅S(i_0, q, i_2, (b+i_2))⋅U(i_3, i_1, k)'))\n",
      "notdirected\n",
      "\n",
      "  0.028541 seconds (376.41 k allocations: 11.419 MiB)\n",
      "17 shift\n",
      "∑((b, q, k, i_3, p), (U(q, i_1, (b+i_2))⋅U(p, i_1, ((-1.0⋅b)+k))⋅S(i_3, p, k, ((-1.0⋅b)+k))⋅S(i_0, q, i_2, (b+i_2))⋅U(i_3, i_1, k)'))\n",
      "∑((b, q, k, i_3, p), (U(q, i_1, (b+i_2))⋅U(p, i_1, k)⋅S(i_3, p, (b+k), k)⋅S(i_0, q, i_2, (b+i_2))⋅U(i_3, i_1, (b+k))'))\n",
      "notdirected\n",
      "\n",
      "  0.029606 seconds (402.00 k allocations: 12.250 MiB)\n",
      "18 sum_sym\n",
      "∑((b, q, k, i_3, p), (U(q, i_1, ((-1.0⋅b)+i_2))⋅U(p, i_1, k)⋅S(i_3, p, ((-1.0⋅b)+k), k)⋅S(i_0, q, i_2, ((-1.0⋅b)+i_2))⋅U(i_3, i_1, ((-1.0⋅b)+k))'))\n",
      "∑((b, q, k, i_3, p), (U(q, i_1, (b+i_2))⋅U(p, i_1, k)⋅S(i_3, p, (b+k), k)⋅S(i_0, q, i_2, (b+i_2))⋅U(i_3, i_1, (b+k))'))\n",
      "notdirected\n",
      "\n",
      "  0.039662 seconds (402.23 k allocations: 12.259 MiB, 20.75% gc time)\n",
      "19 symmetry\n",
      "∑((b, q, k, i_3, p), (U(q, i_1, ((-1.0⋅b)+i_2))⋅U(p, i_1, (b+k))⋅S(i_3, p, k, (b+k))⋅U(i_3, i_1, k)'⋅S(q, i_0, ((-1.0⋅b)+i_2), i_2)'))\n",
      "∑((b, q, k, i_3, p), (U(q, i_1, ((-1.0⋅b)+i_2))⋅U(p, i_1, (b+k))⋅S(i_3, p, k, (b+k))⋅S(i_0, q, i_2, ((-1.0⋅b)+i_2))⋅U(i_3, i_1, k)'))\n",
      "notdirected\n",
      "\n",
      "  0.038556 seconds (496.10 k allocations: 15.398 MiB)\n",
      "20 symmetry\n",
      "∑((b, q, k, i_3, p), (U(q, i_1, (b+i_2))⋅U(p, i_1, ((-1.0⋅b)+k))⋅S(i_3, p, k, ((-1.0⋅b)+k))⋅U(i_3, i_1, k)'⋅S(q, i_0, (b+i_2), i_2)'))\n",
      "∑((b, q, k, i_3, p), (U(q, i_1, (b+i_2))⋅U(p, i_1, ((-1.0⋅b)+k))⋅S(i_3, p, k, ((-1.0⋅b)+k))⋅S(i_0, q, i_2, (b+i_2))⋅U(i_3, i_1, k)'))\n",
      "notdirected\n",
      "\n",
      "  0.031393 seconds (424.46 k allocations: 12.838 MiB)\n",
      "21 sum_sym\n",
      "∑((b, q, k, i_3, p), (U(q, i_1, (b+i_2))⋅U(p, i_1, k)⋅S(i_3, p, (b+k), k)⋅U(i_3, i_1, (b+k))'⋅S(q, i_0, (b+i_2), i_2)'))\n",
      "∑((b, q, k, i_3, p), (U(q, i_1, ((-1.0⋅b)+i_2))⋅U(p, i_1, k)⋅S(i_3, p, ((-1.0⋅b)+k), k)⋅U(i_3, i_1, ((-1.0⋅b)+k))'⋅S(q, i_0, ((-1.0⋅b)+i_2), i_2)'))\n",
      "notdirected\n",
      "\n",
      "  0.039235 seconds (493.27 k allocations: 15.289 MiB)\n",
      "22 symmetry\n",
      "∑((b, q, k, i_3, p), (U(q, i_1, (b+i_2))⋅U(p, i_1, k)⋅S(i_3, p, (b+k), k)⋅U(i_3, i_1, (b+k))'⋅S(q, i_0, (b+i_2), i_2)'))\n",
      "∑((b, q, k, i_3, p), (U(q, i_1, (b+i_2))⋅U(p, i_1, k)⋅S(i_3, p, (b+k), k)⋅S(i_0, q, i_2, (b+i_2))⋅U(i_3, i_1, (b+k))'))\n",
      "notdirected\n",
      "\n",
      "  0.030824 seconds (402.06 k allocations: 12.252 MiB)\n",
      "23 symmetry\n",
      "∑((b, q, k, i_3, p), (U(q, i_1, (b+i_2))⋅U(p, i_1, ((-1.0⋅b)+k))⋅U(i_3, i_1, k)'⋅S(q, i_0, (b+i_2), i_2)'⋅S(p, i_3, ((-1.0⋅b)+k), k)'))\n",
      "∑((b, q, k, i_3, p), (U(q, i_1, (b+i_2))⋅U(p, i_1, ((-1.0⋅b)+k))⋅S(i_3, p, k, ((-1.0⋅b)+k))⋅U(i_3, i_1, k)'⋅S(q, i_0, (b+i_2), i_2)'))\n",
      "notdirected\n",
      "\n",
      "  0.033141 seconds (445.13 k allocations: 13.360 MiB)\n",
      "24 symmetry\n",
      "∑((b, q, k, i_3, p), (U(q, i_1, ((-1.0⋅b)+i_2))⋅U(p, i_1, (b+k))⋅U(i_3, i_1, k)'⋅S(q, i_0, ((-1.0⋅b)+i_2), i_2)'⋅S(p, i_3, (b+k), k)'))\n",
      "∑((b, q, k, i_3, p), (U(q, i_1, ((-1.0⋅b)+i_2))⋅U(p, i_1, (b+k))⋅S(i_3, p, k, (b+k))⋅U(i_3, i_1, k)'⋅S(q, i_0, ((-1.0⋅b)+i_2), i_2)'))\n",
      "notdirected\n",
      "\n"
     ]
    },
    {
     "name": "stdout",
     "output_type": "stream",
     "text": [
      "  0.040655 seconds (524.94 k allocations: 16.106 MiB)\n",
      "25 sum_sym\n",
      "∑((b, q, k, i_3, p), (U(q, i_1, ((-1.0⋅b)+i_2))⋅U(p, i_1, k)⋅U(i_3, i_1, ((-1.0⋅b)+k))'⋅S(q, i_0, ((-1.0⋅b)+i_2), i_2)'⋅S(p, i_3, k, ((-1.0⋅b)+k))'))\n",
      "∑((b, q, k, i_3, p), (U(q, i_1, (b+i_2))⋅U(p, i_1, k)⋅U(i_3, i_1, (b+k))'⋅S(q, i_0, (b+i_2), i_2)'⋅S(p, i_3, k, (b+k))'))\n",
      "notdirected\n",
      "\n",
      "  0.042177 seconds (454.30 k allocations: 13.575 MiB, 18.75% gc time)\n",
      "26 symmetry\n",
      "∑((b, q, k, i_3, p), (U(q, i_1, ((-1.0⋅b)+i_2))⋅U(p, i_1, k)⋅U(i_3, i_1, ((-1.0⋅b)+k))'⋅S(q, i_0, ((-1.0⋅b)+i_2), i_2)'⋅S(p, i_3, k, ((-1.0⋅b)+k))'))\n",
      "∑((b, q, k, i_3, p), (U(q, i_1, ((-1.0⋅b)+i_2))⋅U(p, i_1, k)⋅S(i_3, p, ((-1.0⋅b)+k), k)⋅U(i_3, i_1, ((-1.0⋅b)+k))'⋅S(q, i_0, ((-1.0⋅b)+i_2), i_2)'))\n",
      "notdirected\n",
      "\n",
      "  0.038385 seconds (492.97 k allocations: 15.265 MiB)\n",
      "27 symmetry\n",
      "∑((b, q, k, i_3, p), (U(q, i_1, ((-1.0⋅b)+i_2))⋅U(p, i_1, k)⋅S(i_0, q, i_2, ((-1.0⋅b)+i_2))⋅U(i_3, i_1, ((-1.0⋅b)+k))'⋅S(p, i_3, k, ((-1.0⋅b)+k))'))\n",
      "∑((b, q, k, i_3, p), (U(q, i_1, ((-1.0⋅b)+i_2))⋅U(p, i_1, k)⋅S(i_3, p, ((-1.0⋅b)+k), k)⋅S(i_0, q, i_2, ((-1.0⋅b)+i_2))⋅U(i_3, i_1, ((-1.0⋅b)+k))'))\n",
      "notdirected\n",
      "\n",
      "  0.048463 seconds (478.29 k allocations: 14.907 MiB, 17.42% gc time)\n",
      "28 symmetry\n",
      "∑((b, q, k, i_3, p), (U(q, i_1, ((-1.0⋅b)+i_2))⋅U(p, i_1, (b+k))⋅S(i_0, q, i_2, ((-1.0⋅b)+i_2))⋅U(i_3, i_1, k)'⋅S(p, i_3, (b+k), k)'))\n",
      "∑((b, q, k, i_3, p), (U(q, i_1, ((-1.0⋅b)+i_2))⋅U(p, i_1, (b+k))⋅U(i_3, i_1, k)'⋅S(q, i_0, ((-1.0⋅b)+i_2), i_2)'⋅S(p, i_3, (b+k), k)'))\n",
      "notdirected\n",
      "\n",
      "  0.042362 seconds (548.13 k allocations: 16.712 MiB)\n",
      "29 symmetry\n",
      "∑((b, q, k, i_3, p), (U(q, i_1, ((-1.0⋅b)+i_2))⋅U(p, i_1, (b+k))⋅S(i_0, q, i_2, ((-1.0⋅b)+i_2))⋅U(i_3, i_1, k)'⋅S(p, i_3, (b+k), k)'))\n",
      "∑((b, q, k, i_3, p), (U(q, i_1, ((-1.0⋅b)+i_2))⋅U(p, i_1, (b+k))⋅S(i_3, p, k, (b+k))⋅S(i_0, q, i_2, ((-1.0⋅b)+i_2))⋅U(i_3, i_1, k)'))\n",
      "notdirected\n",
      "\n",
      "  0.047869 seconds (496.17 k allocations: 15.405 MiB, 17.11% gc time)\n",
      "30 symmetry\n",
      "∑((b, q, k, i_3, p), (U(q, i_1, (b+i_2))⋅U(p, i_1, ((-1.0⋅b)+k))⋅S(i_0, q, i_2, (b+i_2))⋅U(i_3, i_1, k)'⋅S(p, i_3, ((-1.0⋅b)+k), k)'))\n",
      "∑((b, q, k, i_3, p), (U(q, i_1, (b+i_2))⋅U(p, i_1, ((-1.0⋅b)+k))⋅U(i_3, i_1, k)'⋅S(q, i_0, (b+i_2), i_2)'⋅S(p, i_3, ((-1.0⋅b)+k), k)'))\n",
      "notdirected\n",
      "\n",
      "  0.033450 seconds (463.15 k allocations: 13.807 MiB)\n",
      "31 symmetry\n",
      "∑((b, q, k, i_3, p), (U(q, i_1, (b+i_2))⋅U(p, i_1, ((-1.0⋅b)+k))⋅S(i_0, q, i_2, (b+i_2))⋅U(i_3, i_1, k)'⋅S(p, i_3, ((-1.0⋅b)+k), k)'))\n",
      "∑((b, q, k, i_3, p), (U(q, i_1, (b+i_2))⋅U(p, i_1, ((-1.0⋅b)+k))⋅S(i_3, p, k, ((-1.0⋅b)+k))⋅S(i_0, q, i_2, (b+i_2))⋅U(i_3, i_1, k)'))\n",
      "notdirected\n",
      "\n",
      "  0.039805 seconds (424.46 k allocations: 12.842 MiB, 19.58% gc time)\n",
      "32 sum_sym\n",
      "∑((b, q, k, i_3, p), (U(q, i_1, (b+i_2))⋅U(p, i_1, k)⋅S(i_0, q, i_2, (b+i_2))⋅U(i_3, i_1, (b+k))'⋅S(p, i_3, k, (b+k))'))\n",
      "∑((b, q, k, i_3, p), (U(q, i_1, ((-1.0⋅b)+i_2))⋅U(p, i_1, k)⋅S(i_0, q, i_2, ((-1.0⋅b)+i_2))⋅U(i_3, i_1, ((-1.0⋅b)+k))'⋅S(p, i_3, k, ((-1.0⋅b)+k))'))\n",
      "notdirected\n",
      "\n",
      "  0.039583 seconds (505.46 k allocations: 15.621 MiB)\n",
      "33 symmetry\n",
      "∑((b, q, k, i_3, p), (U(q, i_1, (b+i_2))⋅U(p, i_1, k)⋅S(i_0, q, i_2, (b+i_2))⋅U(i_3, i_1, (b+k))'⋅S(p, i_3, k, (b+k))'))\n",
      "∑((b, q, k, i_3, p), (U(q, i_1, (b+i_2))⋅U(p, i_1, k)⋅U(i_3, i_1, (b+k))'⋅S(q, i_0, (b+i_2), i_2)'⋅S(p, i_3, k, (b+k))'))\n",
      "notdirected\n",
      "\n",
      "  0.042779 seconds (454.26 k allocations: 13.582 MiB, 18.75% gc time)\n",
      "34 symmetry\n",
      "∑((b, q, k, i_3, p), (U(q, i_1, (b+i_2))⋅U(p, i_1, k)⋅S(i_0, q, i_2, (b+i_2))⋅U(i_3, i_1, (b+k))'⋅S(p, i_3, k, (b+k))'))\n",
      "∑((b, q, k, i_3, p), (U(q, i_1, (b+i_2))⋅U(p, i_1, k)⋅S(i_3, p, (b+k), k)⋅S(i_0, q, i_2, (b+i_2))⋅U(i_3, i_1, (b+k))'))\n",
      "notdirected\n",
      "\n",
      "  0.029879 seconds (402.30 k allocations: 12.270 MiB)\n"
     ]
    },
    {
     "data": {
      "text/plain": [
       "4-element Vector{PCT.AbstractPCTNode}:\n",
       " ∑((b, q, k, i_3, p), (U(q, i_1, (b+i_2))⋅U(p, i_1, k)⋅S(i_3, p, (b+k), k)⋅S(i_0, q, i_2, (b+i_2))⋅U(i_3, i_1, (b+k))'))\n",
       " ∑((b, q, k, i_3, p), (U(q, i_1, (b+i_2))⋅U(p, i_1, k)⋅S(i_3, p, (b+k), k)⋅S(i_0, q, i_2, (b+i_2))⋅U(i_3, i_1, (b+k))'))\n",
       " ∑((b, q, k, i_3, p), (U(q, i_1, (b+i_2))⋅U(p, i_1, k)⋅S(i_3, p, (b+k), k)⋅S(i_0, q, i_2, (b+i_2))⋅U(i_3, i_1, (b+k))'))\n",
       " ∑((b, q, k, i_3, p), (U(q, i_1, (b+i_2))⋅U(p, i_1, k)⋅S(i_3, p, (b+k), k)⋅S(i_0, q, i_2, (b+i_2))⋅U(i_3, i_1, (b+k))'))"
      ]
     },
     "execution_count": 30,
     "metadata": {},
     "output_type": "execute_result"
    }
   ],
   "source": [
    "a_s = simplify(a, settings=Dict(:symmetry=>true))"
   ]
  },
  {
   "cell_type": "code",
   "execution_count": 63,
   "id": "acd574c3",
   "metadata": {},
   "outputs": [
    {
     "name": "stdout",
     "output_type": "stream",
     "text": [
      "  0.004051 seconds (2.15 k allocations: 141.438 KiB, 99.19% compilation time: 100% of which was recompilation)\n",
      "1 sum_in\n",
      "(∑((b, p, k, q, i_3), (U(q, i_1, k)⋅U(p, i_1, (b+i_2))⋅S(i_3, q, (b+k), k)⋅S(i_0, p, i_2, (b+i_2))⋅U(i_3, i_1, (b+k))'))⋅2.0)\n",
      "∑((b, p, k, q, i_3), (U(q, i_1, k)⋅U(p, i_1, (b+i_2))⋅S(i_3, q, (b+k), k)⋅S(i_0, p, i_2, (b+i_2))⋅2.0⋅U(i_3, i_1, (b+k))'))\n",
      "yesdirected!\n",
      "\n",
      "  0.000000 seconds\n"
     ]
    },
    {
     "data": {
      "text/latex": [
       "$\\sum_{b, p, k, q, i_3}\\left[(U_{q, i_1, k}\\cdot U_{p, i_1, \\left(b+i_2\\right)}\\cdot S_{i_3, q, \\left(b+k\\right), k}\\cdot S_{i_0, p, i_2, \\left(b+i_2\\right)}\\cdot 2.0\\cdot U_{i_3, i_1, \\left(b+k\\right)}^*)\\right]$"
      ],
      "text/plain": [
       "∑((b, p, k, q, i_3), (U(q, i_1, k)⋅U(p, i_1, (b+i_2))⋅S(i_3, q, (b+k), k)⋅S(i_0, p, i_2, (b+i_2))⋅2.0⋅U(i_3, i_1, (b+k))'))"
      ]
     },
     "execution_count": 63,
     "metadata": {},
     "output_type": "execute_result"
    }
   ],
   "source": [
    "simplify(add(a_s |> first, b_s |> first)) |> first"
   ]
  },
  {
   "cell_type": "code",
   "execution_count": 34,
   "id": "5f0c89d8",
   "metadata": {},
   "outputs": [
    {
     "data": {
      "text/latex": [
       "$\\sum_{b, q, k, i_3, p}\\left[(U_{q, i_1, \\left(b+i_2\\right)}\\cdot U_{p, i_1, k}\\cdot S_{i_3, p, \\left(b+k\\right), k}\\cdot S_{i_0, q, i_2, \\left(b+i_2\\right)}\\cdot U_{i_3, i_1, \\left(b+k\\right)}^*)\\right]$"
      ],
      "text/plain": [
       "∑((b, q, k, i_3, p), (U(q, i_1, (b+i_2))⋅U(p, i_1, k)⋅S(i_3, p, (b+k), k)⋅S(i_0, q, i_2, (b+i_2))⋅U(i_3, i_1, (b+k))'))"
      ]
     },
     "execution_count": 34,
     "metadata": {},
     "output_type": "execute_result"
    }
   ],
   "source": [
    "aa = a_s |> first"
   ]
  },
  {
   "cell_type": "code",
   "execution_count": 35,
   "id": "f5cbaa5c",
   "metadata": {},
   "outputs": [
    {
     "data": {
      "text/latex": [
       "$\\sum_{b, p, k, q, i_3}\\left[(U_{q, i_1, k}\\cdot U_{p, i_1, \\left(b+i_2\\right)}\\cdot S_{i_3, q, \\left(b+k\\right), k}\\cdot S_{i_0, p, i_2, \\left(b+i_2\\right)}\\cdot U_{i_3, i_1, \\left(b+k\\right)}^*)\\right]$"
      ],
      "text/plain": [
       "∑((b, p, k, q, i_3), (U(q, i_1, k)⋅U(p, i_1, (b+i_2))⋅S(i_3, q, (b+k), k)⋅S(i_0, p, i_2, (b+i_2))⋅U(i_3, i_1, (b+k))'))"
      ]
     },
     "execution_count": 35,
     "metadata": {},
     "output_type": "execute_result"
    }
   ],
   "source": [
    "bb = b_s |> first"
   ]
  },
  {
   "cell_type": "code",
   "execution_count": 62,
   "id": "a645abe9",
   "metadata": {},
   "outputs": [
    {
     "data": {
      "text/plain": [
       "true"
      ]
     },
     "execution_count": 62,
     "metadata": {},
     "output_type": "execute_result"
    }
   ],
   "source": [
    "aa == bb"
   ]
  },
  {
   "cell_type": "code",
   "execution_count": 57,
   "id": "eae5bffb",
   "metadata": {},
   "outputs": [
    {
     "data": {
      "text/plain": [
       "true"
      ]
     },
     "execution_count": 57,
     "metadata": {},
     "output_type": "execute_result"
    }
   ],
   "source": [
    "aa.signatures[5] == bb.signatures[4]"
   ]
  },
  {
   "cell_type": "code",
   "execution_count": 40,
   "id": "15d25dfb",
   "metadata": {},
   "outputs": [
    {
     "data": {
      "text/plain": [
       ": Mul \n",
       "    1: PCTVector \n",
       "        1: PrimitiveCall \n",
       "            1: Var{MapType} U\n",
       "            3: Var{I} i_1\n",
       "        2: PrimitiveCall \n",
       "            1: Var{MapType} U\n",
       "            3: Var{I} i_1\n",
       "            4: Add \n",
       "                1: PCTVector \n",
       "                    1: Var{Domain} \n",
       "                    2: Var{I} i_2\n",
       "        3: PrimitiveCall \n",
       "            1: Var{MapType} S\n",
       "            4: Add \n",
       "                1: PCTVector \n",
       "                    1: Var{Domain} \n",
       "        4: PrimitiveCall \n",
       "            1: Var{MapType} S\n",
       "            2: Var{I} i_0\n",
       "            4: Var{I} i_2\n",
       "            5: Add \n",
       "                1: PCTVector \n",
       "                    1: Var{Domain} \n",
       "                    2: Var{I} i_2\n",
       "        5: Conjugate \n",
       "            1: PrimitiveCall \n",
       "                1: Var{MapType} U\n",
       "                3: Var{I} i_1\n",
       "                4: Add \n",
       "                    1: PCTVector \n",
       "                        1: Var{Domain} \n"
      ]
     },
     "execution_count": 40,
     "metadata": {},
     "output_type": "execute_result"
    }
   ],
   "source": [
    "bb.signatures[1]"
   ]
  },
  {
   "cell_type": "code",
   "execution_count": 42,
   "id": "e40d4478",
   "metadata": {},
   "outputs": [
    {
     "data": {
      "text/plain": [
       ": Mul \n",
       "    1: PCTVector \n",
       "        1: PrimitiveCall \n",
       "            1: Var{MapType} U\n",
       "            3: Var{I} i_1\n",
       "            4: Add \n",
       "                1: PCTVector \n",
       "                    1: Var{Domain} \n",
       "                    2: Var{I} i_2\n",
       "        2: PrimitiveCall \n",
       "            1: Var{MapType} U\n",
       "            3: Var{I} i_1\n",
       "        3: PrimitiveCall \n",
       "            1: Var{MapType} S\n",
       "            4: Add \n",
       "                1: PCTVector \n",
       "                    1: Var{Domain} \n",
       "        4: PrimitiveCall \n",
       "            1: Var{MapType} S\n",
       "            2: Var{I} i_0\n",
       "            4: Var{I} i_2\n",
       "            5: Add \n",
       "                1: PCTVector \n",
       "                    1: Var{Domain} \n",
       "                    2: Var{I} i_2\n",
       "        5: Conjugate \n",
       "            1: PrimitiveCall \n",
       "                1: Var{MapType} U\n",
       "                3: Var{I} i_1\n",
       "                4: Add \n",
       "                    1: PCTVector \n",
       "                        1: Var{Domain} \n"
      ]
     },
     "execution_count": 42,
     "metadata": {},
     "output_type": "execute_result"
    }
   ],
   "source": [
    "aa.signatures[1]"
   ]
  },
  {
   "cell_type": "code",
   "execution_count": null,
   "id": "cdc3aa0e",
   "metadata": {},
   "outputs": [],
   "source": []
  }
 ],
 "metadata": {
  "kernelspec": {
   "display_name": "PCT 1.9.3",
   "language": "julia",
   "name": "pct-1.9"
  },
  "language_info": {
   "file_extension": ".jl",
   "mimetype": "application/julia",
   "name": "julia",
   "version": "1.9.3"
  }
 },
 "nbformat": 4,
 "nbformat_minor": 5
}
