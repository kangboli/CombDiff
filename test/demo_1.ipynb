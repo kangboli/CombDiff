{
 "cells": [
  {
   "cell_type": "code",
   "execution_count": 1,
   "id": "c923b450",
   "metadata": {},
   "outputs": [
    {
     "name": "stderr",
     "output_type": "stream",
     "text": [
      "┌ Info: Precompiling PCT [ef708a43-c8a3-43f4-8f65-1f04ee4c5bb0]\n",
      "└ @ Base loading.jl:1664\n"
     ]
    }
   ],
   "source": [
    "using PCT"
   ]
  },
  {
   "cell_type": "code",
   "execution_count": 2,
   "id": "d425765b",
   "metadata": {},
   "outputs": [
    {
     "data": {
      "text/latex": [
       "$A \\to \\_$"
      ],
      "text/plain": [
       "(A) -> \n",
       "    _"
      ]
     },
     "execution_count": 2,
     "metadata": {},
     "output_type": "execute_result"
    }
   ],
   "source": [
    "ctx = @pct begin\n",
    "    @space begin\n",
    "        name=S\n",
    "        type=(I, I)->R\n",
    "        symmetries=(((2,1), :id),)\n",
    "    end\n",
    "    \n",
    "    @space begin\n",
    "        name=V\n",
    "        type=(I,)->R\n",
    "    end\n",
    "            \n",
    "    (A::S) -> _\n",
    "end"
   ]
  },
  {
   "cell_type": "code",
   "execution_count": 3,
   "id": "1c4544e1",
   "metadata": {},
   "outputs": [
    {
     "data": {
      "text/latex": [
       "$A \\to x \\to \\sum_{i,j}\\left[(x_{i}\\cdot A_{i, j}\\cdot x_{j})\\right]$"
      ],
      "text/plain": [
       "(A) -> \n",
       "    (x) -> \n",
       "        ∑((i), ∑((j), (x(i)⋅A(i, j)⋅x(j))))"
      ]
     },
     "execution_count": 3,
     "metadata": {},
     "output_type": "execute_result"
    }
   ],
   "source": [
    "f = @pct ctx (x::V) -> sum((i, j), x(i) * A(i, j) * x(j))"
   ]
  },
  {
   "cell_type": "code",
   "execution_count": 36,
   "id": "0630ab9d",
   "metadata": {},
   "outputs": [
    {
     "data": {
      "text/latex": [
       "$\\left(x, \\_K\\right) \\to i_1 \\to \\left(\\left(x_{i_1}, \\_K\\right) \\to \\sum_{i}\\left[\\left(\\left(x_{i_1}, \\_K\\right) \\to \\sum_{j}\\left[\\left(\\left(x_{i_1}, \\_K\\right) \\to (\\left(\\left(x_{i_1}, \\_K\\right) \\to \\delta_{i}^{i_1}\\_K\\right)\\left(x_{i_1}, (A_{i, j}\\cdot x_{j}\\cdot \\_K)\\right)+\\left(\\left(x_{i_1}, \\_K\\right) \\to (\\left(\\left(x_{i_1}, \\_K\\right) \\to 0\\right)\\left(x_{i_1}, (x_{j}\\cdot \\_K)\\right)+\\left(\\left(x_{i_1}, \\_K\\right) \\to \\delta_{j}^{i_1}\\_K\\right)\\left(x_{i_1}, (A_{i, j}\\cdot \\_K)\\right))\\right)\\left(x_{i_1}, (x_{i}\\cdot \\_K)\\right))\\right)\\left(x_{i_1}, \\_K\\right)\\right]\\right)\\left(x_{i_1}, \\_K\\right)\\right]\\right)\\left(x_{i_1}, \\_K\\right)$"
      ],
      "text/plain": [
       "(x, _K) -> \n",
       "    (i_1) -> \n",
       "        ((x(i_1), _K) -> \n",
       "            ∑((i), ((x(i_1), _K) -> \n",
       "                ∑((j), ((x(i_1), _K) -> \n",
       "                    (((x(i_1), _K) -> \n",
       "                        δ(i_1, i, _K))(x(i_1), (A(i, j)⋅x(j)⋅_K))+((x(i_1), _K) -> \n",
       "                        (((x(i_1), _K) -> \n",
       "                            0)(x(i_1), (x(j)⋅_K))+((x(i_1), _K) -> \n",
       "                            δ(i_1, j, _K))(x(i_1), (A(i, j)⋅_K))))(x(i_1), (x(i)⋅_K))))(x(i_1), _K)))(x(i_1), _K)))(x(i_1), _K)"
      ]
     },
     "execution_count": 36,
     "metadata": {},
     "output_type": "execute_result"
    }
   ],
   "source": [
    "p = evaluate_pullback(pullback(fc(f)))"
   ]
  },
  {
   "cell_type": "code",
   "execution_count": 41,
   "id": "47f349fb",
   "metadata": {},
   "outputs": [
    {
     "name": "stdout",
     "output_type": "stream",
     "text": [
      "Directed!\n",
      "∑((i), (∑((j), δ(i_1, i, (A(i, j)⋅x(j)⋅_K)))+∑((j), δ(i_1, j, (A(i, j)⋅x(i)⋅_K)))))\n",
      "∑((i), (∑((j), δ(i_1, i, (A(i, j)⋅x(j)⋅_K)))+(A(i, i_1)⋅x(i)⋅_K)))\n",
      "Directed!\n",
      "(∑((i), ∑((j), δ(i_1, j, (A(i, j)⋅x(i)⋅_K))))+∑((i), ∑((j), δ(i_1, i, (A(i, j)⋅x(j)⋅_K)))))\n",
      "(∑((i), (A(i, i_1)⋅x(i)⋅_K))+∑((i), ∑((j), δ(i_1, i, (A(i, j)⋅x(j)⋅_K)))))\n",
      "Directed!\n",
      "(∑((i), ∑((j), δ(i_1, j, (A(i, j)⋅x(i)⋅_K))))⋅(1+1))\n",
      "(∑((i), (A(i, i_1)⋅x(i)⋅_K))⋅(1+1))\n",
      "Directed!\n",
      "(∑((i), (A(i, i_1)⋅x(i)⋅_K))⋅(1+1))\n",
      "(∑((i), (A(i, i_1)⋅x(i)⋅_K))⋅2)\n"
     ]
    },
    {
     "data": {
      "text/latex": [
       "$\\left(x, \\_K\\right) \\to i_1 \\to (\\sum_{i}\\left[(A_{i, i_1}\\cdot x_{i}\\cdot \\_K)\\right]\\cdot (1+1))$"
      ],
      "text/plain": [
       "(x, _K) -> \n",
       "    (i_1) -> \n",
       "        (∑((i), (A(i, i_1)⋅x(i)⋅_K))⋅(1+1))"
      ]
     },
     "execution_count": 41,
     "metadata": {},
     "output_type": "execute_result"
    }
   ],
   "source": [
    "g = simplify(evaluate(p))[1]"
   ]
  },
  {
   "cell_type": "code",
   "execution_count": 38,
   "id": "23a78da7",
   "metadata": {},
   "outputs": [
    {
     "data": {
      "text/latex": [
       "$\\left(x, \\_K\\right) \\to i_1 \\to \\sum_{i,j}\\left[(\\delta_{i}^{i_1}(A_{i, j}\\cdot x_{j}\\cdot \\_K)+\\delta_{j}^{i_1}(A_{i, j}\\cdot x_{i}\\cdot \\_K))\\right]$"
      ],
      "text/plain": [
       "(x, _K) -> \n",
       "    (i_1) -> \n",
       "        ∑((i), ∑((j), (δ(i_1, i, (A(i, j)⋅x(j)⋅_K))+δ(i_1, j, (A(i, j)⋅x(i)⋅_K)))))"
      ]
     },
     "execution_count": 38,
     "metadata": {},
     "output_type": "execute_result"
    }
   ],
   "source": [
    "p = evaluate(p)"
   ]
  },
  {
   "cell_type": "code",
   "execution_count": 96,
   "id": "47361628",
   "metadata": {},
   "outputs": [
    {
     "data": {
      "text/plain": [
       "symmetry: ∑((i), ∑((j), (δ(i_1, i, (A(j, i)⋅x(j)⋅_K))+δ(i_1, j, (A(i, j)⋅x(i)⋅_K)))))\n",
       "symmetry: ∑((i), ∑((j), (δ(i_1, i, (A(i, j)⋅x(j)⋅_K))+δ(i_1, j, (A(j, i)⋅x(i)⋅_K)))))\n",
       "sum_dist: ∑((i), (∑((j), δ(i_1, i, (A(i, j)⋅x(j)⋅_K)))+∑((j), δ(i_1, j, (A(i, j)⋅x(i)⋅_K)))))\n",
       "sum_dist: ∑((i), (∑((j), δ(i_1, j, (A(i, j)⋅x(i)⋅_K)))+∑((j), δ(i_1, i, (A(i, j)⋅x(j)⋅_K)))))\n",
       "sum_ex: ∑((j), ∑((i), (δ(i_1, i, (A(i, j)⋅x(j)⋅_K))+δ(i_1, j, (A(i, j)⋅x(i)⋅_K)))))"
      ]
     },
     "execution_count": 96,
     "metadata": {},
     "output_type": "execute_result"
    }
   ],
   "source": [
    "n = neighbors(fc(fc(p))) "
   ]
  },
  {
   "cell_type": "code",
   "execution_count": 97,
   "id": "c49d2392",
   "metadata": {},
   "outputs": [
    {
     "data": {
      "text/plain": [
       "(∑((i), (A(i, i_1)⋅x(i)))⋅_K⋅2);\n",
       "(∑((i), (A(i_1, i)⋅x(i)))⋅_K⋅2)"
      ]
     },
     "execution_count": 97,
     "metadata": {},
     "output_type": "execute_result"
    }
   ],
   "source": [
    "n = spanning_tree!(fc(fc(evaluate(p)))) |> last"
   ]
  },
  {
   "cell_type": "code",
   "execution_count": 98,
   "id": "a1931335",
   "metadata": {},
   "outputs": [
    {
     "ename": "LoadError",
     "evalue": "Must have one label per node (or none)",
     "output_type": "error",
     "traceback": [
      "Must have one label per node (or none)",
      "",
      "Stacktrace:",
      " [1] error(s::String)",
      "   @ Base ./error.jl:35",
      " [2] gplot(g::Graphs.SimpleGraphs.SimpleDiGraph{Int64}, locs_x_in::Vector{Float64}, locs_y_in::Vector{Float64}; nodelabel::Vector{String}, nodelabelc::ColorTypes.RGB{FixedPointNumbers.N0f8}, nodelabelsize::Float64, NODELABELSIZE::Float64, nodelabeldist::Float64, nodelabelangleoffset::Float64, edgelabel::Vector{Any}, edgelabelc::ColorTypes.RGB{FixedPointNumbers.N0f8}, edgelabelsize::Float64, EDGELABELSIZE::Float64, edgestrokec::ColorTypes.RGB{FixedPointNumbers.N0f8}, edgelinewidth::Float64, EDGELINEWIDTH::Float64, edgelabeldistx::Float64, edgelabeldisty::Float64, nodesize::Vector{Int64}, NODESIZE::Float64, nodefillc::ColorTypes.RGB{FixedPointNumbers.N0f8}, nodestrokec::Nothing, nodestrokelw::Float64, arrowlengthfrac::Float64, arrowangleoffset::Float64, linetype::String, outangle::Float64)",
      "   @ GraphPlot ~/.julia/packages/GraphPlot/HXIna/src/plot.jl:119",
      " [3] gplothtml(g::Graphs.SimpleGraphs.SimpleDiGraph{Int64}; layout::typeof(GraphPlot.spring_layout), keyargs::Base.Pairs{Symbol, Vector, Tuple{Symbol, Symbol}, NamedTuple{(:nodesize, :nodelabel), Tuple{Vector{Int64}, Vector{String}}}})",
      "   @ GraphPlot ~/.julia/packages/GraphPlot/HXIna/src/plot.jl:251",
      " [4] visualize(g::PCTGraph)",
      "   @ PCT ~/kaer_morhen/projects/QLD/PCT/src/graph.jl:120",
      " [5] top-level scope",
      "   @ In[98]:1",
      " [6] eval",
      "   @ ./boot.jl:368 [inlined]",
      " [7] include_string(mapexpr::typeof(REPL.softscope), mod::Module, code::String, filename::String)",
      "   @ Base ./loading.jl:1428"
     ]
    }
   ],
   "source": [
    "visualize(n)"
   ]
  },
  {
   "cell_type": "code",
   "execution_count": null,
   "id": "0bfb8e5f",
   "metadata": {},
   "outputs": [],
   "source": []
  }
 ],
 "metadata": {
  "kernelspec": {
   "display_name": "PCT 1.8.5",
   "language": "julia",
   "name": "pct-1.8"
  },
  "language_info": {
   "file_extension": ".jl",
   "mimetype": "application/julia",
   "name": "julia",
   "version": "1.8.5"
  }
 },
 "nbformat": 4,
 "nbformat_minor": 5
}
