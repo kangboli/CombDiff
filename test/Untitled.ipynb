{
 "cells": [
  {
   "cell_type": "code",
   "execution_count": 1,
   "id": "19b4f8d3",
   "metadata": {},
   "outputs": [
    {
     "name": "stderr",
     "output_type": "stream",
     "text": [
      "┌ Info: Precompiling PCT [ef708a43-c8a3-43f4-8f65-1f04ee4c5bb0]\n",
      "└ @ Base loading.jl:1664\n"
     ]
    }
   ],
   "source": [
    "using PCT"
   ]
  },
  {
   "cell_type": "code",
   "execution_count": 2,
   "id": "1f58bbc8",
   "metadata": {},
   "outputs": [
    {
     "data": {
      "text/plain": [
       "𝒫((x) -> \n",
       "    ∑((i), x(i)*x(i)))"
      ]
     },
     "execution_count": 2,
     "metadata": {},
     "output_type": "execute_result"
    }
   ],
   "source": [
    "f = @pct begin\n",
    "@space begin\n",
    "    name=M\n",
    "    type=(I, I) -> R\n",
    "    symmetries=((1,2),)\n",
    "end\n",
    "@space begin\n",
    "    name=V\n",
    "    type=(I,) -> R\n",
    "end\n",
    "\n",
    "# (y::V) -> (j::I) -> ((x(i)::V) -> x(i))(y(j))\n",
    "# (y::V) -> (j::I) -> pullback((x(i)::V) -> x(j) * y(j))\n",
    "# pullback((x::R) -> x * x + x)\n",
    "pullback((x::V) -> sum((i), x(i) * x(i)))\n",
    "end"
   ]
  },
  {
   "cell_type": "code",
   "execution_count": 3,
   "id": "b9f2dbdb",
   "metadata": {},
   "outputs": [
    {
     "data": {
      "text/latex": [
       "$\\mathcal{P}\\left(x \\to \\sum_{i}\\left(x_{i}\\cdot x_{i}\\right)\\right)$"
      ],
      "text/plain": [
       "𝒫((x) -> \n",
       "    ∑((i), x(i)*x(i)))"
      ]
     },
     "execution_count": 3,
     "metadata": {},
     "output_type": "execute_result"
    }
   ],
   "source": [
    "f = inference(f)"
   ]
  },
  {
   "cell_type": "code",
   "execution_count": 4,
   "id": "a83adb8c",
   "metadata": {},
   "outputs": [
    {
     "data": {
      "text/latex": [
       "$\\mathcal{P}\\left(x \\to \\sum_{i}\\left(x_{i}\\cdot x_{i}\\right)\\right)$"
      ],
      "text/plain": [
       "𝒫((x) -> \n",
       "    ∑((i), x(i)*x(i)))"
      ]
     },
     "execution_count": 4,
     "metadata": {},
     "output_type": "execute_result"
    }
   ],
   "source": [
    "e_f = evaluate(f)"
   ]
  },
  {
   "cell_type": "code",
   "execution_count": 5,
   "id": "612f7f6f",
   "metadata": {},
   "outputs": [
    {
     "name": "stdout",
     "output_type": "stream",
     "text": [
      "Pullback((x::[I->R]->\n",
      "    ∑((i::I),\n",
      "        (*\n",
      "            x::[I->R](i::I)::R,\n",
      "            x::[I->R](i::I)::R\n",
      "        )::R\n",
      "    )::R\n",
      "::[[I->R]->R])::[[I->R]×R->[I->R]]\n"
     ]
    }
   ],
   "source": [
    "println(verbose(e_f))"
   ]
  },
  {
   "cell_type": "code",
   "execution_count": 11,
   "id": "8264dced",
   "metadata": {
    "scrolled": true
   },
   "outputs": [
    {
     "data": {
      "text/latex": [
       "$\\left(x, 𝒦\\right) \\to i_1 \\to \\left(\\left(x_{i_1}, 𝒦\\right) \\to \\sum_{i}\\left(\\left(\\left(x_{i_1}, 𝒦\\right) \\to \\left(\\left(x_{i_1}, 𝒦\\right) \\to \\delta_{i}^{i_1}𝒦\\right)\\left(x_{i_1}, x_{i}\\cdot 𝒦\\right)+\\left(\\left(x_{i_1}, 𝒦\\right) \\to \\delta_{i}^{i_1}𝒦\\right)\\left(x_{i_1}, x_{i}\\cdot 𝒦\\right)\\right)\\left(x_{i_1}, 𝒦\\right)\\right)\\right)\\left(x_{i_1}, 𝒦\\right)$"
      ],
      "text/plain": [
       "(x, 𝒦) -> \n",
       "    (i_1) -> \n",
       "        ((x(i_1), 𝒦) -> \n",
       "            ∑((i), ((x(i_1), 𝒦) -> \n",
       "                ((x(i_1), 𝒦) -> \n",
       "                    δ(i_1, i, 𝒦))(x(i_1), x(i)*𝒦)+((x(i_1), 𝒦) -> \n",
       "                    δ(i_1, i, 𝒦))(x(i_1), x(i)*𝒦))(x(i_1), 𝒦)))(x(i_1), 𝒦)"
      ]
     },
     "execution_count": 11,
     "metadata": {},
     "output_type": "execute_result"
    }
   ],
   "source": [
    "p = evaluate_pullback(e_f)"
   ]
  },
  {
   "cell_type": "code",
   "execution_count": 16,
   "id": "5b649d5a",
   "metadata": {},
   "outputs": [
    {
     "data": {
      "text/latex": [
       "$\\left(x, 𝒦\\right) \\to i_1 \\to \\sum_{i}\\left((\\delta_{i}^{i_1}x_{i}\\cdot 𝒦+\\delta_{i}^{i_1}x_{i}\\cdot 𝒦)\\right)$"
      ],
      "text/plain": [
       "(x, 𝒦) -> \n",
       "    (i_1) -> \n",
       "        ∑((i), (δ(i_1, i, x(i)*𝒦)+δ(i_1, i, x(i)*𝒦)))"
      ]
     },
     "execution_count": 16,
     "metadata": {},
     "output_type": "execute_result"
    }
   ],
   "source": [
    "evaluate(p)"
   ]
  },
  {
   "cell_type": "code",
   "execution_count": null,
   "id": "dfda270d",
   "metadata": {},
   "outputs": [],
   "source": []
  }
 ],
 "metadata": {
  "kernelspec": {
   "display_name": "PCT 1.8.5",
   "language": "julia",
   "name": "pct-1.8"
  },
  "language_info": {
   "file_extension": ".jl",
   "mimetype": "application/julia",
   "name": "julia",
   "version": "1.8.5"
  }
 },
 "nbformat": 4,
 "nbformat_minor": 5
}
