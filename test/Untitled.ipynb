{
 "cells": [
  {
   "cell_type": "code",
   "execution_count": 32,
   "id": "19b4f8d3",
   "metadata": {},
   "outputs": [],
   "source": [
    "using PCT"
   ]
  },
  {
   "cell_type": "code",
   "execution_count": 33,
   "id": "1f58bbc8",
   "metadata": {},
   "outputs": [
    {
     "data": {
      "text/plain": [
       "𝒫((x) -> \n",
       "    ∑((i), x(i)*x(i)))"
      ]
     },
     "execution_count": 33,
     "metadata": {},
     "output_type": "execute_result"
    }
   ],
   "source": [
    "f = @pct begin\n",
    "@space begin\n",
    "    name=M\n",
    "    type=(I, I) -> R\n",
    "    symmetries=((1,2),)\n",
    "end\n",
    "@space begin\n",
    "    name=V\n",
    "    type=(I,) -> R\n",
    "end\n",
    "\n",
    "# (y::V) -> (j::I) -> ((x(i)::V) -> x(i))(y(j))\n",
    "# (y::V) -> (j::I) -> pullback((x(i)::V) -> x(j) * y(j))\n",
    "# pullback((x::R) -> x * x + x)\n",
    "pullback((x::V) -> sum((i), x(i) * x(i)))\n",
    "end"
   ]
  },
  {
   "cell_type": "code",
   "execution_count": 34,
   "id": "b9f2dbdb",
   "metadata": {},
   "outputs": [
    {
     "data": {
      "text/latex": [
       "$\\mathcal{P}\\left(x \\to \\sum_{i}\\left(x_{i}\\cdot x_{i}\\right)\\right)$"
      ],
      "text/plain": [
       "𝒫((x) -> \n",
       "    ∑((i), x(i)*x(i)))"
      ]
     },
     "execution_count": 34,
     "metadata": {},
     "output_type": "execute_result"
    }
   ],
   "source": [
    "f = inference(f)"
   ]
  },
  {
   "cell_type": "code",
   "execution_count": 35,
   "id": "a83adb8c",
   "metadata": {},
   "outputs": [
    {
     "data": {
      "text/latex": [
       "$\\mathcal{P}\\left(x \\to \\sum_{i}\\left(x_{i}\\cdot x_{i}\\right)\\right)$"
      ],
      "text/plain": [
       "𝒫((x) -> \n",
       "    ∑((i), x(i)*x(i)))"
      ]
     },
     "execution_count": 35,
     "metadata": {},
     "output_type": "execute_result"
    }
   ],
   "source": [
    "e_f = evaluate(f)"
   ]
  },
  {
   "cell_type": "code",
   "execution_count": 36,
   "id": "612f7f6f",
   "metadata": {},
   "outputs": [
    {
     "name": "stdout",
     "output_type": "stream",
     "text": [
      "Pullback((x::[I->R]->\n",
      "    ∑((i::I),\n",
      "        (*\n",
      "            x::[I->R](i::I)::R,\n",
      "            x::[I->R](i::I)::R\n",
      "        )::R\n",
      "    )::R\n",
      "::[[I->R]->R])::[[I->R]×R->[I->R]]\n"
     ]
    }
   ],
   "source": [
    "println(verbose(e_f))"
   ]
  },
  {
   "cell_type": "code",
   "execution_count": 37,
   "id": "8264dced",
   "metadata": {
    "scrolled": true
   },
   "outputs": [
    {
     "data": {
      "text/latex": [
       "$\\left(x, 𝒦\\right) \\to i_1 \\to \\left(\\left(x_{i_1}, 𝒦\\right) \\to \\sum_{i}\\left(\\left(\\left(x_{i_1}, 𝒦\\right) \\to (\\left(\\left(x_{i_1}, 𝒦\\right) \\to \\delta_{i}^{i_1}𝒦\\right)\\left(x_{i_1}, x_{i}\\cdot 𝒦\\right)+\\left(\\left(x_{i_1}, 𝒦\\right) \\to \\delta_{i}^{i_1}𝒦\\right)\\left(x_{i_1}, x_{i}\\cdot 𝒦\\right))\\right)\\left(x_{i_1}, 𝒦\\right)\\right)\\right)\\left(x_{i_1}, 𝒦\\right)$"
      ],
      "text/plain": [
       "(x, 𝒦) -> \n",
       "    (i_1) -> \n",
       "        ((x(i_1), 𝒦) -> \n",
       "            ∑((i), ((x(i_1), 𝒦) -> \n",
       "                (((x(i_1), 𝒦) -> \n",
       "                    δ(i_1, i, 𝒦))(x(i_1), x(i)*𝒦)+((x(i_1), 𝒦) -> \n",
       "                    δ(i_1, i, 𝒦))(x(i_1), x(i)*𝒦)))(x(i_1), 𝒦)))(x(i_1), 𝒦)"
      ]
     },
     "execution_count": 37,
     "metadata": {},
     "output_type": "execute_result"
    }
   ],
   "source": [
    "p = evaluate_pullback(e_f)"
   ]
  },
  {
   "cell_type": "code",
   "execution_count": 39,
   "id": "a4692a6d",
   "metadata": {},
   "outputs": [
    {
     "data": {
      "text/latex": [
       "$\\left(x, 𝒦\\right) \\to i_1 \\to \\sum_{i}\\left((\\delta_{i}^{i_1}x_{i}\\cdot 𝒦+\\delta_{i}^{i_1}x_{i}\\cdot 𝒦)\\right)$"
      ],
      "text/plain": [
       "(x, 𝒦) -> \n",
       "    (i_1) -> \n",
       "        ∑((i), (δ(i_1, i, x(i)*𝒦)+δ(i_1, i, x(i)*𝒦)))"
      ]
     },
     "execution_count": 39,
     "metadata": {},
     "output_type": "execute_result"
    }
   ],
   "source": [
    "e_p = evaluate(p)"
   ]
  },
  {
   "cell_type": "code",
   "execution_count": 42,
   "id": "a2b48fe2",
   "metadata": {},
   "outputs": [
    {
     "data": {
      "text/latex": [
       "$\\left(x, 𝒦\\right) \\to i_1 \\to (x_{i_1}\\cdot 𝒦+x_{i_1}\\cdot 𝒦)$"
      ],
      "text/plain": [
       "(x, 𝒦) -> \n",
       "    (i_1) -> \n",
       "        (x(i_1)*𝒦+x(i_1)*𝒦)"
      ]
     },
     "execution_count": 42,
     "metadata": {},
     "output_type": "execute_result"
    }
   ],
   "source": [
    " minimize_node!(e_p)"
   ]
  },
  {
   "cell_type": "code",
   "execution_count": 43,
   "id": "d27b1d27",
   "metadata": {},
   "outputs": [
    {
     "name": "stdout",
     "output_type": "stream",
     "text": [
      "Expr\n",
      "  head: Symbol tuple\n",
      "  args: Array{Any}((3,))\n",
      "    1: Symbol a\n",
      "    2: Symbol b\n",
      "    3: Symbol c\n"
     ]
    }
   ],
   "source": [
    "Meta.dump(Meta.parse(\"(a, b, c)\"))"
   ]
  },
  {
   "cell_type": "code",
   "execution_count": 49,
   "id": "49252f34",
   "metadata": {},
   "outputs": [
    {
     "name": "stdout",
     "output_type": "stream",
     "text": [
      "Expr\n",
      "  head: Symbol macrocall\n",
      "  args: Array{Any}((3,))\n",
      "    1: Symbol @domain\n",
      "    2: LineNumberNode\n",
      "      line: Int64 2\n",
      "      file: Symbol none\n",
      "    3: Expr\n",
      "      head: Symbol block\n",
      "      args: Array{Any}((8,))\n",
      "        1: LineNumberNode\n",
      "          line: Int64 3\n",
      "          file: Symbol none\n",
      "        2: Expr\n",
      "          head: Symbol =\n",
      "          args: Array{Any}((2,))\n",
      "            1: Symbol name\n",
      "            2: Symbol M\n",
      "        3: LineNumberNode\n",
      "          line: Int64 4\n",
      "          file: Symbol none\n",
      "        4: Expr\n",
      "          head: Symbol =\n",
      "          args: Array{Any}((2,))\n",
      "            1: Symbol base\n",
      "            2: Symbol I\n",
      "        5: LineNumberNode\n",
      "          line: Int64 5\n",
      "          file: Symbol none\n",
      "        6: Expr\n",
      "          head: Symbol =\n",
      "          args: Array{Any}((2,))\n",
      "            1: Symbol lower\n",
      "            2: Symbol N\n",
      "        7: LineNumberNode\n",
      "          line: Int64 6\n",
      "          file: Symbol none\n",
      "        8: Expr\n",
      "          head: Symbol =\n",
      "          args: Array{Any}((2,))\n",
      "            1: Symbol upper\n",
      "            2: Symbol N\n"
     ]
    }
   ],
   "source": [
    "Meta.dump(Meta.parse(\n",
    "    \"\n",
    "@range begin\n",
    "    name=M\n",
    "    base=I\n",
    "    lower=N\n",
    "    upper=N\n",
    "end\"), maxdepth=20)"
   ]
  },
  {
   "cell_type": "code",
   "execution_count": 23,
   "id": "41db6cf4",
   "metadata": {},
   "outputs": [
    {
     "data": {
      "text/latex": [
       "$x \\to (x+1)$"
      ],
      "text/plain": [
       "(x) -> \n",
       "    (x+1)"
      ]
     },
     "execution_count": 23,
     "metadata": {},
     "output_type": "execute_result"
    }
   ],
   "source": [
    "using PCT\n",
    "f = @pct begin\n",
    "@range begin\n",
    "    name=M\n",
    "    base=I\n",
    "    lower=-N\n",
    "    upper=N\n",
    "end\n",
    "    \n",
    "(x::M) -> x+1\n",
    "end "
   ]
  },
  {
   "cell_type": "code",
   "execution_count": 24,
   "id": "f004dd98",
   "metadata": {},
   "outputs": [
    {
     "name": "stdout",
     "output_type": "stream",
     "text": [
      "(x::M->\n",
      "    (+\n",
      "        x::M,\n",
      "        1::I\n",
      "    )::I\n",
      "::[M->I]\n"
     ]
    }
   ],
   "source": [
    "println(verbose(inference(f)))\n"
   ]
  },
  {
   "cell_type": "code",
   "execution_count": null,
   "id": "9171e5da",
   "metadata": {},
   "outputs": [],
   "source": []
  }
 ],
 "metadata": {
  "kernelspec": {
   "display_name": "PCT 1.8.5",
   "language": "julia",
   "name": "pct-1.8"
  },
  "language_info": {
   "file_extension": ".jl",
   "mimetype": "application/julia",
   "name": "julia",
   "version": "1.8.5"
  }
 },
 "nbformat": 4,
 "nbformat_minor": 5
}
