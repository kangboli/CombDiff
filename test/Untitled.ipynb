{
 "cells": [
  {
   "cell_type": "code",
   "execution_count": 1,
   "id": "19b4f8d3",
   "metadata": {},
   "outputs": [
    {
     "name": "stderr",
     "output_type": "stream",
     "text": [
      "┌ Info: Precompiling PCT [ef708a43-c8a3-43f4-8f65-1f04ee4c5bb0]\n",
      "└ @ Base loading.jl:1664\n"
     ]
    }
   ],
   "source": [
    "using PCT"
   ]
  },
  {
   "cell_type": "code",
   "execution_count": 18,
   "id": "1f58bbc8",
   "metadata": {},
   "outputs": [
    {
     "data": {
      "text/plain": [
       "𝒫((x) -> \n",
       "    ∑((i), ∑((j), x(i)*x(i))))"
      ]
     },
     "execution_count": 18,
     "metadata": {},
     "output_type": "execute_result"
    }
   ],
   "source": [
    "f = @pct begin\n",
    "\n",
    "@domain begin\n",
    "    name=Na\n",
    "    base=I\n",
    "    lower=-N\n",
    "    upper=N\n",
    "end\n",
    "\n",
    "@space begin\n",
    "    name=M\n",
    "    type=(I, I) -> R\n",
    "    symmetries=((1,2),)\n",
    "end\n",
    "@space begin\n",
    "    name=V\n",
    "    type=(I,) -> R\n",
    "end\n",
    "\n",
    "# (y::V) -> (j::I) -> ((x(i)::V) -> x(i))(y(j))\n",
    "# (y::V) -> (j::I) -> pullback((x(i)::V) -> x(j) * y(j))\n",
    "# pullback((x::R) -> x * x + x)\n",
    "pullback((x::V) -> sum((i::Na,j::Na), x(i) * x(i)))\n",
    "end"
   ]
  },
  {
   "cell_type": "code",
   "execution_count": 17,
   "id": "73c57595",
   "metadata": {},
   "outputs": [
    {
     "data": {
      "text/plain": [
       "quote\n",
       "    \u001b[90m#= /Users/likangbo/kaer_morhen/projects/QLD/PCT/src/syntax.jl:10 =#\u001b[39m\n",
       "    make_node!(Pullback, make_node!(Map, make_node!(PCTVector, make_node!(Var, :x, type = V)), make_node!(Sum, make_node!(Var, :i), make_node!(Var, :j, type = Na), make_node!(Mul, make_node!(PCTVector, make_node!(PrimitiveCall, make_node!(Var, :x), make_node!(PCTVector, make_node!(Var, :i))), make_node!(PrimitiveCall, make_node!(Var, :x), make_node!(PCTVector, make_node!(Var, :i))))))))\n",
       "end"
      ]
     },
     "execution_count": 17,
     "metadata": {},
     "output_type": "execute_result"
    }
   ],
   "source": [
    "@macroexpand @pct begin\n",
    "    pullback((x::V) -> sum((i,j::Na), x(i) * x(i)))\n",
    "end"
   ]
  },
  {
   "cell_type": "code",
   "execution_count": 19,
   "id": "b9f2dbdb",
   "metadata": {},
   "outputs": [
    {
     "data": {
      "text/latex": [
       "$\\mathcal{P}\\left(x \\to \\sum_{i,j}\\left[x_{i}\\cdot x_{i}\\right]\\right)$"
      ],
      "text/plain": [
       "𝒫((x) -> \n",
       "    ∑((i), ∑((j), x(i)*x(i))))"
      ]
     },
     "execution_count": 19,
     "metadata": {},
     "output_type": "execute_result"
    }
   ],
   "source": [
    "f = inference(f)"
   ]
  },
  {
   "cell_type": "code",
   "execution_count": 20,
   "id": "a83adb8c",
   "metadata": {},
   "outputs": [
    {
     "data": {
      "text/latex": [
       "$\\mathcal{P}\\left(x \\to \\sum_{i,j}\\left[x_{i}\\cdot x_{i}\\right]\\right)$"
      ],
      "text/plain": [
       "𝒫((x) -> \n",
       "    ∑((i), ∑((j), x(i)*x(i))))"
      ]
     },
     "execution_count": 20,
     "metadata": {},
     "output_type": "execute_result"
    }
   ],
   "source": [
    "e_f = evaluate(f)"
   ]
  },
  {
   "cell_type": "code",
   "execution_count": 21,
   "id": "612f7f6f",
   "metadata": {},
   "outputs": [
    {
     "name": "stdout",
     "output_type": "stream",
     "text": [
      "Pullback((x::[I->R]->\n",
      "    ∑((i::Na),\n",
      "        ∑((j::Na),\n",
      "            (*\n",
      "                x::[I->R](i::Na)::R,\n",
      "                x::[I->R](i::Na)::R\n",
      "            )::R\n",
      "        )::R\n",
      "    )::R\n",
      "::[[I->R]->R])::[[I->R]×R->[I->R]]\n"
     ]
    }
   ],
   "source": [
    "println(verbose(e_f))"
   ]
  },
  {
   "cell_type": "code",
   "execution_count": 23,
   "id": "8264dced",
   "metadata": {
    "scrolled": true
   },
   "outputs": [
    {
     "data": {
      "text/latex": [
       "$\\left(x, 𝒦\\right) \\to i_1 \\to \\left(\\left(x_{i_1}, 𝒦\\right) \\to \\sum_{i}\\left[\\left(\\left(x_{i_1}, 𝒦\\right) \\to \\sum_{j}\\left[\\left(\\left(x_{i_1}, 𝒦\\right) \\to (\\left(\\left(x_{i_1}, 𝒦\\right) \\to \\delta_{i}^{i_1}𝒦\\right)\\left(x_{i_1}, x_{i}\\cdot 𝒦\\right)+\\left(\\left(x_{i_1}, 𝒦\\right) \\to \\delta_{i}^{i_1}𝒦\\right)\\left(x_{i_1}, x_{i}\\cdot 𝒦\\right))\\right)\\left(x_{i_1}, 𝒦\\right)\\right]\\right)\\left(x_{i_1}, 𝒦\\right)\\right]\\right)\\left(x_{i_1}, 𝒦\\right)$"
      ],
      "text/plain": [
       "(x, 𝒦) -> \n",
       "    (i_1) -> \n",
       "        ((x(i_1), 𝒦) -> \n",
       "            ∑((i), ((x(i_1), 𝒦) -> \n",
       "                ∑((j), ((x(i_1), 𝒦) -> \n",
       "                    (((x(i_1), 𝒦) -> \n",
       "                        δ(i_1, i, 𝒦))(x(i_1), x(i)*𝒦)+((x(i_1), 𝒦) -> \n",
       "                        δ(i_1, i, 𝒦))(x(i_1), x(i)*𝒦)))(x(i_1), 𝒦)))(x(i_1), 𝒦)))(x(i_1), 𝒦)"
      ]
     },
     "execution_count": 23,
     "metadata": {},
     "output_type": "execute_result"
    }
   ],
   "source": [
    "p = evaluate_pullback(e_f)"
   ]
  },
  {
   "cell_type": "code",
   "execution_count": 24,
   "id": "2c6a3c0d",
   "metadata": {},
   "outputs": [
    {
     "data": {
      "text/latex": [
       "$\\left(x, 𝒦\\right) \\to i_1 \\to \\sum_{i,j}\\left[(\\delta_{i}^{i_1}x_{i}\\cdot 𝒦+\\delta_{i}^{i_1}x_{i}\\cdot 𝒦)\\right]$"
      ],
      "text/plain": [
       "(x, 𝒦) -> \n",
       "    (i_1) -> \n",
       "        ∑((i), ∑((j), (δ(i_1, i, x(i)*𝒦)+δ(i_1, i, x(i)*𝒦))))"
      ]
     },
     "execution_count": 24,
     "metadata": {},
     "output_type": "execute_result"
    }
   ],
   "source": [
    "e_p = evaluate(p)"
   ]
  },
  {
   "cell_type": "code",
   "execution_count": 26,
   "id": "0a395d8e",
   "metadata": {},
   "outputs": [
    {
     "name": "stdout",
     "output_type": "stream",
     "text": [
      "(x::[I->R], 𝒦::R->\n",
      "    (i_1::I->\n",
      "        ∑((i::I),\n",
      "            ∑((j::I),\n",
      "                (+\n",
      "                    δ(i_1::I, i::I,\n",
      "                        (*\n",
      "                            x::[I->R](i::I)::R,\n",
      "                            𝒦::R\n",
      "                        )::R)::R,\n",
      "                    δ(i_1::I, i::I,\n",
      "                        (*\n",
      "                            x::[I->R](i::I)::R,\n",
      "                            𝒦::R\n",
      "                        )::R)::R\n",
      "                )::R\n",
      "            )::R\n",
      "        )::R\n",
      "    ::[I->R]\n",
      "::[[I->R]×R->[I->R]]\n"
     ]
    }
   ],
   "source": [
    "println(verbose(e_p))"
   ]
  },
  {
   "cell_type": "code",
   "execution_count": 25,
   "id": "c9282cbf",
   "metadata": {},
   "outputs": [
    {
     "data": {
      "text/latex": [
       "$\\left(x, 𝒦\\right) \\to i_1 \\to \\sum_{j}\\left[(x_{i_1}\\cdot 𝒦+x_{i_1}\\cdot 𝒦)\\right]$"
      ],
      "text/plain": [
       "(x, 𝒦) -> \n",
       "    (i_1) -> \n",
       "        ∑((j), (x(i_1)*𝒦+x(i_1)*𝒦))"
      ]
     },
     "execution_count": 25,
     "metadata": {},
     "output_type": "execute_result"
    }
   ],
   "source": [
    " delta_reduce(e_p)"
   ]
  },
  {
   "cell_type": "code",
   "execution_count": 49,
   "id": "1e2842c3",
   "metadata": {},
   "outputs": [
    {
     "name": "stdout",
     "output_type": "stream",
     "text": [
      "Expr\n",
      "  head: Symbol macrocall\n",
      "  args: Array{Any}((3,))\n",
      "    1: Symbol @domain\n",
      "    2: LineNumberNode\n",
      "      line: Int64 2\n",
      "      file: Symbol none\n",
      "    3: Expr\n",
      "      head: Symbol block\n",
      "      args: Array{Any}((8,))\n",
      "        1: LineNumberNode\n",
      "          line: Int64 3\n",
      "          file: Symbol none\n",
      "        2: Expr\n",
      "          head: Symbol =\n",
      "          args: Array{Any}((2,))\n",
      "            1: Symbol name\n",
      "            2: Symbol M\n",
      "        3: LineNumberNode\n",
      "          line: Int64 4\n",
      "          file: Symbol none\n",
      "        4: Expr\n",
      "          head: Symbol =\n",
      "          args: Array{Any}((2,))\n",
      "            1: Symbol base\n",
      "            2: Symbol I\n",
      "        5: LineNumberNode\n",
      "          line: Int64 5\n",
      "          file: Symbol none\n",
      "        6: Expr\n",
      "          head: Symbol =\n",
      "          args: Array{Any}((2,))\n",
      "            1: Symbol lower\n",
      "            2: Symbol N\n",
      "        7: LineNumberNode\n",
      "          line: Int64 6\n",
      "          file: Symbol none\n",
      "        8: Expr\n",
      "          head: Symbol =\n",
      "          args: Array{Any}((2,))\n",
      "            1: Symbol upper\n",
      "            2: Symbol N\n"
     ]
    }
   ],
   "source": [
    "Meta.dump(Meta.parse(\n",
    "    \"\n",
    "@range begin\n",
    "    name=M\n",
    "    base=I\n",
    "    lower=N\n",
    "    upper=N\n",
    "end\"), maxdepth=20)"
   ]
  },
  {
   "cell_type": "code",
   "execution_count": 26,
   "id": "1870dd0a",
   "metadata": {},
   "outputs": [
    {
     "data": {
      "text/latex": [
       "$x \\to (x+1)$"
      ],
      "text/plain": [
       "(x) -> \n",
       "    (x+1)"
      ]
     },
     "execution_count": 26,
     "metadata": {},
     "output_type": "execute_result"
    }
   ],
   "source": [
    "using PCT\n",
    "f = @pct begin\n",
    "@domain begin\n",
    "    name=M\n",
    "    base=I\n",
    "    lower=-N\n",
    "    upper=N\n",
    "end\n",
    "    \n",
    "(x::M) -> x+1\n",
    "end "
   ]
  },
  {
   "cell_type": "code",
   "execution_count": 148,
   "id": "c61279fb",
   "metadata": {},
   "outputs": [
    {
     "data": {
      "text/plain": [
       "(A) -> \n",
       "    (i, j) -> \n",
       "        (A(i, j)+A(j, i))"
      ]
     },
     "execution_count": 148,
     "metadata": {},
     "output_type": "execute_result"
    }
   ],
   "source": [
    "f = @pct begin\n",
    "@space begin\n",
    "    name=M\n",
    "    type=(I, I) -> R\n",
    "    symmetries=(((2,1),:id),)\n",
    "end\n",
    "\n",
    "        \n",
    "(A::M) -> (i::I, j::I) -> A(i, j) + A(j, i)\n",
    "end"
   ]
  },
  {
   "cell_type": "code",
   "execution_count": 149,
   "id": "5c30ecdf",
   "metadata": {},
   "outputs": [
    {
     "data": {
      "text/latex": [
       "$A \\to \\left(i, j\\right) \\to (A_{i, j}+A_{j, i})$"
      ],
      "text/plain": [
       "(A) -> \n",
       "    (i, j) -> \n",
       "        (A(i, j)+A(j, i))"
      ]
     },
     "execution_count": 149,
     "metadata": {},
     "output_type": "execute_result"
    }
   ],
   "source": [
    "f = inference(f)"
   ]
  },
  {
   "cell_type": "code",
   "execution_count": 150,
   "id": "e971f899",
   "metadata": {},
   "outputs": [
    {
     "name": "stdout",
     "output_type": "stream",
     "text": [
      "(+\n",
      "    A::[I×I->R](i::I, j::I)::R,\n",
      "    A::[I×I->R](j::I, i::I)::R\n",
      ")::R\n"
     ]
    }
   ],
   "source": [
    "println(verbose(fc(fc(f))))"
   ]
  },
  {
   "cell_type": "code",
   "execution_count": 151,
   "id": "16e18668",
   "metadata": {},
   "outputs": [
    {
     "data": {
      "text/latex": [
       "$(A_{i, j}+A_{i, j})$"
      ],
      "text/plain": [
       "(A(i, j)+A(i, j))"
      ]
     },
     "execution_count": 151,
     "metadata": {},
     "output_type": "execute_result"
    }
   ],
   "source": [
    "last(neighbors(fc(fc(f))).nodes)"
   ]
  },
  {
   "cell_type": "code",
   "execution_count": 152,
   "id": "17cc9a45",
   "metadata": {},
   "outputs": [
    {
     "data": {
      "text/plain": [
       "(A(j, i)+A(i, j))\n",
       "(A(i, j)+A(j, i))\n",
       "(A(i, j)*(1+1))"
      ]
     },
     "execution_count": 152,
     "metadata": {},
     "output_type": "execute_result"
    }
   ],
   "source": [
    "neighbors(last(neighbors(fc(fc(f))).nodes))"
   ]
  },
  {
   "cell_type": "code",
   "execution_count": 58,
   "id": "a7a41157",
   "metadata": {},
   "outputs": [
    {
     "data": {
      "text/latex": [
       "$i, j$"
      ],
      "text/plain": [
       "i, j"
      ]
     },
     "execution_count": 58,
     "metadata": {},
     "output_type": "execute_result"
    }
   ],
   "source": [
    "v = make_node!(PCTVector, make_node!(Var, :i), make_node!(Var, :j))"
   ]
  },
  {
   "cell_type": "code",
   "execution_count": 59,
   "id": "bf3472a1",
   "metadata": {},
   "outputs": [
    {
     "data": {
      "text/latex": [
       "$i$"
      ],
      "text/plain": [
       "i"
      ]
     },
     "execution_count": 59,
     "metadata": {},
     "output_type": "execute_result"
    }
   ],
   "source": [
    "v[1]"
   ]
  },
  {
   "cell_type": "code",
   "execution_count": 82,
   "id": "a4d58fb1",
   "metadata": {},
   "outputs": [
    {
     "data": {
      "text/plain": [
       "PCTVector"
      ]
     },
     "execution_count": 82,
     "metadata": {},
     "output_type": "execute_result"
    }
   ],
   "source": [
    "v[1:2] |> typeof"
   ]
  },
  {
   "cell_type": "code",
   "execution_count": 65,
   "id": "eec30986",
   "metadata": {},
   "outputs": [
    {
     "data": {
      "text/plain": [
       "quote\n",
       "    \u001b[90m#= /Users/likangbo/kaer_morhen/projects/QLD/PCT/src/syntax.jl:10 =#\u001b[39m\n",
       "    M = Domain(I(), mul(make_node!(Constant, -1), make_node!(Var, :N)), make_node!(Var, :N), Dict(:name => :M))\n",
       "end"
      ]
     },
     "execution_count": 65,
     "metadata": {},
     "output_type": "execute_result"
    }
   ],
   "source": [
    "context = @macroexpand @pct begin\n",
    "@domain begin\n",
    "    name=M\n",
    "    base=I\n",
    "    lower=-N\n",
    "    upper=N\n",
    "end\n",
    "end "
   ]
  },
  {
   "cell_type": "code",
   "execution_count": 74,
   "id": "1bf1023b",
   "metadata": {},
   "outputs": [
    {
     "data": {
      "text/latex": [
       "$A \\to A$"
      ],
      "text/plain": [
       "(A) -> \n",
       "    A"
      ]
     },
     "execution_count": 74,
     "metadata": {},
     "output_type": "execute_result"
    }
   ],
   "source": [
    "f = @pct (A::M) -> A context"
   ]
  },
  {
   "cell_type": "code",
   "execution_count": 75,
   "id": "c2ff06de",
   "metadata": {},
   "outputs": [
    {
     "name": "stdout",
     "output_type": "stream",
     "text": [
      "(A::M->\n",
      "    A::M\n",
      "::[M->M]\n"
     ]
    }
   ],
   "source": [
    "println(verbose(inference(f)))"
   ]
  },
  {
   "cell_type": "code",
   "execution_count": 31,
   "id": "3f97b2e4",
   "metadata": {},
   "outputs": [
    {
     "data": {
      "text/plain": [
       "2-element Vector{Int64}:\n",
       " 2\n",
       " 1"
      ]
     },
     "execution_count": 31,
     "metadata": {},
     "output_type": "execute_result"
    }
   ],
   "source": [
    "a = [1,2]\n",
    "a[[2,1]]"
   ]
  },
  {
   "cell_type": "code",
   "execution_count": 146,
   "id": "89297898",
   "metadata": {},
   "outputs": [
    {
     "data": {
      "text/plain": [
       "x*(2)\n",
       "(x*1+x*1)"
      ]
     },
     "execution_count": 146,
     "metadata": {},
     "output_type": "execute_result"
    }
   ],
   "source": [
    "neighbors(mul(make_node!(Var, :x), add(make_node!(Constant, 1), make_node!(Constant, 1))))"
   ]
  },
  {
   "cell_type": "code",
   "execution_count": null,
   "id": "8cf7e5ef",
   "metadata": {},
   "outputs": [],
   "source": []
  },
  {
   "cell_type": "code",
   "execution_count": null,
   "id": "12130fd8",
   "metadata": {},
   "outputs": [],
   "source": []
  }
 ],
 "metadata": {
  "kernelspec": {
   "display_name": "PCT 1.9.3",
   "language": "julia",
   "name": "pct-1.9"
  },
  "language_info": {
   "file_extension": ".jl",
   "mimetype": "application/julia",
   "name": "julia",
   "version": "1.9.3"
  }
 },
 "nbformat": 4,
 "nbformat_minor": 5
}
